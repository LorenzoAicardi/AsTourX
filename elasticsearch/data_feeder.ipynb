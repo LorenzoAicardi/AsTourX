{
 "cells": [
  {
   "cell_type": "code",
   "execution_count": null,
   "metadata": {},
   "outputs": [],
   "source": [
    "import numpy as np\n",
    "from faker import Faker\n",
    "from dotenv import load_dotenv\n",
    "import os\n",
    "load_dotenv();"
   ]
  },
  {
   "cell_type": "code",
   "execution_count": null,
   "metadata": {},
   "outputs": [],
   "source": [
    "faker = Faker(seed=666)\n",
    "np.random.seed(666)"
   ]
  },
  {
   "cell_type": "code",
   "execution_count": null,
   "metadata": {},
   "outputs": [],
   "source": [
    "keywords = [\n",
    "    'archeology',\n",
    "    'museums',\n",
    "    'music',\n",
    "    'art',\n",
    "    'cinema',\n",
    "    'countryside',\n",
    "    'tracking',\n",
    "    'rafting',\n",
    "    'history',\n",
    "    'literature',\n",
    "    'sport',\n",
    "    'food',\n",
    "    'wine',\n",
    "    'beer'\n",
    "]"
   ]
  },
  {
   "cell_type": "code",
   "execution_count": null,
   "metadata": {},
   "outputs": [],
   "source": [
    "def generate_guide():\n",
    "    guide = {}\n",
    "    guide['name'] = faker.first_name() + ' ' + faker.last_name()\n",
    "    guide['birth_date'] = faker.date_of_birth()\n",
    "    guide['now_available'] = bool(np.random.binomial(1, 0.3))\n",
    "    guide['gender'] = np.random.choice(['male', 'female'], size=1).item()\n",
    "    guide['languages_spoken'] = list(np.random.choice(['english', 'italian', 'french', 'spanish', 'deutsche', 'dutch', 'bulgarian', 'chinese'], size=1+np.random.poisson(lam=1, size=1).item(), replace=False))\n",
    "    guide['price'] = int(max(10, np.abs(np.random.normal(30, 5))))\n",
    "    guide['education'] = np.random.choice(['elementary', 'high-school', 'bachelor', 'master', 'phd'], size=1).item()\n",
    "    guide['biography'] = faker.profile()['job']\n",
    "    guide['keywords'] = list(np.random.choice(keywords, size=np.random.poisson(2, size=1).item()))\n",
    "    guide['current_location'] = [float(faker.coordinate(center=40.349159)), float(faker.coordinate(center=18.172073))]\n",
    "    return guide"
   ]
  },
  {
   "cell_type": "code",
   "execution_count": null,
   "metadata": {},
   "outputs": [],
   "source": [
    "generate_guide()"
   ]
  },
  {
   "cell_type": "code",
   "execution_count": null,
   "metadata": {},
   "outputs": [],
   "source": [
    "from datetime import datetime\n",
    "from elasticsearch import Elasticsearch\n",
    "\n",
    "client = Elasticsearch(os.getenv('HOST'), api_key=os.getenv('API_KEY'))"
   ]
  },
  {
   "cell_type": "code",
   "execution_count": null,
   "metadata": {},
   "outputs": [],
   "source": [
    "client.get(index='guides', query={})"
   ]
  },
  {
   "cell_type": "code",
   "execution_count": null,
   "metadata": {},
   "outputs": [],
   "source": [
    "# Feed data\n",
    "client.index(index='guides', body=generate_guide())"
   ]
  }
 ],
 "metadata": {
  "kernelspec": {
   "display_name": "venv",
   "language": "python",
   "name": "python3"
  },
  "language_info": {
   "codemirror_mode": {
    "name": "ipython",
    "version": 3
   },
   "file_extension": ".py",
   "mimetype": "text/x-python",
   "name": "python",
   "nbconvert_exporter": "python",
   "pygments_lexer": "ipython3",
   "version": "3.10.14"
  }
 },
 "nbformat": 4,
 "nbformat_minor": 2
}

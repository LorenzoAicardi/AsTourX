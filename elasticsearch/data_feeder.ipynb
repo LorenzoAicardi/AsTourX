{
 "cells": [
  {
   "cell_type": "code",
   "execution_count": 1,
   "metadata": {},
   "outputs": [],
   "source": [
    "import numpy as np\n",
    "from faker import Faker\n",
    "from dotenv import load_dotenv\n",
    "import os\n",
    "load_dotenv();"
   ]
  },
  {
   "cell_type": "code",
   "execution_count": 2,
   "metadata": {},
   "outputs": [],
   "source": [
    "faker = Faker(seed=666)\n",
    "np.random.seed(666)"
   ]
  },
  {
   "cell_type": "code",
   "execution_count": 3,
   "metadata": {},
   "outputs": [],
   "source": [
    "keywords = [\n",
    "    'archeology',\n",
    "    'museums',\n",
    "    'music',\n",
    "    'art',\n",
    "    'cinema',\n",
    "    'countryside',\n",
    "    'tracking',\n",
    "    'rafting',\n",
    "    'history',\n",
    "    'literature',\n",
    "    'sport',\n",
    "    'food',\n",
    "    'wine',\n",
    "    'beer'\n",
    "]"
   ]
  },
  {
   "cell_type": "code",
   "execution_count": 37,
   "metadata": {},
   "outputs": [],
   "source": [
    "def generate_guide():\n",
    "    guide = {}\n",
    "    guide['gender'] = np.random.choice(['male', 'female'], size=1).item()\n",
    "    guide['name'] = (faker.first_name_male() if guide['gender'] == 'male' else faker.first_name_female()) + ' ' + faker.last_name()\n",
    "    guide['birth_date'] = faker.date_of_birth()\n",
    "    guide['now_available'] = bool(np.random.binomial(1, 0.3))\n",
    "    guide['languages_spoken'] = list(np.random.choice(['english', 'italian', 'french', 'spanish', 'deutsche', 'dutch', 'bulgarian', 'chinese'], size=1+np.random.poisson(lam=1, size=1).item(), replace=False))\n",
    "    guide['price'] = int(max(10, np.abs(np.random.normal(30, 5))))\n",
    "    guide['education'] = np.random.choice(['elementary', 'high-school', 'bachelor', 'master', 'phd'], size=1).item()\n",
    "    guide['biography'] = faker.profile()['job']\n",
    "    guide['keywords'] = list(np.random.choice(keywords, size=np.random.poisson(2, size=1).item()))\n",
    "    guide['current_location'] = {\n",
    "        \"lat\": np.random.normal(40.3524, 0.01),\n",
    "        \"lon\": np.random.normal(18.1732, 0.01)\n",
    "    }\n",
    "    return guide"
   ]
  },
  {
   "cell_type": "code",
   "execution_count": 29,
   "metadata": {},
   "outputs": [
    {
     "data": {
      "text/plain": [
       "{'gender': 'male',\n",
       " 'name': 'Joshua Gonzalez',\n",
       " 'birth_date': datetime.date(1928, 12, 27),\n",
       " 'now_available': False,\n",
       " 'languages_spoken': ['french', 'dutch'],\n",
       " 'price': 27,\n",
       " 'education': 'high-school',\n",
       " 'biography': 'Chiropodist',\n",
       " 'keywords': ['food', 'literature'],\n",
       " 'current_location': {'lat': 40.349934, 'lon': 18.171648}}"
      ]
     },
     "execution_count": 29,
     "metadata": {},
     "output_type": "execute_result"
    }
   ],
   "source": [
    "generate_guide()"
   ]
  },
  {
   "cell_type": "code",
   "execution_count": 12,
   "metadata": {},
   "outputs": [
    {
     "name": "stderr",
     "output_type": "stream",
     "text": [
      "/Users/lorenzobenzoni/Documents/university/projects/MULTIDISCIPLINARY/AsTourX/elasticsearch/venv/lib/python3.10/site-packages/elasticsearch/_sync/client/__init__.py:399: SecurityWarning: Connecting to 'https://localhost:9200' using TLS with verify_certs=False is insecure\n",
      "  _transport = transport_class(\n"
     ]
    }
   ],
   "source": [
    "from datetime import datetime\n",
    "from elasticsearch import Elasticsearch\n",
    "\n",
    "client = Elasticsearch(os.getenv('HOST'), api_key=os.getenv('API_KEY'), verify_certs=False)\n",
    "\n",
    "client.ssl_context = False"
   ]
  },
  {
   "cell_type": "code",
   "execution_count": 16,
   "metadata": {},
   "outputs": [
    {
     "name": "stderr",
     "output_type": "stream",
     "text": [
      "/Users/lorenzobenzoni/Documents/university/projects/MULTIDISCIPLINARY/AsTourX/elasticsearch/venv/lib/python3.10/site-packages/urllib3/connectionpool.py:1103: InsecureRequestWarning: Unverified HTTPS request is being made to host 'localhost'. Adding certificate verification is strongly advised. See: https://urllib3.readthedocs.io/en/latest/advanced-usage.html#tls-warnings\n",
      "  warnings.warn(\n"
     ]
    },
    {
     "data": {
      "text/plain": [
       "ObjectApiResponse({'_index': 'guides', '_id': 'pnjQOY8BESXXNo8oZ-sh', '_version': 1, 'result': 'created', '_shards': {'total': 2, 'successful': 1, 'failed': 0}, '_seq_no': 1, '_primary_term': 1})"
      ]
     },
     "execution_count": 16,
     "metadata": {},
     "output_type": "execute_result"
    }
   ],
   "source": [
    "# Feed data\n",
    "client.index(index='guides', body=generate_guide())"
   ]
  },
  {
   "cell_type": "code",
   "execution_count": null,
   "metadata": {},
   "outputs": [],
   "source": [
    "N = 200\n",
    "\n",
    "for i in range(1, N):\n",
    "    client.index(index='guides', body=generate_guide())\n",
    "    print(f\"Generated {i}/{N} guides\")"
   ]
  },
  {
   "cell_type": "code",
   "execution_count": 66,
   "metadata": {},
   "outputs": [
    {
     "data": {
      "text/plain": [
       "{'location': {'lat': 40.361688261485256, 'lon': 18.187273390487693},\n",
       " 'keywords': ['museums', 'tracking'],\n",
       " 'languages': ['italian']}"
      ]
     },
     "execution_count": 66,
     "metadata": {},
     "output_type": "execute_result"
    }
   ],
   "source": [
    "user = {\n",
    "    \"location\": {\n",
    "        \"lat\": np.random.normal(40.3524, 0.01),\n",
    "        \"lon\": np.random.normal(18.1732, 0.01)\n",
    "        },\n",
    "    \"keywords\": list(np.random.choice(keywords, size=np.random.poisson(2, size=1).item())),\n",
    "    \"languages\": [\"italian\"]\n",
    "}\n",
    "\n",
    "user"
   ]
  },
  {
   "cell_type": "code",
   "execution_count": 82,
   "metadata": {},
   "outputs": [
    {
     "name": "stderr",
     "output_type": "stream",
     "text": [
      "/Users/lorenzobenzoni/Documents/university/projects/MULTIDISCIPLINARY/AsTourX/elasticsearch/venv/lib/python3.10/site-packages/urllib3/connectionpool.py:1103: InsecureRequestWarning: Unverified HTTPS request is being made to host 'localhost'. Adding certificate verification is strongly advised. See: https://urllib3.readthedocs.io/en/latest/advanced-usage.html#tls-warnings\n",
      "  warnings.warn(\n"
     ]
    },
    {
     "data": {
      "text/plain": [
       "{'_index': 'guides',\n",
       " '_id': '9XnnOY8BESXXNo8oQRRD',\n",
       " '_score': 1.3001167,\n",
       " '_source': {'gender': 'male',\n",
       "  'name': 'Nathaniel Stone',\n",
       "  'birth_date': '1935-07-19',\n",
       "  'now_available': True,\n",
       "  'languages_spoken': ['english', 'italian'],\n",
       "  'price': 30,\n",
       "  'education': 'bachelor',\n",
       "  'biography': 'Education officer, community',\n",
       "  'keywords': ['beer', 'archeology', 'sport', 'cinema', 'rafting'],\n",
       "  'current_location': {'lat': 40.34773745731428, 'lon': 18.15850933058771}}}"
      ]
     },
     "execution_count": 82,
     "metadata": {},
     "output_type": "execute_result"
    }
   ],
   "source": [
    "query = client.search(index='guides', body={\n",
    "    \"query\": {\n",
    "        \"bool\": {\n",
    "            \"should\": [\n",
    "                # user and guide should be close to each other\n",
    "                {\n",
    "                    \"geo_distance\": {\n",
    "                        \"distance\": \"800m\",\n",
    "                        \"current_location\": user[\"location\"],\n",
    "                    }\n",
    "                },\n",
    "            ],\n",
    "            \"filter\": {\n",
    "                # guide must speak at least one of the user's languages\n",
    "                \"terms\": {\n",
    "                    \"languages_spoken\": user[\"languages\"]\n",
    "                },\n",
    "            },\n",
    "            \"must\" :{\n",
    "                \"term\": {\n",
    "                    \"now_available\": True\n",
    "                }\n",
    "            }\n",
    "        },\n",
    "    }\n",
    "})\n",
    "\n",
    "query.body['hits']['hits'][-1]"
   ]
  }
 ],
 "metadata": {
  "kernelspec": {
   "display_name": "venv",
   "language": "python",
   "name": "python3"
  },
  "language_info": {
   "codemirror_mode": {
    "name": "ipython",
    "version": 3
   },
   "file_extension": ".py",
   "mimetype": "text/x-python",
   "name": "python",
   "nbconvert_exporter": "python",
   "pygments_lexer": "ipython3",
   "version": "3.10.9"
  }
 },
 "nbformat": 4,
 "nbformat_minor": 2
}

{
 "cells": [
  {
   "cell_type": "markdown",
   "id": "25a69c6c",
   "metadata": {
    "pycharm": {
     "name": "#%% md\n"
    }
   },
   "source": [
    "# Guide Recommendation Pipeline"
   ]
  },
  {
   "cell_type": "markdown",
   "id": "a04247e2",
   "metadata": {
    "pycharm": {
     "name": "#%% md\n"
    }
   },
   "source": [
    "## Define working environment"
   ]
  },
  {
   "cell_type": "code",
   "execution_count": 1,
   "id": "8738f9e9",
   "metadata": {
    "pycharm": {
     "name": "#%%\n"
    }
   },
   "outputs": [],
   "source": [
    "# Import libraries\n",
    "\n",
    "import numpy as np\n",
    "import pandas as pd\n",
    "import scipy.sparse as sps\n",
    "import matplotlib.pyplot as pyplot\n",
    "import ast\n",
    "\n",
    "from tqdm import tqdm"
   ]
  },
  {
   "cell_type": "markdown",
   "id": "cba01366",
   "metadata": {
    "pycharm": {
     "name": "#%% md\n"
    }
   },
   "source": [
    "## Load and preprocess data"
   ]
  },
  {
   "cell_type": "code",
   "execution_count": 2,
   "id": "f7455c74",
   "metadata": {
    "pycharm": {
     "name": "#%%\n"
    }
   },
   "outputs": [
    {
     "data": {
      "text/plain": "      id      languages                         keywords\n0      0  ['bulgarian']                       ['cinema']\n1      1   ['deutsche']                               []\n2      2    ['spanish']           ['rafting', 'museums']\n3      3   ['deutsche']    ['cinema', 'history', 'food']\n4      4    ['chinese']              ['wine', 'rafting']\n..   ...            ...                              ...\n195  195     ['french']                       ['cinema']\n196  196      ['dutch']  ['food', 'tracking', 'history']\n197  197      ['dutch']    ['museums', 'art', 'history']\n198  198    ['italian']        ['rafting', 'literature']\n199  199    ['spanish']    ['countryside', 'archeology']\n\n[200 rows x 3 columns]",
      "text/html": "<div>\n<style scoped>\n    .dataframe tbody tr th:only-of-type {\n        vertical-align: middle;\n    }\n\n    .dataframe tbody tr th {\n        vertical-align: top;\n    }\n\n    .dataframe thead th {\n        text-align: right;\n    }\n</style>\n<table border=\"1\" class=\"dataframe\">\n  <thead>\n    <tr style=\"text-align: right;\">\n      <th></th>\n      <th>id</th>\n      <th>languages</th>\n      <th>keywords</th>\n    </tr>\n  </thead>\n  <tbody>\n    <tr>\n      <th>0</th>\n      <td>0</td>\n      <td>['bulgarian']</td>\n      <td>['cinema']</td>\n    </tr>\n    <tr>\n      <th>1</th>\n      <td>1</td>\n      <td>['deutsche']</td>\n      <td>[]</td>\n    </tr>\n    <tr>\n      <th>2</th>\n      <td>2</td>\n      <td>['spanish']</td>\n      <td>['rafting', 'museums']</td>\n    </tr>\n    <tr>\n      <th>3</th>\n      <td>3</td>\n      <td>['deutsche']</td>\n      <td>['cinema', 'history', 'food']</td>\n    </tr>\n    <tr>\n      <th>4</th>\n      <td>4</td>\n      <td>['chinese']</td>\n      <td>['wine', 'rafting']</td>\n    </tr>\n    <tr>\n      <th>...</th>\n      <td>...</td>\n      <td>...</td>\n      <td>...</td>\n    </tr>\n    <tr>\n      <th>195</th>\n      <td>195</td>\n      <td>['french']</td>\n      <td>['cinema']</td>\n    </tr>\n    <tr>\n      <th>196</th>\n      <td>196</td>\n      <td>['dutch']</td>\n      <td>['food', 'tracking', 'history']</td>\n    </tr>\n    <tr>\n      <th>197</th>\n      <td>197</td>\n      <td>['dutch']</td>\n      <td>['museums', 'art', 'history']</td>\n    </tr>\n    <tr>\n      <th>198</th>\n      <td>198</td>\n      <td>['italian']</td>\n      <td>['rafting', 'literature']</td>\n    </tr>\n    <tr>\n      <th>199</th>\n      <td>199</td>\n      <td>['spanish']</td>\n      <td>['countryside', 'archeology']</td>\n    </tr>\n  </tbody>\n</table>\n<p>200 rows × 3 columns</p>\n</div>"
     },
     "execution_count": 2,
     "metadata": {},
     "output_type": "execute_result"
    }
   ],
   "source": [
    "# Load dataframe for tourist attributes\n",
    "\n",
    "tourist_file = open('Data/tourists_200.csv')\n",
    "\n",
    "tourist_df = pd.read_csv(\n",
    "    filepath_or_buffer = tourist_file,\n",
    "    sep = ';',\n",
    "    header = 0\n",
    ")\n",
    "\n",
    "tourist_df.rename(columns={tourist_df.columns[0]: 'id'}, inplace=True)\n",
    "\n",
    "tourist_df"
   ]
  },
  {
   "cell_type": "code",
   "execution_count": 3,
   "id": "af9da72b",
   "metadata": {
    "pycharm": {
     "name": "#%%\n"
    }
   },
   "outputs": [
    {
     "data": {
      "text/plain": "    id  gender               name  birth_date  now_available  \\\n0    0    male    Jeffrey Carroll  1960-10-18           True   \n1    1  female      Regina Thomas  1989-11-21           True   \n2    2  female  Brianna Nicholson  1962-05-03           True   \n3    3    male         Jordan Ali  1992-10-15           True   \n4    4    male      Steven Taylor  1985-01-25           True   \n5    5    male    Ronald Mitchell  1959-06-15           True   \n6    6    male         John Lloyd  1983-04-08           True   \n7    7    male      Jason Hartman  1971-12-09           True   \n8    8    male       Cody Stevens  1992-11-27           True   \n9    9    male       Daniel Carey  1988-09-18           True   \n10  10  female     Ellen Benjamin  1973-02-24           True   \n11  11  female        Monica Webb  1988-07-30           True   \n12  12  female        Monica Cruz  2003-10-13           True   \n13  13  female    Vanessa Wallace  1995-02-13           True   \n14  14    male     Bobby Galloway  1968-03-16           True   \n15  15    male  Russell Patterson  1971-04-08           True   \n16  16    male     Kenneth Santos  2000-10-26           True   \n17  17    male    Jonathan Taylor  2002-04-20           True   \n18  18    male         Frank Bond  1977-09-12           True   \n19  19  female      Angel Whitney  1997-09-17           True   \n20  20  female      Theresa Brown  2002-02-03           True   \n21  21    male    Anthony Hensley  1970-03-21           True   \n22  22  female     Denise Carroll  1968-04-20           True   \n23  23  female        Karen Adams  1984-08-10           True   \n24  24  female      Rebecca Cohen  1987-10-18           True   \n25  25  female       Anna Shannon  1985-07-12           True   \n26  26    male  Michael Schneider  1990-04-16           True   \n27  27  female      Kelly Garrett  1980-05-02           True   \n28  28  female       Lisa Woodard  1962-01-03           True   \n29  29  female       Melissa Hart  1992-06-23           True   \n30  30  female     Ashley Johnson  1999-01-23           True   \n31  31    male         Eric Smith  1975-09-04           True   \n32  32  female      Angela Morgan  1960-04-05           True   \n33  33    male     Matthew Barker  1987-04-29           True   \n34  34  female    Brittany Martin  1983-10-24           True   \n35  35    male       Mark Hammond  1969-02-02           True   \n36  36    male  Robert Harrington  1962-12-11           True   \n37  37    male   Gabriel Jacobson  1969-04-22           True   \n38  38  female      Joann Sweeney  1998-11-24           True   \n39  39  female        Nancy Clark  1968-12-21           True   \n\n                          languages_spoken  price      education  \\\n0                                [english]     25    high-school   \n1                         [italian, dutch]     36  middle-school   \n2               [chinese, french, english]     34            phd   \n3                              [bulgarian]     46       bachelor   \n4                       [deutsche, french]     30         master   \n5             [deutsche, dutch, bulgarian]     27  middle-school   \n6               [english, chinese, french]     34  middle-school   \n7        [spanish, dutch, french, italian]     33       bachelor   \n8            [bulgarian, english, chinese]     31  middle-school   \n9     [chinese, bulgarian, dutch, english]     37            phd   \n10                   [bulgarian, deutsche]     23    high-school   \n11                             [bulgarian]     23            phd   \n12                [dutch, french, italian]     19       bachelor   \n13                      [chinese, english]     27         master   \n14                       [chinese, french]     40  middle-school   \n15                     [deutsche, chinese]     31  middle-school   \n16            [spanish, bulgarian, french]     32  middle-school   \n17                                 [dutch]     26         master   \n18                        [italian, dutch]     24       bachelor   \n19          [bulgarian, deutsche, english]     35  middle-school   \n20                      [deutsche, french]     43         master   \n21                               [chinese]     26    high-school   \n22                      [chinese, spanish]     25    high-school   \n23           [english, italian, bulgarian]     20  middle-school   \n24             [dutch, italian, bulgarian]     28    high-school   \n25                             [bulgarian]     31            phd   \n26                                 [dutch]     30            phd   \n27                               [italian]     30            phd   \n28                               [spanish]     25  middle-school   \n29                    [bulgarian, chinese]     28         master   \n30             [french, deutsche, english]     27       bachelor   \n31             [deutsche, french, english]     23         master   \n32                     [french, bulgarian]     28            phd   \n33                                [french]     26  middle-school   \n34  [chinese, spanish, bulgarian, italian]     28  middle-school   \n35                       [italian, french]     30         master   \n36                               [spanish]     26            phd   \n37                                 [dutch]     26         master   \n38                               [italian]     28         master   \n39                        [spanish, dutch]     26  middle-school   \n\n                                            biography  \\\n0                                        Sports coach   \n1                                       Stage manager   \n2                     Psychotherapist, dance movement   \n3   Scientist, clinical (histocompatibility and im...   \n4                           Trading standards officer   \n5                           Teacher, secondary school   \n6                                Engineer, electrical   \n7                                   Fish farm manager   \n8                                      Therapist, art   \n9                                   Fish farm manager   \n10                                Corporate treasurer   \n11                Designer, blown glass/stained glass   \n12                        Advertising account planner   \n13                                      Warden/ranger   \n14               Accountant, chartered public finance   \n15                            Chief Operating Officer   \n16                                            Actuary   \n17                                Magazine journalist   \n18                                               Land   \n19                                  Probation officer   \n20                    Accountant, chartered certified   \n21                                 Surveyor, quantity   \n22                                  Fisheries officer   \n23                         Television camera operator   \n24                               Financial controller   \n25              Development worker, international aid   \n26                                  Probation officer   \n27                     Chartered certified accountant   \n28                   Accountant, chartered management   \n29                              Geneticist, molecular   \n30                           Secondary school teacher   \n31                                Broadcast presenter   \n32                            Water quality scientist   \n33                               Public house manager   \n34                               Community pharmacist   \n35                                  Transport planner   \n36                                  Software engineer   \n37                                   Product designer   \n38                              Child psychotherapist   \n39                    Producer, television/film/video   \n\n                                             keywords  \\\n0                                           [museums]   \n1                    [cinema, rafting, history, wine]   \n2                             [food, archeology, art]   \n3                         [countryside, rafting, art]   \n4                       [countryside, tracking, beer]   \n5                                                  []   \n6                               [rafting, art, sport]   \n7                   [museums, art, countryside, wine]   \n8                         [literature, cinema, music]   \n9                                           [museums]   \n10     [cinema, rafting, sport, museums, countryside]   \n11                            [cinema, beer, rafting]   \n12                               [sport, music, beer]   \n13                          [sport, archeology, beer]   \n14                                          [museums]   \n15                [music, food, tracking, archeology]   \n16                         [countryside, music, beer]   \n17                                 [wine, sport, art]   \n18                                             [food]   \n19                                                 []   \n20                           [rafting, museums, food]   \n21                                           [cinema]   \n22  [history, countryside, cinema, literature, music]   \n23                                         [tracking]   \n24                                                 []   \n25                                       [literature]   \n26                          [tracking, beer, museums]   \n27                                [countryside, beer]   \n28     [food, rafting, museums, music, art, tracking]   \n29                 [archeology, literature, tracking]   \n30                                            [music]   \n31                         [music, countryside, food]   \n32                                [archeology, music]   \n33             [beer, music, countryside, archeology]   \n34                                                 []   \n35                                            [music]   \n36                                                 []   \n37                                                 []   \n38                                                 []   \n39                                          [history]   \n\n                                     current_location  experience  \n0   {'lat': 40.342693584880706, 'lon': 18.16438078...          30  \n1   {'lat': 40.3367551413547, 'lon': 18.1569120995...          13  \n2   {'lat': 40.362447049660204, 'lon': 18.14225129...          28  \n3   {'lat': 40.36584086550253, 'lon': 18.183002910...           5  \n4   {'lat': 40.354724889812935, 'lon': 18.20308322...          17  \n5   {'lat': 40.35854623058413, 'lon': 18.183459879...           1  \n6   {'lat': 40.35774331848761, 'lon': 18.163273185...          18  \n7   {'lat': 40.365193043282794, 'lon': 18.18548169...          22  \n8   {'lat': 40.35265552781134, 'lon': 18.151723396...           2  \n9   {'lat': 40.33774657696426, 'lon': 18.182064664...           2  \n10  {'lat': 40.36612881009787, 'lon': 18.182042843...          10  \n11  {'lat': 40.367394960036485, 'lon': 18.17553586...          13  \n12  {'lat': 40.34268462008425, 'lon': 18.187542175...           3  \n13  {'lat': 40.35377358678542, 'lon': 18.174728239...           8  \n14  {'lat': 40.353069674191346, 'lon': 18.17755576...          38  \n15  {'lat': 40.35272705494921, 'lon': 18.165705019...          16  \n16  {'lat': 40.32347428820915, 'lon': 18.164571467...           1  \n17  {'lat': 40.36624424923941, 'lon': 18.174443383...           1  \n18  {'lat': 40.362871505646005, 'lon': 18.18292777...           9  \n19  {'lat': 40.339915788807765, 'lon': 18.18379781...           2  \n20  {'lat': 40.357612936236265, 'lon': 18.16907898...           3  \n21  {'lat': 40.342846292499104, 'lon': 18.16089760...          10  \n22  {'lat': 40.36846436096489, 'lon': 18.171263566...          11  \n23  {'lat': 40.364408581391295, 'lon': 18.16428124...           9  \n24  {'lat': 40.32998981194129, 'lon': 18.175342312...          18  \n25  {'lat': 40.36710284805045, 'lon': 18.179956956...          14  \n26  {'lat': 40.37981446263931, 'lon': 18.178854600...          12  \n27  {'lat': 40.3457074414046, 'lon': 18.1747654675...          23  \n28  {'lat': 40.35079556972286, 'lon': 18.181927024...          19  \n29  {'lat': 40.35465462623879, 'lon': 18.172666005...           9  \n30  {'lat': 40.361047668976795, 'lon': 18.18633484...           7  \n31  {'lat': 40.339171732936364, 'lon': 18.16792590...           3  \n32  {'lat': 40.343414579847, 'lon': 18.18565562805...          20  \n33  {'lat': 40.34424559835338, 'lon': 18.174907197...           7  \n34  {'lat': 40.38198340911851, 'lon': 18.173378831...          20  \n35  {'lat': 40.36699713437984, 'lon': 18.165786470...           3  \n36  {'lat': 40.358649720289904, 'lon': 18.16378056...           9  \n37  {'lat': 40.3604075695112, 'lon': 18.1615738690...           2  \n38  {'lat': 40.36497247240833, 'lon': 18.173581152...           1  \n39  {'lat': 40.35901486939172, 'lon': 18.166553513...           4  ",
      "text/html": "<div>\n<style scoped>\n    .dataframe tbody tr th:only-of-type {\n        vertical-align: middle;\n    }\n\n    .dataframe tbody tr th {\n        vertical-align: top;\n    }\n\n    .dataframe thead th {\n        text-align: right;\n    }\n</style>\n<table border=\"1\" class=\"dataframe\">\n  <thead>\n    <tr style=\"text-align: right;\">\n      <th></th>\n      <th>id</th>\n      <th>gender</th>\n      <th>name</th>\n      <th>birth_date</th>\n      <th>now_available</th>\n      <th>languages_spoken</th>\n      <th>price</th>\n      <th>education</th>\n      <th>biography</th>\n      <th>keywords</th>\n      <th>current_location</th>\n      <th>experience</th>\n    </tr>\n  </thead>\n  <tbody>\n    <tr>\n      <th>0</th>\n      <td>0</td>\n      <td>male</td>\n      <td>Jeffrey Carroll</td>\n      <td>1960-10-18</td>\n      <td>True</td>\n      <td>[english]</td>\n      <td>25</td>\n      <td>high-school</td>\n      <td>Sports coach</td>\n      <td>[museums]</td>\n      <td>{'lat': 40.342693584880706, 'lon': 18.16438078...</td>\n      <td>30</td>\n    </tr>\n    <tr>\n      <th>1</th>\n      <td>1</td>\n      <td>female</td>\n      <td>Regina Thomas</td>\n      <td>1989-11-21</td>\n      <td>True</td>\n      <td>[italian, dutch]</td>\n      <td>36</td>\n      <td>middle-school</td>\n      <td>Stage manager</td>\n      <td>[cinema, rafting, history, wine]</td>\n      <td>{'lat': 40.3367551413547, 'lon': 18.1569120995...</td>\n      <td>13</td>\n    </tr>\n    <tr>\n      <th>2</th>\n      <td>2</td>\n      <td>female</td>\n      <td>Brianna Nicholson</td>\n      <td>1962-05-03</td>\n      <td>True</td>\n      <td>[chinese, french, english]</td>\n      <td>34</td>\n      <td>phd</td>\n      <td>Psychotherapist, dance movement</td>\n      <td>[food, archeology, art]</td>\n      <td>{'lat': 40.362447049660204, 'lon': 18.14225129...</td>\n      <td>28</td>\n    </tr>\n    <tr>\n      <th>3</th>\n      <td>3</td>\n      <td>male</td>\n      <td>Jordan Ali</td>\n      <td>1992-10-15</td>\n      <td>True</td>\n      <td>[bulgarian]</td>\n      <td>46</td>\n      <td>bachelor</td>\n      <td>Scientist, clinical (histocompatibility and im...</td>\n      <td>[countryside, rafting, art]</td>\n      <td>{'lat': 40.36584086550253, 'lon': 18.183002910...</td>\n      <td>5</td>\n    </tr>\n    <tr>\n      <th>4</th>\n      <td>4</td>\n      <td>male</td>\n      <td>Steven Taylor</td>\n      <td>1985-01-25</td>\n      <td>True</td>\n      <td>[deutsche, french]</td>\n      <td>30</td>\n      <td>master</td>\n      <td>Trading standards officer</td>\n      <td>[countryside, tracking, beer]</td>\n      <td>{'lat': 40.354724889812935, 'lon': 18.20308322...</td>\n      <td>17</td>\n    </tr>\n    <tr>\n      <th>5</th>\n      <td>5</td>\n      <td>male</td>\n      <td>Ronald Mitchell</td>\n      <td>1959-06-15</td>\n      <td>True</td>\n      <td>[deutsche, dutch, bulgarian]</td>\n      <td>27</td>\n      <td>middle-school</td>\n      <td>Teacher, secondary school</td>\n      <td>[]</td>\n      <td>{'lat': 40.35854623058413, 'lon': 18.183459879...</td>\n      <td>1</td>\n    </tr>\n    <tr>\n      <th>6</th>\n      <td>6</td>\n      <td>male</td>\n      <td>John Lloyd</td>\n      <td>1983-04-08</td>\n      <td>True</td>\n      <td>[english, chinese, french]</td>\n      <td>34</td>\n      <td>middle-school</td>\n      <td>Engineer, electrical</td>\n      <td>[rafting, art, sport]</td>\n      <td>{'lat': 40.35774331848761, 'lon': 18.163273185...</td>\n      <td>18</td>\n    </tr>\n    <tr>\n      <th>7</th>\n      <td>7</td>\n      <td>male</td>\n      <td>Jason Hartman</td>\n      <td>1971-12-09</td>\n      <td>True</td>\n      <td>[spanish, dutch, french, italian]</td>\n      <td>33</td>\n      <td>bachelor</td>\n      <td>Fish farm manager</td>\n      <td>[museums, art, countryside, wine]</td>\n      <td>{'lat': 40.365193043282794, 'lon': 18.18548169...</td>\n      <td>22</td>\n    </tr>\n    <tr>\n      <th>8</th>\n      <td>8</td>\n      <td>male</td>\n      <td>Cody Stevens</td>\n      <td>1992-11-27</td>\n      <td>True</td>\n      <td>[bulgarian, english, chinese]</td>\n      <td>31</td>\n      <td>middle-school</td>\n      <td>Therapist, art</td>\n      <td>[literature, cinema, music]</td>\n      <td>{'lat': 40.35265552781134, 'lon': 18.151723396...</td>\n      <td>2</td>\n    </tr>\n    <tr>\n      <th>9</th>\n      <td>9</td>\n      <td>male</td>\n      <td>Daniel Carey</td>\n      <td>1988-09-18</td>\n      <td>True</td>\n      <td>[chinese, bulgarian, dutch, english]</td>\n      <td>37</td>\n      <td>phd</td>\n      <td>Fish farm manager</td>\n      <td>[museums]</td>\n      <td>{'lat': 40.33774657696426, 'lon': 18.182064664...</td>\n      <td>2</td>\n    </tr>\n    <tr>\n      <th>10</th>\n      <td>10</td>\n      <td>female</td>\n      <td>Ellen Benjamin</td>\n      <td>1973-02-24</td>\n      <td>True</td>\n      <td>[bulgarian, deutsche]</td>\n      <td>23</td>\n      <td>high-school</td>\n      <td>Corporate treasurer</td>\n      <td>[cinema, rafting, sport, museums, countryside]</td>\n      <td>{'lat': 40.36612881009787, 'lon': 18.182042843...</td>\n      <td>10</td>\n    </tr>\n    <tr>\n      <th>11</th>\n      <td>11</td>\n      <td>female</td>\n      <td>Monica Webb</td>\n      <td>1988-07-30</td>\n      <td>True</td>\n      <td>[bulgarian]</td>\n      <td>23</td>\n      <td>phd</td>\n      <td>Designer, blown glass/stained glass</td>\n      <td>[cinema, beer, rafting]</td>\n      <td>{'lat': 40.367394960036485, 'lon': 18.17553586...</td>\n      <td>13</td>\n    </tr>\n    <tr>\n      <th>12</th>\n      <td>12</td>\n      <td>female</td>\n      <td>Monica Cruz</td>\n      <td>2003-10-13</td>\n      <td>True</td>\n      <td>[dutch, french, italian]</td>\n      <td>19</td>\n      <td>bachelor</td>\n      <td>Advertising account planner</td>\n      <td>[sport, music, beer]</td>\n      <td>{'lat': 40.34268462008425, 'lon': 18.187542175...</td>\n      <td>3</td>\n    </tr>\n    <tr>\n      <th>13</th>\n      <td>13</td>\n      <td>female</td>\n      <td>Vanessa Wallace</td>\n      <td>1995-02-13</td>\n      <td>True</td>\n      <td>[chinese, english]</td>\n      <td>27</td>\n      <td>master</td>\n      <td>Warden/ranger</td>\n      <td>[sport, archeology, beer]</td>\n      <td>{'lat': 40.35377358678542, 'lon': 18.174728239...</td>\n      <td>8</td>\n    </tr>\n    <tr>\n      <th>14</th>\n      <td>14</td>\n      <td>male</td>\n      <td>Bobby Galloway</td>\n      <td>1968-03-16</td>\n      <td>True</td>\n      <td>[chinese, french]</td>\n      <td>40</td>\n      <td>middle-school</td>\n      <td>Accountant, chartered public finance</td>\n      <td>[museums]</td>\n      <td>{'lat': 40.353069674191346, 'lon': 18.17755576...</td>\n      <td>38</td>\n    </tr>\n    <tr>\n      <th>15</th>\n      <td>15</td>\n      <td>male</td>\n      <td>Russell Patterson</td>\n      <td>1971-04-08</td>\n      <td>True</td>\n      <td>[deutsche, chinese]</td>\n      <td>31</td>\n      <td>middle-school</td>\n      <td>Chief Operating Officer</td>\n      <td>[music, food, tracking, archeology]</td>\n      <td>{'lat': 40.35272705494921, 'lon': 18.165705019...</td>\n      <td>16</td>\n    </tr>\n    <tr>\n      <th>16</th>\n      <td>16</td>\n      <td>male</td>\n      <td>Kenneth Santos</td>\n      <td>2000-10-26</td>\n      <td>True</td>\n      <td>[spanish, bulgarian, french]</td>\n      <td>32</td>\n      <td>middle-school</td>\n      <td>Actuary</td>\n      <td>[countryside, music, beer]</td>\n      <td>{'lat': 40.32347428820915, 'lon': 18.164571467...</td>\n      <td>1</td>\n    </tr>\n    <tr>\n      <th>17</th>\n      <td>17</td>\n      <td>male</td>\n      <td>Jonathan Taylor</td>\n      <td>2002-04-20</td>\n      <td>True</td>\n      <td>[dutch]</td>\n      <td>26</td>\n      <td>master</td>\n      <td>Magazine journalist</td>\n      <td>[wine, sport, art]</td>\n      <td>{'lat': 40.36624424923941, 'lon': 18.174443383...</td>\n      <td>1</td>\n    </tr>\n    <tr>\n      <th>18</th>\n      <td>18</td>\n      <td>male</td>\n      <td>Frank Bond</td>\n      <td>1977-09-12</td>\n      <td>True</td>\n      <td>[italian, dutch]</td>\n      <td>24</td>\n      <td>bachelor</td>\n      <td>Land</td>\n      <td>[food]</td>\n      <td>{'lat': 40.362871505646005, 'lon': 18.18292777...</td>\n      <td>9</td>\n    </tr>\n    <tr>\n      <th>19</th>\n      <td>19</td>\n      <td>female</td>\n      <td>Angel Whitney</td>\n      <td>1997-09-17</td>\n      <td>True</td>\n      <td>[bulgarian, deutsche, english]</td>\n      <td>35</td>\n      <td>middle-school</td>\n      <td>Probation officer</td>\n      <td>[]</td>\n      <td>{'lat': 40.339915788807765, 'lon': 18.18379781...</td>\n      <td>2</td>\n    </tr>\n    <tr>\n      <th>20</th>\n      <td>20</td>\n      <td>female</td>\n      <td>Theresa Brown</td>\n      <td>2002-02-03</td>\n      <td>True</td>\n      <td>[deutsche, french]</td>\n      <td>43</td>\n      <td>master</td>\n      <td>Accountant, chartered certified</td>\n      <td>[rafting, museums, food]</td>\n      <td>{'lat': 40.357612936236265, 'lon': 18.16907898...</td>\n      <td>3</td>\n    </tr>\n    <tr>\n      <th>21</th>\n      <td>21</td>\n      <td>male</td>\n      <td>Anthony Hensley</td>\n      <td>1970-03-21</td>\n      <td>True</td>\n      <td>[chinese]</td>\n      <td>26</td>\n      <td>high-school</td>\n      <td>Surveyor, quantity</td>\n      <td>[cinema]</td>\n      <td>{'lat': 40.342846292499104, 'lon': 18.16089760...</td>\n      <td>10</td>\n    </tr>\n    <tr>\n      <th>22</th>\n      <td>22</td>\n      <td>female</td>\n      <td>Denise Carroll</td>\n      <td>1968-04-20</td>\n      <td>True</td>\n      <td>[chinese, spanish]</td>\n      <td>25</td>\n      <td>high-school</td>\n      <td>Fisheries officer</td>\n      <td>[history, countryside, cinema, literature, music]</td>\n      <td>{'lat': 40.36846436096489, 'lon': 18.171263566...</td>\n      <td>11</td>\n    </tr>\n    <tr>\n      <th>23</th>\n      <td>23</td>\n      <td>female</td>\n      <td>Karen Adams</td>\n      <td>1984-08-10</td>\n      <td>True</td>\n      <td>[english, italian, bulgarian]</td>\n      <td>20</td>\n      <td>middle-school</td>\n      <td>Television camera operator</td>\n      <td>[tracking]</td>\n      <td>{'lat': 40.364408581391295, 'lon': 18.16428124...</td>\n      <td>9</td>\n    </tr>\n    <tr>\n      <th>24</th>\n      <td>24</td>\n      <td>female</td>\n      <td>Rebecca Cohen</td>\n      <td>1987-10-18</td>\n      <td>True</td>\n      <td>[dutch, italian, bulgarian]</td>\n      <td>28</td>\n      <td>high-school</td>\n      <td>Financial controller</td>\n      <td>[]</td>\n      <td>{'lat': 40.32998981194129, 'lon': 18.175342312...</td>\n      <td>18</td>\n    </tr>\n    <tr>\n      <th>25</th>\n      <td>25</td>\n      <td>female</td>\n      <td>Anna Shannon</td>\n      <td>1985-07-12</td>\n      <td>True</td>\n      <td>[bulgarian]</td>\n      <td>31</td>\n      <td>phd</td>\n      <td>Development worker, international aid</td>\n      <td>[literature]</td>\n      <td>{'lat': 40.36710284805045, 'lon': 18.179956956...</td>\n      <td>14</td>\n    </tr>\n    <tr>\n      <th>26</th>\n      <td>26</td>\n      <td>male</td>\n      <td>Michael Schneider</td>\n      <td>1990-04-16</td>\n      <td>True</td>\n      <td>[dutch]</td>\n      <td>30</td>\n      <td>phd</td>\n      <td>Probation officer</td>\n      <td>[tracking, beer, museums]</td>\n      <td>{'lat': 40.37981446263931, 'lon': 18.178854600...</td>\n      <td>12</td>\n    </tr>\n    <tr>\n      <th>27</th>\n      <td>27</td>\n      <td>female</td>\n      <td>Kelly Garrett</td>\n      <td>1980-05-02</td>\n      <td>True</td>\n      <td>[italian]</td>\n      <td>30</td>\n      <td>phd</td>\n      <td>Chartered certified accountant</td>\n      <td>[countryside, beer]</td>\n      <td>{'lat': 40.3457074414046, 'lon': 18.1747654675...</td>\n      <td>23</td>\n    </tr>\n    <tr>\n      <th>28</th>\n      <td>28</td>\n      <td>female</td>\n      <td>Lisa Woodard</td>\n      <td>1962-01-03</td>\n      <td>True</td>\n      <td>[spanish]</td>\n      <td>25</td>\n      <td>middle-school</td>\n      <td>Accountant, chartered management</td>\n      <td>[food, rafting, museums, music, art, tracking]</td>\n      <td>{'lat': 40.35079556972286, 'lon': 18.181927024...</td>\n      <td>19</td>\n    </tr>\n    <tr>\n      <th>29</th>\n      <td>29</td>\n      <td>female</td>\n      <td>Melissa Hart</td>\n      <td>1992-06-23</td>\n      <td>True</td>\n      <td>[bulgarian, chinese]</td>\n      <td>28</td>\n      <td>master</td>\n      <td>Geneticist, molecular</td>\n      <td>[archeology, literature, tracking]</td>\n      <td>{'lat': 40.35465462623879, 'lon': 18.172666005...</td>\n      <td>9</td>\n    </tr>\n    <tr>\n      <th>30</th>\n      <td>30</td>\n      <td>female</td>\n      <td>Ashley Johnson</td>\n      <td>1999-01-23</td>\n      <td>True</td>\n      <td>[french, deutsche, english]</td>\n      <td>27</td>\n      <td>bachelor</td>\n      <td>Secondary school teacher</td>\n      <td>[music]</td>\n      <td>{'lat': 40.361047668976795, 'lon': 18.18633484...</td>\n      <td>7</td>\n    </tr>\n    <tr>\n      <th>31</th>\n      <td>31</td>\n      <td>male</td>\n      <td>Eric Smith</td>\n      <td>1975-09-04</td>\n      <td>True</td>\n      <td>[deutsche, french, english]</td>\n      <td>23</td>\n      <td>master</td>\n      <td>Broadcast presenter</td>\n      <td>[music, countryside, food]</td>\n      <td>{'lat': 40.339171732936364, 'lon': 18.16792590...</td>\n      <td>3</td>\n    </tr>\n    <tr>\n      <th>32</th>\n      <td>32</td>\n      <td>female</td>\n      <td>Angela Morgan</td>\n      <td>1960-04-05</td>\n      <td>True</td>\n      <td>[french, bulgarian]</td>\n      <td>28</td>\n      <td>phd</td>\n      <td>Water quality scientist</td>\n      <td>[archeology, music]</td>\n      <td>{'lat': 40.343414579847, 'lon': 18.18565562805...</td>\n      <td>20</td>\n    </tr>\n    <tr>\n      <th>33</th>\n      <td>33</td>\n      <td>male</td>\n      <td>Matthew Barker</td>\n      <td>1987-04-29</td>\n      <td>True</td>\n      <td>[french]</td>\n      <td>26</td>\n      <td>middle-school</td>\n      <td>Public house manager</td>\n      <td>[beer, music, countryside, archeology]</td>\n      <td>{'lat': 40.34424559835338, 'lon': 18.174907197...</td>\n      <td>7</td>\n    </tr>\n    <tr>\n      <th>34</th>\n      <td>34</td>\n      <td>female</td>\n      <td>Brittany Martin</td>\n      <td>1983-10-24</td>\n      <td>True</td>\n      <td>[chinese, spanish, bulgarian, italian]</td>\n      <td>28</td>\n      <td>middle-school</td>\n      <td>Community pharmacist</td>\n      <td>[]</td>\n      <td>{'lat': 40.38198340911851, 'lon': 18.173378831...</td>\n      <td>20</td>\n    </tr>\n    <tr>\n      <th>35</th>\n      <td>35</td>\n      <td>male</td>\n      <td>Mark Hammond</td>\n      <td>1969-02-02</td>\n      <td>True</td>\n      <td>[italian, french]</td>\n      <td>30</td>\n      <td>master</td>\n      <td>Transport planner</td>\n      <td>[music]</td>\n      <td>{'lat': 40.36699713437984, 'lon': 18.165786470...</td>\n      <td>3</td>\n    </tr>\n    <tr>\n      <th>36</th>\n      <td>36</td>\n      <td>male</td>\n      <td>Robert Harrington</td>\n      <td>1962-12-11</td>\n      <td>True</td>\n      <td>[spanish]</td>\n      <td>26</td>\n      <td>phd</td>\n      <td>Software engineer</td>\n      <td>[]</td>\n      <td>{'lat': 40.358649720289904, 'lon': 18.16378056...</td>\n      <td>9</td>\n    </tr>\n    <tr>\n      <th>37</th>\n      <td>37</td>\n      <td>male</td>\n      <td>Gabriel Jacobson</td>\n      <td>1969-04-22</td>\n      <td>True</td>\n      <td>[dutch]</td>\n      <td>26</td>\n      <td>master</td>\n      <td>Product designer</td>\n      <td>[]</td>\n      <td>{'lat': 40.3604075695112, 'lon': 18.1615738690...</td>\n      <td>2</td>\n    </tr>\n    <tr>\n      <th>38</th>\n      <td>38</td>\n      <td>female</td>\n      <td>Joann Sweeney</td>\n      <td>1998-11-24</td>\n      <td>True</td>\n      <td>[italian]</td>\n      <td>28</td>\n      <td>master</td>\n      <td>Child psychotherapist</td>\n      <td>[]</td>\n      <td>{'lat': 40.36497247240833, 'lon': 18.173581152...</td>\n      <td>1</td>\n    </tr>\n    <tr>\n      <th>39</th>\n      <td>39</td>\n      <td>female</td>\n      <td>Nancy Clark</td>\n      <td>1968-12-21</td>\n      <td>True</td>\n      <td>[spanish, dutch]</td>\n      <td>26</td>\n      <td>middle-school</td>\n      <td>Producer, television/film/video</td>\n      <td>[history]</td>\n      <td>{'lat': 40.35901486939172, 'lon': 18.166553513...</td>\n      <td>4</td>\n    </tr>\n  </tbody>\n</table>\n</div>"
     },
     "execution_count": 3,
     "metadata": {},
     "output_type": "execute_result"
    }
   ],
   "source": [
    "# Load dataframe for guide attributes\n",
    "\n",
    "guide_file = open('Data/guides_40.csv')\n",
    "\n",
    "guide_df = pd.read_csv(\n",
    "    filepath_or_buffer = guide_file,\n",
    "    sep = ';',\n",
    "    header = 0,\n",
    "    converters = {'languages_spoken':ast.literal_eval, 'keywords':ast.literal_eval}\n",
    ")\n",
    "\n",
    "guide_df.rename(columns={guide_df.columns[0]: 'id'}, inplace=True)\n",
    "\n",
    "guide_df"
   ]
  },
  {
   "cell_type": "code",
   "execution_count": 4,
   "id": "2566a0b5",
   "metadata": {
    "pycharm": {
     "name": "#%%\n"
    }
   },
   "outputs": [
    {
     "data": {
      "text/plain": "id                   int64\ngender              object\nname                object\nbirth_date          object\nnow_available         bool\nlanguages_spoken    object\nprice                int64\neducation           object\nbiography           object\nkeywords            object\ncurrent_location    object\nexperience           int64\ndtype: object"
     },
     "execution_count": 4,
     "metadata": {},
     "output_type": "execute_result"
    }
   ],
   "source": [
    "guide_df.dtypes"
   ]
  },
  {
   "cell_type": "code",
   "execution_count": 5,
   "id": "31876edc",
   "metadata": {
    "pycharm": {
     "name": "#%%\n"
    }
   },
   "outputs": [
    {
     "data": {
      "text/plain": "       0   1    2\n0      0  32  5.0\n1      0  10  4.0\n2      1  20  5.0\n3      1  15  4.0\n4      2  34  4.0\n..   ...  ..  ...\n300  195  14  4.0\n301  196  18  3.0\n302  197   5  4.0\n303  198  18  4.0\n304  199  34  4.0\n\n[305 rows x 3 columns]",
      "text/html": "<div>\n<style scoped>\n    .dataframe tbody tr th:only-of-type {\n        vertical-align: middle;\n    }\n\n    .dataframe tbody tr th {\n        vertical-align: top;\n    }\n\n    .dataframe thead th {\n        text-align: right;\n    }\n</style>\n<table border=\"1\" class=\"dataframe\">\n  <thead>\n    <tr style=\"text-align: right;\">\n      <th></th>\n      <th>0</th>\n      <th>1</th>\n      <th>2</th>\n    </tr>\n  </thead>\n  <tbody>\n    <tr>\n      <th>0</th>\n      <td>0</td>\n      <td>32</td>\n      <td>5.0</td>\n    </tr>\n    <tr>\n      <th>1</th>\n      <td>0</td>\n      <td>10</td>\n      <td>4.0</td>\n    </tr>\n    <tr>\n      <th>2</th>\n      <td>1</td>\n      <td>20</td>\n      <td>5.0</td>\n    </tr>\n    <tr>\n      <th>3</th>\n      <td>1</td>\n      <td>15</td>\n      <td>4.0</td>\n    </tr>\n    <tr>\n      <th>4</th>\n      <td>2</td>\n      <td>34</td>\n      <td>4.0</td>\n    </tr>\n    <tr>\n      <th>...</th>\n      <td>...</td>\n      <td>...</td>\n      <td>...</td>\n    </tr>\n    <tr>\n      <th>300</th>\n      <td>195</td>\n      <td>14</td>\n      <td>4.0</td>\n    </tr>\n    <tr>\n      <th>301</th>\n      <td>196</td>\n      <td>18</td>\n      <td>3.0</td>\n    </tr>\n    <tr>\n      <th>302</th>\n      <td>197</td>\n      <td>5</td>\n      <td>4.0</td>\n    </tr>\n    <tr>\n      <th>303</th>\n      <td>198</td>\n      <td>18</td>\n      <td>4.0</td>\n    </tr>\n    <tr>\n      <th>304</th>\n      <td>199</td>\n      <td>34</td>\n      <td>4.0</td>\n    </tr>\n  </tbody>\n</table>\n<p>305 rows × 3 columns</p>\n</div>"
     },
     "execution_count": 5,
     "metadata": {},
     "output_type": "execute_result"
    }
   ],
   "source": [
    "# Load dataframe for ratings\n",
    "\n",
    "rating_file = open('Data/ratings_200_40.csv')\n",
    "\n",
    "rating_df = pd.read_csv(\n",
    "    filepath_or_buffer = rating_file,\n",
    "    sep = ';',\n",
    "    header = 0\n",
    ")\n",
    "\n",
    "rating_df"
   ]
  },
  {
   "cell_type": "code",
   "execution_count": 6,
   "id": "f713ea74",
   "metadata": {
    "pycharm": {
     "name": "#%%\n"
    }
   },
   "outputs": [
    {
     "data": {
      "text/plain": "     tourist_id  guide_id  rating\n0             0        32     5.0\n1             0        10     4.0\n2             1        20     5.0\n3             1        15     4.0\n4             2        34     4.0\n..          ...       ...     ...\n300         195        14     4.0\n301         196        18     3.0\n302         197         5     4.0\n303         198        18     4.0\n304         199        34     4.0\n\n[305 rows x 3 columns]",
      "text/html": "<div>\n<style scoped>\n    .dataframe tbody tr th:only-of-type {\n        vertical-align: middle;\n    }\n\n    .dataframe tbody tr th {\n        vertical-align: top;\n    }\n\n    .dataframe thead th {\n        text-align: right;\n    }\n</style>\n<table border=\"1\" class=\"dataframe\">\n  <thead>\n    <tr style=\"text-align: right;\">\n      <th></th>\n      <th>tourist_id</th>\n      <th>guide_id</th>\n      <th>rating</th>\n    </tr>\n  </thead>\n  <tbody>\n    <tr>\n      <th>0</th>\n      <td>0</td>\n      <td>32</td>\n      <td>5.0</td>\n    </tr>\n    <tr>\n      <th>1</th>\n      <td>0</td>\n      <td>10</td>\n      <td>4.0</td>\n    </tr>\n    <tr>\n      <th>2</th>\n      <td>1</td>\n      <td>20</td>\n      <td>5.0</td>\n    </tr>\n    <tr>\n      <th>3</th>\n      <td>1</td>\n      <td>15</td>\n      <td>4.0</td>\n    </tr>\n    <tr>\n      <th>4</th>\n      <td>2</td>\n      <td>34</td>\n      <td>4.0</td>\n    </tr>\n    <tr>\n      <th>...</th>\n      <td>...</td>\n      <td>...</td>\n      <td>...</td>\n    </tr>\n    <tr>\n      <th>300</th>\n      <td>195</td>\n      <td>14</td>\n      <td>4.0</td>\n    </tr>\n    <tr>\n      <th>301</th>\n      <td>196</td>\n      <td>18</td>\n      <td>3.0</td>\n    </tr>\n    <tr>\n      <th>302</th>\n      <td>197</td>\n      <td>5</td>\n      <td>4.0</td>\n    </tr>\n    <tr>\n      <th>303</th>\n      <td>198</td>\n      <td>18</td>\n      <td>4.0</td>\n    </tr>\n    <tr>\n      <th>304</th>\n      <td>199</td>\n      <td>34</td>\n      <td>4.0</td>\n    </tr>\n  </tbody>\n</table>\n<p>305 rows × 3 columns</p>\n</div>"
     },
     "execution_count": 6,
     "metadata": {},
     "output_type": "execute_result"
    }
   ],
   "source": [
    "# Format the rating dataframe\n",
    "\n",
    "rating_df.rename(columns={rating_df.columns[0]: 'tourist_id',\n",
    "                          rating_df.columns[1]: 'guide_id',\n",
    "                          rating_df.columns[2]: 'rating',\n",
    "                         }, inplace=True)\n",
    "\n",
    "rating_df"
   ]
  },
  {
   "cell_type": "code",
   "execution_count": 7,
   "id": "e1d7c9ac",
   "metadata": {
    "pycharm": {
     "name": "#%%\n"
    }
   },
   "outputs": [
    {
     "data": {
      "text/plain": "     tourist_id  guide_id  rating\n0             0        32     5.0\n1             0        10     4.0\n2             1        20     5.0\n3             1        15     4.0\n4             2        34     4.0\n..          ...       ...     ...\n300         195        14     4.0\n301         196        18     3.0\n302         197         5     4.0\n303         198        18     4.0\n304         199        34     4.0\n\n[305 rows x 3 columns]",
      "text/html": "<div>\n<style scoped>\n    .dataframe tbody tr th:only-of-type {\n        vertical-align: middle;\n    }\n\n    .dataframe tbody tr th {\n        vertical-align: top;\n    }\n\n    .dataframe thead th {\n        text-align: right;\n    }\n</style>\n<table border=\"1\" class=\"dataframe\">\n  <thead>\n    <tr style=\"text-align: right;\">\n      <th></th>\n      <th>tourist_id</th>\n      <th>guide_id</th>\n      <th>rating</th>\n    </tr>\n  </thead>\n  <tbody>\n    <tr>\n      <th>0</th>\n      <td>0</td>\n      <td>32</td>\n      <td>5.0</td>\n    </tr>\n    <tr>\n      <th>1</th>\n      <td>0</td>\n      <td>10</td>\n      <td>4.0</td>\n    </tr>\n    <tr>\n      <th>2</th>\n      <td>1</td>\n      <td>20</td>\n      <td>5.0</td>\n    </tr>\n    <tr>\n      <th>3</th>\n      <td>1</td>\n      <td>15</td>\n      <td>4.0</td>\n    </tr>\n    <tr>\n      <th>4</th>\n      <td>2</td>\n      <td>34</td>\n      <td>4.0</td>\n    </tr>\n    <tr>\n      <th>...</th>\n      <td>...</td>\n      <td>...</td>\n      <td>...</td>\n    </tr>\n    <tr>\n      <th>300</th>\n      <td>195</td>\n      <td>14</td>\n      <td>4.0</td>\n    </tr>\n    <tr>\n      <th>301</th>\n      <td>196</td>\n      <td>18</td>\n      <td>3.0</td>\n    </tr>\n    <tr>\n      <th>302</th>\n      <td>197</td>\n      <td>5</td>\n      <td>4.0</td>\n    </tr>\n    <tr>\n      <th>303</th>\n      <td>198</td>\n      <td>18</td>\n      <td>4.0</td>\n    </tr>\n    <tr>\n      <th>304</th>\n      <td>199</td>\n      <td>34</td>\n      <td>4.0</td>\n    </tr>\n  </tbody>\n</table>\n<p>305 rows × 3 columns</p>\n</div>"
     },
     "execution_count": 7,
     "metadata": {},
     "output_type": "execute_result"
    }
   ],
   "source": [
    "# Check if there are duplicated interactions\n",
    "\n",
    "rating_df.drop_duplicates(subset=['tourist_id','guide_id'],inplace=True)\n",
    "rating_df"
   ]
  },
  {
   "cell_type": "markdown",
   "id": "15ff6d74",
   "metadata": {
    "pycharm": {
     "name": "#%% md\n"
    }
   },
   "source": [
    "## Print statistics"
   ]
  },
  {
   "cell_type": "code",
   "execution_count": 8,
   "id": "f9837eba",
   "metadata": {
    "pycharm": {
     "name": "#%%\n"
    }
   },
   "outputs": [
    {
     "name": "stdout",
     "output_type": "stream",
     "text": [
      "Number of tourists: 200\n",
      "Number of guides: 40\n",
      "Number of interactions: 305\n",
      "Average interaction per tourist: 1.52\n",
      "Average interaction per guide: 7.62\n",
      "Sparsity: 96.19 %\n"
     ]
    }
   ],
   "source": [
    "# Statistics about data\n",
    "arr_tourists = tourist_df[\"id\"].unique()\n",
    "arr_guides = guide_df[\"id\"].unique()\n",
    "\n",
    "n_tourists = len(arr_tourists)\n",
    "n_guides = len(arr_guides)\n",
    "n_interactions = len(rating_df)\n",
    "\n",
    "print(\"Number of tourists: {:d}\".format(n_tourists))\n",
    "print(\"Number of guides: {:d}\".format(n_guides))\n",
    "print(\"Number of interactions: {:d}\".format(n_interactions))\n",
    "\n",
    "print(\"Average interaction per tourist: {:.2f}\".format(n_interactions/n_tourists))\n",
    "print(\"Average interaction per guide: {:.2f}\".format(n_interactions/n_guides))\n",
    "print(\"Sparsity: {:.2f} %\".format((1-float(n_interactions)/(n_guides*n_tourists))*100))"
   ]
  },
  {
   "cell_type": "markdown",
   "id": "2f87e5cc",
   "metadata": {
    "pycharm": {
     "name": "#%% md\n"
    }
   },
   "source": [
    "## Create the URM"
   ]
  },
  {
   "cell_type": "code",
   "execution_count": 9,
   "id": "a19d2a76",
   "metadata": {
    "pycharm": {
     "name": "#%%\n"
    }
   },
   "outputs": [
    {
     "data": {
      "text/plain": "<200x40 sparse matrix of type '<class 'numpy.float64'>'\n\twith 305 stored elements in Compressed Sparse Row format>"
     },
     "execution_count": 9,
     "metadata": {},
     "output_type": "execute_result"
    }
   ],
   "source": [
    "# Create the User Rating Matrix\n",
    "URM_all = sps.csr_matrix(\n",
    "    (rating_df[\"rating\"].values,\n",
    "    (rating_df[\"tourist_id\"].values, rating_df[\"guide_id\"].values))\n",
    ")\n",
    "\n",
    "URM_all"
   ]
  },
  {
   "cell_type": "code",
   "execution_count": 10,
   "id": "ff9e91c6",
   "metadata": {
    "pycharm": {
     "name": "#%%\n"
    }
   },
   "outputs": [],
   "source": [
    "URM_train = URM_all"
   ]
  },
  {
   "cell_type": "markdown",
   "id": "e0cad307",
   "metadata": {
    "pycharm": {
     "name": "#%% md\n"
    }
   },
   "source": [
    "## Create the ICM"
   ]
  },
  {
   "cell_type": "code",
   "execution_count": 11,
   "id": "1a7d3fbf",
   "metadata": {
    "pycharm": {
     "name": "#%%\n"
    }
   },
   "outputs": [],
   "source": [
    "icm_df = guide_df.copy(deep=True)"
   ]
  },
  {
   "cell_type": "code",
   "execution_count": 12,
   "outputs": [],
   "source": [
    "def replace_birth_year(x):\n",
    "    if x > 1984:\n",
    "        return '20-40'\n",
    "    else:\n",
    "        return '40+'\n",
    "\n",
    "icm_df['birth_date'] = icm_df['birth_date'].apply(\n",
    "    lambda x: replace_birth_year(pd.to_datetime(x, format=\"%Y-%m-%d\").year)\n",
    ")"
   ],
   "metadata": {
    "collapsed": false,
    "pycharm": {
     "name": "#%%\n"
    }
   }
  },
  {
   "cell_type": "code",
   "execution_count": 13,
   "outputs": [],
   "source": [
    "def replace_experience(x):\n",
    "    if x < 5:\n",
    "        return 'junior'\n",
    "    elif x < 10:\n",
    "        return 'experienced'\n",
    "    else:\n",
    "        return 'senior'\n",
    "\n",
    "icm_df['experience'] = icm_df['experience'].apply(replace_experience)"
   ],
   "metadata": {
    "collapsed": false,
    "pycharm": {
     "name": "#%%\n"
    }
   }
  },
  {
   "cell_type": "code",
   "execution_count": 14,
   "outputs": [
    {
     "data": {
      "text/plain": "price    29.175\ndtype: float64"
     },
     "execution_count": 14,
     "metadata": {},
     "output_type": "execute_result"
    }
   ],
   "source": [
    "icm_df[['price']].mean(axis=0)"
   ],
   "metadata": {
    "collapsed": false,
    "pycharm": {
     "name": "#%%\n"
    }
   }
  },
  {
   "cell_type": "code",
   "execution_count": 15,
   "outputs": [],
   "source": [
    "def replace_price(x):\n",
    "    if x < 25:\n",
    "        return 'low_cost'\n",
    "    elif x < 35:\n",
    "        return 'medium_cost'\n",
    "    else:\n",
    "        return 'high_cost'\n",
    "\n",
    "icm_df['price'] = icm_df['price'].apply(replace_price)"
   ],
   "metadata": {
    "collapsed": false,
    "pycharm": {
     "name": "#%%\n"
    }
   }
  },
  {
   "cell_type": "code",
   "execution_count": 16,
   "outputs": [
    {
     "data": {
      "text/plain": "    id  gender               name birth_date  now_available  \\\n0    0    male    Jeffrey Carroll        40+           True   \n1    1  female      Regina Thomas      20-40           True   \n2    2  female  Brianna Nicholson        40+           True   \n3    3    male         Jordan Ali      20-40           True   \n4    4    male      Steven Taylor      20-40           True   \n5    5    male    Ronald Mitchell        40+           True   \n6    6    male         John Lloyd        40+           True   \n7    7    male      Jason Hartman        40+           True   \n8    8    male       Cody Stevens      20-40           True   \n9    9    male       Daniel Carey      20-40           True   \n10  10  female     Ellen Benjamin        40+           True   \n11  11  female        Monica Webb      20-40           True   \n12  12  female        Monica Cruz      20-40           True   \n13  13  female    Vanessa Wallace      20-40           True   \n14  14    male     Bobby Galloway        40+           True   \n15  15    male  Russell Patterson        40+           True   \n16  16    male     Kenneth Santos      20-40           True   \n17  17    male    Jonathan Taylor      20-40           True   \n18  18    male         Frank Bond        40+           True   \n19  19  female      Angel Whitney      20-40           True   \n20  20  female      Theresa Brown      20-40           True   \n21  21    male    Anthony Hensley        40+           True   \n22  22  female     Denise Carroll        40+           True   \n23  23  female        Karen Adams        40+           True   \n24  24  female      Rebecca Cohen      20-40           True   \n25  25  female       Anna Shannon      20-40           True   \n26  26    male  Michael Schneider      20-40           True   \n27  27  female      Kelly Garrett        40+           True   \n28  28  female       Lisa Woodard        40+           True   \n29  29  female       Melissa Hart      20-40           True   \n30  30  female     Ashley Johnson      20-40           True   \n31  31    male         Eric Smith        40+           True   \n32  32  female      Angela Morgan        40+           True   \n33  33    male     Matthew Barker      20-40           True   \n34  34  female    Brittany Martin        40+           True   \n35  35    male       Mark Hammond        40+           True   \n36  36    male  Robert Harrington        40+           True   \n37  37    male   Gabriel Jacobson        40+           True   \n38  38  female      Joann Sweeney      20-40           True   \n39  39  female        Nancy Clark        40+           True   \n\n                          languages_spoken        price      education  \\\n0                                [english]  medium_cost    high-school   \n1                         [italian, dutch]    high_cost  middle-school   \n2               [chinese, french, english]  medium_cost            phd   \n3                              [bulgarian]    high_cost       bachelor   \n4                       [deutsche, french]  medium_cost         master   \n5             [deutsche, dutch, bulgarian]  medium_cost  middle-school   \n6               [english, chinese, french]  medium_cost  middle-school   \n7        [spanish, dutch, french, italian]  medium_cost       bachelor   \n8            [bulgarian, english, chinese]  medium_cost  middle-school   \n9     [chinese, bulgarian, dutch, english]    high_cost            phd   \n10                   [bulgarian, deutsche]     low_cost    high-school   \n11                             [bulgarian]     low_cost            phd   \n12                [dutch, french, italian]     low_cost       bachelor   \n13                      [chinese, english]  medium_cost         master   \n14                       [chinese, french]    high_cost  middle-school   \n15                     [deutsche, chinese]  medium_cost  middle-school   \n16            [spanish, bulgarian, french]  medium_cost  middle-school   \n17                                 [dutch]  medium_cost         master   \n18                        [italian, dutch]     low_cost       bachelor   \n19          [bulgarian, deutsche, english]    high_cost  middle-school   \n20                      [deutsche, french]    high_cost         master   \n21                               [chinese]  medium_cost    high-school   \n22                      [chinese, spanish]  medium_cost    high-school   \n23           [english, italian, bulgarian]     low_cost  middle-school   \n24             [dutch, italian, bulgarian]  medium_cost    high-school   \n25                             [bulgarian]  medium_cost            phd   \n26                                 [dutch]  medium_cost            phd   \n27                               [italian]  medium_cost            phd   \n28                               [spanish]  medium_cost  middle-school   \n29                    [bulgarian, chinese]  medium_cost         master   \n30             [french, deutsche, english]  medium_cost       bachelor   \n31             [deutsche, french, english]     low_cost         master   \n32                     [french, bulgarian]  medium_cost            phd   \n33                                [french]  medium_cost  middle-school   \n34  [chinese, spanish, bulgarian, italian]  medium_cost  middle-school   \n35                       [italian, french]  medium_cost         master   \n36                               [spanish]  medium_cost            phd   \n37                                 [dutch]  medium_cost         master   \n38                               [italian]  medium_cost         master   \n39                        [spanish, dutch]  medium_cost  middle-school   \n\n                                            biography  \\\n0                                        Sports coach   \n1                                       Stage manager   \n2                     Psychotherapist, dance movement   \n3   Scientist, clinical (histocompatibility and im...   \n4                           Trading standards officer   \n5                           Teacher, secondary school   \n6                                Engineer, electrical   \n7                                   Fish farm manager   \n8                                      Therapist, art   \n9                                   Fish farm manager   \n10                                Corporate treasurer   \n11                Designer, blown glass/stained glass   \n12                        Advertising account planner   \n13                                      Warden/ranger   \n14               Accountant, chartered public finance   \n15                            Chief Operating Officer   \n16                                            Actuary   \n17                                Magazine journalist   \n18                                               Land   \n19                                  Probation officer   \n20                    Accountant, chartered certified   \n21                                 Surveyor, quantity   \n22                                  Fisheries officer   \n23                         Television camera operator   \n24                               Financial controller   \n25              Development worker, international aid   \n26                                  Probation officer   \n27                     Chartered certified accountant   \n28                   Accountant, chartered management   \n29                              Geneticist, molecular   \n30                           Secondary school teacher   \n31                                Broadcast presenter   \n32                            Water quality scientist   \n33                               Public house manager   \n34                               Community pharmacist   \n35                                  Transport planner   \n36                                  Software engineer   \n37                                   Product designer   \n38                              Child psychotherapist   \n39                    Producer, television/film/video   \n\n                                             keywords  \\\n0                                           [museums]   \n1                    [cinema, rafting, history, wine]   \n2                             [food, archeology, art]   \n3                         [countryside, rafting, art]   \n4                       [countryside, tracking, beer]   \n5                                                  []   \n6                               [rafting, art, sport]   \n7                   [museums, art, countryside, wine]   \n8                         [literature, cinema, music]   \n9                                           [museums]   \n10     [cinema, rafting, sport, museums, countryside]   \n11                            [cinema, beer, rafting]   \n12                               [sport, music, beer]   \n13                          [sport, archeology, beer]   \n14                                          [museums]   \n15                [music, food, tracking, archeology]   \n16                         [countryside, music, beer]   \n17                                 [wine, sport, art]   \n18                                             [food]   \n19                                                 []   \n20                           [rafting, museums, food]   \n21                                           [cinema]   \n22  [history, countryside, cinema, literature, music]   \n23                                         [tracking]   \n24                                                 []   \n25                                       [literature]   \n26                          [tracking, beer, museums]   \n27                                [countryside, beer]   \n28     [food, rafting, museums, music, art, tracking]   \n29                 [archeology, literature, tracking]   \n30                                            [music]   \n31                         [music, countryside, food]   \n32                                [archeology, music]   \n33             [beer, music, countryside, archeology]   \n34                                                 []   \n35                                            [music]   \n36                                                 []   \n37                                                 []   \n38                                                 []   \n39                                          [history]   \n\n                                     current_location   experience  \n0   {'lat': 40.342693584880706, 'lon': 18.16438078...       senior  \n1   {'lat': 40.3367551413547, 'lon': 18.1569120995...       senior  \n2   {'lat': 40.362447049660204, 'lon': 18.14225129...       senior  \n3   {'lat': 40.36584086550253, 'lon': 18.183002910...  experienced  \n4   {'lat': 40.354724889812935, 'lon': 18.20308322...       senior  \n5   {'lat': 40.35854623058413, 'lon': 18.183459879...       junior  \n6   {'lat': 40.35774331848761, 'lon': 18.163273185...       senior  \n7   {'lat': 40.365193043282794, 'lon': 18.18548169...       senior  \n8   {'lat': 40.35265552781134, 'lon': 18.151723396...       junior  \n9   {'lat': 40.33774657696426, 'lon': 18.182064664...       junior  \n10  {'lat': 40.36612881009787, 'lon': 18.182042843...       senior  \n11  {'lat': 40.367394960036485, 'lon': 18.17553586...       senior  \n12  {'lat': 40.34268462008425, 'lon': 18.187542175...       junior  \n13  {'lat': 40.35377358678542, 'lon': 18.174728239...  experienced  \n14  {'lat': 40.353069674191346, 'lon': 18.17755576...       senior  \n15  {'lat': 40.35272705494921, 'lon': 18.165705019...       senior  \n16  {'lat': 40.32347428820915, 'lon': 18.164571467...       junior  \n17  {'lat': 40.36624424923941, 'lon': 18.174443383...       junior  \n18  {'lat': 40.362871505646005, 'lon': 18.18292777...  experienced  \n19  {'lat': 40.339915788807765, 'lon': 18.18379781...       junior  \n20  {'lat': 40.357612936236265, 'lon': 18.16907898...       junior  \n21  {'lat': 40.342846292499104, 'lon': 18.16089760...       senior  \n22  {'lat': 40.36846436096489, 'lon': 18.171263566...       senior  \n23  {'lat': 40.364408581391295, 'lon': 18.16428124...  experienced  \n24  {'lat': 40.32998981194129, 'lon': 18.175342312...       senior  \n25  {'lat': 40.36710284805045, 'lon': 18.179956956...       senior  \n26  {'lat': 40.37981446263931, 'lon': 18.178854600...       senior  \n27  {'lat': 40.3457074414046, 'lon': 18.1747654675...       senior  \n28  {'lat': 40.35079556972286, 'lon': 18.181927024...       senior  \n29  {'lat': 40.35465462623879, 'lon': 18.172666005...  experienced  \n30  {'lat': 40.361047668976795, 'lon': 18.18633484...  experienced  \n31  {'lat': 40.339171732936364, 'lon': 18.16792590...       junior  \n32  {'lat': 40.343414579847, 'lon': 18.18565562805...       senior  \n33  {'lat': 40.34424559835338, 'lon': 18.174907197...  experienced  \n34  {'lat': 40.38198340911851, 'lon': 18.173378831...       senior  \n35  {'lat': 40.36699713437984, 'lon': 18.165786470...       junior  \n36  {'lat': 40.358649720289904, 'lon': 18.16378056...  experienced  \n37  {'lat': 40.3604075695112, 'lon': 18.1615738690...       junior  \n38  {'lat': 40.36497247240833, 'lon': 18.173581152...       junior  \n39  {'lat': 40.35901486939172, 'lon': 18.166553513...       junior  ",
      "text/html": "<div>\n<style scoped>\n    .dataframe tbody tr th:only-of-type {\n        vertical-align: middle;\n    }\n\n    .dataframe tbody tr th {\n        vertical-align: top;\n    }\n\n    .dataframe thead th {\n        text-align: right;\n    }\n</style>\n<table border=\"1\" class=\"dataframe\">\n  <thead>\n    <tr style=\"text-align: right;\">\n      <th></th>\n      <th>id</th>\n      <th>gender</th>\n      <th>name</th>\n      <th>birth_date</th>\n      <th>now_available</th>\n      <th>languages_spoken</th>\n      <th>price</th>\n      <th>education</th>\n      <th>biography</th>\n      <th>keywords</th>\n      <th>current_location</th>\n      <th>experience</th>\n    </tr>\n  </thead>\n  <tbody>\n    <tr>\n      <th>0</th>\n      <td>0</td>\n      <td>male</td>\n      <td>Jeffrey Carroll</td>\n      <td>40+</td>\n      <td>True</td>\n      <td>[english]</td>\n      <td>medium_cost</td>\n      <td>high-school</td>\n      <td>Sports coach</td>\n      <td>[museums]</td>\n      <td>{'lat': 40.342693584880706, 'lon': 18.16438078...</td>\n      <td>senior</td>\n    </tr>\n    <tr>\n      <th>1</th>\n      <td>1</td>\n      <td>female</td>\n      <td>Regina Thomas</td>\n      <td>20-40</td>\n      <td>True</td>\n      <td>[italian, dutch]</td>\n      <td>high_cost</td>\n      <td>middle-school</td>\n      <td>Stage manager</td>\n      <td>[cinema, rafting, history, wine]</td>\n      <td>{'lat': 40.3367551413547, 'lon': 18.1569120995...</td>\n      <td>senior</td>\n    </tr>\n    <tr>\n      <th>2</th>\n      <td>2</td>\n      <td>female</td>\n      <td>Brianna Nicholson</td>\n      <td>40+</td>\n      <td>True</td>\n      <td>[chinese, french, english]</td>\n      <td>medium_cost</td>\n      <td>phd</td>\n      <td>Psychotherapist, dance movement</td>\n      <td>[food, archeology, art]</td>\n      <td>{'lat': 40.362447049660204, 'lon': 18.14225129...</td>\n      <td>senior</td>\n    </tr>\n    <tr>\n      <th>3</th>\n      <td>3</td>\n      <td>male</td>\n      <td>Jordan Ali</td>\n      <td>20-40</td>\n      <td>True</td>\n      <td>[bulgarian]</td>\n      <td>high_cost</td>\n      <td>bachelor</td>\n      <td>Scientist, clinical (histocompatibility and im...</td>\n      <td>[countryside, rafting, art]</td>\n      <td>{'lat': 40.36584086550253, 'lon': 18.183002910...</td>\n      <td>experienced</td>\n    </tr>\n    <tr>\n      <th>4</th>\n      <td>4</td>\n      <td>male</td>\n      <td>Steven Taylor</td>\n      <td>20-40</td>\n      <td>True</td>\n      <td>[deutsche, french]</td>\n      <td>medium_cost</td>\n      <td>master</td>\n      <td>Trading standards officer</td>\n      <td>[countryside, tracking, beer]</td>\n      <td>{'lat': 40.354724889812935, 'lon': 18.20308322...</td>\n      <td>senior</td>\n    </tr>\n    <tr>\n      <th>5</th>\n      <td>5</td>\n      <td>male</td>\n      <td>Ronald Mitchell</td>\n      <td>40+</td>\n      <td>True</td>\n      <td>[deutsche, dutch, bulgarian]</td>\n      <td>medium_cost</td>\n      <td>middle-school</td>\n      <td>Teacher, secondary school</td>\n      <td>[]</td>\n      <td>{'lat': 40.35854623058413, 'lon': 18.183459879...</td>\n      <td>junior</td>\n    </tr>\n    <tr>\n      <th>6</th>\n      <td>6</td>\n      <td>male</td>\n      <td>John Lloyd</td>\n      <td>40+</td>\n      <td>True</td>\n      <td>[english, chinese, french]</td>\n      <td>medium_cost</td>\n      <td>middle-school</td>\n      <td>Engineer, electrical</td>\n      <td>[rafting, art, sport]</td>\n      <td>{'lat': 40.35774331848761, 'lon': 18.163273185...</td>\n      <td>senior</td>\n    </tr>\n    <tr>\n      <th>7</th>\n      <td>7</td>\n      <td>male</td>\n      <td>Jason Hartman</td>\n      <td>40+</td>\n      <td>True</td>\n      <td>[spanish, dutch, french, italian]</td>\n      <td>medium_cost</td>\n      <td>bachelor</td>\n      <td>Fish farm manager</td>\n      <td>[museums, art, countryside, wine]</td>\n      <td>{'lat': 40.365193043282794, 'lon': 18.18548169...</td>\n      <td>senior</td>\n    </tr>\n    <tr>\n      <th>8</th>\n      <td>8</td>\n      <td>male</td>\n      <td>Cody Stevens</td>\n      <td>20-40</td>\n      <td>True</td>\n      <td>[bulgarian, english, chinese]</td>\n      <td>medium_cost</td>\n      <td>middle-school</td>\n      <td>Therapist, art</td>\n      <td>[literature, cinema, music]</td>\n      <td>{'lat': 40.35265552781134, 'lon': 18.151723396...</td>\n      <td>junior</td>\n    </tr>\n    <tr>\n      <th>9</th>\n      <td>9</td>\n      <td>male</td>\n      <td>Daniel Carey</td>\n      <td>20-40</td>\n      <td>True</td>\n      <td>[chinese, bulgarian, dutch, english]</td>\n      <td>high_cost</td>\n      <td>phd</td>\n      <td>Fish farm manager</td>\n      <td>[museums]</td>\n      <td>{'lat': 40.33774657696426, 'lon': 18.182064664...</td>\n      <td>junior</td>\n    </tr>\n    <tr>\n      <th>10</th>\n      <td>10</td>\n      <td>female</td>\n      <td>Ellen Benjamin</td>\n      <td>40+</td>\n      <td>True</td>\n      <td>[bulgarian, deutsche]</td>\n      <td>low_cost</td>\n      <td>high-school</td>\n      <td>Corporate treasurer</td>\n      <td>[cinema, rafting, sport, museums, countryside]</td>\n      <td>{'lat': 40.36612881009787, 'lon': 18.182042843...</td>\n      <td>senior</td>\n    </tr>\n    <tr>\n      <th>11</th>\n      <td>11</td>\n      <td>female</td>\n      <td>Monica Webb</td>\n      <td>20-40</td>\n      <td>True</td>\n      <td>[bulgarian]</td>\n      <td>low_cost</td>\n      <td>phd</td>\n      <td>Designer, blown glass/stained glass</td>\n      <td>[cinema, beer, rafting]</td>\n      <td>{'lat': 40.367394960036485, 'lon': 18.17553586...</td>\n      <td>senior</td>\n    </tr>\n    <tr>\n      <th>12</th>\n      <td>12</td>\n      <td>female</td>\n      <td>Monica Cruz</td>\n      <td>20-40</td>\n      <td>True</td>\n      <td>[dutch, french, italian]</td>\n      <td>low_cost</td>\n      <td>bachelor</td>\n      <td>Advertising account planner</td>\n      <td>[sport, music, beer]</td>\n      <td>{'lat': 40.34268462008425, 'lon': 18.187542175...</td>\n      <td>junior</td>\n    </tr>\n    <tr>\n      <th>13</th>\n      <td>13</td>\n      <td>female</td>\n      <td>Vanessa Wallace</td>\n      <td>20-40</td>\n      <td>True</td>\n      <td>[chinese, english]</td>\n      <td>medium_cost</td>\n      <td>master</td>\n      <td>Warden/ranger</td>\n      <td>[sport, archeology, beer]</td>\n      <td>{'lat': 40.35377358678542, 'lon': 18.174728239...</td>\n      <td>experienced</td>\n    </tr>\n    <tr>\n      <th>14</th>\n      <td>14</td>\n      <td>male</td>\n      <td>Bobby Galloway</td>\n      <td>40+</td>\n      <td>True</td>\n      <td>[chinese, french]</td>\n      <td>high_cost</td>\n      <td>middle-school</td>\n      <td>Accountant, chartered public finance</td>\n      <td>[museums]</td>\n      <td>{'lat': 40.353069674191346, 'lon': 18.17755576...</td>\n      <td>senior</td>\n    </tr>\n    <tr>\n      <th>15</th>\n      <td>15</td>\n      <td>male</td>\n      <td>Russell Patterson</td>\n      <td>40+</td>\n      <td>True</td>\n      <td>[deutsche, chinese]</td>\n      <td>medium_cost</td>\n      <td>middle-school</td>\n      <td>Chief Operating Officer</td>\n      <td>[music, food, tracking, archeology]</td>\n      <td>{'lat': 40.35272705494921, 'lon': 18.165705019...</td>\n      <td>senior</td>\n    </tr>\n    <tr>\n      <th>16</th>\n      <td>16</td>\n      <td>male</td>\n      <td>Kenneth Santos</td>\n      <td>20-40</td>\n      <td>True</td>\n      <td>[spanish, bulgarian, french]</td>\n      <td>medium_cost</td>\n      <td>middle-school</td>\n      <td>Actuary</td>\n      <td>[countryside, music, beer]</td>\n      <td>{'lat': 40.32347428820915, 'lon': 18.164571467...</td>\n      <td>junior</td>\n    </tr>\n    <tr>\n      <th>17</th>\n      <td>17</td>\n      <td>male</td>\n      <td>Jonathan Taylor</td>\n      <td>20-40</td>\n      <td>True</td>\n      <td>[dutch]</td>\n      <td>medium_cost</td>\n      <td>master</td>\n      <td>Magazine journalist</td>\n      <td>[wine, sport, art]</td>\n      <td>{'lat': 40.36624424923941, 'lon': 18.174443383...</td>\n      <td>junior</td>\n    </tr>\n    <tr>\n      <th>18</th>\n      <td>18</td>\n      <td>male</td>\n      <td>Frank Bond</td>\n      <td>40+</td>\n      <td>True</td>\n      <td>[italian, dutch]</td>\n      <td>low_cost</td>\n      <td>bachelor</td>\n      <td>Land</td>\n      <td>[food]</td>\n      <td>{'lat': 40.362871505646005, 'lon': 18.18292777...</td>\n      <td>experienced</td>\n    </tr>\n    <tr>\n      <th>19</th>\n      <td>19</td>\n      <td>female</td>\n      <td>Angel Whitney</td>\n      <td>20-40</td>\n      <td>True</td>\n      <td>[bulgarian, deutsche, english]</td>\n      <td>high_cost</td>\n      <td>middle-school</td>\n      <td>Probation officer</td>\n      <td>[]</td>\n      <td>{'lat': 40.339915788807765, 'lon': 18.18379781...</td>\n      <td>junior</td>\n    </tr>\n    <tr>\n      <th>20</th>\n      <td>20</td>\n      <td>female</td>\n      <td>Theresa Brown</td>\n      <td>20-40</td>\n      <td>True</td>\n      <td>[deutsche, french]</td>\n      <td>high_cost</td>\n      <td>master</td>\n      <td>Accountant, chartered certified</td>\n      <td>[rafting, museums, food]</td>\n      <td>{'lat': 40.357612936236265, 'lon': 18.16907898...</td>\n      <td>junior</td>\n    </tr>\n    <tr>\n      <th>21</th>\n      <td>21</td>\n      <td>male</td>\n      <td>Anthony Hensley</td>\n      <td>40+</td>\n      <td>True</td>\n      <td>[chinese]</td>\n      <td>medium_cost</td>\n      <td>high-school</td>\n      <td>Surveyor, quantity</td>\n      <td>[cinema]</td>\n      <td>{'lat': 40.342846292499104, 'lon': 18.16089760...</td>\n      <td>senior</td>\n    </tr>\n    <tr>\n      <th>22</th>\n      <td>22</td>\n      <td>female</td>\n      <td>Denise Carroll</td>\n      <td>40+</td>\n      <td>True</td>\n      <td>[chinese, spanish]</td>\n      <td>medium_cost</td>\n      <td>high-school</td>\n      <td>Fisheries officer</td>\n      <td>[history, countryside, cinema, literature, music]</td>\n      <td>{'lat': 40.36846436096489, 'lon': 18.171263566...</td>\n      <td>senior</td>\n    </tr>\n    <tr>\n      <th>23</th>\n      <td>23</td>\n      <td>female</td>\n      <td>Karen Adams</td>\n      <td>40+</td>\n      <td>True</td>\n      <td>[english, italian, bulgarian]</td>\n      <td>low_cost</td>\n      <td>middle-school</td>\n      <td>Television camera operator</td>\n      <td>[tracking]</td>\n      <td>{'lat': 40.364408581391295, 'lon': 18.16428124...</td>\n      <td>experienced</td>\n    </tr>\n    <tr>\n      <th>24</th>\n      <td>24</td>\n      <td>female</td>\n      <td>Rebecca Cohen</td>\n      <td>20-40</td>\n      <td>True</td>\n      <td>[dutch, italian, bulgarian]</td>\n      <td>medium_cost</td>\n      <td>high-school</td>\n      <td>Financial controller</td>\n      <td>[]</td>\n      <td>{'lat': 40.32998981194129, 'lon': 18.175342312...</td>\n      <td>senior</td>\n    </tr>\n    <tr>\n      <th>25</th>\n      <td>25</td>\n      <td>female</td>\n      <td>Anna Shannon</td>\n      <td>20-40</td>\n      <td>True</td>\n      <td>[bulgarian]</td>\n      <td>medium_cost</td>\n      <td>phd</td>\n      <td>Development worker, international aid</td>\n      <td>[literature]</td>\n      <td>{'lat': 40.36710284805045, 'lon': 18.179956956...</td>\n      <td>senior</td>\n    </tr>\n    <tr>\n      <th>26</th>\n      <td>26</td>\n      <td>male</td>\n      <td>Michael Schneider</td>\n      <td>20-40</td>\n      <td>True</td>\n      <td>[dutch]</td>\n      <td>medium_cost</td>\n      <td>phd</td>\n      <td>Probation officer</td>\n      <td>[tracking, beer, museums]</td>\n      <td>{'lat': 40.37981446263931, 'lon': 18.178854600...</td>\n      <td>senior</td>\n    </tr>\n    <tr>\n      <th>27</th>\n      <td>27</td>\n      <td>female</td>\n      <td>Kelly Garrett</td>\n      <td>40+</td>\n      <td>True</td>\n      <td>[italian]</td>\n      <td>medium_cost</td>\n      <td>phd</td>\n      <td>Chartered certified accountant</td>\n      <td>[countryside, beer]</td>\n      <td>{'lat': 40.3457074414046, 'lon': 18.1747654675...</td>\n      <td>senior</td>\n    </tr>\n    <tr>\n      <th>28</th>\n      <td>28</td>\n      <td>female</td>\n      <td>Lisa Woodard</td>\n      <td>40+</td>\n      <td>True</td>\n      <td>[spanish]</td>\n      <td>medium_cost</td>\n      <td>middle-school</td>\n      <td>Accountant, chartered management</td>\n      <td>[food, rafting, museums, music, art, tracking]</td>\n      <td>{'lat': 40.35079556972286, 'lon': 18.181927024...</td>\n      <td>senior</td>\n    </tr>\n    <tr>\n      <th>29</th>\n      <td>29</td>\n      <td>female</td>\n      <td>Melissa Hart</td>\n      <td>20-40</td>\n      <td>True</td>\n      <td>[bulgarian, chinese]</td>\n      <td>medium_cost</td>\n      <td>master</td>\n      <td>Geneticist, molecular</td>\n      <td>[archeology, literature, tracking]</td>\n      <td>{'lat': 40.35465462623879, 'lon': 18.172666005...</td>\n      <td>experienced</td>\n    </tr>\n    <tr>\n      <th>30</th>\n      <td>30</td>\n      <td>female</td>\n      <td>Ashley Johnson</td>\n      <td>20-40</td>\n      <td>True</td>\n      <td>[french, deutsche, english]</td>\n      <td>medium_cost</td>\n      <td>bachelor</td>\n      <td>Secondary school teacher</td>\n      <td>[music]</td>\n      <td>{'lat': 40.361047668976795, 'lon': 18.18633484...</td>\n      <td>experienced</td>\n    </tr>\n    <tr>\n      <th>31</th>\n      <td>31</td>\n      <td>male</td>\n      <td>Eric Smith</td>\n      <td>40+</td>\n      <td>True</td>\n      <td>[deutsche, french, english]</td>\n      <td>low_cost</td>\n      <td>master</td>\n      <td>Broadcast presenter</td>\n      <td>[music, countryside, food]</td>\n      <td>{'lat': 40.339171732936364, 'lon': 18.16792590...</td>\n      <td>junior</td>\n    </tr>\n    <tr>\n      <th>32</th>\n      <td>32</td>\n      <td>female</td>\n      <td>Angela Morgan</td>\n      <td>40+</td>\n      <td>True</td>\n      <td>[french, bulgarian]</td>\n      <td>medium_cost</td>\n      <td>phd</td>\n      <td>Water quality scientist</td>\n      <td>[archeology, music]</td>\n      <td>{'lat': 40.343414579847, 'lon': 18.18565562805...</td>\n      <td>senior</td>\n    </tr>\n    <tr>\n      <th>33</th>\n      <td>33</td>\n      <td>male</td>\n      <td>Matthew Barker</td>\n      <td>20-40</td>\n      <td>True</td>\n      <td>[french]</td>\n      <td>medium_cost</td>\n      <td>middle-school</td>\n      <td>Public house manager</td>\n      <td>[beer, music, countryside, archeology]</td>\n      <td>{'lat': 40.34424559835338, 'lon': 18.174907197...</td>\n      <td>experienced</td>\n    </tr>\n    <tr>\n      <th>34</th>\n      <td>34</td>\n      <td>female</td>\n      <td>Brittany Martin</td>\n      <td>40+</td>\n      <td>True</td>\n      <td>[chinese, spanish, bulgarian, italian]</td>\n      <td>medium_cost</td>\n      <td>middle-school</td>\n      <td>Community pharmacist</td>\n      <td>[]</td>\n      <td>{'lat': 40.38198340911851, 'lon': 18.173378831...</td>\n      <td>senior</td>\n    </tr>\n    <tr>\n      <th>35</th>\n      <td>35</td>\n      <td>male</td>\n      <td>Mark Hammond</td>\n      <td>40+</td>\n      <td>True</td>\n      <td>[italian, french]</td>\n      <td>medium_cost</td>\n      <td>master</td>\n      <td>Transport planner</td>\n      <td>[music]</td>\n      <td>{'lat': 40.36699713437984, 'lon': 18.165786470...</td>\n      <td>junior</td>\n    </tr>\n    <tr>\n      <th>36</th>\n      <td>36</td>\n      <td>male</td>\n      <td>Robert Harrington</td>\n      <td>40+</td>\n      <td>True</td>\n      <td>[spanish]</td>\n      <td>medium_cost</td>\n      <td>phd</td>\n      <td>Software engineer</td>\n      <td>[]</td>\n      <td>{'lat': 40.358649720289904, 'lon': 18.16378056...</td>\n      <td>experienced</td>\n    </tr>\n    <tr>\n      <th>37</th>\n      <td>37</td>\n      <td>male</td>\n      <td>Gabriel Jacobson</td>\n      <td>40+</td>\n      <td>True</td>\n      <td>[dutch]</td>\n      <td>medium_cost</td>\n      <td>master</td>\n      <td>Product designer</td>\n      <td>[]</td>\n      <td>{'lat': 40.3604075695112, 'lon': 18.1615738690...</td>\n      <td>junior</td>\n    </tr>\n    <tr>\n      <th>38</th>\n      <td>38</td>\n      <td>female</td>\n      <td>Joann Sweeney</td>\n      <td>20-40</td>\n      <td>True</td>\n      <td>[italian]</td>\n      <td>medium_cost</td>\n      <td>master</td>\n      <td>Child psychotherapist</td>\n      <td>[]</td>\n      <td>{'lat': 40.36497247240833, 'lon': 18.173581152...</td>\n      <td>junior</td>\n    </tr>\n    <tr>\n      <th>39</th>\n      <td>39</td>\n      <td>female</td>\n      <td>Nancy Clark</td>\n      <td>40+</td>\n      <td>True</td>\n      <td>[spanish, dutch]</td>\n      <td>medium_cost</td>\n      <td>middle-school</td>\n      <td>Producer, television/film/video</td>\n      <td>[history]</td>\n      <td>{'lat': 40.35901486939172, 'lon': 18.166553513...</td>\n      <td>junior</td>\n    </tr>\n  </tbody>\n</table>\n</div>"
     },
     "execution_count": 16,
     "metadata": {},
     "output_type": "execute_result"
    }
   ],
   "source": [
    "icm_df"
   ],
   "metadata": {
    "collapsed": false,
    "pycharm": {
     "name": "#%%\n"
    }
   }
  },
  {
   "cell_type": "code",
   "execution_count": 17,
   "outputs": [],
   "source": [
    "icm_df.drop(labels=['name', 'now_available', 'current_location'], axis=1, inplace=True)"
   ],
   "metadata": {
    "collapsed": false,
    "pycharm": {
     "name": "#%%\n"
    }
   }
  },
  {
   "cell_type": "code",
   "execution_count": 18,
   "id": "32a50368",
   "metadata": {
    "pycharm": {
     "name": "#%%\n"
    }
   },
   "outputs": [],
   "source": [
    "multiclass_attributes = ['gender', 'price', 'experience', 'birth_date', 'education', 'biography', 'languages_spoken', 'keywords']\n",
    "\n",
    "for n in multiclass_attributes:\n",
    "    s = icm_df[n].explode()\n",
    "    icm_df = icm_df.join(pd.crosstab(s.index, s).astype(object)).fillna(0)\n",
    "    icm_df.drop(labels=n,axis=1,inplace=True)"
   ]
  },
  {
   "cell_type": "code",
   "execution_count": 19,
   "id": "a4f9466b",
   "metadata": {
    "pycharm": {
     "name": "#%%\n"
    }
   },
   "outputs": [
    {
     "data": {
      "text/plain": "    id  female  male  high_cost  low_cost  medium_cost  experienced  junior  \\\n0    0       0     1          0         0            1            0       0   \n1    1       1     0          1         0            0            0       0   \n2    2       1     0          0         0            1            0       0   \n3    3       0     1          1         0            0            1       0   \n4    4       0     1          0         0            1            0       0   \n5    5       0     1          0         0            1            0       1   \n6    6       0     1          0         0            1            0       0   \n7    7       0     1          0         0            1            0       0   \n8    8       0     1          0         0            1            0       1   \n9    9       0     1          1         0            0            0       1   \n10  10       1     0          0         1            0            0       0   \n11  11       1     0          0         1            0            0       0   \n12  12       1     0          0         1            0            0       1   \n13  13       1     0          0         0            1            1       0   \n14  14       0     1          1         0            0            0       0   \n15  15       0     1          0         0            1            0       0   \n16  16       0     1          0         0            1            0       1   \n17  17       0     1          0         0            1            0       1   \n18  18       0     1          0         1            0            1       0   \n19  19       1     0          1         0            0            0       1   \n20  20       1     0          1         0            0            0       1   \n21  21       0     1          0         0            1            0       0   \n22  22       1     0          0         0            1            0       0   \n23  23       1     0          0         1            0            1       0   \n24  24       1     0          0         0            1            0       0   \n25  25       1     0          0         0            1            0       0   \n26  26       0     1          0         0            1            0       0   \n27  27       1     0          0         0            1            0       0   \n28  28       1     0          0         0            1            0       0   \n29  29       1     0          0         0            1            1       0   \n30  30       1     0          0         0            1            1       0   \n31  31       0     1          0         1            0            0       1   \n32  32       1     0          0         0            1            0       0   \n33  33       0     1          0         0            1            1       0   \n34  34       1     0          0         0            1            0       0   \n35  35       0     1          0         0            1            0       1   \n36  36       0     1          0         0            1            1       0   \n37  37       0     1          0         0            1            0       1   \n38  38       1     0          0         0            1            0       1   \n39  39       1     0          0         0            1            0       1   \n\n    senior  20-40  ...  countryside  food  history  literature  museums  \\\n0        1      0  ...            0     0        0           0        1   \n1        1      1  ...            0     0        1           0        0   \n2        1      0  ...            0     1        0           0        0   \n3        0      1  ...            1     0        0           0        0   \n4        1      1  ...            1     0        0           0        0   \n5        0      0  ...            0     0        0           0        0   \n6        1      0  ...            0     0        0           0        0   \n7        1      0  ...            1     0        0           0        1   \n8        0      1  ...            0     0        0           1        0   \n9        0      1  ...            0     0        0           0        1   \n10       1      0  ...            1     0        0           0        1   \n11       1      1  ...            0     0        0           0        0   \n12       0      1  ...            0     0        0           0        0   \n13       0      1  ...            0     0        0           0        0   \n14       1      0  ...            0     0        0           0        1   \n15       1      0  ...            0     1        0           0        0   \n16       0      1  ...            1     0        0           0        0   \n17       0      1  ...            0     0        0           0        0   \n18       0      0  ...            0     1        0           0        0   \n19       0      1  ...            0     0        0           0        0   \n20       0      1  ...            0     1        0           0        1   \n21       1      0  ...            0     0        0           0        0   \n22       1      0  ...            1     0        1           1        0   \n23       0      0  ...            0     0        0           0        0   \n24       1      1  ...            0     0        0           0        0   \n25       1      1  ...            0     0        0           1        0   \n26       1      1  ...            0     0        0           0        1   \n27       1      0  ...            1     0        0           0        0   \n28       1      0  ...            0     1        0           0        1   \n29       0      1  ...            0     0        0           1        0   \n30       0      1  ...            0     0        0           0        0   \n31       0      0  ...            1     1        0           0        0   \n32       1      0  ...            0     0        0           0        0   \n33       0      1  ...            1     0        0           0        0   \n34       1      0  ...            0     0        0           0        0   \n35       0      0  ...            0     0        0           0        0   \n36       0      0  ...            0     0        0           0        0   \n37       0      0  ...            0     0        0           0        0   \n38       0      1  ...            0     0        0           0        0   \n39       0      0  ...            0     0        1           0        0   \n\n    music  rafting  sport  tracking  wine  \n0       0        0      0         0     0  \n1       0        1      0         0     1  \n2       0        0      0         0     0  \n3       0        1      0         0     0  \n4       0        0      0         1     0  \n5       0        0      0         0     0  \n6       0        1      1         0     0  \n7       0        0      0         0     1  \n8       1        0      0         0     0  \n9       0        0      0         0     0  \n10      0        1      1         0     0  \n11      0        1      0         0     0  \n12      1        0      1         0     0  \n13      0        0      1         0     0  \n14      0        0      0         0     0  \n15      1        0      0         1     0  \n16      1        0      0         0     0  \n17      0        0      1         0     1  \n18      0        0      0         0     0  \n19      0        0      0         0     0  \n20      0        1      0         0     0  \n21      0        0      0         0     0  \n22      1        0      0         0     0  \n23      0        0      0         1     0  \n24      0        0      0         0     0  \n25      0        0      0         0     0  \n26      0        0      0         1     0  \n27      0        0      0         0     0  \n28      1        1      0         1     0  \n29      0        0      0         1     0  \n30      1        0      0         0     0  \n31      1        0      0         0     0  \n32      1        0      0         0     0  \n33      1        0      0         0     0  \n34      0        0      0         0     0  \n35      1        0      0         0     0  \n36      0        0      0         0     0  \n37      0        0      0         0     0  \n38      0        0      0         0     0  \n39      0        0      0         0     0  \n\n[40 rows x 76 columns]",
      "text/html": "<div>\n<style scoped>\n    .dataframe tbody tr th:only-of-type {\n        vertical-align: middle;\n    }\n\n    .dataframe tbody tr th {\n        vertical-align: top;\n    }\n\n    .dataframe thead th {\n        text-align: right;\n    }\n</style>\n<table border=\"1\" class=\"dataframe\">\n  <thead>\n    <tr style=\"text-align: right;\">\n      <th></th>\n      <th>id</th>\n      <th>female</th>\n      <th>male</th>\n      <th>high_cost</th>\n      <th>low_cost</th>\n      <th>medium_cost</th>\n      <th>experienced</th>\n      <th>junior</th>\n      <th>senior</th>\n      <th>20-40</th>\n      <th>...</th>\n      <th>countryside</th>\n      <th>food</th>\n      <th>history</th>\n      <th>literature</th>\n      <th>museums</th>\n      <th>music</th>\n      <th>rafting</th>\n      <th>sport</th>\n      <th>tracking</th>\n      <th>wine</th>\n    </tr>\n  </thead>\n  <tbody>\n    <tr>\n      <th>0</th>\n      <td>0</td>\n      <td>0</td>\n      <td>1</td>\n      <td>0</td>\n      <td>0</td>\n      <td>1</td>\n      <td>0</td>\n      <td>0</td>\n      <td>1</td>\n      <td>0</td>\n      <td>...</td>\n      <td>0</td>\n      <td>0</td>\n      <td>0</td>\n      <td>0</td>\n      <td>1</td>\n      <td>0</td>\n      <td>0</td>\n      <td>0</td>\n      <td>0</td>\n      <td>0</td>\n    </tr>\n    <tr>\n      <th>1</th>\n      <td>1</td>\n      <td>1</td>\n      <td>0</td>\n      <td>1</td>\n      <td>0</td>\n      <td>0</td>\n      <td>0</td>\n      <td>0</td>\n      <td>1</td>\n      <td>1</td>\n      <td>...</td>\n      <td>0</td>\n      <td>0</td>\n      <td>1</td>\n      <td>0</td>\n      <td>0</td>\n      <td>0</td>\n      <td>1</td>\n      <td>0</td>\n      <td>0</td>\n      <td>1</td>\n    </tr>\n    <tr>\n      <th>2</th>\n      <td>2</td>\n      <td>1</td>\n      <td>0</td>\n      <td>0</td>\n      <td>0</td>\n      <td>1</td>\n      <td>0</td>\n      <td>0</td>\n      <td>1</td>\n      <td>0</td>\n      <td>...</td>\n      <td>0</td>\n      <td>1</td>\n      <td>0</td>\n      <td>0</td>\n      <td>0</td>\n      <td>0</td>\n      <td>0</td>\n      <td>0</td>\n      <td>0</td>\n      <td>0</td>\n    </tr>\n    <tr>\n      <th>3</th>\n      <td>3</td>\n      <td>0</td>\n      <td>1</td>\n      <td>1</td>\n      <td>0</td>\n      <td>0</td>\n      <td>1</td>\n      <td>0</td>\n      <td>0</td>\n      <td>1</td>\n      <td>...</td>\n      <td>1</td>\n      <td>0</td>\n      <td>0</td>\n      <td>0</td>\n      <td>0</td>\n      <td>0</td>\n      <td>1</td>\n      <td>0</td>\n      <td>0</td>\n      <td>0</td>\n    </tr>\n    <tr>\n      <th>4</th>\n      <td>4</td>\n      <td>0</td>\n      <td>1</td>\n      <td>0</td>\n      <td>0</td>\n      <td>1</td>\n      <td>0</td>\n      <td>0</td>\n      <td>1</td>\n      <td>1</td>\n      <td>...</td>\n      <td>1</td>\n      <td>0</td>\n      <td>0</td>\n      <td>0</td>\n      <td>0</td>\n      <td>0</td>\n      <td>0</td>\n      <td>0</td>\n      <td>1</td>\n      <td>0</td>\n    </tr>\n    <tr>\n      <th>5</th>\n      <td>5</td>\n      <td>0</td>\n      <td>1</td>\n      <td>0</td>\n      <td>0</td>\n      <td>1</td>\n      <td>0</td>\n      <td>1</td>\n      <td>0</td>\n      <td>0</td>\n      <td>...</td>\n      <td>0</td>\n      <td>0</td>\n      <td>0</td>\n      <td>0</td>\n      <td>0</td>\n      <td>0</td>\n      <td>0</td>\n      <td>0</td>\n      <td>0</td>\n      <td>0</td>\n    </tr>\n    <tr>\n      <th>6</th>\n      <td>6</td>\n      <td>0</td>\n      <td>1</td>\n      <td>0</td>\n      <td>0</td>\n      <td>1</td>\n      <td>0</td>\n      <td>0</td>\n      <td>1</td>\n      <td>0</td>\n      <td>...</td>\n      <td>0</td>\n      <td>0</td>\n      <td>0</td>\n      <td>0</td>\n      <td>0</td>\n      <td>0</td>\n      <td>1</td>\n      <td>1</td>\n      <td>0</td>\n      <td>0</td>\n    </tr>\n    <tr>\n      <th>7</th>\n      <td>7</td>\n      <td>0</td>\n      <td>1</td>\n      <td>0</td>\n      <td>0</td>\n      <td>1</td>\n      <td>0</td>\n      <td>0</td>\n      <td>1</td>\n      <td>0</td>\n      <td>...</td>\n      <td>1</td>\n      <td>0</td>\n      <td>0</td>\n      <td>0</td>\n      <td>1</td>\n      <td>0</td>\n      <td>0</td>\n      <td>0</td>\n      <td>0</td>\n      <td>1</td>\n    </tr>\n    <tr>\n      <th>8</th>\n      <td>8</td>\n      <td>0</td>\n      <td>1</td>\n      <td>0</td>\n      <td>0</td>\n      <td>1</td>\n      <td>0</td>\n      <td>1</td>\n      <td>0</td>\n      <td>1</td>\n      <td>...</td>\n      <td>0</td>\n      <td>0</td>\n      <td>0</td>\n      <td>1</td>\n      <td>0</td>\n      <td>1</td>\n      <td>0</td>\n      <td>0</td>\n      <td>0</td>\n      <td>0</td>\n    </tr>\n    <tr>\n      <th>9</th>\n      <td>9</td>\n      <td>0</td>\n      <td>1</td>\n      <td>1</td>\n      <td>0</td>\n      <td>0</td>\n      <td>0</td>\n      <td>1</td>\n      <td>0</td>\n      <td>1</td>\n      <td>...</td>\n      <td>0</td>\n      <td>0</td>\n      <td>0</td>\n      <td>0</td>\n      <td>1</td>\n      <td>0</td>\n      <td>0</td>\n      <td>0</td>\n      <td>0</td>\n      <td>0</td>\n    </tr>\n    <tr>\n      <th>10</th>\n      <td>10</td>\n      <td>1</td>\n      <td>0</td>\n      <td>0</td>\n      <td>1</td>\n      <td>0</td>\n      <td>0</td>\n      <td>0</td>\n      <td>1</td>\n      <td>0</td>\n      <td>...</td>\n      <td>1</td>\n      <td>0</td>\n      <td>0</td>\n      <td>0</td>\n      <td>1</td>\n      <td>0</td>\n      <td>1</td>\n      <td>1</td>\n      <td>0</td>\n      <td>0</td>\n    </tr>\n    <tr>\n      <th>11</th>\n      <td>11</td>\n      <td>1</td>\n      <td>0</td>\n      <td>0</td>\n      <td>1</td>\n      <td>0</td>\n      <td>0</td>\n      <td>0</td>\n      <td>1</td>\n      <td>1</td>\n      <td>...</td>\n      <td>0</td>\n      <td>0</td>\n      <td>0</td>\n      <td>0</td>\n      <td>0</td>\n      <td>0</td>\n      <td>1</td>\n      <td>0</td>\n      <td>0</td>\n      <td>0</td>\n    </tr>\n    <tr>\n      <th>12</th>\n      <td>12</td>\n      <td>1</td>\n      <td>0</td>\n      <td>0</td>\n      <td>1</td>\n      <td>0</td>\n      <td>0</td>\n      <td>1</td>\n      <td>0</td>\n      <td>1</td>\n      <td>...</td>\n      <td>0</td>\n      <td>0</td>\n      <td>0</td>\n      <td>0</td>\n      <td>0</td>\n      <td>1</td>\n      <td>0</td>\n      <td>1</td>\n      <td>0</td>\n      <td>0</td>\n    </tr>\n    <tr>\n      <th>13</th>\n      <td>13</td>\n      <td>1</td>\n      <td>0</td>\n      <td>0</td>\n      <td>0</td>\n      <td>1</td>\n      <td>1</td>\n      <td>0</td>\n      <td>0</td>\n      <td>1</td>\n      <td>...</td>\n      <td>0</td>\n      <td>0</td>\n      <td>0</td>\n      <td>0</td>\n      <td>0</td>\n      <td>0</td>\n      <td>0</td>\n      <td>1</td>\n      <td>0</td>\n      <td>0</td>\n    </tr>\n    <tr>\n      <th>14</th>\n      <td>14</td>\n      <td>0</td>\n      <td>1</td>\n      <td>1</td>\n      <td>0</td>\n      <td>0</td>\n      <td>0</td>\n      <td>0</td>\n      <td>1</td>\n      <td>0</td>\n      <td>...</td>\n      <td>0</td>\n      <td>0</td>\n      <td>0</td>\n      <td>0</td>\n      <td>1</td>\n      <td>0</td>\n      <td>0</td>\n      <td>0</td>\n      <td>0</td>\n      <td>0</td>\n    </tr>\n    <tr>\n      <th>15</th>\n      <td>15</td>\n      <td>0</td>\n      <td>1</td>\n      <td>0</td>\n      <td>0</td>\n      <td>1</td>\n      <td>0</td>\n      <td>0</td>\n      <td>1</td>\n      <td>0</td>\n      <td>...</td>\n      <td>0</td>\n      <td>1</td>\n      <td>0</td>\n      <td>0</td>\n      <td>0</td>\n      <td>1</td>\n      <td>0</td>\n      <td>0</td>\n      <td>1</td>\n      <td>0</td>\n    </tr>\n    <tr>\n      <th>16</th>\n      <td>16</td>\n      <td>0</td>\n      <td>1</td>\n      <td>0</td>\n      <td>0</td>\n      <td>1</td>\n      <td>0</td>\n      <td>1</td>\n      <td>0</td>\n      <td>1</td>\n      <td>...</td>\n      <td>1</td>\n      <td>0</td>\n      <td>0</td>\n      <td>0</td>\n      <td>0</td>\n      <td>1</td>\n      <td>0</td>\n      <td>0</td>\n      <td>0</td>\n      <td>0</td>\n    </tr>\n    <tr>\n      <th>17</th>\n      <td>17</td>\n      <td>0</td>\n      <td>1</td>\n      <td>0</td>\n      <td>0</td>\n      <td>1</td>\n      <td>0</td>\n      <td>1</td>\n      <td>0</td>\n      <td>1</td>\n      <td>...</td>\n      <td>0</td>\n      <td>0</td>\n      <td>0</td>\n      <td>0</td>\n      <td>0</td>\n      <td>0</td>\n      <td>0</td>\n      <td>1</td>\n      <td>0</td>\n      <td>1</td>\n    </tr>\n    <tr>\n      <th>18</th>\n      <td>18</td>\n      <td>0</td>\n      <td>1</td>\n      <td>0</td>\n      <td>1</td>\n      <td>0</td>\n      <td>1</td>\n      <td>0</td>\n      <td>0</td>\n      <td>0</td>\n      <td>...</td>\n      <td>0</td>\n      <td>1</td>\n      <td>0</td>\n      <td>0</td>\n      <td>0</td>\n      <td>0</td>\n      <td>0</td>\n      <td>0</td>\n      <td>0</td>\n      <td>0</td>\n    </tr>\n    <tr>\n      <th>19</th>\n      <td>19</td>\n      <td>1</td>\n      <td>0</td>\n      <td>1</td>\n      <td>0</td>\n      <td>0</td>\n      <td>0</td>\n      <td>1</td>\n      <td>0</td>\n      <td>1</td>\n      <td>...</td>\n      <td>0</td>\n      <td>0</td>\n      <td>0</td>\n      <td>0</td>\n      <td>0</td>\n      <td>0</td>\n      <td>0</td>\n      <td>0</td>\n      <td>0</td>\n      <td>0</td>\n    </tr>\n    <tr>\n      <th>20</th>\n      <td>20</td>\n      <td>1</td>\n      <td>0</td>\n      <td>1</td>\n      <td>0</td>\n      <td>0</td>\n      <td>0</td>\n      <td>1</td>\n      <td>0</td>\n      <td>1</td>\n      <td>...</td>\n      <td>0</td>\n      <td>1</td>\n      <td>0</td>\n      <td>0</td>\n      <td>1</td>\n      <td>0</td>\n      <td>1</td>\n      <td>0</td>\n      <td>0</td>\n      <td>0</td>\n    </tr>\n    <tr>\n      <th>21</th>\n      <td>21</td>\n      <td>0</td>\n      <td>1</td>\n      <td>0</td>\n      <td>0</td>\n      <td>1</td>\n      <td>0</td>\n      <td>0</td>\n      <td>1</td>\n      <td>0</td>\n      <td>...</td>\n      <td>0</td>\n      <td>0</td>\n      <td>0</td>\n      <td>0</td>\n      <td>0</td>\n      <td>0</td>\n      <td>0</td>\n      <td>0</td>\n      <td>0</td>\n      <td>0</td>\n    </tr>\n    <tr>\n      <th>22</th>\n      <td>22</td>\n      <td>1</td>\n      <td>0</td>\n      <td>0</td>\n      <td>0</td>\n      <td>1</td>\n      <td>0</td>\n      <td>0</td>\n      <td>1</td>\n      <td>0</td>\n      <td>...</td>\n      <td>1</td>\n      <td>0</td>\n      <td>1</td>\n      <td>1</td>\n      <td>0</td>\n      <td>1</td>\n      <td>0</td>\n      <td>0</td>\n      <td>0</td>\n      <td>0</td>\n    </tr>\n    <tr>\n      <th>23</th>\n      <td>23</td>\n      <td>1</td>\n      <td>0</td>\n      <td>0</td>\n      <td>1</td>\n      <td>0</td>\n      <td>1</td>\n      <td>0</td>\n      <td>0</td>\n      <td>0</td>\n      <td>...</td>\n      <td>0</td>\n      <td>0</td>\n      <td>0</td>\n      <td>0</td>\n      <td>0</td>\n      <td>0</td>\n      <td>0</td>\n      <td>0</td>\n      <td>1</td>\n      <td>0</td>\n    </tr>\n    <tr>\n      <th>24</th>\n      <td>24</td>\n      <td>1</td>\n      <td>0</td>\n      <td>0</td>\n      <td>0</td>\n      <td>1</td>\n      <td>0</td>\n      <td>0</td>\n      <td>1</td>\n      <td>1</td>\n      <td>...</td>\n      <td>0</td>\n      <td>0</td>\n      <td>0</td>\n      <td>0</td>\n      <td>0</td>\n      <td>0</td>\n      <td>0</td>\n      <td>0</td>\n      <td>0</td>\n      <td>0</td>\n    </tr>\n    <tr>\n      <th>25</th>\n      <td>25</td>\n      <td>1</td>\n      <td>0</td>\n      <td>0</td>\n      <td>0</td>\n      <td>1</td>\n      <td>0</td>\n      <td>0</td>\n      <td>1</td>\n      <td>1</td>\n      <td>...</td>\n      <td>0</td>\n      <td>0</td>\n      <td>0</td>\n      <td>1</td>\n      <td>0</td>\n      <td>0</td>\n      <td>0</td>\n      <td>0</td>\n      <td>0</td>\n      <td>0</td>\n    </tr>\n    <tr>\n      <th>26</th>\n      <td>26</td>\n      <td>0</td>\n      <td>1</td>\n      <td>0</td>\n      <td>0</td>\n      <td>1</td>\n      <td>0</td>\n      <td>0</td>\n      <td>1</td>\n      <td>1</td>\n      <td>...</td>\n      <td>0</td>\n      <td>0</td>\n      <td>0</td>\n      <td>0</td>\n      <td>1</td>\n      <td>0</td>\n      <td>0</td>\n      <td>0</td>\n      <td>1</td>\n      <td>0</td>\n    </tr>\n    <tr>\n      <th>27</th>\n      <td>27</td>\n      <td>1</td>\n      <td>0</td>\n      <td>0</td>\n      <td>0</td>\n      <td>1</td>\n      <td>0</td>\n      <td>0</td>\n      <td>1</td>\n      <td>0</td>\n      <td>...</td>\n      <td>1</td>\n      <td>0</td>\n      <td>0</td>\n      <td>0</td>\n      <td>0</td>\n      <td>0</td>\n      <td>0</td>\n      <td>0</td>\n      <td>0</td>\n      <td>0</td>\n    </tr>\n    <tr>\n      <th>28</th>\n      <td>28</td>\n      <td>1</td>\n      <td>0</td>\n      <td>0</td>\n      <td>0</td>\n      <td>1</td>\n      <td>0</td>\n      <td>0</td>\n      <td>1</td>\n      <td>0</td>\n      <td>...</td>\n      <td>0</td>\n      <td>1</td>\n      <td>0</td>\n      <td>0</td>\n      <td>1</td>\n      <td>1</td>\n      <td>1</td>\n      <td>0</td>\n      <td>1</td>\n      <td>0</td>\n    </tr>\n    <tr>\n      <th>29</th>\n      <td>29</td>\n      <td>1</td>\n      <td>0</td>\n      <td>0</td>\n      <td>0</td>\n      <td>1</td>\n      <td>1</td>\n      <td>0</td>\n      <td>0</td>\n      <td>1</td>\n      <td>...</td>\n      <td>0</td>\n      <td>0</td>\n      <td>0</td>\n      <td>1</td>\n      <td>0</td>\n      <td>0</td>\n      <td>0</td>\n      <td>0</td>\n      <td>1</td>\n      <td>0</td>\n    </tr>\n    <tr>\n      <th>30</th>\n      <td>30</td>\n      <td>1</td>\n      <td>0</td>\n      <td>0</td>\n      <td>0</td>\n      <td>1</td>\n      <td>1</td>\n      <td>0</td>\n      <td>0</td>\n      <td>1</td>\n      <td>...</td>\n      <td>0</td>\n      <td>0</td>\n      <td>0</td>\n      <td>0</td>\n      <td>0</td>\n      <td>1</td>\n      <td>0</td>\n      <td>0</td>\n      <td>0</td>\n      <td>0</td>\n    </tr>\n    <tr>\n      <th>31</th>\n      <td>31</td>\n      <td>0</td>\n      <td>1</td>\n      <td>0</td>\n      <td>1</td>\n      <td>0</td>\n      <td>0</td>\n      <td>1</td>\n      <td>0</td>\n      <td>0</td>\n      <td>...</td>\n      <td>1</td>\n      <td>1</td>\n      <td>0</td>\n      <td>0</td>\n      <td>0</td>\n      <td>1</td>\n      <td>0</td>\n      <td>0</td>\n      <td>0</td>\n      <td>0</td>\n    </tr>\n    <tr>\n      <th>32</th>\n      <td>32</td>\n      <td>1</td>\n      <td>0</td>\n      <td>0</td>\n      <td>0</td>\n      <td>1</td>\n      <td>0</td>\n      <td>0</td>\n      <td>1</td>\n      <td>0</td>\n      <td>...</td>\n      <td>0</td>\n      <td>0</td>\n      <td>0</td>\n      <td>0</td>\n      <td>0</td>\n      <td>1</td>\n      <td>0</td>\n      <td>0</td>\n      <td>0</td>\n      <td>0</td>\n    </tr>\n    <tr>\n      <th>33</th>\n      <td>33</td>\n      <td>0</td>\n      <td>1</td>\n      <td>0</td>\n      <td>0</td>\n      <td>1</td>\n      <td>1</td>\n      <td>0</td>\n      <td>0</td>\n      <td>1</td>\n      <td>...</td>\n      <td>1</td>\n      <td>0</td>\n      <td>0</td>\n      <td>0</td>\n      <td>0</td>\n      <td>1</td>\n      <td>0</td>\n      <td>0</td>\n      <td>0</td>\n      <td>0</td>\n    </tr>\n    <tr>\n      <th>34</th>\n      <td>34</td>\n      <td>1</td>\n      <td>0</td>\n      <td>0</td>\n      <td>0</td>\n      <td>1</td>\n      <td>0</td>\n      <td>0</td>\n      <td>1</td>\n      <td>0</td>\n      <td>...</td>\n      <td>0</td>\n      <td>0</td>\n      <td>0</td>\n      <td>0</td>\n      <td>0</td>\n      <td>0</td>\n      <td>0</td>\n      <td>0</td>\n      <td>0</td>\n      <td>0</td>\n    </tr>\n    <tr>\n      <th>35</th>\n      <td>35</td>\n      <td>0</td>\n      <td>1</td>\n      <td>0</td>\n      <td>0</td>\n      <td>1</td>\n      <td>0</td>\n      <td>1</td>\n      <td>0</td>\n      <td>0</td>\n      <td>...</td>\n      <td>0</td>\n      <td>0</td>\n      <td>0</td>\n      <td>0</td>\n      <td>0</td>\n      <td>1</td>\n      <td>0</td>\n      <td>0</td>\n      <td>0</td>\n      <td>0</td>\n    </tr>\n    <tr>\n      <th>36</th>\n      <td>36</td>\n      <td>0</td>\n      <td>1</td>\n      <td>0</td>\n      <td>0</td>\n      <td>1</td>\n      <td>1</td>\n      <td>0</td>\n      <td>0</td>\n      <td>0</td>\n      <td>...</td>\n      <td>0</td>\n      <td>0</td>\n      <td>0</td>\n      <td>0</td>\n      <td>0</td>\n      <td>0</td>\n      <td>0</td>\n      <td>0</td>\n      <td>0</td>\n      <td>0</td>\n    </tr>\n    <tr>\n      <th>37</th>\n      <td>37</td>\n      <td>0</td>\n      <td>1</td>\n      <td>0</td>\n      <td>0</td>\n      <td>1</td>\n      <td>0</td>\n      <td>1</td>\n      <td>0</td>\n      <td>0</td>\n      <td>...</td>\n      <td>0</td>\n      <td>0</td>\n      <td>0</td>\n      <td>0</td>\n      <td>0</td>\n      <td>0</td>\n      <td>0</td>\n      <td>0</td>\n      <td>0</td>\n      <td>0</td>\n    </tr>\n    <tr>\n      <th>38</th>\n      <td>38</td>\n      <td>1</td>\n      <td>0</td>\n      <td>0</td>\n      <td>0</td>\n      <td>1</td>\n      <td>0</td>\n      <td>1</td>\n      <td>0</td>\n      <td>1</td>\n      <td>...</td>\n      <td>0</td>\n      <td>0</td>\n      <td>0</td>\n      <td>0</td>\n      <td>0</td>\n      <td>0</td>\n      <td>0</td>\n      <td>0</td>\n      <td>0</td>\n      <td>0</td>\n    </tr>\n    <tr>\n      <th>39</th>\n      <td>39</td>\n      <td>1</td>\n      <td>0</td>\n      <td>0</td>\n      <td>0</td>\n      <td>1</td>\n      <td>0</td>\n      <td>1</td>\n      <td>0</td>\n      <td>0</td>\n      <td>...</td>\n      <td>0</td>\n      <td>0</td>\n      <td>1</td>\n      <td>0</td>\n      <td>0</td>\n      <td>0</td>\n      <td>0</td>\n      <td>0</td>\n      <td>0</td>\n      <td>0</td>\n    </tr>\n  </tbody>\n</table>\n<p>40 rows × 76 columns</p>\n</div>"
     },
     "execution_count": 19,
     "metadata": {},
     "output_type": "execute_result"
    }
   ],
   "source": [
    "icm_df"
   ]
  },
  {
   "cell_type": "code",
   "execution_count": 20,
   "outputs": [
    {
     "data": {
      "text/plain": "['id',\n 'female',\n 'male',\n 'high_cost',\n 'low_cost',\n 'medium_cost',\n 'experienced',\n 'junior',\n 'senior',\n '20-40',\n '40+',\n 'bachelor',\n 'high-school',\n 'master',\n 'middle-school',\n 'phd',\n 'Accountant, chartered certified',\n 'Accountant, chartered management',\n 'Accountant, chartered public finance',\n 'Actuary',\n 'Advertising account planner',\n 'Broadcast presenter',\n 'Chartered certified accountant',\n 'Chief Operating Officer',\n 'Child psychotherapist',\n 'Community pharmacist',\n 'Corporate treasurer',\n 'Designer, blown glass/stained glass',\n 'Development worker, international aid',\n 'Engineer, electrical',\n 'Financial controller',\n 'Fish farm manager',\n 'Fisheries officer',\n 'Geneticist, molecular',\n 'Land',\n 'Magazine journalist',\n 'Probation officer',\n 'Producer, television/film/video',\n 'Product designer',\n 'Psychotherapist, dance movement',\n 'Public house manager',\n 'Scientist, clinical (histocompatibility and immunogenetics)',\n 'Secondary school teacher',\n 'Software engineer',\n 'Sports coach',\n 'Stage manager',\n 'Surveyor, quantity',\n 'Teacher, secondary school',\n 'Television camera operator',\n 'Therapist, art',\n 'Trading standards officer',\n 'Transport planner',\n 'Warden/ranger',\n 'Water quality scientist',\n 'bulgarian',\n 'chinese',\n 'deutsche',\n 'dutch',\n 'english',\n 'french',\n 'italian',\n 'spanish',\n 'archeology',\n 'art',\n 'beer',\n 'cinema',\n 'countryside',\n 'food',\n 'history',\n 'literature',\n 'museums',\n 'music',\n 'rafting',\n 'sport',\n 'tracking',\n 'wine']"
     },
     "execution_count": 20,
     "metadata": {},
     "output_type": "execute_result"
    }
   ],
   "source": [
    "attribute_list = icm_df.columns.tolist()\n",
    "attribute_list"
   ],
   "metadata": {
    "collapsed": false,
    "pycharm": {
     "name": "#%%\n"
    }
   }
  },
  {
   "cell_type": "code",
   "execution_count": 21,
   "outputs": [],
   "source": [
    "def convert_index(x):\n",
    "    if x == 'id':\n",
    "        return x\n",
    "    else:\n",
    "        return attribute_list.index(x)"
   ],
   "metadata": {
    "collapsed": false,
    "pycharm": {
     "name": "#%%\n"
    }
   }
  },
  {
   "cell_type": "code",
   "execution_count": 22,
   "outputs": [
    {
     "data": {
      "text/plain": "    id  1  2  3  4  5  6  7  8  9  ...  66  67  68  69  70  71  72  73  74  75\n0    0  0  1  0  0  1  0  0  1  0  ...   0   0   0   0   1   0   0   0   0   0\n1    1  1  0  1  0  0  0  0  1  1  ...   0   0   1   0   0   0   1   0   0   1\n2    2  1  0  0  0  1  0  0  1  0  ...   0   1   0   0   0   0   0   0   0   0\n3    3  0  1  1  0  0  1  0  0  1  ...   1   0   0   0   0   0   1   0   0   0\n4    4  0  1  0  0  1  0  0  1  1  ...   1   0   0   0   0   0   0   0   1   0\n5    5  0  1  0  0  1  0  1  0  0  ...   0   0   0   0   0   0   0   0   0   0\n6    6  0  1  0  0  1  0  0  1  0  ...   0   0   0   0   0   0   1   1   0   0\n7    7  0  1  0  0  1  0  0  1  0  ...   1   0   0   0   1   0   0   0   0   1\n8    8  0  1  0  0  1  0  1  0  1  ...   0   0   0   1   0   1   0   0   0   0\n9    9  0  1  1  0  0  0  1  0  1  ...   0   0   0   0   1   0   0   0   0   0\n10  10  1  0  0  1  0  0  0  1  0  ...   1   0   0   0   1   0   1   1   0   0\n11  11  1  0  0  1  0  0  0  1  1  ...   0   0   0   0   0   0   1   0   0   0\n12  12  1  0  0  1  0  0  1  0  1  ...   0   0   0   0   0   1   0   1   0   0\n13  13  1  0  0  0  1  1  0  0  1  ...   0   0   0   0   0   0   0   1   0   0\n14  14  0  1  1  0  0  0  0  1  0  ...   0   0   0   0   1   0   0   0   0   0\n15  15  0  1  0  0  1  0  0  1  0  ...   0   1   0   0   0   1   0   0   1   0\n16  16  0  1  0  0  1  0  1  0  1  ...   1   0   0   0   0   1   0   0   0   0\n17  17  0  1  0  0  1  0  1  0  1  ...   0   0   0   0   0   0   0   1   0   1\n18  18  0  1  0  1  0  1  0  0  0  ...   0   1   0   0   0   0   0   0   0   0\n19  19  1  0  1  0  0  0  1  0  1  ...   0   0   0   0   0   0   0   0   0   0\n20  20  1  0  1  0  0  0  1  0  1  ...   0   1   0   0   1   0   1   0   0   0\n21  21  0  1  0  0  1  0  0  1  0  ...   0   0   0   0   0   0   0   0   0   0\n22  22  1  0  0  0  1  0  0  1  0  ...   1   0   1   1   0   1   0   0   0   0\n23  23  1  0  0  1  0  1  0  0  0  ...   0   0   0   0   0   0   0   0   1   0\n24  24  1  0  0  0  1  0  0  1  1  ...   0   0   0   0   0   0   0   0   0   0\n25  25  1  0  0  0  1  0  0  1  1  ...   0   0   0   1   0   0   0   0   0   0\n26  26  0  1  0  0  1  0  0  1  1  ...   0   0   0   0   1   0   0   0   1   0\n27  27  1  0  0  0  1  0  0  1  0  ...   1   0   0   0   0   0   0   0   0   0\n28  28  1  0  0  0  1  0  0  1  0  ...   0   1   0   0   1   1   1   0   1   0\n29  29  1  0  0  0  1  1  0  0  1  ...   0   0   0   1   0   0   0   0   1   0\n30  30  1  0  0  0  1  1  0  0  1  ...   0   0   0   0   0   1   0   0   0   0\n31  31  0  1  0  1  0  0  1  0  0  ...   1   1   0   0   0   1   0   0   0   0\n32  32  1  0  0  0  1  0  0  1  0  ...   0   0   0   0   0   1   0   0   0   0\n33  33  0  1  0  0  1  1  0  0  1  ...   1   0   0   0   0   1   0   0   0   0\n34  34  1  0  0  0  1  0  0  1  0  ...   0   0   0   0   0   0   0   0   0   0\n35  35  0  1  0  0  1  0  1  0  0  ...   0   0   0   0   0   1   0   0   0   0\n36  36  0  1  0  0  1  1  0  0  0  ...   0   0   0   0   0   0   0   0   0   0\n37  37  0  1  0  0  1  0  1  0  0  ...   0   0   0   0   0   0   0   0   0   0\n38  38  1  0  0  0  1  0  1  0  1  ...   0   0   0   0   0   0   0   0   0   0\n39  39  1  0  0  0  1  0  1  0  0  ...   0   0   1   0   0   0   0   0   0   0\n\n[40 rows x 76 columns]",
      "text/html": "<div>\n<style scoped>\n    .dataframe tbody tr th:only-of-type {\n        vertical-align: middle;\n    }\n\n    .dataframe tbody tr th {\n        vertical-align: top;\n    }\n\n    .dataframe thead th {\n        text-align: right;\n    }\n</style>\n<table border=\"1\" class=\"dataframe\">\n  <thead>\n    <tr style=\"text-align: right;\">\n      <th></th>\n      <th>id</th>\n      <th>1</th>\n      <th>2</th>\n      <th>3</th>\n      <th>4</th>\n      <th>5</th>\n      <th>6</th>\n      <th>7</th>\n      <th>8</th>\n      <th>9</th>\n      <th>...</th>\n      <th>66</th>\n      <th>67</th>\n      <th>68</th>\n      <th>69</th>\n      <th>70</th>\n      <th>71</th>\n      <th>72</th>\n      <th>73</th>\n      <th>74</th>\n      <th>75</th>\n    </tr>\n  </thead>\n  <tbody>\n    <tr>\n      <th>0</th>\n      <td>0</td>\n      <td>0</td>\n      <td>1</td>\n      <td>0</td>\n      <td>0</td>\n      <td>1</td>\n      <td>0</td>\n      <td>0</td>\n      <td>1</td>\n      <td>0</td>\n      <td>...</td>\n      <td>0</td>\n      <td>0</td>\n      <td>0</td>\n      <td>0</td>\n      <td>1</td>\n      <td>0</td>\n      <td>0</td>\n      <td>0</td>\n      <td>0</td>\n      <td>0</td>\n    </tr>\n    <tr>\n      <th>1</th>\n      <td>1</td>\n      <td>1</td>\n      <td>0</td>\n      <td>1</td>\n      <td>0</td>\n      <td>0</td>\n      <td>0</td>\n      <td>0</td>\n      <td>1</td>\n      <td>1</td>\n      <td>...</td>\n      <td>0</td>\n      <td>0</td>\n      <td>1</td>\n      <td>0</td>\n      <td>0</td>\n      <td>0</td>\n      <td>1</td>\n      <td>0</td>\n      <td>0</td>\n      <td>1</td>\n    </tr>\n    <tr>\n      <th>2</th>\n      <td>2</td>\n      <td>1</td>\n      <td>0</td>\n      <td>0</td>\n      <td>0</td>\n      <td>1</td>\n      <td>0</td>\n      <td>0</td>\n      <td>1</td>\n      <td>0</td>\n      <td>...</td>\n      <td>0</td>\n      <td>1</td>\n      <td>0</td>\n      <td>0</td>\n      <td>0</td>\n      <td>0</td>\n      <td>0</td>\n      <td>0</td>\n      <td>0</td>\n      <td>0</td>\n    </tr>\n    <tr>\n      <th>3</th>\n      <td>3</td>\n      <td>0</td>\n      <td>1</td>\n      <td>1</td>\n      <td>0</td>\n      <td>0</td>\n      <td>1</td>\n      <td>0</td>\n      <td>0</td>\n      <td>1</td>\n      <td>...</td>\n      <td>1</td>\n      <td>0</td>\n      <td>0</td>\n      <td>0</td>\n      <td>0</td>\n      <td>0</td>\n      <td>1</td>\n      <td>0</td>\n      <td>0</td>\n      <td>0</td>\n    </tr>\n    <tr>\n      <th>4</th>\n      <td>4</td>\n      <td>0</td>\n      <td>1</td>\n      <td>0</td>\n      <td>0</td>\n      <td>1</td>\n      <td>0</td>\n      <td>0</td>\n      <td>1</td>\n      <td>1</td>\n      <td>...</td>\n      <td>1</td>\n      <td>0</td>\n      <td>0</td>\n      <td>0</td>\n      <td>0</td>\n      <td>0</td>\n      <td>0</td>\n      <td>0</td>\n      <td>1</td>\n      <td>0</td>\n    </tr>\n    <tr>\n      <th>5</th>\n      <td>5</td>\n      <td>0</td>\n      <td>1</td>\n      <td>0</td>\n      <td>0</td>\n      <td>1</td>\n      <td>0</td>\n      <td>1</td>\n      <td>0</td>\n      <td>0</td>\n      <td>...</td>\n      <td>0</td>\n      <td>0</td>\n      <td>0</td>\n      <td>0</td>\n      <td>0</td>\n      <td>0</td>\n      <td>0</td>\n      <td>0</td>\n      <td>0</td>\n      <td>0</td>\n    </tr>\n    <tr>\n      <th>6</th>\n      <td>6</td>\n      <td>0</td>\n      <td>1</td>\n      <td>0</td>\n      <td>0</td>\n      <td>1</td>\n      <td>0</td>\n      <td>0</td>\n      <td>1</td>\n      <td>0</td>\n      <td>...</td>\n      <td>0</td>\n      <td>0</td>\n      <td>0</td>\n      <td>0</td>\n      <td>0</td>\n      <td>0</td>\n      <td>1</td>\n      <td>1</td>\n      <td>0</td>\n      <td>0</td>\n    </tr>\n    <tr>\n      <th>7</th>\n      <td>7</td>\n      <td>0</td>\n      <td>1</td>\n      <td>0</td>\n      <td>0</td>\n      <td>1</td>\n      <td>0</td>\n      <td>0</td>\n      <td>1</td>\n      <td>0</td>\n      <td>...</td>\n      <td>1</td>\n      <td>0</td>\n      <td>0</td>\n      <td>0</td>\n      <td>1</td>\n      <td>0</td>\n      <td>0</td>\n      <td>0</td>\n      <td>0</td>\n      <td>1</td>\n    </tr>\n    <tr>\n      <th>8</th>\n      <td>8</td>\n      <td>0</td>\n      <td>1</td>\n      <td>0</td>\n      <td>0</td>\n      <td>1</td>\n      <td>0</td>\n      <td>1</td>\n      <td>0</td>\n      <td>1</td>\n      <td>...</td>\n      <td>0</td>\n      <td>0</td>\n      <td>0</td>\n      <td>1</td>\n      <td>0</td>\n      <td>1</td>\n      <td>0</td>\n      <td>0</td>\n      <td>0</td>\n      <td>0</td>\n    </tr>\n    <tr>\n      <th>9</th>\n      <td>9</td>\n      <td>0</td>\n      <td>1</td>\n      <td>1</td>\n      <td>0</td>\n      <td>0</td>\n      <td>0</td>\n      <td>1</td>\n      <td>0</td>\n      <td>1</td>\n      <td>...</td>\n      <td>0</td>\n      <td>0</td>\n      <td>0</td>\n      <td>0</td>\n      <td>1</td>\n      <td>0</td>\n      <td>0</td>\n      <td>0</td>\n      <td>0</td>\n      <td>0</td>\n    </tr>\n    <tr>\n      <th>10</th>\n      <td>10</td>\n      <td>1</td>\n      <td>0</td>\n      <td>0</td>\n      <td>1</td>\n      <td>0</td>\n      <td>0</td>\n      <td>0</td>\n      <td>1</td>\n      <td>0</td>\n      <td>...</td>\n      <td>1</td>\n      <td>0</td>\n      <td>0</td>\n      <td>0</td>\n      <td>1</td>\n      <td>0</td>\n      <td>1</td>\n      <td>1</td>\n      <td>0</td>\n      <td>0</td>\n    </tr>\n    <tr>\n      <th>11</th>\n      <td>11</td>\n      <td>1</td>\n      <td>0</td>\n      <td>0</td>\n      <td>1</td>\n      <td>0</td>\n      <td>0</td>\n      <td>0</td>\n      <td>1</td>\n      <td>1</td>\n      <td>...</td>\n      <td>0</td>\n      <td>0</td>\n      <td>0</td>\n      <td>0</td>\n      <td>0</td>\n      <td>0</td>\n      <td>1</td>\n      <td>0</td>\n      <td>0</td>\n      <td>0</td>\n    </tr>\n    <tr>\n      <th>12</th>\n      <td>12</td>\n      <td>1</td>\n      <td>0</td>\n      <td>0</td>\n      <td>1</td>\n      <td>0</td>\n      <td>0</td>\n      <td>1</td>\n      <td>0</td>\n      <td>1</td>\n      <td>...</td>\n      <td>0</td>\n      <td>0</td>\n      <td>0</td>\n      <td>0</td>\n      <td>0</td>\n      <td>1</td>\n      <td>0</td>\n      <td>1</td>\n      <td>0</td>\n      <td>0</td>\n    </tr>\n    <tr>\n      <th>13</th>\n      <td>13</td>\n      <td>1</td>\n      <td>0</td>\n      <td>0</td>\n      <td>0</td>\n      <td>1</td>\n      <td>1</td>\n      <td>0</td>\n      <td>0</td>\n      <td>1</td>\n      <td>...</td>\n      <td>0</td>\n      <td>0</td>\n      <td>0</td>\n      <td>0</td>\n      <td>0</td>\n      <td>0</td>\n      <td>0</td>\n      <td>1</td>\n      <td>0</td>\n      <td>0</td>\n    </tr>\n    <tr>\n      <th>14</th>\n      <td>14</td>\n      <td>0</td>\n      <td>1</td>\n      <td>1</td>\n      <td>0</td>\n      <td>0</td>\n      <td>0</td>\n      <td>0</td>\n      <td>1</td>\n      <td>0</td>\n      <td>...</td>\n      <td>0</td>\n      <td>0</td>\n      <td>0</td>\n      <td>0</td>\n      <td>1</td>\n      <td>0</td>\n      <td>0</td>\n      <td>0</td>\n      <td>0</td>\n      <td>0</td>\n    </tr>\n    <tr>\n      <th>15</th>\n      <td>15</td>\n      <td>0</td>\n      <td>1</td>\n      <td>0</td>\n      <td>0</td>\n      <td>1</td>\n      <td>0</td>\n      <td>0</td>\n      <td>1</td>\n      <td>0</td>\n      <td>...</td>\n      <td>0</td>\n      <td>1</td>\n      <td>0</td>\n      <td>0</td>\n      <td>0</td>\n      <td>1</td>\n      <td>0</td>\n      <td>0</td>\n      <td>1</td>\n      <td>0</td>\n    </tr>\n    <tr>\n      <th>16</th>\n      <td>16</td>\n      <td>0</td>\n      <td>1</td>\n      <td>0</td>\n      <td>0</td>\n      <td>1</td>\n      <td>0</td>\n      <td>1</td>\n      <td>0</td>\n      <td>1</td>\n      <td>...</td>\n      <td>1</td>\n      <td>0</td>\n      <td>0</td>\n      <td>0</td>\n      <td>0</td>\n      <td>1</td>\n      <td>0</td>\n      <td>0</td>\n      <td>0</td>\n      <td>0</td>\n    </tr>\n    <tr>\n      <th>17</th>\n      <td>17</td>\n      <td>0</td>\n      <td>1</td>\n      <td>0</td>\n      <td>0</td>\n      <td>1</td>\n      <td>0</td>\n      <td>1</td>\n      <td>0</td>\n      <td>1</td>\n      <td>...</td>\n      <td>0</td>\n      <td>0</td>\n      <td>0</td>\n      <td>0</td>\n      <td>0</td>\n      <td>0</td>\n      <td>0</td>\n      <td>1</td>\n      <td>0</td>\n      <td>1</td>\n    </tr>\n    <tr>\n      <th>18</th>\n      <td>18</td>\n      <td>0</td>\n      <td>1</td>\n      <td>0</td>\n      <td>1</td>\n      <td>0</td>\n      <td>1</td>\n      <td>0</td>\n      <td>0</td>\n      <td>0</td>\n      <td>...</td>\n      <td>0</td>\n      <td>1</td>\n      <td>0</td>\n      <td>0</td>\n      <td>0</td>\n      <td>0</td>\n      <td>0</td>\n      <td>0</td>\n      <td>0</td>\n      <td>0</td>\n    </tr>\n    <tr>\n      <th>19</th>\n      <td>19</td>\n      <td>1</td>\n      <td>0</td>\n      <td>1</td>\n      <td>0</td>\n      <td>0</td>\n      <td>0</td>\n      <td>1</td>\n      <td>0</td>\n      <td>1</td>\n      <td>...</td>\n      <td>0</td>\n      <td>0</td>\n      <td>0</td>\n      <td>0</td>\n      <td>0</td>\n      <td>0</td>\n      <td>0</td>\n      <td>0</td>\n      <td>0</td>\n      <td>0</td>\n    </tr>\n    <tr>\n      <th>20</th>\n      <td>20</td>\n      <td>1</td>\n      <td>0</td>\n      <td>1</td>\n      <td>0</td>\n      <td>0</td>\n      <td>0</td>\n      <td>1</td>\n      <td>0</td>\n      <td>1</td>\n      <td>...</td>\n      <td>0</td>\n      <td>1</td>\n      <td>0</td>\n      <td>0</td>\n      <td>1</td>\n      <td>0</td>\n      <td>1</td>\n      <td>0</td>\n      <td>0</td>\n      <td>0</td>\n    </tr>\n    <tr>\n      <th>21</th>\n      <td>21</td>\n      <td>0</td>\n      <td>1</td>\n      <td>0</td>\n      <td>0</td>\n      <td>1</td>\n      <td>0</td>\n      <td>0</td>\n      <td>1</td>\n      <td>0</td>\n      <td>...</td>\n      <td>0</td>\n      <td>0</td>\n      <td>0</td>\n      <td>0</td>\n      <td>0</td>\n      <td>0</td>\n      <td>0</td>\n      <td>0</td>\n      <td>0</td>\n      <td>0</td>\n    </tr>\n    <tr>\n      <th>22</th>\n      <td>22</td>\n      <td>1</td>\n      <td>0</td>\n      <td>0</td>\n      <td>0</td>\n      <td>1</td>\n      <td>0</td>\n      <td>0</td>\n      <td>1</td>\n      <td>0</td>\n      <td>...</td>\n      <td>1</td>\n      <td>0</td>\n      <td>1</td>\n      <td>1</td>\n      <td>0</td>\n      <td>1</td>\n      <td>0</td>\n      <td>0</td>\n      <td>0</td>\n      <td>0</td>\n    </tr>\n    <tr>\n      <th>23</th>\n      <td>23</td>\n      <td>1</td>\n      <td>0</td>\n      <td>0</td>\n      <td>1</td>\n      <td>0</td>\n      <td>1</td>\n      <td>0</td>\n      <td>0</td>\n      <td>0</td>\n      <td>...</td>\n      <td>0</td>\n      <td>0</td>\n      <td>0</td>\n      <td>0</td>\n      <td>0</td>\n      <td>0</td>\n      <td>0</td>\n      <td>0</td>\n      <td>1</td>\n      <td>0</td>\n    </tr>\n    <tr>\n      <th>24</th>\n      <td>24</td>\n      <td>1</td>\n      <td>0</td>\n      <td>0</td>\n      <td>0</td>\n      <td>1</td>\n      <td>0</td>\n      <td>0</td>\n      <td>1</td>\n      <td>1</td>\n      <td>...</td>\n      <td>0</td>\n      <td>0</td>\n      <td>0</td>\n      <td>0</td>\n      <td>0</td>\n      <td>0</td>\n      <td>0</td>\n      <td>0</td>\n      <td>0</td>\n      <td>0</td>\n    </tr>\n    <tr>\n      <th>25</th>\n      <td>25</td>\n      <td>1</td>\n      <td>0</td>\n      <td>0</td>\n      <td>0</td>\n      <td>1</td>\n      <td>0</td>\n      <td>0</td>\n      <td>1</td>\n      <td>1</td>\n      <td>...</td>\n      <td>0</td>\n      <td>0</td>\n      <td>0</td>\n      <td>1</td>\n      <td>0</td>\n      <td>0</td>\n      <td>0</td>\n      <td>0</td>\n      <td>0</td>\n      <td>0</td>\n    </tr>\n    <tr>\n      <th>26</th>\n      <td>26</td>\n      <td>0</td>\n      <td>1</td>\n      <td>0</td>\n      <td>0</td>\n      <td>1</td>\n      <td>0</td>\n      <td>0</td>\n      <td>1</td>\n      <td>1</td>\n      <td>...</td>\n      <td>0</td>\n      <td>0</td>\n      <td>0</td>\n      <td>0</td>\n      <td>1</td>\n      <td>0</td>\n      <td>0</td>\n      <td>0</td>\n      <td>1</td>\n      <td>0</td>\n    </tr>\n    <tr>\n      <th>27</th>\n      <td>27</td>\n      <td>1</td>\n      <td>0</td>\n      <td>0</td>\n      <td>0</td>\n      <td>1</td>\n      <td>0</td>\n      <td>0</td>\n      <td>1</td>\n      <td>0</td>\n      <td>...</td>\n      <td>1</td>\n      <td>0</td>\n      <td>0</td>\n      <td>0</td>\n      <td>0</td>\n      <td>0</td>\n      <td>0</td>\n      <td>0</td>\n      <td>0</td>\n      <td>0</td>\n    </tr>\n    <tr>\n      <th>28</th>\n      <td>28</td>\n      <td>1</td>\n      <td>0</td>\n      <td>0</td>\n      <td>0</td>\n      <td>1</td>\n      <td>0</td>\n      <td>0</td>\n      <td>1</td>\n      <td>0</td>\n      <td>...</td>\n      <td>0</td>\n      <td>1</td>\n      <td>0</td>\n      <td>0</td>\n      <td>1</td>\n      <td>1</td>\n      <td>1</td>\n      <td>0</td>\n      <td>1</td>\n      <td>0</td>\n    </tr>\n    <tr>\n      <th>29</th>\n      <td>29</td>\n      <td>1</td>\n      <td>0</td>\n      <td>0</td>\n      <td>0</td>\n      <td>1</td>\n      <td>1</td>\n      <td>0</td>\n      <td>0</td>\n      <td>1</td>\n      <td>...</td>\n      <td>0</td>\n      <td>0</td>\n      <td>0</td>\n      <td>1</td>\n      <td>0</td>\n      <td>0</td>\n      <td>0</td>\n      <td>0</td>\n      <td>1</td>\n      <td>0</td>\n    </tr>\n    <tr>\n      <th>30</th>\n      <td>30</td>\n      <td>1</td>\n      <td>0</td>\n      <td>0</td>\n      <td>0</td>\n      <td>1</td>\n      <td>1</td>\n      <td>0</td>\n      <td>0</td>\n      <td>1</td>\n      <td>...</td>\n      <td>0</td>\n      <td>0</td>\n      <td>0</td>\n      <td>0</td>\n      <td>0</td>\n      <td>1</td>\n      <td>0</td>\n      <td>0</td>\n      <td>0</td>\n      <td>0</td>\n    </tr>\n    <tr>\n      <th>31</th>\n      <td>31</td>\n      <td>0</td>\n      <td>1</td>\n      <td>0</td>\n      <td>1</td>\n      <td>0</td>\n      <td>0</td>\n      <td>1</td>\n      <td>0</td>\n      <td>0</td>\n      <td>...</td>\n      <td>1</td>\n      <td>1</td>\n      <td>0</td>\n      <td>0</td>\n      <td>0</td>\n      <td>1</td>\n      <td>0</td>\n      <td>0</td>\n      <td>0</td>\n      <td>0</td>\n    </tr>\n    <tr>\n      <th>32</th>\n      <td>32</td>\n      <td>1</td>\n      <td>0</td>\n      <td>0</td>\n      <td>0</td>\n      <td>1</td>\n      <td>0</td>\n      <td>0</td>\n      <td>1</td>\n      <td>0</td>\n      <td>...</td>\n      <td>0</td>\n      <td>0</td>\n      <td>0</td>\n      <td>0</td>\n      <td>0</td>\n      <td>1</td>\n      <td>0</td>\n      <td>0</td>\n      <td>0</td>\n      <td>0</td>\n    </tr>\n    <tr>\n      <th>33</th>\n      <td>33</td>\n      <td>0</td>\n      <td>1</td>\n      <td>0</td>\n      <td>0</td>\n      <td>1</td>\n      <td>1</td>\n      <td>0</td>\n      <td>0</td>\n      <td>1</td>\n      <td>...</td>\n      <td>1</td>\n      <td>0</td>\n      <td>0</td>\n      <td>0</td>\n      <td>0</td>\n      <td>1</td>\n      <td>0</td>\n      <td>0</td>\n      <td>0</td>\n      <td>0</td>\n    </tr>\n    <tr>\n      <th>34</th>\n      <td>34</td>\n      <td>1</td>\n      <td>0</td>\n      <td>0</td>\n      <td>0</td>\n      <td>1</td>\n      <td>0</td>\n      <td>0</td>\n      <td>1</td>\n      <td>0</td>\n      <td>...</td>\n      <td>0</td>\n      <td>0</td>\n      <td>0</td>\n      <td>0</td>\n      <td>0</td>\n      <td>0</td>\n      <td>0</td>\n      <td>0</td>\n      <td>0</td>\n      <td>0</td>\n    </tr>\n    <tr>\n      <th>35</th>\n      <td>35</td>\n      <td>0</td>\n      <td>1</td>\n      <td>0</td>\n      <td>0</td>\n      <td>1</td>\n      <td>0</td>\n      <td>1</td>\n      <td>0</td>\n      <td>0</td>\n      <td>...</td>\n      <td>0</td>\n      <td>0</td>\n      <td>0</td>\n      <td>0</td>\n      <td>0</td>\n      <td>1</td>\n      <td>0</td>\n      <td>0</td>\n      <td>0</td>\n      <td>0</td>\n    </tr>\n    <tr>\n      <th>36</th>\n      <td>36</td>\n      <td>0</td>\n      <td>1</td>\n      <td>0</td>\n      <td>0</td>\n      <td>1</td>\n      <td>1</td>\n      <td>0</td>\n      <td>0</td>\n      <td>0</td>\n      <td>...</td>\n      <td>0</td>\n      <td>0</td>\n      <td>0</td>\n      <td>0</td>\n      <td>0</td>\n      <td>0</td>\n      <td>0</td>\n      <td>0</td>\n      <td>0</td>\n      <td>0</td>\n    </tr>\n    <tr>\n      <th>37</th>\n      <td>37</td>\n      <td>0</td>\n      <td>1</td>\n      <td>0</td>\n      <td>0</td>\n      <td>1</td>\n      <td>0</td>\n      <td>1</td>\n      <td>0</td>\n      <td>0</td>\n      <td>...</td>\n      <td>0</td>\n      <td>0</td>\n      <td>0</td>\n      <td>0</td>\n      <td>0</td>\n      <td>0</td>\n      <td>0</td>\n      <td>0</td>\n      <td>0</td>\n      <td>0</td>\n    </tr>\n    <tr>\n      <th>38</th>\n      <td>38</td>\n      <td>1</td>\n      <td>0</td>\n      <td>0</td>\n      <td>0</td>\n      <td>1</td>\n      <td>0</td>\n      <td>1</td>\n      <td>0</td>\n      <td>1</td>\n      <td>...</td>\n      <td>0</td>\n      <td>0</td>\n      <td>0</td>\n      <td>0</td>\n      <td>0</td>\n      <td>0</td>\n      <td>0</td>\n      <td>0</td>\n      <td>0</td>\n      <td>0</td>\n    </tr>\n    <tr>\n      <th>39</th>\n      <td>39</td>\n      <td>1</td>\n      <td>0</td>\n      <td>0</td>\n      <td>0</td>\n      <td>1</td>\n      <td>0</td>\n      <td>1</td>\n      <td>0</td>\n      <td>0</td>\n      <td>...</td>\n      <td>0</td>\n      <td>0</td>\n      <td>1</td>\n      <td>0</td>\n      <td>0</td>\n      <td>0</td>\n      <td>0</td>\n      <td>0</td>\n      <td>0</td>\n      <td>0</td>\n    </tr>\n  </tbody>\n</table>\n<p>40 rows × 76 columns</p>\n</div>"
     },
     "execution_count": 22,
     "metadata": {},
     "output_type": "execute_result"
    }
   ],
   "source": [
    "icm_df.rename(mapper=convert_index, axis=1, inplace=True)\n",
    "icm_df"
   ],
   "metadata": {
    "collapsed": false,
    "pycharm": {
     "name": "#%%\n"
    }
   }
  },
  {
   "cell_type": "code",
   "execution_count": 23,
   "outputs": [
    {
     "data": {
      "text/plain": "      id label  value\n1      1     1      1\n2      2     1      1\n10    10     1      1\n11    11     1      1\n12    12     1      1\n...   ..   ...    ...\n2948  28    74      1\n2949  29    74      1\n2961   1    75      1\n2967   7    75      1\n2977  17    75      1\n\n[412 rows x 3 columns]",
      "text/html": "<div>\n<style scoped>\n    .dataframe tbody tr th:only-of-type {\n        vertical-align: middle;\n    }\n\n    .dataframe tbody tr th {\n        vertical-align: top;\n    }\n\n    .dataframe thead th {\n        text-align: right;\n    }\n</style>\n<table border=\"1\" class=\"dataframe\">\n  <thead>\n    <tr style=\"text-align: right;\">\n      <th></th>\n      <th>id</th>\n      <th>label</th>\n      <th>value</th>\n    </tr>\n  </thead>\n  <tbody>\n    <tr>\n      <th>1</th>\n      <td>1</td>\n      <td>1</td>\n      <td>1</td>\n    </tr>\n    <tr>\n      <th>2</th>\n      <td>2</td>\n      <td>1</td>\n      <td>1</td>\n    </tr>\n    <tr>\n      <th>10</th>\n      <td>10</td>\n      <td>1</td>\n      <td>1</td>\n    </tr>\n    <tr>\n      <th>11</th>\n      <td>11</td>\n      <td>1</td>\n      <td>1</td>\n    </tr>\n    <tr>\n      <th>12</th>\n      <td>12</td>\n      <td>1</td>\n      <td>1</td>\n    </tr>\n    <tr>\n      <th>...</th>\n      <td>...</td>\n      <td>...</td>\n      <td>...</td>\n    </tr>\n    <tr>\n      <th>2948</th>\n      <td>28</td>\n      <td>74</td>\n      <td>1</td>\n    </tr>\n    <tr>\n      <th>2949</th>\n      <td>29</td>\n      <td>74</td>\n      <td>1</td>\n    </tr>\n    <tr>\n      <th>2961</th>\n      <td>1</td>\n      <td>75</td>\n      <td>1</td>\n    </tr>\n    <tr>\n      <th>2967</th>\n      <td>7</td>\n      <td>75</td>\n      <td>1</td>\n    </tr>\n    <tr>\n      <th>2977</th>\n      <td>17</td>\n      <td>75</td>\n      <td>1</td>\n    </tr>\n  </tbody>\n</table>\n<p>412 rows × 3 columns</p>\n</div>"
     },
     "execution_count": 23,
     "metadata": {},
     "output_type": "execute_result"
    }
   ],
   "source": [
    "new_icm_df = pd.melt(icm_df, id_vars='id', var_name='label')\n",
    "new_icm_df = new_icm_df[new_icm_df[\"value\"]==1]\n",
    "new_icm_df"
   ],
   "metadata": {
    "collapsed": false,
    "pycharm": {
     "name": "#%%\n"
    }
   }
  },
  {
   "cell_type": "code",
   "execution_count": 24,
   "outputs": [
    {
     "data": {
      "text/plain": "<40x76 sparse matrix of type '<class 'numpy.int64'>'\n\twith 412 stored elements in Compressed Sparse Row format>"
     },
     "execution_count": 24,
     "metadata": {},
     "output_type": "execute_result"
    }
   ],
   "source": [
    "# Create the User Rating Matrix\n",
    "ICM_all = sps.csr_matrix(\n",
    "    (new_icm_df[\"value\"].values,\n",
    "    (new_icm_df[\"id\"].values, new_icm_df[\"label\"].values))\n",
    ")\n",
    "\n",
    "ICM_all"
   ],
   "metadata": {
    "collapsed": false,
    "pycharm": {
     "name": "#%%\n"
    }
   }
  },
  {
   "cell_type": "markdown",
   "id": "88cc3b57",
   "metadata": {
    "pycharm": {
     "name": "#%% md\n"
    }
   },
   "source": [
    "## Build the model"
   ]
  },
  {
   "cell_type": "markdown",
   "id": "5cff9398",
   "metadata": {
    "pycharm": {
     "name": "#%% md\n"
    }
   },
   "source": [
    "### Collaborative Filtering"
   ]
  },
  {
   "cell_type": "code",
   "execution_count": 25,
   "id": "9046ba43",
   "metadata": {
    "pycharm": {
     "name": "#%%\n"
    }
   },
   "outputs": [],
   "source": [
    "from Recommenders.Compute_Similarity_Python import Compute_Similarity_Python"
   ]
  },
  {
   "cell_type": "code",
   "execution_count": 26,
   "id": "1c3f06d7",
   "metadata": {
    "pycharm": {
     "name": "#%%\n"
    }
   },
   "outputs": [],
   "source": [
    "class ItemKNNCFRecommender(object):\n",
    "    \n",
    "    def __init__(self, URM):\n",
    "        self.URM = URM\n",
    "        \n",
    "            \n",
    "    def fit(self, topK=5, shrink=3, normalize=True, similarity=\"cosine\"):\n",
    "        \n",
    "        similarity_object = Compute_Similarity_Python(self.URM, shrink=shrink, \n",
    "                                                  topK=topK, normalize=normalize, \n",
    "                                                  similarity = similarity)\n",
    "        \n",
    "        self.W_sparse = similarity_object.compute_similarity()\n",
    "\n",
    "        \n",
    "    def recommend(self, user_id, at=None, exclude_seen=True):\n",
    "        # compute the scores using the dot product\n",
    "        user_profile = self.URM[user_id]\n",
    "        scores = user_profile.dot(self.W_sparse).toarray().ravel()\n",
    "\n",
    "        if exclude_seen:\n",
    "            scores = self.filter_seen(user_id, scores)\n",
    "\n",
    "        # rank items\n",
    "        ranking = scores.argsort()[::-1]\n",
    "            \n",
    "        return ranking[:at]\n",
    "    \n",
    "    \n",
    "    def filter_seen(self, user_id, scores):\n",
    "\n",
    "        start_pos = self.URM.indptr[user_id]\n",
    "        end_pos = self.URM.indptr[user_id+1]\n",
    "\n",
    "        user_profile = self.URM.indices[start_pos:end_pos]\n",
    "        \n",
    "        scores[user_profile] = -np.inf\n",
    "\n",
    "        return scores"
   ]
  },
  {
   "cell_type": "markdown",
   "id": "2f6e9375",
   "metadata": {
    "pycharm": {
     "name": "#%% md\n"
    }
   },
   "source": [
    "### Content-based Filtering"
   ]
  },
  {
   "cell_type": "code",
   "execution_count": 27,
   "id": "1ab2dcf4",
   "metadata": {
    "pycharm": {
     "name": "#%%\n"
    }
   },
   "outputs": [],
   "source": [
    "class ItemKNNCBFRecommender(object):\n",
    "\n",
    "    def __init__(self, URM, ICM):\n",
    "        self.URM = URM\n",
    "        self.ICM = ICM\n",
    "\n",
    "\n",
    "    def fit(self, topK=50, shrink=100, normalize = True, similarity = \"cosine\"):\n",
    "\n",
    "        similarity_object = Compute_Similarity_Python(self.ICM.T, shrink=shrink,\n",
    "                                                  topK=topK, normalize=normalize,\n",
    "                                                  similarity = similarity)\n",
    "\n",
    "        self.W_sparse = similarity_object.compute_similarity()\n",
    "\n",
    "\n",
    "    def recommend(self, user_id, at=None, exclude_seen=True):\n",
    "        # compute the scores using the dot product\n",
    "        user_profile = self.URM[user_id]\n",
    "        scores = user_profile.dot(self.W_sparse).toarray().ravel()\n",
    "\n",
    "        if exclude_seen:\n",
    "            scores = self.filter_seen(user_id, scores)\n",
    "\n",
    "        # rank items\n",
    "        ranking = scores.argsort()[::-1]\n",
    "\n",
    "        return ranking[:at]\n",
    "\n",
    "\n",
    "    def filter_seen(self, user_id, scores):\n",
    "\n",
    "        start_pos = self.URM.indptr[user_id]\n",
    "        end_pos = self.URM.indptr[user_id+1]\n",
    "\n",
    "        user_profile = self.URM.indices[start_pos:end_pos]\n",
    "\n",
    "        scores[user_profile] = -np.inf\n",
    "\n",
    "        return scores"
   ]
  },
  {
   "cell_type": "markdown",
   "id": "bdeb0e9c",
   "metadata": {
    "pycharm": {
     "name": "#%% md\n"
    }
   },
   "source": [
    "## Fit the model"
   ]
  },
  {
   "cell_type": "code",
   "execution_count": 40,
   "outputs": [],
   "source": [
    "model_type = 'cf'"
   ],
   "metadata": {
    "collapsed": false,
    "pycharm": {
     "name": "#%%\n"
    }
   }
  },
  {
   "cell_type": "code",
   "execution_count": 41,
   "id": "4eaf51f9",
   "metadata": {
    "pycharm": {
     "name": "#%%\n"
    }
   },
   "outputs": [
    {
     "name": "stdout",
     "output_type": "stream",
     "text": [
      "Similarity column 40 (100.0%), 20018.15 column/sec. Elapsed time 0.00 sec\n"
     ]
    }
   ],
   "source": [
    "if model_type == 'cf':\n",
    "    recommender = ItemKNNCFRecommender(URM_train)\n",
    "    recommender.fit(shrink=0.5, topK=5)"
   ]
  },
  {
   "cell_type": "code",
   "execution_count": 42,
   "outputs": [],
   "source": [
    "if model_type == 'cbf':\n",
    "    recommender = ItemKNNCBFRecommender(URM_train, ICM_all)\n",
    "    recommender.fit(shrink=0.5, topK=5)"
   ],
   "metadata": {
    "collapsed": false,
    "pycharm": {
     "name": "#%%\n"
    }
   }
  },
  {
   "cell_type": "markdown",
   "id": "5b3fbd21",
   "metadata": {
    "pycharm": {
     "name": "#%% md\n"
    }
   },
   "source": [
    "## Generate outputs"
   ]
  },
  {
   "cell_type": "code",
   "execution_count": 43,
   "id": "b9f4ce00",
   "metadata": {
    "pycharm": {
     "name": "#%%\n"
    }
   },
   "outputs": [
    {
     "name": "stderr",
     "output_type": "stream",
     "text": [
      "200it [00:00, 8334.19it/s]\n"
     ]
    }
   ],
   "source": [
    "recommendations = []\n",
    "\n",
    "for i,id in tqdm(enumerate(arr_tourists)):\n",
    "    rec = recommender.recommend(id, at=3, exclude_seen=True)\n",
    "    rec_list = rec\n",
    "    rec_row = ' '.join(str(s) for s in rec_list)\n",
    "    recommendations.append(rec_row)"
   ]
  },
  {
   "cell_type": "code",
   "execution_count": 44,
   "id": "193b8ba5",
   "metadata": {
    "pycharm": {
     "name": "#%%\n"
    }
   },
   "outputs": [
    {
     "data": {
      "text/plain": "['5 29 4',\n '30 6 32',\n '28 29 39',\n '33 15 4',\n '28 2 34',\n '27 7 35',\n '39 38 17',\n '32 34 10',\n '8 23 39',\n '39 12 37']"
     },
     "execution_count": 44,
     "metadata": {},
     "output_type": "execute_result"
    }
   ],
   "source": [
    "recommendations[:10]"
   ]
  },
  {
   "cell_type": "code",
   "execution_count": 45,
   "id": "b39be402",
   "metadata": {
    "scrolled": true,
    "pycharm": {
     "name": "#%%\n"
    }
   },
   "outputs": [
    {
     "data": {
      "text/plain": "     tourist_id    guides\n0             0    5 29 4\n1             1   30 6 32\n2             2  28 29 39\n3             3   33 15 4\n4             4   28 2 34\n..          ...       ...\n195         195   2 22 39\n196         196  37 27 35\n197         197  10 26 17\n198         198  37 27 35\n199         199  22 29 11\n\n[200 rows x 2 columns]",
      "text/html": "<div>\n<style scoped>\n    .dataframe tbody tr th:only-of-type {\n        vertical-align: middle;\n    }\n\n    .dataframe tbody tr th {\n        vertical-align: top;\n    }\n\n    .dataframe thead th {\n        text-align: right;\n    }\n</style>\n<table border=\"1\" class=\"dataframe\">\n  <thead>\n    <tr style=\"text-align: right;\">\n      <th></th>\n      <th>tourist_id</th>\n      <th>guides</th>\n    </tr>\n  </thead>\n  <tbody>\n    <tr>\n      <th>0</th>\n      <td>0</td>\n      <td>5 29 4</td>\n    </tr>\n    <tr>\n      <th>1</th>\n      <td>1</td>\n      <td>30 6 32</td>\n    </tr>\n    <tr>\n      <th>2</th>\n      <td>2</td>\n      <td>28 29 39</td>\n    </tr>\n    <tr>\n      <th>3</th>\n      <td>3</td>\n      <td>33 15 4</td>\n    </tr>\n    <tr>\n      <th>4</th>\n      <td>4</td>\n      <td>28 2 34</td>\n    </tr>\n    <tr>\n      <th>...</th>\n      <td>...</td>\n      <td>...</td>\n    </tr>\n    <tr>\n      <th>195</th>\n      <td>195</td>\n      <td>2 22 39</td>\n    </tr>\n    <tr>\n      <th>196</th>\n      <td>196</td>\n      <td>37 27 35</td>\n    </tr>\n    <tr>\n      <th>197</th>\n      <td>197</td>\n      <td>10 26 17</td>\n    </tr>\n    <tr>\n      <th>198</th>\n      <td>198</td>\n      <td>37 27 35</td>\n    </tr>\n    <tr>\n      <th>199</th>\n      <td>199</td>\n      <td>22 29 11</td>\n    </tr>\n  </tbody>\n</table>\n<p>200 rows × 2 columns</p>\n</div>"
     },
     "execution_count": 45,
     "metadata": {},
     "output_type": "execute_result"
    }
   ],
   "source": [
    "result_df = pd.DataFrame(\n",
    "    data = {'tourist_id': arr_tourists,\n",
    "            'guides': recommendations}\n",
    ")\n",
    "\n",
    "result_df"
   ]
  },
  {
   "cell_type": "code",
   "execution_count": 52,
   "id": "f1e785ba",
   "metadata": {
    "pycharm": {
     "name": "#%%\n"
    }
   },
   "outputs": [
    {
     "data": {
      "text/plain": "                       0\nid                     0\nlanguages  ['bulgarian']\nkeywords      ['cinema']",
      "text/html": "<div>\n<style scoped>\n    .dataframe tbody tr th:only-of-type {\n        vertical-align: middle;\n    }\n\n    .dataframe tbody tr th {\n        vertical-align: top;\n    }\n\n    .dataframe thead th {\n        text-align: right;\n    }\n</style>\n<table border=\"1\" class=\"dataframe\">\n  <thead>\n    <tr style=\"text-align: right;\">\n      <th></th>\n      <th>0</th>\n    </tr>\n  </thead>\n  <tbody>\n    <tr>\n      <th>id</th>\n      <td>0</td>\n    </tr>\n    <tr>\n      <th>languages</th>\n      <td>['bulgarian']</td>\n    </tr>\n    <tr>\n      <th>keywords</th>\n      <td>['cinema']</td>\n    </tr>\n  </tbody>\n</table>\n</div>"
     },
     "execution_count": 52,
     "metadata": {},
     "output_type": "execute_result"
    }
   ],
   "source": [
    "# Show some examples: select a tourist by id to visualize the received recommendations\n",
    "sample_tourist = 0\n",
    "pd.DataFrame(tourist_df.loc[sample_tourist,:])"
   ]
  },
  {
   "cell_type": "code",
   "execution_count": 53,
   "outputs": [
    {
     "data": {
      "text/plain": "    id  gender             name  birth_date  now_available  \\\n5    5    male  Ronald Mitchell  1959-06-15           True   \n29  29  female     Melissa Hart  1992-06-23           True   \n4    4    male    Steven Taylor  1985-01-25           True   \n\n                languages_spoken  price      education  \\\n5   [deutsche, dutch, bulgarian]     27  middle-school   \n29          [bulgarian, chinese]     28         master   \n4             [deutsche, french]     30         master   \n\n                    biography                            keywords  \\\n5   Teacher, secondary school                                  []   \n29      Geneticist, molecular  [archeology, literature, tracking]   \n4   Trading standards officer       [countryside, tracking, beer]   \n\n                                     current_location  experience  \n5   {'lat': 40.35854623058413, 'lon': 18.183459879...           1  \n29  {'lat': 40.35465462623879, 'lon': 18.172666005...           9  \n4   {'lat': 40.354724889812935, 'lon': 18.20308322...          17  ",
      "text/html": "<div>\n<style scoped>\n    .dataframe tbody tr th:only-of-type {\n        vertical-align: middle;\n    }\n\n    .dataframe tbody tr th {\n        vertical-align: top;\n    }\n\n    .dataframe thead th {\n        text-align: right;\n    }\n</style>\n<table border=\"1\" class=\"dataframe\">\n  <thead>\n    <tr style=\"text-align: right;\">\n      <th></th>\n      <th>id</th>\n      <th>gender</th>\n      <th>name</th>\n      <th>birth_date</th>\n      <th>now_available</th>\n      <th>languages_spoken</th>\n      <th>price</th>\n      <th>education</th>\n      <th>biography</th>\n      <th>keywords</th>\n      <th>current_location</th>\n      <th>experience</th>\n    </tr>\n  </thead>\n  <tbody>\n    <tr>\n      <th>5</th>\n      <td>5</td>\n      <td>male</td>\n      <td>Ronald Mitchell</td>\n      <td>1959-06-15</td>\n      <td>True</td>\n      <td>[deutsche, dutch, bulgarian]</td>\n      <td>27</td>\n      <td>middle-school</td>\n      <td>Teacher, secondary school</td>\n      <td>[]</td>\n      <td>{'lat': 40.35854623058413, 'lon': 18.183459879...</td>\n      <td>1</td>\n    </tr>\n    <tr>\n      <th>29</th>\n      <td>29</td>\n      <td>female</td>\n      <td>Melissa Hart</td>\n      <td>1992-06-23</td>\n      <td>True</td>\n      <td>[bulgarian, chinese]</td>\n      <td>28</td>\n      <td>master</td>\n      <td>Geneticist, molecular</td>\n      <td>[archeology, literature, tracking]</td>\n      <td>{'lat': 40.35465462623879, 'lon': 18.172666005...</td>\n      <td>9</td>\n    </tr>\n    <tr>\n      <th>4</th>\n      <td>4</td>\n      <td>male</td>\n      <td>Steven Taylor</td>\n      <td>1985-01-25</td>\n      <td>True</td>\n      <td>[deutsche, french]</td>\n      <td>30</td>\n      <td>master</td>\n      <td>Trading standards officer</td>\n      <td>[countryside, tracking, beer]</td>\n      <td>{'lat': 40.354724889812935, 'lon': 18.20308322...</td>\n      <td>17</td>\n    </tr>\n  </tbody>\n</table>\n</div>"
     },
     "execution_count": 53,
     "metadata": {},
     "output_type": "execute_result"
    }
   ],
   "source": [
    "sample_guide_list = list(map(int, recommendations[sample_tourist].split(\" \")))\n",
    "guide_df.loc[sample_guide_list,:]"
   ],
   "metadata": {
    "collapsed": false,
    "pycharm": {
     "name": "#%%\n"
    }
   }
  },
  {
   "cell_type": "code",
   "execution_count": null,
   "outputs": [],
   "source": [],
   "metadata": {
    "collapsed": false,
    "pycharm": {
     "name": "#%%\n"
    }
   }
  }
 ],
 "metadata": {
  "kernelspec": {
   "display_name": "Python 3 (ipykernel)",
   "language": "python",
   "name": "python3"
  },
  "language_info": {
   "codemirror_mode": {
    "name": "ipython",
    "version": 3
   },
   "file_extension": ".py",
   "mimetype": "text/x-python",
   "name": "python",
   "nbconvert_exporter": "python",
   "pygments_lexer": "ipython3",
   "version": "3.9.12"
  }
 },
 "nbformat": 4,
 "nbformat_minor": 5
}
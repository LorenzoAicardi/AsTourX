{
 "cells": [
  {
   "cell_type": "markdown",
   "id": "25a69c6c",
   "metadata": {
    "pycharm": {
     "name": "#%% md\n"
    }
   },
   "source": [
    "# Guide Recommendation Pipeline\n",
    "The system proposes to match the tourists with some potentially interesting guides, according to the users' preferences and requests.\n",
    "\n",
    "The designed guide recommendation system relies upon datasets of:\n",
    "- Ratings given by tourists to specific guides;\n",
    "- Set of attributes about the guides;\n",
    "- (eventually) Tourist attributes."
   ]
  },
  {
   "cell_type": "markdown",
   "id": "a04247e2",
   "metadata": {
    "pycharm": {
     "name": "#%% md\n"
    }
   },
   "source": [
    "## Define working environment"
   ]
  },
  {
   "cell_type": "code",
   "execution_count": 12,
   "id": "8738f9e9",
   "metadata": {
    "pycharm": {
     "name": "#%%\n"
    }
   },
   "outputs": [],
   "source": [
    "# Import libraries\n",
    "\n",
    "import numpy as np\n",
    "import pandas as pd\n",
    "import scipy.sparse as sps\n",
    "import matplotlib.pyplot as pyplot\n",
    "import ast\n",
    "\n",
    "from tqdm import tqdm"
   ]
  },
  {
   "cell_type": "markdown",
   "id": "cba01366",
   "metadata": {
    "pycharm": {
     "name": "#%% md\n"
    }
   },
   "source": [
    "## Load and preprocess data\n",
    "\n",
    "In this part we are loading the previously generated dataframes:\n",
    "- tourists.csv with the id, languages spoken, and keywords of the tourists.\n",
    "- guides.csv with various attributes of the guides.\n",
    "- ratings.csv which contains the tourist-guide interactions.\n"
   ]
  },
  {
   "cell_type": "code",
   "execution_count": 13,
   "id": "f7455c74",
   "metadata": {
    "pycharm": {
     "name": "#%%\n"
    }
   },
   "outputs": [
    {
     "data": {
      "text/plain": "      id      languages                         keywords\n0      0  ['bulgarian']                       ['cinema']\n1      1   ['deutsche']                               []\n2      2    ['spanish']           ['rafting', 'museums']\n3      3   ['deutsche']    ['cinema', 'history', 'food']\n4      4    ['chinese']              ['wine', 'rafting']\n..   ...            ...                              ...\n195  195     ['french']                       ['cinema']\n196  196      ['dutch']  ['food', 'tracking', 'history']\n197  197      ['dutch']    ['museums', 'art', 'history']\n198  198    ['italian']        ['rafting', 'literature']\n199  199    ['spanish']    ['countryside', 'archeology']\n\n[200 rows x 3 columns]",
      "text/html": "<div>\n<style scoped>\n    .dataframe tbody tr th:only-of-type {\n        vertical-align: middle;\n    }\n\n    .dataframe tbody tr th {\n        vertical-align: top;\n    }\n\n    .dataframe thead th {\n        text-align: right;\n    }\n</style>\n<table border=\"1\" class=\"dataframe\">\n  <thead>\n    <tr style=\"text-align: right;\">\n      <th></th>\n      <th>id</th>\n      <th>languages</th>\n      <th>keywords</th>\n    </tr>\n  </thead>\n  <tbody>\n    <tr>\n      <th>0</th>\n      <td>0</td>\n      <td>['bulgarian']</td>\n      <td>['cinema']</td>\n    </tr>\n    <tr>\n      <th>1</th>\n      <td>1</td>\n      <td>['deutsche']</td>\n      <td>[]</td>\n    </tr>\n    <tr>\n      <th>2</th>\n      <td>2</td>\n      <td>['spanish']</td>\n      <td>['rafting', 'museums']</td>\n    </tr>\n    <tr>\n      <th>3</th>\n      <td>3</td>\n      <td>['deutsche']</td>\n      <td>['cinema', 'history', 'food']</td>\n    </tr>\n    <tr>\n      <th>4</th>\n      <td>4</td>\n      <td>['chinese']</td>\n      <td>['wine', 'rafting']</td>\n    </tr>\n    <tr>\n      <th>...</th>\n      <td>...</td>\n      <td>...</td>\n      <td>...</td>\n    </tr>\n    <tr>\n      <th>195</th>\n      <td>195</td>\n      <td>['french']</td>\n      <td>['cinema']</td>\n    </tr>\n    <tr>\n      <th>196</th>\n      <td>196</td>\n      <td>['dutch']</td>\n      <td>['food', 'tracking', 'history']</td>\n    </tr>\n    <tr>\n      <th>197</th>\n      <td>197</td>\n      <td>['dutch']</td>\n      <td>['museums', 'art', 'history']</td>\n    </tr>\n    <tr>\n      <th>198</th>\n      <td>198</td>\n      <td>['italian']</td>\n      <td>['rafting', 'literature']</td>\n    </tr>\n    <tr>\n      <th>199</th>\n      <td>199</td>\n      <td>['spanish']</td>\n      <td>['countryside', 'archeology']</td>\n    </tr>\n  </tbody>\n</table>\n<p>200 rows × 3 columns</p>\n</div>"
     },
     "execution_count": 13,
     "metadata": {},
     "output_type": "execute_result"
    }
   ],
   "source": [
    "# Load dataframe for tourist attributes\n",
    "\n",
    "tourist_file = open('Data/tourists_200.csv')\n",
    "\n",
    "tourist_df = pd.read_csv(\n",
    "    filepath_or_buffer = tourist_file,\n",
    "    sep = ';',\n",
    "    header = 0\n",
    ")\n",
    "\n",
    "tourist_df.rename(columns={tourist_df.columns[0]: 'id'}, inplace=True)\n",
    "\n",
    "tourist_df"
   ]
  },
  {
   "cell_type": "code",
   "execution_count": 14,
   "id": "af9da72b",
   "metadata": {
    "pycharm": {
     "name": "#%%\n"
    },
    "scrolled": true
   },
   "outputs": [
    {
     "data": {
      "text/plain": "    id  gender                name  birth_date  now_available  \\\n0    0    male     Kevin Rodriguez  1967-11-01           True   \n1    1  female        Diana Barnes  1965-09-19           True   \n2    2  female      Kristin Rogers  1978-10-12           True   \n3    3    male       Jeremy Bowman  1992-05-30           True   \n4    4    male        Justin Lynch  1976-12-24           True   \n5    5    male        Charles Dunn  1988-06-19           True   \n6    6    male     Mitchell Duncan  1987-12-29           True   \n7    7    male      Charles Clarke  1990-07-17           True   \n8    8    male        Scott Sawyer  1992-06-10           True   \n9    9    male     Joseph Bradford  2004-04-17           True   \n10  10  female  Elizabeth Castillo  1987-10-02           True   \n11  11  female         Rhonda Hull  1960-12-06           True   \n12  12  female    Crystal Mitchell  1961-01-01           True   \n13  13  female        Megan Barnes  1963-06-29           True   \n14  14    male       Mathew Vaughn  1967-12-17           True   \n15  15    male          James Cole  1959-05-30           True   \n16  16    male         Steven Sims  1962-12-17           True   \n17  17    male        Michael Pham  1993-10-05           True   \n18  18    male      Michael Porter  1974-03-31           True   \n19  19  female          April Pham  1970-02-10           True   \n20  20  female       Erin Williams  1966-04-01           True   \n21  21    male       Robert Zavala  1987-01-19           True   \n22  22  female       Shannon Oneal  1976-06-09           True   \n23  23  female        Susan Miller  1962-11-08           True   \n24  24  female          Katie Hunt  1993-09-17           True   \n25  25  female    Heather Sullivan  1961-12-06           True   \n26  26    male   Dakota Washington  2003-04-09           True   \n27  27  female    Meredith Stanley  1975-08-15           True   \n28  28  female     Cynthia Johnson  1980-01-16           True   \n29  29  female            Dana Cox  1988-11-28           True   \n30  30  female         Jaime Hicks  1989-09-06           True   \n31  31    male         Kent Horton  1958-11-06           True   \n32  32  female       Joyce Johnson  1967-04-30           True   \n33  33    male         John Walton  1975-07-28           True   \n34  34  female       Ashley Vaughn  1993-06-10           True   \n35  35    male       Ronald Walker  1970-02-26           True   \n36  36    male          Cory Curry  1989-01-27           True   \n37  37    male     Matthew Edwards  1964-09-12           True   \n38  38  female       Denise Dodson  1974-12-23           True   \n39  39  female        Alice Lester  1973-03-02           True   \n\n                          languages_spoken  price      education  \\\n0                                [english]     25    high-school   \n1                         [italian, dutch]     36  middle-school   \n2               [chinese, french, english]     34            phd   \n3                              [bulgarian]     46       bachelor   \n4                       [deutsche, french]     30         master   \n5             [deutsche, dutch, bulgarian]     27  middle-school   \n6               [english, chinese, french]     34  middle-school   \n7        [spanish, dutch, french, italian]     33       bachelor   \n8            [bulgarian, english, chinese]     31  middle-school   \n9     [chinese, bulgarian, dutch, english]     37            phd   \n10                   [bulgarian, deutsche]     23    high-school   \n11                             [bulgarian]     23            phd   \n12                [dutch, french, italian]     19       bachelor   \n13                      [chinese, english]     27         master   \n14                       [chinese, french]     40  middle-school   \n15                     [deutsche, chinese]     31  middle-school   \n16            [spanish, bulgarian, french]     32  middle-school   \n17                                 [dutch]     26         master   \n18                        [italian, dutch]     24       bachelor   \n19          [bulgarian, deutsche, english]     35  middle-school   \n20                      [deutsche, french]     43         master   \n21                               [chinese]     26    high-school   \n22                      [chinese, spanish]     25    high-school   \n23           [english, italian, bulgarian]     20  middle-school   \n24             [dutch, italian, bulgarian]     28    high-school   \n25                             [bulgarian]     31            phd   \n26                                 [dutch]     30            phd   \n27                               [italian]     30            phd   \n28                               [spanish]     25  middle-school   \n29                    [bulgarian, chinese]     28         master   \n30             [french, deutsche, english]     27       bachelor   \n31             [deutsche, french, english]     23         master   \n32                     [french, bulgarian]     28            phd   \n33                                [french]     26  middle-school   \n34  [chinese, spanish, bulgarian, italian]     28  middle-school   \n35                       [italian, french]     30         master   \n36                               [spanish]     26            phd   \n37                                 [dutch]     26         master   \n38                               [italian]     28         master   \n39                        [spanish, dutch]     26  middle-school   \n\n                                       biography  \\\n0                        Engineer, manufacturing   \n1                            Animal technologist   \n2                          Editor, commissioning   \n3                                  Retail banker   \n4                       Secondary school teacher   \n5                                     Oncologist   \n6                             Analytical chemist   \n7                            Associate Professor   \n8                                Theatre manager   \n9                        Therapist, occupational   \n10                         Environmental manager   \n11                  Garment/textile technologist   \n12                 Designer, television/film set   \n13                              Industrial buyer   \n14             Research officer, political party   \n15             Environmental health practitioner   \n16                     Psychologist, counselling   \n17                                   Optometrist   \n18                                Chief of Staff   \n19         Senior tax professional/tax inspector   \n20                               Mining engineer   \n21                              Product designer   \n22                           Information officer   \n23                           Animal nutritionist   \n24  Production designer, theatre/television/film   \n25                                    IT trainer   \n26               Producer, television/film/video   \n27                     Conference centre manager   \n28                              Network engineer   \n29                             Market researcher   \n30                            Restaurant manager   \n31                   Civil Service fast streamer   \n32                                Teacher, music   \n33                   Production assistant, radio   \n34               Sport and exercise psychologist   \n35                      Journalist, broadcasting   \n36                          Brewing technologist   \n37                    Research scientist (maths)   \n38                Equality and diversity officer   \n39                             Minerals surveyor   \n\n                                             keywords  \\\n0                                           [museums]   \n1                    [cinema, rafting, history, wine]   \n2                             [food, archeology, art]   \n3                         [countryside, rafting, art]   \n4                       [countryside, tracking, beer]   \n5                                                  []   \n6                               [rafting, art, sport]   \n7                   [museums, art, countryside, wine]   \n8                         [literature, cinema, music]   \n9                                           [museums]   \n10     [cinema, rafting, sport, museums, countryside]   \n11                            [cinema, beer, rafting]   \n12                               [sport, music, beer]   \n13                          [sport, archeology, beer]   \n14                                          [museums]   \n15                [music, food, tracking, archeology]   \n16                         [countryside, music, beer]   \n17                                 [wine, sport, art]   \n18                                             [food]   \n19                                                 []   \n20                           [rafting, museums, food]   \n21                                           [cinema]   \n22  [history, countryside, cinema, literature, music]   \n23                                         [tracking]   \n24                                                 []   \n25                                       [literature]   \n26                          [tracking, beer, museums]   \n27                                [countryside, beer]   \n28     [food, rafting, museums, music, art, tracking]   \n29                 [archeology, literature, tracking]   \n30                                            [music]   \n31                         [music, countryside, food]   \n32                                [archeology, music]   \n33             [beer, music, countryside, archeology]   \n34                                                 []   \n35                                            [music]   \n36                                                 []   \n37                                                 []   \n38                                                 []   \n39                                          [history]   \n\n                                     current_location  experience  \n0   {'lat': 40.342693584880706, 'lon': 18.16438078...          30  \n1   {'lat': 40.3367551413547, 'lon': 18.1569120995...          25  \n2   {'lat': 40.362447049660204, 'lon': 18.14225129...          14  \n3   {'lat': 40.36584086550253, 'lon': 18.183002910...           5  \n4   {'lat': 40.354724889812935, 'lon': 18.20308322...          17  \n5   {'lat': 40.35854623058413, 'lon': 18.183459879...           1  \n6   {'lat': 40.35774331848761, 'lon': 18.163273185...          18  \n7   {'lat': 40.365193043282794, 'lon': 18.18548169...          11  \n8   {'lat': 40.35265552781134, 'lon': 18.151723396...           2  \n9   {'lat': 40.33774657696426, 'lon': 18.182064664...           1  \n10  {'lat': 40.36612881009787, 'lon': 18.182042843...           5  \n11  {'lat': 40.367394960036485, 'lon': 18.17553586...          25  \n12  {'lat': 40.34268462008425, 'lon': 18.187542175...          41  \n13  {'lat': 40.35377358678542, 'lon': 18.174728239...          30  \n14  {'lat': 40.353069674191346, 'lon': 18.17755576...          38  \n15  {'lat': 40.35272705494921, 'lon': 18.165705019...          16  \n16  {'lat': 40.32347428820915, 'lon': 18.164571467...           2  \n17  {'lat': 40.36624424923941, 'lon': 18.174443383...           2  \n18  {'lat': 40.362871505646005, 'lon': 18.18292777...          18  \n19  {'lat': 40.339915788807765, 'lon': 18.18379781...           7  \n20  {'lat': 40.357612936236265, 'lon': 18.16907898...          20  \n21  {'lat': 40.342846292499104, 'lon': 18.16089760...           5  \n22  {'lat': 40.36846436096489, 'lon': 18.171263566...           6  \n23  {'lat': 40.364408581391295, 'lon': 18.16428124...          18  \n24  {'lat': 40.32998981194129, 'lon': 18.175342312...          11  \n25  {'lat': 40.36710284805045, 'lon': 18.179956956...          40  \n26  {'lat': 40.37981446263931, 'lon': 18.178854600...           3  \n27  {'lat': 40.3457074414046, 'lon': 18.1747654675...          14  \n28  {'lat': 40.35079556972286, 'lon': 18.181927024...          12  \n29  {'lat': 40.35465462623879, 'lon': 18.172666005...          10  \n30  {'lat': 40.361047668976795, 'lon': 18.18633484...          17  \n31  {'lat': 40.339171732936364, 'lon': 18.16792590...           6  \n32  {'lat': 40.343414579847, 'lon': 18.18565562805...          20  \n33  {'lat': 40.34424559835338, 'lon': 18.174907197...           7  \n34  {'lat': 40.38198340911851, 'lon': 18.173378831...          10  \n35  {'lat': 40.36699713437984, 'lon': 18.165786470...           3  \n36  {'lat': 40.358649720289904, 'lon': 18.16378056...           5  \n37  {'lat': 40.3604075695112, 'lon': 18.1615738690...          41  \n38  {'lat': 40.36497247240833, 'lon': 18.173581152...           2  \n39  {'lat': 40.35901486939172, 'lon': 18.166553513...           1  ",
      "text/html": "<div>\n<style scoped>\n    .dataframe tbody tr th:only-of-type {\n        vertical-align: middle;\n    }\n\n    .dataframe tbody tr th {\n        vertical-align: top;\n    }\n\n    .dataframe thead th {\n        text-align: right;\n    }\n</style>\n<table border=\"1\" class=\"dataframe\">\n  <thead>\n    <tr style=\"text-align: right;\">\n      <th></th>\n      <th>id</th>\n      <th>gender</th>\n      <th>name</th>\n      <th>birth_date</th>\n      <th>now_available</th>\n      <th>languages_spoken</th>\n      <th>price</th>\n      <th>education</th>\n      <th>biography</th>\n      <th>keywords</th>\n      <th>current_location</th>\n      <th>experience</th>\n    </tr>\n  </thead>\n  <tbody>\n    <tr>\n      <th>0</th>\n      <td>0</td>\n      <td>male</td>\n      <td>Kevin Rodriguez</td>\n      <td>1967-11-01</td>\n      <td>True</td>\n      <td>[english]</td>\n      <td>25</td>\n      <td>high-school</td>\n      <td>Engineer, manufacturing</td>\n      <td>[museums]</td>\n      <td>{'lat': 40.342693584880706, 'lon': 18.16438078...</td>\n      <td>30</td>\n    </tr>\n    <tr>\n      <th>1</th>\n      <td>1</td>\n      <td>female</td>\n      <td>Diana Barnes</td>\n      <td>1965-09-19</td>\n      <td>True</td>\n      <td>[italian, dutch]</td>\n      <td>36</td>\n      <td>middle-school</td>\n      <td>Animal technologist</td>\n      <td>[cinema, rafting, history, wine]</td>\n      <td>{'lat': 40.3367551413547, 'lon': 18.1569120995...</td>\n      <td>25</td>\n    </tr>\n    <tr>\n      <th>2</th>\n      <td>2</td>\n      <td>female</td>\n      <td>Kristin Rogers</td>\n      <td>1978-10-12</td>\n      <td>True</td>\n      <td>[chinese, french, english]</td>\n      <td>34</td>\n      <td>phd</td>\n      <td>Editor, commissioning</td>\n      <td>[food, archeology, art]</td>\n      <td>{'lat': 40.362447049660204, 'lon': 18.14225129...</td>\n      <td>14</td>\n    </tr>\n    <tr>\n      <th>3</th>\n      <td>3</td>\n      <td>male</td>\n      <td>Jeremy Bowman</td>\n      <td>1992-05-30</td>\n      <td>True</td>\n      <td>[bulgarian]</td>\n      <td>46</td>\n      <td>bachelor</td>\n      <td>Retail banker</td>\n      <td>[countryside, rafting, art]</td>\n      <td>{'lat': 40.36584086550253, 'lon': 18.183002910...</td>\n      <td>5</td>\n    </tr>\n    <tr>\n      <th>4</th>\n      <td>4</td>\n      <td>male</td>\n      <td>Justin Lynch</td>\n      <td>1976-12-24</td>\n      <td>True</td>\n      <td>[deutsche, french]</td>\n      <td>30</td>\n      <td>master</td>\n      <td>Secondary school teacher</td>\n      <td>[countryside, tracking, beer]</td>\n      <td>{'lat': 40.354724889812935, 'lon': 18.20308322...</td>\n      <td>17</td>\n    </tr>\n    <tr>\n      <th>5</th>\n      <td>5</td>\n      <td>male</td>\n      <td>Charles Dunn</td>\n      <td>1988-06-19</td>\n      <td>True</td>\n      <td>[deutsche, dutch, bulgarian]</td>\n      <td>27</td>\n      <td>middle-school</td>\n      <td>Oncologist</td>\n      <td>[]</td>\n      <td>{'lat': 40.35854623058413, 'lon': 18.183459879...</td>\n      <td>1</td>\n    </tr>\n    <tr>\n      <th>6</th>\n      <td>6</td>\n      <td>male</td>\n      <td>Mitchell Duncan</td>\n      <td>1987-12-29</td>\n      <td>True</td>\n      <td>[english, chinese, french]</td>\n      <td>34</td>\n      <td>middle-school</td>\n      <td>Analytical chemist</td>\n      <td>[rafting, art, sport]</td>\n      <td>{'lat': 40.35774331848761, 'lon': 18.163273185...</td>\n      <td>18</td>\n    </tr>\n    <tr>\n      <th>7</th>\n      <td>7</td>\n      <td>male</td>\n      <td>Charles Clarke</td>\n      <td>1990-07-17</td>\n      <td>True</td>\n      <td>[spanish, dutch, french, italian]</td>\n      <td>33</td>\n      <td>bachelor</td>\n      <td>Associate Professor</td>\n      <td>[museums, art, countryside, wine]</td>\n      <td>{'lat': 40.365193043282794, 'lon': 18.18548169...</td>\n      <td>11</td>\n    </tr>\n    <tr>\n      <th>8</th>\n      <td>8</td>\n      <td>male</td>\n      <td>Scott Sawyer</td>\n      <td>1992-06-10</td>\n      <td>True</td>\n      <td>[bulgarian, english, chinese]</td>\n      <td>31</td>\n      <td>middle-school</td>\n      <td>Theatre manager</td>\n      <td>[literature, cinema, music]</td>\n      <td>{'lat': 40.35265552781134, 'lon': 18.151723396...</td>\n      <td>2</td>\n    </tr>\n    <tr>\n      <th>9</th>\n      <td>9</td>\n      <td>male</td>\n      <td>Joseph Bradford</td>\n      <td>2004-04-17</td>\n      <td>True</td>\n      <td>[chinese, bulgarian, dutch, english]</td>\n      <td>37</td>\n      <td>phd</td>\n      <td>Therapist, occupational</td>\n      <td>[museums]</td>\n      <td>{'lat': 40.33774657696426, 'lon': 18.182064664...</td>\n      <td>1</td>\n    </tr>\n    <tr>\n      <th>10</th>\n      <td>10</td>\n      <td>female</td>\n      <td>Elizabeth Castillo</td>\n      <td>1987-10-02</td>\n      <td>True</td>\n      <td>[bulgarian, deutsche]</td>\n      <td>23</td>\n      <td>high-school</td>\n      <td>Environmental manager</td>\n      <td>[cinema, rafting, sport, museums, countryside]</td>\n      <td>{'lat': 40.36612881009787, 'lon': 18.182042843...</td>\n      <td>5</td>\n    </tr>\n    <tr>\n      <th>11</th>\n      <td>11</td>\n      <td>female</td>\n      <td>Rhonda Hull</td>\n      <td>1960-12-06</td>\n      <td>True</td>\n      <td>[bulgarian]</td>\n      <td>23</td>\n      <td>phd</td>\n      <td>Garment/textile technologist</td>\n      <td>[cinema, beer, rafting]</td>\n      <td>{'lat': 40.367394960036485, 'lon': 18.17553586...</td>\n      <td>25</td>\n    </tr>\n    <tr>\n      <th>12</th>\n      <td>12</td>\n      <td>female</td>\n      <td>Crystal Mitchell</td>\n      <td>1961-01-01</td>\n      <td>True</td>\n      <td>[dutch, french, italian]</td>\n      <td>19</td>\n      <td>bachelor</td>\n      <td>Designer, television/film set</td>\n      <td>[sport, music, beer]</td>\n      <td>{'lat': 40.34268462008425, 'lon': 18.187542175...</td>\n      <td>41</td>\n    </tr>\n    <tr>\n      <th>13</th>\n      <td>13</td>\n      <td>female</td>\n      <td>Megan Barnes</td>\n      <td>1963-06-29</td>\n      <td>True</td>\n      <td>[chinese, english]</td>\n      <td>27</td>\n      <td>master</td>\n      <td>Industrial buyer</td>\n      <td>[sport, archeology, beer]</td>\n      <td>{'lat': 40.35377358678542, 'lon': 18.174728239...</td>\n      <td>30</td>\n    </tr>\n    <tr>\n      <th>14</th>\n      <td>14</td>\n      <td>male</td>\n      <td>Mathew Vaughn</td>\n      <td>1967-12-17</td>\n      <td>True</td>\n      <td>[chinese, french]</td>\n      <td>40</td>\n      <td>middle-school</td>\n      <td>Research officer, political party</td>\n      <td>[museums]</td>\n      <td>{'lat': 40.353069674191346, 'lon': 18.17755576...</td>\n      <td>38</td>\n    </tr>\n    <tr>\n      <th>15</th>\n      <td>15</td>\n      <td>male</td>\n      <td>James Cole</td>\n      <td>1959-05-30</td>\n      <td>True</td>\n      <td>[deutsche, chinese]</td>\n      <td>31</td>\n      <td>middle-school</td>\n      <td>Environmental health practitioner</td>\n      <td>[music, food, tracking, archeology]</td>\n      <td>{'lat': 40.35272705494921, 'lon': 18.165705019...</td>\n      <td>16</td>\n    </tr>\n    <tr>\n      <th>16</th>\n      <td>16</td>\n      <td>male</td>\n      <td>Steven Sims</td>\n      <td>1962-12-17</td>\n      <td>True</td>\n      <td>[spanish, bulgarian, french]</td>\n      <td>32</td>\n      <td>middle-school</td>\n      <td>Psychologist, counselling</td>\n      <td>[countryside, music, beer]</td>\n      <td>{'lat': 40.32347428820915, 'lon': 18.164571467...</td>\n      <td>2</td>\n    </tr>\n    <tr>\n      <th>17</th>\n      <td>17</td>\n      <td>male</td>\n      <td>Michael Pham</td>\n      <td>1993-10-05</td>\n      <td>True</td>\n      <td>[dutch]</td>\n      <td>26</td>\n      <td>master</td>\n      <td>Optometrist</td>\n      <td>[wine, sport, art]</td>\n      <td>{'lat': 40.36624424923941, 'lon': 18.174443383...</td>\n      <td>2</td>\n    </tr>\n    <tr>\n      <th>18</th>\n      <td>18</td>\n      <td>male</td>\n      <td>Michael Porter</td>\n      <td>1974-03-31</td>\n      <td>True</td>\n      <td>[italian, dutch]</td>\n      <td>24</td>\n      <td>bachelor</td>\n      <td>Chief of Staff</td>\n      <td>[food]</td>\n      <td>{'lat': 40.362871505646005, 'lon': 18.18292777...</td>\n      <td>18</td>\n    </tr>\n    <tr>\n      <th>19</th>\n      <td>19</td>\n      <td>female</td>\n      <td>April Pham</td>\n      <td>1970-02-10</td>\n      <td>True</td>\n      <td>[bulgarian, deutsche, english]</td>\n      <td>35</td>\n      <td>middle-school</td>\n      <td>Senior tax professional/tax inspector</td>\n      <td>[]</td>\n      <td>{'lat': 40.339915788807765, 'lon': 18.18379781...</td>\n      <td>7</td>\n    </tr>\n    <tr>\n      <th>20</th>\n      <td>20</td>\n      <td>female</td>\n      <td>Erin Williams</td>\n      <td>1966-04-01</td>\n      <td>True</td>\n      <td>[deutsche, french]</td>\n      <td>43</td>\n      <td>master</td>\n      <td>Mining engineer</td>\n      <td>[rafting, museums, food]</td>\n      <td>{'lat': 40.357612936236265, 'lon': 18.16907898...</td>\n      <td>20</td>\n    </tr>\n    <tr>\n      <th>21</th>\n      <td>21</td>\n      <td>male</td>\n      <td>Robert Zavala</td>\n      <td>1987-01-19</td>\n      <td>True</td>\n      <td>[chinese]</td>\n      <td>26</td>\n      <td>high-school</td>\n      <td>Product designer</td>\n      <td>[cinema]</td>\n      <td>{'lat': 40.342846292499104, 'lon': 18.16089760...</td>\n      <td>5</td>\n    </tr>\n    <tr>\n      <th>22</th>\n      <td>22</td>\n      <td>female</td>\n      <td>Shannon Oneal</td>\n      <td>1976-06-09</td>\n      <td>True</td>\n      <td>[chinese, spanish]</td>\n      <td>25</td>\n      <td>high-school</td>\n      <td>Information officer</td>\n      <td>[history, countryside, cinema, literature, music]</td>\n      <td>{'lat': 40.36846436096489, 'lon': 18.171263566...</td>\n      <td>6</td>\n    </tr>\n    <tr>\n      <th>23</th>\n      <td>23</td>\n      <td>female</td>\n      <td>Susan Miller</td>\n      <td>1962-11-08</td>\n      <td>True</td>\n      <td>[english, italian, bulgarian]</td>\n      <td>20</td>\n      <td>middle-school</td>\n      <td>Animal nutritionist</td>\n      <td>[tracking]</td>\n      <td>{'lat': 40.364408581391295, 'lon': 18.16428124...</td>\n      <td>18</td>\n    </tr>\n    <tr>\n      <th>24</th>\n      <td>24</td>\n      <td>female</td>\n      <td>Katie Hunt</td>\n      <td>1993-09-17</td>\n      <td>True</td>\n      <td>[dutch, italian, bulgarian]</td>\n      <td>28</td>\n      <td>high-school</td>\n      <td>Production designer, theatre/television/film</td>\n      <td>[]</td>\n      <td>{'lat': 40.32998981194129, 'lon': 18.175342312...</td>\n      <td>11</td>\n    </tr>\n    <tr>\n      <th>25</th>\n      <td>25</td>\n      <td>female</td>\n      <td>Heather Sullivan</td>\n      <td>1961-12-06</td>\n      <td>True</td>\n      <td>[bulgarian]</td>\n      <td>31</td>\n      <td>phd</td>\n      <td>IT trainer</td>\n      <td>[literature]</td>\n      <td>{'lat': 40.36710284805045, 'lon': 18.179956956...</td>\n      <td>40</td>\n    </tr>\n    <tr>\n      <th>26</th>\n      <td>26</td>\n      <td>male</td>\n      <td>Dakota Washington</td>\n      <td>2003-04-09</td>\n      <td>True</td>\n      <td>[dutch]</td>\n      <td>30</td>\n      <td>phd</td>\n      <td>Producer, television/film/video</td>\n      <td>[tracking, beer, museums]</td>\n      <td>{'lat': 40.37981446263931, 'lon': 18.178854600...</td>\n      <td>3</td>\n    </tr>\n    <tr>\n      <th>27</th>\n      <td>27</td>\n      <td>female</td>\n      <td>Meredith Stanley</td>\n      <td>1975-08-15</td>\n      <td>True</td>\n      <td>[italian]</td>\n      <td>30</td>\n      <td>phd</td>\n      <td>Conference centre manager</td>\n      <td>[countryside, beer]</td>\n      <td>{'lat': 40.3457074414046, 'lon': 18.1747654675...</td>\n      <td>14</td>\n    </tr>\n    <tr>\n      <th>28</th>\n      <td>28</td>\n      <td>female</td>\n      <td>Cynthia Johnson</td>\n      <td>1980-01-16</td>\n      <td>True</td>\n      <td>[spanish]</td>\n      <td>25</td>\n      <td>middle-school</td>\n      <td>Network engineer</td>\n      <td>[food, rafting, museums, music, art, tracking]</td>\n      <td>{'lat': 40.35079556972286, 'lon': 18.181927024...</td>\n      <td>12</td>\n    </tr>\n    <tr>\n      <th>29</th>\n      <td>29</td>\n      <td>female</td>\n      <td>Dana Cox</td>\n      <td>1988-11-28</td>\n      <td>True</td>\n      <td>[bulgarian, chinese]</td>\n      <td>28</td>\n      <td>master</td>\n      <td>Market researcher</td>\n      <td>[archeology, literature, tracking]</td>\n      <td>{'lat': 40.35465462623879, 'lon': 18.172666005...</td>\n      <td>10</td>\n    </tr>\n    <tr>\n      <th>30</th>\n      <td>30</td>\n      <td>female</td>\n      <td>Jaime Hicks</td>\n      <td>1989-09-06</td>\n      <td>True</td>\n      <td>[french, deutsche, english]</td>\n      <td>27</td>\n      <td>bachelor</td>\n      <td>Restaurant manager</td>\n      <td>[music]</td>\n      <td>{'lat': 40.361047668976795, 'lon': 18.18633484...</td>\n      <td>17</td>\n    </tr>\n    <tr>\n      <th>31</th>\n      <td>31</td>\n      <td>male</td>\n      <td>Kent Horton</td>\n      <td>1958-11-06</td>\n      <td>True</td>\n      <td>[deutsche, french, english]</td>\n      <td>23</td>\n      <td>master</td>\n      <td>Civil Service fast streamer</td>\n      <td>[music, countryside, food]</td>\n      <td>{'lat': 40.339171732936364, 'lon': 18.16792590...</td>\n      <td>6</td>\n    </tr>\n    <tr>\n      <th>32</th>\n      <td>32</td>\n      <td>female</td>\n      <td>Joyce Johnson</td>\n      <td>1967-04-30</td>\n      <td>True</td>\n      <td>[french, bulgarian]</td>\n      <td>28</td>\n      <td>phd</td>\n      <td>Teacher, music</td>\n      <td>[archeology, music]</td>\n      <td>{'lat': 40.343414579847, 'lon': 18.18565562805...</td>\n      <td>20</td>\n    </tr>\n    <tr>\n      <th>33</th>\n      <td>33</td>\n      <td>male</td>\n      <td>John Walton</td>\n      <td>1975-07-28</td>\n      <td>True</td>\n      <td>[french]</td>\n      <td>26</td>\n      <td>middle-school</td>\n      <td>Production assistant, radio</td>\n      <td>[beer, music, countryside, archeology]</td>\n      <td>{'lat': 40.34424559835338, 'lon': 18.174907197...</td>\n      <td>7</td>\n    </tr>\n    <tr>\n      <th>34</th>\n      <td>34</td>\n      <td>female</td>\n      <td>Ashley Vaughn</td>\n      <td>1993-06-10</td>\n      <td>True</td>\n      <td>[chinese, spanish, bulgarian, italian]</td>\n      <td>28</td>\n      <td>middle-school</td>\n      <td>Sport and exercise psychologist</td>\n      <td>[]</td>\n      <td>{'lat': 40.38198340911851, 'lon': 18.173378831...</td>\n      <td>10</td>\n    </tr>\n    <tr>\n      <th>35</th>\n      <td>35</td>\n      <td>male</td>\n      <td>Ronald Walker</td>\n      <td>1970-02-26</td>\n      <td>True</td>\n      <td>[italian, french]</td>\n      <td>30</td>\n      <td>master</td>\n      <td>Journalist, broadcasting</td>\n      <td>[music]</td>\n      <td>{'lat': 40.36699713437984, 'lon': 18.165786470...</td>\n      <td>3</td>\n    </tr>\n    <tr>\n      <th>36</th>\n      <td>36</td>\n      <td>male</td>\n      <td>Cory Curry</td>\n      <td>1989-01-27</td>\n      <td>True</td>\n      <td>[spanish]</td>\n      <td>26</td>\n      <td>phd</td>\n      <td>Brewing technologist</td>\n      <td>[]</td>\n      <td>{'lat': 40.358649720289904, 'lon': 18.16378056...</td>\n      <td>5</td>\n    </tr>\n    <tr>\n      <th>37</th>\n      <td>37</td>\n      <td>male</td>\n      <td>Matthew Edwards</td>\n      <td>1964-09-12</td>\n      <td>True</td>\n      <td>[dutch]</td>\n      <td>26</td>\n      <td>master</td>\n      <td>Research scientist (maths)</td>\n      <td>[]</td>\n      <td>{'lat': 40.3604075695112, 'lon': 18.1615738690...</td>\n      <td>41</td>\n    </tr>\n    <tr>\n      <th>38</th>\n      <td>38</td>\n      <td>female</td>\n      <td>Denise Dodson</td>\n      <td>1974-12-23</td>\n      <td>True</td>\n      <td>[italian]</td>\n      <td>28</td>\n      <td>master</td>\n      <td>Equality and diversity officer</td>\n      <td>[]</td>\n      <td>{'lat': 40.36497247240833, 'lon': 18.173581152...</td>\n      <td>2</td>\n    </tr>\n    <tr>\n      <th>39</th>\n      <td>39</td>\n      <td>female</td>\n      <td>Alice Lester</td>\n      <td>1973-03-02</td>\n      <td>True</td>\n      <td>[spanish, dutch]</td>\n      <td>26</td>\n      <td>middle-school</td>\n      <td>Minerals surveyor</td>\n      <td>[history]</td>\n      <td>{'lat': 40.35901486939172, 'lon': 18.166553513...</td>\n      <td>1</td>\n    </tr>\n  </tbody>\n</table>\n</div>"
     },
     "execution_count": 14,
     "metadata": {},
     "output_type": "execute_result"
    }
   ],
   "source": [
    "# Load dataframe for guide attributes\n",
    "\n",
    "guide_file = open('Data/guides_40.csv')\n",
    "\n",
    "guide_df = pd.read_csv(\n",
    "    filepath_or_buffer = guide_file,\n",
    "    sep = ';',\n",
    "    header = 0,\n",
    "    converters = {'languages_spoken':ast.literal_eval, 'keywords':ast.literal_eval}\n",
    ")\n",
    "\n",
    "guide_df.rename(columns={guide_df.columns[0]: 'id'}, inplace=True)\n",
    "\n",
    "guide_df"
   ]
  },
  {
   "cell_type": "code",
   "execution_count": 15,
   "outputs": [
    {
     "data": {
      "text/plain": "       0   1    2\n0      0  32  5.0\n1      0  10  4.0\n2      1  20  5.0\n3      1  15  4.0\n4      2  34  4.0\n..   ...  ..  ...\n300  195  14  4.0\n301  196  18  3.0\n302  197   5  4.0\n303  198  18  4.0\n304  199  34  4.0\n\n[305 rows x 3 columns]",
      "text/html": "<div>\n<style scoped>\n    .dataframe tbody tr th:only-of-type {\n        vertical-align: middle;\n    }\n\n    .dataframe tbody tr th {\n        vertical-align: top;\n    }\n\n    .dataframe thead th {\n        text-align: right;\n    }\n</style>\n<table border=\"1\" class=\"dataframe\">\n  <thead>\n    <tr style=\"text-align: right;\">\n      <th></th>\n      <th>0</th>\n      <th>1</th>\n      <th>2</th>\n    </tr>\n  </thead>\n  <tbody>\n    <tr>\n      <th>0</th>\n      <td>0</td>\n      <td>32</td>\n      <td>5.0</td>\n    </tr>\n    <tr>\n      <th>1</th>\n      <td>0</td>\n      <td>10</td>\n      <td>4.0</td>\n    </tr>\n    <tr>\n      <th>2</th>\n      <td>1</td>\n      <td>20</td>\n      <td>5.0</td>\n    </tr>\n    <tr>\n      <th>3</th>\n      <td>1</td>\n      <td>15</td>\n      <td>4.0</td>\n    </tr>\n    <tr>\n      <th>4</th>\n      <td>2</td>\n      <td>34</td>\n      <td>4.0</td>\n    </tr>\n    <tr>\n      <th>...</th>\n      <td>...</td>\n      <td>...</td>\n      <td>...</td>\n    </tr>\n    <tr>\n      <th>300</th>\n      <td>195</td>\n      <td>14</td>\n      <td>4.0</td>\n    </tr>\n    <tr>\n      <th>301</th>\n      <td>196</td>\n      <td>18</td>\n      <td>3.0</td>\n    </tr>\n    <tr>\n      <th>302</th>\n      <td>197</td>\n      <td>5</td>\n      <td>4.0</td>\n    </tr>\n    <tr>\n      <th>303</th>\n      <td>198</td>\n      <td>18</td>\n      <td>4.0</td>\n    </tr>\n    <tr>\n      <th>304</th>\n      <td>199</td>\n      <td>34</td>\n      <td>4.0</td>\n    </tr>\n  </tbody>\n</table>\n<p>305 rows × 3 columns</p>\n</div>"
     },
     "execution_count": 15,
     "metadata": {},
     "output_type": "execute_result"
    }
   ],
   "source": [
    "# Load dataframe for ratings\n",
    "\n",
    "rating_file = open('Data/ratings_200_40.csv')\n",
    "\n",
    "rating_df = pd.read_csv(\n",
    "    filepath_or_buffer = rating_file,\n",
    "    sep = ';',\n",
    "    header = 0\n",
    ")\n",
    "\n",
    "rating_df"
   ],
   "metadata": {
    "collapsed": false,
    "pycharm": {
     "name": "#%%\n"
    }
   }
  },
  {
   "cell_type": "code",
   "execution_count": 16,
   "outputs": [
    {
     "data": {
      "text/plain": "     tourist_id  guide_id  rating\n0             0        32     5.0\n1             0        10     4.0\n2             1        20     5.0\n3             1        15     4.0\n4             2        34     4.0\n..          ...       ...     ...\n300         195        14     4.0\n301         196        18     3.0\n302         197         5     4.0\n303         198        18     4.0\n304         199        34     4.0\n\n[305 rows x 3 columns]",
      "text/html": "<div>\n<style scoped>\n    .dataframe tbody tr th:only-of-type {\n        vertical-align: middle;\n    }\n\n    .dataframe tbody tr th {\n        vertical-align: top;\n    }\n\n    .dataframe thead th {\n        text-align: right;\n    }\n</style>\n<table border=\"1\" class=\"dataframe\">\n  <thead>\n    <tr style=\"text-align: right;\">\n      <th></th>\n      <th>tourist_id</th>\n      <th>guide_id</th>\n      <th>rating</th>\n    </tr>\n  </thead>\n  <tbody>\n    <tr>\n      <th>0</th>\n      <td>0</td>\n      <td>32</td>\n      <td>5.0</td>\n    </tr>\n    <tr>\n      <th>1</th>\n      <td>0</td>\n      <td>10</td>\n      <td>4.0</td>\n    </tr>\n    <tr>\n      <th>2</th>\n      <td>1</td>\n      <td>20</td>\n      <td>5.0</td>\n    </tr>\n    <tr>\n      <th>3</th>\n      <td>1</td>\n      <td>15</td>\n      <td>4.0</td>\n    </tr>\n    <tr>\n      <th>4</th>\n      <td>2</td>\n      <td>34</td>\n      <td>4.0</td>\n    </tr>\n    <tr>\n      <th>...</th>\n      <td>...</td>\n      <td>...</td>\n      <td>...</td>\n    </tr>\n    <tr>\n      <th>300</th>\n      <td>195</td>\n      <td>14</td>\n      <td>4.0</td>\n    </tr>\n    <tr>\n      <th>301</th>\n      <td>196</td>\n      <td>18</td>\n      <td>3.0</td>\n    </tr>\n    <tr>\n      <th>302</th>\n      <td>197</td>\n      <td>5</td>\n      <td>4.0</td>\n    </tr>\n    <tr>\n      <th>303</th>\n      <td>198</td>\n      <td>18</td>\n      <td>4.0</td>\n    </tr>\n    <tr>\n      <th>304</th>\n      <td>199</td>\n      <td>34</td>\n      <td>4.0</td>\n    </tr>\n  </tbody>\n</table>\n<p>305 rows × 3 columns</p>\n</div>"
     },
     "execution_count": 16,
     "metadata": {},
     "output_type": "execute_result"
    }
   ],
   "source": [
    "# Format the rating dataframe\n",
    "rating_df.rename(columns={rating_df.columns[0]: 'tourist_id',\n",
    "                          rating_df.columns[1]: 'guide_id',\n",
    "                          rating_df.columns[2]: 'rating',\n",
    "                         }, inplace=True)\n",
    "\n",
    "# Check if there are duplicated interactions\n",
    "rating_df.drop_duplicates(subset=['tourist_id','guide_id'],inplace=True)\n",
    "\n",
    "rating_df"
   ],
   "metadata": {
    "collapsed": false,
    "pycharm": {
     "name": "#%%\n"
    }
   }
  },
  {
   "cell_type": "markdown",
   "source": [
    "## Print statistics\n",
    "\n",
    "Some statistics of the acquired data are shown."
   ],
   "metadata": {
    "collapsed": false,
    "pycharm": {
     "name": "#%% md\n"
    }
   }
  },
  {
   "cell_type": "code",
   "execution_count": 17,
   "outputs": [
    {
     "name": "stdout",
     "output_type": "stream",
     "text": [
      "Number of tourists: 200\n",
      "Number of guides: 40\n",
      "Number of interactions: 305\n",
      "Average interaction per tourist: 1.52\n",
      "Average interaction per guide: 7.62\n",
      "Sparsity: 96.19 %\n"
     ]
    }
   ],
   "source": [
    "# Statistics about data\n",
    "arr_tourists = tourist_df[\"id\"].unique()\n",
    "arr_guides = guide_df[\"id\"].unique()\n",
    "\n",
    "n_tourists = len(arr_tourists)\n",
    "n_guides = len(arr_guides)\n",
    "n_interactions = len(rating_df)\n",
    "\n",
    "print(\"Number of tourists: {:d}\".format(n_tourists))\n",
    "print(\"Number of guides: {:d}\".format(n_guides))\n",
    "print(\"Number of interactions: {:d}\".format(n_interactions))\n",
    "\n",
    "print(\"Average interaction per tourist: {:.2f}\".format(n_interactions/n_tourists))\n",
    "print(\"Average interaction per guide: {:.2f}\".format(n_interactions/n_guides))\n",
    "print(\"Sparsity: {:.2f} %\".format((1-float(n_interactions)/(n_guides*n_tourists))*100))"
   ],
   "metadata": {
    "collapsed": false,
    "pycharm": {
     "name": "#%%\n"
    }
   }
  },
  {
   "cell_type": "code",
   "execution_count": 18,
   "outputs": [
    {
     "name": "stdout",
     "output_type": "stream",
     "text": [
      "Average rating: 3.990164\n",
      "Maximum rating: 5.000000\n",
      "Minimum rating: 3.000000\n"
     ]
    }
   ],
   "source": [
    "# Statistics about ratings\n",
    "\n",
    "print(\"Average rating: {:.6f}\".format(rating_df.loc[:, 'rating'].mean()))\n",
    "print(\"Maximum rating: {:.6f}\".format(rating_df.loc[:, 'rating'].max()))\n",
    "print(\"Minimum rating: {:.6f}\".format(rating_df.loc[:, 'rating'].min()))"
   ],
   "metadata": {
    "collapsed": false,
    "pycharm": {
     "name": "#%%\n"
    }
   }
  },
  {
   "cell_type": "markdown",
   "source": [
    "## Create the URM\n",
    "\n",
    "The **User Rating Matrix** describes the interactions between tourists and guides, where rows represent tourists and columns represent guides. The values in the cells can be defined by an implicit or explicit approach:\n",
    "- Explicit ratings are given directly by the tourists to the guides, according to a rating scale.\n",
    "- Implicit ratings are obtained according to specific criteria based on tourists' behaviour, without asking for an opinion explicitly. The corresponding value of the interaction is set to 1 if we think that the guide could be interested in the guide, otherwise 0.\n",
    "\n",
    "In our problem, we decide to use **explicit ratings** with a rating scale from 1 to 5."
   ],
   "metadata": {
    "collapsed": false,
    "pycharm": {
     "name": "#%% md\n"
    }
   }
  },
  {
   "cell_type": "code",
   "execution_count": 19,
   "outputs": [
    {
     "data": {
      "text/plain": "<200x40 sparse matrix of type '<class 'numpy.float64'>'\n\twith 305 stored elements in Compressed Sparse Row format>"
     },
     "execution_count": 19,
     "metadata": {},
     "output_type": "execute_result"
    }
   ],
   "source": [
    "# Create the User Rating Matrix\n",
    "URM_all = sps.csr_matrix(\n",
    "    (rating_df[\"rating\"].values,\n",
    "    (rating_df[\"tourist_id\"].values, rating_df[\"guide_id\"].values))\n",
    ")\n",
    "\n",
    "URM_all"
   ],
   "metadata": {
    "collapsed": false,
    "pycharm": {
     "name": "#%%\n"
    }
   }
  },
  {
   "cell_type": "code",
   "execution_count": 20,
   "outputs": [],
   "source": [
    "# Define the portion of data used for training the model: now we are using all the available data\n",
    "URM_train = URM_all"
   ],
   "metadata": {
    "collapsed": false,
    "pycharm": {
     "name": "#%%\n"
    }
   }
  },
  {
   "cell_type": "markdown",
   "source": [
    "## Create the ICM\n",
    "\n",
    "The **Item Content Matrix** describes the list of guides with their attributes, with rows representing tourists and columns representing attributes. Each number in the ICM indicates how much important an attribute is in characterizing a guide.\n",
    "\n",
    "In this case we started from the simplest form: the cell value is equal to 1 if the guide has that specific attribute, and 0 otherwise."
   ],
   "metadata": {
    "collapsed": false,
    "pycharm": {
     "name": "#%% md\n"
    }
   }
  },
  {
   "cell_type": "code",
   "execution_count": 21,
   "outputs": [],
   "source": [
    "# Make a copy of the guide dataframe to build the ICM\n",
    "icm_df = guide_df.copy(deep=True)"
   ],
   "metadata": {
    "collapsed": false,
    "pycharm": {
     "name": "#%%\n"
    }
   }
  },
  {
   "cell_type": "code",
   "execution_count": 22,
   "outputs": [],
   "source": [
    "# Convert birthday information into categorical labels\n",
    "# Classification criterion: if the guide is more than 40 years old or not.\n",
    "\n",
    "def replace_birth_year(x):\n",
    "    if x > 1984:\n",
    "        return '20-40'\n",
    "    else:\n",
    "        return '40+'\n",
    "\n",
    "icm_df['birth_date'] = icm_df['birth_date'].apply(\n",
    "    lambda x: replace_birth_year(pd.to_datetime(x, format=\"%Y-%m-%d\").year)\n",
    ")"
   ],
   "metadata": {
    "collapsed": false,
    "pycharm": {
     "name": "#%%\n"
    }
   }
  },
  {
   "cell_type": "code",
   "execution_count": 23,
   "outputs": [],
   "source": [
    "# Convert number of years of experience into categorical labels\n",
    "# Classification criteria: junior / experienced / senior guide\n",
    "\n",
    "def replace_experience(x):\n",
    "    if x < 5:\n",
    "        return 'junior'\n",
    "    elif x < 10:\n",
    "        return 'experienced'\n",
    "    else:\n",
    "        return 'senior'\n",
    "\n",
    "icm_df['experience'] = icm_df['experience'].apply(replace_experience)"
   ],
   "metadata": {
    "collapsed": false,
    "pycharm": {
     "name": "#%%\n"
    }
   }
  },
  {
   "cell_type": "code",
   "execution_count": 24,
   "outputs": [
    {
     "data": {
      "text/plain": "price    29.175\ndtype: float64"
     },
     "execution_count": 24,
     "metadata": {},
     "output_type": "execute_result"
    }
   ],
   "source": [
    "# Compute the mean value of prices\n",
    "icm_df[['price']].mean(axis=0)"
   ],
   "metadata": {
    "collapsed": false,
    "pycharm": {
     "name": "#%%\n"
    }
   }
  },
  {
   "cell_type": "code",
   "execution_count": 25,
   "outputs": [],
   "source": [
    "# Split the price information into three ranges\n",
    "\n",
    "def replace_price(x):\n",
    "    if x < 25:\n",
    "        return 'low_cost'\n",
    "    elif x < 35:\n",
    "        return 'medium_cost'\n",
    "    else:\n",
    "        return 'high_cost'\n",
    "\n",
    "icm_df['price'] = icm_df['price'].apply(replace_price)"
   ],
   "metadata": {
    "collapsed": false,
    "pycharm": {
     "name": "#%%\n"
    }
   }
  },
  {
   "cell_type": "code",
   "execution_count": 26,
   "outputs": [
    {
     "data": {
      "text/plain": "    id  gender                name birth_date  now_available  \\\n0    0    male     Kevin Rodriguez        40+           True   \n1    1  female        Diana Barnes        40+           True   \n2    2  female      Kristin Rogers        40+           True   \n3    3    male       Jeremy Bowman      20-40           True   \n4    4    male        Justin Lynch        40+           True   \n5    5    male        Charles Dunn      20-40           True   \n6    6    male     Mitchell Duncan      20-40           True   \n7    7    male      Charles Clarke      20-40           True   \n8    8    male        Scott Sawyer      20-40           True   \n9    9    male     Joseph Bradford      20-40           True   \n10  10  female  Elizabeth Castillo      20-40           True   \n11  11  female         Rhonda Hull        40+           True   \n12  12  female    Crystal Mitchell        40+           True   \n13  13  female        Megan Barnes        40+           True   \n14  14    male       Mathew Vaughn        40+           True   \n15  15    male          James Cole        40+           True   \n16  16    male         Steven Sims        40+           True   \n17  17    male        Michael Pham      20-40           True   \n18  18    male      Michael Porter        40+           True   \n19  19  female          April Pham        40+           True   \n20  20  female       Erin Williams        40+           True   \n21  21    male       Robert Zavala      20-40           True   \n22  22  female       Shannon Oneal        40+           True   \n23  23  female        Susan Miller        40+           True   \n24  24  female          Katie Hunt      20-40           True   \n25  25  female    Heather Sullivan        40+           True   \n26  26    male   Dakota Washington      20-40           True   \n27  27  female    Meredith Stanley        40+           True   \n28  28  female     Cynthia Johnson        40+           True   \n29  29  female            Dana Cox      20-40           True   \n30  30  female         Jaime Hicks      20-40           True   \n31  31    male         Kent Horton        40+           True   \n32  32  female       Joyce Johnson        40+           True   \n33  33    male         John Walton        40+           True   \n34  34  female       Ashley Vaughn      20-40           True   \n35  35    male       Ronald Walker        40+           True   \n36  36    male          Cory Curry      20-40           True   \n37  37    male     Matthew Edwards        40+           True   \n38  38  female       Denise Dodson        40+           True   \n39  39  female        Alice Lester        40+           True   \n\n                          languages_spoken        price      education  \\\n0                                [english]  medium_cost    high-school   \n1                         [italian, dutch]    high_cost  middle-school   \n2               [chinese, french, english]  medium_cost            phd   \n3                              [bulgarian]    high_cost       bachelor   \n4                       [deutsche, french]  medium_cost         master   \n5             [deutsche, dutch, bulgarian]  medium_cost  middle-school   \n6               [english, chinese, french]  medium_cost  middle-school   \n7        [spanish, dutch, french, italian]  medium_cost       bachelor   \n8            [bulgarian, english, chinese]  medium_cost  middle-school   \n9     [chinese, bulgarian, dutch, english]    high_cost            phd   \n10                   [bulgarian, deutsche]     low_cost    high-school   \n11                             [bulgarian]     low_cost            phd   \n12                [dutch, french, italian]     low_cost       bachelor   \n13                      [chinese, english]  medium_cost         master   \n14                       [chinese, french]    high_cost  middle-school   \n15                     [deutsche, chinese]  medium_cost  middle-school   \n16            [spanish, bulgarian, french]  medium_cost  middle-school   \n17                                 [dutch]  medium_cost         master   \n18                        [italian, dutch]     low_cost       bachelor   \n19          [bulgarian, deutsche, english]    high_cost  middle-school   \n20                      [deutsche, french]    high_cost         master   \n21                               [chinese]  medium_cost    high-school   \n22                      [chinese, spanish]  medium_cost    high-school   \n23           [english, italian, bulgarian]     low_cost  middle-school   \n24             [dutch, italian, bulgarian]  medium_cost    high-school   \n25                             [bulgarian]  medium_cost            phd   \n26                                 [dutch]  medium_cost            phd   \n27                               [italian]  medium_cost            phd   \n28                               [spanish]  medium_cost  middle-school   \n29                    [bulgarian, chinese]  medium_cost         master   \n30             [french, deutsche, english]  medium_cost       bachelor   \n31             [deutsche, french, english]     low_cost         master   \n32                     [french, bulgarian]  medium_cost            phd   \n33                                [french]  medium_cost  middle-school   \n34  [chinese, spanish, bulgarian, italian]  medium_cost  middle-school   \n35                       [italian, french]  medium_cost         master   \n36                               [spanish]  medium_cost            phd   \n37                                 [dutch]  medium_cost         master   \n38                               [italian]  medium_cost         master   \n39                        [spanish, dutch]  medium_cost  middle-school   \n\n                                       biography  \\\n0                        Engineer, manufacturing   \n1                            Animal technologist   \n2                          Editor, commissioning   \n3                                  Retail banker   \n4                       Secondary school teacher   \n5                                     Oncologist   \n6                             Analytical chemist   \n7                            Associate Professor   \n8                                Theatre manager   \n9                        Therapist, occupational   \n10                         Environmental manager   \n11                  Garment/textile technologist   \n12                 Designer, television/film set   \n13                              Industrial buyer   \n14             Research officer, political party   \n15             Environmental health practitioner   \n16                     Psychologist, counselling   \n17                                   Optometrist   \n18                                Chief of Staff   \n19         Senior tax professional/tax inspector   \n20                               Mining engineer   \n21                              Product designer   \n22                           Information officer   \n23                           Animal nutritionist   \n24  Production designer, theatre/television/film   \n25                                    IT trainer   \n26               Producer, television/film/video   \n27                     Conference centre manager   \n28                              Network engineer   \n29                             Market researcher   \n30                            Restaurant manager   \n31                   Civil Service fast streamer   \n32                                Teacher, music   \n33                   Production assistant, radio   \n34               Sport and exercise psychologist   \n35                      Journalist, broadcasting   \n36                          Brewing technologist   \n37                    Research scientist (maths)   \n38                Equality and diversity officer   \n39                             Minerals surveyor   \n\n                                             keywords  \\\n0                                           [museums]   \n1                    [cinema, rafting, history, wine]   \n2                             [food, archeology, art]   \n3                         [countryside, rafting, art]   \n4                       [countryside, tracking, beer]   \n5                                                  []   \n6                               [rafting, art, sport]   \n7                   [museums, art, countryside, wine]   \n8                         [literature, cinema, music]   \n9                                           [museums]   \n10     [cinema, rafting, sport, museums, countryside]   \n11                            [cinema, beer, rafting]   \n12                               [sport, music, beer]   \n13                          [sport, archeology, beer]   \n14                                          [museums]   \n15                [music, food, tracking, archeology]   \n16                         [countryside, music, beer]   \n17                                 [wine, sport, art]   \n18                                             [food]   \n19                                                 []   \n20                           [rafting, museums, food]   \n21                                           [cinema]   \n22  [history, countryside, cinema, literature, music]   \n23                                         [tracking]   \n24                                                 []   \n25                                       [literature]   \n26                          [tracking, beer, museums]   \n27                                [countryside, beer]   \n28     [food, rafting, museums, music, art, tracking]   \n29                 [archeology, literature, tracking]   \n30                                            [music]   \n31                         [music, countryside, food]   \n32                                [archeology, music]   \n33             [beer, music, countryside, archeology]   \n34                                                 []   \n35                                            [music]   \n36                                                 []   \n37                                                 []   \n38                                                 []   \n39                                          [history]   \n\n                                     current_location   experience  \n0   {'lat': 40.342693584880706, 'lon': 18.16438078...       senior  \n1   {'lat': 40.3367551413547, 'lon': 18.1569120995...       senior  \n2   {'lat': 40.362447049660204, 'lon': 18.14225129...       senior  \n3   {'lat': 40.36584086550253, 'lon': 18.183002910...  experienced  \n4   {'lat': 40.354724889812935, 'lon': 18.20308322...       senior  \n5   {'lat': 40.35854623058413, 'lon': 18.183459879...       junior  \n6   {'lat': 40.35774331848761, 'lon': 18.163273185...       senior  \n7   {'lat': 40.365193043282794, 'lon': 18.18548169...       senior  \n8   {'lat': 40.35265552781134, 'lon': 18.151723396...       junior  \n9   {'lat': 40.33774657696426, 'lon': 18.182064664...       junior  \n10  {'lat': 40.36612881009787, 'lon': 18.182042843...  experienced  \n11  {'lat': 40.367394960036485, 'lon': 18.17553586...       senior  \n12  {'lat': 40.34268462008425, 'lon': 18.187542175...       senior  \n13  {'lat': 40.35377358678542, 'lon': 18.174728239...       senior  \n14  {'lat': 40.353069674191346, 'lon': 18.17755576...       senior  \n15  {'lat': 40.35272705494921, 'lon': 18.165705019...       senior  \n16  {'lat': 40.32347428820915, 'lon': 18.164571467...       junior  \n17  {'lat': 40.36624424923941, 'lon': 18.174443383...       junior  \n18  {'lat': 40.362871505646005, 'lon': 18.18292777...       senior  \n19  {'lat': 40.339915788807765, 'lon': 18.18379781...  experienced  \n20  {'lat': 40.357612936236265, 'lon': 18.16907898...       senior  \n21  {'lat': 40.342846292499104, 'lon': 18.16089760...  experienced  \n22  {'lat': 40.36846436096489, 'lon': 18.171263566...  experienced  \n23  {'lat': 40.364408581391295, 'lon': 18.16428124...       senior  \n24  {'lat': 40.32998981194129, 'lon': 18.175342312...       senior  \n25  {'lat': 40.36710284805045, 'lon': 18.179956956...       senior  \n26  {'lat': 40.37981446263931, 'lon': 18.178854600...       junior  \n27  {'lat': 40.3457074414046, 'lon': 18.1747654675...       senior  \n28  {'lat': 40.35079556972286, 'lon': 18.181927024...       senior  \n29  {'lat': 40.35465462623879, 'lon': 18.172666005...       senior  \n30  {'lat': 40.361047668976795, 'lon': 18.18633484...       senior  \n31  {'lat': 40.339171732936364, 'lon': 18.16792590...  experienced  \n32  {'lat': 40.343414579847, 'lon': 18.18565562805...       senior  \n33  {'lat': 40.34424559835338, 'lon': 18.174907197...  experienced  \n34  {'lat': 40.38198340911851, 'lon': 18.173378831...       senior  \n35  {'lat': 40.36699713437984, 'lon': 18.165786470...       junior  \n36  {'lat': 40.358649720289904, 'lon': 18.16378056...  experienced  \n37  {'lat': 40.3604075695112, 'lon': 18.1615738690...       senior  \n38  {'lat': 40.36497247240833, 'lon': 18.173581152...       junior  \n39  {'lat': 40.35901486939172, 'lon': 18.166553513...       junior  ",
      "text/html": "<div>\n<style scoped>\n    .dataframe tbody tr th:only-of-type {\n        vertical-align: middle;\n    }\n\n    .dataframe tbody tr th {\n        vertical-align: top;\n    }\n\n    .dataframe thead th {\n        text-align: right;\n    }\n</style>\n<table border=\"1\" class=\"dataframe\">\n  <thead>\n    <tr style=\"text-align: right;\">\n      <th></th>\n      <th>id</th>\n      <th>gender</th>\n      <th>name</th>\n      <th>birth_date</th>\n      <th>now_available</th>\n      <th>languages_spoken</th>\n      <th>price</th>\n      <th>education</th>\n      <th>biography</th>\n      <th>keywords</th>\n      <th>current_location</th>\n      <th>experience</th>\n    </tr>\n  </thead>\n  <tbody>\n    <tr>\n      <th>0</th>\n      <td>0</td>\n      <td>male</td>\n      <td>Kevin Rodriguez</td>\n      <td>40+</td>\n      <td>True</td>\n      <td>[english]</td>\n      <td>medium_cost</td>\n      <td>high-school</td>\n      <td>Engineer, manufacturing</td>\n      <td>[museums]</td>\n      <td>{'lat': 40.342693584880706, 'lon': 18.16438078...</td>\n      <td>senior</td>\n    </tr>\n    <tr>\n      <th>1</th>\n      <td>1</td>\n      <td>female</td>\n      <td>Diana Barnes</td>\n      <td>40+</td>\n      <td>True</td>\n      <td>[italian, dutch]</td>\n      <td>high_cost</td>\n      <td>middle-school</td>\n      <td>Animal technologist</td>\n      <td>[cinema, rafting, history, wine]</td>\n      <td>{'lat': 40.3367551413547, 'lon': 18.1569120995...</td>\n      <td>senior</td>\n    </tr>\n    <tr>\n      <th>2</th>\n      <td>2</td>\n      <td>female</td>\n      <td>Kristin Rogers</td>\n      <td>40+</td>\n      <td>True</td>\n      <td>[chinese, french, english]</td>\n      <td>medium_cost</td>\n      <td>phd</td>\n      <td>Editor, commissioning</td>\n      <td>[food, archeology, art]</td>\n      <td>{'lat': 40.362447049660204, 'lon': 18.14225129...</td>\n      <td>senior</td>\n    </tr>\n    <tr>\n      <th>3</th>\n      <td>3</td>\n      <td>male</td>\n      <td>Jeremy Bowman</td>\n      <td>20-40</td>\n      <td>True</td>\n      <td>[bulgarian]</td>\n      <td>high_cost</td>\n      <td>bachelor</td>\n      <td>Retail banker</td>\n      <td>[countryside, rafting, art]</td>\n      <td>{'lat': 40.36584086550253, 'lon': 18.183002910...</td>\n      <td>experienced</td>\n    </tr>\n    <tr>\n      <th>4</th>\n      <td>4</td>\n      <td>male</td>\n      <td>Justin Lynch</td>\n      <td>40+</td>\n      <td>True</td>\n      <td>[deutsche, french]</td>\n      <td>medium_cost</td>\n      <td>master</td>\n      <td>Secondary school teacher</td>\n      <td>[countryside, tracking, beer]</td>\n      <td>{'lat': 40.354724889812935, 'lon': 18.20308322...</td>\n      <td>senior</td>\n    </tr>\n    <tr>\n      <th>5</th>\n      <td>5</td>\n      <td>male</td>\n      <td>Charles Dunn</td>\n      <td>20-40</td>\n      <td>True</td>\n      <td>[deutsche, dutch, bulgarian]</td>\n      <td>medium_cost</td>\n      <td>middle-school</td>\n      <td>Oncologist</td>\n      <td>[]</td>\n      <td>{'lat': 40.35854623058413, 'lon': 18.183459879...</td>\n      <td>junior</td>\n    </tr>\n    <tr>\n      <th>6</th>\n      <td>6</td>\n      <td>male</td>\n      <td>Mitchell Duncan</td>\n      <td>20-40</td>\n      <td>True</td>\n      <td>[english, chinese, french]</td>\n      <td>medium_cost</td>\n      <td>middle-school</td>\n      <td>Analytical chemist</td>\n      <td>[rafting, art, sport]</td>\n      <td>{'lat': 40.35774331848761, 'lon': 18.163273185...</td>\n      <td>senior</td>\n    </tr>\n    <tr>\n      <th>7</th>\n      <td>7</td>\n      <td>male</td>\n      <td>Charles Clarke</td>\n      <td>20-40</td>\n      <td>True</td>\n      <td>[spanish, dutch, french, italian]</td>\n      <td>medium_cost</td>\n      <td>bachelor</td>\n      <td>Associate Professor</td>\n      <td>[museums, art, countryside, wine]</td>\n      <td>{'lat': 40.365193043282794, 'lon': 18.18548169...</td>\n      <td>senior</td>\n    </tr>\n    <tr>\n      <th>8</th>\n      <td>8</td>\n      <td>male</td>\n      <td>Scott Sawyer</td>\n      <td>20-40</td>\n      <td>True</td>\n      <td>[bulgarian, english, chinese]</td>\n      <td>medium_cost</td>\n      <td>middle-school</td>\n      <td>Theatre manager</td>\n      <td>[literature, cinema, music]</td>\n      <td>{'lat': 40.35265552781134, 'lon': 18.151723396...</td>\n      <td>junior</td>\n    </tr>\n    <tr>\n      <th>9</th>\n      <td>9</td>\n      <td>male</td>\n      <td>Joseph Bradford</td>\n      <td>20-40</td>\n      <td>True</td>\n      <td>[chinese, bulgarian, dutch, english]</td>\n      <td>high_cost</td>\n      <td>phd</td>\n      <td>Therapist, occupational</td>\n      <td>[museums]</td>\n      <td>{'lat': 40.33774657696426, 'lon': 18.182064664...</td>\n      <td>junior</td>\n    </tr>\n    <tr>\n      <th>10</th>\n      <td>10</td>\n      <td>female</td>\n      <td>Elizabeth Castillo</td>\n      <td>20-40</td>\n      <td>True</td>\n      <td>[bulgarian, deutsche]</td>\n      <td>low_cost</td>\n      <td>high-school</td>\n      <td>Environmental manager</td>\n      <td>[cinema, rafting, sport, museums, countryside]</td>\n      <td>{'lat': 40.36612881009787, 'lon': 18.182042843...</td>\n      <td>experienced</td>\n    </tr>\n    <tr>\n      <th>11</th>\n      <td>11</td>\n      <td>female</td>\n      <td>Rhonda Hull</td>\n      <td>40+</td>\n      <td>True</td>\n      <td>[bulgarian]</td>\n      <td>low_cost</td>\n      <td>phd</td>\n      <td>Garment/textile technologist</td>\n      <td>[cinema, beer, rafting]</td>\n      <td>{'lat': 40.367394960036485, 'lon': 18.17553586...</td>\n      <td>senior</td>\n    </tr>\n    <tr>\n      <th>12</th>\n      <td>12</td>\n      <td>female</td>\n      <td>Crystal Mitchell</td>\n      <td>40+</td>\n      <td>True</td>\n      <td>[dutch, french, italian]</td>\n      <td>low_cost</td>\n      <td>bachelor</td>\n      <td>Designer, television/film set</td>\n      <td>[sport, music, beer]</td>\n      <td>{'lat': 40.34268462008425, 'lon': 18.187542175...</td>\n      <td>senior</td>\n    </tr>\n    <tr>\n      <th>13</th>\n      <td>13</td>\n      <td>female</td>\n      <td>Megan Barnes</td>\n      <td>40+</td>\n      <td>True</td>\n      <td>[chinese, english]</td>\n      <td>medium_cost</td>\n      <td>master</td>\n      <td>Industrial buyer</td>\n      <td>[sport, archeology, beer]</td>\n      <td>{'lat': 40.35377358678542, 'lon': 18.174728239...</td>\n      <td>senior</td>\n    </tr>\n    <tr>\n      <th>14</th>\n      <td>14</td>\n      <td>male</td>\n      <td>Mathew Vaughn</td>\n      <td>40+</td>\n      <td>True</td>\n      <td>[chinese, french]</td>\n      <td>high_cost</td>\n      <td>middle-school</td>\n      <td>Research officer, political party</td>\n      <td>[museums]</td>\n      <td>{'lat': 40.353069674191346, 'lon': 18.17755576...</td>\n      <td>senior</td>\n    </tr>\n    <tr>\n      <th>15</th>\n      <td>15</td>\n      <td>male</td>\n      <td>James Cole</td>\n      <td>40+</td>\n      <td>True</td>\n      <td>[deutsche, chinese]</td>\n      <td>medium_cost</td>\n      <td>middle-school</td>\n      <td>Environmental health practitioner</td>\n      <td>[music, food, tracking, archeology]</td>\n      <td>{'lat': 40.35272705494921, 'lon': 18.165705019...</td>\n      <td>senior</td>\n    </tr>\n    <tr>\n      <th>16</th>\n      <td>16</td>\n      <td>male</td>\n      <td>Steven Sims</td>\n      <td>40+</td>\n      <td>True</td>\n      <td>[spanish, bulgarian, french]</td>\n      <td>medium_cost</td>\n      <td>middle-school</td>\n      <td>Psychologist, counselling</td>\n      <td>[countryside, music, beer]</td>\n      <td>{'lat': 40.32347428820915, 'lon': 18.164571467...</td>\n      <td>junior</td>\n    </tr>\n    <tr>\n      <th>17</th>\n      <td>17</td>\n      <td>male</td>\n      <td>Michael Pham</td>\n      <td>20-40</td>\n      <td>True</td>\n      <td>[dutch]</td>\n      <td>medium_cost</td>\n      <td>master</td>\n      <td>Optometrist</td>\n      <td>[wine, sport, art]</td>\n      <td>{'lat': 40.36624424923941, 'lon': 18.174443383...</td>\n      <td>junior</td>\n    </tr>\n    <tr>\n      <th>18</th>\n      <td>18</td>\n      <td>male</td>\n      <td>Michael Porter</td>\n      <td>40+</td>\n      <td>True</td>\n      <td>[italian, dutch]</td>\n      <td>low_cost</td>\n      <td>bachelor</td>\n      <td>Chief of Staff</td>\n      <td>[food]</td>\n      <td>{'lat': 40.362871505646005, 'lon': 18.18292777...</td>\n      <td>senior</td>\n    </tr>\n    <tr>\n      <th>19</th>\n      <td>19</td>\n      <td>female</td>\n      <td>April Pham</td>\n      <td>40+</td>\n      <td>True</td>\n      <td>[bulgarian, deutsche, english]</td>\n      <td>high_cost</td>\n      <td>middle-school</td>\n      <td>Senior tax professional/tax inspector</td>\n      <td>[]</td>\n      <td>{'lat': 40.339915788807765, 'lon': 18.18379781...</td>\n      <td>experienced</td>\n    </tr>\n    <tr>\n      <th>20</th>\n      <td>20</td>\n      <td>female</td>\n      <td>Erin Williams</td>\n      <td>40+</td>\n      <td>True</td>\n      <td>[deutsche, french]</td>\n      <td>high_cost</td>\n      <td>master</td>\n      <td>Mining engineer</td>\n      <td>[rafting, museums, food]</td>\n      <td>{'lat': 40.357612936236265, 'lon': 18.16907898...</td>\n      <td>senior</td>\n    </tr>\n    <tr>\n      <th>21</th>\n      <td>21</td>\n      <td>male</td>\n      <td>Robert Zavala</td>\n      <td>20-40</td>\n      <td>True</td>\n      <td>[chinese]</td>\n      <td>medium_cost</td>\n      <td>high-school</td>\n      <td>Product designer</td>\n      <td>[cinema]</td>\n      <td>{'lat': 40.342846292499104, 'lon': 18.16089760...</td>\n      <td>experienced</td>\n    </tr>\n    <tr>\n      <th>22</th>\n      <td>22</td>\n      <td>female</td>\n      <td>Shannon Oneal</td>\n      <td>40+</td>\n      <td>True</td>\n      <td>[chinese, spanish]</td>\n      <td>medium_cost</td>\n      <td>high-school</td>\n      <td>Information officer</td>\n      <td>[history, countryside, cinema, literature, music]</td>\n      <td>{'lat': 40.36846436096489, 'lon': 18.171263566...</td>\n      <td>experienced</td>\n    </tr>\n    <tr>\n      <th>23</th>\n      <td>23</td>\n      <td>female</td>\n      <td>Susan Miller</td>\n      <td>40+</td>\n      <td>True</td>\n      <td>[english, italian, bulgarian]</td>\n      <td>low_cost</td>\n      <td>middle-school</td>\n      <td>Animal nutritionist</td>\n      <td>[tracking]</td>\n      <td>{'lat': 40.364408581391295, 'lon': 18.16428124...</td>\n      <td>senior</td>\n    </tr>\n    <tr>\n      <th>24</th>\n      <td>24</td>\n      <td>female</td>\n      <td>Katie Hunt</td>\n      <td>20-40</td>\n      <td>True</td>\n      <td>[dutch, italian, bulgarian]</td>\n      <td>medium_cost</td>\n      <td>high-school</td>\n      <td>Production designer, theatre/television/film</td>\n      <td>[]</td>\n      <td>{'lat': 40.32998981194129, 'lon': 18.175342312...</td>\n      <td>senior</td>\n    </tr>\n    <tr>\n      <th>25</th>\n      <td>25</td>\n      <td>female</td>\n      <td>Heather Sullivan</td>\n      <td>40+</td>\n      <td>True</td>\n      <td>[bulgarian]</td>\n      <td>medium_cost</td>\n      <td>phd</td>\n      <td>IT trainer</td>\n      <td>[literature]</td>\n      <td>{'lat': 40.36710284805045, 'lon': 18.179956956...</td>\n      <td>senior</td>\n    </tr>\n    <tr>\n      <th>26</th>\n      <td>26</td>\n      <td>male</td>\n      <td>Dakota Washington</td>\n      <td>20-40</td>\n      <td>True</td>\n      <td>[dutch]</td>\n      <td>medium_cost</td>\n      <td>phd</td>\n      <td>Producer, television/film/video</td>\n      <td>[tracking, beer, museums]</td>\n      <td>{'lat': 40.37981446263931, 'lon': 18.178854600...</td>\n      <td>junior</td>\n    </tr>\n    <tr>\n      <th>27</th>\n      <td>27</td>\n      <td>female</td>\n      <td>Meredith Stanley</td>\n      <td>40+</td>\n      <td>True</td>\n      <td>[italian]</td>\n      <td>medium_cost</td>\n      <td>phd</td>\n      <td>Conference centre manager</td>\n      <td>[countryside, beer]</td>\n      <td>{'lat': 40.3457074414046, 'lon': 18.1747654675...</td>\n      <td>senior</td>\n    </tr>\n    <tr>\n      <th>28</th>\n      <td>28</td>\n      <td>female</td>\n      <td>Cynthia Johnson</td>\n      <td>40+</td>\n      <td>True</td>\n      <td>[spanish]</td>\n      <td>medium_cost</td>\n      <td>middle-school</td>\n      <td>Network engineer</td>\n      <td>[food, rafting, museums, music, art, tracking]</td>\n      <td>{'lat': 40.35079556972286, 'lon': 18.181927024...</td>\n      <td>senior</td>\n    </tr>\n    <tr>\n      <th>29</th>\n      <td>29</td>\n      <td>female</td>\n      <td>Dana Cox</td>\n      <td>20-40</td>\n      <td>True</td>\n      <td>[bulgarian, chinese]</td>\n      <td>medium_cost</td>\n      <td>master</td>\n      <td>Market researcher</td>\n      <td>[archeology, literature, tracking]</td>\n      <td>{'lat': 40.35465462623879, 'lon': 18.172666005...</td>\n      <td>senior</td>\n    </tr>\n    <tr>\n      <th>30</th>\n      <td>30</td>\n      <td>female</td>\n      <td>Jaime Hicks</td>\n      <td>20-40</td>\n      <td>True</td>\n      <td>[french, deutsche, english]</td>\n      <td>medium_cost</td>\n      <td>bachelor</td>\n      <td>Restaurant manager</td>\n      <td>[music]</td>\n      <td>{'lat': 40.361047668976795, 'lon': 18.18633484...</td>\n      <td>senior</td>\n    </tr>\n    <tr>\n      <th>31</th>\n      <td>31</td>\n      <td>male</td>\n      <td>Kent Horton</td>\n      <td>40+</td>\n      <td>True</td>\n      <td>[deutsche, french, english]</td>\n      <td>low_cost</td>\n      <td>master</td>\n      <td>Civil Service fast streamer</td>\n      <td>[music, countryside, food]</td>\n      <td>{'lat': 40.339171732936364, 'lon': 18.16792590...</td>\n      <td>experienced</td>\n    </tr>\n    <tr>\n      <th>32</th>\n      <td>32</td>\n      <td>female</td>\n      <td>Joyce Johnson</td>\n      <td>40+</td>\n      <td>True</td>\n      <td>[french, bulgarian]</td>\n      <td>medium_cost</td>\n      <td>phd</td>\n      <td>Teacher, music</td>\n      <td>[archeology, music]</td>\n      <td>{'lat': 40.343414579847, 'lon': 18.18565562805...</td>\n      <td>senior</td>\n    </tr>\n    <tr>\n      <th>33</th>\n      <td>33</td>\n      <td>male</td>\n      <td>John Walton</td>\n      <td>40+</td>\n      <td>True</td>\n      <td>[french]</td>\n      <td>medium_cost</td>\n      <td>middle-school</td>\n      <td>Production assistant, radio</td>\n      <td>[beer, music, countryside, archeology]</td>\n      <td>{'lat': 40.34424559835338, 'lon': 18.174907197...</td>\n      <td>experienced</td>\n    </tr>\n    <tr>\n      <th>34</th>\n      <td>34</td>\n      <td>female</td>\n      <td>Ashley Vaughn</td>\n      <td>20-40</td>\n      <td>True</td>\n      <td>[chinese, spanish, bulgarian, italian]</td>\n      <td>medium_cost</td>\n      <td>middle-school</td>\n      <td>Sport and exercise psychologist</td>\n      <td>[]</td>\n      <td>{'lat': 40.38198340911851, 'lon': 18.173378831...</td>\n      <td>senior</td>\n    </tr>\n    <tr>\n      <th>35</th>\n      <td>35</td>\n      <td>male</td>\n      <td>Ronald Walker</td>\n      <td>40+</td>\n      <td>True</td>\n      <td>[italian, french]</td>\n      <td>medium_cost</td>\n      <td>master</td>\n      <td>Journalist, broadcasting</td>\n      <td>[music]</td>\n      <td>{'lat': 40.36699713437984, 'lon': 18.165786470...</td>\n      <td>junior</td>\n    </tr>\n    <tr>\n      <th>36</th>\n      <td>36</td>\n      <td>male</td>\n      <td>Cory Curry</td>\n      <td>20-40</td>\n      <td>True</td>\n      <td>[spanish]</td>\n      <td>medium_cost</td>\n      <td>phd</td>\n      <td>Brewing technologist</td>\n      <td>[]</td>\n      <td>{'lat': 40.358649720289904, 'lon': 18.16378056...</td>\n      <td>experienced</td>\n    </tr>\n    <tr>\n      <th>37</th>\n      <td>37</td>\n      <td>male</td>\n      <td>Matthew Edwards</td>\n      <td>40+</td>\n      <td>True</td>\n      <td>[dutch]</td>\n      <td>medium_cost</td>\n      <td>master</td>\n      <td>Research scientist (maths)</td>\n      <td>[]</td>\n      <td>{'lat': 40.3604075695112, 'lon': 18.1615738690...</td>\n      <td>senior</td>\n    </tr>\n    <tr>\n      <th>38</th>\n      <td>38</td>\n      <td>female</td>\n      <td>Denise Dodson</td>\n      <td>40+</td>\n      <td>True</td>\n      <td>[italian]</td>\n      <td>medium_cost</td>\n      <td>master</td>\n      <td>Equality and diversity officer</td>\n      <td>[]</td>\n      <td>{'lat': 40.36497247240833, 'lon': 18.173581152...</td>\n      <td>junior</td>\n    </tr>\n    <tr>\n      <th>39</th>\n      <td>39</td>\n      <td>female</td>\n      <td>Alice Lester</td>\n      <td>40+</td>\n      <td>True</td>\n      <td>[spanish, dutch]</td>\n      <td>medium_cost</td>\n      <td>middle-school</td>\n      <td>Minerals surveyor</td>\n      <td>[history]</td>\n      <td>{'lat': 40.35901486939172, 'lon': 18.166553513...</td>\n      <td>junior</td>\n    </tr>\n  </tbody>\n</table>\n</div>"
     },
     "execution_count": 26,
     "metadata": {},
     "output_type": "execute_result"
    }
   ],
   "source": [
    "icm_df"
   ],
   "metadata": {
    "collapsed": false,
    "pycharm": {
     "name": "#%%\n"
    }
   }
  },
  {
   "cell_type": "code",
   "execution_count": 27,
   "outputs": [],
   "source": [
    "# Remove the columns that we would not consider as attributes\n",
    "icm_df.drop(labels=['name', 'now_available', 'current_location'], axis=1, inplace=True)"
   ],
   "metadata": {
    "collapsed": false,
    "pycharm": {
     "name": "#%%\n"
    }
   }
  },
  {
   "cell_type": "code",
   "execution_count": 28,
   "outputs": [],
   "source": [
    "# Split the categorical attributes into separate columns\n",
    "multiclass_attributes = ['gender', 'price', 'experience', 'birth_date', 'education', 'biography', 'languages_spoken', 'keywords']\n",
    "\n",
    "for n in multiclass_attributes:\n",
    "    s = icm_df[n].explode()\n",
    "    icm_df = icm_df.join(pd.crosstab(s.index, s).astype(object)).fillna(0)\n",
    "    icm_df.drop(labels=n,axis=1,inplace=True)"
   ],
   "metadata": {
    "collapsed": false,
    "pycharm": {
     "name": "#%%\n"
    }
   }
  },
  {
   "cell_type": "code",
   "execution_count": 29,
   "outputs": [
    {
     "data": {
      "text/plain": "    id  female  male  high_cost  low_cost  medium_cost  experienced  junior  \\\n0    0       0     1          0         0            1            0       0   \n1    1       1     0          1         0            0            0       0   \n2    2       1     0          0         0            1            0       0   \n3    3       0     1          1         0            0            1       0   \n4    4       0     1          0         0            1            0       0   \n5    5       0     1          0         0            1            0       1   \n6    6       0     1          0         0            1            0       0   \n7    7       0     1          0         0            1            0       0   \n8    8       0     1          0         0            1            0       1   \n9    9       0     1          1         0            0            0       1   \n10  10       1     0          0         1            0            1       0   \n11  11       1     0          0         1            0            0       0   \n12  12       1     0          0         1            0            0       0   \n13  13       1     0          0         0            1            0       0   \n14  14       0     1          1         0            0            0       0   \n15  15       0     1          0         0            1            0       0   \n16  16       0     1          0         0            1            0       1   \n17  17       0     1          0         0            1            0       1   \n18  18       0     1          0         1            0            0       0   \n19  19       1     0          1         0            0            1       0   \n20  20       1     0          1         0            0            0       0   \n21  21       0     1          0         0            1            1       0   \n22  22       1     0          0         0            1            1       0   \n23  23       1     0          0         1            0            0       0   \n24  24       1     0          0         0            1            0       0   \n25  25       1     0          0         0            1            0       0   \n26  26       0     1          0         0            1            0       1   \n27  27       1     0          0         0            1            0       0   \n28  28       1     0          0         0            1            0       0   \n29  29       1     0          0         0            1            0       0   \n30  30       1     0          0         0            1            0       0   \n31  31       0     1          0         1            0            1       0   \n32  32       1     0          0         0            1            0       0   \n33  33       0     1          0         0            1            1       0   \n34  34       1     0          0         0            1            0       0   \n35  35       0     1          0         0            1            0       1   \n36  36       0     1          0         0            1            1       0   \n37  37       0     1          0         0            1            0       0   \n38  38       1     0          0         0            1            0       1   \n39  39       1     0          0         0            1            0       1   \n\n    senior  20-40  ...  countryside  food  history  literature  museums  \\\n0        1      0  ...            0     0        0           0        1   \n1        1      0  ...            0     0        1           0        0   \n2        1      0  ...            0     1        0           0        0   \n3        0      1  ...            1     0        0           0        0   \n4        1      0  ...            1     0        0           0        0   \n5        0      1  ...            0     0        0           0        0   \n6        1      1  ...            0     0        0           0        0   \n7        1      1  ...            1     0        0           0        1   \n8        0      1  ...            0     0        0           1        0   \n9        0      1  ...            0     0        0           0        1   \n10       0      1  ...            1     0        0           0        1   \n11       1      0  ...            0     0        0           0        0   \n12       1      0  ...            0     0        0           0        0   \n13       1      0  ...            0     0        0           0        0   \n14       1      0  ...            0     0        0           0        1   \n15       1      0  ...            0     1        0           0        0   \n16       0      0  ...            1     0        0           0        0   \n17       0      1  ...            0     0        0           0        0   \n18       1      0  ...            0     1        0           0        0   \n19       0      0  ...            0     0        0           0        0   \n20       1      0  ...            0     1        0           0        1   \n21       0      1  ...            0     0        0           0        0   \n22       0      0  ...            1     0        1           1        0   \n23       1      0  ...            0     0        0           0        0   \n24       1      1  ...            0     0        0           0        0   \n25       1      0  ...            0     0        0           1        0   \n26       0      1  ...            0     0        0           0        1   \n27       1      0  ...            1     0        0           0        0   \n28       1      0  ...            0     1        0           0        1   \n29       1      1  ...            0     0        0           1        0   \n30       1      1  ...            0     0        0           0        0   \n31       0      0  ...            1     1        0           0        0   \n32       1      0  ...            0     0        0           0        0   \n33       0      0  ...            1     0        0           0        0   \n34       1      1  ...            0     0        0           0        0   \n35       0      0  ...            0     0        0           0        0   \n36       0      1  ...            0     0        0           0        0   \n37       1      0  ...            0     0        0           0        0   \n38       0      0  ...            0     0        0           0        0   \n39       0      0  ...            0     0        1           0        0   \n\n    music  rafting  sport  tracking  wine  \n0       0        0      0         0     0  \n1       0        1      0         0     1  \n2       0        0      0         0     0  \n3       0        1      0         0     0  \n4       0        0      0         1     0  \n5       0        0      0         0     0  \n6       0        1      1         0     0  \n7       0        0      0         0     1  \n8       1        0      0         0     0  \n9       0        0      0         0     0  \n10      0        1      1         0     0  \n11      0        1      0         0     0  \n12      1        0      1         0     0  \n13      0        0      1         0     0  \n14      0        0      0         0     0  \n15      1        0      0         1     0  \n16      1        0      0         0     0  \n17      0        0      1         0     1  \n18      0        0      0         0     0  \n19      0        0      0         0     0  \n20      0        1      0         0     0  \n21      0        0      0         0     0  \n22      1        0      0         0     0  \n23      0        0      0         1     0  \n24      0        0      0         0     0  \n25      0        0      0         0     0  \n26      0        0      0         1     0  \n27      0        0      0         0     0  \n28      1        1      0         1     0  \n29      0        0      0         1     0  \n30      1        0      0         0     0  \n31      1        0      0         0     0  \n32      1        0      0         0     0  \n33      1        0      0         0     0  \n34      0        0      0         0     0  \n35      1        0      0         0     0  \n36      0        0      0         0     0  \n37      0        0      0         0     0  \n38      0        0      0         0     0  \n39      0        0      0         0     0  \n\n[40 rows x 78 columns]",
      "text/html": "<div>\n<style scoped>\n    .dataframe tbody tr th:only-of-type {\n        vertical-align: middle;\n    }\n\n    .dataframe tbody tr th {\n        vertical-align: top;\n    }\n\n    .dataframe thead th {\n        text-align: right;\n    }\n</style>\n<table border=\"1\" class=\"dataframe\">\n  <thead>\n    <tr style=\"text-align: right;\">\n      <th></th>\n      <th>id</th>\n      <th>female</th>\n      <th>male</th>\n      <th>high_cost</th>\n      <th>low_cost</th>\n      <th>medium_cost</th>\n      <th>experienced</th>\n      <th>junior</th>\n      <th>senior</th>\n      <th>20-40</th>\n      <th>...</th>\n      <th>countryside</th>\n      <th>food</th>\n      <th>history</th>\n      <th>literature</th>\n      <th>museums</th>\n      <th>music</th>\n      <th>rafting</th>\n      <th>sport</th>\n      <th>tracking</th>\n      <th>wine</th>\n    </tr>\n  </thead>\n  <tbody>\n    <tr>\n      <th>0</th>\n      <td>0</td>\n      <td>0</td>\n      <td>1</td>\n      <td>0</td>\n      <td>0</td>\n      <td>1</td>\n      <td>0</td>\n      <td>0</td>\n      <td>1</td>\n      <td>0</td>\n      <td>...</td>\n      <td>0</td>\n      <td>0</td>\n      <td>0</td>\n      <td>0</td>\n      <td>1</td>\n      <td>0</td>\n      <td>0</td>\n      <td>0</td>\n      <td>0</td>\n      <td>0</td>\n    </tr>\n    <tr>\n      <th>1</th>\n      <td>1</td>\n      <td>1</td>\n      <td>0</td>\n      <td>1</td>\n      <td>0</td>\n      <td>0</td>\n      <td>0</td>\n      <td>0</td>\n      <td>1</td>\n      <td>0</td>\n      <td>...</td>\n      <td>0</td>\n      <td>0</td>\n      <td>1</td>\n      <td>0</td>\n      <td>0</td>\n      <td>0</td>\n      <td>1</td>\n      <td>0</td>\n      <td>0</td>\n      <td>1</td>\n    </tr>\n    <tr>\n      <th>2</th>\n      <td>2</td>\n      <td>1</td>\n      <td>0</td>\n      <td>0</td>\n      <td>0</td>\n      <td>1</td>\n      <td>0</td>\n      <td>0</td>\n      <td>1</td>\n      <td>0</td>\n      <td>...</td>\n      <td>0</td>\n      <td>1</td>\n      <td>0</td>\n      <td>0</td>\n      <td>0</td>\n      <td>0</td>\n      <td>0</td>\n      <td>0</td>\n      <td>0</td>\n      <td>0</td>\n    </tr>\n    <tr>\n      <th>3</th>\n      <td>3</td>\n      <td>0</td>\n      <td>1</td>\n      <td>1</td>\n      <td>0</td>\n      <td>0</td>\n      <td>1</td>\n      <td>0</td>\n      <td>0</td>\n      <td>1</td>\n      <td>...</td>\n      <td>1</td>\n      <td>0</td>\n      <td>0</td>\n      <td>0</td>\n      <td>0</td>\n      <td>0</td>\n      <td>1</td>\n      <td>0</td>\n      <td>0</td>\n      <td>0</td>\n    </tr>\n    <tr>\n      <th>4</th>\n      <td>4</td>\n      <td>0</td>\n      <td>1</td>\n      <td>0</td>\n      <td>0</td>\n      <td>1</td>\n      <td>0</td>\n      <td>0</td>\n      <td>1</td>\n      <td>0</td>\n      <td>...</td>\n      <td>1</td>\n      <td>0</td>\n      <td>0</td>\n      <td>0</td>\n      <td>0</td>\n      <td>0</td>\n      <td>0</td>\n      <td>0</td>\n      <td>1</td>\n      <td>0</td>\n    </tr>\n    <tr>\n      <th>5</th>\n      <td>5</td>\n      <td>0</td>\n      <td>1</td>\n      <td>0</td>\n      <td>0</td>\n      <td>1</td>\n      <td>0</td>\n      <td>1</td>\n      <td>0</td>\n      <td>1</td>\n      <td>...</td>\n      <td>0</td>\n      <td>0</td>\n      <td>0</td>\n      <td>0</td>\n      <td>0</td>\n      <td>0</td>\n      <td>0</td>\n      <td>0</td>\n      <td>0</td>\n      <td>0</td>\n    </tr>\n    <tr>\n      <th>6</th>\n      <td>6</td>\n      <td>0</td>\n      <td>1</td>\n      <td>0</td>\n      <td>0</td>\n      <td>1</td>\n      <td>0</td>\n      <td>0</td>\n      <td>1</td>\n      <td>1</td>\n      <td>...</td>\n      <td>0</td>\n      <td>0</td>\n      <td>0</td>\n      <td>0</td>\n      <td>0</td>\n      <td>0</td>\n      <td>1</td>\n      <td>1</td>\n      <td>0</td>\n      <td>0</td>\n    </tr>\n    <tr>\n      <th>7</th>\n      <td>7</td>\n      <td>0</td>\n      <td>1</td>\n      <td>0</td>\n      <td>0</td>\n      <td>1</td>\n      <td>0</td>\n      <td>0</td>\n      <td>1</td>\n      <td>1</td>\n      <td>...</td>\n      <td>1</td>\n      <td>0</td>\n      <td>0</td>\n      <td>0</td>\n      <td>1</td>\n      <td>0</td>\n      <td>0</td>\n      <td>0</td>\n      <td>0</td>\n      <td>1</td>\n    </tr>\n    <tr>\n      <th>8</th>\n      <td>8</td>\n      <td>0</td>\n      <td>1</td>\n      <td>0</td>\n      <td>0</td>\n      <td>1</td>\n      <td>0</td>\n      <td>1</td>\n      <td>0</td>\n      <td>1</td>\n      <td>...</td>\n      <td>0</td>\n      <td>0</td>\n      <td>0</td>\n      <td>1</td>\n      <td>0</td>\n      <td>1</td>\n      <td>0</td>\n      <td>0</td>\n      <td>0</td>\n      <td>0</td>\n    </tr>\n    <tr>\n      <th>9</th>\n      <td>9</td>\n      <td>0</td>\n      <td>1</td>\n      <td>1</td>\n      <td>0</td>\n      <td>0</td>\n      <td>0</td>\n      <td>1</td>\n      <td>0</td>\n      <td>1</td>\n      <td>...</td>\n      <td>0</td>\n      <td>0</td>\n      <td>0</td>\n      <td>0</td>\n      <td>1</td>\n      <td>0</td>\n      <td>0</td>\n      <td>0</td>\n      <td>0</td>\n      <td>0</td>\n    </tr>\n    <tr>\n      <th>10</th>\n      <td>10</td>\n      <td>1</td>\n      <td>0</td>\n      <td>0</td>\n      <td>1</td>\n      <td>0</td>\n      <td>1</td>\n      <td>0</td>\n      <td>0</td>\n      <td>1</td>\n      <td>...</td>\n      <td>1</td>\n      <td>0</td>\n      <td>0</td>\n      <td>0</td>\n      <td>1</td>\n      <td>0</td>\n      <td>1</td>\n      <td>1</td>\n      <td>0</td>\n      <td>0</td>\n    </tr>\n    <tr>\n      <th>11</th>\n      <td>11</td>\n      <td>1</td>\n      <td>0</td>\n      <td>0</td>\n      <td>1</td>\n      <td>0</td>\n      <td>0</td>\n      <td>0</td>\n      <td>1</td>\n      <td>0</td>\n      <td>...</td>\n      <td>0</td>\n      <td>0</td>\n      <td>0</td>\n      <td>0</td>\n      <td>0</td>\n      <td>0</td>\n      <td>1</td>\n      <td>0</td>\n      <td>0</td>\n      <td>0</td>\n    </tr>\n    <tr>\n      <th>12</th>\n      <td>12</td>\n      <td>1</td>\n      <td>0</td>\n      <td>0</td>\n      <td>1</td>\n      <td>0</td>\n      <td>0</td>\n      <td>0</td>\n      <td>1</td>\n      <td>0</td>\n      <td>...</td>\n      <td>0</td>\n      <td>0</td>\n      <td>0</td>\n      <td>0</td>\n      <td>0</td>\n      <td>1</td>\n      <td>0</td>\n      <td>1</td>\n      <td>0</td>\n      <td>0</td>\n    </tr>\n    <tr>\n      <th>13</th>\n      <td>13</td>\n      <td>1</td>\n      <td>0</td>\n      <td>0</td>\n      <td>0</td>\n      <td>1</td>\n      <td>0</td>\n      <td>0</td>\n      <td>1</td>\n      <td>0</td>\n      <td>...</td>\n      <td>0</td>\n      <td>0</td>\n      <td>0</td>\n      <td>0</td>\n      <td>0</td>\n      <td>0</td>\n      <td>0</td>\n      <td>1</td>\n      <td>0</td>\n      <td>0</td>\n    </tr>\n    <tr>\n      <th>14</th>\n      <td>14</td>\n      <td>0</td>\n      <td>1</td>\n      <td>1</td>\n      <td>0</td>\n      <td>0</td>\n      <td>0</td>\n      <td>0</td>\n      <td>1</td>\n      <td>0</td>\n      <td>...</td>\n      <td>0</td>\n      <td>0</td>\n      <td>0</td>\n      <td>0</td>\n      <td>1</td>\n      <td>0</td>\n      <td>0</td>\n      <td>0</td>\n      <td>0</td>\n      <td>0</td>\n    </tr>\n    <tr>\n      <th>15</th>\n      <td>15</td>\n      <td>0</td>\n      <td>1</td>\n      <td>0</td>\n      <td>0</td>\n      <td>1</td>\n      <td>0</td>\n      <td>0</td>\n      <td>1</td>\n      <td>0</td>\n      <td>...</td>\n      <td>0</td>\n      <td>1</td>\n      <td>0</td>\n      <td>0</td>\n      <td>0</td>\n      <td>1</td>\n      <td>0</td>\n      <td>0</td>\n      <td>1</td>\n      <td>0</td>\n    </tr>\n    <tr>\n      <th>16</th>\n      <td>16</td>\n      <td>0</td>\n      <td>1</td>\n      <td>0</td>\n      <td>0</td>\n      <td>1</td>\n      <td>0</td>\n      <td>1</td>\n      <td>0</td>\n      <td>0</td>\n      <td>...</td>\n      <td>1</td>\n      <td>0</td>\n      <td>0</td>\n      <td>0</td>\n      <td>0</td>\n      <td>1</td>\n      <td>0</td>\n      <td>0</td>\n      <td>0</td>\n      <td>0</td>\n    </tr>\n    <tr>\n      <th>17</th>\n      <td>17</td>\n      <td>0</td>\n      <td>1</td>\n      <td>0</td>\n      <td>0</td>\n      <td>1</td>\n      <td>0</td>\n      <td>1</td>\n      <td>0</td>\n      <td>1</td>\n      <td>...</td>\n      <td>0</td>\n      <td>0</td>\n      <td>0</td>\n      <td>0</td>\n      <td>0</td>\n      <td>0</td>\n      <td>0</td>\n      <td>1</td>\n      <td>0</td>\n      <td>1</td>\n    </tr>\n    <tr>\n      <th>18</th>\n      <td>18</td>\n      <td>0</td>\n      <td>1</td>\n      <td>0</td>\n      <td>1</td>\n      <td>0</td>\n      <td>0</td>\n      <td>0</td>\n      <td>1</td>\n      <td>0</td>\n      <td>...</td>\n      <td>0</td>\n      <td>1</td>\n      <td>0</td>\n      <td>0</td>\n      <td>0</td>\n      <td>0</td>\n      <td>0</td>\n      <td>0</td>\n      <td>0</td>\n      <td>0</td>\n    </tr>\n    <tr>\n      <th>19</th>\n      <td>19</td>\n      <td>1</td>\n      <td>0</td>\n      <td>1</td>\n      <td>0</td>\n      <td>0</td>\n      <td>1</td>\n      <td>0</td>\n      <td>0</td>\n      <td>0</td>\n      <td>...</td>\n      <td>0</td>\n      <td>0</td>\n      <td>0</td>\n      <td>0</td>\n      <td>0</td>\n      <td>0</td>\n      <td>0</td>\n      <td>0</td>\n      <td>0</td>\n      <td>0</td>\n    </tr>\n    <tr>\n      <th>20</th>\n      <td>20</td>\n      <td>1</td>\n      <td>0</td>\n      <td>1</td>\n      <td>0</td>\n      <td>0</td>\n      <td>0</td>\n      <td>0</td>\n      <td>1</td>\n      <td>0</td>\n      <td>...</td>\n      <td>0</td>\n      <td>1</td>\n      <td>0</td>\n      <td>0</td>\n      <td>1</td>\n      <td>0</td>\n      <td>1</td>\n      <td>0</td>\n      <td>0</td>\n      <td>0</td>\n    </tr>\n    <tr>\n      <th>21</th>\n      <td>21</td>\n      <td>0</td>\n      <td>1</td>\n      <td>0</td>\n      <td>0</td>\n      <td>1</td>\n      <td>1</td>\n      <td>0</td>\n      <td>0</td>\n      <td>1</td>\n      <td>...</td>\n      <td>0</td>\n      <td>0</td>\n      <td>0</td>\n      <td>0</td>\n      <td>0</td>\n      <td>0</td>\n      <td>0</td>\n      <td>0</td>\n      <td>0</td>\n      <td>0</td>\n    </tr>\n    <tr>\n      <th>22</th>\n      <td>22</td>\n      <td>1</td>\n      <td>0</td>\n      <td>0</td>\n      <td>0</td>\n      <td>1</td>\n      <td>1</td>\n      <td>0</td>\n      <td>0</td>\n      <td>0</td>\n      <td>...</td>\n      <td>1</td>\n      <td>0</td>\n      <td>1</td>\n      <td>1</td>\n      <td>0</td>\n      <td>1</td>\n      <td>0</td>\n      <td>0</td>\n      <td>0</td>\n      <td>0</td>\n    </tr>\n    <tr>\n      <th>23</th>\n      <td>23</td>\n      <td>1</td>\n      <td>0</td>\n      <td>0</td>\n      <td>1</td>\n      <td>0</td>\n      <td>0</td>\n      <td>0</td>\n      <td>1</td>\n      <td>0</td>\n      <td>...</td>\n      <td>0</td>\n      <td>0</td>\n      <td>0</td>\n      <td>0</td>\n      <td>0</td>\n      <td>0</td>\n      <td>0</td>\n      <td>0</td>\n      <td>1</td>\n      <td>0</td>\n    </tr>\n    <tr>\n      <th>24</th>\n      <td>24</td>\n      <td>1</td>\n      <td>0</td>\n      <td>0</td>\n      <td>0</td>\n      <td>1</td>\n      <td>0</td>\n      <td>0</td>\n      <td>1</td>\n      <td>1</td>\n      <td>...</td>\n      <td>0</td>\n      <td>0</td>\n      <td>0</td>\n      <td>0</td>\n      <td>0</td>\n      <td>0</td>\n      <td>0</td>\n      <td>0</td>\n      <td>0</td>\n      <td>0</td>\n    </tr>\n    <tr>\n      <th>25</th>\n      <td>25</td>\n      <td>1</td>\n      <td>0</td>\n      <td>0</td>\n      <td>0</td>\n      <td>1</td>\n      <td>0</td>\n      <td>0</td>\n      <td>1</td>\n      <td>0</td>\n      <td>...</td>\n      <td>0</td>\n      <td>0</td>\n      <td>0</td>\n      <td>1</td>\n      <td>0</td>\n      <td>0</td>\n      <td>0</td>\n      <td>0</td>\n      <td>0</td>\n      <td>0</td>\n    </tr>\n    <tr>\n      <th>26</th>\n      <td>26</td>\n      <td>0</td>\n      <td>1</td>\n      <td>0</td>\n      <td>0</td>\n      <td>1</td>\n      <td>0</td>\n      <td>1</td>\n      <td>0</td>\n      <td>1</td>\n      <td>...</td>\n      <td>0</td>\n      <td>0</td>\n      <td>0</td>\n      <td>0</td>\n      <td>1</td>\n      <td>0</td>\n      <td>0</td>\n      <td>0</td>\n      <td>1</td>\n      <td>0</td>\n    </tr>\n    <tr>\n      <th>27</th>\n      <td>27</td>\n      <td>1</td>\n      <td>0</td>\n      <td>0</td>\n      <td>0</td>\n      <td>1</td>\n      <td>0</td>\n      <td>0</td>\n      <td>1</td>\n      <td>0</td>\n      <td>...</td>\n      <td>1</td>\n      <td>0</td>\n      <td>0</td>\n      <td>0</td>\n      <td>0</td>\n      <td>0</td>\n      <td>0</td>\n      <td>0</td>\n      <td>0</td>\n      <td>0</td>\n    </tr>\n    <tr>\n      <th>28</th>\n      <td>28</td>\n      <td>1</td>\n      <td>0</td>\n      <td>0</td>\n      <td>0</td>\n      <td>1</td>\n      <td>0</td>\n      <td>0</td>\n      <td>1</td>\n      <td>0</td>\n      <td>...</td>\n      <td>0</td>\n      <td>1</td>\n      <td>0</td>\n      <td>0</td>\n      <td>1</td>\n      <td>1</td>\n      <td>1</td>\n      <td>0</td>\n      <td>1</td>\n      <td>0</td>\n    </tr>\n    <tr>\n      <th>29</th>\n      <td>29</td>\n      <td>1</td>\n      <td>0</td>\n      <td>0</td>\n      <td>0</td>\n      <td>1</td>\n      <td>0</td>\n      <td>0</td>\n      <td>1</td>\n      <td>1</td>\n      <td>...</td>\n      <td>0</td>\n      <td>0</td>\n      <td>0</td>\n      <td>1</td>\n      <td>0</td>\n      <td>0</td>\n      <td>0</td>\n      <td>0</td>\n      <td>1</td>\n      <td>0</td>\n    </tr>\n    <tr>\n      <th>30</th>\n      <td>30</td>\n      <td>1</td>\n      <td>0</td>\n      <td>0</td>\n      <td>0</td>\n      <td>1</td>\n      <td>0</td>\n      <td>0</td>\n      <td>1</td>\n      <td>1</td>\n      <td>...</td>\n      <td>0</td>\n      <td>0</td>\n      <td>0</td>\n      <td>0</td>\n      <td>0</td>\n      <td>1</td>\n      <td>0</td>\n      <td>0</td>\n      <td>0</td>\n      <td>0</td>\n    </tr>\n    <tr>\n      <th>31</th>\n      <td>31</td>\n      <td>0</td>\n      <td>1</td>\n      <td>0</td>\n      <td>1</td>\n      <td>0</td>\n      <td>1</td>\n      <td>0</td>\n      <td>0</td>\n      <td>0</td>\n      <td>...</td>\n      <td>1</td>\n      <td>1</td>\n      <td>0</td>\n      <td>0</td>\n      <td>0</td>\n      <td>1</td>\n      <td>0</td>\n      <td>0</td>\n      <td>0</td>\n      <td>0</td>\n    </tr>\n    <tr>\n      <th>32</th>\n      <td>32</td>\n      <td>1</td>\n      <td>0</td>\n      <td>0</td>\n      <td>0</td>\n      <td>1</td>\n      <td>0</td>\n      <td>0</td>\n      <td>1</td>\n      <td>0</td>\n      <td>...</td>\n      <td>0</td>\n      <td>0</td>\n      <td>0</td>\n      <td>0</td>\n      <td>0</td>\n      <td>1</td>\n      <td>0</td>\n      <td>0</td>\n      <td>0</td>\n      <td>0</td>\n    </tr>\n    <tr>\n      <th>33</th>\n      <td>33</td>\n      <td>0</td>\n      <td>1</td>\n      <td>0</td>\n      <td>0</td>\n      <td>1</td>\n      <td>1</td>\n      <td>0</td>\n      <td>0</td>\n      <td>0</td>\n      <td>...</td>\n      <td>1</td>\n      <td>0</td>\n      <td>0</td>\n      <td>0</td>\n      <td>0</td>\n      <td>1</td>\n      <td>0</td>\n      <td>0</td>\n      <td>0</td>\n      <td>0</td>\n    </tr>\n    <tr>\n      <th>34</th>\n      <td>34</td>\n      <td>1</td>\n      <td>0</td>\n      <td>0</td>\n      <td>0</td>\n      <td>1</td>\n      <td>0</td>\n      <td>0</td>\n      <td>1</td>\n      <td>1</td>\n      <td>...</td>\n      <td>0</td>\n      <td>0</td>\n      <td>0</td>\n      <td>0</td>\n      <td>0</td>\n      <td>0</td>\n      <td>0</td>\n      <td>0</td>\n      <td>0</td>\n      <td>0</td>\n    </tr>\n    <tr>\n      <th>35</th>\n      <td>35</td>\n      <td>0</td>\n      <td>1</td>\n      <td>0</td>\n      <td>0</td>\n      <td>1</td>\n      <td>0</td>\n      <td>1</td>\n      <td>0</td>\n      <td>0</td>\n      <td>...</td>\n      <td>0</td>\n      <td>0</td>\n      <td>0</td>\n      <td>0</td>\n      <td>0</td>\n      <td>1</td>\n      <td>0</td>\n      <td>0</td>\n      <td>0</td>\n      <td>0</td>\n    </tr>\n    <tr>\n      <th>36</th>\n      <td>36</td>\n      <td>0</td>\n      <td>1</td>\n      <td>0</td>\n      <td>0</td>\n      <td>1</td>\n      <td>1</td>\n      <td>0</td>\n      <td>0</td>\n      <td>1</td>\n      <td>...</td>\n      <td>0</td>\n      <td>0</td>\n      <td>0</td>\n      <td>0</td>\n      <td>0</td>\n      <td>0</td>\n      <td>0</td>\n      <td>0</td>\n      <td>0</td>\n      <td>0</td>\n    </tr>\n    <tr>\n      <th>37</th>\n      <td>37</td>\n      <td>0</td>\n      <td>1</td>\n      <td>0</td>\n      <td>0</td>\n      <td>1</td>\n      <td>0</td>\n      <td>0</td>\n      <td>1</td>\n      <td>0</td>\n      <td>...</td>\n      <td>0</td>\n      <td>0</td>\n      <td>0</td>\n      <td>0</td>\n      <td>0</td>\n      <td>0</td>\n      <td>0</td>\n      <td>0</td>\n      <td>0</td>\n      <td>0</td>\n    </tr>\n    <tr>\n      <th>38</th>\n      <td>38</td>\n      <td>1</td>\n      <td>0</td>\n      <td>0</td>\n      <td>0</td>\n      <td>1</td>\n      <td>0</td>\n      <td>1</td>\n      <td>0</td>\n      <td>0</td>\n      <td>...</td>\n      <td>0</td>\n      <td>0</td>\n      <td>0</td>\n      <td>0</td>\n      <td>0</td>\n      <td>0</td>\n      <td>0</td>\n      <td>0</td>\n      <td>0</td>\n      <td>0</td>\n    </tr>\n    <tr>\n      <th>39</th>\n      <td>39</td>\n      <td>1</td>\n      <td>0</td>\n      <td>0</td>\n      <td>0</td>\n      <td>1</td>\n      <td>0</td>\n      <td>1</td>\n      <td>0</td>\n      <td>0</td>\n      <td>...</td>\n      <td>0</td>\n      <td>0</td>\n      <td>1</td>\n      <td>0</td>\n      <td>0</td>\n      <td>0</td>\n      <td>0</td>\n      <td>0</td>\n      <td>0</td>\n      <td>0</td>\n    </tr>\n  </tbody>\n</table>\n<p>40 rows × 78 columns</p>\n</div>"
     },
     "execution_count": 29,
     "metadata": {},
     "output_type": "execute_result"
    }
   ],
   "source": [
    "icm_df"
   ],
   "metadata": {
    "collapsed": false,
    "pycharm": {
     "name": "#%%\n"
    }
   }
  },
  {
   "cell_type": "code",
   "execution_count": 30,
   "outputs": [
    {
     "data": {
      "text/plain": "['id',\n 'female',\n 'male',\n 'high_cost',\n 'low_cost',\n 'medium_cost',\n 'experienced',\n 'junior',\n 'senior',\n '20-40',\n '40+',\n 'bachelor',\n 'high-school',\n 'master',\n 'middle-school',\n 'phd',\n 'Analytical chemist',\n 'Animal nutritionist',\n 'Animal technologist',\n 'Associate Professor',\n 'Brewing technologist',\n 'Chief of Staff',\n 'Civil Service fast streamer',\n 'Conference centre manager',\n 'Designer, television/film set',\n 'Editor, commissioning',\n 'Engineer, manufacturing',\n 'Environmental health practitioner',\n 'Environmental manager',\n 'Equality and diversity officer',\n 'Garment/textile technologist',\n 'IT trainer',\n 'Industrial buyer',\n 'Information officer',\n 'Journalist, broadcasting',\n 'Market researcher',\n 'Minerals surveyor',\n 'Mining engineer',\n 'Network engineer',\n 'Oncologist',\n 'Optometrist',\n 'Producer, television/film/video',\n 'Product designer',\n 'Production assistant, radio',\n 'Production designer, theatre/television/film',\n 'Psychologist, counselling',\n 'Research officer, political party',\n 'Research scientist (maths)',\n 'Restaurant manager',\n 'Retail banker',\n 'Secondary school teacher',\n 'Senior tax professional/tax inspector',\n 'Sport and exercise psychologist',\n 'Teacher, music',\n 'Theatre manager',\n 'Therapist, occupational',\n 'bulgarian',\n 'chinese',\n 'deutsche',\n 'dutch',\n 'english',\n 'french',\n 'italian',\n 'spanish',\n 'archeology',\n 'art',\n 'beer',\n 'cinema',\n 'countryside',\n 'food',\n 'history',\n 'literature',\n 'museums',\n 'music',\n 'rafting',\n 'sport',\n 'tracking',\n 'wine']"
     },
     "execution_count": 30,
     "metadata": {},
     "output_type": "execute_result"
    }
   ],
   "source": [
    "# Print the list of attributes\n",
    "attribute_list = icm_df.columns.tolist()\n",
    "attribute_list"
   ],
   "metadata": {
    "collapsed": false,
    "pycharm": {
     "name": "#%%\n"
    }
   }
  },
  {
   "cell_type": "code",
   "execution_count": 31,
   "outputs": [
    {
     "data": {
      "text/plain": "    id  1  2  3  4  5  6  7  8  9  ...  68  69  70  71  72  73  74  75  76  77\n0    0  0  1  0  0  1  0  0  1  0  ...   0   0   0   0   1   0   0   0   0   0\n1    1  1  0  1  0  0  0  0  1  0  ...   0   0   1   0   0   0   1   0   0   1\n2    2  1  0  0  0  1  0  0  1  0  ...   0   1   0   0   0   0   0   0   0   0\n3    3  0  1  1  0  0  1  0  0  1  ...   1   0   0   0   0   0   1   0   0   0\n4    4  0  1  0  0  1  0  0  1  0  ...   1   0   0   0   0   0   0   0   1   0\n5    5  0  1  0  0  1  0  1  0  1  ...   0   0   0   0   0   0   0   0   0   0\n6    6  0  1  0  0  1  0  0  1  1  ...   0   0   0   0   0   0   1   1   0   0\n7    7  0  1  0  0  1  0  0  1  1  ...   1   0   0   0   1   0   0   0   0   1\n8    8  0  1  0  0  1  0  1  0  1  ...   0   0   0   1   0   1   0   0   0   0\n9    9  0  1  1  0  0  0  1  0  1  ...   0   0   0   0   1   0   0   0   0   0\n10  10  1  0  0  1  0  1  0  0  1  ...   1   0   0   0   1   0   1   1   0   0\n11  11  1  0  0  1  0  0  0  1  0  ...   0   0   0   0   0   0   1   0   0   0\n12  12  1  0  0  1  0  0  0  1  0  ...   0   0   0   0   0   1   0   1   0   0\n13  13  1  0  0  0  1  0  0  1  0  ...   0   0   0   0   0   0   0   1   0   0\n14  14  0  1  1  0  0  0  0  1  0  ...   0   0   0   0   1   0   0   0   0   0\n15  15  0  1  0  0  1  0  0  1  0  ...   0   1   0   0   0   1   0   0   1   0\n16  16  0  1  0  0  1  0  1  0  0  ...   1   0   0   0   0   1   0   0   0   0\n17  17  0  1  0  0  1  0  1  0  1  ...   0   0   0   0   0   0   0   1   0   1\n18  18  0  1  0  1  0  0  0  1  0  ...   0   1   0   0   0   0   0   0   0   0\n19  19  1  0  1  0  0  1  0  0  0  ...   0   0   0   0   0   0   0   0   0   0\n20  20  1  0  1  0  0  0  0  1  0  ...   0   1   0   0   1   0   1   0   0   0\n21  21  0  1  0  0  1  1  0  0  1  ...   0   0   0   0   0   0   0   0   0   0\n22  22  1  0  0  0  1  1  0  0  0  ...   1   0   1   1   0   1   0   0   0   0\n23  23  1  0  0  1  0  0  0  1  0  ...   0   0   0   0   0   0   0   0   1   0\n24  24  1  0  0  0  1  0  0  1  1  ...   0   0   0   0   0   0   0   0   0   0\n25  25  1  0  0  0  1  0  0  1  0  ...   0   0   0   1   0   0   0   0   0   0\n26  26  0  1  0  0  1  0  1  0  1  ...   0   0   0   0   1   0   0   0   1   0\n27  27  1  0  0  0  1  0  0  1  0  ...   1   0   0   0   0   0   0   0   0   0\n28  28  1  0  0  0  1  0  0  1  0  ...   0   1   0   0   1   1   1   0   1   0\n29  29  1  0  0  0  1  0  0  1  1  ...   0   0   0   1   0   0   0   0   1   0\n30  30  1  0  0  0  1  0  0  1  1  ...   0   0   0   0   0   1   0   0   0   0\n31  31  0  1  0  1  0  1  0  0  0  ...   1   1   0   0   0   1   0   0   0   0\n32  32  1  0  0  0  1  0  0  1  0  ...   0   0   0   0   0   1   0   0   0   0\n33  33  0  1  0  0  1  1  0  0  0  ...   1   0   0   0   0   1   0   0   0   0\n34  34  1  0  0  0  1  0  0  1  1  ...   0   0   0   0   0   0   0   0   0   0\n35  35  0  1  0  0  1  0  1  0  0  ...   0   0   0   0   0   1   0   0   0   0\n36  36  0  1  0  0  1  1  0  0  1  ...   0   0   0   0   0   0   0   0   0   0\n37  37  0  1  0  0  1  0  0  1  0  ...   0   0   0   0   0   0   0   0   0   0\n38  38  1  0  0  0  1  0  1  0  0  ...   0   0   0   0   0   0   0   0   0   0\n39  39  1  0  0  0  1  0  1  0  0  ...   0   0   1   0   0   0   0   0   0   0\n\n[40 rows x 78 columns]",
      "text/html": "<div>\n<style scoped>\n    .dataframe tbody tr th:only-of-type {\n        vertical-align: middle;\n    }\n\n    .dataframe tbody tr th {\n        vertical-align: top;\n    }\n\n    .dataframe thead th {\n        text-align: right;\n    }\n</style>\n<table border=\"1\" class=\"dataframe\">\n  <thead>\n    <tr style=\"text-align: right;\">\n      <th></th>\n      <th>id</th>\n      <th>1</th>\n      <th>2</th>\n      <th>3</th>\n      <th>4</th>\n      <th>5</th>\n      <th>6</th>\n      <th>7</th>\n      <th>8</th>\n      <th>9</th>\n      <th>...</th>\n      <th>68</th>\n      <th>69</th>\n      <th>70</th>\n      <th>71</th>\n      <th>72</th>\n      <th>73</th>\n      <th>74</th>\n      <th>75</th>\n      <th>76</th>\n      <th>77</th>\n    </tr>\n  </thead>\n  <tbody>\n    <tr>\n      <th>0</th>\n      <td>0</td>\n      <td>0</td>\n      <td>1</td>\n      <td>0</td>\n      <td>0</td>\n      <td>1</td>\n      <td>0</td>\n      <td>0</td>\n      <td>1</td>\n      <td>0</td>\n      <td>...</td>\n      <td>0</td>\n      <td>0</td>\n      <td>0</td>\n      <td>0</td>\n      <td>1</td>\n      <td>0</td>\n      <td>0</td>\n      <td>0</td>\n      <td>0</td>\n      <td>0</td>\n    </tr>\n    <tr>\n      <th>1</th>\n      <td>1</td>\n      <td>1</td>\n      <td>0</td>\n      <td>1</td>\n      <td>0</td>\n      <td>0</td>\n      <td>0</td>\n      <td>0</td>\n      <td>1</td>\n      <td>0</td>\n      <td>...</td>\n      <td>0</td>\n      <td>0</td>\n      <td>1</td>\n      <td>0</td>\n      <td>0</td>\n      <td>0</td>\n      <td>1</td>\n      <td>0</td>\n      <td>0</td>\n      <td>1</td>\n    </tr>\n    <tr>\n      <th>2</th>\n      <td>2</td>\n      <td>1</td>\n      <td>0</td>\n      <td>0</td>\n      <td>0</td>\n      <td>1</td>\n      <td>0</td>\n      <td>0</td>\n      <td>1</td>\n      <td>0</td>\n      <td>...</td>\n      <td>0</td>\n      <td>1</td>\n      <td>0</td>\n      <td>0</td>\n      <td>0</td>\n      <td>0</td>\n      <td>0</td>\n      <td>0</td>\n      <td>0</td>\n      <td>0</td>\n    </tr>\n    <tr>\n      <th>3</th>\n      <td>3</td>\n      <td>0</td>\n      <td>1</td>\n      <td>1</td>\n      <td>0</td>\n      <td>0</td>\n      <td>1</td>\n      <td>0</td>\n      <td>0</td>\n      <td>1</td>\n      <td>...</td>\n      <td>1</td>\n      <td>0</td>\n      <td>0</td>\n      <td>0</td>\n      <td>0</td>\n      <td>0</td>\n      <td>1</td>\n      <td>0</td>\n      <td>0</td>\n      <td>0</td>\n    </tr>\n    <tr>\n      <th>4</th>\n      <td>4</td>\n      <td>0</td>\n      <td>1</td>\n      <td>0</td>\n      <td>0</td>\n      <td>1</td>\n      <td>0</td>\n      <td>0</td>\n      <td>1</td>\n      <td>0</td>\n      <td>...</td>\n      <td>1</td>\n      <td>0</td>\n      <td>0</td>\n      <td>0</td>\n      <td>0</td>\n      <td>0</td>\n      <td>0</td>\n      <td>0</td>\n      <td>1</td>\n      <td>0</td>\n    </tr>\n    <tr>\n      <th>5</th>\n      <td>5</td>\n      <td>0</td>\n      <td>1</td>\n      <td>0</td>\n      <td>0</td>\n      <td>1</td>\n      <td>0</td>\n      <td>1</td>\n      <td>0</td>\n      <td>1</td>\n      <td>...</td>\n      <td>0</td>\n      <td>0</td>\n      <td>0</td>\n      <td>0</td>\n      <td>0</td>\n      <td>0</td>\n      <td>0</td>\n      <td>0</td>\n      <td>0</td>\n      <td>0</td>\n    </tr>\n    <tr>\n      <th>6</th>\n      <td>6</td>\n      <td>0</td>\n      <td>1</td>\n      <td>0</td>\n      <td>0</td>\n      <td>1</td>\n      <td>0</td>\n      <td>0</td>\n      <td>1</td>\n      <td>1</td>\n      <td>...</td>\n      <td>0</td>\n      <td>0</td>\n      <td>0</td>\n      <td>0</td>\n      <td>0</td>\n      <td>0</td>\n      <td>1</td>\n      <td>1</td>\n      <td>0</td>\n      <td>0</td>\n    </tr>\n    <tr>\n      <th>7</th>\n      <td>7</td>\n      <td>0</td>\n      <td>1</td>\n      <td>0</td>\n      <td>0</td>\n      <td>1</td>\n      <td>0</td>\n      <td>0</td>\n      <td>1</td>\n      <td>1</td>\n      <td>...</td>\n      <td>1</td>\n      <td>0</td>\n      <td>0</td>\n      <td>0</td>\n      <td>1</td>\n      <td>0</td>\n      <td>0</td>\n      <td>0</td>\n      <td>0</td>\n      <td>1</td>\n    </tr>\n    <tr>\n      <th>8</th>\n      <td>8</td>\n      <td>0</td>\n      <td>1</td>\n      <td>0</td>\n      <td>0</td>\n      <td>1</td>\n      <td>0</td>\n      <td>1</td>\n      <td>0</td>\n      <td>1</td>\n      <td>...</td>\n      <td>0</td>\n      <td>0</td>\n      <td>0</td>\n      <td>1</td>\n      <td>0</td>\n      <td>1</td>\n      <td>0</td>\n      <td>0</td>\n      <td>0</td>\n      <td>0</td>\n    </tr>\n    <tr>\n      <th>9</th>\n      <td>9</td>\n      <td>0</td>\n      <td>1</td>\n      <td>1</td>\n      <td>0</td>\n      <td>0</td>\n      <td>0</td>\n      <td>1</td>\n      <td>0</td>\n      <td>1</td>\n      <td>...</td>\n      <td>0</td>\n      <td>0</td>\n      <td>0</td>\n      <td>0</td>\n      <td>1</td>\n      <td>0</td>\n      <td>0</td>\n      <td>0</td>\n      <td>0</td>\n      <td>0</td>\n    </tr>\n    <tr>\n      <th>10</th>\n      <td>10</td>\n      <td>1</td>\n      <td>0</td>\n      <td>0</td>\n      <td>1</td>\n      <td>0</td>\n      <td>1</td>\n      <td>0</td>\n      <td>0</td>\n      <td>1</td>\n      <td>...</td>\n      <td>1</td>\n      <td>0</td>\n      <td>0</td>\n      <td>0</td>\n      <td>1</td>\n      <td>0</td>\n      <td>1</td>\n      <td>1</td>\n      <td>0</td>\n      <td>0</td>\n    </tr>\n    <tr>\n      <th>11</th>\n      <td>11</td>\n      <td>1</td>\n      <td>0</td>\n      <td>0</td>\n      <td>1</td>\n      <td>0</td>\n      <td>0</td>\n      <td>0</td>\n      <td>1</td>\n      <td>0</td>\n      <td>...</td>\n      <td>0</td>\n      <td>0</td>\n      <td>0</td>\n      <td>0</td>\n      <td>0</td>\n      <td>0</td>\n      <td>1</td>\n      <td>0</td>\n      <td>0</td>\n      <td>0</td>\n    </tr>\n    <tr>\n      <th>12</th>\n      <td>12</td>\n      <td>1</td>\n      <td>0</td>\n      <td>0</td>\n      <td>1</td>\n      <td>0</td>\n      <td>0</td>\n      <td>0</td>\n      <td>1</td>\n      <td>0</td>\n      <td>...</td>\n      <td>0</td>\n      <td>0</td>\n      <td>0</td>\n      <td>0</td>\n      <td>0</td>\n      <td>1</td>\n      <td>0</td>\n      <td>1</td>\n      <td>0</td>\n      <td>0</td>\n    </tr>\n    <tr>\n      <th>13</th>\n      <td>13</td>\n      <td>1</td>\n      <td>0</td>\n      <td>0</td>\n      <td>0</td>\n      <td>1</td>\n      <td>0</td>\n      <td>0</td>\n      <td>1</td>\n      <td>0</td>\n      <td>...</td>\n      <td>0</td>\n      <td>0</td>\n      <td>0</td>\n      <td>0</td>\n      <td>0</td>\n      <td>0</td>\n      <td>0</td>\n      <td>1</td>\n      <td>0</td>\n      <td>0</td>\n    </tr>\n    <tr>\n      <th>14</th>\n      <td>14</td>\n      <td>0</td>\n      <td>1</td>\n      <td>1</td>\n      <td>0</td>\n      <td>0</td>\n      <td>0</td>\n      <td>0</td>\n      <td>1</td>\n      <td>0</td>\n      <td>...</td>\n      <td>0</td>\n      <td>0</td>\n      <td>0</td>\n      <td>0</td>\n      <td>1</td>\n      <td>0</td>\n      <td>0</td>\n      <td>0</td>\n      <td>0</td>\n      <td>0</td>\n    </tr>\n    <tr>\n      <th>15</th>\n      <td>15</td>\n      <td>0</td>\n      <td>1</td>\n      <td>0</td>\n      <td>0</td>\n      <td>1</td>\n      <td>0</td>\n      <td>0</td>\n      <td>1</td>\n      <td>0</td>\n      <td>...</td>\n      <td>0</td>\n      <td>1</td>\n      <td>0</td>\n      <td>0</td>\n      <td>0</td>\n      <td>1</td>\n      <td>0</td>\n      <td>0</td>\n      <td>1</td>\n      <td>0</td>\n    </tr>\n    <tr>\n      <th>16</th>\n      <td>16</td>\n      <td>0</td>\n      <td>1</td>\n      <td>0</td>\n      <td>0</td>\n      <td>1</td>\n      <td>0</td>\n      <td>1</td>\n      <td>0</td>\n      <td>0</td>\n      <td>...</td>\n      <td>1</td>\n      <td>0</td>\n      <td>0</td>\n      <td>0</td>\n      <td>0</td>\n      <td>1</td>\n      <td>0</td>\n      <td>0</td>\n      <td>0</td>\n      <td>0</td>\n    </tr>\n    <tr>\n      <th>17</th>\n      <td>17</td>\n      <td>0</td>\n      <td>1</td>\n      <td>0</td>\n      <td>0</td>\n      <td>1</td>\n      <td>0</td>\n      <td>1</td>\n      <td>0</td>\n      <td>1</td>\n      <td>...</td>\n      <td>0</td>\n      <td>0</td>\n      <td>0</td>\n      <td>0</td>\n      <td>0</td>\n      <td>0</td>\n      <td>0</td>\n      <td>1</td>\n      <td>0</td>\n      <td>1</td>\n    </tr>\n    <tr>\n      <th>18</th>\n      <td>18</td>\n      <td>0</td>\n      <td>1</td>\n      <td>0</td>\n      <td>1</td>\n      <td>0</td>\n      <td>0</td>\n      <td>0</td>\n      <td>1</td>\n      <td>0</td>\n      <td>...</td>\n      <td>0</td>\n      <td>1</td>\n      <td>0</td>\n      <td>0</td>\n      <td>0</td>\n      <td>0</td>\n      <td>0</td>\n      <td>0</td>\n      <td>0</td>\n      <td>0</td>\n    </tr>\n    <tr>\n      <th>19</th>\n      <td>19</td>\n      <td>1</td>\n      <td>0</td>\n      <td>1</td>\n      <td>0</td>\n      <td>0</td>\n      <td>1</td>\n      <td>0</td>\n      <td>0</td>\n      <td>0</td>\n      <td>...</td>\n      <td>0</td>\n      <td>0</td>\n      <td>0</td>\n      <td>0</td>\n      <td>0</td>\n      <td>0</td>\n      <td>0</td>\n      <td>0</td>\n      <td>0</td>\n      <td>0</td>\n    </tr>\n    <tr>\n      <th>20</th>\n      <td>20</td>\n      <td>1</td>\n      <td>0</td>\n      <td>1</td>\n      <td>0</td>\n      <td>0</td>\n      <td>0</td>\n      <td>0</td>\n      <td>1</td>\n      <td>0</td>\n      <td>...</td>\n      <td>0</td>\n      <td>1</td>\n      <td>0</td>\n      <td>0</td>\n      <td>1</td>\n      <td>0</td>\n      <td>1</td>\n      <td>0</td>\n      <td>0</td>\n      <td>0</td>\n    </tr>\n    <tr>\n      <th>21</th>\n      <td>21</td>\n      <td>0</td>\n      <td>1</td>\n      <td>0</td>\n      <td>0</td>\n      <td>1</td>\n      <td>1</td>\n      <td>0</td>\n      <td>0</td>\n      <td>1</td>\n      <td>...</td>\n      <td>0</td>\n      <td>0</td>\n      <td>0</td>\n      <td>0</td>\n      <td>0</td>\n      <td>0</td>\n      <td>0</td>\n      <td>0</td>\n      <td>0</td>\n      <td>0</td>\n    </tr>\n    <tr>\n      <th>22</th>\n      <td>22</td>\n      <td>1</td>\n      <td>0</td>\n      <td>0</td>\n      <td>0</td>\n      <td>1</td>\n      <td>1</td>\n      <td>0</td>\n      <td>0</td>\n      <td>0</td>\n      <td>...</td>\n      <td>1</td>\n      <td>0</td>\n      <td>1</td>\n      <td>1</td>\n      <td>0</td>\n      <td>1</td>\n      <td>0</td>\n      <td>0</td>\n      <td>0</td>\n      <td>0</td>\n    </tr>\n    <tr>\n      <th>23</th>\n      <td>23</td>\n      <td>1</td>\n      <td>0</td>\n      <td>0</td>\n      <td>1</td>\n      <td>0</td>\n      <td>0</td>\n      <td>0</td>\n      <td>1</td>\n      <td>0</td>\n      <td>...</td>\n      <td>0</td>\n      <td>0</td>\n      <td>0</td>\n      <td>0</td>\n      <td>0</td>\n      <td>0</td>\n      <td>0</td>\n      <td>0</td>\n      <td>1</td>\n      <td>0</td>\n    </tr>\n    <tr>\n      <th>24</th>\n      <td>24</td>\n      <td>1</td>\n      <td>0</td>\n      <td>0</td>\n      <td>0</td>\n      <td>1</td>\n      <td>0</td>\n      <td>0</td>\n      <td>1</td>\n      <td>1</td>\n      <td>...</td>\n      <td>0</td>\n      <td>0</td>\n      <td>0</td>\n      <td>0</td>\n      <td>0</td>\n      <td>0</td>\n      <td>0</td>\n      <td>0</td>\n      <td>0</td>\n      <td>0</td>\n    </tr>\n    <tr>\n      <th>25</th>\n      <td>25</td>\n      <td>1</td>\n      <td>0</td>\n      <td>0</td>\n      <td>0</td>\n      <td>1</td>\n      <td>0</td>\n      <td>0</td>\n      <td>1</td>\n      <td>0</td>\n      <td>...</td>\n      <td>0</td>\n      <td>0</td>\n      <td>0</td>\n      <td>1</td>\n      <td>0</td>\n      <td>0</td>\n      <td>0</td>\n      <td>0</td>\n      <td>0</td>\n      <td>0</td>\n    </tr>\n    <tr>\n      <th>26</th>\n      <td>26</td>\n      <td>0</td>\n      <td>1</td>\n      <td>0</td>\n      <td>0</td>\n      <td>1</td>\n      <td>0</td>\n      <td>1</td>\n      <td>0</td>\n      <td>1</td>\n      <td>...</td>\n      <td>0</td>\n      <td>0</td>\n      <td>0</td>\n      <td>0</td>\n      <td>1</td>\n      <td>0</td>\n      <td>0</td>\n      <td>0</td>\n      <td>1</td>\n      <td>0</td>\n    </tr>\n    <tr>\n      <th>27</th>\n      <td>27</td>\n      <td>1</td>\n      <td>0</td>\n      <td>0</td>\n      <td>0</td>\n      <td>1</td>\n      <td>0</td>\n      <td>0</td>\n      <td>1</td>\n      <td>0</td>\n      <td>...</td>\n      <td>1</td>\n      <td>0</td>\n      <td>0</td>\n      <td>0</td>\n      <td>0</td>\n      <td>0</td>\n      <td>0</td>\n      <td>0</td>\n      <td>0</td>\n      <td>0</td>\n    </tr>\n    <tr>\n      <th>28</th>\n      <td>28</td>\n      <td>1</td>\n      <td>0</td>\n      <td>0</td>\n      <td>0</td>\n      <td>1</td>\n      <td>0</td>\n      <td>0</td>\n      <td>1</td>\n      <td>0</td>\n      <td>...</td>\n      <td>0</td>\n      <td>1</td>\n      <td>0</td>\n      <td>0</td>\n      <td>1</td>\n      <td>1</td>\n      <td>1</td>\n      <td>0</td>\n      <td>1</td>\n      <td>0</td>\n    </tr>\n    <tr>\n      <th>29</th>\n      <td>29</td>\n      <td>1</td>\n      <td>0</td>\n      <td>0</td>\n      <td>0</td>\n      <td>1</td>\n      <td>0</td>\n      <td>0</td>\n      <td>1</td>\n      <td>1</td>\n      <td>...</td>\n      <td>0</td>\n      <td>0</td>\n      <td>0</td>\n      <td>1</td>\n      <td>0</td>\n      <td>0</td>\n      <td>0</td>\n      <td>0</td>\n      <td>1</td>\n      <td>0</td>\n    </tr>\n    <tr>\n      <th>30</th>\n      <td>30</td>\n      <td>1</td>\n      <td>0</td>\n      <td>0</td>\n      <td>0</td>\n      <td>1</td>\n      <td>0</td>\n      <td>0</td>\n      <td>1</td>\n      <td>1</td>\n      <td>...</td>\n      <td>0</td>\n      <td>0</td>\n      <td>0</td>\n      <td>0</td>\n      <td>0</td>\n      <td>1</td>\n      <td>0</td>\n      <td>0</td>\n      <td>0</td>\n      <td>0</td>\n    </tr>\n    <tr>\n      <th>31</th>\n      <td>31</td>\n      <td>0</td>\n      <td>1</td>\n      <td>0</td>\n      <td>1</td>\n      <td>0</td>\n      <td>1</td>\n      <td>0</td>\n      <td>0</td>\n      <td>0</td>\n      <td>...</td>\n      <td>1</td>\n      <td>1</td>\n      <td>0</td>\n      <td>0</td>\n      <td>0</td>\n      <td>1</td>\n      <td>0</td>\n      <td>0</td>\n      <td>0</td>\n      <td>0</td>\n    </tr>\n    <tr>\n      <th>32</th>\n      <td>32</td>\n      <td>1</td>\n      <td>0</td>\n      <td>0</td>\n      <td>0</td>\n      <td>1</td>\n      <td>0</td>\n      <td>0</td>\n      <td>1</td>\n      <td>0</td>\n      <td>...</td>\n      <td>0</td>\n      <td>0</td>\n      <td>0</td>\n      <td>0</td>\n      <td>0</td>\n      <td>1</td>\n      <td>0</td>\n      <td>0</td>\n      <td>0</td>\n      <td>0</td>\n    </tr>\n    <tr>\n      <th>33</th>\n      <td>33</td>\n      <td>0</td>\n      <td>1</td>\n      <td>0</td>\n      <td>0</td>\n      <td>1</td>\n      <td>1</td>\n      <td>0</td>\n      <td>0</td>\n      <td>0</td>\n      <td>...</td>\n      <td>1</td>\n      <td>0</td>\n      <td>0</td>\n      <td>0</td>\n      <td>0</td>\n      <td>1</td>\n      <td>0</td>\n      <td>0</td>\n      <td>0</td>\n      <td>0</td>\n    </tr>\n    <tr>\n      <th>34</th>\n      <td>34</td>\n      <td>1</td>\n      <td>0</td>\n      <td>0</td>\n      <td>0</td>\n      <td>1</td>\n      <td>0</td>\n      <td>0</td>\n      <td>1</td>\n      <td>1</td>\n      <td>...</td>\n      <td>0</td>\n      <td>0</td>\n      <td>0</td>\n      <td>0</td>\n      <td>0</td>\n      <td>0</td>\n      <td>0</td>\n      <td>0</td>\n      <td>0</td>\n      <td>0</td>\n    </tr>\n    <tr>\n      <th>35</th>\n      <td>35</td>\n      <td>0</td>\n      <td>1</td>\n      <td>0</td>\n      <td>0</td>\n      <td>1</td>\n      <td>0</td>\n      <td>1</td>\n      <td>0</td>\n      <td>0</td>\n      <td>...</td>\n      <td>0</td>\n      <td>0</td>\n      <td>0</td>\n      <td>0</td>\n      <td>0</td>\n      <td>1</td>\n      <td>0</td>\n      <td>0</td>\n      <td>0</td>\n      <td>0</td>\n    </tr>\n    <tr>\n      <th>36</th>\n      <td>36</td>\n      <td>0</td>\n      <td>1</td>\n      <td>0</td>\n      <td>0</td>\n      <td>1</td>\n      <td>1</td>\n      <td>0</td>\n      <td>0</td>\n      <td>1</td>\n      <td>...</td>\n      <td>0</td>\n      <td>0</td>\n      <td>0</td>\n      <td>0</td>\n      <td>0</td>\n      <td>0</td>\n      <td>0</td>\n      <td>0</td>\n      <td>0</td>\n      <td>0</td>\n    </tr>\n    <tr>\n      <th>37</th>\n      <td>37</td>\n      <td>0</td>\n      <td>1</td>\n      <td>0</td>\n      <td>0</td>\n      <td>1</td>\n      <td>0</td>\n      <td>0</td>\n      <td>1</td>\n      <td>0</td>\n      <td>...</td>\n      <td>0</td>\n      <td>0</td>\n      <td>0</td>\n      <td>0</td>\n      <td>0</td>\n      <td>0</td>\n      <td>0</td>\n      <td>0</td>\n      <td>0</td>\n      <td>0</td>\n    </tr>\n    <tr>\n      <th>38</th>\n      <td>38</td>\n      <td>1</td>\n      <td>0</td>\n      <td>0</td>\n      <td>0</td>\n      <td>1</td>\n      <td>0</td>\n      <td>1</td>\n      <td>0</td>\n      <td>0</td>\n      <td>...</td>\n      <td>0</td>\n      <td>0</td>\n      <td>0</td>\n      <td>0</td>\n      <td>0</td>\n      <td>0</td>\n      <td>0</td>\n      <td>0</td>\n      <td>0</td>\n      <td>0</td>\n    </tr>\n    <tr>\n      <th>39</th>\n      <td>39</td>\n      <td>1</td>\n      <td>0</td>\n      <td>0</td>\n      <td>0</td>\n      <td>1</td>\n      <td>0</td>\n      <td>1</td>\n      <td>0</td>\n      <td>0</td>\n      <td>...</td>\n      <td>0</td>\n      <td>0</td>\n      <td>1</td>\n      <td>0</td>\n      <td>0</td>\n      <td>0</td>\n      <td>0</td>\n      <td>0</td>\n      <td>0</td>\n      <td>0</td>\n    </tr>\n  </tbody>\n</table>\n<p>40 rows × 78 columns</p>\n</div>"
     },
     "execution_count": 31,
     "metadata": {},
     "output_type": "execute_result"
    }
   ],
   "source": [
    "# Convert the names of attributes into numbers\n",
    "def convert_index(x):\n",
    "    if x == 'id':\n",
    "        return x\n",
    "    else:\n",
    "        return attribute_list.index(x)\n",
    "\n",
    "icm_df.rename(mapper=convert_index, axis=1, inplace=True)\n",
    "icm_df"
   ],
   "metadata": {
    "collapsed": false,
    "pycharm": {
     "name": "#%%\n"
    }
   }
  },
  {
   "cell_type": "code",
   "execution_count": 32,
   "outputs": [
    {
     "data": {
      "text/plain": "      id label  value\n1      1     1      1\n2      2     1      1\n10    10     1      1\n11    11     1      1\n12    12     1      1\n...   ..   ...    ...\n3028  28    76      1\n3029  29    76      1\n3041   1    77      1\n3047   7    77      1\n3057  17    77      1\n\n[412 rows x 3 columns]",
      "text/html": "<div>\n<style scoped>\n    .dataframe tbody tr th:only-of-type {\n        vertical-align: middle;\n    }\n\n    .dataframe tbody tr th {\n        vertical-align: top;\n    }\n\n    .dataframe thead th {\n        text-align: right;\n    }\n</style>\n<table border=\"1\" class=\"dataframe\">\n  <thead>\n    <tr style=\"text-align: right;\">\n      <th></th>\n      <th>id</th>\n      <th>label</th>\n      <th>value</th>\n    </tr>\n  </thead>\n  <tbody>\n    <tr>\n      <th>1</th>\n      <td>1</td>\n      <td>1</td>\n      <td>1</td>\n    </tr>\n    <tr>\n      <th>2</th>\n      <td>2</td>\n      <td>1</td>\n      <td>1</td>\n    </tr>\n    <tr>\n      <th>10</th>\n      <td>10</td>\n      <td>1</td>\n      <td>1</td>\n    </tr>\n    <tr>\n      <th>11</th>\n      <td>11</td>\n      <td>1</td>\n      <td>1</td>\n    </tr>\n    <tr>\n      <th>12</th>\n      <td>12</td>\n      <td>1</td>\n      <td>1</td>\n    </tr>\n    <tr>\n      <th>...</th>\n      <td>...</td>\n      <td>...</td>\n      <td>...</td>\n    </tr>\n    <tr>\n      <th>3028</th>\n      <td>28</td>\n      <td>76</td>\n      <td>1</td>\n    </tr>\n    <tr>\n      <th>3029</th>\n      <td>29</td>\n      <td>76</td>\n      <td>1</td>\n    </tr>\n    <tr>\n      <th>3041</th>\n      <td>1</td>\n      <td>77</td>\n      <td>1</td>\n    </tr>\n    <tr>\n      <th>3047</th>\n      <td>7</td>\n      <td>77</td>\n      <td>1</td>\n    </tr>\n    <tr>\n      <th>3057</th>\n      <td>17</td>\n      <td>77</td>\n      <td>1</td>\n    </tr>\n  </tbody>\n</table>\n<p>412 rows × 3 columns</p>\n</div>"
     },
     "execution_count": 32,
     "metadata": {},
     "output_type": "execute_result"
    }
   ],
   "source": [
    "# Re-organize data structure for building the ICM\n",
    "icm_df = pd.melt(icm_df, id_vars='id', var_name='label')\n",
    "icm_df = icm_df[icm_df[\"value\"]==1]\n",
    "icm_df"
   ],
   "metadata": {
    "collapsed": false,
    "pycharm": {
     "name": "#%%\n"
    }
   }
  },
  {
   "cell_type": "code",
   "execution_count": 33,
   "outputs": [
    {
     "data": {
      "text/plain": "<40x78 sparse matrix of type '<class 'numpy.int64'>'\n\twith 412 stored elements in Compressed Sparse Row format>"
     },
     "execution_count": 33,
     "metadata": {},
     "output_type": "execute_result"
    }
   ],
   "source": [
    "# Create the Item Content Matrix\n",
    "ICM_all = sps.csr_matrix(\n",
    "    (icm_df[\"value\"].values,\n",
    "    (icm_df[\"id\"].values, icm_df[\"label\"].values))\n",
    ")\n",
    "\n",
    "ICM_all"
   ],
   "metadata": {
    "collapsed": false,
    "pycharm": {
     "name": "#%%\n"
    }
   }
  },
  {
   "cell_type": "code",
   "execution_count": 34,
   "outputs": [
    {
     "name": "stdout",
     "output_type": "stream",
     "text": [
      "[[0 0 1 ... 0 0 0]\n",
      " [0 1 0 ... 0 0 1]\n",
      " [0 1 0 ... 0 0 0]\n",
      " ...\n",
      " [0 0 1 ... 0 0 0]\n",
      " [0 1 0 ... 0 0 0]\n",
      " [0 1 0 ... 0 0 0]]\n"
     ]
    }
   ],
   "source": [
    "print(ICM_all.todense())"
   ],
   "metadata": {
    "collapsed": false,
    "pycharm": {
     "name": "#%%\n"
    }
   }
  },
  {
   "cell_type": "markdown",
   "source": [
    "### Feature Engineering\n",
    "It is possible to model the importance of the features by weighting them differently in the ICM: so we can attribute a higher value to the features that we consider more relevant for the recommendation problem, such as the languages spoken by the guides."
   ],
   "metadata": {
    "collapsed": false,
    "pycharm": {
     "name": "#%% md\n"
    }
   }
  },
  {
   "cell_type": "code",
   "execution_count": 37,
   "outputs": [
    {
     "name": "stdout",
     "output_type": "stream",
     "text": [
      "0 id\n",
      "1 female\n",
      "2 male\n",
      "3 high_cost\n",
      "4 low_cost\n",
      "5 medium_cost\n",
      "6 experienced\n",
      "7 junior\n",
      "8 senior\n",
      "9 20-40\n",
      "10 40+\n",
      "11 bachelor\n",
      "12 high-school\n",
      "13 master\n",
      "14 middle-school\n",
      "15 phd\n",
      "16 Analytical chemist\n",
      "17 Animal nutritionist\n",
      "18 Animal technologist\n",
      "19 Associate Professor\n",
      "20 Brewing technologist\n",
      "21 Chief of Staff\n",
      "22 Civil Service fast streamer\n",
      "23 Conference centre manager\n",
      "24 Designer, television/film set\n",
      "25 Editor, commissioning\n",
      "26 Engineer, manufacturing\n",
      "27 Environmental health practitioner\n",
      "28 Environmental manager\n",
      "29 Equality and diversity officer\n",
      "30 Garment/textile technologist\n",
      "31 IT trainer\n",
      "32 Industrial buyer\n",
      "33 Information officer\n",
      "34 Journalist, broadcasting\n",
      "35 Market researcher\n",
      "36 Minerals surveyor\n",
      "37 Mining engineer\n",
      "38 Network engineer\n",
      "39 Oncologist\n",
      "40 Optometrist\n",
      "41 Producer, television/film/video\n",
      "42 Product designer\n",
      "43 Production assistant, radio\n",
      "44 Production designer, theatre/television/film\n",
      "45 Psychologist, counselling\n",
      "46 Research officer, political party\n",
      "47 Research scientist (maths)\n",
      "48 Restaurant manager\n",
      "49 Retail banker\n",
      "50 Secondary school teacher\n",
      "51 Senior tax professional/tax inspector\n",
      "52 Sport and exercise psychologist\n",
      "53 Teacher, music\n",
      "54 Theatre manager\n",
      "55 Therapist, occupational\n",
      "56 bulgarian\n",
      "57 chinese\n",
      "58 deutsche\n",
      "59 dutch\n",
      "60 english\n",
      "61 french\n",
      "62 italian\n",
      "63 spanish\n",
      "64 archeology\n",
      "65 art\n",
      "66 beer\n",
      "67 cinema\n",
      "68 countryside\n",
      "69 food\n",
      "70 history\n",
      "71 literature\n",
      "72 museums\n",
      "73 music\n",
      "74 rafting\n",
      "75 sport\n",
      "76 tracking\n",
      "77 wine\n"
     ]
    }
   ],
   "source": [
    "# Print the full list of attributes\n",
    "for l in attribute_list:\n",
    "    print(attribute_list.index(l), l)"
   ],
   "metadata": {
    "collapsed": false,
    "pycharm": {
     "name": "#%%\n"
    }
   }
  },
  {
   "cell_type": "code",
   "execution_count": 39,
   "outputs": [],
   "source": [
    "# Index of columns in the dataset containing specific features\n",
    "# (procedure to convert in function?)\n",
    "feature_columns = {\n",
    "    'low_cost': 4,\n",
    "    'senior': 8,\n",
    "    '20-40': 9,\n",
    "    'language': [54,61]\n",
    "}"
   ],
   "metadata": {
    "collapsed": false,
    "pycharm": {
     "name": "#%%\n"
    }
   }
  },
  {
   "cell_type": "code",
   "execution_count": 42,
   "outputs": [],
   "source": [
    "# Feature engineering: attribute different weights to the parameters\n",
    "# Default weights = 1\n",
    "importance_weights = {\n",
    "    'low_cost': 1,\n",
    "    'senior': 1,\n",
    "    '20-40': 1,\n",
    "    'language': 10\n",
    "}"
   ],
   "metadata": {
    "collapsed": false,
    "pycharm": {
     "name": "#%%\n"
    }
   }
  },
  {
   "cell_type": "code",
   "execution_count": 43,
   "outputs": [],
   "source": [
    "# Create a copy of the original ICM\n",
    "new_icm_df = icm_df.copy(deep=True)"
   ],
   "metadata": {
    "collapsed": false,
    "pycharm": {
     "name": "#%%\n"
    }
   }
  },
  {
   "cell_type": "code",
   "execution_count": 44,
   "outputs": [
    {
     "name": "stdout",
     "output_type": "stream",
     "text": [
      "language\n"
     ]
    }
   ],
   "source": [
    "# Modify the cell values with respect to the weights we want to give\n",
    "\n",
    "for feature in importance_weights:\n",
    "    if importance_weights[feature] > 1:\n",
    "        print(feature)\n",
    "        if feature=='language':\n",
    "            condition = (new_icm_df.label >= feature_columns[feature][0]) & (new_icm_df.label <= feature_columns[feature][1])\n",
    "        else:\n",
    "            condition = (new_icm_df.label == feature_columns[feature])\n",
    "        \n",
    "        new_icm_df.loc[condition,'value'] = importance_weights[feature]"
   ],
   "metadata": {
    "collapsed": false,
    "pycharm": {
     "name": "#%%\n"
    }
   }
  },
  {
   "cell_type": "code",
   "execution_count": 45,
   "outputs": [
    {
     "data": {
      "text/plain": "<40x78 sparse matrix of type '<class 'numpy.int64'>'\n\twith 412 stored elements in Compressed Sparse Row format>"
     },
     "execution_count": 45,
     "metadata": {},
     "output_type": "execute_result"
    }
   ],
   "source": [
    "# Build the modified ICM\n",
    "\n",
    "ICM_modified = sps.csr_matrix(\n",
    "    (new_icm_df[\"value\"].values,\n",
    "    (new_icm_df[\"id\"].values, new_icm_df[\"label\"].values))\n",
    ")\n",
    "\n",
    "ICM_modified"
   ],
   "metadata": {
    "collapsed": false,
    "pycharm": {
     "name": "#%%\n"
    }
   }
  },
  {
   "cell_type": "code",
   "execution_count": 46,
   "outputs": [
    {
     "name": "stdout",
     "output_type": "stream",
     "text": [
      "[[0 0 1 ... 0 0 0]\n",
      " [0 1 0 ... 0 0 1]\n",
      " [0 1 0 ... 0 0 0]\n",
      " ...\n",
      " [0 0 1 ... 0 0 0]\n",
      " [0 1 0 ... 0 0 0]\n",
      " [0 1 0 ... 0 0 0]]\n"
     ]
    }
   ],
   "source": [
    "print(ICM_modified.todense())"
   ],
   "metadata": {
    "collapsed": false,
    "pycharm": {
     "name": "#%%\n"
    }
   }
  },
  {
   "cell_type": "code",
   "execution_count": 47,
   "outputs": [],
   "source": [
    "ICM_train = ICM_modified"
   ],
   "metadata": {
    "collapsed": false,
    "pycharm": {
     "name": "#%%\n"
    }
   }
  },
  {
   "cell_type": "markdown",
   "source": [
    "## Build the model"
   ],
   "metadata": {
    "collapsed": false,
    "pycharm": {
     "name": "#%% md\n"
    }
   }
  },
  {
   "cell_type": "markdown",
   "source": [
    "### Collaborative Filtering\n",
    "\n",
    "**Collaborative filtering** recommends guides to tourists based on the preferences and behavior of similar users. It focuses on identifying patterns and similarities in interactions between guides and tourists based on the dataset of tourists feedback.\n",
    "\n",
    "In this case **item-based** collaborative filtering technique has been used. It calculates the similarity between each pair of guides, according to the number of users that have the same opinion on them. "
   ],
   "metadata": {
    "collapsed": false,
    "pycharm": {
     "name": "#%% md\n"
    }
   }
  },
  {
   "cell_type": "code",
   "execution_count": 48,
   "outputs": [],
   "source": [
    "from Recommenders.Compute_Similarity_Python import Compute_Similarity_Python"
   ],
   "metadata": {
    "collapsed": false,
    "pycharm": {
     "name": "#%%\n"
    }
   }
  },
  {
   "cell_type": "code",
   "execution_count": 49,
   "outputs": [],
   "source": [
    "class ItemKNNCFRecommender(object):\n",
    "    \n",
    "    def __init__(self, URM):\n",
    "        self.URM = URM\n",
    "        \n",
    "            \n",
    "    def fit(self, topK=5, shrink=3, normalize=True, similarity=\"cosine\"):\n",
    "        \n",
    "        similarity_object = Compute_Similarity_Python(self.URM, shrink=shrink, \n",
    "                                                  topK=topK, normalize=normalize, \n",
    "                                                  similarity = similarity)\n",
    "        \n",
    "        self.W_sparse = similarity_object.compute_similarity()\n",
    "\n",
    "        \n",
    "    def recommend(self, user_id, at=None, exclude_seen=True):\n",
    "        # compute the scores using the dot product\n",
    "        user_profile = self.URM[user_id]\n",
    "        scores = user_profile.dot(self.W_sparse).toarray().ravel()\n",
    "\n",
    "        if exclude_seen:\n",
    "            scores = self.filter_seen(user_id, scores)\n",
    "\n",
    "        # rank items\n",
    "        ranking = scores.argsort()[::-1]\n",
    "            \n",
    "        return ranking[:at]\n",
    "    \n",
    "    # guides that have been rated by tourists will be excluded\n",
    "    def filter_seen(self, user_id, scores):\n",
    "\n",
    "        start_pos = self.URM.indptr[user_id]\n",
    "        end_pos = self.URM.indptr[user_id+1]\n",
    "\n",
    "        user_profile = self.URM.indices[start_pos:end_pos]\n",
    "        \n",
    "        scores[user_profile] = -np.inf\n",
    "\n",
    "        return scores"
   ],
   "metadata": {
    "collapsed": false,
    "pycharm": {
     "name": "#%%\n"
    }
   }
  },
  {
   "cell_type": "markdown",
   "source": [
    "### Content-based Filtering\n",
    "\n",
    "**Content-based filtering** recommends guides to tourists based on the attributes of features of the guides themselves and the tourist's preferences. It focuses on analyzing the characteristics of items and matching them to the tourists's profile or preferences.\n",
    "\n",
    "In this case **item** content-based filtering technique has been used. It suggests guides to tourists based on the attributes or content of the items themselves, without relying on user behavior or preferences."
   ],
   "metadata": {
    "collapsed": false,
    "pycharm": {
     "name": "#%% md\n"
    }
   }
  },
  {
   "cell_type": "code",
   "execution_count": 50,
   "outputs": [],
   "source": [
    "class ItemKNNCBFRecommender(object):\n",
    "\n",
    "    def __init__(self, URM, ICM):\n",
    "        self.URM = URM\n",
    "        self.ICM = ICM\n",
    "\n",
    "\n",
    "    def fit(self, topK=50, shrink=100, normalize = True, similarity = \"cosine\"):\n",
    "\n",
    "        similarity_object = Compute_Similarity_Python(self.ICM.T, shrink=shrink,\n",
    "                                                  topK=topK, normalize=normalize,\n",
    "                                                  similarity = similarity)\n",
    "\n",
    "        self.W_sparse = similarity_object.compute_similarity()\n",
    "\n",
    "\n",
    "    def recommend(self, user_id, at=None, exclude_seen=True):\n",
    "        # compute the scores using the dot product\n",
    "        user_profile = self.URM[user_id]\n",
    "        scores = user_profile.dot(self.W_sparse).toarray().ravel()\n",
    "\n",
    "        if exclude_seen:\n",
    "            scores = self.filter_seen(user_id, scores)\n",
    "\n",
    "        # rank items\n",
    "        ranking = scores.argsort()[::-1]\n",
    "\n",
    "        return ranking[:at]\n",
    "\n",
    "\n",
    "    # guides that have been rated by toursits will be excluded\n",
    "    def filter_seen(self, user_id, scores):\n",
    "\n",
    "        start_pos = self.URM.indptr[user_id]\n",
    "        end_pos = self.URM.indptr[user_id+1]\n",
    "\n",
    "        user_profile = self.URM.indices[start_pos:end_pos]\n",
    "\n",
    "        scores[user_profile] = -np.inf\n",
    "\n",
    "        return scores"
   ],
   "metadata": {
    "collapsed": false,
    "pycharm": {
     "name": "#%%\n"
    }
   }
  },
  {
   "cell_type": "markdown",
   "source": [
    "## Fit the model"
   ],
   "metadata": {
    "collapsed": false,
    "pycharm": {
     "name": "#%% md\n"
    }
   }
  },
  {
   "cell_type": "code",
   "execution_count": 79,
   "outputs": [],
   "source": [
    "ICM_train = ICM_modified"
   ],
   "metadata": {
    "collapsed": false,
    "pycharm": {
     "name": "#%%\n"
    }
   }
  },
  {
   "cell_type": "code",
   "execution_count": 80,
   "outputs": [],
   "source": [
    "model_type = 'cbf'"
   ],
   "metadata": {
    "collapsed": false,
    "pycharm": {
     "name": "#%%\n"
    }
   }
  },
  {
   "cell_type": "code",
   "execution_count": 81,
   "outputs": [],
   "source": [
    "if model_type == 'cf':\n",
    "    recommender = ItemKNNCFRecommender(URM_train)\n",
    "    recommender.fit(shrink=0.5, topK=5)"
   ],
   "metadata": {
    "collapsed": false,
    "pycharm": {
     "name": "#%%\n"
    }
   }
  },
  {
   "cell_type": "code",
   "execution_count": 82,
   "outputs": [
    {
     "name": "stdout",
     "output_type": "stream",
     "text": [
      "Similarity column 40 (100.0%), 20006.21 column/sec. Elapsed time 0.00 sec\n"
     ]
    }
   ],
   "source": [
    "if model_type == 'cbf':\n",
    "    recommender = ItemKNNCBFRecommender(URM_train, ICM_train)\n",
    "    recommender.fit(shrink=0.5, topK=5)"
   ],
   "metadata": {
    "collapsed": false,
    "pycharm": {
     "name": "#%%\n"
    }
   }
  },
  {
   "cell_type": "markdown",
   "source": [
    "## Generate outputs"
   ],
   "metadata": {
    "collapsed": false,
    "pycharm": {
     "name": "#%% md\n"
    }
   }
  },
  {
   "cell_type": "markdown",
   "source": [
    "Here the generation of recommendations of guides to tourists is reported."
   ],
   "metadata": {
    "collapsed": false,
    "pycharm": {
     "name": "#%% md\n"
    }
   }
  },
  {
   "cell_type": "code",
   "execution_count": 83,
   "outputs": [],
   "source": [
    "# Set the number of guides to recommend to each tourist\n",
    "n_recommendations_per_tourist = 5"
   ],
   "metadata": {
    "collapsed": false,
    "pycharm": {
     "name": "#%%\n"
    }
   }
  },
  {
   "cell_type": "code",
   "execution_count": 84,
   "outputs": [
    {
     "name": "stderr",
     "output_type": "stream",
     "text": [
      "200it [00:00, 8695.65it/s]\n"
     ]
    }
   ],
   "source": [
    "# Generate recommendations for each tourist\n",
    "\n",
    "recommendations = []\n",
    "\n",
    "for i,id in tqdm(enumerate(arr_tourists)):\n",
    "    # 3 recommendations for each tourist\n",
    "    rec = recommender.recommend(id, at=n_recommendations_per_tourist, exclude_seen=True)\n",
    "    rec_list = rec\n",
    "    rec_row = ' '.join(str(s) for s in rec_list)\n",
    "    recommendations.append(rec_row)"
   ],
   "metadata": {
    "collapsed": false,
    "pycharm": {
     "name": "#%%\n"
    }
   }
  },
  {
   "cell_type": "code",
   "execution_count": 85,
   "outputs": [
    {
     "name": "stdout",
     "output_type": "stream",
     "text": [
      "For user 0 recommended guides: 11 16 25 33 35\n",
      "For user 1 recommended guides: 4 31 30 21 22\n",
      "For user 2 recommended guides: 21 29 8 15 9\n",
      "For user 3 recommended guides: 30 4 20 19 2\n",
      "For user 4 recommended guides: 21 15 6 2 33\n",
      "For user 5 recommended guides: 7 37 1 39 26\n",
      "For user 6 recommended guides: 11 3 32 29 24\n",
      "For user 7 recommended guides: 8 34 25 21 22\n",
      "For user 8 recommended guides: 2 6 8 0 22\n",
      "For user 9 recommended guides: 12 27 28 38 17\n"
     ]
    }
   ],
   "source": [
    "# print recommendations for the first 10 users\n",
    "for i in range(10):\n",
    "    print(\"For user \" + str(arr_tourists[i]) + \" recommended guides: \" + recommendations[i])"
   ],
   "metadata": {
    "collapsed": false,
    "pycharm": {
     "name": "#%%\n"
    }
   }
  },
  {
   "cell_type": "code",
   "execution_count": 86,
   "outputs": [
    {
     "data": {
      "text/plain": "     tourist_id          guides\n0             0  11 16 25 33 35\n1             1   4 31 30 21 22\n2             2    21 29 8 15 9\n3             3    30 4 20 19 2\n4             4    21 15 6 2 33\n..          ...             ...\n195         195    6 2 33 21 15\n196         196   37 1 39 26 17\n197         197   24 10 19 2 12\n198         198   37 1 39 26 17\n199         199    29 8 21 22 9\n\n[200 rows x 2 columns]",
      "text/html": "<div>\n<style scoped>\n    .dataframe tbody tr th:only-of-type {\n        vertical-align: middle;\n    }\n\n    .dataframe tbody tr th {\n        vertical-align: top;\n    }\n\n    .dataframe thead th {\n        text-align: right;\n    }\n</style>\n<table border=\"1\" class=\"dataframe\">\n  <thead>\n    <tr style=\"text-align: right;\">\n      <th></th>\n      <th>tourist_id</th>\n      <th>guides</th>\n    </tr>\n  </thead>\n  <tbody>\n    <tr>\n      <th>0</th>\n      <td>0</td>\n      <td>11 16 25 33 35</td>\n    </tr>\n    <tr>\n      <th>1</th>\n      <td>1</td>\n      <td>4 31 30 21 22</td>\n    </tr>\n    <tr>\n      <th>2</th>\n      <td>2</td>\n      <td>21 29 8 15 9</td>\n    </tr>\n    <tr>\n      <th>3</th>\n      <td>3</td>\n      <td>30 4 20 19 2</td>\n    </tr>\n    <tr>\n      <th>4</th>\n      <td>4</td>\n      <td>21 15 6 2 33</td>\n    </tr>\n    <tr>\n      <th>...</th>\n      <td>...</td>\n      <td>...</td>\n    </tr>\n    <tr>\n      <th>195</th>\n      <td>195</td>\n      <td>6 2 33 21 15</td>\n    </tr>\n    <tr>\n      <th>196</th>\n      <td>196</td>\n      <td>37 1 39 26 17</td>\n    </tr>\n    <tr>\n      <th>197</th>\n      <td>197</td>\n      <td>24 10 19 2 12</td>\n    </tr>\n    <tr>\n      <th>198</th>\n      <td>198</td>\n      <td>37 1 39 26 17</td>\n    </tr>\n    <tr>\n      <th>199</th>\n      <td>199</td>\n      <td>29 8 21 22 9</td>\n    </tr>\n  </tbody>\n</table>\n<p>200 rows × 2 columns</p>\n</div>"
     },
     "execution_count": 86,
     "metadata": {},
     "output_type": "execute_result"
    }
   ],
   "source": [
    "# Show the output dataframe\n",
    "\n",
    "result_df = pd.DataFrame(\n",
    "    data = {'tourist_id': arr_tourists,\n",
    "            'guides': recommendations}\n",
    ")\n",
    "\n",
    "result_df"
   ],
   "metadata": {
    "collapsed": false,
    "pycharm": {
     "name": "#%%\n"
    }
   }
  },
  {
   "cell_type": "markdown",
   "source": [
    "Let's randomly choose a tourist and check for information of recommended guides."
   ],
   "metadata": {
    "collapsed": false,
    "pycharm": {
     "name": "#%% md\n"
    }
   }
  },
  {
   "cell_type": "code",
   "execution_count": 87,
   "outputs": [
    {
     "data": {
      "text/plain": "                    50\nid                  50\nlanguages  ['chinese']\nkeywords    ['cinema']",
      "text/html": "<div>\n<style scoped>\n    .dataframe tbody tr th:only-of-type {\n        vertical-align: middle;\n    }\n\n    .dataframe tbody tr th {\n        vertical-align: top;\n    }\n\n    .dataframe thead th {\n        text-align: right;\n    }\n</style>\n<table border=\"1\" class=\"dataframe\">\n  <thead>\n    <tr style=\"text-align: right;\">\n      <th></th>\n      <th>50</th>\n    </tr>\n  </thead>\n  <tbody>\n    <tr>\n      <th>id</th>\n      <td>50</td>\n    </tr>\n    <tr>\n      <th>languages</th>\n      <td>['chinese']</td>\n    </tr>\n    <tr>\n      <th>keywords</th>\n      <td>['cinema']</td>\n    </tr>\n  </tbody>\n</table>\n</div>"
     },
     "execution_count": 87,
     "metadata": {},
     "output_type": "execute_result"
    }
   ],
   "source": [
    "# Show some examples: select a tourist by id to visualize the received recommendations\n",
    "sample_tourist = 50\n",
    "pd.DataFrame(tourist_df.loc[sample_tourist,:])"
   ],
   "metadata": {
    "collapsed": false,
    "pycharm": {
     "name": "#%%\n"
    }
   }
  },
  {
   "cell_type": "code",
   "execution_count": 88,
   "outputs": [
    {
     "data": {
      "text/plain": "    id  gender             name  birth_date  now_available  \\\n29  29  female         Dana Cox  1988-11-28           True   \n8    8    male     Scott Sawyer  1992-06-10           True   \n21  21    male    Robert Zavala  1987-01-19           True   \n22  22  female    Shannon Oneal  1976-06-09           True   \n9    9    male  Joseph Bradford  2004-04-17           True   \n\n                        languages_spoken  price      education  \\\n29                  [bulgarian, chinese]     28         master   \n8          [bulgarian, english, chinese]     31  middle-school   \n21                             [chinese]     26    high-school   \n22                    [chinese, spanish]     25    high-school   \n9   [chinese, bulgarian, dutch, english]     37            phd   \n\n                  biography  \\\n29        Market researcher   \n8           Theatre manager   \n21         Product designer   \n22      Information officer   \n9   Therapist, occupational   \n\n                                             keywords  \\\n29                 [archeology, literature, tracking]   \n8                         [literature, cinema, music]   \n21                                           [cinema]   \n22  [history, countryside, cinema, literature, music]   \n9                                           [museums]   \n\n                                     current_location  experience  \n29  {'lat': 40.35465462623879, 'lon': 18.172666005...          10  \n8   {'lat': 40.35265552781134, 'lon': 18.151723396...           2  \n21  {'lat': 40.342846292499104, 'lon': 18.16089760...           5  \n22  {'lat': 40.36846436096489, 'lon': 18.171263566...           6  \n9   {'lat': 40.33774657696426, 'lon': 18.182064664...           1  ",
      "text/html": "<div>\n<style scoped>\n    .dataframe tbody tr th:only-of-type {\n        vertical-align: middle;\n    }\n\n    .dataframe tbody tr th {\n        vertical-align: top;\n    }\n\n    .dataframe thead th {\n        text-align: right;\n    }\n</style>\n<table border=\"1\" class=\"dataframe\">\n  <thead>\n    <tr style=\"text-align: right;\">\n      <th></th>\n      <th>id</th>\n      <th>gender</th>\n      <th>name</th>\n      <th>birth_date</th>\n      <th>now_available</th>\n      <th>languages_spoken</th>\n      <th>price</th>\n      <th>education</th>\n      <th>biography</th>\n      <th>keywords</th>\n      <th>current_location</th>\n      <th>experience</th>\n    </tr>\n  </thead>\n  <tbody>\n    <tr>\n      <th>29</th>\n      <td>29</td>\n      <td>female</td>\n      <td>Dana Cox</td>\n      <td>1988-11-28</td>\n      <td>True</td>\n      <td>[bulgarian, chinese]</td>\n      <td>28</td>\n      <td>master</td>\n      <td>Market researcher</td>\n      <td>[archeology, literature, tracking]</td>\n      <td>{'lat': 40.35465462623879, 'lon': 18.172666005...</td>\n      <td>10</td>\n    </tr>\n    <tr>\n      <th>8</th>\n      <td>8</td>\n      <td>male</td>\n      <td>Scott Sawyer</td>\n      <td>1992-06-10</td>\n      <td>True</td>\n      <td>[bulgarian, english, chinese]</td>\n      <td>31</td>\n      <td>middle-school</td>\n      <td>Theatre manager</td>\n      <td>[literature, cinema, music]</td>\n      <td>{'lat': 40.35265552781134, 'lon': 18.151723396...</td>\n      <td>2</td>\n    </tr>\n    <tr>\n      <th>21</th>\n      <td>21</td>\n      <td>male</td>\n      <td>Robert Zavala</td>\n      <td>1987-01-19</td>\n      <td>True</td>\n      <td>[chinese]</td>\n      <td>26</td>\n      <td>high-school</td>\n      <td>Product designer</td>\n      <td>[cinema]</td>\n      <td>{'lat': 40.342846292499104, 'lon': 18.16089760...</td>\n      <td>5</td>\n    </tr>\n    <tr>\n      <th>22</th>\n      <td>22</td>\n      <td>female</td>\n      <td>Shannon Oneal</td>\n      <td>1976-06-09</td>\n      <td>True</td>\n      <td>[chinese, spanish]</td>\n      <td>25</td>\n      <td>high-school</td>\n      <td>Information officer</td>\n      <td>[history, countryside, cinema, literature, music]</td>\n      <td>{'lat': 40.36846436096489, 'lon': 18.171263566...</td>\n      <td>6</td>\n    </tr>\n    <tr>\n      <th>9</th>\n      <td>9</td>\n      <td>male</td>\n      <td>Joseph Bradford</td>\n      <td>2004-04-17</td>\n      <td>True</td>\n      <td>[chinese, bulgarian, dutch, english]</td>\n      <td>37</td>\n      <td>phd</td>\n      <td>Therapist, occupational</td>\n      <td>[museums]</td>\n      <td>{'lat': 40.33774657696426, 'lon': 18.182064664...</td>\n      <td>1</td>\n    </tr>\n  </tbody>\n</table>\n</div>"
     },
     "execution_count": 88,
     "metadata": {},
     "output_type": "execute_result"
    }
   ],
   "source": [
    "# List of recommended guides\n",
    "sample_guide_list = list(map(int, recommendations[sample_tourist].split(\" \")))\n",
    "guide_df.loc[sample_guide_list,:]"
   ],
   "metadata": {
    "collapsed": false,
    "pycharm": {
     "name": "#%%\n"
    }
   }
  },
  {
   "cell_type": "code",
   "execution_count": null,
   "outputs": [],
   "source": [],
   "metadata": {
    "collapsed": false,
    "pycharm": {
     "name": "#%%\n"
    }
   }
  }
 ],
 "metadata": {
  "kernelspec": {
   "display_name": "Python 3 (ipykernel)",
   "language": "python",
   "name": "python3"
  },
  "language_info": {
   "codemirror_mode": {
    "name": "ipython",
    "version": 3
   },
   "file_extension": ".py",
   "mimetype": "text/x-python",
   "name": "python",
   "nbconvert_exporter": "python",
   "pygments_lexer": "ipython3",
   "version": "3.11.5"
  }
 },
 "nbformat": 4,
 "nbformat_minor": 5
}
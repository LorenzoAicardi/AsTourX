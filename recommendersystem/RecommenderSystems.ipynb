{
 "cells": [
  {
   "cell_type": "markdown",
   "id": "89749ce3",
   "metadata": {
    "pycharm": {
     "name": "#%% md\n"
    }
   },
   "source": [
    "## Fake data generation"
   ]
  },
  {
   "cell_type": "code",
   "execution_count": 1,
   "id": "5c93a1fc",
   "metadata": {
    "pycharm": {
     "name": "#%%\n"
    }
   },
   "outputs": [],
   "source": [
    "from faker import Faker\n",
    "import numpy as np\n",
    "import pandas as pd\n",
    "import random"
   ]
  },
  {
   "cell_type": "code",
   "execution_count": 2,
   "id": "cc09c43b",
   "metadata": {
    "pycharm": {
     "name": "#%%\n"
    }
   },
   "outputs": [],
   "source": [
    "faker = Faker(seed=666)\n",
    "np.random.seed(666)"
   ]
  },
  {
   "cell_type": "code",
   "execution_count": 3,
   "id": "e7c9b79e",
   "metadata": {
    "pycharm": {
     "name": "#%%\n"
    }
   },
   "outputs": [],
   "source": [
    "keywords = [\n",
    "    'archeology',\n",
    "    'museums',\n",
    "    'music',\n",
    "    'art',\n",
    "    'cinema',\n",
    "    'countryside',\n",
    "    'tracking',\n",
    "    'rafting',\n",
    "    'history',\n",
    "    'literature',\n",
    "    'sport',\n",
    "    'food',\n",
    "    'wine',\n",
    "    'beer'\n",
    "]"
   ]
  },
  {
   "cell_type": "code",
   "execution_count": null,
   "outputs": [],
   "source": [
    "# guide profile generation\n",
    "def generate_guide():\n",
    "    guide = {}\n",
    "    guide['gender'] = np.random.choice(['male', 'female'], size=1).item()\n",
    "    guide['name'] = (faker.first_name_male() if guide['gender'] == 'male' else faker.first_name_female()) + ' ' + faker.last_name()\n",
    "    guide['birth_date'] = faker.date_of_birth(maximum_age=65, minimum_age=20)\n",
    "    guide['now_available'] = True\n",
    "    guide['languages_spoken'] = list(np.random.choice(['english', 'italian', 'french', 'spanish', 'deutsche', 'dutch', 'bulgarian', 'chinese'], size=1+np.random.poisson(lam=1, size=1).item(), replace=False))\n",
    "    guide['price'] = int(max(10, np.abs(np.random.normal(30, 5))))\n",
    "    guide['education'] = np.random.choice(['middle-school', 'high-school', 'bachelor', 'master', 'phd'], size=1).item()\n",
    "    guide['biography'] = faker.profile()['job']\n",
    "    guide['keywords'] = list(np.random.choice(keywords, size=np.random.poisson(2, size=1).item(), replace=False))\n",
    "    guide['current_location'] = {\n",
    "        \"lat\": np.random.normal(40.3524, 0.01),\n",
    "        \"lon\": np.random.normal(18.1732, 0.01)\n",
    "    }\n",
    "    guide['experience'] = random.randint(1,2024-guide['birth_date'].year-18)\n",
    "    \n",
    "    return guide"
   ],
   "metadata": {
    "collapsed": false,
    "pycharm": {
     "name": "#%%\n"
    }
   }
  },
  {
   "cell_type": "code",
   "execution_count": null,
   "outputs": [],
   "source": [
    "# user profile generation\n",
    "def generate_tourist():\n",
    "\n",
    "    tourist = {}\n",
    "\n",
    "    tourist['languages'] = list(np.random.choice(['english', 'italian', 'french', 'spanish', 'deutsche', 'dutch', 'bulgarian', 'chinese'], size=1+np.random.binomial(1, 0.2), replace=False))\n",
    "\n",
    "    tourist['keywords'] = list(np.random.choice(keywords, size=np.random.poisson(2, size=1).item(), replace=False))\n",
    "    \n",
    "    return tourist"
   ],
   "metadata": {
    "collapsed": false,
    "pycharm": {
     "name": "#%%\n"
    }
   }
  },
  {
   "cell_type": "code",
   "execution_count": null,
   "outputs": [],
   "source": [
    "import random \n",
    "\n",
    "# rating generation\n",
    "def generate_rating (tourists, guides):\n",
    "    ratings = []\n",
    "    for i in range(tourists):\n",
    "        \n",
    "        # random choose 3 guides without duplicates\n",
    "        random_guides = random.sample(range(guides),3)\n",
    "        \n",
    "        # random choose 1 or 2 guides to rate\n",
    "        for j in range(np.random.randint(1,3)):\n",
    "\n",
    "            rating = round(np.random.normal(loc=4, scale=0.5, size=1).item(),0)\n",
    "            ratings.append((i,random_guides[j],rating))\n",
    "\n",
    "        # random choose if rate badly\n",
    "        if(np.random.binomial(1, 0.2)):\n",
    "            bad_rating = round(np.random.normal(loc=1.5, scale=0.3, size=1).item(),0)\n",
    "            # rate the last guide with bad rating\n",
    "            ratings.append((i,random_guides[len(random_guides)-1],bad_rating))\n",
    "    \n",
    "    return ratings"
   ],
   "metadata": {
    "collapsed": false,
    "pycharm": {
     "name": "#%%\n"
    }
   }
  },
  {
   "cell_type": "markdown",
   "source": [
    "#### Data generation"
   ],
   "metadata": {
    "collapsed": false,
    "pycharm": {
     "name": "#%% md\n"
    }
   }
  },
  {
   "cell_type": "code",
   "execution_count": null,
   "outputs": [],
   "source": [
    "n_tourists = 200\n",
    "n_guides = 40"
   ],
   "metadata": {
    "collapsed": false,
    "pycharm": {
     "name": "#%%\n"
    }
   }
  },
  {
   "cell_type": "code",
   "execution_count": null,
   "outputs": [],
   "source": [
    "guides = [generate_guide() for _ in range(n_guides)]\n",
    "tourists = [generate_tourist() for _ in range(n_tourists)]"
   ],
   "metadata": {
    "collapsed": false,
    "pycharm": {
     "name": "#%%\n"
    }
   }
  },
  {
   "cell_type": "code",
   "execution_count": null,
   "outputs": [],
   "source": [
    "ratings = generate_rating(n_tourists,n_guides)"
   ],
   "metadata": {
    "collapsed": false,
    "pycharm": {
     "name": "#%%\n"
    }
   }
  },
  {
   "cell_type": "markdown",
   "source": [
    "Dataframes"
   ],
   "metadata": {
    "collapsed": false,
    "pycharm": {
     "name": "#%% md\n"
    }
   }
  },
  {
   "cell_type": "code",
   "execution_count": null,
   "outputs": [],
   "source": [
    "guide_df = pd.DataFrame(guides)\n",
    "guide_df"
   ],
   "metadata": {
    "collapsed": false,
    "pycharm": {
     "name": "#%%\n"
    }
   }
  },
  {
   "cell_type": "code",
   "execution_count": null,
   "outputs": [],
   "source": [
    "tourist_df = pd.DataFrame(tourists)\n",
    "tourist_df"
   ],
   "metadata": {
    "collapsed": false,
    "pycharm": {
     "name": "#%%\n"
    }
   }
  },
  {
   "cell_type": "code",
   "execution_count": null,
   "outputs": [],
   "source": [
    "rating_df = pd.DataFrame(ratings)"
   ],
   "metadata": {
    "collapsed": false,
    "pycharm": {
     "name": "#%%\n"
    }
   }
  },
  {
   "cell_type": "code",
   "execution_count": null,
   "outputs": [],
   "source": [
    "rating_df"
   ],
   "metadata": {
    "collapsed": false,
    "pycharm": {
     "name": "#%%\n"
    }
   }
  },
  {
   "cell_type": "code",
   "execution_count": null,
   "outputs": [],
   "source": [
    "tourist_df.to_csv(\"Data/tourists_{:d}.csv\".format(n_tourists), index=True, sep=';')\n",
    "guide_df.to_csv(\"Data/guides_{:d}.csv\".format(n_guides), index=True, sep=';')\n",
    "rating_df.to_csv('Data/ratings_{:d}_{:d}.csv'.format(n_tourists,n_guides), index=False, sep=';')"
   ],
   "metadata": {
    "collapsed": false,
    "pycharm": {
     "name": "#%%\n"
    }
   }
  },
  {
   "cell_type": "code",
   "execution_count": null,
   "outputs": [],
   "source": [],
   "metadata": {
    "collapsed": false,
    "pycharm": {
     "name": "#%%\n"
    }
   }
  }
 ],
 "metadata": {
  "kernelspec": {
   "display_name": "Python 3 (ipykernel)",
   "language": "python",
   "name": "python3"
  },
  "language_info": {
   "codemirror_mode": {
    "name": "ipython",
    "version": 3
   },
   "file_extension": ".py",
   "mimetype": "text/x-python",
   "name": "python",
   "nbconvert_exporter": "python",
   "pygments_lexer": "ipython3",
   "version": "3.9.12"
  }
 },
 "nbformat": 4,
 "nbformat_minor": 5
}
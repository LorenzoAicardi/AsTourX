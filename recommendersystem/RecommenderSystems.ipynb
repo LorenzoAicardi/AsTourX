{
 "cells": [
  {
   "cell_type": "code",
   "execution_count": 1,
   "id": "68dd0c0b-2c88-4503-bad1-e6ed2bf5f6e6",
   "metadata": {},
   "outputs": [],
   "source": [
    "keywords = [\n",
    "    'archeology',\n",
    "    'museums',\n",
    "    'music',\n",
    "    'art',\n",
    "    'cinema',\n",
    "    'countryside',\n",
    "    'tracking',\n",
    "    'rafting',\n",
    "    'history',\n",
    "    'literature',\n",
    "    'sport',\n",
    "    'food',\n",
    "    'wine',\n",
    "    'beer'\n",
    "]"
   ]
  },
  {
   "cell_type": "code",
   "execution_count": 2,
   "id": "552bc34f-023f-4ca4-b5d8-636c4c3c7b48",
   "metadata": {},
   "outputs": [],
   "source": [
    "def generate_guide():\n",
    "    guide = {}\n",
    "    guide['gender'] = np.random.choice(['male', 'female'], size=1).item()\n",
    "    guide['name'] = (faker.first_name_male() if guide['gender'] == 'male' else faker.first_name_female()) + ' ' + faker.last_name()\n",
    "    guide['birth_date'] = faker.date_of_birth()\n",
    "    guide['now_available'] = bool(np.random.binomial(1, 0.3))\n",
    "    guide['languages_spoken'] = list(np.random.choice(['english', 'italian', 'french', 'spanish', 'deutsche', 'dutch', 'bulgarian', 'chinese'], size=1+np.random.poisson(lam=1, size=1).item(), replace=False))\n",
    "    guide['price'] = int(max(10, np.abs(np.random.normal(30, 5))))\n",
    "    guide['education'] = np.random.choice(['elementary', 'high-school', 'bachelor', 'master', 'phd'], size=1).item()\n",
    "    guide['biography'] = faker.profile()['job']\n",
    "    guide['keywords'] = list(np.random.choice(keywords, size=np.random.poisson(2, size=1).item()))\n",
    "    guide['current_location'] = {\n",
    "        \"lat\": np.random.normal(40.3524, 0.01),\n",
    "        \"lon\": np.random.normal(18.1732, 0.01)\n",
    "    }\n",
    "    guide['experience'] = random.randint(1,10)\n",
    "    \n",
    "    return guide"
   ]
  },
  {
   "cell_type": "code",
   "execution_count": null,
   "id": "b8c1ccd7-2709-49b3-8dd0-cab33dd86d46",
   "metadata": {},
   "outputs": [],
   "source": [
    "# soft constraints used for computing the score and ranking\n",
    "list_soft_constraints = ['Rating','Experience','Cost','Distance']\n",
    "\n",
    "def generate_user():\n",
    "\n",
    "    user = {}\n",
    "\n",
    "    user['languages'] = random.sample(list_languages,random.randint(0,2))\n",
    "    user['keywords'] = list(np.random.choice(keywords, size=np.random.poisson(2, size=1).item()))\n",
    "    \n",
    "    return user"
   ]
  },
  {
   "cell_type": "code",
   "execution_count": null,
   "id": "39eb8c23-513b-47f9-a8c7-1616511ccff1",
   "metadata": {},
   "outputs": [],
   "source": []
  },
  {
   "cell_type": "code",
   "execution_count": 81,
   "id": "83e592d2-342d-456c-9fa2-fec104961dcb",
   "metadata": {},
   "outputs": [],
   "source": [
    "# users 100\n",
    "# tourists 20"
   ]
  },
  {
   "cell_type": "code",
   "execution_count": 368,
   "id": "09739215-e49a-4fdb-99f2-9b08d7715218",
   "metadata": {},
   "outputs": [],
   "source": [
    "import random \n",
    "\n",
    "def generate_rating (tourists, guides):\n",
    "    ratings = []\n",
    "    for i in range(tourists):\n",
    "\n",
    "        # random choose 1 or 2 guides to rate\n",
    "        for j in range(np.random.randint(1,3)):\n",
    "\n",
    "            #random choose 3 guides\n",
    "            random_guides = random.sample(range(guides),3)\n",
    "            rating = round(np.random.normal(loc=4, scale=0.5, size=1)[0],0)\n",
    "            ratings.append((i,random_guides[j],rating))\n",
    "        \n",
    "        if(np.random.binomial(1, 0.2)):\n",
    "            bad_rating = round(np.random.normal(loc=1.5, scale=0.3, size=1)[0],0)\n",
    "            # rate the last guide with bad rating\n",
    "            ratings.append((i,random_guides[len(random_guides)-1],bad_rating))\n",
    "    \n",
    "    return ratings"
   ]
  },
  {
   "cell_type": "code",
   "execution_count": 369,
   "id": "32e17e72-8c57-492f-817f-927c1344216a",
   "metadata": {},
   "outputs": [],
   "source": [
    "ratings = generate_rating(100,20)"
   ]
  },
  {
   "cell_type": "code",
   "execution_count": 371,
   "id": "d202c49a-60c9-4534-a1c6-8631ce02d99a",
   "metadata": {},
   "outputs": [
    {
     "data": {
      "text/html": [
       "<div>\n",
       "<style scoped>\n",
       "    .dataframe tbody tr th:only-of-type {\n",
       "        vertical-align: middle;\n",
       "    }\n",
       "\n",
       "    .dataframe tbody tr th {\n",
       "        vertical-align: top;\n",
       "    }\n",
       "\n",
       "    .dataframe thead th {\n",
       "        text-align: right;\n",
       "    }\n",
       "</style>\n",
       "<table border=\"1\" class=\"dataframe\">\n",
       "  <thead>\n",
       "    <tr style=\"text-align: right;\">\n",
       "      <th></th>\n",
       "      <th>0</th>\n",
       "      <th>1</th>\n",
       "      <th>2</th>\n",
       "    </tr>\n",
       "  </thead>\n",
       "  <tbody>\n",
       "    <tr>\n",
       "      <th>0</th>\n",
       "      <td>0</td>\n",
       "      <td>2</td>\n",
       "      <td>5.0</td>\n",
       "    </tr>\n",
       "    <tr>\n",
       "      <th>1</th>\n",
       "      <td>0</td>\n",
       "      <td>8</td>\n",
       "      <td>4.0</td>\n",
       "    </tr>\n",
       "    <tr>\n",
       "      <th>2</th>\n",
       "      <td>1</td>\n",
       "      <td>5</td>\n",
       "      <td>4.0</td>\n",
       "    </tr>\n",
       "    <tr>\n",
       "      <th>3</th>\n",
       "      <td>2</td>\n",
       "      <td>14</td>\n",
       "      <td>4.0</td>\n",
       "    </tr>\n",
       "    <tr>\n",
       "      <th>4</th>\n",
       "      <td>2</td>\n",
       "      <td>16</td>\n",
       "      <td>4.0</td>\n",
       "    </tr>\n",
       "    <tr>\n",
       "      <th>...</th>\n",
       "      <td>...</td>\n",
       "      <td>...</td>\n",
       "      <td>...</td>\n",
       "    </tr>\n",
       "    <tr>\n",
       "      <th>159</th>\n",
       "      <td>98</td>\n",
       "      <td>13</td>\n",
       "      <td>4.0</td>\n",
       "    </tr>\n",
       "    <tr>\n",
       "      <th>160</th>\n",
       "      <td>98</td>\n",
       "      <td>14</td>\n",
       "      <td>4.0</td>\n",
       "    </tr>\n",
       "    <tr>\n",
       "      <th>161</th>\n",
       "      <td>98</td>\n",
       "      <td>8</td>\n",
       "      <td>1.0</td>\n",
       "    </tr>\n",
       "    <tr>\n",
       "      <th>162</th>\n",
       "      <td>99</td>\n",
       "      <td>12</td>\n",
       "      <td>4.0</td>\n",
       "    </tr>\n",
       "    <tr>\n",
       "      <th>163</th>\n",
       "      <td>99</td>\n",
       "      <td>2</td>\n",
       "      <td>2.0</td>\n",
       "    </tr>\n",
       "  </tbody>\n",
       "</table>\n",
       "<p>164 rows × 3 columns</p>\n",
       "</div>"
      ],
      "text/plain": [
       "      0   1    2\n",
       "0     0   2  5.0\n",
       "1     0   8  4.0\n",
       "2     1   5  4.0\n",
       "3     2  14  4.0\n",
       "4     2  16  4.0\n",
       "..   ..  ..  ...\n",
       "159  98  13  4.0\n",
       "160  98  14  4.0\n",
       "161  98   8  1.0\n",
       "162  99  12  4.0\n",
       "163  99   2  2.0\n",
       "\n",
       "[164 rows x 3 columns]"
      ]
     },
     "execution_count": 371,
     "metadata": {},
     "output_type": "execute_result"
    }
   ],
   "source": [
    "import pandas as pd\n",
    "pd.DataFrame(ratings)"
   ]
  },
  {
   "cell_type": "code",
   "execution_count": null,
   "id": "dee91db3-9c09-476d-b005-aa6dabb4315d",
   "metadata": {},
   "outputs": [],
   "source": []
  },
  {
   "cell_type": "code",
   "execution_count": null,
   "id": "723992c0-e7a6-4b9f-a233-e318f7280773",
   "metadata": {},
   "outputs": [],
   "source": []
  },
  {
   "cell_type": "code",
   "execution_count": null,
   "id": "e9dc8714-0b50-491f-949a-db74e7e279ea",
   "metadata": {},
   "outputs": [],
   "source": []
  },
  {
   "cell_type": "code",
   "execution_count": null,
   "id": "850572bb-9b3f-4a71-bedd-312e0dc7c173",
   "metadata": {},
   "outputs": [],
   "source": []
  },
  {
   "cell_type": "code",
   "execution_count": null,
   "id": "1240c7f8-5f7a-4054-8f3e-8cc42d26705b",
   "metadata": {},
   "outputs": [],
   "source": []
  },
  {
   "cell_type": "code",
   "execution_count": null,
   "id": "4668227f-0ffd-4311-877a-c1c0f6060367",
   "metadata": {},
   "outputs": [],
   "source": []
  },
  {
   "cell_type": "code",
   "execution_count": null,
   "id": "c749b438-71ad-429a-b673-0788b1cb7bb8",
   "metadata": {},
   "outputs": [],
   "source": []
  },
  {
   "cell_type": "code",
   "execution_count": null,
   "id": "413ec075-da0b-410d-9f4c-e6ed72e7a0af",
   "metadata": {},
   "outputs": [],
   "source": []
  },
  {
   "cell_type": "code",
   "execution_count": null,
   "id": "5e0d2ea5-f3bb-4887-bc11-0f05d54a5f40",
   "metadata": {},
   "outputs": [],
   "source": []
  },
  {
   "cell_type": "code",
   "execution_count": null,
   "id": "359f979d-401f-4e31-802d-51767180d290",
   "metadata": {},
   "outputs": [],
   "source": []
  },
  {
   "cell_type": "code",
   "execution_count": null,
   "id": "df4754f0-ee42-4a15-8703-817a0223a8fe",
   "metadata": {},
   "outputs": [],
   "source": []
  },
  {
   "cell_type": "code",
   "execution_count": null,
   "id": "772f6055-4cc4-4e1f-9f85-0759c1af83ef",
   "metadata": {},
   "outputs": [],
   "source": []
  }
 ],
 "metadata": {
  "kernelspec": {
   "display_name": "Python 3 (ipykernel)",
   "language": "python",
   "name": "python3"
  },
  "language_info": {
   "codemirror_mode": {
    "name": "ipython",
    "version": 3
   },
   "file_extension": ".py",
   "mimetype": "text/x-python",
   "name": "python",
   "nbconvert_exporter": "python",
   "pygments_lexer": "ipython3",
   "version": "3.11.5"
  }
 },
 "nbformat": 4,
 "nbformat_minor": 5
}

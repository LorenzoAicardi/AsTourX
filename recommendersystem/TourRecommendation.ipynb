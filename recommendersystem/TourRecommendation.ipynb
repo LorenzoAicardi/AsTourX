{
 "cells": [
  {
   "cell_type": "markdown",
   "id": "25a69c6c",
   "metadata": {
    "pycharm": {
     "name": "#%% md\n"
    }
   },
   "source": [
    "# Tour Recommendation Pipeline\n",
    "The system proposes to match the tourists with some tours published by guides, according to the users' preferences and requests.\n",
    "\n",
    "The tour recommendation system uses datasets of:\n",
    "- Ratings given by tourists to specific tours;\n",
    "- Set of attributes about the tours."
   ]
  },
  {
   "cell_type": "markdown",
   "id": "a04247e2",
   "metadata": {
    "pycharm": {
     "name": "#%% md\n"
    }
   },
   "source": [
    "## Define working environment"
   ]
  },
  {
   "cell_type": "code",
   "execution_count": 57,
   "id": "8738f9e9",
   "metadata": {
    "pycharm": {
     "name": "#%%\n"
    }
   },
   "outputs": [],
   "source": [
    "# Import libraries\n",
    "\n",
    "import numpy as np\n",
    "import pandas as pd\n",
    "import scipy.sparse as sps\n",
    "import matplotlib.pyplot as pyplot\n",
    "import ast\n",
    "\n",
    "from tqdm import tqdm"
   ]
  },
  {
   "cell_type": "markdown",
   "id": "cba01366",
   "metadata": {
    "pycharm": {
     "name": "#%% md\n"
    }
   },
   "source": [
    "## Load and preprocess data\n",
    "\n",
    "In this part we are loading the previously generated dataframes:\n",
    "- tourists.csv with the id, languages spoken, and keywords of the tourists.\n",
    "- guides.csv with various attributes of the guides.\n",
    "- ratings.csv which contains the tourist-guide interactions.\n"
   ]
  },
  {
   "cell_type": "code",
   "execution_count": 58,
   "id": "f7455c74",
   "metadata": {
    "pycharm": {
     "name": "#%%\n"
    }
   },
   "outputs": [
    {
     "data": {
      "text/plain": "      id      languages                                           keywords\n0      0  ['bulgarian']  ['beer', 'sport', 'cinema', 'tracking', 'rafti...\n1      1  ['bulgarian']                    ['history', 'food', 'tracking']\n2      2    ['spanish']  ['tracking', 'cinema', 'wine', 'literature', '...\n3      3   ['deutsche']                              ['sport', 'tracking']\n4      4    ['spanish']  ['beer', 'tracking', 'food', 'literature', 'sp...\n..   ...            ...                                                ...\n195  195    ['italian']  ['museums', 'cinema', 'literature', 'history',...\n196  196      ['dutch']  ['wine', 'countryside', 'museums', 'art', 'raf...\n197  197    ['italian']  ['rafting', 'archeology', 'art', 'museums', 'b...\n198  198    ['italian']  ['music', 'art', 'museums', 'history', 'food',...\n199  199    ['spanish']  ['beer', 'cinema', 'tracking', 'archeology', '...\n\n[200 rows x 3 columns]",
      "text/html": "<div>\n<style scoped>\n    .dataframe tbody tr th:only-of-type {\n        vertical-align: middle;\n    }\n\n    .dataframe tbody tr th {\n        vertical-align: top;\n    }\n\n    .dataframe thead th {\n        text-align: right;\n    }\n</style>\n<table border=\"1\" class=\"dataframe\">\n  <thead>\n    <tr style=\"text-align: right;\">\n      <th></th>\n      <th>id</th>\n      <th>languages</th>\n      <th>keywords</th>\n    </tr>\n  </thead>\n  <tbody>\n    <tr>\n      <th>0</th>\n      <td>0</td>\n      <td>['bulgarian']</td>\n      <td>['beer', 'sport', 'cinema', 'tracking', 'rafti...</td>\n    </tr>\n    <tr>\n      <th>1</th>\n      <td>1</td>\n      <td>['bulgarian']</td>\n      <td>['history', 'food', 'tracking']</td>\n    </tr>\n    <tr>\n      <th>2</th>\n      <td>2</td>\n      <td>['spanish']</td>\n      <td>['tracking', 'cinema', 'wine', 'literature', '...</td>\n    </tr>\n    <tr>\n      <th>3</th>\n      <td>3</td>\n      <td>['deutsche']</td>\n      <td>['sport', 'tracking']</td>\n    </tr>\n    <tr>\n      <th>4</th>\n      <td>4</td>\n      <td>['spanish']</td>\n      <td>['beer', 'tracking', 'food', 'literature', 'sp...</td>\n    </tr>\n    <tr>\n      <th>...</th>\n      <td>...</td>\n      <td>...</td>\n      <td>...</td>\n    </tr>\n    <tr>\n      <th>195</th>\n      <td>195</td>\n      <td>['italian']</td>\n      <td>['museums', 'cinema', 'literature', 'history',...</td>\n    </tr>\n    <tr>\n      <th>196</th>\n      <td>196</td>\n      <td>['dutch']</td>\n      <td>['wine', 'countryside', 'museums', 'art', 'raf...</td>\n    </tr>\n    <tr>\n      <th>197</th>\n      <td>197</td>\n      <td>['italian']</td>\n      <td>['rafting', 'archeology', 'art', 'museums', 'b...</td>\n    </tr>\n    <tr>\n      <th>198</th>\n      <td>198</td>\n      <td>['italian']</td>\n      <td>['music', 'art', 'museums', 'history', 'food',...</td>\n    </tr>\n    <tr>\n      <th>199</th>\n      <td>199</td>\n      <td>['spanish']</td>\n      <td>['beer', 'cinema', 'tracking', 'archeology', '...</td>\n    </tr>\n  </tbody>\n</table>\n<p>200 rows × 3 columns</p>\n</div>"
     },
     "execution_count": 58,
     "metadata": {},
     "output_type": "execute_result"
    }
   ],
   "source": [
    "# Load dataframe for tourist attributes\n",
    "\n",
    "tourist_file = open('Data/tourists_200.csv')\n",
    "\n",
    "tourist_df = pd.read_csv(\n",
    "    filepath_or_buffer = tourist_file,\n",
    "    sep = ';',\n",
    "    header = 0\n",
    ")\n",
    "\n",
    "tourist_df.rename(columns={tourist_df.columns[0]: 'id'}, inplace=True)\n",
    "\n",
    "tourist_df"
   ]
  },
  {
   "cell_type": "code",
   "execution_count": 59,
   "id": "af9da72b",
   "metadata": {
    "pycharm": {
     "name": "#%%\n"
    },
    "scrolled": true
   },
   "outputs": [
    {
     "data": {
      "text/plain": "    id  guide                               languages   city  \\\n0    0      0                               [english]  Lecce   \n1    1      1                        [italian, dutch]  Lecce   \n2    2      2              [chinese, french, english]  Lecce   \n3    3      3                             [bulgarian]  Lecce   \n4    4      4                      [deutsche, french]  Lecce   \n5    5      5            [deutsche, dutch, bulgarian]  Lecce   \n6    6      6              [english, chinese, french]  Lecce   \n7    7      7       [spanish, dutch, french, italian]  Lecce   \n8    8      8           [bulgarian, english, chinese]  Lecce   \n9    9      9    [chinese, bulgarian, dutch, english]  Lecce   \n10  10     10                   [bulgarian, deutsche]  Lecce   \n11  11     11                             [bulgarian]  Lecce   \n12  12     12                [dutch, french, italian]  Lecce   \n13  13     13                      [chinese, english]  Lecce   \n14  14     14                       [chinese, french]  Lecce   \n15  15     15                     [deutsche, chinese]  Lecce   \n16  16     16            [spanish, bulgarian, french]  Lecce   \n17  17     17                                 [dutch]  Lecce   \n18  18     18                        [italian, dutch]  Lecce   \n19  19     19          [bulgarian, deutsche, english]  Lecce   \n20  20     20                      [deutsche, french]  Lecce   \n21  21     21                               [chinese]  Lecce   \n22  22     22                      [chinese, spanish]  Lecce   \n23  23     23           [english, italian, bulgarian]  Lecce   \n24  24     24             [dutch, italian, bulgarian]  Lecce   \n25  25     25                             [bulgarian]  Lecce   \n26  26     26                                 [dutch]  Lecce   \n27  27     27                               [italian]  Lecce   \n28  28     28                               [spanish]  Lecce   \n29  29     29                    [bulgarian, chinese]  Lecce   \n30  30     30             [french, deutsche, english]  Lecce   \n31  31     31             [deutsche, french, english]  Lecce   \n32  32     32                     [french, bulgarian]  Lecce   \n33  33     33                                [french]  Lecce   \n34  34     34  [chinese, spanish, bulgarian, italian]  Lecce   \n35  35     35                       [italian, french]  Lecce   \n36  36     36                               [spanish]  Lecce   \n37  37     37                                 [dutch]  Lecce   \n38  38     38                               [italian]  Lecce   \n39  39     39                        [spanish, dutch]  Lecce   \n\n                                          attractions  \\\n0               [Church of San Matteo, Roman Theatre]   \n1               [Piazza Sant'Oronzo, Torre del Parco]   \n2         [Colonna di Sant'Oronzo, Celestine Convent]   \n3                                    [Museo Faggiano]   \n4            [Palazzo Carafa, Church of Santa Chiara]   \n5   [Villa Comunale di Lecce, Church of San Matteo...   \n6            [Torre del Parco, Palazzo dei Celestini]   \n7             [Museo Faggiano, Palazzo dei Celestini]   \n8       [Piazza Sant'Oronzo, Villa Comunale di Lecce]   \n9                                 [Celestine Convent]   \n10  [San Giovanni Battista Church, Roman Theatre, ...   \n11                            [Palazzo dei Celestini]   \n12  [Celestine Convent, San Giovanni Battista Chur...   \n13                               [Piazza Sant'Oronzo]   \n14                                   [Museo Faggiano]   \n15                      [Porta Napoli, Roman Theatre]   \n16                                    [Roman Theatre]   \n17     [Museo Faggiano, San Giovanni Battista Church]   \n18         [Torre del Parco, Basilica di Santa Croce]   \n19  [Piazza Sant'Oronzo, Porta Napoli, Church of S...   \n20            [Palazzo Carafa, Palazzo dei Celestini]   \n21  [Church of San Francesco della Scarpa, Museo F...   \n22  [Church of San Matteo, Villa Comunale di Lecce...   \n23                                     [Porta Napoli]   \n24           [Basilica di Santa Croce, Roman Theatre]   \n25  [Lecce Cathedral, Church of Santa Chiara, Pala...   \n26  [Church of San Francesco della Scarpa, Colonna...   \n27            [Basilica di Santa Croce, Porta Napoli]   \n28  [Church of San Francesco della Scarpa, Museo F...   \n29          [Roman Amphitheatre, Castello di Carlo V]   \n30  [Lecce Cathedral, Torre del Parco, Piazza Sant...   \n31                            [Palazzo dei Celestini]   \n32                            [Palazzo dei Celestini]   \n33                                  [Lecce Cathedral]   \n34             [Church of San Francesco della Scarpa]   \n35  [Porta Napoli, Museo Faggiano, San Giovanni Ba...   \n36  [Lecce Cathedral, Church of San Matteo, Roman ...   \n37  [Church of Santa Chiara, Church of San Frances...   \n38  [San Giovanni Battista Church, Piazza Sant'Oro...   \n39            [Porta Napoli, Villa Comunale di Lecce]   \n\n                              keywords  price        date  duration  \n0             [archeology, literature]     38  2024-06-27        12  \n1                       [art, history]     27  2024-06-02        11  \n2                    [art, literature]     29  2024-06-09        12  \n3                            [museums]     30  2024-06-26         9  \n4                [history, literature]     30  2024-06-03        11  \n5   [countryside, literature, museums]     35  2024-06-29        11  \n6                            [history]     37  2024-06-17        12  \n7                   [history, museums]     28  2024-06-29         7  \n8                   [art, countryside]     38  2024-06-28        10  \n9                         [literature]     34  2024-07-01         7  \n10   [archeology, history, literature]     19  2024-06-10        11  \n11                           [history]     28  2024-06-16         8  \n12                        [literature]     27  2024-06-26         8  \n13                               [art]     36  2024-06-16         6  \n14                           [museums]     23  2024-06-14        10  \n15                   [archeology, art]     31  2024-06-22         5  \n16                        [archeology]     37  2024-06-29         9  \n17               [literature, museums]     17  2024-06-09         9  \n18                           [history]     19  2024-06-16         6  \n19                   [art, literature]     29  2024-06-26        12  \n20                           [history]     35  2024-06-22         9  \n21               [literature, museums]     24  2024-06-14         6  \n22  [countryside, history, literature]     27  2024-06-13         9  \n23                               [art]     29  2024-06-05         9  \n24               [archeology, history]     37  2024-06-29        12  \n25               [history, literature]     23  2024-06-01         9  \n26                   [art, literature]     27  2024-06-29         8  \n27                      [art, history]     36  2024-06-12         7  \n28               [literature, museums]     28  2024-06-14         5  \n29               [archeology, history]     32  2024-06-10         6  \n30          [art, history, literature]     26  2024-06-06         5  \n31                           [history]     17  2024-06-05         8  \n32                           [history]     27  2024-06-12         6  \n33                        [literature]     33  2024-06-23        10  \n34                        [literature]     26  2024-06-16        12  \n35          [art, literature, museums]     36  2024-06-06        12  \n36            [archeology, literature]     24  2024-06-25        10  \n37                        [literature]     36  2024-06-05         6  \n38                   [art, literature]     27  2024-06-09        11  \n39                  [art, countryside]     19  2024-06-11         5  ",
      "text/html": "<div>\n<style scoped>\n    .dataframe tbody tr th:only-of-type {\n        vertical-align: middle;\n    }\n\n    .dataframe tbody tr th {\n        vertical-align: top;\n    }\n\n    .dataframe thead th {\n        text-align: right;\n    }\n</style>\n<table border=\"1\" class=\"dataframe\">\n  <thead>\n    <tr style=\"text-align: right;\">\n      <th></th>\n      <th>id</th>\n      <th>guide</th>\n      <th>languages</th>\n      <th>city</th>\n      <th>attractions</th>\n      <th>keywords</th>\n      <th>price</th>\n      <th>date</th>\n      <th>duration</th>\n    </tr>\n  </thead>\n  <tbody>\n    <tr>\n      <th>0</th>\n      <td>0</td>\n      <td>0</td>\n      <td>[english]</td>\n      <td>Lecce</td>\n      <td>[Church of San Matteo, Roman Theatre]</td>\n      <td>[archeology, literature]</td>\n      <td>38</td>\n      <td>2024-06-27</td>\n      <td>12</td>\n    </tr>\n    <tr>\n      <th>1</th>\n      <td>1</td>\n      <td>1</td>\n      <td>[italian, dutch]</td>\n      <td>Lecce</td>\n      <td>[Piazza Sant'Oronzo, Torre del Parco]</td>\n      <td>[art, history]</td>\n      <td>27</td>\n      <td>2024-06-02</td>\n      <td>11</td>\n    </tr>\n    <tr>\n      <th>2</th>\n      <td>2</td>\n      <td>2</td>\n      <td>[chinese, french, english]</td>\n      <td>Lecce</td>\n      <td>[Colonna di Sant'Oronzo, Celestine Convent]</td>\n      <td>[art, literature]</td>\n      <td>29</td>\n      <td>2024-06-09</td>\n      <td>12</td>\n    </tr>\n    <tr>\n      <th>3</th>\n      <td>3</td>\n      <td>3</td>\n      <td>[bulgarian]</td>\n      <td>Lecce</td>\n      <td>[Museo Faggiano]</td>\n      <td>[museums]</td>\n      <td>30</td>\n      <td>2024-06-26</td>\n      <td>9</td>\n    </tr>\n    <tr>\n      <th>4</th>\n      <td>4</td>\n      <td>4</td>\n      <td>[deutsche, french]</td>\n      <td>Lecce</td>\n      <td>[Palazzo Carafa, Church of Santa Chiara]</td>\n      <td>[history, literature]</td>\n      <td>30</td>\n      <td>2024-06-03</td>\n      <td>11</td>\n    </tr>\n    <tr>\n      <th>5</th>\n      <td>5</td>\n      <td>5</td>\n      <td>[deutsche, dutch, bulgarian]</td>\n      <td>Lecce</td>\n      <td>[Villa Comunale di Lecce, Church of San Matteo...</td>\n      <td>[countryside, literature, museums]</td>\n      <td>35</td>\n      <td>2024-06-29</td>\n      <td>11</td>\n    </tr>\n    <tr>\n      <th>6</th>\n      <td>6</td>\n      <td>6</td>\n      <td>[english, chinese, french]</td>\n      <td>Lecce</td>\n      <td>[Torre del Parco, Palazzo dei Celestini]</td>\n      <td>[history]</td>\n      <td>37</td>\n      <td>2024-06-17</td>\n      <td>12</td>\n    </tr>\n    <tr>\n      <th>7</th>\n      <td>7</td>\n      <td>7</td>\n      <td>[spanish, dutch, french, italian]</td>\n      <td>Lecce</td>\n      <td>[Museo Faggiano, Palazzo dei Celestini]</td>\n      <td>[history, museums]</td>\n      <td>28</td>\n      <td>2024-06-29</td>\n      <td>7</td>\n    </tr>\n    <tr>\n      <th>8</th>\n      <td>8</td>\n      <td>8</td>\n      <td>[bulgarian, english, chinese]</td>\n      <td>Lecce</td>\n      <td>[Piazza Sant'Oronzo, Villa Comunale di Lecce]</td>\n      <td>[art, countryside]</td>\n      <td>38</td>\n      <td>2024-06-28</td>\n      <td>10</td>\n    </tr>\n    <tr>\n      <th>9</th>\n      <td>9</td>\n      <td>9</td>\n      <td>[chinese, bulgarian, dutch, english]</td>\n      <td>Lecce</td>\n      <td>[Celestine Convent]</td>\n      <td>[literature]</td>\n      <td>34</td>\n      <td>2024-07-01</td>\n      <td>7</td>\n    </tr>\n    <tr>\n      <th>10</th>\n      <td>10</td>\n      <td>10</td>\n      <td>[bulgarian, deutsche]</td>\n      <td>Lecce</td>\n      <td>[San Giovanni Battista Church, Roman Theatre, ...</td>\n      <td>[archeology, history, literature]</td>\n      <td>19</td>\n      <td>2024-06-10</td>\n      <td>11</td>\n    </tr>\n    <tr>\n      <th>11</th>\n      <td>11</td>\n      <td>11</td>\n      <td>[bulgarian]</td>\n      <td>Lecce</td>\n      <td>[Palazzo dei Celestini]</td>\n      <td>[history]</td>\n      <td>28</td>\n      <td>2024-06-16</td>\n      <td>8</td>\n    </tr>\n    <tr>\n      <th>12</th>\n      <td>12</td>\n      <td>12</td>\n      <td>[dutch, french, italian]</td>\n      <td>Lecce</td>\n      <td>[Celestine Convent, San Giovanni Battista Chur...</td>\n      <td>[literature]</td>\n      <td>27</td>\n      <td>2024-06-26</td>\n      <td>8</td>\n    </tr>\n    <tr>\n      <th>13</th>\n      <td>13</td>\n      <td>13</td>\n      <td>[chinese, english]</td>\n      <td>Lecce</td>\n      <td>[Piazza Sant'Oronzo]</td>\n      <td>[art]</td>\n      <td>36</td>\n      <td>2024-06-16</td>\n      <td>6</td>\n    </tr>\n    <tr>\n      <th>14</th>\n      <td>14</td>\n      <td>14</td>\n      <td>[chinese, french]</td>\n      <td>Lecce</td>\n      <td>[Museo Faggiano]</td>\n      <td>[museums]</td>\n      <td>23</td>\n      <td>2024-06-14</td>\n      <td>10</td>\n    </tr>\n    <tr>\n      <th>15</th>\n      <td>15</td>\n      <td>15</td>\n      <td>[deutsche, chinese]</td>\n      <td>Lecce</td>\n      <td>[Porta Napoli, Roman Theatre]</td>\n      <td>[archeology, art]</td>\n      <td>31</td>\n      <td>2024-06-22</td>\n      <td>5</td>\n    </tr>\n    <tr>\n      <th>16</th>\n      <td>16</td>\n      <td>16</td>\n      <td>[spanish, bulgarian, french]</td>\n      <td>Lecce</td>\n      <td>[Roman Theatre]</td>\n      <td>[archeology]</td>\n      <td>37</td>\n      <td>2024-06-29</td>\n      <td>9</td>\n    </tr>\n    <tr>\n      <th>17</th>\n      <td>17</td>\n      <td>17</td>\n      <td>[dutch]</td>\n      <td>Lecce</td>\n      <td>[Museo Faggiano, San Giovanni Battista Church]</td>\n      <td>[literature, museums]</td>\n      <td>17</td>\n      <td>2024-06-09</td>\n      <td>9</td>\n    </tr>\n    <tr>\n      <th>18</th>\n      <td>18</td>\n      <td>18</td>\n      <td>[italian, dutch]</td>\n      <td>Lecce</td>\n      <td>[Torre del Parco, Basilica di Santa Croce]</td>\n      <td>[history]</td>\n      <td>19</td>\n      <td>2024-06-16</td>\n      <td>6</td>\n    </tr>\n    <tr>\n      <th>19</th>\n      <td>19</td>\n      <td>19</td>\n      <td>[bulgarian, deutsche, english]</td>\n      <td>Lecce</td>\n      <td>[Piazza Sant'Oronzo, Porta Napoli, Church of S...</td>\n      <td>[art, literature]</td>\n      <td>29</td>\n      <td>2024-06-26</td>\n      <td>12</td>\n    </tr>\n    <tr>\n      <th>20</th>\n      <td>20</td>\n      <td>20</td>\n      <td>[deutsche, french]</td>\n      <td>Lecce</td>\n      <td>[Palazzo Carafa, Palazzo dei Celestini]</td>\n      <td>[history]</td>\n      <td>35</td>\n      <td>2024-06-22</td>\n      <td>9</td>\n    </tr>\n    <tr>\n      <th>21</th>\n      <td>21</td>\n      <td>21</td>\n      <td>[chinese]</td>\n      <td>Lecce</td>\n      <td>[Church of San Francesco della Scarpa, Museo F...</td>\n      <td>[literature, museums]</td>\n      <td>24</td>\n      <td>2024-06-14</td>\n      <td>6</td>\n    </tr>\n    <tr>\n      <th>22</th>\n      <td>22</td>\n      <td>22</td>\n      <td>[chinese, spanish]</td>\n      <td>Lecce</td>\n      <td>[Church of San Matteo, Villa Comunale di Lecce...</td>\n      <td>[countryside, history, literature]</td>\n      <td>27</td>\n      <td>2024-06-13</td>\n      <td>9</td>\n    </tr>\n    <tr>\n      <th>23</th>\n      <td>23</td>\n      <td>23</td>\n      <td>[english, italian, bulgarian]</td>\n      <td>Lecce</td>\n      <td>[Porta Napoli]</td>\n      <td>[art]</td>\n      <td>29</td>\n      <td>2024-06-05</td>\n      <td>9</td>\n    </tr>\n    <tr>\n      <th>24</th>\n      <td>24</td>\n      <td>24</td>\n      <td>[dutch, italian, bulgarian]</td>\n      <td>Lecce</td>\n      <td>[Basilica di Santa Croce, Roman Theatre]</td>\n      <td>[archeology, history]</td>\n      <td>37</td>\n      <td>2024-06-29</td>\n      <td>12</td>\n    </tr>\n    <tr>\n      <th>25</th>\n      <td>25</td>\n      <td>25</td>\n      <td>[bulgarian]</td>\n      <td>Lecce</td>\n      <td>[Lecce Cathedral, Church of Santa Chiara, Pala...</td>\n      <td>[history, literature]</td>\n      <td>23</td>\n      <td>2024-06-01</td>\n      <td>9</td>\n    </tr>\n    <tr>\n      <th>26</th>\n      <td>26</td>\n      <td>26</td>\n      <td>[dutch]</td>\n      <td>Lecce</td>\n      <td>[Church of San Francesco della Scarpa, Colonna...</td>\n      <td>[art, literature]</td>\n      <td>27</td>\n      <td>2024-06-29</td>\n      <td>8</td>\n    </tr>\n    <tr>\n      <th>27</th>\n      <td>27</td>\n      <td>27</td>\n      <td>[italian]</td>\n      <td>Lecce</td>\n      <td>[Basilica di Santa Croce, Porta Napoli]</td>\n      <td>[art, history]</td>\n      <td>36</td>\n      <td>2024-06-12</td>\n      <td>7</td>\n    </tr>\n    <tr>\n      <th>28</th>\n      <td>28</td>\n      <td>28</td>\n      <td>[spanish]</td>\n      <td>Lecce</td>\n      <td>[Church of San Francesco della Scarpa, Museo F...</td>\n      <td>[literature, museums]</td>\n      <td>28</td>\n      <td>2024-06-14</td>\n      <td>5</td>\n    </tr>\n    <tr>\n      <th>29</th>\n      <td>29</td>\n      <td>29</td>\n      <td>[bulgarian, chinese]</td>\n      <td>Lecce</td>\n      <td>[Roman Amphitheatre, Castello di Carlo V]</td>\n      <td>[archeology, history]</td>\n      <td>32</td>\n      <td>2024-06-10</td>\n      <td>6</td>\n    </tr>\n    <tr>\n      <th>30</th>\n      <td>30</td>\n      <td>30</td>\n      <td>[french, deutsche, english]</td>\n      <td>Lecce</td>\n      <td>[Lecce Cathedral, Torre del Parco, Piazza Sant...</td>\n      <td>[art, history, literature]</td>\n      <td>26</td>\n      <td>2024-06-06</td>\n      <td>5</td>\n    </tr>\n    <tr>\n      <th>31</th>\n      <td>31</td>\n      <td>31</td>\n      <td>[deutsche, french, english]</td>\n      <td>Lecce</td>\n      <td>[Palazzo dei Celestini]</td>\n      <td>[history]</td>\n      <td>17</td>\n      <td>2024-06-05</td>\n      <td>8</td>\n    </tr>\n    <tr>\n      <th>32</th>\n      <td>32</td>\n      <td>32</td>\n      <td>[french, bulgarian]</td>\n      <td>Lecce</td>\n      <td>[Palazzo dei Celestini]</td>\n      <td>[history]</td>\n      <td>27</td>\n      <td>2024-06-12</td>\n      <td>6</td>\n    </tr>\n    <tr>\n      <th>33</th>\n      <td>33</td>\n      <td>33</td>\n      <td>[french]</td>\n      <td>Lecce</td>\n      <td>[Lecce Cathedral]</td>\n      <td>[literature]</td>\n      <td>33</td>\n      <td>2024-06-23</td>\n      <td>10</td>\n    </tr>\n    <tr>\n      <th>34</th>\n      <td>34</td>\n      <td>34</td>\n      <td>[chinese, spanish, bulgarian, italian]</td>\n      <td>Lecce</td>\n      <td>[Church of San Francesco della Scarpa]</td>\n      <td>[literature]</td>\n      <td>26</td>\n      <td>2024-06-16</td>\n      <td>12</td>\n    </tr>\n    <tr>\n      <th>35</th>\n      <td>35</td>\n      <td>35</td>\n      <td>[italian, french]</td>\n      <td>Lecce</td>\n      <td>[Porta Napoli, Museo Faggiano, San Giovanni Ba...</td>\n      <td>[art, literature, museums]</td>\n      <td>36</td>\n      <td>2024-06-06</td>\n      <td>12</td>\n    </tr>\n    <tr>\n      <th>36</th>\n      <td>36</td>\n      <td>36</td>\n      <td>[spanish]</td>\n      <td>Lecce</td>\n      <td>[Lecce Cathedral, Church of San Matteo, Roman ...</td>\n      <td>[archeology, literature]</td>\n      <td>24</td>\n      <td>2024-06-25</td>\n      <td>10</td>\n    </tr>\n    <tr>\n      <th>37</th>\n      <td>37</td>\n      <td>37</td>\n      <td>[dutch]</td>\n      <td>Lecce</td>\n      <td>[Church of Santa Chiara, Church of San Frances...</td>\n      <td>[literature]</td>\n      <td>36</td>\n      <td>2024-06-05</td>\n      <td>6</td>\n    </tr>\n    <tr>\n      <th>38</th>\n      <td>38</td>\n      <td>38</td>\n      <td>[italian]</td>\n      <td>Lecce</td>\n      <td>[San Giovanni Battista Church, Piazza Sant'Oro...</td>\n      <td>[art, literature]</td>\n      <td>27</td>\n      <td>2024-06-09</td>\n      <td>11</td>\n    </tr>\n    <tr>\n      <th>39</th>\n      <td>39</td>\n      <td>39</td>\n      <td>[spanish, dutch]</td>\n      <td>Lecce</td>\n      <td>[Porta Napoli, Villa Comunale di Lecce]</td>\n      <td>[art, countryside]</td>\n      <td>19</td>\n      <td>2024-06-11</td>\n      <td>5</td>\n    </tr>\n  </tbody>\n</table>\n</div>"
     },
     "execution_count": 59,
     "metadata": {},
     "output_type": "execute_result"
    }
   ],
   "source": [
    "# Load dataframe for guide attributes\n",
    "\n",
    "tour_file = open('Data/tours_40.csv')\n",
    "\n",
    "tour_df = pd.read_csv(\n",
    "    filepath_or_buffer = tour_file,\n",
    "    sep = ';',\n",
    "    header = 0,\n",
    "    converters = {'languages':ast.literal_eval, 'keywords':ast.literal_eval, 'attractions':ast.literal_eval}\n",
    ")\n",
    "\n",
    "tour_df.rename(columns={tour_df.columns[0]: 'id'}, inplace=True)\n",
    "\n",
    "tour_df"
   ]
  },
  {
   "cell_type": "code",
   "execution_count": 60,
   "id": "eb93bf83",
   "metadata": {
    "pycharm": {
     "name": "#%%\n"
    }
   },
   "outputs": [
    {
     "data": {
      "text/plain": "       0   1    2\n0      0   1  4.0\n1      1  24  5.0\n2      2  20  5.0\n3      2  24  3.0\n4      4  30  4.0\n..   ...  ..  ...\n257  197  35  4.0\n258  197   1  4.0\n259  198   1  5.0\n260  199  29  5.0\n261  199  24  4.0\n\n[262 rows x 3 columns]",
      "text/html": "<div>\n<style scoped>\n    .dataframe tbody tr th:only-of-type {\n        vertical-align: middle;\n    }\n\n    .dataframe tbody tr th {\n        vertical-align: top;\n    }\n\n    .dataframe thead th {\n        text-align: right;\n    }\n</style>\n<table border=\"1\" class=\"dataframe\">\n  <thead>\n    <tr style=\"text-align: right;\">\n      <th></th>\n      <th>0</th>\n      <th>1</th>\n      <th>2</th>\n    </tr>\n  </thead>\n  <tbody>\n    <tr>\n      <th>0</th>\n      <td>0</td>\n      <td>1</td>\n      <td>4.0</td>\n    </tr>\n    <tr>\n      <th>1</th>\n      <td>1</td>\n      <td>24</td>\n      <td>5.0</td>\n    </tr>\n    <tr>\n      <th>2</th>\n      <td>2</td>\n      <td>20</td>\n      <td>5.0</td>\n    </tr>\n    <tr>\n      <th>3</th>\n      <td>2</td>\n      <td>24</td>\n      <td>3.0</td>\n    </tr>\n    <tr>\n      <th>4</th>\n      <td>4</td>\n      <td>30</td>\n      <td>4.0</td>\n    </tr>\n    <tr>\n      <th>...</th>\n      <td>...</td>\n      <td>...</td>\n      <td>...</td>\n    </tr>\n    <tr>\n      <th>257</th>\n      <td>197</td>\n      <td>35</td>\n      <td>4.0</td>\n    </tr>\n    <tr>\n      <th>258</th>\n      <td>197</td>\n      <td>1</td>\n      <td>4.0</td>\n    </tr>\n    <tr>\n      <th>259</th>\n      <td>198</td>\n      <td>1</td>\n      <td>5.0</td>\n    </tr>\n    <tr>\n      <th>260</th>\n      <td>199</td>\n      <td>29</td>\n      <td>5.0</td>\n    </tr>\n    <tr>\n      <th>261</th>\n      <td>199</td>\n      <td>24</td>\n      <td>4.0</td>\n    </tr>\n  </tbody>\n</table>\n<p>262 rows × 3 columns</p>\n</div>"
     },
     "execution_count": 60,
     "metadata": {},
     "output_type": "execute_result"
    }
   ],
   "source": [
    "# Load dataframe for ratings\n",
    "\n",
    "rating_file = open('Data/tours_ratings_200_40.csv')\n",
    "\n",
    "rating_df = pd.read_csv(\n",
    "    filepath_or_buffer = rating_file,\n",
    "    sep = ';',\n",
    "    header = 0\n",
    ")\n",
    "\n",
    "rating_df"
   ]
  },
  {
   "cell_type": "code",
   "execution_count": 61,
   "id": "1570a729",
   "metadata": {
    "pycharm": {
     "name": "#%%\n"
    }
   },
   "outputs": [
    {
     "data": {
      "text/plain": "     tourist_id  tour_id  rating\n0             0        1     4.0\n1             1       24     5.0\n2             2       20     5.0\n3             2       24     3.0\n4             4       30     4.0\n..          ...      ...     ...\n257         197       35     4.0\n258         197        1     4.0\n259         198        1     5.0\n260         199       29     5.0\n261         199       24     4.0\n\n[262 rows x 3 columns]",
      "text/html": "<div>\n<style scoped>\n    .dataframe tbody tr th:only-of-type {\n        vertical-align: middle;\n    }\n\n    .dataframe tbody tr th {\n        vertical-align: top;\n    }\n\n    .dataframe thead th {\n        text-align: right;\n    }\n</style>\n<table border=\"1\" class=\"dataframe\">\n  <thead>\n    <tr style=\"text-align: right;\">\n      <th></th>\n      <th>tourist_id</th>\n      <th>tour_id</th>\n      <th>rating</th>\n    </tr>\n  </thead>\n  <tbody>\n    <tr>\n      <th>0</th>\n      <td>0</td>\n      <td>1</td>\n      <td>4.0</td>\n    </tr>\n    <tr>\n      <th>1</th>\n      <td>1</td>\n      <td>24</td>\n      <td>5.0</td>\n    </tr>\n    <tr>\n      <th>2</th>\n      <td>2</td>\n      <td>20</td>\n      <td>5.0</td>\n    </tr>\n    <tr>\n      <th>3</th>\n      <td>2</td>\n      <td>24</td>\n      <td>3.0</td>\n    </tr>\n    <tr>\n      <th>4</th>\n      <td>4</td>\n      <td>30</td>\n      <td>4.0</td>\n    </tr>\n    <tr>\n      <th>...</th>\n      <td>...</td>\n      <td>...</td>\n      <td>...</td>\n    </tr>\n    <tr>\n      <th>257</th>\n      <td>197</td>\n      <td>35</td>\n      <td>4.0</td>\n    </tr>\n    <tr>\n      <th>258</th>\n      <td>197</td>\n      <td>1</td>\n      <td>4.0</td>\n    </tr>\n    <tr>\n      <th>259</th>\n      <td>198</td>\n      <td>1</td>\n      <td>5.0</td>\n    </tr>\n    <tr>\n      <th>260</th>\n      <td>199</td>\n      <td>29</td>\n      <td>5.0</td>\n    </tr>\n    <tr>\n      <th>261</th>\n      <td>199</td>\n      <td>24</td>\n      <td>4.0</td>\n    </tr>\n  </tbody>\n</table>\n<p>262 rows × 3 columns</p>\n</div>"
     },
     "execution_count": 61,
     "metadata": {},
     "output_type": "execute_result"
    }
   ],
   "source": [
    "# Format the rating dataframe\n",
    "rating_df.rename(columns={rating_df.columns[0]: 'tourist_id',\n",
    "                          rating_df.columns[1]: 'tour_id',\n",
    "                          rating_df.columns[2]: 'rating',\n",
    "                         }, inplace=True)\n",
    "\n",
    "# Check if there are duplicated interactions\n",
    "rating_df.drop_duplicates(subset=['tourist_id','tour_id'],inplace=True)\n",
    "\n",
    "rating_df"
   ]
  },
  {
   "cell_type": "markdown",
   "id": "7e222fd7",
   "metadata": {
    "pycharm": {
     "name": "#%% md\n"
    }
   },
   "source": [
    "## Print statistics\n",
    "\n",
    "Some statistics of the acquired data are shown."
   ]
  },
  {
   "cell_type": "code",
   "execution_count": 62,
   "id": "765f5477",
   "metadata": {
    "pycharm": {
     "name": "#%%\n"
    }
   },
   "outputs": [
    {
     "name": "stdout",
     "output_type": "stream",
     "text": [
      "Number of tourists: 200\n",
      "Number of tours: 40\n",
      "Number of interactions: 262\n",
      "Average interaction per tourist: 1.31\n",
      "Average interaction per tour: 6.55\n",
      "Sparsity: 96.72 %\n"
     ]
    }
   ],
   "source": [
    "# Statistics about data\n",
    "arr_tourists = tourist_df[\"id\"].unique()\n",
    "arr_tours = tour_df[\"id\"].unique()\n",
    "\n",
    "n_tourists = len(arr_tourists)\n",
    "n_tours = len(arr_tours)\n",
    "n_interactions = len(rating_df)\n",
    "\n",
    "print(\"Number of tourists: {:d}\".format(n_tourists))\n",
    "print(\"Number of tours: {:d}\".format(n_tours))\n",
    "print(\"Number of interactions: {:d}\".format(n_interactions))\n",
    "\n",
    "print(\"Average interaction per tourist: {:.2f}\".format(n_interactions/n_tourists))\n",
    "print(\"Average interaction per tour: {:.2f}\".format(n_interactions/n_tours))\n",
    "print(\"Sparsity: {:.2f} %\".format((1-float(n_interactions)/(n_tours*n_tourists))*100))"
   ]
  },
  {
   "cell_type": "code",
   "execution_count": 63,
   "id": "6d4af3c8",
   "metadata": {
    "pycharm": {
     "name": "#%%\n"
    }
   },
   "outputs": [
    {
     "name": "stdout",
     "output_type": "stream",
     "text": [
      "Average rating: 4.091603\n",
      "Maximum rating: 5.000000\n",
      "Minimum rating: 3.000000\n"
     ]
    }
   ],
   "source": [
    "# Statistics about ratings\n",
    "\n",
    "print(\"Average rating: {:.6f}\".format(rating_df.loc[:, 'rating'].mean()))\n",
    "print(\"Maximum rating: {:.6f}\".format(rating_df.loc[:, 'rating'].max()))\n",
    "print(\"Minimum rating: {:.6f}\".format(rating_df.loc[:, 'rating'].min()))"
   ]
  },
  {
   "cell_type": "markdown",
   "id": "e270df0f",
   "metadata": {
    "pycharm": {
     "name": "#%% md\n"
    }
   },
   "source": [
    "## Create the URM\n",
    "\n",
    "The **User Rating Matrix** describes the interactions between tourists and organized tours, where rows represent tourists and columns represent tours. The values in the cells can be defined by an implicit or explicit approach:\n",
    "- Explicit ratings are given directly by the tourists to the tours, according to a rating scale.\n",
    "- Implicit ratings are obtained according to specific criteria based on tourists' behaviour, without asking for an opinion explicitly. The corresponding value of the interaction is set to 1 if we think that the tourist could be interested in the tour, otherwise 0.\n",
    "\n",
    "In our problem, we decide to use **explicit ratings** with a rating scale from 1 to 5."
   ]
  },
  {
   "cell_type": "code",
   "execution_count": 64,
   "id": "4e990e1d",
   "metadata": {
    "pycharm": {
     "name": "#%%\n"
    }
   },
   "outputs": [
    {
     "data": {
      "text/plain": "<200x40 sparse matrix of type '<class 'numpy.float64'>'\n\twith 262 stored elements in Compressed Sparse Row format>"
     },
     "execution_count": 64,
     "metadata": {},
     "output_type": "execute_result"
    }
   ],
   "source": [
    "# Create the User Rating Matrix\n",
    "URM_all = sps.csr_matrix(\n",
    "    (rating_df[\"rating\"].values,\n",
    "    (rating_df[\"tourist_id\"].values, rating_df[\"tour_id\"].values))\n",
    ")\n",
    "\n",
    "URM_all"
   ]
  },
  {
   "cell_type": "code",
   "execution_count": 65,
   "id": "3c70ebfd",
   "metadata": {
    "pycharm": {
     "name": "#%%\n"
    }
   },
   "outputs": [],
   "source": [
    "# Define the portion of data used for training the model: now we are using all the available data\n",
    "URM_train = URM_all"
   ]
  },
  {
   "cell_type": "markdown",
   "id": "8eda1767",
   "metadata": {
    "pycharm": {
     "name": "#%% md\n"
    }
   },
   "source": [
    "## Create the ICM\n",
    "\n",
    "The **Item Content Matrix** describes the list of tours with their attributes, with rows representing tours and columns representing attributes. Each number in the ICM indicates how much important an attribute is in characterizing a tour.\n",
    "\n",
    "In this case we started from the simplest form: the cell value is equal to 1 if the tour has that specific attribute, and 0 otherwise."
   ]
  },
  {
   "cell_type": "code",
   "execution_count": 66,
   "id": "b4fa6ac5",
   "metadata": {
    "pycharm": {
     "name": "#%%\n"
    }
   },
   "outputs": [],
   "source": [
    "# Make a copy of the tour dataframe to build the ICM\n",
    "icm_df = tour_df.copy(deep=True)"
   ]
  },
  {
   "cell_type": "code",
   "execution_count": 67,
   "outputs": [
    {
     "data": {
      "text/plain": "    id  guide                               languages   city  \\\n0    0      0                               [english]  Lecce   \n1    1      1                        [italian, dutch]  Lecce   \n2    2      2              [chinese, french, english]  Lecce   \n3    3      3                             [bulgarian]  Lecce   \n4    4      4                      [deutsche, french]  Lecce   \n5    5      5            [deutsche, dutch, bulgarian]  Lecce   \n6    6      6              [english, chinese, french]  Lecce   \n7    7      7       [spanish, dutch, french, italian]  Lecce   \n8    8      8           [bulgarian, english, chinese]  Lecce   \n9    9      9    [chinese, bulgarian, dutch, english]  Lecce   \n10  10     10                   [bulgarian, deutsche]  Lecce   \n11  11     11                             [bulgarian]  Lecce   \n12  12     12                [dutch, french, italian]  Lecce   \n13  13     13                      [chinese, english]  Lecce   \n14  14     14                       [chinese, french]  Lecce   \n15  15     15                     [deutsche, chinese]  Lecce   \n16  16     16            [spanish, bulgarian, french]  Lecce   \n17  17     17                                 [dutch]  Lecce   \n18  18     18                        [italian, dutch]  Lecce   \n19  19     19          [bulgarian, deutsche, english]  Lecce   \n20  20     20                      [deutsche, french]  Lecce   \n21  21     21                               [chinese]  Lecce   \n22  22     22                      [chinese, spanish]  Lecce   \n23  23     23           [english, italian, bulgarian]  Lecce   \n24  24     24             [dutch, italian, bulgarian]  Lecce   \n25  25     25                             [bulgarian]  Lecce   \n26  26     26                                 [dutch]  Lecce   \n27  27     27                               [italian]  Lecce   \n28  28     28                               [spanish]  Lecce   \n29  29     29                    [bulgarian, chinese]  Lecce   \n30  30     30             [french, deutsche, english]  Lecce   \n31  31     31             [deutsche, french, english]  Lecce   \n32  32     32                     [french, bulgarian]  Lecce   \n33  33     33                                [french]  Lecce   \n34  34     34  [chinese, spanish, bulgarian, italian]  Lecce   \n35  35     35                       [italian, french]  Lecce   \n36  36     36                               [spanish]  Lecce   \n37  37     37                                 [dutch]  Lecce   \n38  38     38                               [italian]  Lecce   \n39  39     39                        [spanish, dutch]  Lecce   \n\n                                          attractions  \\\n0               [Church of San Matteo, Roman Theatre]   \n1               [Piazza Sant'Oronzo, Torre del Parco]   \n2         [Colonna di Sant'Oronzo, Celestine Convent]   \n3                                    [Museo Faggiano]   \n4            [Palazzo Carafa, Church of Santa Chiara]   \n5   [Villa Comunale di Lecce, Church of San Matteo...   \n6            [Torre del Parco, Palazzo dei Celestini]   \n7             [Museo Faggiano, Palazzo dei Celestini]   \n8       [Piazza Sant'Oronzo, Villa Comunale di Lecce]   \n9                                 [Celestine Convent]   \n10  [San Giovanni Battista Church, Roman Theatre, ...   \n11                            [Palazzo dei Celestini]   \n12  [Celestine Convent, San Giovanni Battista Chur...   \n13                               [Piazza Sant'Oronzo]   \n14                                   [Museo Faggiano]   \n15                      [Porta Napoli, Roman Theatre]   \n16                                    [Roman Theatre]   \n17     [Museo Faggiano, San Giovanni Battista Church]   \n18         [Torre del Parco, Basilica di Santa Croce]   \n19  [Piazza Sant'Oronzo, Porta Napoli, Church of S...   \n20            [Palazzo Carafa, Palazzo dei Celestini]   \n21  [Church of San Francesco della Scarpa, Museo F...   \n22  [Church of San Matteo, Villa Comunale di Lecce...   \n23                                     [Porta Napoli]   \n24           [Basilica di Santa Croce, Roman Theatre]   \n25  [Lecce Cathedral, Church of Santa Chiara, Pala...   \n26  [Church of San Francesco della Scarpa, Colonna...   \n27            [Basilica di Santa Croce, Porta Napoli]   \n28  [Church of San Francesco della Scarpa, Museo F...   \n29          [Roman Amphitheatre, Castello di Carlo V]   \n30  [Lecce Cathedral, Torre del Parco, Piazza Sant...   \n31                            [Palazzo dei Celestini]   \n32                            [Palazzo dei Celestini]   \n33                                  [Lecce Cathedral]   \n34             [Church of San Francesco della Scarpa]   \n35  [Porta Napoli, Museo Faggiano, San Giovanni Ba...   \n36  [Lecce Cathedral, Church of San Matteo, Roman ...   \n37  [Church of Santa Chiara, Church of San Frances...   \n38  [San Giovanni Battista Church, Piazza Sant'Oro...   \n39            [Porta Napoli, Villa Comunale di Lecce]   \n\n                              keywords  price        date  duration  \n0             [archeology, literature]     38  2024-06-27        12  \n1                       [art, history]     27  2024-06-02        11  \n2                    [art, literature]     29  2024-06-09        12  \n3                            [museums]     30  2024-06-26         9  \n4                [history, literature]     30  2024-06-03        11  \n5   [countryside, literature, museums]     35  2024-06-29        11  \n6                            [history]     37  2024-06-17        12  \n7                   [history, museums]     28  2024-06-29         7  \n8                   [art, countryside]     38  2024-06-28        10  \n9                         [literature]     34  2024-07-01         7  \n10   [archeology, history, literature]     19  2024-06-10        11  \n11                           [history]     28  2024-06-16         8  \n12                        [literature]     27  2024-06-26         8  \n13                               [art]     36  2024-06-16         6  \n14                           [museums]     23  2024-06-14        10  \n15                   [archeology, art]     31  2024-06-22         5  \n16                        [archeology]     37  2024-06-29         9  \n17               [literature, museums]     17  2024-06-09         9  \n18                           [history]     19  2024-06-16         6  \n19                   [art, literature]     29  2024-06-26        12  \n20                           [history]     35  2024-06-22         9  \n21               [literature, museums]     24  2024-06-14         6  \n22  [countryside, history, literature]     27  2024-06-13         9  \n23                               [art]     29  2024-06-05         9  \n24               [archeology, history]     37  2024-06-29        12  \n25               [history, literature]     23  2024-06-01         9  \n26                   [art, literature]     27  2024-06-29         8  \n27                      [art, history]     36  2024-06-12         7  \n28               [literature, museums]     28  2024-06-14         5  \n29               [archeology, history]     32  2024-06-10         6  \n30          [art, history, literature]     26  2024-06-06         5  \n31                           [history]     17  2024-06-05         8  \n32                           [history]     27  2024-06-12         6  \n33                        [literature]     33  2024-06-23        10  \n34                        [literature]     26  2024-06-16        12  \n35          [art, literature, museums]     36  2024-06-06        12  \n36            [archeology, literature]     24  2024-06-25        10  \n37                        [literature]     36  2024-06-05         6  \n38                   [art, literature]     27  2024-06-09        11  \n39                  [art, countryside]     19  2024-06-11         5  ",
      "text/html": "<div>\n<style scoped>\n    .dataframe tbody tr th:only-of-type {\n        vertical-align: middle;\n    }\n\n    .dataframe tbody tr th {\n        vertical-align: top;\n    }\n\n    .dataframe thead th {\n        text-align: right;\n    }\n</style>\n<table border=\"1\" class=\"dataframe\">\n  <thead>\n    <tr style=\"text-align: right;\">\n      <th></th>\n      <th>id</th>\n      <th>guide</th>\n      <th>languages</th>\n      <th>city</th>\n      <th>attractions</th>\n      <th>keywords</th>\n      <th>price</th>\n      <th>date</th>\n      <th>duration</th>\n    </tr>\n  </thead>\n  <tbody>\n    <tr>\n      <th>0</th>\n      <td>0</td>\n      <td>0</td>\n      <td>[english]</td>\n      <td>Lecce</td>\n      <td>[Church of San Matteo, Roman Theatre]</td>\n      <td>[archeology, literature]</td>\n      <td>38</td>\n      <td>2024-06-27</td>\n      <td>12</td>\n    </tr>\n    <tr>\n      <th>1</th>\n      <td>1</td>\n      <td>1</td>\n      <td>[italian, dutch]</td>\n      <td>Lecce</td>\n      <td>[Piazza Sant'Oronzo, Torre del Parco]</td>\n      <td>[art, history]</td>\n      <td>27</td>\n      <td>2024-06-02</td>\n      <td>11</td>\n    </tr>\n    <tr>\n      <th>2</th>\n      <td>2</td>\n      <td>2</td>\n      <td>[chinese, french, english]</td>\n      <td>Lecce</td>\n      <td>[Colonna di Sant'Oronzo, Celestine Convent]</td>\n      <td>[art, literature]</td>\n      <td>29</td>\n      <td>2024-06-09</td>\n      <td>12</td>\n    </tr>\n    <tr>\n      <th>3</th>\n      <td>3</td>\n      <td>3</td>\n      <td>[bulgarian]</td>\n      <td>Lecce</td>\n      <td>[Museo Faggiano]</td>\n      <td>[museums]</td>\n      <td>30</td>\n      <td>2024-06-26</td>\n      <td>9</td>\n    </tr>\n    <tr>\n      <th>4</th>\n      <td>4</td>\n      <td>4</td>\n      <td>[deutsche, french]</td>\n      <td>Lecce</td>\n      <td>[Palazzo Carafa, Church of Santa Chiara]</td>\n      <td>[history, literature]</td>\n      <td>30</td>\n      <td>2024-06-03</td>\n      <td>11</td>\n    </tr>\n    <tr>\n      <th>5</th>\n      <td>5</td>\n      <td>5</td>\n      <td>[deutsche, dutch, bulgarian]</td>\n      <td>Lecce</td>\n      <td>[Villa Comunale di Lecce, Church of San Matteo...</td>\n      <td>[countryside, literature, museums]</td>\n      <td>35</td>\n      <td>2024-06-29</td>\n      <td>11</td>\n    </tr>\n    <tr>\n      <th>6</th>\n      <td>6</td>\n      <td>6</td>\n      <td>[english, chinese, french]</td>\n      <td>Lecce</td>\n      <td>[Torre del Parco, Palazzo dei Celestini]</td>\n      <td>[history]</td>\n      <td>37</td>\n      <td>2024-06-17</td>\n      <td>12</td>\n    </tr>\n    <tr>\n      <th>7</th>\n      <td>7</td>\n      <td>7</td>\n      <td>[spanish, dutch, french, italian]</td>\n      <td>Lecce</td>\n      <td>[Museo Faggiano, Palazzo dei Celestini]</td>\n      <td>[history, museums]</td>\n      <td>28</td>\n      <td>2024-06-29</td>\n      <td>7</td>\n    </tr>\n    <tr>\n      <th>8</th>\n      <td>8</td>\n      <td>8</td>\n      <td>[bulgarian, english, chinese]</td>\n      <td>Lecce</td>\n      <td>[Piazza Sant'Oronzo, Villa Comunale di Lecce]</td>\n      <td>[art, countryside]</td>\n      <td>38</td>\n      <td>2024-06-28</td>\n      <td>10</td>\n    </tr>\n    <tr>\n      <th>9</th>\n      <td>9</td>\n      <td>9</td>\n      <td>[chinese, bulgarian, dutch, english]</td>\n      <td>Lecce</td>\n      <td>[Celestine Convent]</td>\n      <td>[literature]</td>\n      <td>34</td>\n      <td>2024-07-01</td>\n      <td>7</td>\n    </tr>\n    <tr>\n      <th>10</th>\n      <td>10</td>\n      <td>10</td>\n      <td>[bulgarian, deutsche]</td>\n      <td>Lecce</td>\n      <td>[San Giovanni Battista Church, Roman Theatre, ...</td>\n      <td>[archeology, history, literature]</td>\n      <td>19</td>\n      <td>2024-06-10</td>\n      <td>11</td>\n    </tr>\n    <tr>\n      <th>11</th>\n      <td>11</td>\n      <td>11</td>\n      <td>[bulgarian]</td>\n      <td>Lecce</td>\n      <td>[Palazzo dei Celestini]</td>\n      <td>[history]</td>\n      <td>28</td>\n      <td>2024-06-16</td>\n      <td>8</td>\n    </tr>\n    <tr>\n      <th>12</th>\n      <td>12</td>\n      <td>12</td>\n      <td>[dutch, french, italian]</td>\n      <td>Lecce</td>\n      <td>[Celestine Convent, San Giovanni Battista Chur...</td>\n      <td>[literature]</td>\n      <td>27</td>\n      <td>2024-06-26</td>\n      <td>8</td>\n    </tr>\n    <tr>\n      <th>13</th>\n      <td>13</td>\n      <td>13</td>\n      <td>[chinese, english]</td>\n      <td>Lecce</td>\n      <td>[Piazza Sant'Oronzo]</td>\n      <td>[art]</td>\n      <td>36</td>\n      <td>2024-06-16</td>\n      <td>6</td>\n    </tr>\n    <tr>\n      <th>14</th>\n      <td>14</td>\n      <td>14</td>\n      <td>[chinese, french]</td>\n      <td>Lecce</td>\n      <td>[Museo Faggiano]</td>\n      <td>[museums]</td>\n      <td>23</td>\n      <td>2024-06-14</td>\n      <td>10</td>\n    </tr>\n    <tr>\n      <th>15</th>\n      <td>15</td>\n      <td>15</td>\n      <td>[deutsche, chinese]</td>\n      <td>Lecce</td>\n      <td>[Porta Napoli, Roman Theatre]</td>\n      <td>[archeology, art]</td>\n      <td>31</td>\n      <td>2024-06-22</td>\n      <td>5</td>\n    </tr>\n    <tr>\n      <th>16</th>\n      <td>16</td>\n      <td>16</td>\n      <td>[spanish, bulgarian, french]</td>\n      <td>Lecce</td>\n      <td>[Roman Theatre]</td>\n      <td>[archeology]</td>\n      <td>37</td>\n      <td>2024-06-29</td>\n      <td>9</td>\n    </tr>\n    <tr>\n      <th>17</th>\n      <td>17</td>\n      <td>17</td>\n      <td>[dutch]</td>\n      <td>Lecce</td>\n      <td>[Museo Faggiano, San Giovanni Battista Church]</td>\n      <td>[literature, museums]</td>\n      <td>17</td>\n      <td>2024-06-09</td>\n      <td>9</td>\n    </tr>\n    <tr>\n      <th>18</th>\n      <td>18</td>\n      <td>18</td>\n      <td>[italian, dutch]</td>\n      <td>Lecce</td>\n      <td>[Torre del Parco, Basilica di Santa Croce]</td>\n      <td>[history]</td>\n      <td>19</td>\n      <td>2024-06-16</td>\n      <td>6</td>\n    </tr>\n    <tr>\n      <th>19</th>\n      <td>19</td>\n      <td>19</td>\n      <td>[bulgarian, deutsche, english]</td>\n      <td>Lecce</td>\n      <td>[Piazza Sant'Oronzo, Porta Napoli, Church of S...</td>\n      <td>[art, literature]</td>\n      <td>29</td>\n      <td>2024-06-26</td>\n      <td>12</td>\n    </tr>\n    <tr>\n      <th>20</th>\n      <td>20</td>\n      <td>20</td>\n      <td>[deutsche, french]</td>\n      <td>Lecce</td>\n      <td>[Palazzo Carafa, Palazzo dei Celestini]</td>\n      <td>[history]</td>\n      <td>35</td>\n      <td>2024-06-22</td>\n      <td>9</td>\n    </tr>\n    <tr>\n      <th>21</th>\n      <td>21</td>\n      <td>21</td>\n      <td>[chinese]</td>\n      <td>Lecce</td>\n      <td>[Church of San Francesco della Scarpa, Museo F...</td>\n      <td>[literature, museums]</td>\n      <td>24</td>\n      <td>2024-06-14</td>\n      <td>6</td>\n    </tr>\n    <tr>\n      <th>22</th>\n      <td>22</td>\n      <td>22</td>\n      <td>[chinese, spanish]</td>\n      <td>Lecce</td>\n      <td>[Church of San Matteo, Villa Comunale di Lecce...</td>\n      <td>[countryside, history, literature]</td>\n      <td>27</td>\n      <td>2024-06-13</td>\n      <td>9</td>\n    </tr>\n    <tr>\n      <th>23</th>\n      <td>23</td>\n      <td>23</td>\n      <td>[english, italian, bulgarian]</td>\n      <td>Lecce</td>\n      <td>[Porta Napoli]</td>\n      <td>[art]</td>\n      <td>29</td>\n      <td>2024-06-05</td>\n      <td>9</td>\n    </tr>\n    <tr>\n      <th>24</th>\n      <td>24</td>\n      <td>24</td>\n      <td>[dutch, italian, bulgarian]</td>\n      <td>Lecce</td>\n      <td>[Basilica di Santa Croce, Roman Theatre]</td>\n      <td>[archeology, history]</td>\n      <td>37</td>\n      <td>2024-06-29</td>\n      <td>12</td>\n    </tr>\n    <tr>\n      <th>25</th>\n      <td>25</td>\n      <td>25</td>\n      <td>[bulgarian]</td>\n      <td>Lecce</td>\n      <td>[Lecce Cathedral, Church of Santa Chiara, Pala...</td>\n      <td>[history, literature]</td>\n      <td>23</td>\n      <td>2024-06-01</td>\n      <td>9</td>\n    </tr>\n    <tr>\n      <th>26</th>\n      <td>26</td>\n      <td>26</td>\n      <td>[dutch]</td>\n      <td>Lecce</td>\n      <td>[Church of San Francesco della Scarpa, Colonna...</td>\n      <td>[art, literature]</td>\n      <td>27</td>\n      <td>2024-06-29</td>\n      <td>8</td>\n    </tr>\n    <tr>\n      <th>27</th>\n      <td>27</td>\n      <td>27</td>\n      <td>[italian]</td>\n      <td>Lecce</td>\n      <td>[Basilica di Santa Croce, Porta Napoli]</td>\n      <td>[art, history]</td>\n      <td>36</td>\n      <td>2024-06-12</td>\n      <td>7</td>\n    </tr>\n    <tr>\n      <th>28</th>\n      <td>28</td>\n      <td>28</td>\n      <td>[spanish]</td>\n      <td>Lecce</td>\n      <td>[Church of San Francesco della Scarpa, Museo F...</td>\n      <td>[literature, museums]</td>\n      <td>28</td>\n      <td>2024-06-14</td>\n      <td>5</td>\n    </tr>\n    <tr>\n      <th>29</th>\n      <td>29</td>\n      <td>29</td>\n      <td>[bulgarian, chinese]</td>\n      <td>Lecce</td>\n      <td>[Roman Amphitheatre, Castello di Carlo V]</td>\n      <td>[archeology, history]</td>\n      <td>32</td>\n      <td>2024-06-10</td>\n      <td>6</td>\n    </tr>\n    <tr>\n      <th>30</th>\n      <td>30</td>\n      <td>30</td>\n      <td>[french, deutsche, english]</td>\n      <td>Lecce</td>\n      <td>[Lecce Cathedral, Torre del Parco, Piazza Sant...</td>\n      <td>[art, history, literature]</td>\n      <td>26</td>\n      <td>2024-06-06</td>\n      <td>5</td>\n    </tr>\n    <tr>\n      <th>31</th>\n      <td>31</td>\n      <td>31</td>\n      <td>[deutsche, french, english]</td>\n      <td>Lecce</td>\n      <td>[Palazzo dei Celestini]</td>\n      <td>[history]</td>\n      <td>17</td>\n      <td>2024-06-05</td>\n      <td>8</td>\n    </tr>\n    <tr>\n      <th>32</th>\n      <td>32</td>\n      <td>32</td>\n      <td>[french, bulgarian]</td>\n      <td>Lecce</td>\n      <td>[Palazzo dei Celestini]</td>\n      <td>[history]</td>\n      <td>27</td>\n      <td>2024-06-12</td>\n      <td>6</td>\n    </tr>\n    <tr>\n      <th>33</th>\n      <td>33</td>\n      <td>33</td>\n      <td>[french]</td>\n      <td>Lecce</td>\n      <td>[Lecce Cathedral]</td>\n      <td>[literature]</td>\n      <td>33</td>\n      <td>2024-06-23</td>\n      <td>10</td>\n    </tr>\n    <tr>\n      <th>34</th>\n      <td>34</td>\n      <td>34</td>\n      <td>[chinese, spanish, bulgarian, italian]</td>\n      <td>Lecce</td>\n      <td>[Church of San Francesco della Scarpa]</td>\n      <td>[literature]</td>\n      <td>26</td>\n      <td>2024-06-16</td>\n      <td>12</td>\n    </tr>\n    <tr>\n      <th>35</th>\n      <td>35</td>\n      <td>35</td>\n      <td>[italian, french]</td>\n      <td>Lecce</td>\n      <td>[Porta Napoli, Museo Faggiano, San Giovanni Ba...</td>\n      <td>[art, literature, museums]</td>\n      <td>36</td>\n      <td>2024-06-06</td>\n      <td>12</td>\n    </tr>\n    <tr>\n      <th>36</th>\n      <td>36</td>\n      <td>36</td>\n      <td>[spanish]</td>\n      <td>Lecce</td>\n      <td>[Lecce Cathedral, Church of San Matteo, Roman ...</td>\n      <td>[archeology, literature]</td>\n      <td>24</td>\n      <td>2024-06-25</td>\n      <td>10</td>\n    </tr>\n    <tr>\n      <th>37</th>\n      <td>37</td>\n      <td>37</td>\n      <td>[dutch]</td>\n      <td>Lecce</td>\n      <td>[Church of Santa Chiara, Church of San Frances...</td>\n      <td>[literature]</td>\n      <td>36</td>\n      <td>2024-06-05</td>\n      <td>6</td>\n    </tr>\n    <tr>\n      <th>38</th>\n      <td>38</td>\n      <td>38</td>\n      <td>[italian]</td>\n      <td>Lecce</td>\n      <td>[San Giovanni Battista Church, Piazza Sant'Oro...</td>\n      <td>[art, literature]</td>\n      <td>27</td>\n      <td>2024-06-09</td>\n      <td>11</td>\n    </tr>\n    <tr>\n      <th>39</th>\n      <td>39</td>\n      <td>39</td>\n      <td>[spanish, dutch]</td>\n      <td>Lecce</td>\n      <td>[Porta Napoli, Villa Comunale di Lecce]</td>\n      <td>[art, countryside]</td>\n      <td>19</td>\n      <td>2024-06-11</td>\n      <td>5</td>\n    </tr>\n  </tbody>\n</table>\n</div>"
     },
     "execution_count": 67,
     "metadata": {},
     "output_type": "execute_result"
    }
   ],
   "source": [
    "icm_df"
   ],
   "metadata": {
    "collapsed": false,
    "pycharm": {
     "name": "#%%\n"
    }
   }
  },
  {
   "cell_type": "code",
   "execution_count": 68,
   "id": "4fe86e06",
   "metadata": {
    "pycharm": {
     "name": "#%%\n"
    }
   },
   "outputs": [],
   "source": [
    "# Split the price information into three ranges\n",
    "\n",
    "def replace_price(x):\n",
    "    if x < 25:\n",
    "        return 'low_cost'\n",
    "    elif x < 35:\n",
    "        return 'medium_cost'\n",
    "    else:\n",
    "        return 'high_cost'\n",
    "\n",
    "icm_df['price'] = icm_df['price'].apply(replace_price)"
   ]
  },
  {
   "cell_type": "code",
   "execution_count": 69,
   "id": "5ee85f65",
   "metadata": {
    "pycharm": {
     "name": "#%%\n"
    }
   },
   "outputs": [
    {
     "data": {
      "text/plain": "    id  guide                               languages   city  \\\n0    0      0                               [english]  Lecce   \n1    1      1                        [italian, dutch]  Lecce   \n2    2      2              [chinese, french, english]  Lecce   \n3    3      3                             [bulgarian]  Lecce   \n4    4      4                      [deutsche, french]  Lecce   \n5    5      5            [deutsche, dutch, bulgarian]  Lecce   \n6    6      6              [english, chinese, french]  Lecce   \n7    7      7       [spanish, dutch, french, italian]  Lecce   \n8    8      8           [bulgarian, english, chinese]  Lecce   \n9    9      9    [chinese, bulgarian, dutch, english]  Lecce   \n10  10     10                   [bulgarian, deutsche]  Lecce   \n11  11     11                             [bulgarian]  Lecce   \n12  12     12                [dutch, french, italian]  Lecce   \n13  13     13                      [chinese, english]  Lecce   \n14  14     14                       [chinese, french]  Lecce   \n15  15     15                     [deutsche, chinese]  Lecce   \n16  16     16            [spanish, bulgarian, french]  Lecce   \n17  17     17                                 [dutch]  Lecce   \n18  18     18                        [italian, dutch]  Lecce   \n19  19     19          [bulgarian, deutsche, english]  Lecce   \n20  20     20                      [deutsche, french]  Lecce   \n21  21     21                               [chinese]  Lecce   \n22  22     22                      [chinese, spanish]  Lecce   \n23  23     23           [english, italian, bulgarian]  Lecce   \n24  24     24             [dutch, italian, bulgarian]  Lecce   \n25  25     25                             [bulgarian]  Lecce   \n26  26     26                                 [dutch]  Lecce   \n27  27     27                               [italian]  Lecce   \n28  28     28                               [spanish]  Lecce   \n29  29     29                    [bulgarian, chinese]  Lecce   \n30  30     30             [french, deutsche, english]  Lecce   \n31  31     31             [deutsche, french, english]  Lecce   \n32  32     32                     [french, bulgarian]  Lecce   \n33  33     33                                [french]  Lecce   \n34  34     34  [chinese, spanish, bulgarian, italian]  Lecce   \n35  35     35                       [italian, french]  Lecce   \n36  36     36                               [spanish]  Lecce   \n37  37     37                                 [dutch]  Lecce   \n38  38     38                               [italian]  Lecce   \n39  39     39                        [spanish, dutch]  Lecce   \n\n                                          attractions  \\\n0               [Church of San Matteo, Roman Theatre]   \n1               [Piazza Sant'Oronzo, Torre del Parco]   \n2         [Colonna di Sant'Oronzo, Celestine Convent]   \n3                                    [Museo Faggiano]   \n4            [Palazzo Carafa, Church of Santa Chiara]   \n5   [Villa Comunale di Lecce, Church of San Matteo...   \n6            [Torre del Parco, Palazzo dei Celestini]   \n7             [Museo Faggiano, Palazzo dei Celestini]   \n8       [Piazza Sant'Oronzo, Villa Comunale di Lecce]   \n9                                 [Celestine Convent]   \n10  [San Giovanni Battista Church, Roman Theatre, ...   \n11                            [Palazzo dei Celestini]   \n12  [Celestine Convent, San Giovanni Battista Chur...   \n13                               [Piazza Sant'Oronzo]   \n14                                   [Museo Faggiano]   \n15                      [Porta Napoli, Roman Theatre]   \n16                                    [Roman Theatre]   \n17     [Museo Faggiano, San Giovanni Battista Church]   \n18         [Torre del Parco, Basilica di Santa Croce]   \n19  [Piazza Sant'Oronzo, Porta Napoli, Church of S...   \n20            [Palazzo Carafa, Palazzo dei Celestini]   \n21  [Church of San Francesco della Scarpa, Museo F...   \n22  [Church of San Matteo, Villa Comunale di Lecce...   \n23                                     [Porta Napoli]   \n24           [Basilica di Santa Croce, Roman Theatre]   \n25  [Lecce Cathedral, Church of Santa Chiara, Pala...   \n26  [Church of San Francesco della Scarpa, Colonna...   \n27            [Basilica di Santa Croce, Porta Napoli]   \n28  [Church of San Francesco della Scarpa, Museo F...   \n29          [Roman Amphitheatre, Castello di Carlo V]   \n30  [Lecce Cathedral, Torre del Parco, Piazza Sant...   \n31                            [Palazzo dei Celestini]   \n32                            [Palazzo dei Celestini]   \n33                                  [Lecce Cathedral]   \n34             [Church of San Francesco della Scarpa]   \n35  [Porta Napoli, Museo Faggiano, San Giovanni Ba...   \n36  [Lecce Cathedral, Church of San Matteo, Roman ...   \n37  [Church of Santa Chiara, Church of San Frances...   \n38  [San Giovanni Battista Church, Piazza Sant'Oro...   \n39            [Porta Napoli, Villa Comunale di Lecce]   \n\n                              keywords        price        date  duration  \n0             [archeology, literature]    high_cost  2024-06-27        12  \n1                       [art, history]  medium_cost  2024-06-02        11  \n2                    [art, literature]  medium_cost  2024-06-09        12  \n3                            [museums]  medium_cost  2024-06-26         9  \n4                [history, literature]  medium_cost  2024-06-03        11  \n5   [countryside, literature, museums]    high_cost  2024-06-29        11  \n6                            [history]    high_cost  2024-06-17        12  \n7                   [history, museums]  medium_cost  2024-06-29         7  \n8                   [art, countryside]    high_cost  2024-06-28        10  \n9                         [literature]  medium_cost  2024-07-01         7  \n10   [archeology, history, literature]     low_cost  2024-06-10        11  \n11                           [history]  medium_cost  2024-06-16         8  \n12                        [literature]  medium_cost  2024-06-26         8  \n13                               [art]    high_cost  2024-06-16         6  \n14                           [museums]     low_cost  2024-06-14        10  \n15                   [archeology, art]  medium_cost  2024-06-22         5  \n16                        [archeology]    high_cost  2024-06-29         9  \n17               [literature, museums]     low_cost  2024-06-09         9  \n18                           [history]     low_cost  2024-06-16         6  \n19                   [art, literature]  medium_cost  2024-06-26        12  \n20                           [history]    high_cost  2024-06-22         9  \n21               [literature, museums]     low_cost  2024-06-14         6  \n22  [countryside, history, literature]  medium_cost  2024-06-13         9  \n23                               [art]  medium_cost  2024-06-05         9  \n24               [archeology, history]    high_cost  2024-06-29        12  \n25               [history, literature]     low_cost  2024-06-01         9  \n26                   [art, literature]  medium_cost  2024-06-29         8  \n27                      [art, history]    high_cost  2024-06-12         7  \n28               [literature, museums]  medium_cost  2024-06-14         5  \n29               [archeology, history]  medium_cost  2024-06-10         6  \n30          [art, history, literature]  medium_cost  2024-06-06         5  \n31                           [history]     low_cost  2024-06-05         8  \n32                           [history]  medium_cost  2024-06-12         6  \n33                        [literature]  medium_cost  2024-06-23        10  \n34                        [literature]  medium_cost  2024-06-16        12  \n35          [art, literature, museums]    high_cost  2024-06-06        12  \n36            [archeology, literature]     low_cost  2024-06-25        10  \n37                        [literature]    high_cost  2024-06-05         6  \n38                   [art, literature]  medium_cost  2024-06-09        11  \n39                  [art, countryside]     low_cost  2024-06-11         5  ",
      "text/html": "<div>\n<style scoped>\n    .dataframe tbody tr th:only-of-type {\n        vertical-align: middle;\n    }\n\n    .dataframe tbody tr th {\n        vertical-align: top;\n    }\n\n    .dataframe thead th {\n        text-align: right;\n    }\n</style>\n<table border=\"1\" class=\"dataframe\">\n  <thead>\n    <tr style=\"text-align: right;\">\n      <th></th>\n      <th>id</th>\n      <th>guide</th>\n      <th>languages</th>\n      <th>city</th>\n      <th>attractions</th>\n      <th>keywords</th>\n      <th>price</th>\n      <th>date</th>\n      <th>duration</th>\n    </tr>\n  </thead>\n  <tbody>\n    <tr>\n      <th>0</th>\n      <td>0</td>\n      <td>0</td>\n      <td>[english]</td>\n      <td>Lecce</td>\n      <td>[Church of San Matteo, Roman Theatre]</td>\n      <td>[archeology, literature]</td>\n      <td>high_cost</td>\n      <td>2024-06-27</td>\n      <td>12</td>\n    </tr>\n    <tr>\n      <th>1</th>\n      <td>1</td>\n      <td>1</td>\n      <td>[italian, dutch]</td>\n      <td>Lecce</td>\n      <td>[Piazza Sant'Oronzo, Torre del Parco]</td>\n      <td>[art, history]</td>\n      <td>medium_cost</td>\n      <td>2024-06-02</td>\n      <td>11</td>\n    </tr>\n    <tr>\n      <th>2</th>\n      <td>2</td>\n      <td>2</td>\n      <td>[chinese, french, english]</td>\n      <td>Lecce</td>\n      <td>[Colonna di Sant'Oronzo, Celestine Convent]</td>\n      <td>[art, literature]</td>\n      <td>medium_cost</td>\n      <td>2024-06-09</td>\n      <td>12</td>\n    </tr>\n    <tr>\n      <th>3</th>\n      <td>3</td>\n      <td>3</td>\n      <td>[bulgarian]</td>\n      <td>Lecce</td>\n      <td>[Museo Faggiano]</td>\n      <td>[museums]</td>\n      <td>medium_cost</td>\n      <td>2024-06-26</td>\n      <td>9</td>\n    </tr>\n    <tr>\n      <th>4</th>\n      <td>4</td>\n      <td>4</td>\n      <td>[deutsche, french]</td>\n      <td>Lecce</td>\n      <td>[Palazzo Carafa, Church of Santa Chiara]</td>\n      <td>[history, literature]</td>\n      <td>medium_cost</td>\n      <td>2024-06-03</td>\n      <td>11</td>\n    </tr>\n    <tr>\n      <th>5</th>\n      <td>5</td>\n      <td>5</td>\n      <td>[deutsche, dutch, bulgarian]</td>\n      <td>Lecce</td>\n      <td>[Villa Comunale di Lecce, Church of San Matteo...</td>\n      <td>[countryside, literature, museums]</td>\n      <td>high_cost</td>\n      <td>2024-06-29</td>\n      <td>11</td>\n    </tr>\n    <tr>\n      <th>6</th>\n      <td>6</td>\n      <td>6</td>\n      <td>[english, chinese, french]</td>\n      <td>Lecce</td>\n      <td>[Torre del Parco, Palazzo dei Celestini]</td>\n      <td>[history]</td>\n      <td>high_cost</td>\n      <td>2024-06-17</td>\n      <td>12</td>\n    </tr>\n    <tr>\n      <th>7</th>\n      <td>7</td>\n      <td>7</td>\n      <td>[spanish, dutch, french, italian]</td>\n      <td>Lecce</td>\n      <td>[Museo Faggiano, Palazzo dei Celestini]</td>\n      <td>[history, museums]</td>\n      <td>medium_cost</td>\n      <td>2024-06-29</td>\n      <td>7</td>\n    </tr>\n    <tr>\n      <th>8</th>\n      <td>8</td>\n      <td>8</td>\n      <td>[bulgarian, english, chinese]</td>\n      <td>Lecce</td>\n      <td>[Piazza Sant'Oronzo, Villa Comunale di Lecce]</td>\n      <td>[art, countryside]</td>\n      <td>high_cost</td>\n      <td>2024-06-28</td>\n      <td>10</td>\n    </tr>\n    <tr>\n      <th>9</th>\n      <td>9</td>\n      <td>9</td>\n      <td>[chinese, bulgarian, dutch, english]</td>\n      <td>Lecce</td>\n      <td>[Celestine Convent]</td>\n      <td>[literature]</td>\n      <td>medium_cost</td>\n      <td>2024-07-01</td>\n      <td>7</td>\n    </tr>\n    <tr>\n      <th>10</th>\n      <td>10</td>\n      <td>10</td>\n      <td>[bulgarian, deutsche]</td>\n      <td>Lecce</td>\n      <td>[San Giovanni Battista Church, Roman Theatre, ...</td>\n      <td>[archeology, history, literature]</td>\n      <td>low_cost</td>\n      <td>2024-06-10</td>\n      <td>11</td>\n    </tr>\n    <tr>\n      <th>11</th>\n      <td>11</td>\n      <td>11</td>\n      <td>[bulgarian]</td>\n      <td>Lecce</td>\n      <td>[Palazzo dei Celestini]</td>\n      <td>[history]</td>\n      <td>medium_cost</td>\n      <td>2024-06-16</td>\n      <td>8</td>\n    </tr>\n    <tr>\n      <th>12</th>\n      <td>12</td>\n      <td>12</td>\n      <td>[dutch, french, italian]</td>\n      <td>Lecce</td>\n      <td>[Celestine Convent, San Giovanni Battista Chur...</td>\n      <td>[literature]</td>\n      <td>medium_cost</td>\n      <td>2024-06-26</td>\n      <td>8</td>\n    </tr>\n    <tr>\n      <th>13</th>\n      <td>13</td>\n      <td>13</td>\n      <td>[chinese, english]</td>\n      <td>Lecce</td>\n      <td>[Piazza Sant'Oronzo]</td>\n      <td>[art]</td>\n      <td>high_cost</td>\n      <td>2024-06-16</td>\n      <td>6</td>\n    </tr>\n    <tr>\n      <th>14</th>\n      <td>14</td>\n      <td>14</td>\n      <td>[chinese, french]</td>\n      <td>Lecce</td>\n      <td>[Museo Faggiano]</td>\n      <td>[museums]</td>\n      <td>low_cost</td>\n      <td>2024-06-14</td>\n      <td>10</td>\n    </tr>\n    <tr>\n      <th>15</th>\n      <td>15</td>\n      <td>15</td>\n      <td>[deutsche, chinese]</td>\n      <td>Lecce</td>\n      <td>[Porta Napoli, Roman Theatre]</td>\n      <td>[archeology, art]</td>\n      <td>medium_cost</td>\n      <td>2024-06-22</td>\n      <td>5</td>\n    </tr>\n    <tr>\n      <th>16</th>\n      <td>16</td>\n      <td>16</td>\n      <td>[spanish, bulgarian, french]</td>\n      <td>Lecce</td>\n      <td>[Roman Theatre]</td>\n      <td>[archeology]</td>\n      <td>high_cost</td>\n      <td>2024-06-29</td>\n      <td>9</td>\n    </tr>\n    <tr>\n      <th>17</th>\n      <td>17</td>\n      <td>17</td>\n      <td>[dutch]</td>\n      <td>Lecce</td>\n      <td>[Museo Faggiano, San Giovanni Battista Church]</td>\n      <td>[literature, museums]</td>\n      <td>low_cost</td>\n      <td>2024-06-09</td>\n      <td>9</td>\n    </tr>\n    <tr>\n      <th>18</th>\n      <td>18</td>\n      <td>18</td>\n      <td>[italian, dutch]</td>\n      <td>Lecce</td>\n      <td>[Torre del Parco, Basilica di Santa Croce]</td>\n      <td>[history]</td>\n      <td>low_cost</td>\n      <td>2024-06-16</td>\n      <td>6</td>\n    </tr>\n    <tr>\n      <th>19</th>\n      <td>19</td>\n      <td>19</td>\n      <td>[bulgarian, deutsche, english]</td>\n      <td>Lecce</td>\n      <td>[Piazza Sant'Oronzo, Porta Napoli, Church of S...</td>\n      <td>[art, literature]</td>\n      <td>medium_cost</td>\n      <td>2024-06-26</td>\n      <td>12</td>\n    </tr>\n    <tr>\n      <th>20</th>\n      <td>20</td>\n      <td>20</td>\n      <td>[deutsche, french]</td>\n      <td>Lecce</td>\n      <td>[Palazzo Carafa, Palazzo dei Celestini]</td>\n      <td>[history]</td>\n      <td>high_cost</td>\n      <td>2024-06-22</td>\n      <td>9</td>\n    </tr>\n    <tr>\n      <th>21</th>\n      <td>21</td>\n      <td>21</td>\n      <td>[chinese]</td>\n      <td>Lecce</td>\n      <td>[Church of San Francesco della Scarpa, Museo F...</td>\n      <td>[literature, museums]</td>\n      <td>low_cost</td>\n      <td>2024-06-14</td>\n      <td>6</td>\n    </tr>\n    <tr>\n      <th>22</th>\n      <td>22</td>\n      <td>22</td>\n      <td>[chinese, spanish]</td>\n      <td>Lecce</td>\n      <td>[Church of San Matteo, Villa Comunale di Lecce...</td>\n      <td>[countryside, history, literature]</td>\n      <td>medium_cost</td>\n      <td>2024-06-13</td>\n      <td>9</td>\n    </tr>\n    <tr>\n      <th>23</th>\n      <td>23</td>\n      <td>23</td>\n      <td>[english, italian, bulgarian]</td>\n      <td>Lecce</td>\n      <td>[Porta Napoli]</td>\n      <td>[art]</td>\n      <td>medium_cost</td>\n      <td>2024-06-05</td>\n      <td>9</td>\n    </tr>\n    <tr>\n      <th>24</th>\n      <td>24</td>\n      <td>24</td>\n      <td>[dutch, italian, bulgarian]</td>\n      <td>Lecce</td>\n      <td>[Basilica di Santa Croce, Roman Theatre]</td>\n      <td>[archeology, history]</td>\n      <td>high_cost</td>\n      <td>2024-06-29</td>\n      <td>12</td>\n    </tr>\n    <tr>\n      <th>25</th>\n      <td>25</td>\n      <td>25</td>\n      <td>[bulgarian]</td>\n      <td>Lecce</td>\n      <td>[Lecce Cathedral, Church of Santa Chiara, Pala...</td>\n      <td>[history, literature]</td>\n      <td>low_cost</td>\n      <td>2024-06-01</td>\n      <td>9</td>\n    </tr>\n    <tr>\n      <th>26</th>\n      <td>26</td>\n      <td>26</td>\n      <td>[dutch]</td>\n      <td>Lecce</td>\n      <td>[Church of San Francesco della Scarpa, Colonna...</td>\n      <td>[art, literature]</td>\n      <td>medium_cost</td>\n      <td>2024-06-29</td>\n      <td>8</td>\n    </tr>\n    <tr>\n      <th>27</th>\n      <td>27</td>\n      <td>27</td>\n      <td>[italian]</td>\n      <td>Lecce</td>\n      <td>[Basilica di Santa Croce, Porta Napoli]</td>\n      <td>[art, history]</td>\n      <td>high_cost</td>\n      <td>2024-06-12</td>\n      <td>7</td>\n    </tr>\n    <tr>\n      <th>28</th>\n      <td>28</td>\n      <td>28</td>\n      <td>[spanish]</td>\n      <td>Lecce</td>\n      <td>[Church of San Francesco della Scarpa, Museo F...</td>\n      <td>[literature, museums]</td>\n      <td>medium_cost</td>\n      <td>2024-06-14</td>\n      <td>5</td>\n    </tr>\n    <tr>\n      <th>29</th>\n      <td>29</td>\n      <td>29</td>\n      <td>[bulgarian, chinese]</td>\n      <td>Lecce</td>\n      <td>[Roman Amphitheatre, Castello di Carlo V]</td>\n      <td>[archeology, history]</td>\n      <td>medium_cost</td>\n      <td>2024-06-10</td>\n      <td>6</td>\n    </tr>\n    <tr>\n      <th>30</th>\n      <td>30</td>\n      <td>30</td>\n      <td>[french, deutsche, english]</td>\n      <td>Lecce</td>\n      <td>[Lecce Cathedral, Torre del Parco, Piazza Sant...</td>\n      <td>[art, history, literature]</td>\n      <td>medium_cost</td>\n      <td>2024-06-06</td>\n      <td>5</td>\n    </tr>\n    <tr>\n      <th>31</th>\n      <td>31</td>\n      <td>31</td>\n      <td>[deutsche, french, english]</td>\n      <td>Lecce</td>\n      <td>[Palazzo dei Celestini]</td>\n      <td>[history]</td>\n      <td>low_cost</td>\n      <td>2024-06-05</td>\n      <td>8</td>\n    </tr>\n    <tr>\n      <th>32</th>\n      <td>32</td>\n      <td>32</td>\n      <td>[french, bulgarian]</td>\n      <td>Lecce</td>\n      <td>[Palazzo dei Celestini]</td>\n      <td>[history]</td>\n      <td>medium_cost</td>\n      <td>2024-06-12</td>\n      <td>6</td>\n    </tr>\n    <tr>\n      <th>33</th>\n      <td>33</td>\n      <td>33</td>\n      <td>[french]</td>\n      <td>Lecce</td>\n      <td>[Lecce Cathedral]</td>\n      <td>[literature]</td>\n      <td>medium_cost</td>\n      <td>2024-06-23</td>\n      <td>10</td>\n    </tr>\n    <tr>\n      <th>34</th>\n      <td>34</td>\n      <td>34</td>\n      <td>[chinese, spanish, bulgarian, italian]</td>\n      <td>Lecce</td>\n      <td>[Church of San Francesco della Scarpa]</td>\n      <td>[literature]</td>\n      <td>medium_cost</td>\n      <td>2024-06-16</td>\n      <td>12</td>\n    </tr>\n    <tr>\n      <th>35</th>\n      <td>35</td>\n      <td>35</td>\n      <td>[italian, french]</td>\n      <td>Lecce</td>\n      <td>[Porta Napoli, Museo Faggiano, San Giovanni Ba...</td>\n      <td>[art, literature, museums]</td>\n      <td>high_cost</td>\n      <td>2024-06-06</td>\n      <td>12</td>\n    </tr>\n    <tr>\n      <th>36</th>\n      <td>36</td>\n      <td>36</td>\n      <td>[spanish]</td>\n      <td>Lecce</td>\n      <td>[Lecce Cathedral, Church of San Matteo, Roman ...</td>\n      <td>[archeology, literature]</td>\n      <td>low_cost</td>\n      <td>2024-06-25</td>\n      <td>10</td>\n    </tr>\n    <tr>\n      <th>37</th>\n      <td>37</td>\n      <td>37</td>\n      <td>[dutch]</td>\n      <td>Lecce</td>\n      <td>[Church of Santa Chiara, Church of San Frances...</td>\n      <td>[literature]</td>\n      <td>high_cost</td>\n      <td>2024-06-05</td>\n      <td>6</td>\n    </tr>\n    <tr>\n      <th>38</th>\n      <td>38</td>\n      <td>38</td>\n      <td>[italian]</td>\n      <td>Lecce</td>\n      <td>[San Giovanni Battista Church, Piazza Sant'Oro...</td>\n      <td>[art, literature]</td>\n      <td>medium_cost</td>\n      <td>2024-06-09</td>\n      <td>11</td>\n    </tr>\n    <tr>\n      <th>39</th>\n      <td>39</td>\n      <td>39</td>\n      <td>[spanish, dutch]</td>\n      <td>Lecce</td>\n      <td>[Porta Napoli, Villa Comunale di Lecce]</td>\n      <td>[art, countryside]</td>\n      <td>low_cost</td>\n      <td>2024-06-11</td>\n      <td>5</td>\n    </tr>\n  </tbody>\n</table>\n</div>"
     },
     "execution_count": 69,
     "metadata": {},
     "output_type": "execute_result"
    }
   ],
   "source": [
    "icm_df"
   ]
  },
  {
   "cell_type": "code",
   "execution_count": 70,
   "id": "e6f6e291",
   "metadata": {
    "pycharm": {
     "name": "#%%\n"
    }
   },
   "outputs": [],
   "source": [
    "# Split the categorical attributes into separate columns\n",
    "multiclass_attributes = ['languages', 'attractions', 'keywords', 'price']\n",
    "\n",
    "for n in multiclass_attributes:\n",
    "    s = icm_df[n].explode()\n",
    "    icm_df = icm_df.join(pd.crosstab(s.index, s).astype(object)).fillna(0)\n",
    "    icm_df.drop(labels=n,axis=1,inplace=True)"
   ]
  },
  {
   "cell_type": "code",
   "execution_count": 71,
   "id": "0158f4b0",
   "metadata": {
    "pycharm": {
     "name": "#%%\n"
    }
   },
   "outputs": [
    {
     "data": {
      "text/plain": "    id  guide   city        date  duration  bulgarian  chinese  deutsche  \\\n0    0      0  Lecce  2024-06-27        12          0        0         0   \n1    1      1  Lecce  2024-06-02        11          0        0         0   \n2    2      2  Lecce  2024-06-09        12          0        1         0   \n3    3      3  Lecce  2024-06-26         9          1        0         0   \n4    4      4  Lecce  2024-06-03        11          0        0         1   \n5    5      5  Lecce  2024-06-29        11          1        0         1   \n6    6      6  Lecce  2024-06-17        12          0        1         0   \n7    7      7  Lecce  2024-06-29         7          0        0         0   \n8    8      8  Lecce  2024-06-28        10          1        1         0   \n9    9      9  Lecce  2024-07-01         7          1        1         0   \n10  10     10  Lecce  2024-06-10        11          1        0         1   \n11  11     11  Lecce  2024-06-16         8          1        0         0   \n12  12     12  Lecce  2024-06-26         8          0        0         0   \n13  13     13  Lecce  2024-06-16         6          0        1         0   \n14  14     14  Lecce  2024-06-14        10          0        1         0   \n15  15     15  Lecce  2024-06-22         5          0        1         1   \n16  16     16  Lecce  2024-06-29         9          1        0         0   \n17  17     17  Lecce  2024-06-09         9          0        0         0   \n18  18     18  Lecce  2024-06-16         6          0        0         0   \n19  19     19  Lecce  2024-06-26        12          1        0         1   \n20  20     20  Lecce  2024-06-22         9          0        0         1   \n21  21     21  Lecce  2024-06-14         6          0        1         0   \n22  22     22  Lecce  2024-06-13         9          0        1         0   \n23  23     23  Lecce  2024-06-05         9          1        0         0   \n24  24     24  Lecce  2024-06-29        12          1        0         0   \n25  25     25  Lecce  2024-06-01         9          1        0         0   \n26  26     26  Lecce  2024-06-29         8          0        0         0   \n27  27     27  Lecce  2024-06-12         7          0        0         0   \n28  28     28  Lecce  2024-06-14         5          0        0         0   \n29  29     29  Lecce  2024-06-10         6          1        1         0   \n30  30     30  Lecce  2024-06-06         5          0        0         1   \n31  31     31  Lecce  2024-06-05         8          0        0         1   \n32  32     32  Lecce  2024-06-12         6          1        0         0   \n33  33     33  Lecce  2024-06-23        10          0        0         0   \n34  34     34  Lecce  2024-06-16        12          1        1         0   \n35  35     35  Lecce  2024-06-06        12          0        0         0   \n36  36     36  Lecce  2024-06-25        10          0        0         0   \n37  37     37  Lecce  2024-06-05         6          0        0         0   \n38  38     38  Lecce  2024-06-09        11          0        0         0   \n39  39     39  Lecce  2024-06-11         5          0        0         0   \n\n    dutch  english  ...  Villa Comunale di Lecce  archeology  art  \\\n0       0        1  ...                        0           1    0   \n1       1        0  ...                        0           0    1   \n2       0        1  ...                        0           0    1   \n3       0        0  ...                        0           0    0   \n4       0        0  ...                        0           0    0   \n5       1        0  ...                        1           0    0   \n6       0        1  ...                        0           0    0   \n7       1        0  ...                        0           0    0   \n8       0        1  ...                        1           0    1   \n9       1        1  ...                        0           0    0   \n10      0        0  ...                        0           1    0   \n11      0        0  ...                        0           0    0   \n12      1        0  ...                        0           0    0   \n13      0        1  ...                        0           0    1   \n14      0        0  ...                        0           0    0   \n15      0        0  ...                        0           1    1   \n16      0        0  ...                        0           1    0   \n17      1        0  ...                        0           0    0   \n18      1        0  ...                        0           0    0   \n19      0        1  ...                        0           0    1   \n20      0        0  ...                        0           0    0   \n21      0        0  ...                        0           0    0   \n22      0        0  ...                        1           0    0   \n23      0        1  ...                        0           0    1   \n24      1        0  ...                        0           1    0   \n25      0        0  ...                        0           0    0   \n26      1        0  ...                        0           0    1   \n27      0        0  ...                        0           0    1   \n28      0        0  ...                        0           0    0   \n29      0        0  ...                        0           1    0   \n30      0        1  ...                        0           0    1   \n31      0        1  ...                        0           0    0   \n32      0        0  ...                        0           0    0   \n33      0        0  ...                        0           0    0   \n34      0        0  ...                        0           0    0   \n35      0        0  ...                        0           0    1   \n36      0        0  ...                        0           1    0   \n37      1        0  ...                        0           0    0   \n38      0        0  ...                        0           0    1   \n39      1        0  ...                        1           0    1   \n\n    countryside  history  literature  museums  high_cost  low_cost  \\\n0             0        0           1        0          1         0   \n1             0        1           0        0          0         0   \n2             0        0           1        0          0         0   \n3             0        0           0        1          0         0   \n4             0        1           1        0          0         0   \n5             1        0           1        1          1         0   \n6             0        1           0        0          1         0   \n7             0        1           0        1          0         0   \n8             1        0           0        0          1         0   \n9             0        0           1        0          0         0   \n10            0        1           1        0          0         1   \n11            0        1           0        0          0         0   \n12            0        0           1        0          0         0   \n13            0        0           0        0          1         0   \n14            0        0           0        1          0         1   \n15            0        0           0        0          0         0   \n16            0        0           0        0          1         0   \n17            0        0           1        1          0         1   \n18            0        1           0        0          0         1   \n19            0        0           1        0          0         0   \n20            0        1           0        0          1         0   \n21            0        0           1        1          0         1   \n22            1        1           1        0          0         0   \n23            0        0           0        0          0         0   \n24            0        1           0        0          1         0   \n25            0        1           1        0          0         1   \n26            0        0           1        0          0         0   \n27            0        1           0        0          1         0   \n28            0        0           1        1          0         0   \n29            0        1           0        0          0         0   \n30            0        1           1        0          0         0   \n31            0        1           0        0          0         1   \n32            0        1           0        0          0         0   \n33            0        0           1        0          0         0   \n34            0        0           1        0          0         0   \n35            0        0           1        1          1         0   \n36            0        0           1        0          0         1   \n37            0        0           1        0          1         0   \n38            0        0           1        0          0         0   \n39            1        0           0        0          0         1   \n\n    medium_cost  \n0             0  \n1             1  \n2             1  \n3             1  \n4             1  \n5             0  \n6             0  \n7             1  \n8             0  \n9             1  \n10            0  \n11            1  \n12            1  \n13            0  \n14            0  \n15            1  \n16            0  \n17            0  \n18            0  \n19            1  \n20            0  \n21            0  \n22            1  \n23            1  \n24            0  \n25            0  \n26            1  \n27            0  \n28            1  \n29            1  \n30            1  \n31            0  \n32            1  \n33            1  \n34            1  \n35            0  \n36            0  \n37            0  \n38            1  \n39            0  \n\n[40 rows x 41 columns]",
      "text/html": "<div>\n<style scoped>\n    .dataframe tbody tr th:only-of-type {\n        vertical-align: middle;\n    }\n\n    .dataframe tbody tr th {\n        vertical-align: top;\n    }\n\n    .dataframe thead th {\n        text-align: right;\n    }\n</style>\n<table border=\"1\" class=\"dataframe\">\n  <thead>\n    <tr style=\"text-align: right;\">\n      <th></th>\n      <th>id</th>\n      <th>guide</th>\n      <th>city</th>\n      <th>date</th>\n      <th>duration</th>\n      <th>bulgarian</th>\n      <th>chinese</th>\n      <th>deutsche</th>\n      <th>dutch</th>\n      <th>english</th>\n      <th>...</th>\n      <th>Villa Comunale di Lecce</th>\n      <th>archeology</th>\n      <th>art</th>\n      <th>countryside</th>\n      <th>history</th>\n      <th>literature</th>\n      <th>museums</th>\n      <th>high_cost</th>\n      <th>low_cost</th>\n      <th>medium_cost</th>\n    </tr>\n  </thead>\n  <tbody>\n    <tr>\n      <th>0</th>\n      <td>0</td>\n      <td>0</td>\n      <td>Lecce</td>\n      <td>2024-06-27</td>\n      <td>12</td>\n      <td>0</td>\n      <td>0</td>\n      <td>0</td>\n      <td>0</td>\n      <td>1</td>\n      <td>...</td>\n      <td>0</td>\n      <td>1</td>\n      <td>0</td>\n      <td>0</td>\n      <td>0</td>\n      <td>1</td>\n      <td>0</td>\n      <td>1</td>\n      <td>0</td>\n      <td>0</td>\n    </tr>\n    <tr>\n      <th>1</th>\n      <td>1</td>\n      <td>1</td>\n      <td>Lecce</td>\n      <td>2024-06-02</td>\n      <td>11</td>\n      <td>0</td>\n      <td>0</td>\n      <td>0</td>\n      <td>1</td>\n      <td>0</td>\n      <td>...</td>\n      <td>0</td>\n      <td>0</td>\n      <td>1</td>\n      <td>0</td>\n      <td>1</td>\n      <td>0</td>\n      <td>0</td>\n      <td>0</td>\n      <td>0</td>\n      <td>1</td>\n    </tr>\n    <tr>\n      <th>2</th>\n      <td>2</td>\n      <td>2</td>\n      <td>Lecce</td>\n      <td>2024-06-09</td>\n      <td>12</td>\n      <td>0</td>\n      <td>1</td>\n      <td>0</td>\n      <td>0</td>\n      <td>1</td>\n      <td>...</td>\n      <td>0</td>\n      <td>0</td>\n      <td>1</td>\n      <td>0</td>\n      <td>0</td>\n      <td>1</td>\n      <td>0</td>\n      <td>0</td>\n      <td>0</td>\n      <td>1</td>\n    </tr>\n    <tr>\n      <th>3</th>\n      <td>3</td>\n      <td>3</td>\n      <td>Lecce</td>\n      <td>2024-06-26</td>\n      <td>9</td>\n      <td>1</td>\n      <td>0</td>\n      <td>0</td>\n      <td>0</td>\n      <td>0</td>\n      <td>...</td>\n      <td>0</td>\n      <td>0</td>\n      <td>0</td>\n      <td>0</td>\n      <td>0</td>\n      <td>0</td>\n      <td>1</td>\n      <td>0</td>\n      <td>0</td>\n      <td>1</td>\n    </tr>\n    <tr>\n      <th>4</th>\n      <td>4</td>\n      <td>4</td>\n      <td>Lecce</td>\n      <td>2024-06-03</td>\n      <td>11</td>\n      <td>0</td>\n      <td>0</td>\n      <td>1</td>\n      <td>0</td>\n      <td>0</td>\n      <td>...</td>\n      <td>0</td>\n      <td>0</td>\n      <td>0</td>\n      <td>0</td>\n      <td>1</td>\n      <td>1</td>\n      <td>0</td>\n      <td>0</td>\n      <td>0</td>\n      <td>1</td>\n    </tr>\n    <tr>\n      <th>5</th>\n      <td>5</td>\n      <td>5</td>\n      <td>Lecce</td>\n      <td>2024-06-29</td>\n      <td>11</td>\n      <td>1</td>\n      <td>0</td>\n      <td>1</td>\n      <td>1</td>\n      <td>0</td>\n      <td>...</td>\n      <td>1</td>\n      <td>0</td>\n      <td>0</td>\n      <td>1</td>\n      <td>0</td>\n      <td>1</td>\n      <td>1</td>\n      <td>1</td>\n      <td>0</td>\n      <td>0</td>\n    </tr>\n    <tr>\n      <th>6</th>\n      <td>6</td>\n      <td>6</td>\n      <td>Lecce</td>\n      <td>2024-06-17</td>\n      <td>12</td>\n      <td>0</td>\n      <td>1</td>\n      <td>0</td>\n      <td>0</td>\n      <td>1</td>\n      <td>...</td>\n      <td>0</td>\n      <td>0</td>\n      <td>0</td>\n      <td>0</td>\n      <td>1</td>\n      <td>0</td>\n      <td>0</td>\n      <td>1</td>\n      <td>0</td>\n      <td>0</td>\n    </tr>\n    <tr>\n      <th>7</th>\n      <td>7</td>\n      <td>7</td>\n      <td>Lecce</td>\n      <td>2024-06-29</td>\n      <td>7</td>\n      <td>0</td>\n      <td>0</td>\n      <td>0</td>\n      <td>1</td>\n      <td>0</td>\n      <td>...</td>\n      <td>0</td>\n      <td>0</td>\n      <td>0</td>\n      <td>0</td>\n      <td>1</td>\n      <td>0</td>\n      <td>1</td>\n      <td>0</td>\n      <td>0</td>\n      <td>1</td>\n    </tr>\n    <tr>\n      <th>8</th>\n      <td>8</td>\n      <td>8</td>\n      <td>Lecce</td>\n      <td>2024-06-28</td>\n      <td>10</td>\n      <td>1</td>\n      <td>1</td>\n      <td>0</td>\n      <td>0</td>\n      <td>1</td>\n      <td>...</td>\n      <td>1</td>\n      <td>0</td>\n      <td>1</td>\n      <td>1</td>\n      <td>0</td>\n      <td>0</td>\n      <td>0</td>\n      <td>1</td>\n      <td>0</td>\n      <td>0</td>\n    </tr>\n    <tr>\n      <th>9</th>\n      <td>9</td>\n      <td>9</td>\n      <td>Lecce</td>\n      <td>2024-07-01</td>\n      <td>7</td>\n      <td>1</td>\n      <td>1</td>\n      <td>0</td>\n      <td>1</td>\n      <td>1</td>\n      <td>...</td>\n      <td>0</td>\n      <td>0</td>\n      <td>0</td>\n      <td>0</td>\n      <td>0</td>\n      <td>1</td>\n      <td>0</td>\n      <td>0</td>\n      <td>0</td>\n      <td>1</td>\n    </tr>\n    <tr>\n      <th>10</th>\n      <td>10</td>\n      <td>10</td>\n      <td>Lecce</td>\n      <td>2024-06-10</td>\n      <td>11</td>\n      <td>1</td>\n      <td>0</td>\n      <td>1</td>\n      <td>0</td>\n      <td>0</td>\n      <td>...</td>\n      <td>0</td>\n      <td>1</td>\n      <td>0</td>\n      <td>0</td>\n      <td>1</td>\n      <td>1</td>\n      <td>0</td>\n      <td>0</td>\n      <td>1</td>\n      <td>0</td>\n    </tr>\n    <tr>\n      <th>11</th>\n      <td>11</td>\n      <td>11</td>\n      <td>Lecce</td>\n      <td>2024-06-16</td>\n      <td>8</td>\n      <td>1</td>\n      <td>0</td>\n      <td>0</td>\n      <td>0</td>\n      <td>0</td>\n      <td>...</td>\n      <td>0</td>\n      <td>0</td>\n      <td>0</td>\n      <td>0</td>\n      <td>1</td>\n      <td>0</td>\n      <td>0</td>\n      <td>0</td>\n      <td>0</td>\n      <td>1</td>\n    </tr>\n    <tr>\n      <th>12</th>\n      <td>12</td>\n      <td>12</td>\n      <td>Lecce</td>\n      <td>2024-06-26</td>\n      <td>8</td>\n      <td>0</td>\n      <td>0</td>\n      <td>0</td>\n      <td>1</td>\n      <td>0</td>\n      <td>...</td>\n      <td>0</td>\n      <td>0</td>\n      <td>0</td>\n      <td>0</td>\n      <td>0</td>\n      <td>1</td>\n      <td>0</td>\n      <td>0</td>\n      <td>0</td>\n      <td>1</td>\n    </tr>\n    <tr>\n      <th>13</th>\n      <td>13</td>\n      <td>13</td>\n      <td>Lecce</td>\n      <td>2024-06-16</td>\n      <td>6</td>\n      <td>0</td>\n      <td>1</td>\n      <td>0</td>\n      <td>0</td>\n      <td>1</td>\n      <td>...</td>\n      <td>0</td>\n      <td>0</td>\n      <td>1</td>\n      <td>0</td>\n      <td>0</td>\n      <td>0</td>\n      <td>0</td>\n      <td>1</td>\n      <td>0</td>\n      <td>0</td>\n    </tr>\n    <tr>\n      <th>14</th>\n      <td>14</td>\n      <td>14</td>\n      <td>Lecce</td>\n      <td>2024-06-14</td>\n      <td>10</td>\n      <td>0</td>\n      <td>1</td>\n      <td>0</td>\n      <td>0</td>\n      <td>0</td>\n      <td>...</td>\n      <td>0</td>\n      <td>0</td>\n      <td>0</td>\n      <td>0</td>\n      <td>0</td>\n      <td>0</td>\n      <td>1</td>\n      <td>0</td>\n      <td>1</td>\n      <td>0</td>\n    </tr>\n    <tr>\n      <th>15</th>\n      <td>15</td>\n      <td>15</td>\n      <td>Lecce</td>\n      <td>2024-06-22</td>\n      <td>5</td>\n      <td>0</td>\n      <td>1</td>\n      <td>1</td>\n      <td>0</td>\n      <td>0</td>\n      <td>...</td>\n      <td>0</td>\n      <td>1</td>\n      <td>1</td>\n      <td>0</td>\n      <td>0</td>\n      <td>0</td>\n      <td>0</td>\n      <td>0</td>\n      <td>0</td>\n      <td>1</td>\n    </tr>\n    <tr>\n      <th>16</th>\n      <td>16</td>\n      <td>16</td>\n      <td>Lecce</td>\n      <td>2024-06-29</td>\n      <td>9</td>\n      <td>1</td>\n      <td>0</td>\n      <td>0</td>\n      <td>0</td>\n      <td>0</td>\n      <td>...</td>\n      <td>0</td>\n      <td>1</td>\n      <td>0</td>\n      <td>0</td>\n      <td>0</td>\n      <td>0</td>\n      <td>0</td>\n      <td>1</td>\n      <td>0</td>\n      <td>0</td>\n    </tr>\n    <tr>\n      <th>17</th>\n      <td>17</td>\n      <td>17</td>\n      <td>Lecce</td>\n      <td>2024-06-09</td>\n      <td>9</td>\n      <td>0</td>\n      <td>0</td>\n      <td>0</td>\n      <td>1</td>\n      <td>0</td>\n      <td>...</td>\n      <td>0</td>\n      <td>0</td>\n      <td>0</td>\n      <td>0</td>\n      <td>0</td>\n      <td>1</td>\n      <td>1</td>\n      <td>0</td>\n      <td>1</td>\n      <td>0</td>\n    </tr>\n    <tr>\n      <th>18</th>\n      <td>18</td>\n      <td>18</td>\n      <td>Lecce</td>\n      <td>2024-06-16</td>\n      <td>6</td>\n      <td>0</td>\n      <td>0</td>\n      <td>0</td>\n      <td>1</td>\n      <td>0</td>\n      <td>...</td>\n      <td>0</td>\n      <td>0</td>\n      <td>0</td>\n      <td>0</td>\n      <td>1</td>\n      <td>0</td>\n      <td>0</td>\n      <td>0</td>\n      <td>1</td>\n      <td>0</td>\n    </tr>\n    <tr>\n      <th>19</th>\n      <td>19</td>\n      <td>19</td>\n      <td>Lecce</td>\n      <td>2024-06-26</td>\n      <td>12</td>\n      <td>1</td>\n      <td>0</td>\n      <td>1</td>\n      <td>0</td>\n      <td>1</td>\n      <td>...</td>\n      <td>0</td>\n      <td>0</td>\n      <td>1</td>\n      <td>0</td>\n      <td>0</td>\n      <td>1</td>\n      <td>0</td>\n      <td>0</td>\n      <td>0</td>\n      <td>1</td>\n    </tr>\n    <tr>\n      <th>20</th>\n      <td>20</td>\n      <td>20</td>\n      <td>Lecce</td>\n      <td>2024-06-22</td>\n      <td>9</td>\n      <td>0</td>\n      <td>0</td>\n      <td>1</td>\n      <td>0</td>\n      <td>0</td>\n      <td>...</td>\n      <td>0</td>\n      <td>0</td>\n      <td>0</td>\n      <td>0</td>\n      <td>1</td>\n      <td>0</td>\n      <td>0</td>\n      <td>1</td>\n      <td>0</td>\n      <td>0</td>\n    </tr>\n    <tr>\n      <th>21</th>\n      <td>21</td>\n      <td>21</td>\n      <td>Lecce</td>\n      <td>2024-06-14</td>\n      <td>6</td>\n      <td>0</td>\n      <td>1</td>\n      <td>0</td>\n      <td>0</td>\n      <td>0</td>\n      <td>...</td>\n      <td>0</td>\n      <td>0</td>\n      <td>0</td>\n      <td>0</td>\n      <td>0</td>\n      <td>1</td>\n      <td>1</td>\n      <td>0</td>\n      <td>1</td>\n      <td>0</td>\n    </tr>\n    <tr>\n      <th>22</th>\n      <td>22</td>\n      <td>22</td>\n      <td>Lecce</td>\n      <td>2024-06-13</td>\n      <td>9</td>\n      <td>0</td>\n      <td>1</td>\n      <td>0</td>\n      <td>0</td>\n      <td>0</td>\n      <td>...</td>\n      <td>1</td>\n      <td>0</td>\n      <td>0</td>\n      <td>1</td>\n      <td>1</td>\n      <td>1</td>\n      <td>0</td>\n      <td>0</td>\n      <td>0</td>\n      <td>1</td>\n    </tr>\n    <tr>\n      <th>23</th>\n      <td>23</td>\n      <td>23</td>\n      <td>Lecce</td>\n      <td>2024-06-05</td>\n      <td>9</td>\n      <td>1</td>\n      <td>0</td>\n      <td>0</td>\n      <td>0</td>\n      <td>1</td>\n      <td>...</td>\n      <td>0</td>\n      <td>0</td>\n      <td>1</td>\n      <td>0</td>\n      <td>0</td>\n      <td>0</td>\n      <td>0</td>\n      <td>0</td>\n      <td>0</td>\n      <td>1</td>\n    </tr>\n    <tr>\n      <th>24</th>\n      <td>24</td>\n      <td>24</td>\n      <td>Lecce</td>\n      <td>2024-06-29</td>\n      <td>12</td>\n      <td>1</td>\n      <td>0</td>\n      <td>0</td>\n      <td>1</td>\n      <td>0</td>\n      <td>...</td>\n      <td>0</td>\n      <td>1</td>\n      <td>0</td>\n      <td>0</td>\n      <td>1</td>\n      <td>0</td>\n      <td>0</td>\n      <td>1</td>\n      <td>0</td>\n      <td>0</td>\n    </tr>\n    <tr>\n      <th>25</th>\n      <td>25</td>\n      <td>25</td>\n      <td>Lecce</td>\n      <td>2024-06-01</td>\n      <td>9</td>\n      <td>1</td>\n      <td>0</td>\n      <td>0</td>\n      <td>0</td>\n      <td>0</td>\n      <td>...</td>\n      <td>0</td>\n      <td>0</td>\n      <td>0</td>\n      <td>0</td>\n      <td>1</td>\n      <td>1</td>\n      <td>0</td>\n      <td>0</td>\n      <td>1</td>\n      <td>0</td>\n    </tr>\n    <tr>\n      <th>26</th>\n      <td>26</td>\n      <td>26</td>\n      <td>Lecce</td>\n      <td>2024-06-29</td>\n      <td>8</td>\n      <td>0</td>\n      <td>0</td>\n      <td>0</td>\n      <td>1</td>\n      <td>0</td>\n      <td>...</td>\n      <td>0</td>\n      <td>0</td>\n      <td>1</td>\n      <td>0</td>\n      <td>0</td>\n      <td>1</td>\n      <td>0</td>\n      <td>0</td>\n      <td>0</td>\n      <td>1</td>\n    </tr>\n    <tr>\n      <th>27</th>\n      <td>27</td>\n      <td>27</td>\n      <td>Lecce</td>\n      <td>2024-06-12</td>\n      <td>7</td>\n      <td>0</td>\n      <td>0</td>\n      <td>0</td>\n      <td>0</td>\n      <td>0</td>\n      <td>...</td>\n      <td>0</td>\n      <td>0</td>\n      <td>1</td>\n      <td>0</td>\n      <td>1</td>\n      <td>0</td>\n      <td>0</td>\n      <td>1</td>\n      <td>0</td>\n      <td>0</td>\n    </tr>\n    <tr>\n      <th>28</th>\n      <td>28</td>\n      <td>28</td>\n      <td>Lecce</td>\n      <td>2024-06-14</td>\n      <td>5</td>\n      <td>0</td>\n      <td>0</td>\n      <td>0</td>\n      <td>0</td>\n      <td>0</td>\n      <td>...</td>\n      <td>0</td>\n      <td>0</td>\n      <td>0</td>\n      <td>0</td>\n      <td>0</td>\n      <td>1</td>\n      <td>1</td>\n      <td>0</td>\n      <td>0</td>\n      <td>1</td>\n    </tr>\n    <tr>\n      <th>29</th>\n      <td>29</td>\n      <td>29</td>\n      <td>Lecce</td>\n      <td>2024-06-10</td>\n      <td>6</td>\n      <td>1</td>\n      <td>1</td>\n      <td>0</td>\n      <td>0</td>\n      <td>0</td>\n      <td>...</td>\n      <td>0</td>\n      <td>1</td>\n      <td>0</td>\n      <td>0</td>\n      <td>1</td>\n      <td>0</td>\n      <td>0</td>\n      <td>0</td>\n      <td>0</td>\n      <td>1</td>\n    </tr>\n    <tr>\n      <th>30</th>\n      <td>30</td>\n      <td>30</td>\n      <td>Lecce</td>\n      <td>2024-06-06</td>\n      <td>5</td>\n      <td>0</td>\n      <td>0</td>\n      <td>1</td>\n      <td>0</td>\n      <td>1</td>\n      <td>...</td>\n      <td>0</td>\n      <td>0</td>\n      <td>1</td>\n      <td>0</td>\n      <td>1</td>\n      <td>1</td>\n      <td>0</td>\n      <td>0</td>\n      <td>0</td>\n      <td>1</td>\n    </tr>\n    <tr>\n      <th>31</th>\n      <td>31</td>\n      <td>31</td>\n      <td>Lecce</td>\n      <td>2024-06-05</td>\n      <td>8</td>\n      <td>0</td>\n      <td>0</td>\n      <td>1</td>\n      <td>0</td>\n      <td>1</td>\n      <td>...</td>\n      <td>0</td>\n      <td>0</td>\n      <td>0</td>\n      <td>0</td>\n      <td>1</td>\n      <td>0</td>\n      <td>0</td>\n      <td>0</td>\n      <td>1</td>\n      <td>0</td>\n    </tr>\n    <tr>\n      <th>32</th>\n      <td>32</td>\n      <td>32</td>\n      <td>Lecce</td>\n      <td>2024-06-12</td>\n      <td>6</td>\n      <td>1</td>\n      <td>0</td>\n      <td>0</td>\n      <td>0</td>\n      <td>0</td>\n      <td>...</td>\n      <td>0</td>\n      <td>0</td>\n      <td>0</td>\n      <td>0</td>\n      <td>1</td>\n      <td>0</td>\n      <td>0</td>\n      <td>0</td>\n      <td>0</td>\n      <td>1</td>\n    </tr>\n    <tr>\n      <th>33</th>\n      <td>33</td>\n      <td>33</td>\n      <td>Lecce</td>\n      <td>2024-06-23</td>\n      <td>10</td>\n      <td>0</td>\n      <td>0</td>\n      <td>0</td>\n      <td>0</td>\n      <td>0</td>\n      <td>...</td>\n      <td>0</td>\n      <td>0</td>\n      <td>0</td>\n      <td>0</td>\n      <td>0</td>\n      <td>1</td>\n      <td>0</td>\n      <td>0</td>\n      <td>0</td>\n      <td>1</td>\n    </tr>\n    <tr>\n      <th>34</th>\n      <td>34</td>\n      <td>34</td>\n      <td>Lecce</td>\n      <td>2024-06-16</td>\n      <td>12</td>\n      <td>1</td>\n      <td>1</td>\n      <td>0</td>\n      <td>0</td>\n      <td>0</td>\n      <td>...</td>\n      <td>0</td>\n      <td>0</td>\n      <td>0</td>\n      <td>0</td>\n      <td>0</td>\n      <td>1</td>\n      <td>0</td>\n      <td>0</td>\n      <td>0</td>\n      <td>1</td>\n    </tr>\n    <tr>\n      <th>35</th>\n      <td>35</td>\n      <td>35</td>\n      <td>Lecce</td>\n      <td>2024-06-06</td>\n      <td>12</td>\n      <td>0</td>\n      <td>0</td>\n      <td>0</td>\n      <td>0</td>\n      <td>0</td>\n      <td>...</td>\n      <td>0</td>\n      <td>0</td>\n      <td>1</td>\n      <td>0</td>\n      <td>0</td>\n      <td>1</td>\n      <td>1</td>\n      <td>1</td>\n      <td>0</td>\n      <td>0</td>\n    </tr>\n    <tr>\n      <th>36</th>\n      <td>36</td>\n      <td>36</td>\n      <td>Lecce</td>\n      <td>2024-06-25</td>\n      <td>10</td>\n      <td>0</td>\n      <td>0</td>\n      <td>0</td>\n      <td>0</td>\n      <td>0</td>\n      <td>...</td>\n      <td>0</td>\n      <td>1</td>\n      <td>0</td>\n      <td>0</td>\n      <td>0</td>\n      <td>1</td>\n      <td>0</td>\n      <td>0</td>\n      <td>1</td>\n      <td>0</td>\n    </tr>\n    <tr>\n      <th>37</th>\n      <td>37</td>\n      <td>37</td>\n      <td>Lecce</td>\n      <td>2024-06-05</td>\n      <td>6</td>\n      <td>0</td>\n      <td>0</td>\n      <td>0</td>\n      <td>1</td>\n      <td>0</td>\n      <td>...</td>\n      <td>0</td>\n      <td>0</td>\n      <td>0</td>\n      <td>0</td>\n      <td>0</td>\n      <td>1</td>\n      <td>0</td>\n      <td>1</td>\n      <td>0</td>\n      <td>0</td>\n    </tr>\n    <tr>\n      <th>38</th>\n      <td>38</td>\n      <td>38</td>\n      <td>Lecce</td>\n      <td>2024-06-09</td>\n      <td>11</td>\n      <td>0</td>\n      <td>0</td>\n      <td>0</td>\n      <td>0</td>\n      <td>0</td>\n      <td>...</td>\n      <td>0</td>\n      <td>0</td>\n      <td>1</td>\n      <td>0</td>\n      <td>0</td>\n      <td>1</td>\n      <td>0</td>\n      <td>0</td>\n      <td>0</td>\n      <td>1</td>\n    </tr>\n    <tr>\n      <th>39</th>\n      <td>39</td>\n      <td>39</td>\n      <td>Lecce</td>\n      <td>2024-06-11</td>\n      <td>5</td>\n      <td>0</td>\n      <td>0</td>\n      <td>0</td>\n      <td>1</td>\n      <td>0</td>\n      <td>...</td>\n      <td>1</td>\n      <td>0</td>\n      <td>1</td>\n      <td>1</td>\n      <td>0</td>\n      <td>0</td>\n      <td>0</td>\n      <td>0</td>\n      <td>1</td>\n      <td>0</td>\n    </tr>\n  </tbody>\n</table>\n<p>40 rows × 41 columns</p>\n</div>"
     },
     "execution_count": 71,
     "metadata": {},
     "output_type": "execute_result"
    }
   ],
   "source": [
    "icm_df"
   ]
  },
  {
   "cell_type": "code",
   "execution_count": 72,
   "id": "a6e5a881",
   "metadata": {
    "pycharm": {
     "name": "#%%\n"
    }
   },
   "outputs": [
    {
     "data": {
      "text/plain": "['id',\n 'guide',\n 'city',\n 'date',\n 'duration',\n 'bulgarian',\n 'chinese',\n 'deutsche',\n 'dutch',\n 'english',\n 'french',\n 'italian',\n 'spanish',\n 'Basilica di Santa Croce',\n 'Castello di Carlo V',\n 'Celestine Convent',\n 'Church of San Francesco della Scarpa',\n 'Church of San Matteo',\n 'Church of San Niccol貌 e Cataldo',\n 'Church of Santa Chiara',\n \"Colonna di Sant'Oronzo\",\n 'Lecce Cathedral',\n 'Museo Faggiano',\n 'Palazzo Carafa',\n 'Palazzo dei Celestini',\n \"Piazza Sant'Oronzo\",\n 'Porta Napoli',\n 'Roman Amphitheatre',\n 'Roman Theatre',\n 'San Giovanni Battista Church',\n 'Torre del Parco',\n 'Villa Comunale di Lecce',\n 'archeology',\n 'art',\n 'countryside',\n 'history',\n 'literature',\n 'museums',\n 'high_cost',\n 'low_cost',\n 'medium_cost']"
     },
     "execution_count": 72,
     "metadata": {},
     "output_type": "execute_result"
    }
   ],
   "source": [
    "# Print the list of attributes\n",
    "attribute_list = icm_df.columns.tolist()\n",
    "attribute_list"
   ]
  },
  {
   "cell_type": "code",
   "execution_count": 73,
   "id": "5b0ea53f",
   "metadata": {
    "pycharm": {
     "name": "#%%\n"
    }
   },
   "outputs": [
    {
     "data": {
      "text/plain": "    id   1      2           3   4  5  6  7  8  9  ...  31  32  33  34  35  36  \\\n0    0   0  Lecce  2024-06-27  12  0  0  0  0  1  ...   0   1   0   0   0   1   \n1    1   1  Lecce  2024-06-02  11  0  0  0  1  0  ...   0   0   1   0   1   0   \n2    2   2  Lecce  2024-06-09  12  0  1  0  0  1  ...   0   0   1   0   0   1   \n3    3   3  Lecce  2024-06-26   9  1  0  0  0  0  ...   0   0   0   0   0   0   \n4    4   4  Lecce  2024-06-03  11  0  0  1  0  0  ...   0   0   0   0   1   1   \n5    5   5  Lecce  2024-06-29  11  1  0  1  1  0  ...   1   0   0   1   0   1   \n6    6   6  Lecce  2024-06-17  12  0  1  0  0  1  ...   0   0   0   0   1   0   \n7    7   7  Lecce  2024-06-29   7  0  0  0  1  0  ...   0   0   0   0   1   0   \n8    8   8  Lecce  2024-06-28  10  1  1  0  0  1  ...   1   0   1   1   0   0   \n9    9   9  Lecce  2024-07-01   7  1  1  0  1  1  ...   0   0   0   0   0   1   \n10  10  10  Lecce  2024-06-10  11  1  0  1  0  0  ...   0   1   0   0   1   1   \n11  11  11  Lecce  2024-06-16   8  1  0  0  0  0  ...   0   0   0   0   1   0   \n12  12  12  Lecce  2024-06-26   8  0  0  0  1  0  ...   0   0   0   0   0   1   \n13  13  13  Lecce  2024-06-16   6  0  1  0  0  1  ...   0   0   1   0   0   0   \n14  14  14  Lecce  2024-06-14  10  0  1  0  0  0  ...   0   0   0   0   0   0   \n15  15  15  Lecce  2024-06-22   5  0  1  1  0  0  ...   0   1   1   0   0   0   \n16  16  16  Lecce  2024-06-29   9  1  0  0  0  0  ...   0   1   0   0   0   0   \n17  17  17  Lecce  2024-06-09   9  0  0  0  1  0  ...   0   0   0   0   0   1   \n18  18  18  Lecce  2024-06-16   6  0  0  0  1  0  ...   0   0   0   0   1   0   \n19  19  19  Lecce  2024-06-26  12  1  0  1  0  1  ...   0   0   1   0   0   1   \n20  20  20  Lecce  2024-06-22   9  0  0  1  0  0  ...   0   0   0   0   1   0   \n21  21  21  Lecce  2024-06-14   6  0  1  0  0  0  ...   0   0   0   0   0   1   \n22  22  22  Lecce  2024-06-13   9  0  1  0  0  0  ...   1   0   0   1   1   1   \n23  23  23  Lecce  2024-06-05   9  1  0  0  0  1  ...   0   0   1   0   0   0   \n24  24  24  Lecce  2024-06-29  12  1  0  0  1  0  ...   0   1   0   0   1   0   \n25  25  25  Lecce  2024-06-01   9  1  0  0  0  0  ...   0   0   0   0   1   1   \n26  26  26  Lecce  2024-06-29   8  0  0  0  1  0  ...   0   0   1   0   0   1   \n27  27  27  Lecce  2024-06-12   7  0  0  0  0  0  ...   0   0   1   0   1   0   \n28  28  28  Lecce  2024-06-14   5  0  0  0  0  0  ...   0   0   0   0   0   1   \n29  29  29  Lecce  2024-06-10   6  1  1  0  0  0  ...   0   1   0   0   1   0   \n30  30  30  Lecce  2024-06-06   5  0  0  1  0  1  ...   0   0   1   0   1   1   \n31  31  31  Lecce  2024-06-05   8  0  0  1  0  1  ...   0   0   0   0   1   0   \n32  32  32  Lecce  2024-06-12   6  1  0  0  0  0  ...   0   0   0   0   1   0   \n33  33  33  Lecce  2024-06-23  10  0  0  0  0  0  ...   0   0   0   0   0   1   \n34  34  34  Lecce  2024-06-16  12  1  1  0  0  0  ...   0   0   0   0   0   1   \n35  35  35  Lecce  2024-06-06  12  0  0  0  0  0  ...   0   0   1   0   0   1   \n36  36  36  Lecce  2024-06-25  10  0  0  0  0  0  ...   0   1   0   0   0   1   \n37  37  37  Lecce  2024-06-05   6  0  0  0  1  0  ...   0   0   0   0   0   1   \n38  38  38  Lecce  2024-06-09  11  0  0  0  0  0  ...   0   0   1   0   0   1   \n39  39  39  Lecce  2024-06-11   5  0  0  0  1  0  ...   1   0   1   1   0   0   \n\n    37  38  39  40  \n0    0   1   0   0  \n1    0   0   0   1  \n2    0   0   0   1  \n3    1   0   0   1  \n4    0   0   0   1  \n5    1   1   0   0  \n6    0   1   0   0  \n7    1   0   0   1  \n8    0   1   0   0  \n9    0   0   0   1  \n10   0   0   1   0  \n11   0   0   0   1  \n12   0   0   0   1  \n13   0   1   0   0  \n14   1   0   1   0  \n15   0   0   0   1  \n16   0   1   0   0  \n17   1   0   1   0  \n18   0   0   1   0  \n19   0   0   0   1  \n20   0   1   0   0  \n21   1   0   1   0  \n22   0   0   0   1  \n23   0   0   0   1  \n24   0   1   0   0  \n25   0   0   1   0  \n26   0   0   0   1  \n27   0   1   0   0  \n28   1   0   0   1  \n29   0   0   0   1  \n30   0   0   0   1  \n31   0   0   1   0  \n32   0   0   0   1  \n33   0   0   0   1  \n34   0   0   0   1  \n35   1   1   0   0  \n36   0   0   1   0  \n37   0   1   0   0  \n38   0   0   0   1  \n39   0   0   1   0  \n\n[40 rows x 41 columns]",
      "text/html": "<div>\n<style scoped>\n    .dataframe tbody tr th:only-of-type {\n        vertical-align: middle;\n    }\n\n    .dataframe tbody tr th {\n        vertical-align: top;\n    }\n\n    .dataframe thead th {\n        text-align: right;\n    }\n</style>\n<table border=\"1\" class=\"dataframe\">\n  <thead>\n    <tr style=\"text-align: right;\">\n      <th></th>\n      <th>id</th>\n      <th>1</th>\n      <th>2</th>\n      <th>3</th>\n      <th>4</th>\n      <th>5</th>\n      <th>6</th>\n      <th>7</th>\n      <th>8</th>\n      <th>9</th>\n      <th>...</th>\n      <th>31</th>\n      <th>32</th>\n      <th>33</th>\n      <th>34</th>\n      <th>35</th>\n      <th>36</th>\n      <th>37</th>\n      <th>38</th>\n      <th>39</th>\n      <th>40</th>\n    </tr>\n  </thead>\n  <tbody>\n    <tr>\n      <th>0</th>\n      <td>0</td>\n      <td>0</td>\n      <td>Lecce</td>\n      <td>2024-06-27</td>\n      <td>12</td>\n      <td>0</td>\n      <td>0</td>\n      <td>0</td>\n      <td>0</td>\n      <td>1</td>\n      <td>...</td>\n      <td>0</td>\n      <td>1</td>\n      <td>0</td>\n      <td>0</td>\n      <td>0</td>\n      <td>1</td>\n      <td>0</td>\n      <td>1</td>\n      <td>0</td>\n      <td>0</td>\n    </tr>\n    <tr>\n      <th>1</th>\n      <td>1</td>\n      <td>1</td>\n      <td>Lecce</td>\n      <td>2024-06-02</td>\n      <td>11</td>\n      <td>0</td>\n      <td>0</td>\n      <td>0</td>\n      <td>1</td>\n      <td>0</td>\n      <td>...</td>\n      <td>0</td>\n      <td>0</td>\n      <td>1</td>\n      <td>0</td>\n      <td>1</td>\n      <td>0</td>\n      <td>0</td>\n      <td>0</td>\n      <td>0</td>\n      <td>1</td>\n    </tr>\n    <tr>\n      <th>2</th>\n      <td>2</td>\n      <td>2</td>\n      <td>Lecce</td>\n      <td>2024-06-09</td>\n      <td>12</td>\n      <td>0</td>\n      <td>1</td>\n      <td>0</td>\n      <td>0</td>\n      <td>1</td>\n      <td>...</td>\n      <td>0</td>\n      <td>0</td>\n      <td>1</td>\n      <td>0</td>\n      <td>0</td>\n      <td>1</td>\n      <td>0</td>\n      <td>0</td>\n      <td>0</td>\n      <td>1</td>\n    </tr>\n    <tr>\n      <th>3</th>\n      <td>3</td>\n      <td>3</td>\n      <td>Lecce</td>\n      <td>2024-06-26</td>\n      <td>9</td>\n      <td>1</td>\n      <td>0</td>\n      <td>0</td>\n      <td>0</td>\n      <td>0</td>\n      <td>...</td>\n      <td>0</td>\n      <td>0</td>\n      <td>0</td>\n      <td>0</td>\n      <td>0</td>\n      <td>0</td>\n      <td>1</td>\n      <td>0</td>\n      <td>0</td>\n      <td>1</td>\n    </tr>\n    <tr>\n      <th>4</th>\n      <td>4</td>\n      <td>4</td>\n      <td>Lecce</td>\n      <td>2024-06-03</td>\n      <td>11</td>\n      <td>0</td>\n      <td>0</td>\n      <td>1</td>\n      <td>0</td>\n      <td>0</td>\n      <td>...</td>\n      <td>0</td>\n      <td>0</td>\n      <td>0</td>\n      <td>0</td>\n      <td>1</td>\n      <td>1</td>\n      <td>0</td>\n      <td>0</td>\n      <td>0</td>\n      <td>1</td>\n    </tr>\n    <tr>\n      <th>5</th>\n      <td>5</td>\n      <td>5</td>\n      <td>Lecce</td>\n      <td>2024-06-29</td>\n      <td>11</td>\n      <td>1</td>\n      <td>0</td>\n      <td>1</td>\n      <td>1</td>\n      <td>0</td>\n      <td>...</td>\n      <td>1</td>\n      <td>0</td>\n      <td>0</td>\n      <td>1</td>\n      <td>0</td>\n      <td>1</td>\n      <td>1</td>\n      <td>1</td>\n      <td>0</td>\n      <td>0</td>\n    </tr>\n    <tr>\n      <th>6</th>\n      <td>6</td>\n      <td>6</td>\n      <td>Lecce</td>\n      <td>2024-06-17</td>\n      <td>12</td>\n      <td>0</td>\n      <td>1</td>\n      <td>0</td>\n      <td>0</td>\n      <td>1</td>\n      <td>...</td>\n      <td>0</td>\n      <td>0</td>\n      <td>0</td>\n      <td>0</td>\n      <td>1</td>\n      <td>0</td>\n      <td>0</td>\n      <td>1</td>\n      <td>0</td>\n      <td>0</td>\n    </tr>\n    <tr>\n      <th>7</th>\n      <td>7</td>\n      <td>7</td>\n      <td>Lecce</td>\n      <td>2024-06-29</td>\n      <td>7</td>\n      <td>0</td>\n      <td>0</td>\n      <td>0</td>\n      <td>1</td>\n      <td>0</td>\n      <td>...</td>\n      <td>0</td>\n      <td>0</td>\n      <td>0</td>\n      <td>0</td>\n      <td>1</td>\n      <td>0</td>\n      <td>1</td>\n      <td>0</td>\n      <td>0</td>\n      <td>1</td>\n    </tr>\n    <tr>\n      <th>8</th>\n      <td>8</td>\n      <td>8</td>\n      <td>Lecce</td>\n      <td>2024-06-28</td>\n      <td>10</td>\n      <td>1</td>\n      <td>1</td>\n      <td>0</td>\n      <td>0</td>\n      <td>1</td>\n      <td>...</td>\n      <td>1</td>\n      <td>0</td>\n      <td>1</td>\n      <td>1</td>\n      <td>0</td>\n      <td>0</td>\n      <td>0</td>\n      <td>1</td>\n      <td>0</td>\n      <td>0</td>\n    </tr>\n    <tr>\n      <th>9</th>\n      <td>9</td>\n      <td>9</td>\n      <td>Lecce</td>\n      <td>2024-07-01</td>\n      <td>7</td>\n      <td>1</td>\n      <td>1</td>\n      <td>0</td>\n      <td>1</td>\n      <td>1</td>\n      <td>...</td>\n      <td>0</td>\n      <td>0</td>\n      <td>0</td>\n      <td>0</td>\n      <td>0</td>\n      <td>1</td>\n      <td>0</td>\n      <td>0</td>\n      <td>0</td>\n      <td>1</td>\n    </tr>\n    <tr>\n      <th>10</th>\n      <td>10</td>\n      <td>10</td>\n      <td>Lecce</td>\n      <td>2024-06-10</td>\n      <td>11</td>\n      <td>1</td>\n      <td>0</td>\n      <td>1</td>\n      <td>0</td>\n      <td>0</td>\n      <td>...</td>\n      <td>0</td>\n      <td>1</td>\n      <td>0</td>\n      <td>0</td>\n      <td>1</td>\n      <td>1</td>\n      <td>0</td>\n      <td>0</td>\n      <td>1</td>\n      <td>0</td>\n    </tr>\n    <tr>\n      <th>11</th>\n      <td>11</td>\n      <td>11</td>\n      <td>Lecce</td>\n      <td>2024-06-16</td>\n      <td>8</td>\n      <td>1</td>\n      <td>0</td>\n      <td>0</td>\n      <td>0</td>\n      <td>0</td>\n      <td>...</td>\n      <td>0</td>\n      <td>0</td>\n      <td>0</td>\n      <td>0</td>\n      <td>1</td>\n      <td>0</td>\n      <td>0</td>\n      <td>0</td>\n      <td>0</td>\n      <td>1</td>\n    </tr>\n    <tr>\n      <th>12</th>\n      <td>12</td>\n      <td>12</td>\n      <td>Lecce</td>\n      <td>2024-06-26</td>\n      <td>8</td>\n      <td>0</td>\n      <td>0</td>\n      <td>0</td>\n      <td>1</td>\n      <td>0</td>\n      <td>...</td>\n      <td>0</td>\n      <td>0</td>\n      <td>0</td>\n      <td>0</td>\n      <td>0</td>\n      <td>1</td>\n      <td>0</td>\n      <td>0</td>\n      <td>0</td>\n      <td>1</td>\n    </tr>\n    <tr>\n      <th>13</th>\n      <td>13</td>\n      <td>13</td>\n      <td>Lecce</td>\n      <td>2024-06-16</td>\n      <td>6</td>\n      <td>0</td>\n      <td>1</td>\n      <td>0</td>\n      <td>0</td>\n      <td>1</td>\n      <td>...</td>\n      <td>0</td>\n      <td>0</td>\n      <td>1</td>\n      <td>0</td>\n      <td>0</td>\n      <td>0</td>\n      <td>0</td>\n      <td>1</td>\n      <td>0</td>\n      <td>0</td>\n    </tr>\n    <tr>\n      <th>14</th>\n      <td>14</td>\n      <td>14</td>\n      <td>Lecce</td>\n      <td>2024-06-14</td>\n      <td>10</td>\n      <td>0</td>\n      <td>1</td>\n      <td>0</td>\n      <td>0</td>\n      <td>0</td>\n      <td>...</td>\n      <td>0</td>\n      <td>0</td>\n      <td>0</td>\n      <td>0</td>\n      <td>0</td>\n      <td>0</td>\n      <td>1</td>\n      <td>0</td>\n      <td>1</td>\n      <td>0</td>\n    </tr>\n    <tr>\n      <th>15</th>\n      <td>15</td>\n      <td>15</td>\n      <td>Lecce</td>\n      <td>2024-06-22</td>\n      <td>5</td>\n      <td>0</td>\n      <td>1</td>\n      <td>1</td>\n      <td>0</td>\n      <td>0</td>\n      <td>...</td>\n      <td>0</td>\n      <td>1</td>\n      <td>1</td>\n      <td>0</td>\n      <td>0</td>\n      <td>0</td>\n      <td>0</td>\n      <td>0</td>\n      <td>0</td>\n      <td>1</td>\n    </tr>\n    <tr>\n      <th>16</th>\n      <td>16</td>\n      <td>16</td>\n      <td>Lecce</td>\n      <td>2024-06-29</td>\n      <td>9</td>\n      <td>1</td>\n      <td>0</td>\n      <td>0</td>\n      <td>0</td>\n      <td>0</td>\n      <td>...</td>\n      <td>0</td>\n      <td>1</td>\n      <td>0</td>\n      <td>0</td>\n      <td>0</td>\n      <td>0</td>\n      <td>0</td>\n      <td>1</td>\n      <td>0</td>\n      <td>0</td>\n    </tr>\n    <tr>\n      <th>17</th>\n      <td>17</td>\n      <td>17</td>\n      <td>Lecce</td>\n      <td>2024-06-09</td>\n      <td>9</td>\n      <td>0</td>\n      <td>0</td>\n      <td>0</td>\n      <td>1</td>\n      <td>0</td>\n      <td>...</td>\n      <td>0</td>\n      <td>0</td>\n      <td>0</td>\n      <td>0</td>\n      <td>0</td>\n      <td>1</td>\n      <td>1</td>\n      <td>0</td>\n      <td>1</td>\n      <td>0</td>\n    </tr>\n    <tr>\n      <th>18</th>\n      <td>18</td>\n      <td>18</td>\n      <td>Lecce</td>\n      <td>2024-06-16</td>\n      <td>6</td>\n      <td>0</td>\n      <td>0</td>\n      <td>0</td>\n      <td>1</td>\n      <td>0</td>\n      <td>...</td>\n      <td>0</td>\n      <td>0</td>\n      <td>0</td>\n      <td>0</td>\n      <td>1</td>\n      <td>0</td>\n      <td>0</td>\n      <td>0</td>\n      <td>1</td>\n      <td>0</td>\n    </tr>\n    <tr>\n      <th>19</th>\n      <td>19</td>\n      <td>19</td>\n      <td>Lecce</td>\n      <td>2024-06-26</td>\n      <td>12</td>\n      <td>1</td>\n      <td>0</td>\n      <td>1</td>\n      <td>0</td>\n      <td>1</td>\n      <td>...</td>\n      <td>0</td>\n      <td>0</td>\n      <td>1</td>\n      <td>0</td>\n      <td>0</td>\n      <td>1</td>\n      <td>0</td>\n      <td>0</td>\n      <td>0</td>\n      <td>1</td>\n    </tr>\n    <tr>\n      <th>20</th>\n      <td>20</td>\n      <td>20</td>\n      <td>Lecce</td>\n      <td>2024-06-22</td>\n      <td>9</td>\n      <td>0</td>\n      <td>0</td>\n      <td>1</td>\n      <td>0</td>\n      <td>0</td>\n      <td>...</td>\n      <td>0</td>\n      <td>0</td>\n      <td>0</td>\n      <td>0</td>\n      <td>1</td>\n      <td>0</td>\n      <td>0</td>\n      <td>1</td>\n      <td>0</td>\n      <td>0</td>\n    </tr>\n    <tr>\n      <th>21</th>\n      <td>21</td>\n      <td>21</td>\n      <td>Lecce</td>\n      <td>2024-06-14</td>\n      <td>6</td>\n      <td>0</td>\n      <td>1</td>\n      <td>0</td>\n      <td>0</td>\n      <td>0</td>\n      <td>...</td>\n      <td>0</td>\n      <td>0</td>\n      <td>0</td>\n      <td>0</td>\n      <td>0</td>\n      <td>1</td>\n      <td>1</td>\n      <td>0</td>\n      <td>1</td>\n      <td>0</td>\n    </tr>\n    <tr>\n      <th>22</th>\n      <td>22</td>\n      <td>22</td>\n      <td>Lecce</td>\n      <td>2024-06-13</td>\n      <td>9</td>\n      <td>0</td>\n      <td>1</td>\n      <td>0</td>\n      <td>0</td>\n      <td>0</td>\n      <td>...</td>\n      <td>1</td>\n      <td>0</td>\n      <td>0</td>\n      <td>1</td>\n      <td>1</td>\n      <td>1</td>\n      <td>0</td>\n      <td>0</td>\n      <td>0</td>\n      <td>1</td>\n    </tr>\n    <tr>\n      <th>23</th>\n      <td>23</td>\n      <td>23</td>\n      <td>Lecce</td>\n      <td>2024-06-05</td>\n      <td>9</td>\n      <td>1</td>\n      <td>0</td>\n      <td>0</td>\n      <td>0</td>\n      <td>1</td>\n      <td>...</td>\n      <td>0</td>\n      <td>0</td>\n      <td>1</td>\n      <td>0</td>\n      <td>0</td>\n      <td>0</td>\n      <td>0</td>\n      <td>0</td>\n      <td>0</td>\n      <td>1</td>\n    </tr>\n    <tr>\n      <th>24</th>\n      <td>24</td>\n      <td>24</td>\n      <td>Lecce</td>\n      <td>2024-06-29</td>\n      <td>12</td>\n      <td>1</td>\n      <td>0</td>\n      <td>0</td>\n      <td>1</td>\n      <td>0</td>\n      <td>...</td>\n      <td>0</td>\n      <td>1</td>\n      <td>0</td>\n      <td>0</td>\n      <td>1</td>\n      <td>0</td>\n      <td>0</td>\n      <td>1</td>\n      <td>0</td>\n      <td>0</td>\n    </tr>\n    <tr>\n      <th>25</th>\n      <td>25</td>\n      <td>25</td>\n      <td>Lecce</td>\n      <td>2024-06-01</td>\n      <td>9</td>\n      <td>1</td>\n      <td>0</td>\n      <td>0</td>\n      <td>0</td>\n      <td>0</td>\n      <td>...</td>\n      <td>0</td>\n      <td>0</td>\n      <td>0</td>\n      <td>0</td>\n      <td>1</td>\n      <td>1</td>\n      <td>0</td>\n      <td>0</td>\n      <td>1</td>\n      <td>0</td>\n    </tr>\n    <tr>\n      <th>26</th>\n      <td>26</td>\n      <td>26</td>\n      <td>Lecce</td>\n      <td>2024-06-29</td>\n      <td>8</td>\n      <td>0</td>\n      <td>0</td>\n      <td>0</td>\n      <td>1</td>\n      <td>0</td>\n      <td>...</td>\n      <td>0</td>\n      <td>0</td>\n      <td>1</td>\n      <td>0</td>\n      <td>0</td>\n      <td>1</td>\n      <td>0</td>\n      <td>0</td>\n      <td>0</td>\n      <td>1</td>\n    </tr>\n    <tr>\n      <th>27</th>\n      <td>27</td>\n      <td>27</td>\n      <td>Lecce</td>\n      <td>2024-06-12</td>\n      <td>7</td>\n      <td>0</td>\n      <td>0</td>\n      <td>0</td>\n      <td>0</td>\n      <td>0</td>\n      <td>...</td>\n      <td>0</td>\n      <td>0</td>\n      <td>1</td>\n      <td>0</td>\n      <td>1</td>\n      <td>0</td>\n      <td>0</td>\n      <td>1</td>\n      <td>0</td>\n      <td>0</td>\n    </tr>\n    <tr>\n      <th>28</th>\n      <td>28</td>\n      <td>28</td>\n      <td>Lecce</td>\n      <td>2024-06-14</td>\n      <td>5</td>\n      <td>0</td>\n      <td>0</td>\n      <td>0</td>\n      <td>0</td>\n      <td>0</td>\n      <td>...</td>\n      <td>0</td>\n      <td>0</td>\n      <td>0</td>\n      <td>0</td>\n      <td>0</td>\n      <td>1</td>\n      <td>1</td>\n      <td>0</td>\n      <td>0</td>\n      <td>1</td>\n    </tr>\n    <tr>\n      <th>29</th>\n      <td>29</td>\n      <td>29</td>\n      <td>Lecce</td>\n      <td>2024-06-10</td>\n      <td>6</td>\n      <td>1</td>\n      <td>1</td>\n      <td>0</td>\n      <td>0</td>\n      <td>0</td>\n      <td>...</td>\n      <td>0</td>\n      <td>1</td>\n      <td>0</td>\n      <td>0</td>\n      <td>1</td>\n      <td>0</td>\n      <td>0</td>\n      <td>0</td>\n      <td>0</td>\n      <td>1</td>\n    </tr>\n    <tr>\n      <th>30</th>\n      <td>30</td>\n      <td>30</td>\n      <td>Lecce</td>\n      <td>2024-06-06</td>\n      <td>5</td>\n      <td>0</td>\n      <td>0</td>\n      <td>1</td>\n      <td>0</td>\n      <td>1</td>\n      <td>...</td>\n      <td>0</td>\n      <td>0</td>\n      <td>1</td>\n      <td>0</td>\n      <td>1</td>\n      <td>1</td>\n      <td>0</td>\n      <td>0</td>\n      <td>0</td>\n      <td>1</td>\n    </tr>\n    <tr>\n      <th>31</th>\n      <td>31</td>\n      <td>31</td>\n      <td>Lecce</td>\n      <td>2024-06-05</td>\n      <td>8</td>\n      <td>0</td>\n      <td>0</td>\n      <td>1</td>\n      <td>0</td>\n      <td>1</td>\n      <td>...</td>\n      <td>0</td>\n      <td>0</td>\n      <td>0</td>\n      <td>0</td>\n      <td>1</td>\n      <td>0</td>\n      <td>0</td>\n      <td>0</td>\n      <td>1</td>\n      <td>0</td>\n    </tr>\n    <tr>\n      <th>32</th>\n      <td>32</td>\n      <td>32</td>\n      <td>Lecce</td>\n      <td>2024-06-12</td>\n      <td>6</td>\n      <td>1</td>\n      <td>0</td>\n      <td>0</td>\n      <td>0</td>\n      <td>0</td>\n      <td>...</td>\n      <td>0</td>\n      <td>0</td>\n      <td>0</td>\n      <td>0</td>\n      <td>1</td>\n      <td>0</td>\n      <td>0</td>\n      <td>0</td>\n      <td>0</td>\n      <td>1</td>\n    </tr>\n    <tr>\n      <th>33</th>\n      <td>33</td>\n      <td>33</td>\n      <td>Lecce</td>\n      <td>2024-06-23</td>\n      <td>10</td>\n      <td>0</td>\n      <td>0</td>\n      <td>0</td>\n      <td>0</td>\n      <td>0</td>\n      <td>...</td>\n      <td>0</td>\n      <td>0</td>\n      <td>0</td>\n      <td>0</td>\n      <td>0</td>\n      <td>1</td>\n      <td>0</td>\n      <td>0</td>\n      <td>0</td>\n      <td>1</td>\n    </tr>\n    <tr>\n      <th>34</th>\n      <td>34</td>\n      <td>34</td>\n      <td>Lecce</td>\n      <td>2024-06-16</td>\n      <td>12</td>\n      <td>1</td>\n      <td>1</td>\n      <td>0</td>\n      <td>0</td>\n      <td>0</td>\n      <td>...</td>\n      <td>0</td>\n      <td>0</td>\n      <td>0</td>\n      <td>0</td>\n      <td>0</td>\n      <td>1</td>\n      <td>0</td>\n      <td>0</td>\n      <td>0</td>\n      <td>1</td>\n    </tr>\n    <tr>\n      <th>35</th>\n      <td>35</td>\n      <td>35</td>\n      <td>Lecce</td>\n      <td>2024-06-06</td>\n      <td>12</td>\n      <td>0</td>\n      <td>0</td>\n      <td>0</td>\n      <td>0</td>\n      <td>0</td>\n      <td>...</td>\n      <td>0</td>\n      <td>0</td>\n      <td>1</td>\n      <td>0</td>\n      <td>0</td>\n      <td>1</td>\n      <td>1</td>\n      <td>1</td>\n      <td>0</td>\n      <td>0</td>\n    </tr>\n    <tr>\n      <th>36</th>\n      <td>36</td>\n      <td>36</td>\n      <td>Lecce</td>\n      <td>2024-06-25</td>\n      <td>10</td>\n      <td>0</td>\n      <td>0</td>\n      <td>0</td>\n      <td>0</td>\n      <td>0</td>\n      <td>...</td>\n      <td>0</td>\n      <td>1</td>\n      <td>0</td>\n      <td>0</td>\n      <td>0</td>\n      <td>1</td>\n      <td>0</td>\n      <td>0</td>\n      <td>1</td>\n      <td>0</td>\n    </tr>\n    <tr>\n      <th>37</th>\n      <td>37</td>\n      <td>37</td>\n      <td>Lecce</td>\n      <td>2024-06-05</td>\n      <td>6</td>\n      <td>0</td>\n      <td>0</td>\n      <td>0</td>\n      <td>1</td>\n      <td>0</td>\n      <td>...</td>\n      <td>0</td>\n      <td>0</td>\n      <td>0</td>\n      <td>0</td>\n      <td>0</td>\n      <td>1</td>\n      <td>0</td>\n      <td>1</td>\n      <td>0</td>\n      <td>0</td>\n    </tr>\n    <tr>\n      <th>38</th>\n      <td>38</td>\n      <td>38</td>\n      <td>Lecce</td>\n      <td>2024-06-09</td>\n      <td>11</td>\n      <td>0</td>\n      <td>0</td>\n      <td>0</td>\n      <td>0</td>\n      <td>0</td>\n      <td>...</td>\n      <td>0</td>\n      <td>0</td>\n      <td>1</td>\n      <td>0</td>\n      <td>0</td>\n      <td>1</td>\n      <td>0</td>\n      <td>0</td>\n      <td>0</td>\n      <td>1</td>\n    </tr>\n    <tr>\n      <th>39</th>\n      <td>39</td>\n      <td>39</td>\n      <td>Lecce</td>\n      <td>2024-06-11</td>\n      <td>5</td>\n      <td>0</td>\n      <td>0</td>\n      <td>0</td>\n      <td>1</td>\n      <td>0</td>\n      <td>...</td>\n      <td>1</td>\n      <td>0</td>\n      <td>1</td>\n      <td>1</td>\n      <td>0</td>\n      <td>0</td>\n      <td>0</td>\n      <td>0</td>\n      <td>1</td>\n      <td>0</td>\n    </tr>\n  </tbody>\n</table>\n<p>40 rows × 41 columns</p>\n</div>"
     },
     "execution_count": 73,
     "metadata": {},
     "output_type": "execute_result"
    }
   ],
   "source": [
    "# Convert the names of attributes into numbers\n",
    "def convert_index(x):\n",
    "    if x == 'id':\n",
    "        return x\n",
    "    else:\n",
    "        return attribute_list.index(x)\n",
    "\n",
    "icm_df.rename(mapper=convert_index, axis=1, inplace=True)\n",
    "icm_df"
   ]
  },
  {
   "cell_type": "code",
   "execution_count": 74,
   "id": "394a5b7a",
   "metadata": {
    "pycharm": {
     "name": "#%%\n"
    }
   },
   "outputs": [
    {
     "data": {
      "text/plain": "      id label value\n1      1     1     1\n163    3     5     1\n165    5     5     1\n168    8     5     1\n169    9     5     1\n...   ..   ...   ...\n1590  30    40     1\n1592  32    40     1\n1593  33    40     1\n1594  34    40     1\n1598  38    40     1\n\n[274 rows x 3 columns]",
      "text/html": "<div>\n<style scoped>\n    .dataframe tbody tr th:only-of-type {\n        vertical-align: middle;\n    }\n\n    .dataframe tbody tr th {\n        vertical-align: top;\n    }\n\n    .dataframe thead th {\n        text-align: right;\n    }\n</style>\n<table border=\"1\" class=\"dataframe\">\n  <thead>\n    <tr style=\"text-align: right;\">\n      <th></th>\n      <th>id</th>\n      <th>label</th>\n      <th>value</th>\n    </tr>\n  </thead>\n  <tbody>\n    <tr>\n      <th>1</th>\n      <td>1</td>\n      <td>1</td>\n      <td>1</td>\n    </tr>\n    <tr>\n      <th>163</th>\n      <td>3</td>\n      <td>5</td>\n      <td>1</td>\n    </tr>\n    <tr>\n      <th>165</th>\n      <td>5</td>\n      <td>5</td>\n      <td>1</td>\n    </tr>\n    <tr>\n      <th>168</th>\n      <td>8</td>\n      <td>5</td>\n      <td>1</td>\n    </tr>\n    <tr>\n      <th>169</th>\n      <td>9</td>\n      <td>5</td>\n      <td>1</td>\n    </tr>\n    <tr>\n      <th>...</th>\n      <td>...</td>\n      <td>...</td>\n      <td>...</td>\n    </tr>\n    <tr>\n      <th>1590</th>\n      <td>30</td>\n      <td>40</td>\n      <td>1</td>\n    </tr>\n    <tr>\n      <th>1592</th>\n      <td>32</td>\n      <td>40</td>\n      <td>1</td>\n    </tr>\n    <tr>\n      <th>1593</th>\n      <td>33</td>\n      <td>40</td>\n      <td>1</td>\n    </tr>\n    <tr>\n      <th>1594</th>\n      <td>34</td>\n      <td>40</td>\n      <td>1</td>\n    </tr>\n    <tr>\n      <th>1598</th>\n      <td>38</td>\n      <td>40</td>\n      <td>1</td>\n    </tr>\n  </tbody>\n</table>\n<p>274 rows × 3 columns</p>\n</div>"
     },
     "execution_count": 74,
     "metadata": {},
     "output_type": "execute_result"
    }
   ],
   "source": [
    "# Re-organize data structure for building the ICM\n",
    "icm_df = pd.melt(icm_df, id_vars='id', var_name='label')\n",
    "icm_df = icm_df[icm_df[\"value\"]==1]\n",
    "icm_df"
   ]
  },
  {
   "cell_type": "code",
   "execution_count": 82,
   "outputs": [
    {
     "data": {
      "text/plain": "      id  label  value\n1      1      1      1\n163    3      5      1\n165    5      5      1\n168    8      5      1\n169    9      5      1\n...   ..    ...    ...\n1590  30     40      1\n1592  32     40      1\n1593  33     40      1\n1594  34     40      1\n1598  38     40      1\n\n[274 rows x 3 columns]",
      "text/html": "<div>\n<style scoped>\n    .dataframe tbody tr th:only-of-type {\n        vertical-align: middle;\n    }\n\n    .dataframe tbody tr th {\n        vertical-align: top;\n    }\n\n    .dataframe thead th {\n        text-align: right;\n    }\n</style>\n<table border=\"1\" class=\"dataframe\">\n  <thead>\n    <tr style=\"text-align: right;\">\n      <th></th>\n      <th>id</th>\n      <th>label</th>\n      <th>value</th>\n    </tr>\n  </thead>\n  <tbody>\n    <tr>\n      <th>1</th>\n      <td>1</td>\n      <td>1</td>\n      <td>1</td>\n    </tr>\n    <tr>\n      <th>163</th>\n      <td>3</td>\n      <td>5</td>\n      <td>1</td>\n    </tr>\n    <tr>\n      <th>165</th>\n      <td>5</td>\n      <td>5</td>\n      <td>1</td>\n    </tr>\n    <tr>\n      <th>168</th>\n      <td>8</td>\n      <td>5</td>\n      <td>1</td>\n    </tr>\n    <tr>\n      <th>169</th>\n      <td>9</td>\n      <td>5</td>\n      <td>1</td>\n    </tr>\n    <tr>\n      <th>...</th>\n      <td>...</td>\n      <td>...</td>\n      <td>...</td>\n    </tr>\n    <tr>\n      <th>1590</th>\n      <td>30</td>\n      <td>40</td>\n      <td>1</td>\n    </tr>\n    <tr>\n      <th>1592</th>\n      <td>32</td>\n      <td>40</td>\n      <td>1</td>\n    </tr>\n    <tr>\n      <th>1593</th>\n      <td>33</td>\n      <td>40</td>\n      <td>1</td>\n    </tr>\n    <tr>\n      <th>1594</th>\n      <td>34</td>\n      <td>40</td>\n      <td>1</td>\n    </tr>\n    <tr>\n      <th>1598</th>\n      <td>38</td>\n      <td>40</td>\n      <td>1</td>\n    </tr>\n  </tbody>\n</table>\n<p>274 rows × 3 columns</p>\n</div>"
     },
     "execution_count": 82,
     "metadata": {},
     "output_type": "execute_result"
    }
   ],
   "source": [
    "icm_df.astype('int64', copy=False)"
   ],
   "metadata": {
    "collapsed": false,
    "pycharm": {
     "name": "#%%\n"
    }
   }
  },
  {
   "cell_type": "code",
   "execution_count": 87,
   "outputs": [
    {
     "data": {
      "text/plain": "id       int64\nlabel    int64\nvalue    int64\ndtype: object"
     },
     "execution_count": 87,
     "metadata": {},
     "output_type": "execute_result"
    }
   ],
   "source": [
    "icm_df.astype('int64').dtypes"
   ],
   "metadata": {
    "collapsed": false,
    "pycharm": {
     "name": "#%%\n"
    }
   }
  },
  {
   "cell_type": "code",
   "execution_count": 88,
   "id": "947540a6",
   "metadata": {
    "pycharm": {
     "name": "#%%\n"
    }
   },
   "outputs": [
    {
     "data": {
      "text/plain": "<40x41 sparse matrix of type '<class 'numpy.int64'>'\n\twith 274 stored elements in Compressed Sparse Row format>"
     },
     "execution_count": 88,
     "metadata": {},
     "output_type": "execute_result"
    }
   ],
   "source": [
    "# Create the Item Content Matrix\n",
    "ICM_all = sps.csr_matrix(\n",
    "    (icm_df.astype('int64')[\"value\"].values,\n",
    "    (icm_df.astype('int64')[\"id\"].values, icm_df.astype('int64')[\"label\"].values))\n",
    ")\n",
    "\n",
    "ICM_all"
   ]
  },
  {
   "cell_type": "code",
   "execution_count": 89,
   "id": "82540dd5",
   "metadata": {
    "pycharm": {
     "name": "#%%\n"
    }
   },
   "outputs": [
    {
     "name": "stdout",
     "output_type": "stream",
     "text": [
      "[[0 0 0 ... 1 0 0]\n",
      " [0 1 0 ... 0 0 1]\n",
      " [0 0 0 ... 0 0 1]\n",
      " ...\n",
      " [0 0 0 ... 1 0 0]\n",
      " [0 0 0 ... 0 0 1]\n",
      " [0 0 0 ... 0 1 0]]\n"
     ]
    }
   ],
   "source": [
    "print(ICM_all.todense())"
   ]
  },
  {
   "cell_type": "markdown",
   "id": "02c77874",
   "metadata": {
    "pycharm": {
     "name": "#%% md\n"
    }
   },
   "source": [
    "### Feature Engineering\n",
    "It is possible to model the importance of the features by weighting them differently in the ICM: so we can attribute a higher value to the features that we consider more relevant for the recommendation problem, such as the languages spoken by the guides."
   ]
  },
  {
   "cell_type": "code",
   "execution_count": 90,
   "id": "b8288f95",
   "metadata": {
    "pycharm": {
     "name": "#%%\n"
    }
   },
   "outputs": [
    {
     "name": "stdout",
     "output_type": "stream",
     "text": [
      "0 id\n",
      "1 guide\n",
      "2 city\n",
      "3 date\n",
      "4 duration\n",
      "5 bulgarian\n",
      "6 chinese\n",
      "7 deutsche\n",
      "8 dutch\n",
      "9 english\n",
      "10 french\n",
      "11 italian\n",
      "12 spanish\n",
      "13 Basilica di Santa Croce\n",
      "14 Castello di Carlo V\n",
      "15 Celestine Convent\n",
      "16 Church of San Francesco della Scarpa\n",
      "17 Church of San Matteo\n",
      "18 Church of San Niccol貌 e Cataldo\n",
      "19 Church of Santa Chiara\n",
      "20 Colonna di Sant'Oronzo\n",
      "21 Lecce Cathedral\n",
      "22 Museo Faggiano\n",
      "23 Palazzo Carafa\n",
      "24 Palazzo dei Celestini\n",
      "25 Piazza Sant'Oronzo\n",
      "26 Porta Napoli\n",
      "27 Roman Amphitheatre\n",
      "28 Roman Theatre\n",
      "29 San Giovanni Battista Church\n",
      "30 Torre del Parco\n",
      "31 Villa Comunale di Lecce\n",
      "32 archeology\n",
      "33 art\n",
      "34 countryside\n",
      "35 history\n",
      "36 literature\n",
      "37 museums\n",
      "38 high_cost\n",
      "39 low_cost\n",
      "40 medium_cost\n"
     ]
    }
   ],
   "source": [
    "# Print the full list of attributes\n",
    "for l in attribute_list:\n",
    "    print(attribute_list.index(l), l)"
   ]
  },
  {
   "cell_type": "code",
   "execution_count": 91,
   "id": "42f77d68",
   "metadata": {
    "pycharm": {
     "name": "#%%\n"
    }
   },
   "outputs": [],
   "source": [
    "# Index of columns in the dataset containing specific features\n",
    "# (procedure to convert in function?)\n",
    "feature_columns = {\n",
    "    'guide': 1,\n",
    "    'language': [5,12]\n",
    "}"
   ]
  },
  {
   "cell_type": "code",
   "execution_count": 92,
   "id": "ed0d65f8",
   "metadata": {
    "pycharm": {
     "name": "#%%\n"
    }
   },
   "outputs": [],
   "source": [
    "# Feature engineering: attribute different weights to the parameters\n",
    "# Default weights = 1\n",
    "importance_weights = {\n",
    "    'guide': 1,\n",
    "    'language': 10\n",
    "}"
   ]
  },
  {
   "cell_type": "code",
   "execution_count": 96,
   "id": "6d223a92",
   "metadata": {
    "pycharm": {
     "name": "#%%\n"
    }
   },
   "outputs": [],
   "source": [
    "# Create a copy of the original ICM\n",
    "new_icm_df = icm_df.astype('int64').copy(deep=True)"
   ]
  },
  {
   "cell_type": "code",
   "execution_count": 97,
   "id": "72c8b80d",
   "metadata": {
    "pycharm": {
     "name": "#%%\n"
    }
   },
   "outputs": [
    {
     "name": "stdout",
     "output_type": "stream",
     "text": [
      "language\n"
     ]
    }
   ],
   "source": [
    "# Modify the cell values with respect to the weights we want to give\n",
    "\n",
    "for feature in importance_weights:\n",
    "    if importance_weights[feature] > 1:\n",
    "        print(feature)\n",
    "        if feature=='language':\n",
    "            condition = (new_icm_df.label >= feature_columns[feature][0]) & (new_icm_df.label <= feature_columns[feature][1])\n",
    "        else:\n",
    "            condition = (new_icm_df.label == feature_columns[feature])\n",
    "        \n",
    "        new_icm_df.loc[condition,'value'] = importance_weights[feature]"
   ]
  },
  {
   "cell_type": "code",
   "execution_count": 98,
   "id": "8b862764",
   "metadata": {
    "pycharm": {
     "name": "#%%\n"
    }
   },
   "outputs": [
    {
     "data": {
      "text/plain": "<40x41 sparse matrix of type '<class 'numpy.int64'>'\n\twith 274 stored elements in Compressed Sparse Row format>"
     },
     "execution_count": 98,
     "metadata": {},
     "output_type": "execute_result"
    }
   ],
   "source": [
    "# Build the modified ICM\n",
    "\n",
    "ICM_modified = sps.csr_matrix(\n",
    "    (new_icm_df[\"value\"].values,\n",
    "    (new_icm_df[\"id\"].values, new_icm_df[\"label\"].values))\n",
    ")\n",
    "\n",
    "ICM_modified"
   ]
  },
  {
   "cell_type": "code",
   "execution_count": 99,
   "id": "0d7b2cdd",
   "metadata": {
    "pycharm": {
     "name": "#%%\n"
    }
   },
   "outputs": [
    {
     "name": "stdout",
     "output_type": "stream",
     "text": [
      "[[0 0 0 ... 1 0 0]\n",
      " [0 1 0 ... 0 0 1]\n",
      " [0 0 0 ... 0 0 1]\n",
      " ...\n",
      " [0 0 0 ... 1 0 0]\n",
      " [0 0 0 ... 0 0 1]\n",
      " [0 0 0 ... 0 1 0]]\n"
     ]
    }
   ],
   "source": [
    "print(ICM_modified.todense())"
   ]
  },
  {
   "cell_type": "code",
   "execution_count": 100,
   "id": "c617d3be",
   "metadata": {
    "pycharm": {
     "name": "#%%\n"
    }
   },
   "outputs": [],
   "source": [
    "ICM_train = ICM_modified"
   ]
  },
  {
   "cell_type": "markdown",
   "id": "3ceda1a3",
   "metadata": {
    "pycharm": {
     "name": "#%% md\n"
    }
   },
   "source": [
    "## Build the model"
   ]
  },
  {
   "cell_type": "code",
   "execution_count": 101,
   "outputs": [],
   "source": [
    "def vector_similarity(urm: sps.csc_matrix, shrink: int):\n",
    "    item_weights = np.sqrt(\n",
    "        np.sum(urm.power(2), axis=0)\n",
    "    ).A.flatten()\n",
    "\n",
    "    num_items = urm.shape[1]\n",
    "    urm_t = urm.T\n",
    "    weights = np.empty(shape=(num_items, num_items))\n",
    "    for item_id in range(num_items):\n",
    "        numerator = urm_t.dot(urm[:, item_id]).A.flatten()\n",
    "        denominator = item_weights[item_id] * item_weights + shrink + 1e-6\n",
    "\n",
    "        weights[item_id] = numerator / denominator\n",
    "\n",
    "    np.fill_diagonal(weights, 0.0)\n",
    "    return weights\n"
   ],
   "metadata": {
    "collapsed": false,
    "pycharm": {
     "name": "#%%\n"
    }
   }
  },
  {
   "cell_type": "markdown",
   "id": "2dd1e1bc",
   "metadata": {
    "pycharm": {
     "name": "#%% md\n"
    }
   },
   "source": [
    "### Collaborative Filtering\n",
    "\n",
    "**Collaborative filtering** recommends guides to tourists based on the preferences and behavior of similar users. It focuses on identifying patterns and similarities in interactions between guides and tourists based on the dataset of tourists feedback.\n",
    "\n",
    "In this case **item-based** collaborative filtering technique has been used. It calculates the similarity between each pair of guides, according to the number of users that have the same opinion on them."
   ]
  },
  {
   "cell_type": "code",
   "execution_count": 102,
   "id": "447baf10",
   "metadata": {
    "pycharm": {
     "name": "#%%\n"
    }
   },
   "outputs": [],
   "source": [
    "class ItemKNNCFRecommender(object):\n",
    "    \n",
    "    def __init__(self, URM):\n",
    "        self.URM = URM\n",
    "        \n",
    "            \n",
    "    def fit(self, shrink=3):\n",
    "        self.W_sparse = vector_similarity(self.URM.tocsc(), shrink=shrink)\n",
    "        with np.printoptions(threshold=np.inf):\n",
    "            print(self.W_sparse)\n",
    "\n",
    "        \n",
    "    def recommend(self, user_id, at=None, exclude_seen=True):\n",
    "        # compute the scores using the dot product\n",
    "        user_profile = self.URM[user_id]\n",
    "        scores = user_profile.dot(self.W_sparse).ravel()\n",
    "\n",
    "        if exclude_seen:\n",
    "            scores = self.filter_seen(user_id, scores)\n",
    "\n",
    "        # rank items\n",
    "        ranking = scores.argsort()[::-1]\n",
    "            \n",
    "        return ranking[:at]\n",
    "    \n",
    "    # guides that have been rated by tourists will be excluded\n",
    "    def filter_seen(self, user_id, scores):\n",
    "\n",
    "        start_pos = self.URM.indptr[user_id]\n",
    "        end_pos = self.URM.indptr[user_id+1]\n",
    "\n",
    "        user_profile = self.URM.indices[start_pos:end_pos]\n",
    "        \n",
    "        scores[user_profile] = -np.inf\n",
    "\n",
    "        return scores"
   ]
  },
  {
   "cell_type": "markdown",
   "id": "41d3f545",
   "metadata": {
    "pycharm": {
     "name": "#%% md\n"
    }
   },
   "source": [
    "### Content-based Filtering\n",
    "\n",
    "**Content-based filtering** recommends guides to tourists based on the attributes of features of the guides themselves and the tourist's preferences. It focuses on analyzing the characteristics of items and matching them to the tourists's profile or preferences.\n",
    "\n",
    "In this case **item** content-based filtering technique has been used. It suggests guides to tourists based on the attributes or content of the items themselves, without relying on user behavior or preferences."
   ]
  },
  {
   "cell_type": "markdown",
   "source": [],
   "metadata": {
    "collapsed": false,
    "pycharm": {
     "name": "#%% md\n"
    }
   }
  },
  {
   "cell_type": "code",
   "execution_count": 103,
   "id": "c0a31a9d",
   "metadata": {
    "pycharm": {
     "name": "#%%\n"
    }
   },
   "outputs": [],
   "source": [
    "class ItemKNNCBFRecommender(object):\n",
    "\n",
    "    def __init__(self, URM, ICM):\n",
    "        self.URM = URM\n",
    "        self.ICM = ICM\n",
    "\n",
    "\n",
    "    def fit(self, shrink=20):\n",
    "        self.W_sparse = vector_similarity(self.ICM.T, shrink=shrink)\n",
    "        with np.printoptions(threshold=np.inf):\n",
    "            print(self.W_sparse)\n",
    "\n",
    "\n",
    "    def recommend(self, user_id, at=None, exclude_seen=True):\n",
    "        # compute the scores using the dot product\n",
    "        user_profile = self.URM[user_id]\n",
    "        scores = user_profile.dot(self.W_sparse).ravel()\n",
    "\n",
    "        if exclude_seen:\n",
    "            scores = self.filter_seen(user_id, scores)\n",
    "\n",
    "        # rank items\n",
    "        ranking = scores.argsort()[::-1]\n",
    "\n",
    "        return ranking[:at]\n",
    "\n",
    "\n",
    "    # guides that have been rated by toursits will be excluded\n",
    "    def filter_seen(self, user_id, scores):\n",
    "\n",
    "        start_pos = self.URM.indptr[user_id]\n",
    "        end_pos = self.URM.indptr[user_id+1]\n",
    "\n",
    "        user_profile = self.URM.indices[start_pos:end_pos]\n",
    "\n",
    "        scores[user_profile] = -np.inf\n",
    "\n",
    "        return scores"
   ]
  },
  {
   "cell_type": "markdown",
   "id": "2b4149d9",
   "metadata": {
    "pycharm": {
     "name": "#%% md\n"
    }
   },
   "source": [
    "## Fit the model"
   ]
  },
  {
   "cell_type": "code",
   "execution_count": 104,
   "id": "afe884e6",
   "metadata": {
    "pycharm": {
     "name": "#%%\n"
    }
   },
   "outputs": [],
   "source": [
    "ICM_train = ICM_modified"
   ]
  },
  {
   "cell_type": "code",
   "execution_count": 143,
   "id": "88242895",
   "metadata": {
    "pycharm": {
     "name": "#%%\n"
    }
   },
   "outputs": [],
   "source": [
    "model_type = 'cf'"
   ]
  },
  {
   "cell_type": "code",
   "execution_count": 144,
   "id": "c56de8e2",
   "metadata": {
    "pycharm": {
     "name": "#%%\n"
    }
   },
   "outputs": [
    {
     "name": "stdout",
     "output_type": "stream",
     "text": [
      "[[0.         0.         0.         0.         0.         0.\n",
      "  0.         0.         0.         0.         0.         0.\n",
      "  0.         0.         0.         0.06084043 0.19105248 0.\n",
      "  0.         0.         0.         0.         0.09222517 0.\n",
      "  0.18040278 0.         0.         0.         0.         0.\n",
      "  0.         0.         0.         0.         0.17521699 0.\n",
      "  0.         0.         0.         0.        ]\n",
      " [0.         0.         0.         0.         0.         0.07629568\n",
      "  0.         0.         0.09741078 0.         0.         0.\n",
      "  0.         0.         0.         0.         0.         0.\n",
      "  0.         0.         0.         0.         0.         0.\n",
      "  0.         0.         0.         0.         0.         0.\n",
      "  0.         0.         0.22906604 0.         0.         0.09221902\n",
      "  0.         0.         0.15301338 0.        ]\n",
      " [0.         0.         0.         0.         0.         0.\n",
      "  0.         0.         0.         0.         0.         0.\n",
      "  0.         0.         0.         0.         0.         0.\n",
      "  0.         0.         0.         0.         0.         0.\n",
      "  0.         0.         0.         0.         0.         0.\n",
      "  0.12905449 0.         0.         0.         0.         0.\n",
      "  0.         0.         0.14507115 0.        ]\n",
      " [0.         0.         0.         0.         0.         0.\n",
      "  0.         0.         0.         0.         0.         0.\n",
      "  0.         0.         0.32678367 0.         0.         0.\n",
      "  0.         0.         0.         0.         0.         0.\n",
      "  0.         0.         0.         0.         0.         0.\n",
      "  0.         0.         0.         0.         0.         0.\n",
      "  0.         0.         0.         0.        ]\n",
      " [0.         0.         0.         0.         0.         0.\n",
      "  0.         0.14680626 0.         0.         0.         0.\n",
      "  0.         0.         0.         0.         0.         0.\n",
      "  0.40185618 0.         0.         0.         0.         0.\n",
      "  0.         0.         0.         0.         0.         0.\n",
      "  0.         0.         0.         0.         0.         0.\n",
      "  0.19131716 0.         0.         0.        ]\n",
      " [0.         0.07629568 0.         0.         0.         0.\n",
      "  0.         0.         0.06044494 0.         0.         0.\n",
      "  0.         0.         0.         0.         0.         0.20258151\n",
      "  0.         0.         0.         0.         0.11894861 0.\n",
      "  0.         0.         0.         0.         0.         0.\n",
      "  0.         0.         0.         0.         0.09044362 0.\n",
      "  0.         0.         0.         0.11070005]\n",
      " [0.         0.         0.         0.         0.         0.\n",
      "  0.         0.         0.         0.         0.         0.20995703\n",
      "  0.         0.         0.         0.         0.         0.\n",
      "  0.19727764 0.         0.         0.         0.         0.\n",
      "  0.         0.         0.         0.         0.         0.\n",
      "  0.         0.         0.         0.         0.         0.\n",
      "  0.         0.         0.         0.        ]\n",
      " [0.         0.         0.         0.         0.14680626 0.\n",
      "  0.         0.         0.         0.21027346 0.         0.22440571\n",
      "  0.         0.         0.         0.         0.         0.\n",
      "  0.         0.         0.         0.         0.         0.\n",
      "  0.         0.         0.         0.         0.28036461 0.\n",
      "  0.         0.         0.         0.08955224 0.         0.15148134\n",
      "  0.         0.         0.         0.        ]\n",
      " [0.         0.09741078 0.         0.         0.         0.06044494\n",
      "  0.         0.         0.         0.         0.         0.\n",
      "  0.         0.18442648 0.         0.         0.         0.\n",
      "  0.         0.         0.         0.         0.09493138 0.2255832\n",
      "  0.         0.1006534  0.         0.         0.         0.\n",
      "  0.         0.         0.         0.         0.         0.\n",
      "  0.         0.         0.         0.        ]\n",
      " [0.         0.         0.         0.         0.         0.\n",
      "  0.         0.21027346 0.         0.         0.         0.\n",
      "  0.         0.         0.         0.         0.         0.\n",
      "  0.         0.         0.         0.         0.         0.\n",
      "  0.         0.         0.         0.         0.         0.\n",
      "  0.         0.         0.         0.         0.         0.\n",
      "  0.         0.         0.         0.        ]\n",
      " [0.         0.         0.         0.         0.         0.\n",
      "  0.         0.         0.         0.         0.         0.\n",
      "  0.         0.         0.         0.         0.         0.\n",
      "  0.         0.         0.         0.         0.0922959  0.\n",
      "  0.         0.15290807 0.         0.28285122 0.         0.15684315\n",
      "  0.         0.         0.14702791 0.         0.         0.\n",
      "  0.         0.         0.         0.        ]\n",
      " [0.         0.         0.         0.         0.         0.\n",
      "  0.20995703 0.22440571 0.         0.         0.         0.\n",
      "  0.         0.         0.         0.         0.         0.\n",
      "  0.         0.         0.         0.         0.         0.\n",
      "  0.20842237 0.         0.         0.         0.         0.18687589\n",
      "  0.         0.         0.         0.         0.         0.\n",
      "  0.         0.         0.         0.        ]\n",
      " [0.         0.         0.         0.         0.         0.\n",
      "  0.         0.         0.         0.         0.         0.\n",
      "  0.         0.         0.         0.         0.         0.\n",
      "  0.         0.         0.         0.         0.         0.\n",
      "  0.         0.         0.         0.         0.         0.\n",
      "  0.         0.         0.         0.         0.         0.\n",
      "  0.         0.         0.         0.        ]\n",
      " [0.         0.         0.         0.         0.         0.\n",
      "  0.         0.         0.18442648 0.         0.         0.\n",
      "  0.         0.         0.         0.         0.         0.\n",
      "  0.         0.         0.         0.         0.         0.\n",
      "  0.         0.         0.         0.         0.         0.\n",
      "  0.         0.         0.         0.         0.         0.17462238\n",
      "  0.         0.         0.         0.        ]\n",
      " [0.         0.         0.         0.32678367 0.         0.\n",
      "  0.         0.         0.         0.         0.         0.\n",
      "  0.         0.         0.         0.         0.         0.\n",
      "  0.         0.         0.         0.         0.         0.\n",
      "  0.         0.         0.         0.         0.43571156 0.\n",
      "  0.         0.         0.         0.         0.         0.\n",
      "  0.         0.         0.         0.        ]\n",
      " [0.06084043 0.         0.         0.         0.         0.\n",
      "  0.         0.         0.         0.         0.         0.\n",
      "  0.         0.         0.         0.         0.         0.\n",
      "  0.         0.11010681 0.         0.         0.08217303 0.\n",
      "  0.         0.         0.         0.         0.         0.\n",
      "  0.         0.         0.         0.         0.         0.08432683\n",
      "  0.         0.         0.13992968 0.        ]\n",
      " [0.19105248 0.         0.         0.         0.         0.\n",
      "  0.         0.         0.         0.         0.         0.\n",
      "  0.         0.         0.         0.         0.         0.\n",
      "  0.15555723 0.         0.         0.         0.         0.\n",
      "  0.         0.         0.         0.         0.         0.\n",
      "  0.         0.         0.         0.         0.         0.\n",
      "  0.30610745 0.         0.         0.21602268]\n",
      " [0.         0.         0.         0.         0.         0.20258151\n",
      "  0.         0.         0.         0.         0.         0.\n",
      "  0.         0.         0.         0.         0.         0.\n",
      "  0.         0.         0.         0.         0.18493914 0.\n",
      "  0.         0.         0.         0.         0.         0.\n",
      "  0.         0.         0.         0.16081218 0.         0.\n",
      "  0.         0.         0.         0.        ]\n",
      " [0.         0.         0.         0.         0.40185618 0.\n",
      "  0.19727764 0.         0.         0.         0.         0.\n",
      "  0.         0.         0.         0.         0.15555723 0.\n",
      "  0.         0.         0.17877095 0.         0.         0.\n",
      "  0.         0.         0.         0.         0.         0.\n",
      "  0.         0.         0.         0.         0.         0.\n",
      "  0.         0.         0.         0.        ]\n",
      " [0.         0.         0.         0.         0.         0.\n",
      "  0.         0.         0.         0.         0.         0.\n",
      "  0.         0.         0.         0.11010681 0.         0.\n",
      "  0.         0.         0.         0.         0.         0.\n",
      "  0.         0.         0.         0.         0.         0.\n",
      "  0.12130388 0.         0.         0.         0.         0.\n",
      "  0.         0.         0.         0.        ]\n",
      " [0.         0.         0.         0.         0.         0.\n",
      "  0.         0.         0.         0.         0.         0.\n",
      "  0.         0.         0.         0.         0.         0.\n",
      "  0.17877095 0.         0.         0.         0.         0.\n",
      "  0.14690459 0.         0.         0.         0.         0.\n",
      "  0.         0.         0.         0.         0.         0.\n",
      "  0.16486156 0.         0.         0.        ]\n",
      " [0.         0.         0.         0.         0.         0.\n",
      "  0.         0.         0.         0.         0.         0.\n",
      "  0.         0.         0.         0.         0.         0.\n",
      "  0.         0.         0.         0.         0.         0.\n",
      "  0.         0.156367   0.         0.         0.         0.\n",
      "  0.         0.         0.         0.         0.         0.\n",
      "  0.15541527 0.         0.         0.        ]\n",
      " [0.09222517 0.         0.         0.         0.         0.11894861\n",
      "  0.         0.         0.09493138 0.         0.0922959  0.\n",
      "  0.         0.         0.         0.08217303 0.         0.18493914\n",
      "  0.         0.         0.         0.         0.         0.\n",
      "  0.         0.09286256 0.         0.         0.         0.13825192\n",
      "  0.         0.         0.0893048  0.         0.         0.\n",
      "  0.         0.         0.         0.        ]\n",
      " [0.         0.         0.         0.         0.         0.\n",
      "  0.         0.         0.2255832  0.         0.         0.\n",
      "  0.         0.         0.         0.         0.         0.\n",
      "  0.         0.         0.         0.         0.         0.\n",
      "  0.         0.         0.         0.         0.         0.\n",
      "  0.         0.         0.         0.         0.         0.\n",
      "  0.         0.         0.         0.        ]\n",
      " [0.18040278 0.         0.         0.         0.         0.\n",
      "  0.         0.         0.         0.         0.         0.20842237\n",
      "  0.         0.         0.         0.         0.         0.\n",
      "  0.         0.         0.14690459 0.         0.         0.\n",
      "  0.         0.         0.         0.         0.         0.21646698\n",
      "  0.         0.         0.         0.         0.         0.\n",
      "  0.         0.         0.         0.        ]\n",
      " [0.         0.         0.         0.         0.         0.\n",
      "  0.         0.         0.1006534  0.         0.15290807 0.\n",
      "  0.         0.         0.         0.         0.         0.\n",
      "  0.         0.         0.         0.156367   0.09286256 0.\n",
      "  0.         0.         0.         0.         0.         0.\n",
      "  0.         0.12220981 0.11834349 0.         0.         0.07146699\n",
      "  0.07339587 0.         0.         0.        ]\n",
      " [0.         0.         0.         0.         0.         0.\n",
      "  0.         0.         0.         0.         0.         0.\n",
      "  0.         0.         0.         0.         0.         0.\n",
      "  0.         0.         0.         0.         0.         0.\n",
      "  0.         0.         0.         0.         0.         0.\n",
      "  0.         0.         0.         0.         0.         0.\n",
      "  0.         0.         0.         0.        ]\n",
      " [0.         0.         0.         0.         0.         0.\n",
      "  0.         0.         0.         0.         0.28285122 0.\n",
      "  0.         0.         0.         0.         0.         0.\n",
      "  0.         0.         0.         0.         0.         0.\n",
      "  0.         0.         0.         0.         0.         0.\n",
      "  0.14452537 0.         0.15199531 0.         0.         0.\n",
      "  0.         0.         0.         0.        ]\n",
      " [0.         0.         0.         0.         0.         0.\n",
      "  0.         0.28036461 0.         0.         0.         0.\n",
      "  0.         0.         0.43571156 0.         0.         0.\n",
      "  0.         0.         0.         0.         0.         0.\n",
      "  0.         0.         0.         0.         0.         0.\n",
      "  0.         0.         0.         0.         0.         0.\n",
      "  0.         0.         0.         0.        ]\n",
      " [0.         0.         0.         0.         0.         0.\n",
      "  0.         0.         0.         0.         0.15684315 0.18687589\n",
      "  0.         0.         0.         0.         0.         0.\n",
      "  0.         0.         0.         0.         0.13825192 0.\n",
      "  0.21646698 0.         0.         0.         0.         0.\n",
      "  0.         0.         0.         0.         0.         0.12316057\n",
      "  0.         0.         0.         0.        ]\n",
      " [0.         0.         0.12905449 0.         0.         0.\n",
      "  0.         0.         0.         0.         0.         0.\n",
      "  0.         0.         0.         0.         0.         0.\n",
      "  0.         0.12130388 0.         0.         0.         0.\n",
      "  0.         0.         0.         0.14452537 0.         0.\n",
      "  0.         0.         0.         0.         0.12905449 0.\n",
      "  0.         0.         0.         0.12635544]\n",
      " [0.         0.         0.         0.         0.         0.\n",
      "  0.         0.         0.         0.         0.         0.\n",
      "  0.         0.         0.         0.         0.         0.\n",
      "  0.         0.         0.         0.         0.         0.\n",
      "  0.         0.12220981 0.         0.         0.         0.\n",
      "  0.         0.         0.         0.11653935 0.         0.\n",
      "  0.         0.         0.         0.        ]\n",
      " [0.         0.22906604 0.         0.         0.         0.\n",
      "  0.         0.         0.         0.         0.14702791 0.\n",
      "  0.         0.         0.         0.         0.         0.\n",
      "  0.         0.         0.         0.         0.0893048  0.\n",
      "  0.         0.11834349 0.         0.15199531 0.         0.\n",
      "  0.         0.         0.         0.         0.13574138 0.\n",
      "  0.         0.         0.         0.        ]\n",
      " [0.         0.         0.         0.         0.         0.\n",
      "  0.         0.08955224 0.         0.         0.         0.\n",
      "  0.         0.         0.         0.         0.         0.16081218\n",
      "  0.         0.         0.         0.         0.         0.\n",
      "  0.         0.         0.         0.         0.         0.\n",
      "  0.         0.11653935 0.         0.         0.         0.\n",
      "  0.         0.         0.         0.        ]\n",
      " [0.17521699 0.         0.         0.         0.         0.09044362\n",
      "  0.         0.         0.         0.         0.         0.\n",
      "  0.         0.         0.         0.         0.         0.\n",
      "  0.         0.         0.         0.         0.         0.\n",
      "  0.         0.         0.         0.         0.         0.\n",
      "  0.12905449 0.         0.13574138 0.         0.         0.\n",
      "  0.         0.         0.         0.        ]\n",
      " [0.         0.09221902 0.         0.         0.         0.\n",
      "  0.         0.15148134 0.         0.         0.         0.\n",
      "  0.         0.17462238 0.         0.08432683 0.         0.\n",
      "  0.         0.         0.         0.         0.         0.\n",
      "  0.         0.07146699 0.         0.         0.         0.12316057\n",
      "  0.         0.         0.         0.         0.         0.\n",
      "  0.         0.         0.         0.        ]\n",
      " [0.         0.         0.         0.         0.19131716 0.\n",
      "  0.         0.         0.         0.         0.         0.\n",
      "  0.         0.         0.         0.         0.30610745 0.\n",
      "  0.         0.         0.16486156 0.15541527 0.         0.\n",
      "  0.         0.07339587 0.         0.         0.         0.\n",
      "  0.         0.         0.         0.         0.         0.\n",
      "  0.         0.         0.         0.        ]\n",
      " [0.         0.         0.         0.         0.         0.\n",
      "  0.         0.         0.         0.         0.         0.\n",
      "  0.         0.         0.         0.         0.         0.\n",
      "  0.         0.         0.         0.         0.         0.\n",
      "  0.         0.         0.         0.         0.         0.\n",
      "  0.         0.         0.         0.         0.         0.\n",
      "  0.         0.         0.         0.        ]\n",
      " [0.         0.15301338 0.14507115 0.         0.         0.\n",
      "  0.         0.         0.         0.         0.         0.\n",
      "  0.         0.         0.         0.13992968 0.         0.\n",
      "  0.         0.         0.         0.         0.         0.\n",
      "  0.         0.         0.         0.         0.         0.\n",
      "  0.         0.         0.         0.         0.         0.\n",
      "  0.         0.         0.         0.        ]\n",
      " [0.         0.         0.         0.         0.         0.11070005\n",
      "  0.         0.         0.         0.         0.         0.\n",
      "  0.         0.         0.         0.         0.21602268 0.\n",
      "  0.         0.         0.         0.         0.         0.\n",
      "  0.         0.         0.         0.         0.         0.\n",
      "  0.12635544 0.         0.         0.         0.         0.\n",
      "  0.         0.         0.         0.        ]]\n"
     ]
    }
   ],
   "source": [
    "if model_type == 'cf':\n",
    "    recommender = ItemKNNCFRecommender(URM_train)\n",
    "    recommender.fit(shrink=0.5)"
   ]
  },
  {
   "cell_type": "code",
   "execution_count": 145,
   "outputs": [],
   "source": [
    "if model_type == 'cbf':\n",
    "    recommender = ItemKNNCBFRecommender(URM_train, ICM_train)\n",
    "    recommender.fit(shrink=0.5)"
   ],
   "metadata": {
    "collapsed": false,
    "pycharm": {
     "name": "#%%\n"
    }
   }
  },
  {
   "cell_type": "markdown",
   "source": [
    "## Generate outputs"
   ],
   "metadata": {
    "collapsed": false,
    "pycharm": {
     "name": "#%% md\n"
    }
   }
  },
  {
   "cell_type": "markdown",
   "source": [
    "Here the generation of recommendations of guides to tourists is reported."
   ],
   "metadata": {
    "collapsed": false,
    "pycharm": {
     "name": "#%% md\n"
    }
   }
  },
  {
   "cell_type": "code",
   "execution_count": 146,
   "outputs": [],
   "source": [
    "# Set the number of guides to recommend to each tourist\n",
    "n_recommendations_per_tourist = 5"
   ],
   "metadata": {
    "collapsed": false,
    "pycharm": {
     "name": "#%%\n"
    }
   }
  },
  {
   "cell_type": "code",
   "execution_count": 147,
   "outputs": [
    {
     "name": "stderr",
     "output_type": "stream",
     "text": [
      "200it [00:00, 16667.87it/s]\n"
     ]
    }
   ],
   "source": [
    "# Generate recommendations for each tourist\n",
    "\n",
    "recommendations = []\n",
    "\n",
    "for i,id in tqdm(enumerate(arr_tourists)):\n",
    "    # 3 recommendations for each tourist\n",
    "    rec = recommender.recommend(id, at=n_recommendations_per_tourist, exclude_seen=True)\n",
    "    rec_list = rec\n",
    "    rec_row = ' '.join(str(s) for s in rec_list)\n",
    "    recommendations.append(rec_row)"
   ],
   "metadata": {
    "collapsed": false,
    "pycharm": {
     "name": "#%%\n"
    }
   }
  },
  {
   "cell_type": "code",
   "execution_count": 148,
   "outputs": [
    {
     "name": "stdout",
     "output_type": "stream",
     "text": [
      "For user 0 recommended tours: 32 38 8 35 5\n",
      "For user 1 recommended tours: 29 11 0 20 2\n",
      "For user 2 recommended tours: 18 36 29 11 0\n",
      "For user 3 recommended tours: 39 38 17 16 15\n",
      "For user 4 recommended tours: 27 34 2 39 19\n",
      "For user 5 recommended tours: 23 35 25 1 22\n",
      "For user 6 recommended tours: 38 19 35 22 0\n",
      "For user 7 recommended tours: 11 0 10 20 22\n",
      "For user 8 recommended tours: 16 24 34 22 15\n",
      "For user 9 recommended tours: 22 33 39 34 1\n"
     ]
    }
   ],
   "source": [
    "# print recommendations for the first 10 users\n",
    "for i in range(10):\n",
    "    print(\"For user \" + str(arr_tourists[i]) + \" recommended tours: \" + recommendations[i])"
   ],
   "metadata": {
    "collapsed": false,
    "pycharm": {
     "name": "#%%\n"
    }
   }
  },
  {
   "cell_type": "code",
   "execution_count": 149,
   "outputs": [
    {
     "data": {
      "text/plain": "     tourist_id           tours\n0             0    32 38 8 35 5\n1             1    29 11 0 20 2\n2             2   18 36 29 11 0\n3             3  39 38 17 16 15\n4             4   27 34 2 39 19\n..          ...             ...\n195         195   10 1 25 17 27\n196         196  39 38 17 16 15\n197         197   32 13 38 7 29\n198         198    32 38 8 35 5\n199         199   11 10 0 22 35\n\n[200 rows x 2 columns]",
      "text/html": "<div>\n<style scoped>\n    .dataframe tbody tr th:only-of-type {\n        vertical-align: middle;\n    }\n\n    .dataframe tbody tr th {\n        vertical-align: top;\n    }\n\n    .dataframe thead th {\n        text-align: right;\n    }\n</style>\n<table border=\"1\" class=\"dataframe\">\n  <thead>\n    <tr style=\"text-align: right;\">\n      <th></th>\n      <th>tourist_id</th>\n      <th>tours</th>\n    </tr>\n  </thead>\n  <tbody>\n    <tr>\n      <th>0</th>\n      <td>0</td>\n      <td>32 38 8 35 5</td>\n    </tr>\n    <tr>\n      <th>1</th>\n      <td>1</td>\n      <td>29 11 0 20 2</td>\n    </tr>\n    <tr>\n      <th>2</th>\n      <td>2</td>\n      <td>18 36 29 11 0</td>\n    </tr>\n    <tr>\n      <th>3</th>\n      <td>3</td>\n      <td>39 38 17 16 15</td>\n    </tr>\n    <tr>\n      <th>4</th>\n      <td>4</td>\n      <td>27 34 2 39 19</td>\n    </tr>\n    <tr>\n      <th>...</th>\n      <td>...</td>\n      <td>...</td>\n    </tr>\n    <tr>\n      <th>195</th>\n      <td>195</td>\n      <td>10 1 25 17 27</td>\n    </tr>\n    <tr>\n      <th>196</th>\n      <td>196</td>\n      <td>39 38 17 16 15</td>\n    </tr>\n    <tr>\n      <th>197</th>\n      <td>197</td>\n      <td>32 13 38 7 29</td>\n    </tr>\n    <tr>\n      <th>198</th>\n      <td>198</td>\n      <td>32 38 8 35 5</td>\n    </tr>\n    <tr>\n      <th>199</th>\n      <td>199</td>\n      <td>11 10 0 22 35</td>\n    </tr>\n  </tbody>\n</table>\n<p>200 rows × 2 columns</p>\n</div>"
     },
     "execution_count": 149,
     "metadata": {},
     "output_type": "execute_result"
    }
   ],
   "source": [
    "# Show the output dataframe\n",
    "\n",
    "result_df = pd.DataFrame(\n",
    "    data = {'tourist_id': arr_tourists,\n",
    "            'tours': recommendations}\n",
    ")\n",
    "\n",
    "result_df"
   ],
   "metadata": {
    "collapsed": false,
    "pycharm": {
     "name": "#%%\n"
    }
   }
  },
  {
   "cell_type": "markdown",
   "source": [
    "Let's randomly choose a tourist and check for information of recommended guides."
   ],
   "metadata": {
    "collapsed": false,
    "pycharm": {
     "name": "#%% md\n"
    }
   }
  },
  {
   "cell_type": "code",
   "execution_count": 156,
   "outputs": [
    {
     "data": {
      "text/plain": "                                                          10\nid                                                        10\nlanguages                                          ['dutch']\nkeywords   ['sport', 'tracking', 'literature', 'beer', 'w...",
      "text/html": "<div>\n<style scoped>\n    .dataframe tbody tr th:only-of-type {\n        vertical-align: middle;\n    }\n\n    .dataframe tbody tr th {\n        vertical-align: top;\n    }\n\n    .dataframe thead th {\n        text-align: right;\n    }\n</style>\n<table border=\"1\" class=\"dataframe\">\n  <thead>\n    <tr style=\"text-align: right;\">\n      <th></th>\n      <th>10</th>\n    </tr>\n  </thead>\n  <tbody>\n    <tr>\n      <th>id</th>\n      <td>10</td>\n    </tr>\n    <tr>\n      <th>languages</th>\n      <td>['dutch']</td>\n    </tr>\n    <tr>\n      <th>keywords</th>\n      <td>['sport', 'tracking', 'literature', 'beer', 'w...</td>\n    </tr>\n  </tbody>\n</table>\n</div>"
     },
     "execution_count": 156,
     "metadata": {},
     "output_type": "execute_result"
    }
   ],
   "source": [
    "# Show some examples: select a tourist by id to visualize the received recommendations\n",
    "sample_tourist = 10\n",
    "pd.DataFrame(tourist_df.loc[sample_tourist,:])"
   ],
   "metadata": {
    "collapsed": false,
    "pycharm": {
     "name": "#%%\n"
    }
   }
  },
  {
   "cell_type": "code",
   "execution_count": 157,
   "outputs": [
    {
     "data": {
      "text/plain": "    id  guide                               languages   city  \\\n17  17     17                                 [dutch]  Lecce   \n22  22     22                      [chinese, spanish]  Lecce   \n39  39     39                        [spanish, dutch]  Lecce   \n34  34     34  [chinese, spanish, bulgarian, italian]  Lecce   \n1    1      1                        [italian, dutch]  Lecce   \n\n                                          attractions  \\\n17     [Museo Faggiano, San Giovanni Battista Church]   \n22  [Church of San Matteo, Villa Comunale di Lecce...   \n39            [Porta Napoli, Villa Comunale di Lecce]   \n34             [Church of San Francesco della Scarpa]   \n1               [Piazza Sant'Oronzo, Torre del Parco]   \n\n                              keywords  price        date  duration  \n17               [literature, museums]     17  2024-06-09         9  \n22  [countryside, history, literature]     27  2024-06-13         9  \n39                  [art, countryside]     19  2024-06-11         5  \n34                        [literature]     26  2024-06-16        12  \n1                       [art, history]     27  2024-06-02        11  ",
      "text/html": "<div>\n<style scoped>\n    .dataframe tbody tr th:only-of-type {\n        vertical-align: middle;\n    }\n\n    .dataframe tbody tr th {\n        vertical-align: top;\n    }\n\n    .dataframe thead th {\n        text-align: right;\n    }\n</style>\n<table border=\"1\" class=\"dataframe\">\n  <thead>\n    <tr style=\"text-align: right;\">\n      <th></th>\n      <th>id</th>\n      <th>guide</th>\n      <th>languages</th>\n      <th>city</th>\n      <th>attractions</th>\n      <th>keywords</th>\n      <th>price</th>\n      <th>date</th>\n      <th>duration</th>\n    </tr>\n  </thead>\n  <tbody>\n    <tr>\n      <th>17</th>\n      <td>17</td>\n      <td>17</td>\n      <td>[dutch]</td>\n      <td>Lecce</td>\n      <td>[Museo Faggiano, San Giovanni Battista Church]</td>\n      <td>[literature, museums]</td>\n      <td>17</td>\n      <td>2024-06-09</td>\n      <td>9</td>\n    </tr>\n    <tr>\n      <th>22</th>\n      <td>22</td>\n      <td>22</td>\n      <td>[chinese, spanish]</td>\n      <td>Lecce</td>\n      <td>[Church of San Matteo, Villa Comunale di Lecce...</td>\n      <td>[countryside, history, literature]</td>\n      <td>27</td>\n      <td>2024-06-13</td>\n      <td>9</td>\n    </tr>\n    <tr>\n      <th>39</th>\n      <td>39</td>\n      <td>39</td>\n      <td>[spanish, dutch]</td>\n      <td>Lecce</td>\n      <td>[Porta Napoli, Villa Comunale di Lecce]</td>\n      <td>[art, countryside]</td>\n      <td>19</td>\n      <td>2024-06-11</td>\n      <td>5</td>\n    </tr>\n    <tr>\n      <th>34</th>\n      <td>34</td>\n      <td>34</td>\n      <td>[chinese, spanish, bulgarian, italian]</td>\n      <td>Lecce</td>\n      <td>[Church of San Francesco della Scarpa]</td>\n      <td>[literature]</td>\n      <td>26</td>\n      <td>2024-06-16</td>\n      <td>12</td>\n    </tr>\n    <tr>\n      <th>1</th>\n      <td>1</td>\n      <td>1</td>\n      <td>[italian, dutch]</td>\n      <td>Lecce</td>\n      <td>[Piazza Sant'Oronzo, Torre del Parco]</td>\n      <td>[art, history]</td>\n      <td>27</td>\n      <td>2024-06-02</td>\n      <td>11</td>\n    </tr>\n  </tbody>\n</table>\n</div>"
     },
     "execution_count": 157,
     "metadata": {},
     "output_type": "execute_result"
    }
   ],
   "source": [
    "# List of recommended guides\n",
    "sample_guide_list = list(map(int, recommendations[sample_tourist].split(\" \")))\n",
    "tour_df.loc[sample_guide_list,:]"
   ],
   "metadata": {
    "collapsed": false,
    "pycharm": {
     "name": "#%%\n"
    }
   }
  },
  {
   "cell_type": "code",
   "execution_count": 101,
   "outputs": [],
   "source": [],
   "metadata": {
    "collapsed": false,
    "pycharm": {
     "name": "#%%\n"
    }
   }
  },
  {
   "cell_type": "code",
   "execution_count": null,
   "id": "bc8023b5",
   "metadata": {
    "pycharm": {
     "name": "#%%\n"
    }
   },
   "outputs": [],
   "source": []
  },
  {
   "cell_type": "code",
   "execution_count": null,
   "id": "3b0d893f",
   "metadata": {
    "pycharm": {
     "name": "#%%\n"
    }
   },
   "outputs": [],
   "source": []
  }
 ],
 "metadata": {
  "kernelspec": {
   "display_name": "Python 3 (ipykernel)",
   "language": "python",
   "name": "python3"
  },
  "language_info": {
   "codemirror_mode": {
    "name": "ipython",
    "version": 3
   },
   "file_extension": ".py",
   "mimetype": "text/x-python",
   "name": "python",
   "nbconvert_exporter": "python",
   "pygments_lexer": "ipython3",
   "version": "3.9.12"
  }
 },
 "nbformat": 4,
 "nbformat_minor": 5
}
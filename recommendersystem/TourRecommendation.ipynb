{
 "cells": [
  {
   "cell_type": "markdown",
   "id": "25a69c6c",
   "metadata": {
    "pycharm": {
     "name": "#%% md\n"
    }
   },
   "source": [
    "# Tour Recommendation Pipeline\n",
    "Since the scenario includes the fact that the guides can publish already organized tours on the application, we have also studied this problem. Considering the guide recommendation pipeline, we have adapted it to the case of published tours.\n",
    "\n",
    "Hence, the tour recommendation system proposes to recommend some tours published by guides to the tourists.\n",
    "\n",
    "The tour recommendation system uses datasets of:\n",
    "- Ratings given by tourists to specific tours;\n",
    "- Set of attributes about the tours."
   ]
  },
  {
   "cell_type": "markdown",
   "id": "a04247e2",
   "metadata": {
    "pycharm": {
     "name": "#%% md\n"
    }
   },
   "source": [
    "## Define working environment"
   ]
  },
  {
   "cell_type": "code",
   "execution_count": 1,
   "id": "8738f9e9",
   "metadata": {
    "pycharm": {
     "name": "#%%\n"
    }
   },
   "outputs": [],
   "source": [
    "# Import libraries\n",
    "\n",
    "import numpy as np\n",
    "import pandas as pd\n",
    "import scipy.sparse as sps\n",
    "import ast\n",
    "\n",
    "from tqdm import tqdm"
   ]
  },
  {
   "cell_type": "markdown",
   "id": "cba01366",
   "metadata": {
    "pycharm": {
     "name": "#%% md\n"
    }
   },
   "source": [
    "## Load and preprocess data\n",
    "\n",
    "In this part we are loading the previously generated dataframes:\n",
    "- tourists.csv with the id, languages spoken, and keywords of the tourists.\n",
    "- tours.csv with various attributes of the tours.\n",
    "- ratings.csv which contains the tourist-tour interactions.\n"
   ]
  },
  {
   "cell_type": "code",
   "execution_count": 2,
   "id": "f7455c74",
   "metadata": {
    "pycharm": {
     "name": "#%%\n"
    }
   },
   "outputs": [
    {
     "data": {
      "text/plain": "      id      languages                                           keywords\n0      0    ['spanish']           ['rafting', 'countryside', 'literature']\n1      1    ['chinese']             ['art', 'wine', 'literature', 'sport']\n2      2    ['italian']  ['sport', 'rafting', 'cinema', 'museums', 'mus...\n3      3    ['spanish']                                           ['beer']\n4      4     ['french']  ['tracking', 'food', 'art', 'countryside', 'ra...\n..   ...            ...                                                ...\n495  495     ['french']  ['music', 'museums', 'literature', 'cinema', '...\n496  496  ['bulgarian']  ['countryside', 'food', 'wine', 'music', 'hist...\n497  497     ['french']  ['music', 'beer', 'rafting', 'museums', 'track...\n498  498    ['italian']                                          ['sport']\n499  499    ['italian']   ['archeology', 'countryside', 'rafting', 'wine']\n\n[500 rows x 3 columns]",
      "text/html": "<div>\n<style scoped>\n    .dataframe tbody tr th:only-of-type {\n        vertical-align: middle;\n    }\n\n    .dataframe tbody tr th {\n        vertical-align: top;\n    }\n\n    .dataframe thead th {\n        text-align: right;\n    }\n</style>\n<table border=\"1\" class=\"dataframe\">\n  <thead>\n    <tr style=\"text-align: right;\">\n      <th></th>\n      <th>id</th>\n      <th>languages</th>\n      <th>keywords</th>\n    </tr>\n  </thead>\n  <tbody>\n    <tr>\n      <th>0</th>\n      <td>0</td>\n      <td>['spanish']</td>\n      <td>['rafting', 'countryside', 'literature']</td>\n    </tr>\n    <tr>\n      <th>1</th>\n      <td>1</td>\n      <td>['chinese']</td>\n      <td>['art', 'wine', 'literature', 'sport']</td>\n    </tr>\n    <tr>\n      <th>2</th>\n      <td>2</td>\n      <td>['italian']</td>\n      <td>['sport', 'rafting', 'cinema', 'museums', 'mus...</td>\n    </tr>\n    <tr>\n      <th>3</th>\n      <td>3</td>\n      <td>['spanish']</td>\n      <td>['beer']</td>\n    </tr>\n    <tr>\n      <th>4</th>\n      <td>4</td>\n      <td>['french']</td>\n      <td>['tracking', 'food', 'art', 'countryside', 'ra...</td>\n    </tr>\n    <tr>\n      <th>...</th>\n      <td>...</td>\n      <td>...</td>\n      <td>...</td>\n    </tr>\n    <tr>\n      <th>495</th>\n      <td>495</td>\n      <td>['french']</td>\n      <td>['music', 'museums', 'literature', 'cinema', '...</td>\n    </tr>\n    <tr>\n      <th>496</th>\n      <td>496</td>\n      <td>['bulgarian']</td>\n      <td>['countryside', 'food', 'wine', 'music', 'hist...</td>\n    </tr>\n    <tr>\n      <th>497</th>\n      <td>497</td>\n      <td>['french']</td>\n      <td>['music', 'beer', 'rafting', 'museums', 'track...</td>\n    </tr>\n    <tr>\n      <th>498</th>\n      <td>498</td>\n      <td>['italian']</td>\n      <td>['sport']</td>\n    </tr>\n    <tr>\n      <th>499</th>\n      <td>499</td>\n      <td>['italian']</td>\n      <td>['archeology', 'countryside', 'rafting', 'wine']</td>\n    </tr>\n  </tbody>\n</table>\n<p>500 rows × 3 columns</p>\n</div>"
     },
     "execution_count": 2,
     "metadata": {},
     "output_type": "execute_result"
    }
   ],
   "source": [
    "# Load dataframe for tourist attributes\n",
    "\n",
    "tourist_file = open('Data/tourists_500.csv')\n",
    "\n",
    "tourist_df = pd.read_csv(\n",
    "    filepath_or_buffer = tourist_file,\n",
    "    sep = ';',\n",
    "    header = 0\n",
    ")\n",
    "\n",
    "tourist_df.rename(columns={tourist_df.columns[0]: 'id'}, inplace=True)\n",
    "\n",
    "tourist_df"
   ]
  },
  {
   "cell_type": "code",
   "execution_count": 3,
   "id": "af9da72b",
   "metadata": {
    "pycharm": {
     "name": "#%%\n"
    },
    "scrolled": true
   },
   "outputs": [
    {
     "data": {
      "text/plain": "    id  guide                               languages   city  \\\n0    0      0                               [english]  Lecce   \n1    1      1                        [italian, dutch]  Lecce   \n2    2      2              [chinese, french, english]  Lecce   \n3    3      3                             [bulgarian]  Lecce   \n4    4      4                      [deutsche, french]  Lecce   \n5    5      5            [deutsche, dutch, bulgarian]  Lecce   \n6    6      6              [english, chinese, french]  Lecce   \n7    7      7       [spanish, dutch, french, italian]  Lecce   \n8    8      8           [bulgarian, english, chinese]  Lecce   \n9    9      9    [chinese, bulgarian, dutch, english]  Lecce   \n10  10     10                   [bulgarian, deutsche]  Lecce   \n11  11     11                             [bulgarian]  Lecce   \n12  12     12                [dutch, french, italian]  Lecce   \n13  13     13                      [chinese, english]  Lecce   \n14  14     14                       [chinese, french]  Lecce   \n15  15     15                     [deutsche, chinese]  Lecce   \n16  16     16            [spanish, bulgarian, french]  Lecce   \n17  17     17                                 [dutch]  Lecce   \n18  18     18                        [italian, dutch]  Lecce   \n19  19     19          [bulgarian, deutsche, english]  Lecce   \n20  20     20                      [deutsche, french]  Lecce   \n21  21     21                               [chinese]  Lecce   \n22  22     22                      [chinese, spanish]  Lecce   \n23  23     23           [english, italian, bulgarian]  Lecce   \n24  24     24             [dutch, italian, bulgarian]  Lecce   \n25  25     25                             [bulgarian]  Lecce   \n26  26     26                                 [dutch]  Lecce   \n27  27     27                               [italian]  Lecce   \n28  28     28                               [spanish]  Lecce   \n29  29     29                    [bulgarian, chinese]  Lecce   \n30  30     30             [french, deutsche, english]  Lecce   \n31  31     31             [deutsche, french, english]  Lecce   \n32  32     32                     [french, bulgarian]  Lecce   \n33  33     33                                [french]  Lecce   \n34  34     34  [chinese, spanish, bulgarian, italian]  Lecce   \n35  35     35                       [italian, french]  Lecce   \n36  36     36                               [spanish]  Lecce   \n37  37     37                                 [dutch]  Lecce   \n38  38     38                               [italian]  Lecce   \n39  39     39                        [spanish, dutch]  Lecce   \n40  40     40                               [italian]  Lecce   \n41  41     41                               [spanish]  Lecce   \n42  42     42                             [bulgarian]  Lecce   \n43  43     43                              [deutsche]  Lecce   \n44  44     44           [chinese, italian, bulgarian]  Lecce   \n45  45     45                [chinese, french, dutch]  Lecce   \n46  46     46                               [chinese]  Lecce   \n47  47     47              [italian, dutch, deutsche]  Lecce   \n48  48     48                    [italian, bulgarian]  Lecce   \n49  49     49                     [french, bulgarian]  Lecce   \n\n                                          attractions  \\\n0                  [Celestine Convent, Roman Theatre]   \n1                                    [Museo Faggiano]   \n2            [Palazzo Carafa, Church of Santa Chiara]   \n3   [Villa Comunale di Lecce, Church of San Matteo...   \n4            [Torre del Parco, Palazzo dei Celestini]   \n5             [Museo Faggiano, Palazzo dei Celestini]   \n6       [Piazza Sant'Oronzo, Villa Comunale di Lecce]   \n7                                 [Celestine Convent]   \n8   [San Giovanni Battista Church, Roman Theatre, ...   \n9                             [Palazzo dei Celestini]   \n10  [Celestine Convent, San Giovanni Battista Chur...   \n11                               [Piazza Sant'Oronzo]   \n12                                   [Museo Faggiano]   \n13                      [Porta Napoli, Roman Theatre]   \n14                                    [Roman Theatre]   \n15     [Museo Faggiano, San Giovanni Battista Church]   \n16         [Torre del Parco, Basilica di Santa Croce]   \n17  [Piazza Sant'Oronzo, Porta Napoli, Church of S...   \n18            [Palazzo Carafa, Palazzo dei Celestini]   \n19  [Church of San Francesco della Scarpa, Museo F...   \n20  [Church of San Matteo, Villa Comunale di Lecce...   \n21                                     [Porta Napoli]   \n22           [Basilica di Santa Croce, Roman Theatre]   \n23  [Lecce Cathedral, Church of Santa Chiara, Pala...   \n24  [Church of San Francesco della Scarpa, Colonna...   \n25            [Basilica di Santa Croce, Porta Napoli]   \n26  [Church of San Francesco della Scarpa, Museo F...   \n27          [Roman Amphitheatre, Castello di Carlo V]   \n28  [Lecce Cathedral, Torre del Parco, Piazza Sant...   \n29                            [Palazzo dei Celestini]   \n30                            [Palazzo dei Celestini]   \n31                                  [Lecce Cathedral]   \n32             [Church of San Francesco della Scarpa]   \n33  [Porta Napoli, Museo Faggiano, San Giovanni Ba...   \n34  [Lecce Cathedral, Church of San Matteo, Roman ...   \n35  [Church of Santa Chiara, Church of San Frances...   \n36  [San Giovanni Battista Church, Piazza Sant'Oro...   \n37            [Porta Napoli, Villa Comunale di Lecce]   \n38             [Castello di Carlo V, Lecce Cathedral]   \n39                           [Church of Santa Chiara]   \n40  [Celestine Convent, Church of San Francesco de...   \n41  [Lecce Cathedral, Piazza Sant'Oronzo, Piazza d...   \n42  [Colonna di Sant'Oronzo, Church of Santa Chiar...   \n43     [San Giovanni Battista Church, Museo Faggiano]   \n44  [Museo Faggiano, Colonna di Sant'Oronzo, Celes...   \n45  [Palazzo Carafa, Piazza Sant'Oronzo, Roman The...   \n46                                   [Museo Faggiano]   \n47  [Lecce Cathedral, Church of Santa Chiara, Muse...   \n48                                   [Museo Faggiano]   \n49                                    [Roman Theatre]   \n\n                              keywords  price        date  duration  \n0             [archeology, literature]     22  2024-06-30        12  \n1                            [museums]     28  2024-06-26         9  \n2                [history, literature]     27  2024-06-03        11  \n3   [countryside, literature, museums]     31  2024-06-29        11  \n4                            [history]     31  2024-06-17        12  \n5                   [history, museums]     26  2024-06-29         7  \n6                   [art, countryside]     38  2024-06-28        10  \n7                         [literature]     34  2024-07-01         7  \n8    [archeology, history, literature]     25  2024-06-10        11  \n9                            [history]     29  2024-06-16         8  \n10                        [literature]     27  2024-06-26         8  \n11                               [art]     39  2024-06-16         6  \n12                           [museums]     29  2024-06-14        10  \n13                   [archeology, art]     35  2024-06-22         5  \n14                        [archeology]     38  2024-06-29         9  \n15               [literature, museums]     21  2024-06-09         9  \n16                           [history]     19  2024-06-16         6  \n17                   [art, literature]     29  2024-06-26        12  \n18                           [history]     33  2024-06-22         9  \n19               [literature, museums]     30  2024-06-14         6  \n20  [countryside, history, literature]     16  2024-06-13         9  \n21                               [art]     28  2024-06-05         9  \n22               [archeology, history]     18  2024-06-29        12  \n23               [history, literature]     22  2024-06-01         9  \n24                   [art, literature]     25  2024-06-29         8  \n25                      [art, history]     31  2024-06-12         7  \n26               [literature, museums]     32  2024-06-14         5  \n27               [archeology, history]     35  2024-06-10         6  \n28          [art, history, literature]     34  2024-06-06         5  \n29                           [history]     29  2024-06-05         8  \n30                           [history]     27  2024-06-12         6  \n31                        [literature]     32  2024-06-23        10  \n32                        [literature]     30  2024-06-16        12  \n33          [art, literature, museums]     29  2024-06-06        12  \n34            [archeology, literature]     25  2024-06-25        10  \n35                        [literature]     24  2024-06-05         6  \n36                   [art, literature]     31  2024-06-09        11  \n37                  [art, countryside]     25  2024-06-11         5  \n38               [history, literature]     23  2024-06-21        11  \n39                        [literature]     31  2024-06-15        10  \n40                        [literature]     23  2024-06-24         8  \n41                   [art, literature]     24  2024-06-02         8  \n42                   [art, literature]     30  2024-06-22         9  \n43               [literature, museums]     25  2024-06-13         5  \n44          [art, literature, museums]     31  2024-06-23         9  \n45          [archeology, art, history]     26  2024-06-03        12  \n46                           [museums]     28  2024-06-06        10  \n47               [literature, museums]     35  2024-06-27         9  \n48                           [museums]     25  2024-06-11         8  \n49                        [archeology]     29  2024-06-06        11  ",
      "text/html": "<div>\n<style scoped>\n    .dataframe tbody tr th:only-of-type {\n        vertical-align: middle;\n    }\n\n    .dataframe tbody tr th {\n        vertical-align: top;\n    }\n\n    .dataframe thead th {\n        text-align: right;\n    }\n</style>\n<table border=\"1\" class=\"dataframe\">\n  <thead>\n    <tr style=\"text-align: right;\">\n      <th></th>\n      <th>id</th>\n      <th>guide</th>\n      <th>languages</th>\n      <th>city</th>\n      <th>attractions</th>\n      <th>keywords</th>\n      <th>price</th>\n      <th>date</th>\n      <th>duration</th>\n    </tr>\n  </thead>\n  <tbody>\n    <tr>\n      <th>0</th>\n      <td>0</td>\n      <td>0</td>\n      <td>[english]</td>\n      <td>Lecce</td>\n      <td>[Celestine Convent, Roman Theatre]</td>\n      <td>[archeology, literature]</td>\n      <td>22</td>\n      <td>2024-06-30</td>\n      <td>12</td>\n    </tr>\n    <tr>\n      <th>1</th>\n      <td>1</td>\n      <td>1</td>\n      <td>[italian, dutch]</td>\n      <td>Lecce</td>\n      <td>[Museo Faggiano]</td>\n      <td>[museums]</td>\n      <td>28</td>\n      <td>2024-06-26</td>\n      <td>9</td>\n    </tr>\n    <tr>\n      <th>2</th>\n      <td>2</td>\n      <td>2</td>\n      <td>[chinese, french, english]</td>\n      <td>Lecce</td>\n      <td>[Palazzo Carafa, Church of Santa Chiara]</td>\n      <td>[history, literature]</td>\n      <td>27</td>\n      <td>2024-06-03</td>\n      <td>11</td>\n    </tr>\n    <tr>\n      <th>3</th>\n      <td>3</td>\n      <td>3</td>\n      <td>[bulgarian]</td>\n      <td>Lecce</td>\n      <td>[Villa Comunale di Lecce, Church of San Matteo...</td>\n      <td>[countryside, literature, museums]</td>\n      <td>31</td>\n      <td>2024-06-29</td>\n      <td>11</td>\n    </tr>\n    <tr>\n      <th>4</th>\n      <td>4</td>\n      <td>4</td>\n      <td>[deutsche, french]</td>\n      <td>Lecce</td>\n      <td>[Torre del Parco, Palazzo dei Celestini]</td>\n      <td>[history]</td>\n      <td>31</td>\n      <td>2024-06-17</td>\n      <td>12</td>\n    </tr>\n    <tr>\n      <th>5</th>\n      <td>5</td>\n      <td>5</td>\n      <td>[deutsche, dutch, bulgarian]</td>\n      <td>Lecce</td>\n      <td>[Museo Faggiano, Palazzo dei Celestini]</td>\n      <td>[history, museums]</td>\n      <td>26</td>\n      <td>2024-06-29</td>\n      <td>7</td>\n    </tr>\n    <tr>\n      <th>6</th>\n      <td>6</td>\n      <td>6</td>\n      <td>[english, chinese, french]</td>\n      <td>Lecce</td>\n      <td>[Piazza Sant'Oronzo, Villa Comunale di Lecce]</td>\n      <td>[art, countryside]</td>\n      <td>38</td>\n      <td>2024-06-28</td>\n      <td>10</td>\n    </tr>\n    <tr>\n      <th>7</th>\n      <td>7</td>\n      <td>7</td>\n      <td>[spanish, dutch, french, italian]</td>\n      <td>Lecce</td>\n      <td>[Celestine Convent]</td>\n      <td>[literature]</td>\n      <td>34</td>\n      <td>2024-07-01</td>\n      <td>7</td>\n    </tr>\n    <tr>\n      <th>8</th>\n      <td>8</td>\n      <td>8</td>\n      <td>[bulgarian, english, chinese]</td>\n      <td>Lecce</td>\n      <td>[San Giovanni Battista Church, Roman Theatre, ...</td>\n      <td>[archeology, history, literature]</td>\n      <td>25</td>\n      <td>2024-06-10</td>\n      <td>11</td>\n    </tr>\n    <tr>\n      <th>9</th>\n      <td>9</td>\n      <td>9</td>\n      <td>[chinese, bulgarian, dutch, english]</td>\n      <td>Lecce</td>\n      <td>[Palazzo dei Celestini]</td>\n      <td>[history]</td>\n      <td>29</td>\n      <td>2024-06-16</td>\n      <td>8</td>\n    </tr>\n    <tr>\n      <th>10</th>\n      <td>10</td>\n      <td>10</td>\n      <td>[bulgarian, deutsche]</td>\n      <td>Lecce</td>\n      <td>[Celestine Convent, San Giovanni Battista Chur...</td>\n      <td>[literature]</td>\n      <td>27</td>\n      <td>2024-06-26</td>\n      <td>8</td>\n    </tr>\n    <tr>\n      <th>11</th>\n      <td>11</td>\n      <td>11</td>\n      <td>[bulgarian]</td>\n      <td>Lecce</td>\n      <td>[Piazza Sant'Oronzo]</td>\n      <td>[art]</td>\n      <td>39</td>\n      <td>2024-06-16</td>\n      <td>6</td>\n    </tr>\n    <tr>\n      <th>12</th>\n      <td>12</td>\n      <td>12</td>\n      <td>[dutch, french, italian]</td>\n      <td>Lecce</td>\n      <td>[Museo Faggiano]</td>\n      <td>[museums]</td>\n      <td>29</td>\n      <td>2024-06-14</td>\n      <td>10</td>\n    </tr>\n    <tr>\n      <th>13</th>\n      <td>13</td>\n      <td>13</td>\n      <td>[chinese, english]</td>\n      <td>Lecce</td>\n      <td>[Porta Napoli, Roman Theatre]</td>\n      <td>[archeology, art]</td>\n      <td>35</td>\n      <td>2024-06-22</td>\n      <td>5</td>\n    </tr>\n    <tr>\n      <th>14</th>\n      <td>14</td>\n      <td>14</td>\n      <td>[chinese, french]</td>\n      <td>Lecce</td>\n      <td>[Roman Theatre]</td>\n      <td>[archeology]</td>\n      <td>38</td>\n      <td>2024-06-29</td>\n      <td>9</td>\n    </tr>\n    <tr>\n      <th>15</th>\n      <td>15</td>\n      <td>15</td>\n      <td>[deutsche, chinese]</td>\n      <td>Lecce</td>\n      <td>[Museo Faggiano, San Giovanni Battista Church]</td>\n      <td>[literature, museums]</td>\n      <td>21</td>\n      <td>2024-06-09</td>\n      <td>9</td>\n    </tr>\n    <tr>\n      <th>16</th>\n      <td>16</td>\n      <td>16</td>\n      <td>[spanish, bulgarian, french]</td>\n      <td>Lecce</td>\n      <td>[Torre del Parco, Basilica di Santa Croce]</td>\n      <td>[history]</td>\n      <td>19</td>\n      <td>2024-06-16</td>\n      <td>6</td>\n    </tr>\n    <tr>\n      <th>17</th>\n      <td>17</td>\n      <td>17</td>\n      <td>[dutch]</td>\n      <td>Lecce</td>\n      <td>[Piazza Sant'Oronzo, Porta Napoli, Church of S...</td>\n      <td>[art, literature]</td>\n      <td>29</td>\n      <td>2024-06-26</td>\n      <td>12</td>\n    </tr>\n    <tr>\n      <th>18</th>\n      <td>18</td>\n      <td>18</td>\n      <td>[italian, dutch]</td>\n      <td>Lecce</td>\n      <td>[Palazzo Carafa, Palazzo dei Celestini]</td>\n      <td>[history]</td>\n      <td>33</td>\n      <td>2024-06-22</td>\n      <td>9</td>\n    </tr>\n    <tr>\n      <th>19</th>\n      <td>19</td>\n      <td>19</td>\n      <td>[bulgarian, deutsche, english]</td>\n      <td>Lecce</td>\n      <td>[Church of San Francesco della Scarpa, Museo F...</td>\n      <td>[literature, museums]</td>\n      <td>30</td>\n      <td>2024-06-14</td>\n      <td>6</td>\n    </tr>\n    <tr>\n      <th>20</th>\n      <td>20</td>\n      <td>20</td>\n      <td>[deutsche, french]</td>\n      <td>Lecce</td>\n      <td>[Church of San Matteo, Villa Comunale di Lecce...</td>\n      <td>[countryside, history, literature]</td>\n      <td>16</td>\n      <td>2024-06-13</td>\n      <td>9</td>\n    </tr>\n    <tr>\n      <th>21</th>\n      <td>21</td>\n      <td>21</td>\n      <td>[chinese]</td>\n      <td>Lecce</td>\n      <td>[Porta Napoli]</td>\n      <td>[art]</td>\n      <td>28</td>\n      <td>2024-06-05</td>\n      <td>9</td>\n    </tr>\n    <tr>\n      <th>22</th>\n      <td>22</td>\n      <td>22</td>\n      <td>[chinese, spanish]</td>\n      <td>Lecce</td>\n      <td>[Basilica di Santa Croce, Roman Theatre]</td>\n      <td>[archeology, history]</td>\n      <td>18</td>\n      <td>2024-06-29</td>\n      <td>12</td>\n    </tr>\n    <tr>\n      <th>23</th>\n      <td>23</td>\n      <td>23</td>\n      <td>[english, italian, bulgarian]</td>\n      <td>Lecce</td>\n      <td>[Lecce Cathedral, Church of Santa Chiara, Pala...</td>\n      <td>[history, literature]</td>\n      <td>22</td>\n      <td>2024-06-01</td>\n      <td>9</td>\n    </tr>\n    <tr>\n      <th>24</th>\n      <td>24</td>\n      <td>24</td>\n      <td>[dutch, italian, bulgarian]</td>\n      <td>Lecce</td>\n      <td>[Church of San Francesco della Scarpa, Colonna...</td>\n      <td>[art, literature]</td>\n      <td>25</td>\n      <td>2024-06-29</td>\n      <td>8</td>\n    </tr>\n    <tr>\n      <th>25</th>\n      <td>25</td>\n      <td>25</td>\n      <td>[bulgarian]</td>\n      <td>Lecce</td>\n      <td>[Basilica di Santa Croce, Porta Napoli]</td>\n      <td>[art, history]</td>\n      <td>31</td>\n      <td>2024-06-12</td>\n      <td>7</td>\n    </tr>\n    <tr>\n      <th>26</th>\n      <td>26</td>\n      <td>26</td>\n      <td>[dutch]</td>\n      <td>Lecce</td>\n      <td>[Church of San Francesco della Scarpa, Museo F...</td>\n      <td>[literature, museums]</td>\n      <td>32</td>\n      <td>2024-06-14</td>\n      <td>5</td>\n    </tr>\n    <tr>\n      <th>27</th>\n      <td>27</td>\n      <td>27</td>\n      <td>[italian]</td>\n      <td>Lecce</td>\n      <td>[Roman Amphitheatre, Castello di Carlo V]</td>\n      <td>[archeology, history]</td>\n      <td>35</td>\n      <td>2024-06-10</td>\n      <td>6</td>\n    </tr>\n    <tr>\n      <th>28</th>\n      <td>28</td>\n      <td>28</td>\n      <td>[spanish]</td>\n      <td>Lecce</td>\n      <td>[Lecce Cathedral, Torre del Parco, Piazza Sant...</td>\n      <td>[art, history, literature]</td>\n      <td>34</td>\n      <td>2024-06-06</td>\n      <td>5</td>\n    </tr>\n    <tr>\n      <th>29</th>\n      <td>29</td>\n      <td>29</td>\n      <td>[bulgarian, chinese]</td>\n      <td>Lecce</td>\n      <td>[Palazzo dei Celestini]</td>\n      <td>[history]</td>\n      <td>29</td>\n      <td>2024-06-05</td>\n      <td>8</td>\n    </tr>\n    <tr>\n      <th>30</th>\n      <td>30</td>\n      <td>30</td>\n      <td>[french, deutsche, english]</td>\n      <td>Lecce</td>\n      <td>[Palazzo dei Celestini]</td>\n      <td>[history]</td>\n      <td>27</td>\n      <td>2024-06-12</td>\n      <td>6</td>\n    </tr>\n    <tr>\n      <th>31</th>\n      <td>31</td>\n      <td>31</td>\n      <td>[deutsche, french, english]</td>\n      <td>Lecce</td>\n      <td>[Lecce Cathedral]</td>\n      <td>[literature]</td>\n      <td>32</td>\n      <td>2024-06-23</td>\n      <td>10</td>\n    </tr>\n    <tr>\n      <th>32</th>\n      <td>32</td>\n      <td>32</td>\n      <td>[french, bulgarian]</td>\n      <td>Lecce</td>\n      <td>[Church of San Francesco della Scarpa]</td>\n      <td>[literature]</td>\n      <td>30</td>\n      <td>2024-06-16</td>\n      <td>12</td>\n    </tr>\n    <tr>\n      <th>33</th>\n      <td>33</td>\n      <td>33</td>\n      <td>[french]</td>\n      <td>Lecce</td>\n      <td>[Porta Napoli, Museo Faggiano, San Giovanni Ba...</td>\n      <td>[art, literature, museums]</td>\n      <td>29</td>\n      <td>2024-06-06</td>\n      <td>12</td>\n    </tr>\n    <tr>\n      <th>34</th>\n      <td>34</td>\n      <td>34</td>\n      <td>[chinese, spanish, bulgarian, italian]</td>\n      <td>Lecce</td>\n      <td>[Lecce Cathedral, Church of San Matteo, Roman ...</td>\n      <td>[archeology, literature]</td>\n      <td>25</td>\n      <td>2024-06-25</td>\n      <td>10</td>\n    </tr>\n    <tr>\n      <th>35</th>\n      <td>35</td>\n      <td>35</td>\n      <td>[italian, french]</td>\n      <td>Lecce</td>\n      <td>[Church of Santa Chiara, Church of San Frances...</td>\n      <td>[literature]</td>\n      <td>24</td>\n      <td>2024-06-05</td>\n      <td>6</td>\n    </tr>\n    <tr>\n      <th>36</th>\n      <td>36</td>\n      <td>36</td>\n      <td>[spanish]</td>\n      <td>Lecce</td>\n      <td>[San Giovanni Battista Church, Piazza Sant'Oro...</td>\n      <td>[art, literature]</td>\n      <td>31</td>\n      <td>2024-06-09</td>\n      <td>11</td>\n    </tr>\n    <tr>\n      <th>37</th>\n      <td>37</td>\n      <td>37</td>\n      <td>[dutch]</td>\n      <td>Lecce</td>\n      <td>[Porta Napoli, Villa Comunale di Lecce]</td>\n      <td>[art, countryside]</td>\n      <td>25</td>\n      <td>2024-06-11</td>\n      <td>5</td>\n    </tr>\n    <tr>\n      <th>38</th>\n      <td>38</td>\n      <td>38</td>\n      <td>[italian]</td>\n      <td>Lecce</td>\n      <td>[Castello di Carlo V, Lecce Cathedral]</td>\n      <td>[history, literature]</td>\n      <td>23</td>\n      <td>2024-06-21</td>\n      <td>11</td>\n    </tr>\n    <tr>\n      <th>39</th>\n      <td>39</td>\n      <td>39</td>\n      <td>[spanish, dutch]</td>\n      <td>Lecce</td>\n      <td>[Church of Santa Chiara]</td>\n      <td>[literature]</td>\n      <td>31</td>\n      <td>2024-06-15</td>\n      <td>10</td>\n    </tr>\n    <tr>\n      <th>40</th>\n      <td>40</td>\n      <td>40</td>\n      <td>[italian]</td>\n      <td>Lecce</td>\n      <td>[Celestine Convent, Church of San Francesco de...</td>\n      <td>[literature]</td>\n      <td>23</td>\n      <td>2024-06-24</td>\n      <td>8</td>\n    </tr>\n    <tr>\n      <th>41</th>\n      <td>41</td>\n      <td>41</td>\n      <td>[spanish]</td>\n      <td>Lecce</td>\n      <td>[Lecce Cathedral, Piazza Sant'Oronzo, Piazza d...</td>\n      <td>[art, literature]</td>\n      <td>24</td>\n      <td>2024-06-02</td>\n      <td>8</td>\n    </tr>\n    <tr>\n      <th>42</th>\n      <td>42</td>\n      <td>42</td>\n      <td>[bulgarian]</td>\n      <td>Lecce</td>\n      <td>[Colonna di Sant'Oronzo, Church of Santa Chiar...</td>\n      <td>[art, literature]</td>\n      <td>30</td>\n      <td>2024-06-22</td>\n      <td>9</td>\n    </tr>\n    <tr>\n      <th>43</th>\n      <td>43</td>\n      <td>43</td>\n      <td>[deutsche]</td>\n      <td>Lecce</td>\n      <td>[San Giovanni Battista Church, Museo Faggiano]</td>\n      <td>[literature, museums]</td>\n      <td>25</td>\n      <td>2024-06-13</td>\n      <td>5</td>\n    </tr>\n    <tr>\n      <th>44</th>\n      <td>44</td>\n      <td>44</td>\n      <td>[chinese, italian, bulgarian]</td>\n      <td>Lecce</td>\n      <td>[Museo Faggiano, Colonna di Sant'Oronzo, Celes...</td>\n      <td>[art, literature, museums]</td>\n      <td>31</td>\n      <td>2024-06-23</td>\n      <td>9</td>\n    </tr>\n    <tr>\n      <th>45</th>\n      <td>45</td>\n      <td>45</td>\n      <td>[chinese, french, dutch]</td>\n      <td>Lecce</td>\n      <td>[Palazzo Carafa, Piazza Sant'Oronzo, Roman The...</td>\n      <td>[archeology, art, history]</td>\n      <td>26</td>\n      <td>2024-06-03</td>\n      <td>12</td>\n    </tr>\n    <tr>\n      <th>46</th>\n      <td>46</td>\n      <td>46</td>\n      <td>[chinese]</td>\n      <td>Lecce</td>\n      <td>[Museo Faggiano]</td>\n      <td>[museums]</td>\n      <td>28</td>\n      <td>2024-06-06</td>\n      <td>10</td>\n    </tr>\n    <tr>\n      <th>47</th>\n      <td>47</td>\n      <td>47</td>\n      <td>[italian, dutch, deutsche]</td>\n      <td>Lecce</td>\n      <td>[Lecce Cathedral, Church of Santa Chiara, Muse...</td>\n      <td>[literature, museums]</td>\n      <td>35</td>\n      <td>2024-06-27</td>\n      <td>9</td>\n    </tr>\n    <tr>\n      <th>48</th>\n      <td>48</td>\n      <td>48</td>\n      <td>[italian, bulgarian]</td>\n      <td>Lecce</td>\n      <td>[Museo Faggiano]</td>\n      <td>[museums]</td>\n      <td>25</td>\n      <td>2024-06-11</td>\n      <td>8</td>\n    </tr>\n    <tr>\n      <th>49</th>\n      <td>49</td>\n      <td>49</td>\n      <td>[french, bulgarian]</td>\n      <td>Lecce</td>\n      <td>[Roman Theatre]</td>\n      <td>[archeology]</td>\n      <td>29</td>\n      <td>2024-06-06</td>\n      <td>11</td>\n    </tr>\n  </tbody>\n</table>\n</div>"
     },
     "execution_count": 3,
     "metadata": {},
     "output_type": "execute_result"
    }
   ],
   "source": [
    "# Load dataframe for tour attributes\n",
    "\n",
    "tour_file = open('Data/tours_50.csv')\n",
    "\n",
    "tour_df = pd.read_csv(\n",
    "    filepath_or_buffer = tour_file,\n",
    "    sep = ';',\n",
    "    header = 0,\n",
    "\n",
    "    # Process the columns containing lists: load the content of those columns as list\n",
    "    converters = {'languages':ast.literal_eval, 'keywords':ast.literal_eval, 'attractions':ast.literal_eval}\n",
    ")\n",
    "\n",
    "tour_df.rename(columns={tour_df.columns[0]: 'id'}, inplace=True)\n",
    "\n",
    "tour_df"
   ]
  },
  {
   "cell_type": "code",
   "execution_count": 4,
   "id": "eb93bf83",
   "metadata": {
    "pycharm": {
     "name": "#%%\n"
    }
   },
   "outputs": [
    {
     "data": {
      "text/plain": "       0   1    2\n0      0  17  4.0\n1      0  33  4.0\n2      1   2  5.0\n3      1  43  3.0\n4      2  44  4.0\n..   ...  ..  ...\n666  495  28  4.0\n667  496  29  4.0\n668  497  19  4.0\n669  497  26  4.0\n670  499  37  4.0\n\n[671 rows x 3 columns]",
      "text/html": "<div>\n<style scoped>\n    .dataframe tbody tr th:only-of-type {\n        vertical-align: middle;\n    }\n\n    .dataframe tbody tr th {\n        vertical-align: top;\n    }\n\n    .dataframe thead th {\n        text-align: right;\n    }\n</style>\n<table border=\"1\" class=\"dataframe\">\n  <thead>\n    <tr style=\"text-align: right;\">\n      <th></th>\n      <th>0</th>\n      <th>1</th>\n      <th>2</th>\n    </tr>\n  </thead>\n  <tbody>\n    <tr>\n      <th>0</th>\n      <td>0</td>\n      <td>17</td>\n      <td>4.0</td>\n    </tr>\n    <tr>\n      <th>1</th>\n      <td>0</td>\n      <td>33</td>\n      <td>4.0</td>\n    </tr>\n    <tr>\n      <th>2</th>\n      <td>1</td>\n      <td>2</td>\n      <td>5.0</td>\n    </tr>\n    <tr>\n      <th>3</th>\n      <td>1</td>\n      <td>43</td>\n      <td>3.0</td>\n    </tr>\n    <tr>\n      <th>4</th>\n      <td>2</td>\n      <td>44</td>\n      <td>4.0</td>\n    </tr>\n    <tr>\n      <th>...</th>\n      <td>...</td>\n      <td>...</td>\n      <td>...</td>\n    </tr>\n    <tr>\n      <th>666</th>\n      <td>495</td>\n      <td>28</td>\n      <td>4.0</td>\n    </tr>\n    <tr>\n      <th>667</th>\n      <td>496</td>\n      <td>29</td>\n      <td>4.0</td>\n    </tr>\n    <tr>\n      <th>668</th>\n      <td>497</td>\n      <td>19</td>\n      <td>4.0</td>\n    </tr>\n    <tr>\n      <th>669</th>\n      <td>497</td>\n      <td>26</td>\n      <td>4.0</td>\n    </tr>\n    <tr>\n      <th>670</th>\n      <td>499</td>\n      <td>37</td>\n      <td>4.0</td>\n    </tr>\n  </tbody>\n</table>\n<p>671 rows × 3 columns</p>\n</div>"
     },
     "execution_count": 4,
     "metadata": {},
     "output_type": "execute_result"
    }
   ],
   "source": [
    "# Load dataframe for ratings\n",
    "\n",
    "rating_file = open('Data/tours_ratings_500_50.csv')\n",
    "\n",
    "rating_df = pd.read_csv(\n",
    "    filepath_or_buffer = rating_file,\n",
    "    sep = ';',\n",
    "    header = 0\n",
    ")\n",
    "\n",
    "rating_df"
   ]
  },
  {
   "cell_type": "code",
   "execution_count": 5,
   "id": "1570a729",
   "metadata": {
    "pycharm": {
     "name": "#%%\n"
    }
   },
   "outputs": [
    {
     "data": {
      "text/plain": "     tourist_id  tour_id  rating\n0             0       17     4.0\n1             0       33     4.0\n2             1        2     5.0\n3             1       43     3.0\n4             2       44     4.0\n..          ...      ...     ...\n666         495       28     4.0\n667         496       29     4.0\n668         497       19     4.0\n669         497       26     4.0\n670         499       37     4.0\n\n[671 rows x 3 columns]",
      "text/html": "<div>\n<style scoped>\n    .dataframe tbody tr th:only-of-type {\n        vertical-align: middle;\n    }\n\n    .dataframe tbody tr th {\n        vertical-align: top;\n    }\n\n    .dataframe thead th {\n        text-align: right;\n    }\n</style>\n<table border=\"1\" class=\"dataframe\">\n  <thead>\n    <tr style=\"text-align: right;\">\n      <th></th>\n      <th>tourist_id</th>\n      <th>tour_id</th>\n      <th>rating</th>\n    </tr>\n  </thead>\n  <tbody>\n    <tr>\n      <th>0</th>\n      <td>0</td>\n      <td>17</td>\n      <td>4.0</td>\n    </tr>\n    <tr>\n      <th>1</th>\n      <td>0</td>\n      <td>33</td>\n      <td>4.0</td>\n    </tr>\n    <tr>\n      <th>2</th>\n      <td>1</td>\n      <td>2</td>\n      <td>5.0</td>\n    </tr>\n    <tr>\n      <th>3</th>\n      <td>1</td>\n      <td>43</td>\n      <td>3.0</td>\n    </tr>\n    <tr>\n      <th>4</th>\n      <td>2</td>\n      <td>44</td>\n      <td>4.0</td>\n    </tr>\n    <tr>\n      <th>...</th>\n      <td>...</td>\n      <td>...</td>\n      <td>...</td>\n    </tr>\n    <tr>\n      <th>666</th>\n      <td>495</td>\n      <td>28</td>\n      <td>4.0</td>\n    </tr>\n    <tr>\n      <th>667</th>\n      <td>496</td>\n      <td>29</td>\n      <td>4.0</td>\n    </tr>\n    <tr>\n      <th>668</th>\n      <td>497</td>\n      <td>19</td>\n      <td>4.0</td>\n    </tr>\n    <tr>\n      <th>669</th>\n      <td>497</td>\n      <td>26</td>\n      <td>4.0</td>\n    </tr>\n    <tr>\n      <th>670</th>\n      <td>499</td>\n      <td>37</td>\n      <td>4.0</td>\n    </tr>\n  </tbody>\n</table>\n<p>671 rows × 3 columns</p>\n</div>"
     },
     "execution_count": 5,
     "metadata": {},
     "output_type": "execute_result"
    }
   ],
   "source": [
    "# Rename the columns of the rating dataframe\n",
    "rating_df.rename(columns={rating_df.columns[0]: 'tourist_id',\n",
    "                          rating_df.columns[1]: 'tour_id',\n",
    "                          rating_df.columns[2]: 'rating',\n",
    "                         }, inplace=True)\n",
    "\n",
    "# Remove the duplicated interactions, if any\n",
    "rating_df.drop_duplicates(subset=['tourist_id','tour_id'],inplace=True)\n",
    "\n",
    "rating_df"
   ]
  },
  {
   "cell_type": "markdown",
   "id": "7e222fd7",
   "metadata": {
    "pycharm": {
     "name": "#%% md\n"
    }
   },
   "source": [
    "## Print statistics\n",
    "\n",
    "Some statistics of the acquired data are shown."
   ]
  },
  {
   "cell_type": "code",
   "execution_count": 6,
   "id": "765f5477",
   "metadata": {
    "pycharm": {
     "name": "#%%\n"
    }
   },
   "outputs": [
    {
     "name": "stdout",
     "output_type": "stream",
     "text": [
      "Number of tourists: 500\n",
      "Number of tours: 50\n",
      "Number of interactions: 671\n",
      "Average interaction per tourist: 1.34\n",
      "Average interaction per tour: 13.42\n",
      "Sparsity: 97.32 %\n"
     ]
    }
   ],
   "source": [
    "# Statistics about data\n",
    "arr_tourists = tourist_df[\"id\"].unique()\n",
    "arr_tours = tour_df[\"id\"].unique()\n",
    "\n",
    "n_tourists = len(arr_tourists)\n",
    "n_tours = len(arr_tours)\n",
    "n_interactions = len(rating_df)\n",
    "\n",
    "print(\"Number of tourists: {:d}\".format(n_tourists))\n",
    "print(\"Number of tours: {:d}\".format(n_tours))\n",
    "print(\"Number of interactions: {:d}\".format(n_interactions))\n",
    "\n",
    "print(\"Average interaction per tourist: {:.2f}\".format(n_interactions/n_tourists))\n",
    "print(\"Average interaction per tour: {:.2f}\".format(n_interactions/n_tours))\n",
    "print(\"Sparsity: {:.2f} %\".format((1-float(n_interactions)/(n_tours*n_tourists))*100))"
   ]
  },
  {
   "cell_type": "code",
   "execution_count": 7,
   "id": "6d4af3c8",
   "metadata": {
    "pycharm": {
     "name": "#%%\n"
    }
   },
   "outputs": [
    {
     "name": "stdout",
     "output_type": "stream",
     "text": [
      "Average rating: 3.985097\n",
      "Maximum rating: 5.000000\n",
      "Minimum rating: 2.000000\n"
     ]
    }
   ],
   "source": [
    "# Statistics about ratings\n",
    "\n",
    "print(\"Average rating: {:.6f}\".format(rating_df.loc[:, 'rating'].mean()))\n",
    "print(\"Maximum rating: {:.6f}\".format(rating_df.loc[:, 'rating'].max()))\n",
    "print(\"Minimum rating: {:.6f}\".format(rating_df.loc[:, 'rating'].min()))"
   ]
  },
  {
   "cell_type": "markdown",
   "id": "e270df0f",
   "metadata": {
    "pycharm": {
     "name": "#%% md\n"
    }
   },
   "source": [
    "## Create the URM\n",
    "\n",
    "The **User Rating Matrix** describes the interactions between tourists and organized tours, where rows represent tourists and columns represent tours. The values in the cells can be defined by an implicit or explicit approach:\n",
    "- Explicit ratings are given directly by the tourists to the tours, according to a rating scale.\n",
    "- Implicit ratings are obtained according to specific criteria based on tourists' behaviour, without asking for an opinion explicitly. The corresponding value of the interaction is set to 1 if we think that the tourist could be interested in the tour, otherwise 0.\n",
    "\n",
    "In our problem, we decide to use **explicit ratings** with a rating scale from 1 to 5."
   ]
  },
  {
   "cell_type": "code",
   "execution_count": 8,
   "id": "4e990e1d",
   "metadata": {
    "pycharm": {
     "name": "#%%\n"
    }
   },
   "outputs": [
    {
     "data": {
      "text/plain": "<500x50 sparse matrix of type '<class 'numpy.float64'>'\n\twith 671 stored elements in Compressed Sparse Row format>"
     },
     "execution_count": 8,
     "metadata": {},
     "output_type": "execute_result"
    }
   ],
   "source": [
    "# Create the User Rating Matrix in CSR format to facilitate the computation\n",
    "# Row: tourist_id, Column: tour_id, Value: rating\n",
    "URM_all = sps.csr_matrix(\n",
    "    (rating_df[\"rating\"].values,\n",
    "    (rating_df[\"tourist_id\"].values, rating_df[\"tour_id\"].values))\n",
    ")\n",
    "\n",
    "URM_all"
   ]
  },
  {
   "cell_type": "code",
   "execution_count": 9,
   "id": "3c70ebfd",
   "metadata": {
    "pycharm": {
     "name": "#%%\n"
    }
   },
   "outputs": [],
   "source": [
    "# Define the portion of data used for training the model\n",
    "# Since we are using fake data, we train the model on all the available data\n",
    "URM_train = URM_all"
   ]
  },
  {
   "cell_type": "markdown",
   "id": "8eda1767",
   "metadata": {
    "pycharm": {
     "name": "#%% md\n"
    }
   },
   "source": [
    "## Create the ICM\n",
    "\n",
    "The **Item Content Matrix** describes the tours with their attributes, with rows representing tours and columns representing attributes. Each number in the ICM indicates how much important an attribute is in characterizing a tour.\n",
    "\n",
    "In this case we started from the simplest form: the cell value is equal to 1 if the tour has that specific attribute, and 0 otherwise."
   ]
  },
  {
   "cell_type": "code",
   "execution_count": 10,
   "id": "b4fa6ac5",
   "metadata": {
    "pycharm": {
     "name": "#%%\n"
    }
   },
   "outputs": [],
   "source": [
    "# Make a copy of the tour dataframe to build the ICM\n",
    "icm_df = tour_df.copy(deep=True)"
   ]
  },
  {
   "cell_type": "code",
   "execution_count": 11,
   "id": "4fe86e06",
   "metadata": {
    "pycharm": {
     "name": "#%%\n"
    }
   },
   "outputs": [],
   "source": [
    "# Split the price information into three ranges\n",
    "# - cost < 25: low cost\n",
    "# - 25 <= cost < 35: medium\n",
    "# - cost >= 35: high\n",
    "\n",
    "def replace_price(x):\n",
    "    if x < 25:\n",
    "        return 'low_cost'\n",
    "    elif x < 35:\n",
    "        return 'medium_cost'\n",
    "    else:\n",
    "        return 'high_cost'\n",
    "\n",
    "# Apply conversion to the dataframe\n",
    "icm_df['price'] = icm_df['price'].apply(replace_price)"
   ]
  },
  {
   "cell_type": "code",
   "execution_count": 12,
   "id": "5ee85f65",
   "metadata": {
    "pycharm": {
     "name": "#%%\n"
    }
   },
   "outputs": [
    {
     "data": {
      "text/plain": "    id  guide                               languages   city  \\\n0    0      0                               [english]  Lecce   \n1    1      1                        [italian, dutch]  Lecce   \n2    2      2              [chinese, french, english]  Lecce   \n3    3      3                             [bulgarian]  Lecce   \n4    4      4                      [deutsche, french]  Lecce   \n5    5      5            [deutsche, dutch, bulgarian]  Lecce   \n6    6      6              [english, chinese, french]  Lecce   \n7    7      7       [spanish, dutch, french, italian]  Lecce   \n8    8      8           [bulgarian, english, chinese]  Lecce   \n9    9      9    [chinese, bulgarian, dutch, english]  Lecce   \n10  10     10                   [bulgarian, deutsche]  Lecce   \n11  11     11                             [bulgarian]  Lecce   \n12  12     12                [dutch, french, italian]  Lecce   \n13  13     13                      [chinese, english]  Lecce   \n14  14     14                       [chinese, french]  Lecce   \n15  15     15                     [deutsche, chinese]  Lecce   \n16  16     16            [spanish, bulgarian, french]  Lecce   \n17  17     17                                 [dutch]  Lecce   \n18  18     18                        [italian, dutch]  Lecce   \n19  19     19          [bulgarian, deutsche, english]  Lecce   \n20  20     20                      [deutsche, french]  Lecce   \n21  21     21                               [chinese]  Lecce   \n22  22     22                      [chinese, spanish]  Lecce   \n23  23     23           [english, italian, bulgarian]  Lecce   \n24  24     24             [dutch, italian, bulgarian]  Lecce   \n25  25     25                             [bulgarian]  Lecce   \n26  26     26                                 [dutch]  Lecce   \n27  27     27                               [italian]  Lecce   \n28  28     28                               [spanish]  Lecce   \n29  29     29                    [bulgarian, chinese]  Lecce   \n30  30     30             [french, deutsche, english]  Lecce   \n31  31     31             [deutsche, french, english]  Lecce   \n32  32     32                     [french, bulgarian]  Lecce   \n33  33     33                                [french]  Lecce   \n34  34     34  [chinese, spanish, bulgarian, italian]  Lecce   \n35  35     35                       [italian, french]  Lecce   \n36  36     36                               [spanish]  Lecce   \n37  37     37                                 [dutch]  Lecce   \n38  38     38                               [italian]  Lecce   \n39  39     39                        [spanish, dutch]  Lecce   \n40  40     40                               [italian]  Lecce   \n41  41     41                               [spanish]  Lecce   \n42  42     42                             [bulgarian]  Lecce   \n43  43     43                              [deutsche]  Lecce   \n44  44     44           [chinese, italian, bulgarian]  Lecce   \n45  45     45                [chinese, french, dutch]  Lecce   \n46  46     46                               [chinese]  Lecce   \n47  47     47              [italian, dutch, deutsche]  Lecce   \n48  48     48                    [italian, bulgarian]  Lecce   \n49  49     49                     [french, bulgarian]  Lecce   \n\n                                          attractions  \\\n0                  [Celestine Convent, Roman Theatre]   \n1                                    [Museo Faggiano]   \n2            [Palazzo Carafa, Church of Santa Chiara]   \n3   [Villa Comunale di Lecce, Church of San Matteo...   \n4            [Torre del Parco, Palazzo dei Celestini]   \n5             [Museo Faggiano, Palazzo dei Celestini]   \n6       [Piazza Sant'Oronzo, Villa Comunale di Lecce]   \n7                                 [Celestine Convent]   \n8   [San Giovanni Battista Church, Roman Theatre, ...   \n9                             [Palazzo dei Celestini]   \n10  [Celestine Convent, San Giovanni Battista Chur...   \n11                               [Piazza Sant'Oronzo]   \n12                                   [Museo Faggiano]   \n13                      [Porta Napoli, Roman Theatre]   \n14                                    [Roman Theatre]   \n15     [Museo Faggiano, San Giovanni Battista Church]   \n16         [Torre del Parco, Basilica di Santa Croce]   \n17  [Piazza Sant'Oronzo, Porta Napoli, Church of S...   \n18            [Palazzo Carafa, Palazzo dei Celestini]   \n19  [Church of San Francesco della Scarpa, Museo F...   \n20  [Church of San Matteo, Villa Comunale di Lecce...   \n21                                     [Porta Napoli]   \n22           [Basilica di Santa Croce, Roman Theatre]   \n23  [Lecce Cathedral, Church of Santa Chiara, Pala...   \n24  [Church of San Francesco della Scarpa, Colonna...   \n25            [Basilica di Santa Croce, Porta Napoli]   \n26  [Church of San Francesco della Scarpa, Museo F...   \n27          [Roman Amphitheatre, Castello di Carlo V]   \n28  [Lecce Cathedral, Torre del Parco, Piazza Sant...   \n29                            [Palazzo dei Celestini]   \n30                            [Palazzo dei Celestini]   \n31                                  [Lecce Cathedral]   \n32             [Church of San Francesco della Scarpa]   \n33  [Porta Napoli, Museo Faggiano, San Giovanni Ba...   \n34  [Lecce Cathedral, Church of San Matteo, Roman ...   \n35  [Church of Santa Chiara, Church of San Frances...   \n36  [San Giovanni Battista Church, Piazza Sant'Oro...   \n37            [Porta Napoli, Villa Comunale di Lecce]   \n38             [Castello di Carlo V, Lecce Cathedral]   \n39                           [Church of Santa Chiara]   \n40  [Celestine Convent, Church of San Francesco de...   \n41  [Lecce Cathedral, Piazza Sant'Oronzo, Piazza d...   \n42  [Colonna di Sant'Oronzo, Church of Santa Chiar...   \n43     [San Giovanni Battista Church, Museo Faggiano]   \n44  [Museo Faggiano, Colonna di Sant'Oronzo, Celes...   \n45  [Palazzo Carafa, Piazza Sant'Oronzo, Roman The...   \n46                                   [Museo Faggiano]   \n47  [Lecce Cathedral, Church of Santa Chiara, Muse...   \n48                                   [Museo Faggiano]   \n49                                    [Roman Theatre]   \n\n                              keywords        price        date  duration  \n0             [archeology, literature]     low_cost  2024-06-30        12  \n1                            [museums]  medium_cost  2024-06-26         9  \n2                [history, literature]  medium_cost  2024-06-03        11  \n3   [countryside, literature, museums]  medium_cost  2024-06-29        11  \n4                            [history]  medium_cost  2024-06-17        12  \n5                   [history, museums]  medium_cost  2024-06-29         7  \n6                   [art, countryside]    high_cost  2024-06-28        10  \n7                         [literature]  medium_cost  2024-07-01         7  \n8    [archeology, history, literature]  medium_cost  2024-06-10        11  \n9                            [history]  medium_cost  2024-06-16         8  \n10                        [literature]  medium_cost  2024-06-26         8  \n11                               [art]    high_cost  2024-06-16         6  \n12                           [museums]  medium_cost  2024-06-14        10  \n13                   [archeology, art]    high_cost  2024-06-22         5  \n14                        [archeology]    high_cost  2024-06-29         9  \n15               [literature, museums]     low_cost  2024-06-09         9  \n16                           [history]     low_cost  2024-06-16         6  \n17                   [art, literature]  medium_cost  2024-06-26        12  \n18                           [history]  medium_cost  2024-06-22         9  \n19               [literature, museums]  medium_cost  2024-06-14         6  \n20  [countryside, history, literature]     low_cost  2024-06-13         9  \n21                               [art]  medium_cost  2024-06-05         9  \n22               [archeology, history]     low_cost  2024-06-29        12  \n23               [history, literature]     low_cost  2024-06-01         9  \n24                   [art, literature]  medium_cost  2024-06-29         8  \n25                      [art, history]  medium_cost  2024-06-12         7  \n26               [literature, museums]  medium_cost  2024-06-14         5  \n27               [archeology, history]    high_cost  2024-06-10         6  \n28          [art, history, literature]  medium_cost  2024-06-06         5  \n29                           [history]  medium_cost  2024-06-05         8  \n30                           [history]  medium_cost  2024-06-12         6  \n31                        [literature]  medium_cost  2024-06-23        10  \n32                        [literature]  medium_cost  2024-06-16        12  \n33          [art, literature, museums]  medium_cost  2024-06-06        12  \n34            [archeology, literature]  medium_cost  2024-06-25        10  \n35                        [literature]     low_cost  2024-06-05         6  \n36                   [art, literature]  medium_cost  2024-06-09        11  \n37                  [art, countryside]  medium_cost  2024-06-11         5  \n38               [history, literature]     low_cost  2024-06-21        11  \n39                        [literature]  medium_cost  2024-06-15        10  \n40                        [literature]     low_cost  2024-06-24         8  \n41                   [art, literature]     low_cost  2024-06-02         8  \n42                   [art, literature]  medium_cost  2024-06-22         9  \n43               [literature, museums]  medium_cost  2024-06-13         5  \n44          [art, literature, museums]  medium_cost  2024-06-23         9  \n45          [archeology, art, history]  medium_cost  2024-06-03        12  \n46                           [museums]  medium_cost  2024-06-06        10  \n47               [literature, museums]    high_cost  2024-06-27         9  \n48                           [museums]  medium_cost  2024-06-11         8  \n49                        [archeology]  medium_cost  2024-06-06        11  ",
      "text/html": "<div>\n<style scoped>\n    .dataframe tbody tr th:only-of-type {\n        vertical-align: middle;\n    }\n\n    .dataframe tbody tr th {\n        vertical-align: top;\n    }\n\n    .dataframe thead th {\n        text-align: right;\n    }\n</style>\n<table border=\"1\" class=\"dataframe\">\n  <thead>\n    <tr style=\"text-align: right;\">\n      <th></th>\n      <th>id</th>\n      <th>guide</th>\n      <th>languages</th>\n      <th>city</th>\n      <th>attractions</th>\n      <th>keywords</th>\n      <th>price</th>\n      <th>date</th>\n      <th>duration</th>\n    </tr>\n  </thead>\n  <tbody>\n    <tr>\n      <th>0</th>\n      <td>0</td>\n      <td>0</td>\n      <td>[english]</td>\n      <td>Lecce</td>\n      <td>[Celestine Convent, Roman Theatre]</td>\n      <td>[archeology, literature]</td>\n      <td>low_cost</td>\n      <td>2024-06-30</td>\n      <td>12</td>\n    </tr>\n    <tr>\n      <th>1</th>\n      <td>1</td>\n      <td>1</td>\n      <td>[italian, dutch]</td>\n      <td>Lecce</td>\n      <td>[Museo Faggiano]</td>\n      <td>[museums]</td>\n      <td>medium_cost</td>\n      <td>2024-06-26</td>\n      <td>9</td>\n    </tr>\n    <tr>\n      <th>2</th>\n      <td>2</td>\n      <td>2</td>\n      <td>[chinese, french, english]</td>\n      <td>Lecce</td>\n      <td>[Palazzo Carafa, Church of Santa Chiara]</td>\n      <td>[history, literature]</td>\n      <td>medium_cost</td>\n      <td>2024-06-03</td>\n      <td>11</td>\n    </tr>\n    <tr>\n      <th>3</th>\n      <td>3</td>\n      <td>3</td>\n      <td>[bulgarian]</td>\n      <td>Lecce</td>\n      <td>[Villa Comunale di Lecce, Church of San Matteo...</td>\n      <td>[countryside, literature, museums]</td>\n      <td>medium_cost</td>\n      <td>2024-06-29</td>\n      <td>11</td>\n    </tr>\n    <tr>\n      <th>4</th>\n      <td>4</td>\n      <td>4</td>\n      <td>[deutsche, french]</td>\n      <td>Lecce</td>\n      <td>[Torre del Parco, Palazzo dei Celestini]</td>\n      <td>[history]</td>\n      <td>medium_cost</td>\n      <td>2024-06-17</td>\n      <td>12</td>\n    </tr>\n    <tr>\n      <th>5</th>\n      <td>5</td>\n      <td>5</td>\n      <td>[deutsche, dutch, bulgarian]</td>\n      <td>Lecce</td>\n      <td>[Museo Faggiano, Palazzo dei Celestini]</td>\n      <td>[history, museums]</td>\n      <td>medium_cost</td>\n      <td>2024-06-29</td>\n      <td>7</td>\n    </tr>\n    <tr>\n      <th>6</th>\n      <td>6</td>\n      <td>6</td>\n      <td>[english, chinese, french]</td>\n      <td>Lecce</td>\n      <td>[Piazza Sant'Oronzo, Villa Comunale di Lecce]</td>\n      <td>[art, countryside]</td>\n      <td>high_cost</td>\n      <td>2024-06-28</td>\n      <td>10</td>\n    </tr>\n    <tr>\n      <th>7</th>\n      <td>7</td>\n      <td>7</td>\n      <td>[spanish, dutch, french, italian]</td>\n      <td>Lecce</td>\n      <td>[Celestine Convent]</td>\n      <td>[literature]</td>\n      <td>medium_cost</td>\n      <td>2024-07-01</td>\n      <td>7</td>\n    </tr>\n    <tr>\n      <th>8</th>\n      <td>8</td>\n      <td>8</td>\n      <td>[bulgarian, english, chinese]</td>\n      <td>Lecce</td>\n      <td>[San Giovanni Battista Church, Roman Theatre, ...</td>\n      <td>[archeology, history, literature]</td>\n      <td>medium_cost</td>\n      <td>2024-06-10</td>\n      <td>11</td>\n    </tr>\n    <tr>\n      <th>9</th>\n      <td>9</td>\n      <td>9</td>\n      <td>[chinese, bulgarian, dutch, english]</td>\n      <td>Lecce</td>\n      <td>[Palazzo dei Celestini]</td>\n      <td>[history]</td>\n      <td>medium_cost</td>\n      <td>2024-06-16</td>\n      <td>8</td>\n    </tr>\n    <tr>\n      <th>10</th>\n      <td>10</td>\n      <td>10</td>\n      <td>[bulgarian, deutsche]</td>\n      <td>Lecce</td>\n      <td>[Celestine Convent, San Giovanni Battista Chur...</td>\n      <td>[literature]</td>\n      <td>medium_cost</td>\n      <td>2024-06-26</td>\n      <td>8</td>\n    </tr>\n    <tr>\n      <th>11</th>\n      <td>11</td>\n      <td>11</td>\n      <td>[bulgarian]</td>\n      <td>Lecce</td>\n      <td>[Piazza Sant'Oronzo]</td>\n      <td>[art]</td>\n      <td>high_cost</td>\n      <td>2024-06-16</td>\n      <td>6</td>\n    </tr>\n    <tr>\n      <th>12</th>\n      <td>12</td>\n      <td>12</td>\n      <td>[dutch, french, italian]</td>\n      <td>Lecce</td>\n      <td>[Museo Faggiano]</td>\n      <td>[museums]</td>\n      <td>medium_cost</td>\n      <td>2024-06-14</td>\n      <td>10</td>\n    </tr>\n    <tr>\n      <th>13</th>\n      <td>13</td>\n      <td>13</td>\n      <td>[chinese, english]</td>\n      <td>Lecce</td>\n      <td>[Porta Napoli, Roman Theatre]</td>\n      <td>[archeology, art]</td>\n      <td>high_cost</td>\n      <td>2024-06-22</td>\n      <td>5</td>\n    </tr>\n    <tr>\n      <th>14</th>\n      <td>14</td>\n      <td>14</td>\n      <td>[chinese, french]</td>\n      <td>Lecce</td>\n      <td>[Roman Theatre]</td>\n      <td>[archeology]</td>\n      <td>high_cost</td>\n      <td>2024-06-29</td>\n      <td>9</td>\n    </tr>\n    <tr>\n      <th>15</th>\n      <td>15</td>\n      <td>15</td>\n      <td>[deutsche, chinese]</td>\n      <td>Lecce</td>\n      <td>[Museo Faggiano, San Giovanni Battista Church]</td>\n      <td>[literature, museums]</td>\n      <td>low_cost</td>\n      <td>2024-06-09</td>\n      <td>9</td>\n    </tr>\n    <tr>\n      <th>16</th>\n      <td>16</td>\n      <td>16</td>\n      <td>[spanish, bulgarian, french]</td>\n      <td>Lecce</td>\n      <td>[Torre del Parco, Basilica di Santa Croce]</td>\n      <td>[history]</td>\n      <td>low_cost</td>\n      <td>2024-06-16</td>\n      <td>6</td>\n    </tr>\n    <tr>\n      <th>17</th>\n      <td>17</td>\n      <td>17</td>\n      <td>[dutch]</td>\n      <td>Lecce</td>\n      <td>[Piazza Sant'Oronzo, Porta Napoli, Church of S...</td>\n      <td>[art, literature]</td>\n      <td>medium_cost</td>\n      <td>2024-06-26</td>\n      <td>12</td>\n    </tr>\n    <tr>\n      <th>18</th>\n      <td>18</td>\n      <td>18</td>\n      <td>[italian, dutch]</td>\n      <td>Lecce</td>\n      <td>[Palazzo Carafa, Palazzo dei Celestini]</td>\n      <td>[history]</td>\n      <td>medium_cost</td>\n      <td>2024-06-22</td>\n      <td>9</td>\n    </tr>\n    <tr>\n      <th>19</th>\n      <td>19</td>\n      <td>19</td>\n      <td>[bulgarian, deutsche, english]</td>\n      <td>Lecce</td>\n      <td>[Church of San Francesco della Scarpa, Museo F...</td>\n      <td>[literature, museums]</td>\n      <td>medium_cost</td>\n      <td>2024-06-14</td>\n      <td>6</td>\n    </tr>\n    <tr>\n      <th>20</th>\n      <td>20</td>\n      <td>20</td>\n      <td>[deutsche, french]</td>\n      <td>Lecce</td>\n      <td>[Church of San Matteo, Villa Comunale di Lecce...</td>\n      <td>[countryside, history, literature]</td>\n      <td>low_cost</td>\n      <td>2024-06-13</td>\n      <td>9</td>\n    </tr>\n    <tr>\n      <th>21</th>\n      <td>21</td>\n      <td>21</td>\n      <td>[chinese]</td>\n      <td>Lecce</td>\n      <td>[Porta Napoli]</td>\n      <td>[art]</td>\n      <td>medium_cost</td>\n      <td>2024-06-05</td>\n      <td>9</td>\n    </tr>\n    <tr>\n      <th>22</th>\n      <td>22</td>\n      <td>22</td>\n      <td>[chinese, spanish]</td>\n      <td>Lecce</td>\n      <td>[Basilica di Santa Croce, Roman Theatre]</td>\n      <td>[archeology, history]</td>\n      <td>low_cost</td>\n      <td>2024-06-29</td>\n      <td>12</td>\n    </tr>\n    <tr>\n      <th>23</th>\n      <td>23</td>\n      <td>23</td>\n      <td>[english, italian, bulgarian]</td>\n      <td>Lecce</td>\n      <td>[Lecce Cathedral, Church of Santa Chiara, Pala...</td>\n      <td>[history, literature]</td>\n      <td>low_cost</td>\n      <td>2024-06-01</td>\n      <td>9</td>\n    </tr>\n    <tr>\n      <th>24</th>\n      <td>24</td>\n      <td>24</td>\n      <td>[dutch, italian, bulgarian]</td>\n      <td>Lecce</td>\n      <td>[Church of San Francesco della Scarpa, Colonna...</td>\n      <td>[art, literature]</td>\n      <td>medium_cost</td>\n      <td>2024-06-29</td>\n      <td>8</td>\n    </tr>\n    <tr>\n      <th>25</th>\n      <td>25</td>\n      <td>25</td>\n      <td>[bulgarian]</td>\n      <td>Lecce</td>\n      <td>[Basilica di Santa Croce, Porta Napoli]</td>\n      <td>[art, history]</td>\n      <td>medium_cost</td>\n      <td>2024-06-12</td>\n      <td>7</td>\n    </tr>\n    <tr>\n      <th>26</th>\n      <td>26</td>\n      <td>26</td>\n      <td>[dutch]</td>\n      <td>Lecce</td>\n      <td>[Church of San Francesco della Scarpa, Museo F...</td>\n      <td>[literature, museums]</td>\n      <td>medium_cost</td>\n      <td>2024-06-14</td>\n      <td>5</td>\n    </tr>\n    <tr>\n      <th>27</th>\n      <td>27</td>\n      <td>27</td>\n      <td>[italian]</td>\n      <td>Lecce</td>\n      <td>[Roman Amphitheatre, Castello di Carlo V]</td>\n      <td>[archeology, history]</td>\n      <td>high_cost</td>\n      <td>2024-06-10</td>\n      <td>6</td>\n    </tr>\n    <tr>\n      <th>28</th>\n      <td>28</td>\n      <td>28</td>\n      <td>[spanish]</td>\n      <td>Lecce</td>\n      <td>[Lecce Cathedral, Torre del Parco, Piazza Sant...</td>\n      <td>[art, history, literature]</td>\n      <td>medium_cost</td>\n      <td>2024-06-06</td>\n      <td>5</td>\n    </tr>\n    <tr>\n      <th>29</th>\n      <td>29</td>\n      <td>29</td>\n      <td>[bulgarian, chinese]</td>\n      <td>Lecce</td>\n      <td>[Palazzo dei Celestini]</td>\n      <td>[history]</td>\n      <td>medium_cost</td>\n      <td>2024-06-05</td>\n      <td>8</td>\n    </tr>\n    <tr>\n      <th>30</th>\n      <td>30</td>\n      <td>30</td>\n      <td>[french, deutsche, english]</td>\n      <td>Lecce</td>\n      <td>[Palazzo dei Celestini]</td>\n      <td>[history]</td>\n      <td>medium_cost</td>\n      <td>2024-06-12</td>\n      <td>6</td>\n    </tr>\n    <tr>\n      <th>31</th>\n      <td>31</td>\n      <td>31</td>\n      <td>[deutsche, french, english]</td>\n      <td>Lecce</td>\n      <td>[Lecce Cathedral]</td>\n      <td>[literature]</td>\n      <td>medium_cost</td>\n      <td>2024-06-23</td>\n      <td>10</td>\n    </tr>\n    <tr>\n      <th>32</th>\n      <td>32</td>\n      <td>32</td>\n      <td>[french, bulgarian]</td>\n      <td>Lecce</td>\n      <td>[Church of San Francesco della Scarpa]</td>\n      <td>[literature]</td>\n      <td>medium_cost</td>\n      <td>2024-06-16</td>\n      <td>12</td>\n    </tr>\n    <tr>\n      <th>33</th>\n      <td>33</td>\n      <td>33</td>\n      <td>[french]</td>\n      <td>Lecce</td>\n      <td>[Porta Napoli, Museo Faggiano, San Giovanni Ba...</td>\n      <td>[art, literature, museums]</td>\n      <td>medium_cost</td>\n      <td>2024-06-06</td>\n      <td>12</td>\n    </tr>\n    <tr>\n      <th>34</th>\n      <td>34</td>\n      <td>34</td>\n      <td>[chinese, spanish, bulgarian, italian]</td>\n      <td>Lecce</td>\n      <td>[Lecce Cathedral, Church of San Matteo, Roman ...</td>\n      <td>[archeology, literature]</td>\n      <td>medium_cost</td>\n      <td>2024-06-25</td>\n      <td>10</td>\n    </tr>\n    <tr>\n      <th>35</th>\n      <td>35</td>\n      <td>35</td>\n      <td>[italian, french]</td>\n      <td>Lecce</td>\n      <td>[Church of Santa Chiara, Church of San Frances...</td>\n      <td>[literature]</td>\n      <td>low_cost</td>\n      <td>2024-06-05</td>\n      <td>6</td>\n    </tr>\n    <tr>\n      <th>36</th>\n      <td>36</td>\n      <td>36</td>\n      <td>[spanish]</td>\n      <td>Lecce</td>\n      <td>[San Giovanni Battista Church, Piazza Sant'Oro...</td>\n      <td>[art, literature]</td>\n      <td>medium_cost</td>\n      <td>2024-06-09</td>\n      <td>11</td>\n    </tr>\n    <tr>\n      <th>37</th>\n      <td>37</td>\n      <td>37</td>\n      <td>[dutch]</td>\n      <td>Lecce</td>\n      <td>[Porta Napoli, Villa Comunale di Lecce]</td>\n      <td>[art, countryside]</td>\n      <td>medium_cost</td>\n      <td>2024-06-11</td>\n      <td>5</td>\n    </tr>\n    <tr>\n      <th>38</th>\n      <td>38</td>\n      <td>38</td>\n      <td>[italian]</td>\n      <td>Lecce</td>\n      <td>[Castello di Carlo V, Lecce Cathedral]</td>\n      <td>[history, literature]</td>\n      <td>low_cost</td>\n      <td>2024-06-21</td>\n      <td>11</td>\n    </tr>\n    <tr>\n      <th>39</th>\n      <td>39</td>\n      <td>39</td>\n      <td>[spanish, dutch]</td>\n      <td>Lecce</td>\n      <td>[Church of Santa Chiara]</td>\n      <td>[literature]</td>\n      <td>medium_cost</td>\n      <td>2024-06-15</td>\n      <td>10</td>\n    </tr>\n    <tr>\n      <th>40</th>\n      <td>40</td>\n      <td>40</td>\n      <td>[italian]</td>\n      <td>Lecce</td>\n      <td>[Celestine Convent, Church of San Francesco de...</td>\n      <td>[literature]</td>\n      <td>low_cost</td>\n      <td>2024-06-24</td>\n      <td>8</td>\n    </tr>\n    <tr>\n      <th>41</th>\n      <td>41</td>\n      <td>41</td>\n      <td>[spanish]</td>\n      <td>Lecce</td>\n      <td>[Lecce Cathedral, Piazza Sant'Oronzo, Piazza d...</td>\n      <td>[art, literature]</td>\n      <td>low_cost</td>\n      <td>2024-06-02</td>\n      <td>8</td>\n    </tr>\n    <tr>\n      <th>42</th>\n      <td>42</td>\n      <td>42</td>\n      <td>[bulgarian]</td>\n      <td>Lecce</td>\n      <td>[Colonna di Sant'Oronzo, Church of Santa Chiar...</td>\n      <td>[art, literature]</td>\n      <td>medium_cost</td>\n      <td>2024-06-22</td>\n      <td>9</td>\n    </tr>\n    <tr>\n      <th>43</th>\n      <td>43</td>\n      <td>43</td>\n      <td>[deutsche]</td>\n      <td>Lecce</td>\n      <td>[San Giovanni Battista Church, Museo Faggiano]</td>\n      <td>[literature, museums]</td>\n      <td>medium_cost</td>\n      <td>2024-06-13</td>\n      <td>5</td>\n    </tr>\n    <tr>\n      <th>44</th>\n      <td>44</td>\n      <td>44</td>\n      <td>[chinese, italian, bulgarian]</td>\n      <td>Lecce</td>\n      <td>[Museo Faggiano, Colonna di Sant'Oronzo, Celes...</td>\n      <td>[art, literature, museums]</td>\n      <td>medium_cost</td>\n      <td>2024-06-23</td>\n      <td>9</td>\n    </tr>\n    <tr>\n      <th>45</th>\n      <td>45</td>\n      <td>45</td>\n      <td>[chinese, french, dutch]</td>\n      <td>Lecce</td>\n      <td>[Palazzo Carafa, Piazza Sant'Oronzo, Roman The...</td>\n      <td>[archeology, art, history]</td>\n      <td>medium_cost</td>\n      <td>2024-06-03</td>\n      <td>12</td>\n    </tr>\n    <tr>\n      <th>46</th>\n      <td>46</td>\n      <td>46</td>\n      <td>[chinese]</td>\n      <td>Lecce</td>\n      <td>[Museo Faggiano]</td>\n      <td>[museums]</td>\n      <td>medium_cost</td>\n      <td>2024-06-06</td>\n      <td>10</td>\n    </tr>\n    <tr>\n      <th>47</th>\n      <td>47</td>\n      <td>47</td>\n      <td>[italian, dutch, deutsche]</td>\n      <td>Lecce</td>\n      <td>[Lecce Cathedral, Church of Santa Chiara, Muse...</td>\n      <td>[literature, museums]</td>\n      <td>high_cost</td>\n      <td>2024-06-27</td>\n      <td>9</td>\n    </tr>\n    <tr>\n      <th>48</th>\n      <td>48</td>\n      <td>48</td>\n      <td>[italian, bulgarian]</td>\n      <td>Lecce</td>\n      <td>[Museo Faggiano]</td>\n      <td>[museums]</td>\n      <td>medium_cost</td>\n      <td>2024-06-11</td>\n      <td>8</td>\n    </tr>\n    <tr>\n      <th>49</th>\n      <td>49</td>\n      <td>49</td>\n      <td>[french, bulgarian]</td>\n      <td>Lecce</td>\n      <td>[Roman Theatre]</td>\n      <td>[archeology]</td>\n      <td>medium_cost</td>\n      <td>2024-06-06</td>\n      <td>11</td>\n    </tr>\n  </tbody>\n</table>\n</div>"
     },
     "execution_count": 12,
     "metadata": {},
     "output_type": "execute_result"
    }
   ],
   "source": [
    "# Show the dataframe\n",
    "icm_df"
   ]
  },
  {
   "cell_type": "code",
   "execution_count": 13,
   "outputs": [],
   "source": [
    "# Remove the column(s) that we would not consider as relevant static attributes\n",
    "icm_df.drop(labels=['date', 'city', 'duration'], axis=1, inplace=True)"
   ],
   "metadata": {
    "collapsed": false,
    "pycharm": {
     "name": "#%%\n"
    }
   }
  },
  {
   "cell_type": "code",
   "execution_count": 14,
   "id": "e6f6e291",
   "metadata": {
    "pycharm": {
     "name": "#%%\n"
    }
   },
   "outputs": [],
   "source": [
    "# Split the categorical attributes into separate columns\n",
    "multiclass_attributes = ['languages', 'attractions', 'keywords', 'price', 'guide']\n",
    "\n",
    "# The result would have value 1 for each cell corresponding to an attribute of the tour\n",
    "# and 0 otherwise\n",
    "for n in multiclass_attributes:\n",
    "\n",
    "    # Explode lists of attributes to a subset of columns\n",
    "    s = icm_df[n].explode()\n",
    "\n",
    "    # Augment the dataframe with columns corresponding to each category, which belongs to the set of attributes. The cell values are determined by the counts of occurrences for each element.\n",
    "    # (if the intersection is not null, the cell has value 1, otherwise it is filled with 0)\n",
    "    icm_df = icm_df.join(pd.crosstab(s.index, s).astype(object)).fillna(0)\n",
    "\n",
    "    # Drop the original column\n",
    "    icm_df.drop(labels=n,axis=1,inplace=True)"
   ]
  },
  {
   "cell_type": "code",
   "execution_count": 15,
   "id": "0158f4b0",
   "metadata": {
    "pycharm": {
     "name": "#%%\n"
    }
   },
   "outputs": [
    {
     "data": {
      "text/plain": "    id  bulgarian  chinese  deutsche  dutch  english  french  italian  \\\n0    0          0        0         0      0        1       0        0   \n1    1          0        0         0      1        0       0        1   \n2    2          0        1         0      0        1       1        0   \n3    3          1        0         0      0        0       0        0   \n4    4          0        0         1      0        0       1        0   \n5    5          1        0         1      1        0       0        0   \n6    6          0        1         0      0        1       1        0   \n7    7          0        0         0      1        0       1        1   \n8    8          1        1         0      0        1       0        0   \n9    9          1        1         0      1        1       0        0   \n10  10          1        0         1      0        0       0        0   \n11  11          1        0         0      0        0       0        0   \n12  12          0        0         0      1        0       1        1   \n13  13          0        1         0      0        1       0        0   \n14  14          0        1         0      0        0       1        0   \n15  15          0        1         1      0        0       0        0   \n16  16          1        0         0      0        0       1        0   \n17  17          0        0         0      1        0       0        0   \n18  18          0        0         0      1        0       0        1   \n19  19          1        0         1      0        1       0        0   \n20  20          0        0         1      0        0       1        0   \n21  21          0        1         0      0        0       0        0   \n22  22          0        1         0      0        0       0        0   \n23  23          1        0         0      0        1       0        1   \n24  24          1        0         0      1        0       0        1   \n25  25          1        0         0      0        0       0        0   \n26  26          0        0         0      1        0       0        0   \n27  27          0        0         0      0        0       0        1   \n28  28          0        0         0      0        0       0        0   \n29  29          1        1         0      0        0       0        0   \n30  30          0        0         1      0        1       1        0   \n31  31          0        0         1      0        1       1        0   \n32  32          1        0         0      0        0       1        0   \n33  33          0        0         0      0        0       1        0   \n34  34          1        1         0      0        0       0        1   \n35  35          0        0         0      0        0       1        1   \n36  36          0        0         0      0        0       0        0   \n37  37          0        0         0      1        0       0        0   \n38  38          0        0         0      0        0       0        1   \n39  39          0        0         0      1        0       0        0   \n40  40          0        0         0      0        0       0        1   \n41  41          0        0         0      0        0       0        0   \n42  42          1        0         0      0        0       0        0   \n43  43          0        0         1      0        0       0        0   \n44  44          1        1         0      0        0       0        1   \n45  45          0        1         0      1        0       1        0   \n46  46          0        1         0      0        0       0        0   \n47  47          0        0         1      1        0       0        1   \n48  48          1        0         0      0        0       0        1   \n49  49          1        0         0      0        0       1        0   \n\n    spanish  Basilica di Santa Croce  ...  40  41  42  43  44  45  46  47  48  \\\n0         0                        0  ...   0   0   0   0   0   0   0   0   0   \n1         0                        0  ...   0   0   0   0   0   0   0   0   0   \n2         0                        0  ...   0   0   0   0   0   0   0   0   0   \n3         0                        0  ...   0   0   0   0   0   0   0   0   0   \n4         0                        0  ...   0   0   0   0   0   0   0   0   0   \n5         0                        0  ...   0   0   0   0   0   0   0   0   0   \n6         0                        0  ...   0   0   0   0   0   0   0   0   0   \n7         1                        0  ...   0   0   0   0   0   0   0   0   0   \n8         0                        0  ...   0   0   0   0   0   0   0   0   0   \n9         0                        0  ...   0   0   0   0   0   0   0   0   0   \n10        0                        0  ...   0   0   0   0   0   0   0   0   0   \n11        0                        0  ...   0   0   0   0   0   0   0   0   0   \n12        0                        0  ...   0   0   0   0   0   0   0   0   0   \n13        0                        0  ...   0   0   0   0   0   0   0   0   0   \n14        0                        0  ...   0   0   0   0   0   0   0   0   0   \n15        0                        0  ...   0   0   0   0   0   0   0   0   0   \n16        1                        1  ...   0   0   0   0   0   0   0   0   0   \n17        0                        0  ...   0   0   0   0   0   0   0   0   0   \n18        0                        0  ...   0   0   0   0   0   0   0   0   0   \n19        0                        0  ...   0   0   0   0   0   0   0   0   0   \n20        0                        0  ...   0   0   0   0   0   0   0   0   0   \n21        0                        0  ...   0   0   0   0   0   0   0   0   0   \n22        1                        1  ...   0   0   0   0   0   0   0   0   0   \n23        0                        0  ...   0   0   0   0   0   0   0   0   0   \n24        0                        0  ...   0   0   0   0   0   0   0   0   0   \n25        0                        1  ...   0   0   0   0   0   0   0   0   0   \n26        0                        0  ...   0   0   0   0   0   0   0   0   0   \n27        0                        0  ...   0   0   0   0   0   0   0   0   0   \n28        1                        0  ...   0   0   0   0   0   0   0   0   0   \n29        0                        0  ...   0   0   0   0   0   0   0   0   0   \n30        0                        0  ...   0   0   0   0   0   0   0   0   0   \n31        0                        0  ...   0   0   0   0   0   0   0   0   0   \n32        0                        0  ...   0   0   0   0   0   0   0   0   0   \n33        0                        0  ...   0   0   0   0   0   0   0   0   0   \n34        1                        0  ...   0   0   0   0   0   0   0   0   0   \n35        0                        0  ...   0   0   0   0   0   0   0   0   0   \n36        1                        0  ...   0   0   0   0   0   0   0   0   0   \n37        0                        0  ...   0   0   0   0   0   0   0   0   0   \n38        0                        0  ...   0   0   0   0   0   0   0   0   0   \n39        1                        0  ...   0   0   0   0   0   0   0   0   0   \n40        0                        0  ...   1   0   0   0   0   0   0   0   0   \n41        1                        0  ...   0   1   0   0   0   0   0   0   0   \n42        0                        0  ...   0   0   1   0   0   0   0   0   0   \n43        0                        0  ...   0   0   0   1   0   0   0   0   0   \n44        0                        0  ...   0   0   0   0   1   0   0   0   0   \n45        0                        0  ...   0   0   0   0   0   1   0   0   0   \n46        0                        0  ...   0   0   0   0   0   0   1   0   0   \n47        0                        0  ...   0   0   0   0   0   0   0   1   0   \n48        0                        0  ...   0   0   0   0   0   0   0   0   1   \n49        0                        0  ...   0   0   0   0   0   0   0   0   0   \n\n    49  \n0    0  \n1    0  \n2    0  \n3    0  \n4    0  \n5    0  \n6    0  \n7    0  \n8    0  \n9    0  \n10   0  \n11   0  \n12   0  \n13   0  \n14   0  \n15   0  \n16   0  \n17   0  \n18   0  \n19   0  \n20   0  \n21   0  \n22   0  \n23   0  \n24   0  \n25   0  \n26   0  \n27   0  \n28   0  \n29   0  \n30   0  \n31   0  \n32   0  \n33   0  \n34   0  \n35   0  \n36   0  \n37   0  \n38   0  \n39   0  \n40   0  \n41   0  \n42   0  \n43   0  \n44   0  \n45   0  \n46   0  \n47   0  \n48   0  \n49   1  \n\n[50 rows x 88 columns]",
      "text/html": "<div>\n<style scoped>\n    .dataframe tbody tr th:only-of-type {\n        vertical-align: middle;\n    }\n\n    .dataframe tbody tr th {\n        vertical-align: top;\n    }\n\n    .dataframe thead th {\n        text-align: right;\n    }\n</style>\n<table border=\"1\" class=\"dataframe\">\n  <thead>\n    <tr style=\"text-align: right;\">\n      <th></th>\n      <th>id</th>\n      <th>bulgarian</th>\n      <th>chinese</th>\n      <th>deutsche</th>\n      <th>dutch</th>\n      <th>english</th>\n      <th>french</th>\n      <th>italian</th>\n      <th>spanish</th>\n      <th>Basilica di Santa Croce</th>\n      <th>...</th>\n      <th>40</th>\n      <th>41</th>\n      <th>42</th>\n      <th>43</th>\n      <th>44</th>\n      <th>45</th>\n      <th>46</th>\n      <th>47</th>\n      <th>48</th>\n      <th>49</th>\n    </tr>\n  </thead>\n  <tbody>\n    <tr>\n      <th>0</th>\n      <td>0</td>\n      <td>0</td>\n      <td>0</td>\n      <td>0</td>\n      <td>0</td>\n      <td>1</td>\n      <td>0</td>\n      <td>0</td>\n      <td>0</td>\n      <td>0</td>\n      <td>...</td>\n      <td>0</td>\n      <td>0</td>\n      <td>0</td>\n      <td>0</td>\n      <td>0</td>\n      <td>0</td>\n      <td>0</td>\n      <td>0</td>\n      <td>0</td>\n      <td>0</td>\n    </tr>\n    <tr>\n      <th>1</th>\n      <td>1</td>\n      <td>0</td>\n      <td>0</td>\n      <td>0</td>\n      <td>1</td>\n      <td>0</td>\n      <td>0</td>\n      <td>1</td>\n      <td>0</td>\n      <td>0</td>\n      <td>...</td>\n      <td>0</td>\n      <td>0</td>\n      <td>0</td>\n      <td>0</td>\n      <td>0</td>\n      <td>0</td>\n      <td>0</td>\n      <td>0</td>\n      <td>0</td>\n      <td>0</td>\n    </tr>\n    <tr>\n      <th>2</th>\n      <td>2</td>\n      <td>0</td>\n      <td>1</td>\n      <td>0</td>\n      <td>0</td>\n      <td>1</td>\n      <td>1</td>\n      <td>0</td>\n      <td>0</td>\n      <td>0</td>\n      <td>...</td>\n      <td>0</td>\n      <td>0</td>\n      <td>0</td>\n      <td>0</td>\n      <td>0</td>\n      <td>0</td>\n      <td>0</td>\n      <td>0</td>\n      <td>0</td>\n      <td>0</td>\n    </tr>\n    <tr>\n      <th>3</th>\n      <td>3</td>\n      <td>1</td>\n      <td>0</td>\n      <td>0</td>\n      <td>0</td>\n      <td>0</td>\n      <td>0</td>\n      <td>0</td>\n      <td>0</td>\n      <td>0</td>\n      <td>...</td>\n      <td>0</td>\n      <td>0</td>\n      <td>0</td>\n      <td>0</td>\n      <td>0</td>\n      <td>0</td>\n      <td>0</td>\n      <td>0</td>\n      <td>0</td>\n      <td>0</td>\n    </tr>\n    <tr>\n      <th>4</th>\n      <td>4</td>\n      <td>0</td>\n      <td>0</td>\n      <td>1</td>\n      <td>0</td>\n      <td>0</td>\n      <td>1</td>\n      <td>0</td>\n      <td>0</td>\n      <td>0</td>\n      <td>...</td>\n      <td>0</td>\n      <td>0</td>\n      <td>0</td>\n      <td>0</td>\n      <td>0</td>\n      <td>0</td>\n      <td>0</td>\n      <td>0</td>\n      <td>0</td>\n      <td>0</td>\n    </tr>\n    <tr>\n      <th>5</th>\n      <td>5</td>\n      <td>1</td>\n      <td>0</td>\n      <td>1</td>\n      <td>1</td>\n      <td>0</td>\n      <td>0</td>\n      <td>0</td>\n      <td>0</td>\n      <td>0</td>\n      <td>...</td>\n      <td>0</td>\n      <td>0</td>\n      <td>0</td>\n      <td>0</td>\n      <td>0</td>\n      <td>0</td>\n      <td>0</td>\n      <td>0</td>\n      <td>0</td>\n      <td>0</td>\n    </tr>\n    <tr>\n      <th>6</th>\n      <td>6</td>\n      <td>0</td>\n      <td>1</td>\n      <td>0</td>\n      <td>0</td>\n      <td>1</td>\n      <td>1</td>\n      <td>0</td>\n      <td>0</td>\n      <td>0</td>\n      <td>...</td>\n      <td>0</td>\n      <td>0</td>\n      <td>0</td>\n      <td>0</td>\n      <td>0</td>\n      <td>0</td>\n      <td>0</td>\n      <td>0</td>\n      <td>0</td>\n      <td>0</td>\n    </tr>\n    <tr>\n      <th>7</th>\n      <td>7</td>\n      <td>0</td>\n      <td>0</td>\n      <td>0</td>\n      <td>1</td>\n      <td>0</td>\n      <td>1</td>\n      <td>1</td>\n      <td>1</td>\n      <td>0</td>\n      <td>...</td>\n      <td>0</td>\n      <td>0</td>\n      <td>0</td>\n      <td>0</td>\n      <td>0</td>\n      <td>0</td>\n      <td>0</td>\n      <td>0</td>\n      <td>0</td>\n      <td>0</td>\n    </tr>\n    <tr>\n      <th>8</th>\n      <td>8</td>\n      <td>1</td>\n      <td>1</td>\n      <td>0</td>\n      <td>0</td>\n      <td>1</td>\n      <td>0</td>\n      <td>0</td>\n      <td>0</td>\n      <td>0</td>\n      <td>...</td>\n      <td>0</td>\n      <td>0</td>\n      <td>0</td>\n      <td>0</td>\n      <td>0</td>\n      <td>0</td>\n      <td>0</td>\n      <td>0</td>\n      <td>0</td>\n      <td>0</td>\n    </tr>\n    <tr>\n      <th>9</th>\n      <td>9</td>\n      <td>1</td>\n      <td>1</td>\n      <td>0</td>\n      <td>1</td>\n      <td>1</td>\n      <td>0</td>\n      <td>0</td>\n      <td>0</td>\n      <td>0</td>\n      <td>...</td>\n      <td>0</td>\n      <td>0</td>\n      <td>0</td>\n      <td>0</td>\n      <td>0</td>\n      <td>0</td>\n      <td>0</td>\n      <td>0</td>\n      <td>0</td>\n      <td>0</td>\n    </tr>\n    <tr>\n      <th>10</th>\n      <td>10</td>\n      <td>1</td>\n      <td>0</td>\n      <td>1</td>\n      <td>0</td>\n      <td>0</td>\n      <td>0</td>\n      <td>0</td>\n      <td>0</td>\n      <td>0</td>\n      <td>...</td>\n      <td>0</td>\n      <td>0</td>\n      <td>0</td>\n      <td>0</td>\n      <td>0</td>\n      <td>0</td>\n      <td>0</td>\n      <td>0</td>\n      <td>0</td>\n      <td>0</td>\n    </tr>\n    <tr>\n      <th>11</th>\n      <td>11</td>\n      <td>1</td>\n      <td>0</td>\n      <td>0</td>\n      <td>0</td>\n      <td>0</td>\n      <td>0</td>\n      <td>0</td>\n      <td>0</td>\n      <td>0</td>\n      <td>...</td>\n      <td>0</td>\n      <td>0</td>\n      <td>0</td>\n      <td>0</td>\n      <td>0</td>\n      <td>0</td>\n      <td>0</td>\n      <td>0</td>\n      <td>0</td>\n      <td>0</td>\n    </tr>\n    <tr>\n      <th>12</th>\n      <td>12</td>\n      <td>0</td>\n      <td>0</td>\n      <td>0</td>\n      <td>1</td>\n      <td>0</td>\n      <td>1</td>\n      <td>1</td>\n      <td>0</td>\n      <td>0</td>\n      <td>...</td>\n      <td>0</td>\n      <td>0</td>\n      <td>0</td>\n      <td>0</td>\n      <td>0</td>\n      <td>0</td>\n      <td>0</td>\n      <td>0</td>\n      <td>0</td>\n      <td>0</td>\n    </tr>\n    <tr>\n      <th>13</th>\n      <td>13</td>\n      <td>0</td>\n      <td>1</td>\n      <td>0</td>\n      <td>0</td>\n      <td>1</td>\n      <td>0</td>\n      <td>0</td>\n      <td>0</td>\n      <td>0</td>\n      <td>...</td>\n      <td>0</td>\n      <td>0</td>\n      <td>0</td>\n      <td>0</td>\n      <td>0</td>\n      <td>0</td>\n      <td>0</td>\n      <td>0</td>\n      <td>0</td>\n      <td>0</td>\n    </tr>\n    <tr>\n      <th>14</th>\n      <td>14</td>\n      <td>0</td>\n      <td>1</td>\n      <td>0</td>\n      <td>0</td>\n      <td>0</td>\n      <td>1</td>\n      <td>0</td>\n      <td>0</td>\n      <td>0</td>\n      <td>...</td>\n      <td>0</td>\n      <td>0</td>\n      <td>0</td>\n      <td>0</td>\n      <td>0</td>\n      <td>0</td>\n      <td>0</td>\n      <td>0</td>\n      <td>0</td>\n      <td>0</td>\n    </tr>\n    <tr>\n      <th>15</th>\n      <td>15</td>\n      <td>0</td>\n      <td>1</td>\n      <td>1</td>\n      <td>0</td>\n      <td>0</td>\n      <td>0</td>\n      <td>0</td>\n      <td>0</td>\n      <td>0</td>\n      <td>...</td>\n      <td>0</td>\n      <td>0</td>\n      <td>0</td>\n      <td>0</td>\n      <td>0</td>\n      <td>0</td>\n      <td>0</td>\n      <td>0</td>\n      <td>0</td>\n      <td>0</td>\n    </tr>\n    <tr>\n      <th>16</th>\n      <td>16</td>\n      <td>1</td>\n      <td>0</td>\n      <td>0</td>\n      <td>0</td>\n      <td>0</td>\n      <td>1</td>\n      <td>0</td>\n      <td>1</td>\n      <td>1</td>\n      <td>...</td>\n      <td>0</td>\n      <td>0</td>\n      <td>0</td>\n      <td>0</td>\n      <td>0</td>\n      <td>0</td>\n      <td>0</td>\n      <td>0</td>\n      <td>0</td>\n      <td>0</td>\n    </tr>\n    <tr>\n      <th>17</th>\n      <td>17</td>\n      <td>0</td>\n      <td>0</td>\n      <td>0</td>\n      <td>1</td>\n      <td>0</td>\n      <td>0</td>\n      <td>0</td>\n      <td>0</td>\n      <td>0</td>\n      <td>...</td>\n      <td>0</td>\n      <td>0</td>\n      <td>0</td>\n      <td>0</td>\n      <td>0</td>\n      <td>0</td>\n      <td>0</td>\n      <td>0</td>\n      <td>0</td>\n      <td>0</td>\n    </tr>\n    <tr>\n      <th>18</th>\n      <td>18</td>\n      <td>0</td>\n      <td>0</td>\n      <td>0</td>\n      <td>1</td>\n      <td>0</td>\n      <td>0</td>\n      <td>1</td>\n      <td>0</td>\n      <td>0</td>\n      <td>...</td>\n      <td>0</td>\n      <td>0</td>\n      <td>0</td>\n      <td>0</td>\n      <td>0</td>\n      <td>0</td>\n      <td>0</td>\n      <td>0</td>\n      <td>0</td>\n      <td>0</td>\n    </tr>\n    <tr>\n      <th>19</th>\n      <td>19</td>\n      <td>1</td>\n      <td>0</td>\n      <td>1</td>\n      <td>0</td>\n      <td>1</td>\n      <td>0</td>\n      <td>0</td>\n      <td>0</td>\n      <td>0</td>\n      <td>...</td>\n      <td>0</td>\n      <td>0</td>\n      <td>0</td>\n      <td>0</td>\n      <td>0</td>\n      <td>0</td>\n      <td>0</td>\n      <td>0</td>\n      <td>0</td>\n      <td>0</td>\n    </tr>\n    <tr>\n      <th>20</th>\n      <td>20</td>\n      <td>0</td>\n      <td>0</td>\n      <td>1</td>\n      <td>0</td>\n      <td>0</td>\n      <td>1</td>\n      <td>0</td>\n      <td>0</td>\n      <td>0</td>\n      <td>...</td>\n      <td>0</td>\n      <td>0</td>\n      <td>0</td>\n      <td>0</td>\n      <td>0</td>\n      <td>0</td>\n      <td>0</td>\n      <td>0</td>\n      <td>0</td>\n      <td>0</td>\n    </tr>\n    <tr>\n      <th>21</th>\n      <td>21</td>\n      <td>0</td>\n      <td>1</td>\n      <td>0</td>\n      <td>0</td>\n      <td>0</td>\n      <td>0</td>\n      <td>0</td>\n      <td>0</td>\n      <td>0</td>\n      <td>...</td>\n      <td>0</td>\n      <td>0</td>\n      <td>0</td>\n      <td>0</td>\n      <td>0</td>\n      <td>0</td>\n      <td>0</td>\n      <td>0</td>\n      <td>0</td>\n      <td>0</td>\n    </tr>\n    <tr>\n      <th>22</th>\n      <td>22</td>\n      <td>0</td>\n      <td>1</td>\n      <td>0</td>\n      <td>0</td>\n      <td>0</td>\n      <td>0</td>\n      <td>0</td>\n      <td>1</td>\n      <td>1</td>\n      <td>...</td>\n      <td>0</td>\n      <td>0</td>\n      <td>0</td>\n      <td>0</td>\n      <td>0</td>\n      <td>0</td>\n      <td>0</td>\n      <td>0</td>\n      <td>0</td>\n      <td>0</td>\n    </tr>\n    <tr>\n      <th>23</th>\n      <td>23</td>\n      <td>1</td>\n      <td>0</td>\n      <td>0</td>\n      <td>0</td>\n      <td>1</td>\n      <td>0</td>\n      <td>1</td>\n      <td>0</td>\n      <td>0</td>\n      <td>...</td>\n      <td>0</td>\n      <td>0</td>\n      <td>0</td>\n      <td>0</td>\n      <td>0</td>\n      <td>0</td>\n      <td>0</td>\n      <td>0</td>\n      <td>0</td>\n      <td>0</td>\n    </tr>\n    <tr>\n      <th>24</th>\n      <td>24</td>\n      <td>1</td>\n      <td>0</td>\n      <td>0</td>\n      <td>1</td>\n      <td>0</td>\n      <td>0</td>\n      <td>1</td>\n      <td>0</td>\n      <td>0</td>\n      <td>...</td>\n      <td>0</td>\n      <td>0</td>\n      <td>0</td>\n      <td>0</td>\n      <td>0</td>\n      <td>0</td>\n      <td>0</td>\n      <td>0</td>\n      <td>0</td>\n      <td>0</td>\n    </tr>\n    <tr>\n      <th>25</th>\n      <td>25</td>\n      <td>1</td>\n      <td>0</td>\n      <td>0</td>\n      <td>0</td>\n      <td>0</td>\n      <td>0</td>\n      <td>0</td>\n      <td>0</td>\n      <td>1</td>\n      <td>...</td>\n      <td>0</td>\n      <td>0</td>\n      <td>0</td>\n      <td>0</td>\n      <td>0</td>\n      <td>0</td>\n      <td>0</td>\n      <td>0</td>\n      <td>0</td>\n      <td>0</td>\n    </tr>\n    <tr>\n      <th>26</th>\n      <td>26</td>\n      <td>0</td>\n      <td>0</td>\n      <td>0</td>\n      <td>1</td>\n      <td>0</td>\n      <td>0</td>\n      <td>0</td>\n      <td>0</td>\n      <td>0</td>\n      <td>...</td>\n      <td>0</td>\n      <td>0</td>\n      <td>0</td>\n      <td>0</td>\n      <td>0</td>\n      <td>0</td>\n      <td>0</td>\n      <td>0</td>\n      <td>0</td>\n      <td>0</td>\n    </tr>\n    <tr>\n      <th>27</th>\n      <td>27</td>\n      <td>0</td>\n      <td>0</td>\n      <td>0</td>\n      <td>0</td>\n      <td>0</td>\n      <td>0</td>\n      <td>1</td>\n      <td>0</td>\n      <td>0</td>\n      <td>...</td>\n      <td>0</td>\n      <td>0</td>\n      <td>0</td>\n      <td>0</td>\n      <td>0</td>\n      <td>0</td>\n      <td>0</td>\n      <td>0</td>\n      <td>0</td>\n      <td>0</td>\n    </tr>\n    <tr>\n      <th>28</th>\n      <td>28</td>\n      <td>0</td>\n      <td>0</td>\n      <td>0</td>\n      <td>0</td>\n      <td>0</td>\n      <td>0</td>\n      <td>0</td>\n      <td>1</td>\n      <td>0</td>\n      <td>...</td>\n      <td>0</td>\n      <td>0</td>\n      <td>0</td>\n      <td>0</td>\n      <td>0</td>\n      <td>0</td>\n      <td>0</td>\n      <td>0</td>\n      <td>0</td>\n      <td>0</td>\n    </tr>\n    <tr>\n      <th>29</th>\n      <td>29</td>\n      <td>1</td>\n      <td>1</td>\n      <td>0</td>\n      <td>0</td>\n      <td>0</td>\n      <td>0</td>\n      <td>0</td>\n      <td>0</td>\n      <td>0</td>\n      <td>...</td>\n      <td>0</td>\n      <td>0</td>\n      <td>0</td>\n      <td>0</td>\n      <td>0</td>\n      <td>0</td>\n      <td>0</td>\n      <td>0</td>\n      <td>0</td>\n      <td>0</td>\n    </tr>\n    <tr>\n      <th>30</th>\n      <td>30</td>\n      <td>0</td>\n      <td>0</td>\n      <td>1</td>\n      <td>0</td>\n      <td>1</td>\n      <td>1</td>\n      <td>0</td>\n      <td>0</td>\n      <td>0</td>\n      <td>...</td>\n      <td>0</td>\n      <td>0</td>\n      <td>0</td>\n      <td>0</td>\n      <td>0</td>\n      <td>0</td>\n      <td>0</td>\n      <td>0</td>\n      <td>0</td>\n      <td>0</td>\n    </tr>\n    <tr>\n      <th>31</th>\n      <td>31</td>\n      <td>0</td>\n      <td>0</td>\n      <td>1</td>\n      <td>0</td>\n      <td>1</td>\n      <td>1</td>\n      <td>0</td>\n      <td>0</td>\n      <td>0</td>\n      <td>...</td>\n      <td>0</td>\n      <td>0</td>\n      <td>0</td>\n      <td>0</td>\n      <td>0</td>\n      <td>0</td>\n      <td>0</td>\n      <td>0</td>\n      <td>0</td>\n      <td>0</td>\n    </tr>\n    <tr>\n      <th>32</th>\n      <td>32</td>\n      <td>1</td>\n      <td>0</td>\n      <td>0</td>\n      <td>0</td>\n      <td>0</td>\n      <td>1</td>\n      <td>0</td>\n      <td>0</td>\n      <td>0</td>\n      <td>...</td>\n      <td>0</td>\n      <td>0</td>\n      <td>0</td>\n      <td>0</td>\n      <td>0</td>\n      <td>0</td>\n      <td>0</td>\n      <td>0</td>\n      <td>0</td>\n      <td>0</td>\n    </tr>\n    <tr>\n      <th>33</th>\n      <td>33</td>\n      <td>0</td>\n      <td>0</td>\n      <td>0</td>\n      <td>0</td>\n      <td>0</td>\n      <td>1</td>\n      <td>0</td>\n      <td>0</td>\n      <td>0</td>\n      <td>...</td>\n      <td>0</td>\n      <td>0</td>\n      <td>0</td>\n      <td>0</td>\n      <td>0</td>\n      <td>0</td>\n      <td>0</td>\n      <td>0</td>\n      <td>0</td>\n      <td>0</td>\n    </tr>\n    <tr>\n      <th>34</th>\n      <td>34</td>\n      <td>1</td>\n      <td>1</td>\n      <td>0</td>\n      <td>0</td>\n      <td>0</td>\n      <td>0</td>\n      <td>1</td>\n      <td>1</td>\n      <td>0</td>\n      <td>...</td>\n      <td>0</td>\n      <td>0</td>\n      <td>0</td>\n      <td>0</td>\n      <td>0</td>\n      <td>0</td>\n      <td>0</td>\n      <td>0</td>\n      <td>0</td>\n      <td>0</td>\n    </tr>\n    <tr>\n      <th>35</th>\n      <td>35</td>\n      <td>0</td>\n      <td>0</td>\n      <td>0</td>\n      <td>0</td>\n      <td>0</td>\n      <td>1</td>\n      <td>1</td>\n      <td>0</td>\n      <td>0</td>\n      <td>...</td>\n      <td>0</td>\n      <td>0</td>\n      <td>0</td>\n      <td>0</td>\n      <td>0</td>\n      <td>0</td>\n      <td>0</td>\n      <td>0</td>\n      <td>0</td>\n      <td>0</td>\n    </tr>\n    <tr>\n      <th>36</th>\n      <td>36</td>\n      <td>0</td>\n      <td>0</td>\n      <td>0</td>\n      <td>0</td>\n      <td>0</td>\n      <td>0</td>\n      <td>0</td>\n      <td>1</td>\n      <td>0</td>\n      <td>...</td>\n      <td>0</td>\n      <td>0</td>\n      <td>0</td>\n      <td>0</td>\n      <td>0</td>\n      <td>0</td>\n      <td>0</td>\n      <td>0</td>\n      <td>0</td>\n      <td>0</td>\n    </tr>\n    <tr>\n      <th>37</th>\n      <td>37</td>\n      <td>0</td>\n      <td>0</td>\n      <td>0</td>\n      <td>1</td>\n      <td>0</td>\n      <td>0</td>\n      <td>0</td>\n      <td>0</td>\n      <td>0</td>\n      <td>...</td>\n      <td>0</td>\n      <td>0</td>\n      <td>0</td>\n      <td>0</td>\n      <td>0</td>\n      <td>0</td>\n      <td>0</td>\n      <td>0</td>\n      <td>0</td>\n      <td>0</td>\n    </tr>\n    <tr>\n      <th>38</th>\n      <td>38</td>\n      <td>0</td>\n      <td>0</td>\n      <td>0</td>\n      <td>0</td>\n      <td>0</td>\n      <td>0</td>\n      <td>1</td>\n      <td>0</td>\n      <td>0</td>\n      <td>...</td>\n      <td>0</td>\n      <td>0</td>\n      <td>0</td>\n      <td>0</td>\n      <td>0</td>\n      <td>0</td>\n      <td>0</td>\n      <td>0</td>\n      <td>0</td>\n      <td>0</td>\n    </tr>\n    <tr>\n      <th>39</th>\n      <td>39</td>\n      <td>0</td>\n      <td>0</td>\n      <td>0</td>\n      <td>1</td>\n      <td>0</td>\n      <td>0</td>\n      <td>0</td>\n      <td>1</td>\n      <td>0</td>\n      <td>...</td>\n      <td>0</td>\n      <td>0</td>\n      <td>0</td>\n      <td>0</td>\n      <td>0</td>\n      <td>0</td>\n      <td>0</td>\n      <td>0</td>\n      <td>0</td>\n      <td>0</td>\n    </tr>\n    <tr>\n      <th>40</th>\n      <td>40</td>\n      <td>0</td>\n      <td>0</td>\n      <td>0</td>\n      <td>0</td>\n      <td>0</td>\n      <td>0</td>\n      <td>1</td>\n      <td>0</td>\n      <td>0</td>\n      <td>...</td>\n      <td>1</td>\n      <td>0</td>\n      <td>0</td>\n      <td>0</td>\n      <td>0</td>\n      <td>0</td>\n      <td>0</td>\n      <td>0</td>\n      <td>0</td>\n      <td>0</td>\n    </tr>\n    <tr>\n      <th>41</th>\n      <td>41</td>\n      <td>0</td>\n      <td>0</td>\n      <td>0</td>\n      <td>0</td>\n      <td>0</td>\n      <td>0</td>\n      <td>0</td>\n      <td>1</td>\n      <td>0</td>\n      <td>...</td>\n      <td>0</td>\n      <td>1</td>\n      <td>0</td>\n      <td>0</td>\n      <td>0</td>\n      <td>0</td>\n      <td>0</td>\n      <td>0</td>\n      <td>0</td>\n      <td>0</td>\n    </tr>\n    <tr>\n      <th>42</th>\n      <td>42</td>\n      <td>1</td>\n      <td>0</td>\n      <td>0</td>\n      <td>0</td>\n      <td>0</td>\n      <td>0</td>\n      <td>0</td>\n      <td>0</td>\n      <td>0</td>\n      <td>...</td>\n      <td>0</td>\n      <td>0</td>\n      <td>1</td>\n      <td>0</td>\n      <td>0</td>\n      <td>0</td>\n      <td>0</td>\n      <td>0</td>\n      <td>0</td>\n      <td>0</td>\n    </tr>\n    <tr>\n      <th>43</th>\n      <td>43</td>\n      <td>0</td>\n      <td>0</td>\n      <td>1</td>\n      <td>0</td>\n      <td>0</td>\n      <td>0</td>\n      <td>0</td>\n      <td>0</td>\n      <td>0</td>\n      <td>...</td>\n      <td>0</td>\n      <td>0</td>\n      <td>0</td>\n      <td>1</td>\n      <td>0</td>\n      <td>0</td>\n      <td>0</td>\n      <td>0</td>\n      <td>0</td>\n      <td>0</td>\n    </tr>\n    <tr>\n      <th>44</th>\n      <td>44</td>\n      <td>1</td>\n      <td>1</td>\n      <td>0</td>\n      <td>0</td>\n      <td>0</td>\n      <td>0</td>\n      <td>1</td>\n      <td>0</td>\n      <td>0</td>\n      <td>...</td>\n      <td>0</td>\n      <td>0</td>\n      <td>0</td>\n      <td>0</td>\n      <td>1</td>\n      <td>0</td>\n      <td>0</td>\n      <td>0</td>\n      <td>0</td>\n      <td>0</td>\n    </tr>\n    <tr>\n      <th>45</th>\n      <td>45</td>\n      <td>0</td>\n      <td>1</td>\n      <td>0</td>\n      <td>1</td>\n      <td>0</td>\n      <td>1</td>\n      <td>0</td>\n      <td>0</td>\n      <td>0</td>\n      <td>...</td>\n      <td>0</td>\n      <td>0</td>\n      <td>0</td>\n      <td>0</td>\n      <td>0</td>\n      <td>1</td>\n      <td>0</td>\n      <td>0</td>\n      <td>0</td>\n      <td>0</td>\n    </tr>\n    <tr>\n      <th>46</th>\n      <td>46</td>\n      <td>0</td>\n      <td>1</td>\n      <td>0</td>\n      <td>0</td>\n      <td>0</td>\n      <td>0</td>\n      <td>0</td>\n      <td>0</td>\n      <td>0</td>\n      <td>...</td>\n      <td>0</td>\n      <td>0</td>\n      <td>0</td>\n      <td>0</td>\n      <td>0</td>\n      <td>0</td>\n      <td>1</td>\n      <td>0</td>\n      <td>0</td>\n      <td>0</td>\n    </tr>\n    <tr>\n      <th>47</th>\n      <td>47</td>\n      <td>0</td>\n      <td>0</td>\n      <td>1</td>\n      <td>1</td>\n      <td>0</td>\n      <td>0</td>\n      <td>1</td>\n      <td>0</td>\n      <td>0</td>\n      <td>...</td>\n      <td>0</td>\n      <td>0</td>\n      <td>0</td>\n      <td>0</td>\n      <td>0</td>\n      <td>0</td>\n      <td>0</td>\n      <td>1</td>\n      <td>0</td>\n      <td>0</td>\n    </tr>\n    <tr>\n      <th>48</th>\n      <td>48</td>\n      <td>1</td>\n      <td>0</td>\n      <td>0</td>\n      <td>0</td>\n      <td>0</td>\n      <td>0</td>\n      <td>1</td>\n      <td>0</td>\n      <td>0</td>\n      <td>...</td>\n      <td>0</td>\n      <td>0</td>\n      <td>0</td>\n      <td>0</td>\n      <td>0</td>\n      <td>0</td>\n      <td>0</td>\n      <td>0</td>\n      <td>1</td>\n      <td>0</td>\n    </tr>\n    <tr>\n      <th>49</th>\n      <td>49</td>\n      <td>1</td>\n      <td>0</td>\n      <td>0</td>\n      <td>0</td>\n      <td>0</td>\n      <td>1</td>\n      <td>0</td>\n      <td>0</td>\n      <td>0</td>\n      <td>...</td>\n      <td>0</td>\n      <td>0</td>\n      <td>0</td>\n      <td>0</td>\n      <td>0</td>\n      <td>0</td>\n      <td>0</td>\n      <td>0</td>\n      <td>0</td>\n      <td>1</td>\n    </tr>\n  </tbody>\n</table>\n<p>50 rows × 88 columns</p>\n</div>"
     },
     "execution_count": 15,
     "metadata": {},
     "output_type": "execute_result"
    }
   ],
   "source": [
    "# Show the dataframe\n",
    "icm_df"
   ]
  },
  {
   "cell_type": "code",
   "execution_count": 16,
   "id": "a6e5a881",
   "metadata": {
    "pycharm": {
     "name": "#%%\n"
    }
   },
   "outputs": [
    {
     "data": {
      "text/plain": "['id',\n 'bulgarian',\n 'chinese',\n 'deutsche',\n 'dutch',\n 'english',\n 'french',\n 'italian',\n 'spanish',\n 'Basilica di Santa Croce',\n 'Castello di Carlo V',\n 'Celestine Convent',\n 'Church of San Francesco della Scarpa',\n 'Church of San Matteo',\n \"Church of San Niccolo' e Cataldo\",\n 'Church of Santa Chiara',\n \"Colonna di Sant'Oronzo\",\n 'Lecce Cathedral',\n 'Museo Faggiano',\n 'Palazzo Carafa',\n 'Palazzo dei Celestini',\n \"Piazza Sant'Oronzo\",\n 'Piazza del Duomo',\n 'Porta Napoli',\n 'Roman Amphitheatre',\n 'Roman Theatre',\n 'San Giovanni Battista Church',\n 'Torre del Parco',\n 'Villa Comunale di Lecce',\n 'archeology',\n 'art',\n 'countryside',\n 'history',\n 'literature',\n 'museums',\n 'high_cost',\n 'low_cost',\n 'medium_cost',\n 0,\n 1,\n 2,\n 3,\n 4,\n 5,\n 6,\n 7,\n 8,\n 9,\n 10,\n 11,\n 12,\n 13,\n 14,\n 15,\n 16,\n 17,\n 18,\n 19,\n 20,\n 21,\n 22,\n 23,\n 24,\n 25,\n 26,\n 27,\n 28,\n 29,\n 30,\n 31,\n 32,\n 33,\n 34,\n 35,\n 36,\n 37,\n 38,\n 39,\n 40,\n 41,\n 42,\n 43,\n 44,\n 45,\n 46,\n 47,\n 48,\n 49]"
     },
     "execution_count": 16,
     "metadata": {},
     "output_type": "execute_result"
    }
   ],
   "source": [
    "# Print the list of attributes\n",
    "# The columns with a number as name indicate the ids of the guides\n",
    "attribute_list = icm_df.columns.tolist()\n",
    "attribute_list"
   ]
  },
  {
   "cell_type": "code",
   "execution_count": 17,
   "id": "5b0ea53f",
   "metadata": {
    "pycharm": {
     "name": "#%%\n"
    }
   },
   "outputs": [
    {
     "data": {
      "text/plain": "    id  1  2  3  4  5  6  7  8  9  ...  78  79  80  81  82  83  84  85  86  87\n0    0  0  0  0  0  1  0  0  0  0  ...   0   0   0   0   0   0   0   0   0   0\n1    1  0  0  0  1  0  0  1  0  0  ...   0   0   0   0   0   0   0   0   0   0\n2    2  0  1  0  0  1  1  0  0  0  ...   0   0   0   0   0   0   0   0   0   0\n3    3  1  0  0  0  0  0  0  0  0  ...   0   0   0   0   0   0   0   0   0   0\n4    4  0  0  1  0  0  1  0  0  0  ...   0   0   0   0   0   0   0   0   0   0\n5    5  1  0  1  1  0  0  0  0  0  ...   0   0   0   0   0   0   0   0   0   0\n6    6  0  1  0  0  1  1  0  0  0  ...   0   0   0   0   0   0   0   0   0   0\n7    7  0  0  0  1  0  1  1  1  0  ...   0   0   0   0   0   0   0   0   0   0\n8    8  1  1  0  0  1  0  0  0  0  ...   0   0   0   0   0   0   0   0   0   0\n9    9  1  1  0  1  1  0  0  0  0  ...   0   0   0   0   0   0   0   0   0   0\n10  10  1  0  1  0  0  0  0  0  0  ...   0   0   0   0   0   0   0   0   0   0\n11  11  1  0  0  0  0  0  0  0  0  ...   0   0   0   0   0   0   0   0   0   0\n12  12  0  0  0  1  0  1  1  0  0  ...   0   0   0   0   0   0   0   0   0   0\n13  13  0  1  0  0  1  0  0  0  0  ...   0   0   0   0   0   0   0   0   0   0\n14  14  0  1  0  0  0  1  0  0  0  ...   0   0   0   0   0   0   0   0   0   0\n15  15  0  1  1  0  0  0  0  0  0  ...   0   0   0   0   0   0   0   0   0   0\n16  16  1  0  0  0  0  1  0  1  1  ...   0   0   0   0   0   0   0   0   0   0\n17  17  0  0  0  1  0  0  0  0  0  ...   0   0   0   0   0   0   0   0   0   0\n18  18  0  0  0  1  0  0  1  0  0  ...   0   0   0   0   0   0   0   0   0   0\n19  19  1  0  1  0  1  0  0  0  0  ...   0   0   0   0   0   0   0   0   0   0\n20  20  0  0  1  0  0  1  0  0  0  ...   0   0   0   0   0   0   0   0   0   0\n21  21  0  1  0  0  0  0  0  0  0  ...   0   0   0   0   0   0   0   0   0   0\n22  22  0  1  0  0  0  0  0  1  1  ...   0   0   0   0   0   0   0   0   0   0\n23  23  1  0  0  0  1  0  1  0  0  ...   0   0   0   0   0   0   0   0   0   0\n24  24  1  0  0  1  0  0  1  0  0  ...   0   0   0   0   0   0   0   0   0   0\n25  25  1  0  0  0  0  0  0  0  1  ...   0   0   0   0   0   0   0   0   0   0\n26  26  0  0  0  1  0  0  0  0  0  ...   0   0   0   0   0   0   0   0   0   0\n27  27  0  0  0  0  0  0  1  0  0  ...   0   0   0   0   0   0   0   0   0   0\n28  28  0  0  0  0  0  0  0  1  0  ...   0   0   0   0   0   0   0   0   0   0\n29  29  1  1  0  0  0  0  0  0  0  ...   0   0   0   0   0   0   0   0   0   0\n30  30  0  0  1  0  1  1  0  0  0  ...   0   0   0   0   0   0   0   0   0   0\n31  31  0  0  1  0  1  1  0  0  0  ...   0   0   0   0   0   0   0   0   0   0\n32  32  1  0  0  0  0  1  0  0  0  ...   0   0   0   0   0   0   0   0   0   0\n33  33  0  0  0  0  0  1  0  0  0  ...   0   0   0   0   0   0   0   0   0   0\n34  34  1  1  0  0  0  0  1  1  0  ...   0   0   0   0   0   0   0   0   0   0\n35  35  0  0  0  0  0  1  1  0  0  ...   0   0   0   0   0   0   0   0   0   0\n36  36  0  0  0  0  0  0  0  1  0  ...   0   0   0   0   0   0   0   0   0   0\n37  37  0  0  0  1  0  0  0  0  0  ...   0   0   0   0   0   0   0   0   0   0\n38  38  0  0  0  0  0  0  1  0  0  ...   0   0   0   0   0   0   0   0   0   0\n39  39  0  0  0  1  0  0  0  1  0  ...   0   0   0   0   0   0   0   0   0   0\n40  40  0  0  0  0  0  0  1  0  0  ...   1   0   0   0   0   0   0   0   0   0\n41  41  0  0  0  0  0  0  0  1  0  ...   0   1   0   0   0   0   0   0   0   0\n42  42  1  0  0  0  0  0  0  0  0  ...   0   0   1   0   0   0   0   0   0   0\n43  43  0  0  1  0  0  0  0  0  0  ...   0   0   0   1   0   0   0   0   0   0\n44  44  1  1  0  0  0  0  1  0  0  ...   0   0   0   0   1   0   0   0   0   0\n45  45  0  1  0  1  0  1  0  0  0  ...   0   0   0   0   0   1   0   0   0   0\n46  46  0  1  0  0  0  0  0  0  0  ...   0   0   0   0   0   0   1   0   0   0\n47  47  0  0  1  1  0  0  1  0  0  ...   0   0   0   0   0   0   0   1   0   0\n48  48  1  0  0  0  0  0  1  0  0  ...   0   0   0   0   0   0   0   0   1   0\n49  49  1  0  0  0  0  1  0  0  0  ...   0   0   0   0   0   0   0   0   0   1\n\n[50 rows x 88 columns]",
      "text/html": "<div>\n<style scoped>\n    .dataframe tbody tr th:only-of-type {\n        vertical-align: middle;\n    }\n\n    .dataframe tbody tr th {\n        vertical-align: top;\n    }\n\n    .dataframe thead th {\n        text-align: right;\n    }\n</style>\n<table border=\"1\" class=\"dataframe\">\n  <thead>\n    <tr style=\"text-align: right;\">\n      <th></th>\n      <th>id</th>\n      <th>1</th>\n      <th>2</th>\n      <th>3</th>\n      <th>4</th>\n      <th>5</th>\n      <th>6</th>\n      <th>7</th>\n      <th>8</th>\n      <th>9</th>\n      <th>...</th>\n      <th>78</th>\n      <th>79</th>\n      <th>80</th>\n      <th>81</th>\n      <th>82</th>\n      <th>83</th>\n      <th>84</th>\n      <th>85</th>\n      <th>86</th>\n      <th>87</th>\n    </tr>\n  </thead>\n  <tbody>\n    <tr>\n      <th>0</th>\n      <td>0</td>\n      <td>0</td>\n      <td>0</td>\n      <td>0</td>\n      <td>0</td>\n      <td>1</td>\n      <td>0</td>\n      <td>0</td>\n      <td>0</td>\n      <td>0</td>\n      <td>...</td>\n      <td>0</td>\n      <td>0</td>\n      <td>0</td>\n      <td>0</td>\n      <td>0</td>\n      <td>0</td>\n      <td>0</td>\n      <td>0</td>\n      <td>0</td>\n      <td>0</td>\n    </tr>\n    <tr>\n      <th>1</th>\n      <td>1</td>\n      <td>0</td>\n      <td>0</td>\n      <td>0</td>\n      <td>1</td>\n      <td>0</td>\n      <td>0</td>\n      <td>1</td>\n      <td>0</td>\n      <td>0</td>\n      <td>...</td>\n      <td>0</td>\n      <td>0</td>\n      <td>0</td>\n      <td>0</td>\n      <td>0</td>\n      <td>0</td>\n      <td>0</td>\n      <td>0</td>\n      <td>0</td>\n      <td>0</td>\n    </tr>\n    <tr>\n      <th>2</th>\n      <td>2</td>\n      <td>0</td>\n      <td>1</td>\n      <td>0</td>\n      <td>0</td>\n      <td>1</td>\n      <td>1</td>\n      <td>0</td>\n      <td>0</td>\n      <td>0</td>\n      <td>...</td>\n      <td>0</td>\n      <td>0</td>\n      <td>0</td>\n      <td>0</td>\n      <td>0</td>\n      <td>0</td>\n      <td>0</td>\n      <td>0</td>\n      <td>0</td>\n      <td>0</td>\n    </tr>\n    <tr>\n      <th>3</th>\n      <td>3</td>\n      <td>1</td>\n      <td>0</td>\n      <td>0</td>\n      <td>0</td>\n      <td>0</td>\n      <td>0</td>\n      <td>0</td>\n      <td>0</td>\n      <td>0</td>\n      <td>...</td>\n      <td>0</td>\n      <td>0</td>\n      <td>0</td>\n      <td>0</td>\n      <td>0</td>\n      <td>0</td>\n      <td>0</td>\n      <td>0</td>\n      <td>0</td>\n      <td>0</td>\n    </tr>\n    <tr>\n      <th>4</th>\n      <td>4</td>\n      <td>0</td>\n      <td>0</td>\n      <td>1</td>\n      <td>0</td>\n      <td>0</td>\n      <td>1</td>\n      <td>0</td>\n      <td>0</td>\n      <td>0</td>\n      <td>...</td>\n      <td>0</td>\n      <td>0</td>\n      <td>0</td>\n      <td>0</td>\n      <td>0</td>\n      <td>0</td>\n      <td>0</td>\n      <td>0</td>\n      <td>0</td>\n      <td>0</td>\n    </tr>\n    <tr>\n      <th>5</th>\n      <td>5</td>\n      <td>1</td>\n      <td>0</td>\n      <td>1</td>\n      <td>1</td>\n      <td>0</td>\n      <td>0</td>\n      <td>0</td>\n      <td>0</td>\n      <td>0</td>\n      <td>...</td>\n      <td>0</td>\n      <td>0</td>\n      <td>0</td>\n      <td>0</td>\n      <td>0</td>\n      <td>0</td>\n      <td>0</td>\n      <td>0</td>\n      <td>0</td>\n      <td>0</td>\n    </tr>\n    <tr>\n      <th>6</th>\n      <td>6</td>\n      <td>0</td>\n      <td>1</td>\n      <td>0</td>\n      <td>0</td>\n      <td>1</td>\n      <td>1</td>\n      <td>0</td>\n      <td>0</td>\n      <td>0</td>\n      <td>...</td>\n      <td>0</td>\n      <td>0</td>\n      <td>0</td>\n      <td>0</td>\n      <td>0</td>\n      <td>0</td>\n      <td>0</td>\n      <td>0</td>\n      <td>0</td>\n      <td>0</td>\n    </tr>\n    <tr>\n      <th>7</th>\n      <td>7</td>\n      <td>0</td>\n      <td>0</td>\n      <td>0</td>\n      <td>1</td>\n      <td>0</td>\n      <td>1</td>\n      <td>1</td>\n      <td>1</td>\n      <td>0</td>\n      <td>...</td>\n      <td>0</td>\n      <td>0</td>\n      <td>0</td>\n      <td>0</td>\n      <td>0</td>\n      <td>0</td>\n      <td>0</td>\n      <td>0</td>\n      <td>0</td>\n      <td>0</td>\n    </tr>\n    <tr>\n      <th>8</th>\n      <td>8</td>\n      <td>1</td>\n      <td>1</td>\n      <td>0</td>\n      <td>0</td>\n      <td>1</td>\n      <td>0</td>\n      <td>0</td>\n      <td>0</td>\n      <td>0</td>\n      <td>...</td>\n      <td>0</td>\n      <td>0</td>\n      <td>0</td>\n      <td>0</td>\n      <td>0</td>\n      <td>0</td>\n      <td>0</td>\n      <td>0</td>\n      <td>0</td>\n      <td>0</td>\n    </tr>\n    <tr>\n      <th>9</th>\n      <td>9</td>\n      <td>1</td>\n      <td>1</td>\n      <td>0</td>\n      <td>1</td>\n      <td>1</td>\n      <td>0</td>\n      <td>0</td>\n      <td>0</td>\n      <td>0</td>\n      <td>...</td>\n      <td>0</td>\n      <td>0</td>\n      <td>0</td>\n      <td>0</td>\n      <td>0</td>\n      <td>0</td>\n      <td>0</td>\n      <td>0</td>\n      <td>0</td>\n      <td>0</td>\n    </tr>\n    <tr>\n      <th>10</th>\n      <td>10</td>\n      <td>1</td>\n      <td>0</td>\n      <td>1</td>\n      <td>0</td>\n      <td>0</td>\n      <td>0</td>\n      <td>0</td>\n      <td>0</td>\n      <td>0</td>\n      <td>...</td>\n      <td>0</td>\n      <td>0</td>\n      <td>0</td>\n      <td>0</td>\n      <td>0</td>\n      <td>0</td>\n      <td>0</td>\n      <td>0</td>\n      <td>0</td>\n      <td>0</td>\n    </tr>\n    <tr>\n      <th>11</th>\n      <td>11</td>\n      <td>1</td>\n      <td>0</td>\n      <td>0</td>\n      <td>0</td>\n      <td>0</td>\n      <td>0</td>\n      <td>0</td>\n      <td>0</td>\n      <td>0</td>\n      <td>...</td>\n      <td>0</td>\n      <td>0</td>\n      <td>0</td>\n      <td>0</td>\n      <td>0</td>\n      <td>0</td>\n      <td>0</td>\n      <td>0</td>\n      <td>0</td>\n      <td>0</td>\n    </tr>\n    <tr>\n      <th>12</th>\n      <td>12</td>\n      <td>0</td>\n      <td>0</td>\n      <td>0</td>\n      <td>1</td>\n      <td>0</td>\n      <td>1</td>\n      <td>1</td>\n      <td>0</td>\n      <td>0</td>\n      <td>...</td>\n      <td>0</td>\n      <td>0</td>\n      <td>0</td>\n      <td>0</td>\n      <td>0</td>\n      <td>0</td>\n      <td>0</td>\n      <td>0</td>\n      <td>0</td>\n      <td>0</td>\n    </tr>\n    <tr>\n      <th>13</th>\n      <td>13</td>\n      <td>0</td>\n      <td>1</td>\n      <td>0</td>\n      <td>0</td>\n      <td>1</td>\n      <td>0</td>\n      <td>0</td>\n      <td>0</td>\n      <td>0</td>\n      <td>...</td>\n      <td>0</td>\n      <td>0</td>\n      <td>0</td>\n      <td>0</td>\n      <td>0</td>\n      <td>0</td>\n      <td>0</td>\n      <td>0</td>\n      <td>0</td>\n      <td>0</td>\n    </tr>\n    <tr>\n      <th>14</th>\n      <td>14</td>\n      <td>0</td>\n      <td>1</td>\n      <td>0</td>\n      <td>0</td>\n      <td>0</td>\n      <td>1</td>\n      <td>0</td>\n      <td>0</td>\n      <td>0</td>\n      <td>...</td>\n      <td>0</td>\n      <td>0</td>\n      <td>0</td>\n      <td>0</td>\n      <td>0</td>\n      <td>0</td>\n      <td>0</td>\n      <td>0</td>\n      <td>0</td>\n      <td>0</td>\n    </tr>\n    <tr>\n      <th>15</th>\n      <td>15</td>\n      <td>0</td>\n      <td>1</td>\n      <td>1</td>\n      <td>0</td>\n      <td>0</td>\n      <td>0</td>\n      <td>0</td>\n      <td>0</td>\n      <td>0</td>\n      <td>...</td>\n      <td>0</td>\n      <td>0</td>\n      <td>0</td>\n      <td>0</td>\n      <td>0</td>\n      <td>0</td>\n      <td>0</td>\n      <td>0</td>\n      <td>0</td>\n      <td>0</td>\n    </tr>\n    <tr>\n      <th>16</th>\n      <td>16</td>\n      <td>1</td>\n      <td>0</td>\n      <td>0</td>\n      <td>0</td>\n      <td>0</td>\n      <td>1</td>\n      <td>0</td>\n      <td>1</td>\n      <td>1</td>\n      <td>...</td>\n      <td>0</td>\n      <td>0</td>\n      <td>0</td>\n      <td>0</td>\n      <td>0</td>\n      <td>0</td>\n      <td>0</td>\n      <td>0</td>\n      <td>0</td>\n      <td>0</td>\n    </tr>\n    <tr>\n      <th>17</th>\n      <td>17</td>\n      <td>0</td>\n      <td>0</td>\n      <td>0</td>\n      <td>1</td>\n      <td>0</td>\n      <td>0</td>\n      <td>0</td>\n      <td>0</td>\n      <td>0</td>\n      <td>...</td>\n      <td>0</td>\n      <td>0</td>\n      <td>0</td>\n      <td>0</td>\n      <td>0</td>\n      <td>0</td>\n      <td>0</td>\n      <td>0</td>\n      <td>0</td>\n      <td>0</td>\n    </tr>\n    <tr>\n      <th>18</th>\n      <td>18</td>\n      <td>0</td>\n      <td>0</td>\n      <td>0</td>\n      <td>1</td>\n      <td>0</td>\n      <td>0</td>\n      <td>1</td>\n      <td>0</td>\n      <td>0</td>\n      <td>...</td>\n      <td>0</td>\n      <td>0</td>\n      <td>0</td>\n      <td>0</td>\n      <td>0</td>\n      <td>0</td>\n      <td>0</td>\n      <td>0</td>\n      <td>0</td>\n      <td>0</td>\n    </tr>\n    <tr>\n      <th>19</th>\n      <td>19</td>\n      <td>1</td>\n      <td>0</td>\n      <td>1</td>\n      <td>0</td>\n      <td>1</td>\n      <td>0</td>\n      <td>0</td>\n      <td>0</td>\n      <td>0</td>\n      <td>...</td>\n      <td>0</td>\n      <td>0</td>\n      <td>0</td>\n      <td>0</td>\n      <td>0</td>\n      <td>0</td>\n      <td>0</td>\n      <td>0</td>\n      <td>0</td>\n      <td>0</td>\n    </tr>\n    <tr>\n      <th>20</th>\n      <td>20</td>\n      <td>0</td>\n      <td>0</td>\n      <td>1</td>\n      <td>0</td>\n      <td>0</td>\n      <td>1</td>\n      <td>0</td>\n      <td>0</td>\n      <td>0</td>\n      <td>...</td>\n      <td>0</td>\n      <td>0</td>\n      <td>0</td>\n      <td>0</td>\n      <td>0</td>\n      <td>0</td>\n      <td>0</td>\n      <td>0</td>\n      <td>0</td>\n      <td>0</td>\n    </tr>\n    <tr>\n      <th>21</th>\n      <td>21</td>\n      <td>0</td>\n      <td>1</td>\n      <td>0</td>\n      <td>0</td>\n      <td>0</td>\n      <td>0</td>\n      <td>0</td>\n      <td>0</td>\n      <td>0</td>\n      <td>...</td>\n      <td>0</td>\n      <td>0</td>\n      <td>0</td>\n      <td>0</td>\n      <td>0</td>\n      <td>0</td>\n      <td>0</td>\n      <td>0</td>\n      <td>0</td>\n      <td>0</td>\n    </tr>\n    <tr>\n      <th>22</th>\n      <td>22</td>\n      <td>0</td>\n      <td>1</td>\n      <td>0</td>\n      <td>0</td>\n      <td>0</td>\n      <td>0</td>\n      <td>0</td>\n      <td>1</td>\n      <td>1</td>\n      <td>...</td>\n      <td>0</td>\n      <td>0</td>\n      <td>0</td>\n      <td>0</td>\n      <td>0</td>\n      <td>0</td>\n      <td>0</td>\n      <td>0</td>\n      <td>0</td>\n      <td>0</td>\n    </tr>\n    <tr>\n      <th>23</th>\n      <td>23</td>\n      <td>1</td>\n      <td>0</td>\n      <td>0</td>\n      <td>0</td>\n      <td>1</td>\n      <td>0</td>\n      <td>1</td>\n      <td>0</td>\n      <td>0</td>\n      <td>...</td>\n      <td>0</td>\n      <td>0</td>\n      <td>0</td>\n      <td>0</td>\n      <td>0</td>\n      <td>0</td>\n      <td>0</td>\n      <td>0</td>\n      <td>0</td>\n      <td>0</td>\n    </tr>\n    <tr>\n      <th>24</th>\n      <td>24</td>\n      <td>1</td>\n      <td>0</td>\n      <td>0</td>\n      <td>1</td>\n      <td>0</td>\n      <td>0</td>\n      <td>1</td>\n      <td>0</td>\n      <td>0</td>\n      <td>...</td>\n      <td>0</td>\n      <td>0</td>\n      <td>0</td>\n      <td>0</td>\n      <td>0</td>\n      <td>0</td>\n      <td>0</td>\n      <td>0</td>\n      <td>0</td>\n      <td>0</td>\n    </tr>\n    <tr>\n      <th>25</th>\n      <td>25</td>\n      <td>1</td>\n      <td>0</td>\n      <td>0</td>\n      <td>0</td>\n      <td>0</td>\n      <td>0</td>\n      <td>0</td>\n      <td>0</td>\n      <td>1</td>\n      <td>...</td>\n      <td>0</td>\n      <td>0</td>\n      <td>0</td>\n      <td>0</td>\n      <td>0</td>\n      <td>0</td>\n      <td>0</td>\n      <td>0</td>\n      <td>0</td>\n      <td>0</td>\n    </tr>\n    <tr>\n      <th>26</th>\n      <td>26</td>\n      <td>0</td>\n      <td>0</td>\n      <td>0</td>\n      <td>1</td>\n      <td>0</td>\n      <td>0</td>\n      <td>0</td>\n      <td>0</td>\n      <td>0</td>\n      <td>...</td>\n      <td>0</td>\n      <td>0</td>\n      <td>0</td>\n      <td>0</td>\n      <td>0</td>\n      <td>0</td>\n      <td>0</td>\n      <td>0</td>\n      <td>0</td>\n      <td>0</td>\n    </tr>\n    <tr>\n      <th>27</th>\n      <td>27</td>\n      <td>0</td>\n      <td>0</td>\n      <td>0</td>\n      <td>0</td>\n      <td>0</td>\n      <td>0</td>\n      <td>1</td>\n      <td>0</td>\n      <td>0</td>\n      <td>...</td>\n      <td>0</td>\n      <td>0</td>\n      <td>0</td>\n      <td>0</td>\n      <td>0</td>\n      <td>0</td>\n      <td>0</td>\n      <td>0</td>\n      <td>0</td>\n      <td>0</td>\n    </tr>\n    <tr>\n      <th>28</th>\n      <td>28</td>\n      <td>0</td>\n      <td>0</td>\n      <td>0</td>\n      <td>0</td>\n      <td>0</td>\n      <td>0</td>\n      <td>0</td>\n      <td>1</td>\n      <td>0</td>\n      <td>...</td>\n      <td>0</td>\n      <td>0</td>\n      <td>0</td>\n      <td>0</td>\n      <td>0</td>\n      <td>0</td>\n      <td>0</td>\n      <td>0</td>\n      <td>0</td>\n      <td>0</td>\n    </tr>\n    <tr>\n      <th>29</th>\n      <td>29</td>\n      <td>1</td>\n      <td>1</td>\n      <td>0</td>\n      <td>0</td>\n      <td>0</td>\n      <td>0</td>\n      <td>0</td>\n      <td>0</td>\n      <td>0</td>\n      <td>...</td>\n      <td>0</td>\n      <td>0</td>\n      <td>0</td>\n      <td>0</td>\n      <td>0</td>\n      <td>0</td>\n      <td>0</td>\n      <td>0</td>\n      <td>0</td>\n      <td>0</td>\n    </tr>\n    <tr>\n      <th>30</th>\n      <td>30</td>\n      <td>0</td>\n      <td>0</td>\n      <td>1</td>\n      <td>0</td>\n      <td>1</td>\n      <td>1</td>\n      <td>0</td>\n      <td>0</td>\n      <td>0</td>\n      <td>...</td>\n      <td>0</td>\n      <td>0</td>\n      <td>0</td>\n      <td>0</td>\n      <td>0</td>\n      <td>0</td>\n      <td>0</td>\n      <td>0</td>\n      <td>0</td>\n      <td>0</td>\n    </tr>\n    <tr>\n      <th>31</th>\n      <td>31</td>\n      <td>0</td>\n      <td>0</td>\n      <td>1</td>\n      <td>0</td>\n      <td>1</td>\n      <td>1</td>\n      <td>0</td>\n      <td>0</td>\n      <td>0</td>\n      <td>...</td>\n      <td>0</td>\n      <td>0</td>\n      <td>0</td>\n      <td>0</td>\n      <td>0</td>\n      <td>0</td>\n      <td>0</td>\n      <td>0</td>\n      <td>0</td>\n      <td>0</td>\n    </tr>\n    <tr>\n      <th>32</th>\n      <td>32</td>\n      <td>1</td>\n      <td>0</td>\n      <td>0</td>\n      <td>0</td>\n      <td>0</td>\n      <td>1</td>\n      <td>0</td>\n      <td>0</td>\n      <td>0</td>\n      <td>...</td>\n      <td>0</td>\n      <td>0</td>\n      <td>0</td>\n      <td>0</td>\n      <td>0</td>\n      <td>0</td>\n      <td>0</td>\n      <td>0</td>\n      <td>0</td>\n      <td>0</td>\n    </tr>\n    <tr>\n      <th>33</th>\n      <td>33</td>\n      <td>0</td>\n      <td>0</td>\n      <td>0</td>\n      <td>0</td>\n      <td>0</td>\n      <td>1</td>\n      <td>0</td>\n      <td>0</td>\n      <td>0</td>\n      <td>...</td>\n      <td>0</td>\n      <td>0</td>\n      <td>0</td>\n      <td>0</td>\n      <td>0</td>\n      <td>0</td>\n      <td>0</td>\n      <td>0</td>\n      <td>0</td>\n      <td>0</td>\n    </tr>\n    <tr>\n      <th>34</th>\n      <td>34</td>\n      <td>1</td>\n      <td>1</td>\n      <td>0</td>\n      <td>0</td>\n      <td>0</td>\n      <td>0</td>\n      <td>1</td>\n      <td>1</td>\n      <td>0</td>\n      <td>...</td>\n      <td>0</td>\n      <td>0</td>\n      <td>0</td>\n      <td>0</td>\n      <td>0</td>\n      <td>0</td>\n      <td>0</td>\n      <td>0</td>\n      <td>0</td>\n      <td>0</td>\n    </tr>\n    <tr>\n      <th>35</th>\n      <td>35</td>\n      <td>0</td>\n      <td>0</td>\n      <td>0</td>\n      <td>0</td>\n      <td>0</td>\n      <td>1</td>\n      <td>1</td>\n      <td>0</td>\n      <td>0</td>\n      <td>...</td>\n      <td>0</td>\n      <td>0</td>\n      <td>0</td>\n      <td>0</td>\n      <td>0</td>\n      <td>0</td>\n      <td>0</td>\n      <td>0</td>\n      <td>0</td>\n      <td>0</td>\n    </tr>\n    <tr>\n      <th>36</th>\n      <td>36</td>\n      <td>0</td>\n      <td>0</td>\n      <td>0</td>\n      <td>0</td>\n      <td>0</td>\n      <td>0</td>\n      <td>0</td>\n      <td>1</td>\n      <td>0</td>\n      <td>...</td>\n      <td>0</td>\n      <td>0</td>\n      <td>0</td>\n      <td>0</td>\n      <td>0</td>\n      <td>0</td>\n      <td>0</td>\n      <td>0</td>\n      <td>0</td>\n      <td>0</td>\n    </tr>\n    <tr>\n      <th>37</th>\n      <td>37</td>\n      <td>0</td>\n      <td>0</td>\n      <td>0</td>\n      <td>1</td>\n      <td>0</td>\n      <td>0</td>\n      <td>0</td>\n      <td>0</td>\n      <td>0</td>\n      <td>...</td>\n      <td>0</td>\n      <td>0</td>\n      <td>0</td>\n      <td>0</td>\n      <td>0</td>\n      <td>0</td>\n      <td>0</td>\n      <td>0</td>\n      <td>0</td>\n      <td>0</td>\n    </tr>\n    <tr>\n      <th>38</th>\n      <td>38</td>\n      <td>0</td>\n      <td>0</td>\n      <td>0</td>\n      <td>0</td>\n      <td>0</td>\n      <td>0</td>\n      <td>1</td>\n      <td>0</td>\n      <td>0</td>\n      <td>...</td>\n      <td>0</td>\n      <td>0</td>\n      <td>0</td>\n      <td>0</td>\n      <td>0</td>\n      <td>0</td>\n      <td>0</td>\n      <td>0</td>\n      <td>0</td>\n      <td>0</td>\n    </tr>\n    <tr>\n      <th>39</th>\n      <td>39</td>\n      <td>0</td>\n      <td>0</td>\n      <td>0</td>\n      <td>1</td>\n      <td>0</td>\n      <td>0</td>\n      <td>0</td>\n      <td>1</td>\n      <td>0</td>\n      <td>...</td>\n      <td>0</td>\n      <td>0</td>\n      <td>0</td>\n      <td>0</td>\n      <td>0</td>\n      <td>0</td>\n      <td>0</td>\n      <td>0</td>\n      <td>0</td>\n      <td>0</td>\n    </tr>\n    <tr>\n      <th>40</th>\n      <td>40</td>\n      <td>0</td>\n      <td>0</td>\n      <td>0</td>\n      <td>0</td>\n      <td>0</td>\n      <td>0</td>\n      <td>1</td>\n      <td>0</td>\n      <td>0</td>\n      <td>...</td>\n      <td>1</td>\n      <td>0</td>\n      <td>0</td>\n      <td>0</td>\n      <td>0</td>\n      <td>0</td>\n      <td>0</td>\n      <td>0</td>\n      <td>0</td>\n      <td>0</td>\n    </tr>\n    <tr>\n      <th>41</th>\n      <td>41</td>\n      <td>0</td>\n      <td>0</td>\n      <td>0</td>\n      <td>0</td>\n      <td>0</td>\n      <td>0</td>\n      <td>0</td>\n      <td>1</td>\n      <td>0</td>\n      <td>...</td>\n      <td>0</td>\n      <td>1</td>\n      <td>0</td>\n      <td>0</td>\n      <td>0</td>\n      <td>0</td>\n      <td>0</td>\n      <td>0</td>\n      <td>0</td>\n      <td>0</td>\n    </tr>\n    <tr>\n      <th>42</th>\n      <td>42</td>\n      <td>1</td>\n      <td>0</td>\n      <td>0</td>\n      <td>0</td>\n      <td>0</td>\n      <td>0</td>\n      <td>0</td>\n      <td>0</td>\n      <td>0</td>\n      <td>...</td>\n      <td>0</td>\n      <td>0</td>\n      <td>1</td>\n      <td>0</td>\n      <td>0</td>\n      <td>0</td>\n      <td>0</td>\n      <td>0</td>\n      <td>0</td>\n      <td>0</td>\n    </tr>\n    <tr>\n      <th>43</th>\n      <td>43</td>\n      <td>0</td>\n      <td>0</td>\n      <td>1</td>\n      <td>0</td>\n      <td>0</td>\n      <td>0</td>\n      <td>0</td>\n      <td>0</td>\n      <td>0</td>\n      <td>...</td>\n      <td>0</td>\n      <td>0</td>\n      <td>0</td>\n      <td>1</td>\n      <td>0</td>\n      <td>0</td>\n      <td>0</td>\n      <td>0</td>\n      <td>0</td>\n      <td>0</td>\n    </tr>\n    <tr>\n      <th>44</th>\n      <td>44</td>\n      <td>1</td>\n      <td>1</td>\n      <td>0</td>\n      <td>0</td>\n      <td>0</td>\n      <td>0</td>\n      <td>1</td>\n      <td>0</td>\n      <td>0</td>\n      <td>...</td>\n      <td>0</td>\n      <td>0</td>\n      <td>0</td>\n      <td>0</td>\n      <td>1</td>\n      <td>0</td>\n      <td>0</td>\n      <td>0</td>\n      <td>0</td>\n      <td>0</td>\n    </tr>\n    <tr>\n      <th>45</th>\n      <td>45</td>\n      <td>0</td>\n      <td>1</td>\n      <td>0</td>\n      <td>1</td>\n      <td>0</td>\n      <td>1</td>\n      <td>0</td>\n      <td>0</td>\n      <td>0</td>\n      <td>...</td>\n      <td>0</td>\n      <td>0</td>\n      <td>0</td>\n      <td>0</td>\n      <td>0</td>\n      <td>1</td>\n      <td>0</td>\n      <td>0</td>\n      <td>0</td>\n      <td>0</td>\n    </tr>\n    <tr>\n      <th>46</th>\n      <td>46</td>\n      <td>0</td>\n      <td>1</td>\n      <td>0</td>\n      <td>0</td>\n      <td>0</td>\n      <td>0</td>\n      <td>0</td>\n      <td>0</td>\n      <td>0</td>\n      <td>...</td>\n      <td>0</td>\n      <td>0</td>\n      <td>0</td>\n      <td>0</td>\n      <td>0</td>\n      <td>0</td>\n      <td>1</td>\n      <td>0</td>\n      <td>0</td>\n      <td>0</td>\n    </tr>\n    <tr>\n      <th>47</th>\n      <td>47</td>\n      <td>0</td>\n      <td>0</td>\n      <td>1</td>\n      <td>1</td>\n      <td>0</td>\n      <td>0</td>\n      <td>1</td>\n      <td>0</td>\n      <td>0</td>\n      <td>...</td>\n      <td>0</td>\n      <td>0</td>\n      <td>0</td>\n      <td>0</td>\n      <td>0</td>\n      <td>0</td>\n      <td>0</td>\n      <td>1</td>\n      <td>0</td>\n      <td>0</td>\n    </tr>\n    <tr>\n      <th>48</th>\n      <td>48</td>\n      <td>1</td>\n      <td>0</td>\n      <td>0</td>\n      <td>0</td>\n      <td>0</td>\n      <td>0</td>\n      <td>1</td>\n      <td>0</td>\n      <td>0</td>\n      <td>...</td>\n      <td>0</td>\n      <td>0</td>\n      <td>0</td>\n      <td>0</td>\n      <td>0</td>\n      <td>0</td>\n      <td>0</td>\n      <td>0</td>\n      <td>1</td>\n      <td>0</td>\n    </tr>\n    <tr>\n      <th>49</th>\n      <td>49</td>\n      <td>1</td>\n      <td>0</td>\n      <td>0</td>\n      <td>0</td>\n      <td>0</td>\n      <td>1</td>\n      <td>0</td>\n      <td>0</td>\n      <td>0</td>\n      <td>...</td>\n      <td>0</td>\n      <td>0</td>\n      <td>0</td>\n      <td>0</td>\n      <td>0</td>\n      <td>0</td>\n      <td>0</td>\n      <td>0</td>\n      <td>0</td>\n      <td>1</td>\n    </tr>\n  </tbody>\n</table>\n<p>50 rows × 88 columns</p>\n</div>"
     },
     "execution_count": 17,
     "metadata": {},
     "output_type": "execute_result"
    }
   ],
   "source": [
    "# Convert the names of columns (attributes) into sequential numbers\n",
    "def convert_index(x):\n",
    "    # The first column contains the ids of the tours, keep its name\n",
    "    if x == 'id':\n",
    "        return x\n",
    "    else:\n",
    "        return attribute_list.index(x)\n",
    "\n",
    "# Apply the transformation to the dataframe\n",
    "icm_df.rename(mapper=convert_index, axis=1, inplace=True)\n",
    "icm_df"
   ]
  },
  {
   "cell_type": "code",
   "execution_count": 18,
   "id": "394a5b7a",
   "metadata": {
    "pycharm": {
     "name": "#%%\n"
    }
   },
   "outputs": [
    {
     "data": {
      "text/plain": "      id label  value\n3      3     1      1\n5      5     1      1\n8      8     1      1\n9      9     1      1\n10    10     1      1\n...   ..   ...    ...\n4145  45    83      1\n4196  46    84      1\n4247  47    85      1\n4298  48    86      1\n4349  49    87      1\n\n[390 rows x 3 columns]",
      "text/html": "<div>\n<style scoped>\n    .dataframe tbody tr th:only-of-type {\n        vertical-align: middle;\n    }\n\n    .dataframe tbody tr th {\n        vertical-align: top;\n    }\n\n    .dataframe thead th {\n        text-align: right;\n    }\n</style>\n<table border=\"1\" class=\"dataframe\">\n  <thead>\n    <tr style=\"text-align: right;\">\n      <th></th>\n      <th>id</th>\n      <th>label</th>\n      <th>value</th>\n    </tr>\n  </thead>\n  <tbody>\n    <tr>\n      <th>3</th>\n      <td>3</td>\n      <td>1</td>\n      <td>1</td>\n    </tr>\n    <tr>\n      <th>5</th>\n      <td>5</td>\n      <td>1</td>\n      <td>1</td>\n    </tr>\n    <tr>\n      <th>8</th>\n      <td>8</td>\n      <td>1</td>\n      <td>1</td>\n    </tr>\n    <tr>\n      <th>9</th>\n      <td>9</td>\n      <td>1</td>\n      <td>1</td>\n    </tr>\n    <tr>\n      <th>10</th>\n      <td>10</td>\n      <td>1</td>\n      <td>1</td>\n    </tr>\n    <tr>\n      <th>...</th>\n      <td>...</td>\n      <td>...</td>\n      <td>...</td>\n    </tr>\n    <tr>\n      <th>4145</th>\n      <td>45</td>\n      <td>83</td>\n      <td>1</td>\n    </tr>\n    <tr>\n      <th>4196</th>\n      <td>46</td>\n      <td>84</td>\n      <td>1</td>\n    </tr>\n    <tr>\n      <th>4247</th>\n      <td>47</td>\n      <td>85</td>\n      <td>1</td>\n    </tr>\n    <tr>\n      <th>4298</th>\n      <td>48</td>\n      <td>86</td>\n      <td>1</td>\n    </tr>\n    <tr>\n      <th>4349</th>\n      <td>49</td>\n      <td>87</td>\n      <td>1</td>\n    </tr>\n  </tbody>\n</table>\n<p>390 rows × 3 columns</p>\n</div>"
     },
     "execution_count": 18,
     "metadata": {},
     "output_type": "execute_result"
    }
   ],
   "source": [
    "# Re-organize data structure for building the ICM\n",
    "\n",
    "# The dataframe is modeled such that the column 'id' is identifier variable,\n",
    "# and all other columns are \"unpivoted\" to the row axis.\n",
    "# The result has only two non-identifier columns: 'label' (attribute) and 'value'.\n",
    "icm_df = pd.melt(icm_df, id_vars='id', var_name='label')\n",
    "\n",
    "# Filter the values: only the cells with value 1 are kept in the new dataframe\n",
    "icm_df = icm_df[icm_df[\"value\"]==1]\n",
    "icm_df"
   ]
  },
  {
   "cell_type": "code",
   "execution_count": 19,
   "id": "947540a6",
   "metadata": {
    "pycharm": {
     "name": "#%%\n"
    }
   },
   "outputs": [
    {
     "data": {
      "text/plain": "<50x88 sparse matrix of type '<class 'numpy.int64'>'\n\twith 390 stored elements in Compressed Sparse Row format>"
     },
     "execution_count": 19,
     "metadata": {},
     "output_type": "execute_result"
    }
   ],
   "source": [
    "# Create the Item Content Matrix in CSR format to facilitate the computation\n",
    "# Row: tour_id, Column: attribute_id, Value: 1 if the attribute characterizes the tour\n",
    "ICM_all = sps.csr_matrix(\n",
    "    (icm_df[\"value\"].values,\n",
    "    (icm_df[\"id\"].values, icm_df[\"label\"].values))\n",
    ")\n",
    "\n",
    "ICM_all"
   ]
  },
  {
   "cell_type": "code",
   "execution_count": 20,
   "id": "82540dd5",
   "metadata": {
    "pycharm": {
     "name": "#%%\n"
    }
   },
   "outputs": [
    {
     "name": "stdout",
     "output_type": "stream",
     "text": [
      "[[0 0 0 ... 0 0 0]\n",
      " [0 0 0 ... 0 0 0]\n",
      " [0 0 1 ... 0 0 0]\n",
      " ...\n",
      " [0 0 0 ... 1 0 0]\n",
      " [0 1 0 ... 0 1 0]\n",
      " [0 1 0 ... 0 0 1]]\n"
     ]
    }
   ],
   "source": [
    "# Print the matrix in dense format\n",
    "print(ICM_all.todense())"
   ]
  },
  {
   "cell_type": "markdown",
   "id": "02c77874",
   "metadata": {
    "pycharm": {
     "name": "#%% md\n"
    }
   },
   "source": [
    "### Feature Engineering\n",
    "It is possible to model the importance of the features by weighting them differently in the ICM: so we can attribute a higher value to the features that we consider more relevant for the recommendation problem, such as the languages spoken by the guides offering the tours.\n",
    "\n",
    "In the considered scenario, we assume that the **language** is a hard constraint with high priority in the matching process: for communication purpose, it is reasonable that the recommended tours are offered by guides who speak the same language(s) of the tourist. So we aim to first guarantee this constraint.\n",
    "\n",
    "Other attributes can be further explored whenever necessary."
   ]
  },
  {
   "cell_type": "code",
   "execution_count": 21,
   "id": "b8288f95",
   "metadata": {
    "pycharm": {
     "name": "#%%\n"
    }
   },
   "outputs": [
    {
     "name": "stdout",
     "output_type": "stream",
     "text": [
      "0 id\n",
      "1 bulgarian\n",
      "2 chinese\n",
      "3 deutsche\n",
      "4 dutch\n",
      "5 english\n",
      "6 french\n",
      "7 italian\n",
      "8 spanish\n",
      "9 Basilica di Santa Croce\n",
      "10 Castello di Carlo V\n",
      "11 Celestine Convent\n",
      "12 Church of San Francesco della Scarpa\n",
      "13 Church of San Matteo\n",
      "14 Church of San Niccolo' e Cataldo\n",
      "15 Church of Santa Chiara\n",
      "16 Colonna di Sant'Oronzo\n",
      "17 Lecce Cathedral\n",
      "18 Museo Faggiano\n",
      "19 Palazzo Carafa\n",
      "20 Palazzo dei Celestini\n",
      "21 Piazza Sant'Oronzo\n",
      "22 Piazza del Duomo\n",
      "23 Porta Napoli\n",
      "24 Roman Amphitheatre\n",
      "25 Roman Theatre\n",
      "26 San Giovanni Battista Church\n",
      "27 Torre del Parco\n",
      "28 Villa Comunale di Lecce\n",
      "29 archeology\n",
      "30 art\n",
      "31 countryside\n",
      "32 history\n",
      "33 literature\n",
      "34 museums\n",
      "35 high_cost\n",
      "36 low_cost\n",
      "37 medium_cost\n",
      "38 0\n",
      "39 1\n",
      "40 2\n",
      "41 3\n",
      "42 4\n",
      "43 5\n",
      "44 6\n",
      "45 7\n",
      "46 8\n",
      "47 9\n",
      "48 10\n",
      "49 11\n",
      "50 12\n",
      "51 13\n",
      "52 14\n",
      "53 15\n",
      "54 16\n",
      "55 17\n",
      "56 18\n",
      "57 19\n",
      "58 20\n",
      "59 21\n",
      "60 22\n",
      "61 23\n",
      "62 24\n",
      "63 25\n",
      "64 26\n",
      "65 27\n",
      "66 28\n",
      "67 29\n",
      "68 30\n",
      "69 31\n",
      "70 32\n",
      "71 33\n",
      "72 34\n",
      "73 35\n",
      "74 36\n",
      "75 37\n",
      "76 38\n",
      "77 39\n",
      "78 40\n",
      "79 41\n",
      "80 42\n",
      "81 43\n",
      "82 44\n",
      "83 45\n",
      "84 46\n",
      "85 47\n",
      "86 48\n",
      "87 49\n"
     ]
    }
   ],
   "source": [
    "# Print the full list of attributes with their indices\n",
    "for l in attribute_list:\n",
    "    print(attribute_list.index(l), l)"
   ]
  },
  {
   "cell_type": "code",
   "execution_count": 22,
   "id": "42f77d68",
   "metadata": {
    "pycharm": {
     "name": "#%%\n"
    }
   },
   "outputs": [],
   "source": [
    "# Define which features we would like to model\n",
    "# Some examples could be 'low_cost' to consider the cost of the tour,\n",
    "# or keywords as 'art', etc.\n",
    "features_to_model = ['low_cost', 'art']\n",
    "\n",
    "# Define the importance of those features that we want to attribute in a positional way\n",
    "# Default weight: 1\n",
    "importance_weights = [1, 1]\n",
    "\n",
    "# Extract the columns representing languages, and attribute a higher weight\n",
    "languages_columns = [1, 8]\n",
    "languages_weight = 10"
   ]
  },
  {
   "cell_type": "code",
   "execution_count": 23,
   "id": "ed0d65f8",
   "metadata": {
    "pycharm": {
     "name": "#%%\n"
    }
   },
   "outputs": [],
   "source": [
    "# Initialize the dictionaries for the chosen attributes and weights\n",
    "feature_columns_dict = dict()\n",
    "importance_weights_dict = dict()\n",
    "\n",
    "# Add the language feature to the two dictionaries\n",
    "feature_columns_dict.update({'language': languages_columns})\n",
    "importance_weights_dict.update({'language': languages_weight})"
   ]
  },
  {
   "cell_type": "code",
   "execution_count": 24,
   "outputs": [
    {
     "name": "stdout",
     "output_type": "stream",
     "text": [
      "{'language': [1, 8], 'low_cost': 36, 'art': 30}\n",
      "{'language': 10, 'low_cost': 1, 'art': 1}\n"
     ]
    }
   ],
   "source": [
    "# Build function to extract other features' indices and the corresponding weights to attribute\n",
    "def extract_feature(name, i):\n",
    "    # Update the dictionaries with indices and weights\n",
    "    feature_columns_dict.update({name: attribute_list.index(name)})\n",
    "    importance_weights_dict.update({name: importance_weights[i]})\n",
    "\n",
    "# Execute the operation\n",
    "for i in range(len(features_to_model)):\n",
    "    extract_feature(features_to_model[i], i)\n",
    "\n",
    "print(feature_columns_dict)\n",
    "print(importance_weights_dict)"
   ],
   "metadata": {
    "collapsed": false,
    "pycharm": {
     "name": "#%%\n"
    }
   }
  },
  {
   "cell_type": "code",
   "execution_count": 25,
   "id": "6d223a92",
   "metadata": {
    "pycharm": {
     "name": "#%%\n"
    }
   },
   "outputs": [],
   "source": [
    "# Create a copy of the original ICM to modify\n",
    "new_icm_df = icm_df.copy(deep=True)"
   ]
  },
  {
   "cell_type": "code",
   "execution_count": 26,
   "id": "72c8b80d",
   "metadata": {
    "pycharm": {
     "name": "#%%\n"
    }
   },
   "outputs": [],
   "source": [
    "# Modify the cell values with respect to the weights we want to give\n",
    "for feature in importance_weights_dict:\n",
    "\n",
    "    # If the weight is not default, modify the values\n",
    "    if importance_weights_dict[feature] > 1:\n",
    "\n",
    "        # Trace all columns assigned to the languages\n",
    "        if feature == 'language':\n",
    "            condition = (new_icm_df.label >= feature_columns_dict[feature][0]) & (\n",
    "                        new_icm_df.label <= feature_columns_dict[feature][1])\n",
    "\n",
    "        # Trace the specific feature\n",
    "        else:\n",
    "            condition = (new_icm_df.label == feature_columns_dict[feature])\n",
    "\n",
    "        # Find the rows with labels corresponding to the selected features, and update the values\n",
    "        new_icm_df.loc[condition, 'value'] = importance_weights_dict[feature]"
   ]
  },
  {
   "cell_type": "code",
   "execution_count": 27,
   "outputs": [
    {
     "data": {
      "text/plain": "      id label  value\n3      3     1     10\n5      5     1     10\n8      8     1     10\n9      9     1     10\n10    10     1     10\n...   ..   ...    ...\n4145  45    83      1\n4196  46    84      1\n4247  47    85      1\n4298  48    86      1\n4349  49    87      1\n\n[390 rows x 3 columns]",
      "text/html": "<div>\n<style scoped>\n    .dataframe tbody tr th:only-of-type {\n        vertical-align: middle;\n    }\n\n    .dataframe tbody tr th {\n        vertical-align: top;\n    }\n\n    .dataframe thead th {\n        text-align: right;\n    }\n</style>\n<table border=\"1\" class=\"dataframe\">\n  <thead>\n    <tr style=\"text-align: right;\">\n      <th></th>\n      <th>id</th>\n      <th>label</th>\n      <th>value</th>\n    </tr>\n  </thead>\n  <tbody>\n    <tr>\n      <th>3</th>\n      <td>3</td>\n      <td>1</td>\n      <td>10</td>\n    </tr>\n    <tr>\n      <th>5</th>\n      <td>5</td>\n      <td>1</td>\n      <td>10</td>\n    </tr>\n    <tr>\n      <th>8</th>\n      <td>8</td>\n      <td>1</td>\n      <td>10</td>\n    </tr>\n    <tr>\n      <th>9</th>\n      <td>9</td>\n      <td>1</td>\n      <td>10</td>\n    </tr>\n    <tr>\n      <th>10</th>\n      <td>10</td>\n      <td>1</td>\n      <td>10</td>\n    </tr>\n    <tr>\n      <th>...</th>\n      <td>...</td>\n      <td>...</td>\n      <td>...</td>\n    </tr>\n    <tr>\n      <th>4145</th>\n      <td>45</td>\n      <td>83</td>\n      <td>1</td>\n    </tr>\n    <tr>\n      <th>4196</th>\n      <td>46</td>\n      <td>84</td>\n      <td>1</td>\n    </tr>\n    <tr>\n      <th>4247</th>\n      <td>47</td>\n      <td>85</td>\n      <td>1</td>\n    </tr>\n    <tr>\n      <th>4298</th>\n      <td>48</td>\n      <td>86</td>\n      <td>1</td>\n    </tr>\n    <tr>\n      <th>4349</th>\n      <td>49</td>\n      <td>87</td>\n      <td>1</td>\n    </tr>\n  </tbody>\n</table>\n<p>390 rows × 3 columns</p>\n</div>"
     },
     "execution_count": 27,
     "metadata": {},
     "output_type": "execute_result"
    }
   ],
   "source": [
    "# Print the modified dataframe\n",
    "new_icm_df"
   ],
   "metadata": {
    "collapsed": false,
    "pycharm": {
     "name": "#%%\n"
    }
   }
  },
  {
   "cell_type": "code",
   "execution_count": 28,
   "id": "8b862764",
   "metadata": {
    "pycharm": {
     "name": "#%%\n"
    }
   },
   "outputs": [
    {
     "data": {
      "text/plain": "<50x88 sparse matrix of type '<class 'numpy.int64'>'\n\twith 390 stored elements in Compressed Sparse Row format>"
     },
     "execution_count": 28,
     "metadata": {},
     "output_type": "execute_result"
    }
   ],
   "source": [
    "# Build the modified ICM from the dataframe\n",
    "# Like the URM, also the ICM is built in CSR format for computational purpose\n",
    "# Row: tour_id, Column: attribute_id, Value: 1 if the attribute is present for the tour\n",
    "\n",
    "ICM_modified = sps.csr_matrix(\n",
    "    (new_icm_df[\"value\"].values,\n",
    "    (new_icm_df[\"id\"].values, new_icm_df[\"label\"].values))\n",
    ")\n",
    "\n",
    "ICM_modified"
   ]
  },
  {
   "cell_type": "code",
   "execution_count": 29,
   "id": "c617d3be",
   "metadata": {
    "pycharm": {
     "name": "#%%\n"
    }
   },
   "outputs": [],
   "source": [
    "# Define the portion of ICM used for training the model: here we use the entire ICM\n",
    "ICM_train = ICM_modified"
   ]
  },
  {
   "cell_type": "markdown",
   "id": "3ceda1a3",
   "metadata": {
    "pycharm": {
     "name": "#%% md\n"
    }
   },
   "source": [
    "## Build the model\n",
    "\n",
    "At this point all the necessary input data are prepared, and we proceed to build the recommendation algorithm."
   ]
  },
  {
   "cell_type": "markdown",
   "source": [
    "### Similarity Function\n",
    "A recommendation system learns from the past ratings and/or the attributes of the users. By evaluating the similarity between the tours, it is able to suggest tours that are similar to the ones that the tourist liked in the past, and also to recommend a tour liked by a tourist to similar tourists.\n",
    "\n",
    "To determine the degree of similarity between the tours, we choose to implement the **Cosine Similarity** function for the models. In our case, it consists in determining the number of common elements between two vectors $\\vec{i}$ and $\\vec{j}$ representing tours, and this can be computed with the **normalized dot product**:\n",
    "$$    s_{ij}=\\frac{\\vec{i}\\cdot \\vec{j}}{|\\vec{i}|_2\\cdot |\\vec{j}|_2}=cos(\\theta)   .$$\n",
    "\n",
    "For faster computation, we adopt a version of the cosine similarity based on vector products, with $M$ the reference matrix (URM or ICM):\n",
    "$$ W_{i,I}\n",
    "= cos(v_i, M_{I})\n",
    "= \\frac{v_i \\cdot M_{I}}{|| v_i || IW_{I} + shrink}  ,$$\n",
    "where\n",
    "$$ IW_{i} = \\sqrt{{\\Sigma_{u \\in U}{M_{u,i}^2}}}  .$$\n",
    "The shrink term is introduced to take into account the support of the vectors: vectors with larger number of non-zero elements in them are statistically more significant.\n",
    "\n",
    "Finally, the similarity values are stored in a **similarity matrix**, which establishes the pairwise correspondence between tours. This is fed to the models as weights."
   ],
   "metadata": {
    "collapsed": false,
    "pycharm": {
     "name": "#%% md\n"
    }
   }
  },
  {
   "cell_type": "code",
   "execution_count": 30,
   "outputs": [],
   "source": [
    "# Define the cosine similarity function based on vector products\n",
    "def vector_similarity(m: sps.csc_matrix, shrink: int):\n",
    "\n",
    "    # Compute the Euclidean norm of each column of the matrix m\n",
    "    item_weights = np.sqrt(\n",
    "        np.sum(m.power(2), axis=0)\n",
    "    ).A.flatten()\n",
    "\n",
    "    # Find the number of items\n",
    "    num_items = m.shape[1]\n",
    "\n",
    "    # Get the transposed matrix\n",
    "    matrix_t = m.T\n",
    "\n",
    "    # Initialize the empty weight matrix\n",
    "    weights = np.empty(shape=(num_items, num_items))\n",
    "\n",
    "    # Compute the similarity values as mentioned in the previous formula\n",
    "    # The results will be weights to give to the model\n",
    "    for item_id in range(num_items):\n",
    "        numerator = matrix_t.dot(m[:, item_id]).A.flatten()\n",
    "        denominator = item_weights[item_id] * item_weights + shrink + 1e-6\n",
    "\n",
    "        weights[item_id] = numerator / denominator\n",
    "\n",
    "    # The elements on the diagonal of the similarity matrix are set to 0,\n",
    "    # to force the fact that each element is not considered similar to itself!\n",
    "    np.fill_diagonal(weights, 0.0)\n",
    "\n",
    "    return weights"
   ],
   "metadata": {
    "collapsed": false,
    "pycharm": {
     "name": "#%%\n"
    }
   }
  },
  {
   "cell_type": "markdown",
   "source": [
    "Also in this case we report two different approaches: **Collaborative Filtering** (CF) and **Content-Based Filtering** (CBF)."
   ],
   "metadata": {
    "collapsed": false,
    "pycharm": {
     "name": "#%% md\n"
    }
   }
  },
  {
   "cell_type": "markdown",
   "id": "2dd1e1bc",
   "metadata": {
    "pycharm": {
     "name": "#%% md\n"
    }
   },
   "source": [
    "### Collaborative Filtering Model\n",
    "\n",
    "**Collaborative Filtering** models rely on the opinions of a community of tourists, without the need of tours' attributes. It essentially focuses on identifying patterns and similarities in interactions between tourists and tours based on the tourists' feedback.\n",
    "\n",
    "In this case, **item-based** collaborative filtering technique has been used. It calculates the similarity between each pair of tours, according to the number of tourists that have the same opinion on them."
   ]
  },
  {
   "cell_type": "code",
   "execution_count": 31,
   "id": "447baf10",
   "metadata": {
    "pycharm": {
     "name": "#%%\n"
    }
   },
   "outputs": [],
   "source": [
    "# Define the item-based collaborative filtering recommender\n",
    "class ItemCFRecommender(object):\n",
    "\n",
    "    # Initialize the input matrix\n",
    "    def __init__(self, URM):\n",
    "        self.URM = URM\n",
    "\n",
    "    # Fit the recommender with a chosen shrink value\n",
    "    def fit(self, shrink=1):\n",
    "        # Compute the pairwise similarity between guides using the URM\n",
    "        self.W_matrix = vector_similarity(self.URM.tocsc(), shrink=shrink)\n",
    "        # Print the weight matrix\n",
    "        # with np.printoptions(threshold=np.inf):\n",
    "        #     print(self.W_matrix)\n",
    "\n",
    "    # Generate recommendations for each tourist\n",
    "    # at: number of tours that we want to recommend to each tourist\n",
    "    # exclude_seen: if we want to avoid recommending the tours that the tourist has rated before\n",
    "    def recommend(self, user_id, at=None, exclude_seen=True):\n",
    "        user_profile = self.URM[user_id]\n",
    "        # Compute the scores using the dot product\n",
    "        scores = user_profile.dot(self.W_matrix).ravel()\n",
    "\n",
    "        # Filter the tours\n",
    "        if exclude_seen:\n",
    "            scores = self.filter_seen(user_id, scores)\n",
    "\n",
    "        # Rank the tours\n",
    "        ranking = scores.argsort()[::-1]\n",
    "\n",
    "        return ranking[:at]\n",
    "\n",
    "    # Tours that have been already rated by the tourist will be excluded in the recommendation\n",
    "    def filter_seen(self, user_id, scores):\n",
    "        # Retrieve the cells regarding the interactions of that specific tourist\n",
    "        start_pos = self.URM.indptr[user_id]\n",
    "        end_pos = self.URM.indptr[user_id+1]\n",
    "\n",
    "        # Extract the user profile\n",
    "        user_profile = self.URM.indices[start_pos:end_pos]\n",
    "\n",
    "        # Set the score of already rated tours to the minimum value\n",
    "        scores[user_profile] = -np.inf\n",
    "\n",
    "        return scores"
   ]
  },
  {
   "cell_type": "markdown",
   "id": "41d3f545",
   "metadata": {
    "pycharm": {
     "name": "#%% md\n"
    }
   },
   "source": [
    "### Content-Based Filtering Model\n",
    "\n",
    "A **Content-Based Filtering** model recommends tours to tourists based on the attributes of the tours themselves. It stands upon the assumption of recommending items similar to the ones a user liked in the past, and it requires a list of good quality attributes for the guides to work properly.\n",
    "\n",
    "In this case **item-based** CBF technique has been used. It suggests tours to tourists according to the similarity weights computed on the tours: two tours are similar if they have a great part of attributes in common."
   ]
  },
  {
   "cell_type": "code",
   "execution_count": 32,
   "id": "c0a31a9d",
   "metadata": {
    "pycharm": {
     "name": "#%%\n"
    }
   },
   "outputs": [],
   "source": [
    "# Define the item-based content-based filtering recommender\n",
    "class ItemCBFRecommender(object):\n",
    "\n",
    "    # Initialize the input matrices\n",
    "    def __init__(self, URM, ICM):\n",
    "        self.URM = URM\n",
    "        self.ICM = ICM\n",
    "\n",
    "    # Fit the recommender with a chosen shrink value\n",
    "    def fit(self, shrink=1):\n",
    "        # Compute the pairwise similarity between tours using the transposed ICM\n",
    "        self.W_matrix = vector_similarity(self.ICM.T.tocsc(), shrink=shrink)\n",
    "        # with np.printoptions(threshold=np.inf):\n",
    "        #     print(self.W_matrix)\n",
    "\n",
    "    # Generate recommendations for each tourist\n",
    "    # at: number of tours that we want to recommend to each tourist\n",
    "    # exclude_seen: if we want to avoid recommending the tours that the tourist has rated before\n",
    "    def recommend(self, user_id, at=None, exclude_seen=True):\n",
    "        user_profile = self.URM[user_id]\n",
    "        # Compute the scores using the dot product\n",
    "        scores = user_profile.dot(self.W_matrix).ravel()\n",
    "\n",
    "        # Filter the tours\n",
    "        if exclude_seen:\n",
    "            scores = self.filter_seen(user_id, scores)\n",
    "\n",
    "        # Rank the tours\n",
    "        ranking = scores.argsort()[::-1]\n",
    "\n",
    "        return ranking[:at]\n",
    "\n",
    "    # Tours that have been already rated by the tourist will be excluded in the recommendation\n",
    "    def filter_seen(self, user_id, scores):\n",
    "\n",
    "        # Retrieve the cells regarding the interactions of that specific tourist\n",
    "        start_pos = self.URM.indptr[user_id]\n",
    "        end_pos = self.URM.indptr[user_id+1]\n",
    "\n",
    "        # Extract the user profile\n",
    "        user_profile = self.URM.indices[start_pos:end_pos]\n",
    "\n",
    "        # Set the score of already rated tours to the minimum value\n",
    "        scores[user_profile] = -np.inf\n",
    "\n",
    "        return scores"
   ]
  },
  {
   "cell_type": "markdown",
   "id": "2b4149d9",
   "metadata": {
    "pycharm": {
     "name": "#%% md\n"
    }
   },
   "source": [
    "## Fit the model\n",
    "\n",
    "The recommenders are built and fit on the available input data."
   ]
  },
  {
   "cell_type": "code",
   "execution_count": 33,
   "id": "88242895",
   "metadata": {
    "pycharm": {
     "name": "#%%\n"
    }
   },
   "outputs": [],
   "source": [
    "# Select if building a collaborative filtering model or a content-based filtering model\n",
    "# Available options: 'cf', 'cbf'\n",
    "model_type = 'cbf'"
   ]
  },
  {
   "cell_type": "code",
   "execution_count": 34,
   "id": "c56de8e2",
   "metadata": {
    "pycharm": {
     "name": "#%%\n"
    }
   },
   "outputs": [],
   "source": [
    "# Collaborative filtering model\n",
    "# Input data: URM\n",
    "# The shrink value is a non-negative number that can be tuned\n",
    "if model_type == 'cf':\n",
    "    recommender = ItemCFRecommender(URM_train)\n",
    "    recommender.fit(shrink=0.5)"
   ]
  },
  {
   "cell_type": "code",
   "execution_count": 35,
   "outputs": [],
   "source": [
    "# Content-based filtering model\n",
    "# Input data: URM and ICM\n",
    "# The shrink value is a non-negative number that can be tuned\n",
    "if model_type == 'cbf':\n",
    "    recommender = ItemCBFRecommender(URM_train, ICM_train)\n",
    "    recommender.fit(shrink=0.5)"
   ],
   "metadata": {
    "collapsed": false,
    "pycharm": {
     "name": "#%%\n"
    }
   }
  },
  {
   "cell_type": "markdown",
   "source": [
    "## Generate outputs\n",
    "\n",
    "Here the generation of recommendations of guides to tourists is reported."
   ],
   "metadata": {
    "collapsed": false,
    "pycharm": {
     "name": "#%% md\n"
    }
   }
  },
  {
   "cell_type": "code",
   "execution_count": 36,
   "outputs": [],
   "source": [
    "# Set the number of tours to recommend to each tourist\n",
    "n_recommendations_per_tourist = 3"
   ],
   "metadata": {
    "collapsed": false,
    "pycharm": {
     "name": "#%%\n"
    }
   }
  },
  {
   "cell_type": "code",
   "execution_count": 37,
   "outputs": [
    {
     "name": "stderr",
     "output_type": "stream",
     "text": [
      "500it [00:00, 18518.39it/s]\n"
     ]
    }
   ],
   "source": [
    "# Generate recommendations for each tourist\n",
    "\n",
    "recommendations = []\n",
    "\n",
    "for i,id in tqdm(enumerate(arr_tourists)):\n",
    "    # at: number of guides to recommend to each tourist\n",
    "    # exclude_seen: if we want to exclude the guides already rated by this tourist\n",
    "    rec = recommender.recommend(id, at=n_recommendations_per_tourist, exclude_seen=True)\n",
    "    rec_list = rec\n",
    "\n",
    "    # Produce a string with the ids of the recommended guides\n",
    "    rec_row = ' '.join(str(s) for s in rec_list)\n",
    "    recommendations.append(rec_row)"
   ],
   "metadata": {
    "collapsed": false,
    "pycharm": {
     "name": "#%%\n"
    }
   }
  },
  {
   "cell_type": "code",
   "execution_count": 38,
   "outputs": [
    {
     "name": "stdout",
     "output_type": "stream",
     "text": [
      "User 0 - recommended tours: 12 45 37\n",
      "User 1 - recommended tours: 31 30 6\n",
      "User 2 - recommended tours: 34 48 29\n",
      "User 3 - recommended tours: 49 12 22\n",
      "User 4 - recommended tours: 37 26 39\n",
      "User 5 - recommended tours: 8 32 49\n",
      "User 6 - recommended tours: 11 42 3\n",
      "User 7 - recommended tours: 49 12 22\n",
      "User 8 - recommended tours: 13 8 23\n",
      "User 9 - recommended tours: 38 27 35\n"
     ]
    }
   ],
   "source": [
    "# print recommendations for the first 10 users\n",
    "for i in range(10):\n",
    "    print(\"User \" + str(arr_tourists[i]) + \" - recommended tours: \" + recommendations[i])"
   ],
   "metadata": {
    "collapsed": false,
    "pycharm": {
     "name": "#%%\n"
    }
   }
  },
  {
   "cell_type": "code",
   "execution_count": 39,
   "outputs": [
    {
     "data": {
      "text/plain": "     tourist_id     tours\n0             0  12 45 37\n1             1   31 30 6\n2             2  34 48 29\n3             3  49 12 22\n4             4  37 26 39\n..          ...       ...\n495         495  41 36 39\n496         496    8 44 9\n497         497    5 9 17\n498         498  49 12 22\n499         499   17 26 1\n\n[500 rows x 2 columns]",
      "text/html": "<div>\n<style scoped>\n    .dataframe tbody tr th:only-of-type {\n        vertical-align: middle;\n    }\n\n    .dataframe tbody tr th {\n        vertical-align: top;\n    }\n\n    .dataframe thead th {\n        text-align: right;\n    }\n</style>\n<table border=\"1\" class=\"dataframe\">\n  <thead>\n    <tr style=\"text-align: right;\">\n      <th></th>\n      <th>tourist_id</th>\n      <th>tours</th>\n    </tr>\n  </thead>\n  <tbody>\n    <tr>\n      <th>0</th>\n      <td>0</td>\n      <td>12 45 37</td>\n    </tr>\n    <tr>\n      <th>1</th>\n      <td>1</td>\n      <td>31 30 6</td>\n    </tr>\n    <tr>\n      <th>2</th>\n      <td>2</td>\n      <td>34 48 29</td>\n    </tr>\n    <tr>\n      <th>3</th>\n      <td>3</td>\n      <td>49 12 22</td>\n    </tr>\n    <tr>\n      <th>4</th>\n      <td>4</td>\n      <td>37 26 39</td>\n    </tr>\n    <tr>\n      <th>...</th>\n      <td>...</td>\n      <td>...</td>\n    </tr>\n    <tr>\n      <th>495</th>\n      <td>495</td>\n      <td>41 36 39</td>\n    </tr>\n    <tr>\n      <th>496</th>\n      <td>496</td>\n      <td>8 44 9</td>\n    </tr>\n    <tr>\n      <th>497</th>\n      <td>497</td>\n      <td>5 9 17</td>\n    </tr>\n    <tr>\n      <th>498</th>\n      <td>498</td>\n      <td>49 12 22</td>\n    </tr>\n    <tr>\n      <th>499</th>\n      <td>499</td>\n      <td>17 26 1</td>\n    </tr>\n  </tbody>\n</table>\n<p>500 rows × 2 columns</p>\n</div>"
     },
     "execution_count": 39,
     "metadata": {},
     "output_type": "execute_result"
    }
   ],
   "source": [
    "# Show the output dataframe\n",
    "result_df = pd.DataFrame(\n",
    "    data = {'tourist_id': arr_tourists,\n",
    "            'tours': recommendations}\n",
    ")\n",
    "\n",
    "result_df"
   ],
   "metadata": {
    "collapsed": false,
    "pycharm": {
     "name": "#%%\n"
    }
   }
  },
  {
   "cell_type": "markdown",
   "source": [
    "Let's randomly choose a tourist and check the recommendations."
   ],
   "metadata": {
    "collapsed": false,
    "pycharm": {
     "name": "#%% md\n"
    }
   }
  },
  {
   "cell_type": "code",
   "execution_count": 72,
   "outputs": [],
   "source": [
    "# Show some examples: select a tourist by id to visualize the received recommendations\n",
    "sample_tourist = 100"
   ],
   "metadata": {
    "collapsed": false,
    "pycharm": {
     "name": "#%%\n"
    }
   }
  },
  {
   "cell_type": "code",
   "execution_count": 73,
   "outputs": [
    {
     "data": {
      "text/plain": "                                                         100\nid                                                       100\nlanguages                                        ['spanish']\nkeywords   ['art', 'cinema', 'literature', 'rafting', 'mu...",
      "text/html": "<div>\n<style scoped>\n    .dataframe tbody tr th:only-of-type {\n        vertical-align: middle;\n    }\n\n    .dataframe tbody tr th {\n        vertical-align: top;\n    }\n\n    .dataframe thead th {\n        text-align: right;\n    }\n</style>\n<table border=\"1\" class=\"dataframe\">\n  <thead>\n    <tr style=\"text-align: right;\">\n      <th></th>\n      <th>100</th>\n    </tr>\n  </thead>\n  <tbody>\n    <tr>\n      <th>id</th>\n      <td>100</td>\n    </tr>\n    <tr>\n      <th>languages</th>\n      <td>['spanish']</td>\n    </tr>\n    <tr>\n      <th>keywords</th>\n      <td>['art', 'cinema', 'literature', 'rafting', 'mu...</td>\n    </tr>\n  </tbody>\n</table>\n</div>"
     },
     "execution_count": 73,
     "metadata": {},
     "output_type": "execute_result"
    }
   ],
   "source": [
    "# Show the selected tourist\n",
    "pd.DataFrame(tourist_df.loc[sample_tourist,:])"
   ],
   "metadata": {
    "collapsed": false,
    "pycharm": {
     "name": "#%%\n"
    }
   }
  },
  {
   "cell_type": "code",
   "execution_count": 74,
   "outputs": [
    {
     "data": {
      "text/plain": "    id  guide                   languages   city  \\\n22  22     22          [chinese, spanish]  Lecce   \n6    6      6  [english, chinese, french]  Lecce   \n36  36     36                   [spanish]  Lecce   \n\n                                          attractions               keywords  \\\n22           [Basilica di Santa Croce, Roman Theatre]  [archeology, history]   \n6       [Piazza Sant'Oronzo, Villa Comunale di Lecce]     [art, countryside]   \n36  [San Giovanni Battista Church, Piazza Sant'Oro...      [art, literature]   \n\n    price        date  duration  \n22     18  2024-06-29        12  \n6      38  2024-06-28        10  \n36     31  2024-06-09        11  ",
      "text/html": "<div>\n<style scoped>\n    .dataframe tbody tr th:only-of-type {\n        vertical-align: middle;\n    }\n\n    .dataframe tbody tr th {\n        vertical-align: top;\n    }\n\n    .dataframe thead th {\n        text-align: right;\n    }\n</style>\n<table border=\"1\" class=\"dataframe\">\n  <thead>\n    <tr style=\"text-align: right;\">\n      <th></th>\n      <th>id</th>\n      <th>guide</th>\n      <th>languages</th>\n      <th>city</th>\n      <th>attractions</th>\n      <th>keywords</th>\n      <th>price</th>\n      <th>date</th>\n      <th>duration</th>\n    </tr>\n  </thead>\n  <tbody>\n    <tr>\n      <th>22</th>\n      <td>22</td>\n      <td>22</td>\n      <td>[chinese, spanish]</td>\n      <td>Lecce</td>\n      <td>[Basilica di Santa Croce, Roman Theatre]</td>\n      <td>[archeology, history]</td>\n      <td>18</td>\n      <td>2024-06-29</td>\n      <td>12</td>\n    </tr>\n    <tr>\n      <th>6</th>\n      <td>6</td>\n      <td>6</td>\n      <td>[english, chinese, french]</td>\n      <td>Lecce</td>\n      <td>[Piazza Sant'Oronzo, Villa Comunale di Lecce]</td>\n      <td>[art, countryside]</td>\n      <td>38</td>\n      <td>2024-06-28</td>\n      <td>10</td>\n    </tr>\n    <tr>\n      <th>36</th>\n      <td>36</td>\n      <td>36</td>\n      <td>[spanish]</td>\n      <td>Lecce</td>\n      <td>[San Giovanni Battista Church, Piazza Sant'Oro...</td>\n      <td>[art, literature]</td>\n      <td>31</td>\n      <td>2024-06-09</td>\n      <td>11</td>\n    </tr>\n  </tbody>\n</table>\n</div>"
     },
     "execution_count": 74,
     "metadata": {},
     "output_type": "execute_result"
    }
   ],
   "source": [
    "# Extract the indices of the recommended tours\n",
    "sample_tour_list = list(map(int, recommendations[sample_tourist].split(\" \")))\n",
    "\n",
    "# Show the list of recommended tours\n",
    "tour_df.loc[sample_tour_list,:]"
   ],
   "metadata": {
    "collapsed": false,
    "pycharm": {
     "name": "#%%\n"
    }
   }
  }
 ],
 "metadata": {
  "kernelspec": {
   "display_name": "Python 3 (ipykernel)",
   "language": "python",
   "name": "python3"
  },
  "language_info": {
   "codemirror_mode": {
    "name": "ipython",
    "version": 3
   },
   "file_extension": ".py",
   "mimetype": "text/x-python",
   "name": "python",
   "nbconvert_exporter": "python",
   "pygments_lexer": "ipython3",
   "version": "3.9.12"
  }
 },
 "nbformat": 4,
 "nbformat_minor": 5
}
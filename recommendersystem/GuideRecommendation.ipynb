{
 "cells": [
  {
   "cell_type": "markdown",
   "id": "25a69c6c",
   "metadata": {
    "pycharm": {
     "name": "#%% md\n"
    }
   },
   "source": [
    "# Guide Recommendation Pipeline\n",
    "The guide recommendation system aims to provide the tourists with suggestions about some potentially interesting guides for them, according to the users' preferences and requests.\n",
    "\n",
    "Recommendation systems are decision-support systems which can identify and learn patterns among sources of information. They are able to achieve great performance when a good amount of high-quality data is available.\n",
    "\n",
    "The designed system relies upon datasets of:\n",
    "- Ratings given by tourists to specific guides;\n",
    "- Set of attributes about the guides;\n",
    "- Set of attributes about the tourists."
   ]
  },
  {
   "cell_type": "markdown",
   "id": "a04247e2",
   "metadata": {
    "pycharm": {
     "name": "#%% md\n"
    }
   },
   "source": [
    "## Define working environment"
   ]
  },
  {
   "cell_type": "code",
   "execution_count": 1,
   "id": "8738f9e9",
   "metadata": {
    "pycharm": {
     "name": "#%%\n"
    }
   },
   "outputs": [],
   "source": [
    "# Import libraries\n",
    "\n",
    "import numpy as np\n",
    "import pandas as pd\n",
    "import scipy.sparse as sps\n",
    "import ast\n",
    "\n",
    "from tqdm import tqdm"
   ]
  },
  {
   "cell_type": "markdown",
   "id": "cba01366",
   "metadata": {
    "pycharm": {
     "name": "#%% md\n"
    }
   },
   "source": [
    "## Load and preprocess data\n",
    "\n",
    "In this part we are loading the previously generated dataframes:\n",
    "- tourists.csv with the id, languages spoken, and keywords of the tourists.\n",
    "- guides.csv with various attributes of the guides.\n",
    "- guides_ratings.csv which contains the tourist-guide interactions.\n"
   ]
  },
  {
   "cell_type": "code",
   "execution_count": 2,
   "id": "f7455c74",
   "metadata": {
    "pycharm": {
     "name": "#%%\n"
    }
   },
   "outputs": [
    {
     "data": {
      "text/plain": "      id      languages                                           keywords\n0      0    ['spanish']           ['rafting', 'countryside', 'literature']\n1      1    ['chinese']             ['art', 'wine', 'literature', 'sport']\n2      2    ['italian']  ['sport', 'rafting', 'cinema', 'museums', 'mus...\n3      3    ['spanish']                                           ['beer']\n4      4     ['french']  ['tracking', 'food', 'art', 'countryside', 'ra...\n..   ...            ...                                                ...\n495  495     ['french']  ['music', 'museums', 'literature', 'cinema', '...\n496  496  ['bulgarian']  ['countryside', 'food', 'wine', 'music', 'hist...\n497  497     ['french']  ['music', 'beer', 'rafting', 'museums', 'track...\n498  498    ['italian']                                          ['sport']\n499  499    ['italian']   ['archeology', 'countryside', 'rafting', 'wine']\n\n[500 rows x 3 columns]",
      "text/html": "<div>\n<style scoped>\n    .dataframe tbody tr th:only-of-type {\n        vertical-align: middle;\n    }\n\n    .dataframe tbody tr th {\n        vertical-align: top;\n    }\n\n    .dataframe thead th {\n        text-align: right;\n    }\n</style>\n<table border=\"1\" class=\"dataframe\">\n  <thead>\n    <tr style=\"text-align: right;\">\n      <th></th>\n      <th>id</th>\n      <th>languages</th>\n      <th>keywords</th>\n    </tr>\n  </thead>\n  <tbody>\n    <tr>\n      <th>0</th>\n      <td>0</td>\n      <td>['spanish']</td>\n      <td>['rafting', 'countryside', 'literature']</td>\n    </tr>\n    <tr>\n      <th>1</th>\n      <td>1</td>\n      <td>['chinese']</td>\n      <td>['art', 'wine', 'literature', 'sport']</td>\n    </tr>\n    <tr>\n      <th>2</th>\n      <td>2</td>\n      <td>['italian']</td>\n      <td>['sport', 'rafting', 'cinema', 'museums', 'mus...</td>\n    </tr>\n    <tr>\n      <th>3</th>\n      <td>3</td>\n      <td>['spanish']</td>\n      <td>['beer']</td>\n    </tr>\n    <tr>\n      <th>4</th>\n      <td>4</td>\n      <td>['french']</td>\n      <td>['tracking', 'food', 'art', 'countryside', 'ra...</td>\n    </tr>\n    <tr>\n      <th>...</th>\n      <td>...</td>\n      <td>...</td>\n      <td>...</td>\n    </tr>\n    <tr>\n      <th>495</th>\n      <td>495</td>\n      <td>['french']</td>\n      <td>['music', 'museums', 'literature', 'cinema', '...</td>\n    </tr>\n    <tr>\n      <th>496</th>\n      <td>496</td>\n      <td>['bulgarian']</td>\n      <td>['countryside', 'food', 'wine', 'music', 'hist...</td>\n    </tr>\n    <tr>\n      <th>497</th>\n      <td>497</td>\n      <td>['french']</td>\n      <td>['music', 'beer', 'rafting', 'museums', 'track...</td>\n    </tr>\n    <tr>\n      <th>498</th>\n      <td>498</td>\n      <td>['italian']</td>\n      <td>['sport']</td>\n    </tr>\n    <tr>\n      <th>499</th>\n      <td>499</td>\n      <td>['italian']</td>\n      <td>['archeology', 'countryside', 'rafting', 'wine']</td>\n    </tr>\n  </tbody>\n</table>\n<p>500 rows × 3 columns</p>\n</div>"
     },
     "execution_count": 2,
     "metadata": {},
     "output_type": "execute_result"
    }
   ],
   "source": [
    "# Load dataframe for tourist attributes\n",
    "\n",
    "tourist_file = open('Data/tourists_500.csv')\n",
    "\n",
    "tourist_df = pd.read_csv(\n",
    "    filepath_or_buffer = tourist_file,\n",
    "    sep = ';',\n",
    "    header = 0\n",
    ")\n",
    "\n",
    "tourist_df.rename(columns={tourist_df.columns[0]: 'id'}, inplace=True)\n",
    "\n",
    "tourist_df"
   ]
  },
  {
   "cell_type": "code",
   "execution_count": 3,
   "id": "af9da72b",
   "metadata": {
    "pycharm": {
     "name": "#%%\n"
    },
    "scrolled": true
   },
   "outputs": [
    {
     "data": {
      "text/plain": "    id  gender               name  birth_date  now_available  \\\n0    0    male       Henry Robles  1996-10-16           True   \n1    1  female        Raven Burke  2004-05-14           True   \n2    2  female        Nancy Keith  1984-08-04           True   \n3    3    male   Michael Mitchell  1981-08-22           True   \n4    4    male        John Bailey  1971-10-09           True   \n5    5    male       Justin Allen  1987-10-04           True   \n6    6    male       Jose Russell  1995-01-09           True   \n7    7    male         Jack Smith  1981-07-28           True   \n8    8    male    Victor Gonzalez  2002-09-04           True   \n9    9    male         John Brown  1990-02-18           True   \n10  10  female    Victoria Pierce  1978-02-07           True   \n11  11  female     Desiree Chavez  1966-04-27           True   \n12  12  female      Lindsey Munoz  1968-07-20           True   \n13  13  female       Megan Turner  1965-10-17           True   \n14  14    male        Jose Sexton  1987-10-22           True   \n15  15    male     Richard Conway  1978-07-16           True   \n16  16    male    Benjamin Taylor  1959-06-11           True   \n17  17    male      Stephen Myers  1971-01-14           True   \n18  18    male       Craig Conrad  1988-08-14           True   \n19  19  female     Cynthia Peters  1972-05-02           True   \n20  20  female   Stephanie Garcia  2001-12-18           True   \n21  21    male       Donald Olson  1973-01-02           True   \n22  22  female    Meghan Sandoval  1969-04-05           True   \n23  23  female     Brenda Hartman  1999-09-02           True   \n24  24  female  Cynthia Armstrong  1996-07-15           True   \n25  25  female     Rebecca Miller  1988-04-22           True   \n26  26    male     Michael Watson  1985-09-27           True   \n27  27  female           Amy Ford  1992-05-11           True   \n28  28  female    Jackie Peterson  1969-11-26           True   \n29  29  female      Melanie Huber  1965-01-25           True   \n30  30  female  Samantha Richards  1990-05-21           True   \n31  31    male       James Jordan  1984-05-03           True   \n32  32  female       Sarah Cortez  1960-11-16           True   \n33  33    male        Kevin Ramos  1965-07-30           True   \n34  34  female    Veronica Brewer  1964-01-24           True   \n35  35    male        Michael Cox  1999-08-06           True   \n36  36    male         Ryan Garza  1980-04-28           True   \n37  37    male     Vincent Guzman  1971-05-03           True   \n38  38  female          Dana Ford  1984-10-02           True   \n39  39  female  Caitlyn Hernandez  1985-10-13           True   \n40  40    male      Scott Estrada  1993-03-14           True   \n41  41  female      Allison Smith  1984-06-26           True   \n42  42  female      Melinda Mccoy  2003-03-17           True   \n43  43    male   Michael Anderson  1972-10-10           True   \n44  44  female   Cassandra Austin  2001-02-27           True   \n45  45  female       Lisa Walters  1989-05-14           True   \n46  46    male       Michael Webb  1962-01-29           True   \n47  47  female   Gabriella Garcia  1976-05-19           True   \n48  48  female   Jessica Mitchell  1971-11-24           True   \n49  49    male         Paul Olsen  1995-09-12           True   \n\n                          languages_spoken  price      education  \\\n0                                [english]     25    high-school   \n1                         [italian, dutch]     36  middle-school   \n2               [chinese, french, english]     34            phd   \n3                              [bulgarian]     46       bachelor   \n4                       [deutsche, french]     30         master   \n5             [deutsche, dutch, bulgarian]     27  middle-school   \n6               [english, chinese, french]     34  middle-school   \n7        [spanish, dutch, french, italian]     33       bachelor   \n8            [bulgarian, english, chinese]     31  middle-school   \n9     [chinese, bulgarian, dutch, english]     37            phd   \n10                   [bulgarian, deutsche]     23    high-school   \n11                             [bulgarian]     23            phd   \n12                [dutch, french, italian]     19       bachelor   \n13                      [chinese, english]     27         master   \n14                       [chinese, french]     40  middle-school   \n15                     [deutsche, chinese]     31  middle-school   \n16            [spanish, bulgarian, french]     32  middle-school   \n17                                 [dutch]     26         master   \n18                        [italian, dutch]     24       bachelor   \n19          [bulgarian, deutsche, english]     35  middle-school   \n20                      [deutsche, french]     43         master   \n21                               [chinese]     26    high-school   \n22                      [chinese, spanish]     25    high-school   \n23           [english, italian, bulgarian]     20  middle-school   \n24             [dutch, italian, bulgarian]     28    high-school   \n25                             [bulgarian]     31            phd   \n26                                 [dutch]     30            phd   \n27                               [italian]     30            phd   \n28                               [spanish]     25  middle-school   \n29                    [bulgarian, chinese]     28         master   \n30             [french, deutsche, english]     27       bachelor   \n31             [deutsche, french, english]     23         master   \n32                     [french, bulgarian]     28            phd   \n33                                [french]     26  middle-school   \n34  [chinese, spanish, bulgarian, italian]     28  middle-school   \n35                       [italian, french]     30         master   \n36                               [spanish]     26            phd   \n37                                 [dutch]     26         master   \n38                               [italian]     28         master   \n39                        [spanish, dutch]     26  middle-school   \n40                               [italian]     21       bachelor   \n41                               [spanish]     22       bachelor   \n42                             [bulgarian]     34       bachelor   \n43                              [deutsche]     34         master   \n44           [chinese, italian, bulgarian]     25         master   \n45                [chinese, french, dutch]     17         master   \n46                               [chinese]     35            phd   \n47              [italian, dutch, deutsche]     34  middle-school   \n48                    [italian, bulgarian]     30    high-school   \n49                     [french, bulgarian]     32  middle-school   \n\n                                       biography  \\\n0                   Community development worker   \n1                              Quantity surveyor   \n2                        Secretary/administrator   \n3   Lighting technician, broadcasting/film/video   \n4                      Estate manager/land agent   \n5                                 Microbiologist   \n6                          Pharmacist, community   \n7                                Theatre manager   \n8                                     Geochemist   \n9          Development worker, international aid   \n10                            Analytical chemist   \n11                    Lecturer, higher education   \n12                                       Surgeon   \n13                 Clinical molecular geneticist   \n14                       Physiological scientist   \n15          Accountant, chartered public finance   \n16                    Designer, interior/spatial   \n17                               Producer, radio   \n18                              Paediatric nurse   \n19                      Chief Technology Officer   \n20                            Field seismologist   \n21                                Data scientist   \n22                           Magazine journalist   \n23                         Child psychotherapist   \n24                          Maintenance engineer   \n25                            Theme park manager   \n26                              Paediatric nurse   \n27                       Teacher, primary school   \n28                      Educational psychologist   \n29                     Health and safety adviser   \n30                             Food technologist   \n31                               Arboriculturist   \n32           Chartered public finance accountant   \n33                             Recycling officer   \n34                         Community arts worker   \n35                                  Tour manager   \n36                           Retail merchandiser   \n37                                          Copy   \n38          Accountant, chartered public finance   \n39                             Financial adviser   \n40                               Mining engineer   \n41                             Nurse, children's   \n42                           Animal technologist   \n43              Armed forces operational officer   \n44                    Lecturer, higher education   \n45                             Financial manager   \n46             Sales promotion account executive   \n47                    Building services engineer   \n48               Geophysicist/field seismologist   \n49                        Conservator, furniture   \n\n                                             keywords  \\\n0                                           [museums]   \n1                    [cinema, rafting, history, wine]   \n2                             [food, archeology, art]   \n3                         [countryside, rafting, art]   \n4                       [countryside, tracking, beer]   \n5                                                  []   \n6                               [rafting, art, sport]   \n7                   [museums, art, countryside, wine]   \n8                         [literature, cinema, music]   \n9                                           [museums]   \n10     [cinema, rafting, sport, museums, countryside]   \n11                            [cinema, beer, rafting]   \n12                               [sport, music, beer]   \n13                          [sport, archeology, beer]   \n14                                          [museums]   \n15                [music, food, tracking, archeology]   \n16                         [countryside, music, beer]   \n17                                 [wine, sport, art]   \n18                                             [food]   \n19                                                 []   \n20                           [rafting, museums, food]   \n21                                           [cinema]   \n22  [history, countryside, cinema, literature, music]   \n23                                         [tracking]   \n24                                                 []   \n25                                       [literature]   \n26                          [tracking, beer, museums]   \n27                                [countryside, beer]   \n28     [food, rafting, museums, music, art, tracking]   \n29                 [archeology, literature, tracking]   \n30                                            [music]   \n31                         [music, countryside, food]   \n32                                [archeology, music]   \n33             [beer, music, countryside, archeology]   \n34                                                 []   \n35                                            [music]   \n36                                                 []   \n37                                                 []   \n38                                                 []   \n39                                          [history]   \n40                                      [beer, sport]   \n41                                             [food]   \n42                                  [tracking, sport]   \n43                               [wine, sport, music]   \n44                                   [tracking, food]   \n45                                [tracking, history]   \n46                       [history, rafting, tracking]   \n47                             [countryside, history]   \n48                                                 []   \n49                            [countryside, tracking]   \n\n                                     current_location  experience  \n0   {'lat': 40.342693584880706, 'lon': 18.16438078...           9  \n1   {'lat': 40.3367551413547, 'lon': 18.1569120995...           1  \n2   {'lat': 40.362447049660204, 'lon': 18.14225129...          18  \n3   {'lat': 40.36584086550253, 'lon': 18.183002910...          18  \n4   {'lat': 40.354724889812935, 'lon': 18.20308322...          22  \n5   {'lat': 40.35854623058413, 'lon': 18.183459879...           4  \n6   {'lat': 40.35774331848761, 'lon': 18.163273185...           1  \n7   {'lat': 40.365193043282794, 'lon': 18.18548169...           5  \n8   {'lat': 40.35265552781134, 'lon': 18.151723396...           4  \n9   {'lat': 40.33774657696426, 'lon': 18.182064664...          15  \n10  {'lat': 40.36612881009787, 'lon': 18.182042843...          19  \n11  {'lat': 40.367394960036485, 'lon': 18.17553586...          16  \n12  {'lat': 40.34268462008425, 'lon': 18.187542175...           2  \n13  {'lat': 40.35377358678542, 'lon': 18.174728239...           8  \n14  {'lat': 40.353069674191346, 'lon': 18.17755576...           9  \n15  {'lat': 40.35272705494921, 'lon': 18.165705019...           4  \n16  {'lat': 40.32347428820915, 'lon': 18.164571467...          20  \n17  {'lat': 40.36624424923941, 'lon': 18.174443383...          10  \n18  {'lat': 40.362871505646005, 'lon': 18.18292777...           6  \n19  {'lat': 40.339915788807765, 'lon': 18.18379781...          18  \n20  {'lat': 40.357612936236265, 'lon': 18.16907898...           5  \n21  {'lat': 40.342846292499104, 'lon': 18.16089760...          27  \n22  {'lat': 40.36846436096489, 'lon': 18.171263566...          24  \n23  {'lat': 40.364408581391295, 'lon': 18.16428124...           6  \n24  {'lat': 40.32998981194129, 'lon': 18.175342312...           5  \n25  {'lat': 40.36710284805045, 'lon': 18.179956956...          17  \n26  {'lat': 40.37981446263931, 'lon': 18.178854600...           3  \n27  {'lat': 40.3457074414046, 'lon': 18.1747654675...          14  \n28  {'lat': 40.35079556972286, 'lon': 18.181927024...          20  \n29  {'lat': 40.35465462623879, 'lon': 18.172666005...          14  \n30  {'lat': 40.361047668976795, 'lon': 18.18633484...           2  \n31  {'lat': 40.339171732936364, 'lon': 18.16792590...           5  \n32  {'lat': 40.343414579847, 'lon': 18.18565562805...          41  \n33  {'lat': 40.34424559835338, 'lon': 18.174907197...           2  \n34  {'lat': 40.38198340911851, 'lon': 18.173378831...          34  \n35  {'lat': 40.36699713437984, 'lon': 18.165786470...           1  \n36  {'lat': 40.358649720289904, 'lon': 18.16378056...           2  \n37  {'lat': 40.3604075695112, 'lon': 18.1615738690...           1  \n38  {'lat': 40.36497247240833, 'lon': 18.173581152...           6  \n39  {'lat': 40.35901486939172, 'lon': 18.166553513...           2  \n40  {'lat': 40.34034377570991, 'lon': 18.188590844...           6  \n41  {'lat': 40.356194515663795, 'lon': 18.16539593...           6  \n42  {'lat': 40.349356335154205, 'lon': 18.18610449...           2  \n43  {'lat': 40.356561258599, 'lon': 18.17741263290...          30  \n44  {'lat': 40.34725861741012, 'lon': 18.185162322...           4  \n45  {'lat': 40.35881498111186, 'lon': 18.158864927...           7  \n46  {'lat': 40.34171672836494, 'lon': 18.178777448...          29  \n47  {'lat': 40.36082148859915, 'lon': 18.183171947...           2  \n48  {'lat': 40.34687214441545, 'lon': 18.186650378...          28  \n49  {'lat': 40.356077323370634, 'lon': 18.15442986...           7  ",
      "text/html": "<div>\n<style scoped>\n    .dataframe tbody tr th:only-of-type {\n        vertical-align: middle;\n    }\n\n    .dataframe tbody tr th {\n        vertical-align: top;\n    }\n\n    .dataframe thead th {\n        text-align: right;\n    }\n</style>\n<table border=\"1\" class=\"dataframe\">\n  <thead>\n    <tr style=\"text-align: right;\">\n      <th></th>\n      <th>id</th>\n      <th>gender</th>\n      <th>name</th>\n      <th>birth_date</th>\n      <th>now_available</th>\n      <th>languages_spoken</th>\n      <th>price</th>\n      <th>education</th>\n      <th>biography</th>\n      <th>keywords</th>\n      <th>current_location</th>\n      <th>experience</th>\n    </tr>\n  </thead>\n  <tbody>\n    <tr>\n      <th>0</th>\n      <td>0</td>\n      <td>male</td>\n      <td>Henry Robles</td>\n      <td>1996-10-16</td>\n      <td>True</td>\n      <td>[english]</td>\n      <td>25</td>\n      <td>high-school</td>\n      <td>Community development worker</td>\n      <td>[museums]</td>\n      <td>{'lat': 40.342693584880706, 'lon': 18.16438078...</td>\n      <td>9</td>\n    </tr>\n    <tr>\n      <th>1</th>\n      <td>1</td>\n      <td>female</td>\n      <td>Raven Burke</td>\n      <td>2004-05-14</td>\n      <td>True</td>\n      <td>[italian, dutch]</td>\n      <td>36</td>\n      <td>middle-school</td>\n      <td>Quantity surveyor</td>\n      <td>[cinema, rafting, history, wine]</td>\n      <td>{'lat': 40.3367551413547, 'lon': 18.1569120995...</td>\n      <td>1</td>\n    </tr>\n    <tr>\n      <th>2</th>\n      <td>2</td>\n      <td>female</td>\n      <td>Nancy Keith</td>\n      <td>1984-08-04</td>\n      <td>True</td>\n      <td>[chinese, french, english]</td>\n      <td>34</td>\n      <td>phd</td>\n      <td>Secretary/administrator</td>\n      <td>[food, archeology, art]</td>\n      <td>{'lat': 40.362447049660204, 'lon': 18.14225129...</td>\n      <td>18</td>\n    </tr>\n    <tr>\n      <th>3</th>\n      <td>3</td>\n      <td>male</td>\n      <td>Michael Mitchell</td>\n      <td>1981-08-22</td>\n      <td>True</td>\n      <td>[bulgarian]</td>\n      <td>46</td>\n      <td>bachelor</td>\n      <td>Lighting technician, broadcasting/film/video</td>\n      <td>[countryside, rafting, art]</td>\n      <td>{'lat': 40.36584086550253, 'lon': 18.183002910...</td>\n      <td>18</td>\n    </tr>\n    <tr>\n      <th>4</th>\n      <td>4</td>\n      <td>male</td>\n      <td>John Bailey</td>\n      <td>1971-10-09</td>\n      <td>True</td>\n      <td>[deutsche, french]</td>\n      <td>30</td>\n      <td>master</td>\n      <td>Estate manager/land agent</td>\n      <td>[countryside, tracking, beer]</td>\n      <td>{'lat': 40.354724889812935, 'lon': 18.20308322...</td>\n      <td>22</td>\n    </tr>\n    <tr>\n      <th>5</th>\n      <td>5</td>\n      <td>male</td>\n      <td>Justin Allen</td>\n      <td>1987-10-04</td>\n      <td>True</td>\n      <td>[deutsche, dutch, bulgarian]</td>\n      <td>27</td>\n      <td>middle-school</td>\n      <td>Microbiologist</td>\n      <td>[]</td>\n      <td>{'lat': 40.35854623058413, 'lon': 18.183459879...</td>\n      <td>4</td>\n    </tr>\n    <tr>\n      <th>6</th>\n      <td>6</td>\n      <td>male</td>\n      <td>Jose Russell</td>\n      <td>1995-01-09</td>\n      <td>True</td>\n      <td>[english, chinese, french]</td>\n      <td>34</td>\n      <td>middle-school</td>\n      <td>Pharmacist, community</td>\n      <td>[rafting, art, sport]</td>\n      <td>{'lat': 40.35774331848761, 'lon': 18.163273185...</td>\n      <td>1</td>\n    </tr>\n    <tr>\n      <th>7</th>\n      <td>7</td>\n      <td>male</td>\n      <td>Jack Smith</td>\n      <td>1981-07-28</td>\n      <td>True</td>\n      <td>[spanish, dutch, french, italian]</td>\n      <td>33</td>\n      <td>bachelor</td>\n      <td>Theatre manager</td>\n      <td>[museums, art, countryside, wine]</td>\n      <td>{'lat': 40.365193043282794, 'lon': 18.18548169...</td>\n      <td>5</td>\n    </tr>\n    <tr>\n      <th>8</th>\n      <td>8</td>\n      <td>male</td>\n      <td>Victor Gonzalez</td>\n      <td>2002-09-04</td>\n      <td>True</td>\n      <td>[bulgarian, english, chinese]</td>\n      <td>31</td>\n      <td>middle-school</td>\n      <td>Geochemist</td>\n      <td>[literature, cinema, music]</td>\n      <td>{'lat': 40.35265552781134, 'lon': 18.151723396...</td>\n      <td>4</td>\n    </tr>\n    <tr>\n      <th>9</th>\n      <td>9</td>\n      <td>male</td>\n      <td>John Brown</td>\n      <td>1990-02-18</td>\n      <td>True</td>\n      <td>[chinese, bulgarian, dutch, english]</td>\n      <td>37</td>\n      <td>phd</td>\n      <td>Development worker, international aid</td>\n      <td>[museums]</td>\n      <td>{'lat': 40.33774657696426, 'lon': 18.182064664...</td>\n      <td>15</td>\n    </tr>\n    <tr>\n      <th>10</th>\n      <td>10</td>\n      <td>female</td>\n      <td>Victoria Pierce</td>\n      <td>1978-02-07</td>\n      <td>True</td>\n      <td>[bulgarian, deutsche]</td>\n      <td>23</td>\n      <td>high-school</td>\n      <td>Analytical chemist</td>\n      <td>[cinema, rafting, sport, museums, countryside]</td>\n      <td>{'lat': 40.36612881009787, 'lon': 18.182042843...</td>\n      <td>19</td>\n    </tr>\n    <tr>\n      <th>11</th>\n      <td>11</td>\n      <td>female</td>\n      <td>Desiree Chavez</td>\n      <td>1966-04-27</td>\n      <td>True</td>\n      <td>[bulgarian]</td>\n      <td>23</td>\n      <td>phd</td>\n      <td>Lecturer, higher education</td>\n      <td>[cinema, beer, rafting]</td>\n      <td>{'lat': 40.367394960036485, 'lon': 18.17553586...</td>\n      <td>16</td>\n    </tr>\n    <tr>\n      <th>12</th>\n      <td>12</td>\n      <td>female</td>\n      <td>Lindsey Munoz</td>\n      <td>1968-07-20</td>\n      <td>True</td>\n      <td>[dutch, french, italian]</td>\n      <td>19</td>\n      <td>bachelor</td>\n      <td>Surgeon</td>\n      <td>[sport, music, beer]</td>\n      <td>{'lat': 40.34268462008425, 'lon': 18.187542175...</td>\n      <td>2</td>\n    </tr>\n    <tr>\n      <th>13</th>\n      <td>13</td>\n      <td>female</td>\n      <td>Megan Turner</td>\n      <td>1965-10-17</td>\n      <td>True</td>\n      <td>[chinese, english]</td>\n      <td>27</td>\n      <td>master</td>\n      <td>Clinical molecular geneticist</td>\n      <td>[sport, archeology, beer]</td>\n      <td>{'lat': 40.35377358678542, 'lon': 18.174728239...</td>\n      <td>8</td>\n    </tr>\n    <tr>\n      <th>14</th>\n      <td>14</td>\n      <td>male</td>\n      <td>Jose Sexton</td>\n      <td>1987-10-22</td>\n      <td>True</td>\n      <td>[chinese, french]</td>\n      <td>40</td>\n      <td>middle-school</td>\n      <td>Physiological scientist</td>\n      <td>[museums]</td>\n      <td>{'lat': 40.353069674191346, 'lon': 18.17755576...</td>\n      <td>9</td>\n    </tr>\n    <tr>\n      <th>15</th>\n      <td>15</td>\n      <td>male</td>\n      <td>Richard Conway</td>\n      <td>1978-07-16</td>\n      <td>True</td>\n      <td>[deutsche, chinese]</td>\n      <td>31</td>\n      <td>middle-school</td>\n      <td>Accountant, chartered public finance</td>\n      <td>[music, food, tracking, archeology]</td>\n      <td>{'lat': 40.35272705494921, 'lon': 18.165705019...</td>\n      <td>4</td>\n    </tr>\n    <tr>\n      <th>16</th>\n      <td>16</td>\n      <td>male</td>\n      <td>Benjamin Taylor</td>\n      <td>1959-06-11</td>\n      <td>True</td>\n      <td>[spanish, bulgarian, french]</td>\n      <td>32</td>\n      <td>middle-school</td>\n      <td>Designer, interior/spatial</td>\n      <td>[countryside, music, beer]</td>\n      <td>{'lat': 40.32347428820915, 'lon': 18.164571467...</td>\n      <td>20</td>\n    </tr>\n    <tr>\n      <th>17</th>\n      <td>17</td>\n      <td>male</td>\n      <td>Stephen Myers</td>\n      <td>1971-01-14</td>\n      <td>True</td>\n      <td>[dutch]</td>\n      <td>26</td>\n      <td>master</td>\n      <td>Producer, radio</td>\n      <td>[wine, sport, art]</td>\n      <td>{'lat': 40.36624424923941, 'lon': 18.174443383...</td>\n      <td>10</td>\n    </tr>\n    <tr>\n      <th>18</th>\n      <td>18</td>\n      <td>male</td>\n      <td>Craig Conrad</td>\n      <td>1988-08-14</td>\n      <td>True</td>\n      <td>[italian, dutch]</td>\n      <td>24</td>\n      <td>bachelor</td>\n      <td>Paediatric nurse</td>\n      <td>[food]</td>\n      <td>{'lat': 40.362871505646005, 'lon': 18.18292777...</td>\n      <td>6</td>\n    </tr>\n    <tr>\n      <th>19</th>\n      <td>19</td>\n      <td>female</td>\n      <td>Cynthia Peters</td>\n      <td>1972-05-02</td>\n      <td>True</td>\n      <td>[bulgarian, deutsche, english]</td>\n      <td>35</td>\n      <td>middle-school</td>\n      <td>Chief Technology Officer</td>\n      <td>[]</td>\n      <td>{'lat': 40.339915788807765, 'lon': 18.18379781...</td>\n      <td>18</td>\n    </tr>\n    <tr>\n      <th>20</th>\n      <td>20</td>\n      <td>female</td>\n      <td>Stephanie Garcia</td>\n      <td>2001-12-18</td>\n      <td>True</td>\n      <td>[deutsche, french]</td>\n      <td>43</td>\n      <td>master</td>\n      <td>Field seismologist</td>\n      <td>[rafting, museums, food]</td>\n      <td>{'lat': 40.357612936236265, 'lon': 18.16907898...</td>\n      <td>5</td>\n    </tr>\n    <tr>\n      <th>21</th>\n      <td>21</td>\n      <td>male</td>\n      <td>Donald Olson</td>\n      <td>1973-01-02</td>\n      <td>True</td>\n      <td>[chinese]</td>\n      <td>26</td>\n      <td>high-school</td>\n      <td>Data scientist</td>\n      <td>[cinema]</td>\n      <td>{'lat': 40.342846292499104, 'lon': 18.16089760...</td>\n      <td>27</td>\n    </tr>\n    <tr>\n      <th>22</th>\n      <td>22</td>\n      <td>female</td>\n      <td>Meghan Sandoval</td>\n      <td>1969-04-05</td>\n      <td>True</td>\n      <td>[chinese, spanish]</td>\n      <td>25</td>\n      <td>high-school</td>\n      <td>Magazine journalist</td>\n      <td>[history, countryside, cinema, literature, music]</td>\n      <td>{'lat': 40.36846436096489, 'lon': 18.171263566...</td>\n      <td>24</td>\n    </tr>\n    <tr>\n      <th>23</th>\n      <td>23</td>\n      <td>female</td>\n      <td>Brenda Hartman</td>\n      <td>1999-09-02</td>\n      <td>True</td>\n      <td>[english, italian, bulgarian]</td>\n      <td>20</td>\n      <td>middle-school</td>\n      <td>Child psychotherapist</td>\n      <td>[tracking]</td>\n      <td>{'lat': 40.364408581391295, 'lon': 18.16428124...</td>\n      <td>6</td>\n    </tr>\n    <tr>\n      <th>24</th>\n      <td>24</td>\n      <td>female</td>\n      <td>Cynthia Armstrong</td>\n      <td>1996-07-15</td>\n      <td>True</td>\n      <td>[dutch, italian, bulgarian]</td>\n      <td>28</td>\n      <td>high-school</td>\n      <td>Maintenance engineer</td>\n      <td>[]</td>\n      <td>{'lat': 40.32998981194129, 'lon': 18.175342312...</td>\n      <td>5</td>\n    </tr>\n    <tr>\n      <th>25</th>\n      <td>25</td>\n      <td>female</td>\n      <td>Rebecca Miller</td>\n      <td>1988-04-22</td>\n      <td>True</td>\n      <td>[bulgarian]</td>\n      <td>31</td>\n      <td>phd</td>\n      <td>Theme park manager</td>\n      <td>[literature]</td>\n      <td>{'lat': 40.36710284805045, 'lon': 18.179956956...</td>\n      <td>17</td>\n    </tr>\n    <tr>\n      <th>26</th>\n      <td>26</td>\n      <td>male</td>\n      <td>Michael Watson</td>\n      <td>1985-09-27</td>\n      <td>True</td>\n      <td>[dutch]</td>\n      <td>30</td>\n      <td>phd</td>\n      <td>Paediatric nurse</td>\n      <td>[tracking, beer, museums]</td>\n      <td>{'lat': 40.37981446263931, 'lon': 18.178854600...</td>\n      <td>3</td>\n    </tr>\n    <tr>\n      <th>27</th>\n      <td>27</td>\n      <td>female</td>\n      <td>Amy Ford</td>\n      <td>1992-05-11</td>\n      <td>True</td>\n      <td>[italian]</td>\n      <td>30</td>\n      <td>phd</td>\n      <td>Teacher, primary school</td>\n      <td>[countryside, beer]</td>\n      <td>{'lat': 40.3457074414046, 'lon': 18.1747654675...</td>\n      <td>14</td>\n    </tr>\n    <tr>\n      <th>28</th>\n      <td>28</td>\n      <td>female</td>\n      <td>Jackie Peterson</td>\n      <td>1969-11-26</td>\n      <td>True</td>\n      <td>[spanish]</td>\n      <td>25</td>\n      <td>middle-school</td>\n      <td>Educational psychologist</td>\n      <td>[food, rafting, museums, music, art, tracking]</td>\n      <td>{'lat': 40.35079556972286, 'lon': 18.181927024...</td>\n      <td>20</td>\n    </tr>\n    <tr>\n      <th>29</th>\n      <td>29</td>\n      <td>female</td>\n      <td>Melanie Huber</td>\n      <td>1965-01-25</td>\n      <td>True</td>\n      <td>[bulgarian, chinese]</td>\n      <td>28</td>\n      <td>master</td>\n      <td>Health and safety adviser</td>\n      <td>[archeology, literature, tracking]</td>\n      <td>{'lat': 40.35465462623879, 'lon': 18.172666005...</td>\n      <td>14</td>\n    </tr>\n    <tr>\n      <th>30</th>\n      <td>30</td>\n      <td>female</td>\n      <td>Samantha Richards</td>\n      <td>1990-05-21</td>\n      <td>True</td>\n      <td>[french, deutsche, english]</td>\n      <td>27</td>\n      <td>bachelor</td>\n      <td>Food technologist</td>\n      <td>[music]</td>\n      <td>{'lat': 40.361047668976795, 'lon': 18.18633484...</td>\n      <td>2</td>\n    </tr>\n    <tr>\n      <th>31</th>\n      <td>31</td>\n      <td>male</td>\n      <td>James Jordan</td>\n      <td>1984-05-03</td>\n      <td>True</td>\n      <td>[deutsche, french, english]</td>\n      <td>23</td>\n      <td>master</td>\n      <td>Arboriculturist</td>\n      <td>[music, countryside, food]</td>\n      <td>{'lat': 40.339171732936364, 'lon': 18.16792590...</td>\n      <td>5</td>\n    </tr>\n    <tr>\n      <th>32</th>\n      <td>32</td>\n      <td>female</td>\n      <td>Sarah Cortez</td>\n      <td>1960-11-16</td>\n      <td>True</td>\n      <td>[french, bulgarian]</td>\n      <td>28</td>\n      <td>phd</td>\n      <td>Chartered public finance accountant</td>\n      <td>[archeology, music]</td>\n      <td>{'lat': 40.343414579847, 'lon': 18.18565562805...</td>\n      <td>41</td>\n    </tr>\n    <tr>\n      <th>33</th>\n      <td>33</td>\n      <td>male</td>\n      <td>Kevin Ramos</td>\n      <td>1965-07-30</td>\n      <td>True</td>\n      <td>[french]</td>\n      <td>26</td>\n      <td>middle-school</td>\n      <td>Recycling officer</td>\n      <td>[beer, music, countryside, archeology]</td>\n      <td>{'lat': 40.34424559835338, 'lon': 18.174907197...</td>\n      <td>2</td>\n    </tr>\n    <tr>\n      <th>34</th>\n      <td>34</td>\n      <td>female</td>\n      <td>Veronica Brewer</td>\n      <td>1964-01-24</td>\n      <td>True</td>\n      <td>[chinese, spanish, bulgarian, italian]</td>\n      <td>28</td>\n      <td>middle-school</td>\n      <td>Community arts worker</td>\n      <td>[]</td>\n      <td>{'lat': 40.38198340911851, 'lon': 18.173378831...</td>\n      <td>34</td>\n    </tr>\n    <tr>\n      <th>35</th>\n      <td>35</td>\n      <td>male</td>\n      <td>Michael Cox</td>\n      <td>1999-08-06</td>\n      <td>True</td>\n      <td>[italian, french]</td>\n      <td>30</td>\n      <td>master</td>\n      <td>Tour manager</td>\n      <td>[music]</td>\n      <td>{'lat': 40.36699713437984, 'lon': 18.165786470...</td>\n      <td>1</td>\n    </tr>\n    <tr>\n      <th>36</th>\n      <td>36</td>\n      <td>male</td>\n      <td>Ryan Garza</td>\n      <td>1980-04-28</td>\n      <td>True</td>\n      <td>[spanish]</td>\n      <td>26</td>\n      <td>phd</td>\n      <td>Retail merchandiser</td>\n      <td>[]</td>\n      <td>{'lat': 40.358649720289904, 'lon': 18.16378056...</td>\n      <td>2</td>\n    </tr>\n    <tr>\n      <th>37</th>\n      <td>37</td>\n      <td>male</td>\n      <td>Vincent Guzman</td>\n      <td>1971-05-03</td>\n      <td>True</td>\n      <td>[dutch]</td>\n      <td>26</td>\n      <td>master</td>\n      <td>Copy</td>\n      <td>[]</td>\n      <td>{'lat': 40.3604075695112, 'lon': 18.1615738690...</td>\n      <td>1</td>\n    </tr>\n    <tr>\n      <th>38</th>\n      <td>38</td>\n      <td>female</td>\n      <td>Dana Ford</td>\n      <td>1984-10-02</td>\n      <td>True</td>\n      <td>[italian]</td>\n      <td>28</td>\n      <td>master</td>\n      <td>Accountant, chartered public finance</td>\n      <td>[]</td>\n      <td>{'lat': 40.36497247240833, 'lon': 18.173581152...</td>\n      <td>6</td>\n    </tr>\n    <tr>\n      <th>39</th>\n      <td>39</td>\n      <td>female</td>\n      <td>Caitlyn Hernandez</td>\n      <td>1985-10-13</td>\n      <td>True</td>\n      <td>[spanish, dutch]</td>\n      <td>26</td>\n      <td>middle-school</td>\n      <td>Financial adviser</td>\n      <td>[history]</td>\n      <td>{'lat': 40.35901486939172, 'lon': 18.166553513...</td>\n      <td>2</td>\n    </tr>\n    <tr>\n      <th>40</th>\n      <td>40</td>\n      <td>male</td>\n      <td>Scott Estrada</td>\n      <td>1993-03-14</td>\n      <td>True</td>\n      <td>[italian]</td>\n      <td>21</td>\n      <td>bachelor</td>\n      <td>Mining engineer</td>\n      <td>[beer, sport]</td>\n      <td>{'lat': 40.34034377570991, 'lon': 18.188590844...</td>\n      <td>6</td>\n    </tr>\n    <tr>\n      <th>41</th>\n      <td>41</td>\n      <td>female</td>\n      <td>Allison Smith</td>\n      <td>1984-06-26</td>\n      <td>True</td>\n      <td>[spanish]</td>\n      <td>22</td>\n      <td>bachelor</td>\n      <td>Nurse, children's</td>\n      <td>[food]</td>\n      <td>{'lat': 40.356194515663795, 'lon': 18.16539593...</td>\n      <td>6</td>\n    </tr>\n    <tr>\n      <th>42</th>\n      <td>42</td>\n      <td>female</td>\n      <td>Melinda Mccoy</td>\n      <td>2003-03-17</td>\n      <td>True</td>\n      <td>[bulgarian]</td>\n      <td>34</td>\n      <td>bachelor</td>\n      <td>Animal technologist</td>\n      <td>[tracking, sport]</td>\n      <td>{'lat': 40.349356335154205, 'lon': 18.18610449...</td>\n      <td>2</td>\n    </tr>\n    <tr>\n      <th>43</th>\n      <td>43</td>\n      <td>male</td>\n      <td>Michael Anderson</td>\n      <td>1972-10-10</td>\n      <td>True</td>\n      <td>[deutsche]</td>\n      <td>34</td>\n      <td>master</td>\n      <td>Armed forces operational officer</td>\n      <td>[wine, sport, music]</td>\n      <td>{'lat': 40.356561258599, 'lon': 18.17741263290...</td>\n      <td>30</td>\n    </tr>\n    <tr>\n      <th>44</th>\n      <td>44</td>\n      <td>female</td>\n      <td>Cassandra Austin</td>\n      <td>2001-02-27</td>\n      <td>True</td>\n      <td>[chinese, italian, bulgarian]</td>\n      <td>25</td>\n      <td>master</td>\n      <td>Lecturer, higher education</td>\n      <td>[tracking, food]</td>\n      <td>{'lat': 40.34725861741012, 'lon': 18.185162322...</td>\n      <td>4</td>\n    </tr>\n    <tr>\n      <th>45</th>\n      <td>45</td>\n      <td>female</td>\n      <td>Lisa Walters</td>\n      <td>1989-05-14</td>\n      <td>True</td>\n      <td>[chinese, french, dutch]</td>\n      <td>17</td>\n      <td>master</td>\n      <td>Financial manager</td>\n      <td>[tracking, history]</td>\n      <td>{'lat': 40.35881498111186, 'lon': 18.158864927...</td>\n      <td>7</td>\n    </tr>\n    <tr>\n      <th>46</th>\n      <td>46</td>\n      <td>male</td>\n      <td>Michael Webb</td>\n      <td>1962-01-29</td>\n      <td>True</td>\n      <td>[chinese]</td>\n      <td>35</td>\n      <td>phd</td>\n      <td>Sales promotion account executive</td>\n      <td>[history, rafting, tracking]</td>\n      <td>{'lat': 40.34171672836494, 'lon': 18.178777448...</td>\n      <td>29</td>\n    </tr>\n    <tr>\n      <th>47</th>\n      <td>47</td>\n      <td>female</td>\n      <td>Gabriella Garcia</td>\n      <td>1976-05-19</td>\n      <td>True</td>\n      <td>[italian, dutch, deutsche]</td>\n      <td>34</td>\n      <td>middle-school</td>\n      <td>Building services engineer</td>\n      <td>[countryside, history]</td>\n      <td>{'lat': 40.36082148859915, 'lon': 18.183171947...</td>\n      <td>2</td>\n    </tr>\n    <tr>\n      <th>48</th>\n      <td>48</td>\n      <td>female</td>\n      <td>Jessica Mitchell</td>\n      <td>1971-11-24</td>\n      <td>True</td>\n      <td>[italian, bulgarian]</td>\n      <td>30</td>\n      <td>high-school</td>\n      <td>Geophysicist/field seismologist</td>\n      <td>[]</td>\n      <td>{'lat': 40.34687214441545, 'lon': 18.186650378...</td>\n      <td>28</td>\n    </tr>\n    <tr>\n      <th>49</th>\n      <td>49</td>\n      <td>male</td>\n      <td>Paul Olsen</td>\n      <td>1995-09-12</td>\n      <td>True</td>\n      <td>[french, bulgarian]</td>\n      <td>32</td>\n      <td>middle-school</td>\n      <td>Conservator, furniture</td>\n      <td>[countryside, tracking]</td>\n      <td>{'lat': 40.356077323370634, 'lon': 18.15442986...</td>\n      <td>7</td>\n    </tr>\n  </tbody>\n</table>\n</div>"
     },
     "execution_count": 3,
     "metadata": {},
     "output_type": "execute_result"
    }
   ],
   "source": [
    "# Load dataframe for guide attributes\n",
    "\n",
    "guide_file = open('Data/guides_50.csv')\n",
    "\n",
    "guide_df = pd.read_csv(\n",
    "    filepath_or_buffer = guide_file,\n",
    "    sep = ';',\n",
    "    header = 0,\n",
    "\n",
    "    # Process the columns containing lists: load the content of those columns as list\n",
    "    converters = {'languages_spoken':ast.literal_eval, 'keywords':ast.literal_eval}\n",
    ")\n",
    "\n",
    "guide_df.rename(columns={guide_df.columns[0]: 'id'}, inplace=True)\n",
    "\n",
    "guide_df"
   ]
  },
  {
   "cell_type": "code",
   "execution_count": 4,
   "id": "eb93bf83",
   "metadata": {
    "pycharm": {
     "name": "#%%\n"
    }
   },
   "outputs": [
    {
     "data": {
      "text/plain": "       0   1    2\n0      0  36  4.0\n1      0  41  3.0\n2      1  45  5.0\n3      2  48  4.0\n4      2  47  4.0\n..   ...  ..  ...\n737  496  48  4.0\n738  497   7  5.0\n739  498  48  4.0\n740  498  23  5.0\n741  499  44  4.0\n\n[742 rows x 3 columns]",
      "text/html": "<div>\n<style scoped>\n    .dataframe tbody tr th:only-of-type {\n        vertical-align: middle;\n    }\n\n    .dataframe tbody tr th {\n        vertical-align: top;\n    }\n\n    .dataframe thead th {\n        text-align: right;\n    }\n</style>\n<table border=\"1\" class=\"dataframe\">\n  <thead>\n    <tr style=\"text-align: right;\">\n      <th></th>\n      <th>0</th>\n      <th>1</th>\n      <th>2</th>\n    </tr>\n  </thead>\n  <tbody>\n    <tr>\n      <th>0</th>\n      <td>0</td>\n      <td>36</td>\n      <td>4.0</td>\n    </tr>\n    <tr>\n      <th>1</th>\n      <td>0</td>\n      <td>41</td>\n      <td>3.0</td>\n    </tr>\n    <tr>\n      <th>2</th>\n      <td>1</td>\n      <td>45</td>\n      <td>5.0</td>\n    </tr>\n    <tr>\n      <th>3</th>\n      <td>2</td>\n      <td>48</td>\n      <td>4.0</td>\n    </tr>\n    <tr>\n      <th>4</th>\n      <td>2</td>\n      <td>47</td>\n      <td>4.0</td>\n    </tr>\n    <tr>\n      <th>...</th>\n      <td>...</td>\n      <td>...</td>\n      <td>...</td>\n    </tr>\n    <tr>\n      <th>737</th>\n      <td>496</td>\n      <td>48</td>\n      <td>4.0</td>\n    </tr>\n    <tr>\n      <th>738</th>\n      <td>497</td>\n      <td>7</td>\n      <td>5.0</td>\n    </tr>\n    <tr>\n      <th>739</th>\n      <td>498</td>\n      <td>48</td>\n      <td>4.0</td>\n    </tr>\n    <tr>\n      <th>740</th>\n      <td>498</td>\n      <td>23</td>\n      <td>5.0</td>\n    </tr>\n    <tr>\n      <th>741</th>\n      <td>499</td>\n      <td>44</td>\n      <td>4.0</td>\n    </tr>\n  </tbody>\n</table>\n<p>742 rows × 3 columns</p>\n</div>"
     },
     "execution_count": 4,
     "metadata": {},
     "output_type": "execute_result"
    }
   ],
   "source": [
    "# Load dataframe for ratings\n",
    "\n",
    "rating_file = open('Data/guides_ratings_500_50.csv')\n",
    "\n",
    "rating_df = pd.read_csv(\n",
    "    filepath_or_buffer = rating_file,\n",
    "    sep = ';',\n",
    "    header = 0\n",
    ")\n",
    "\n",
    "rating_df"
   ]
  },
  {
   "cell_type": "code",
   "execution_count": 5,
   "id": "1570a729",
   "metadata": {
    "pycharm": {
     "name": "#%%\n"
    }
   },
   "outputs": [
    {
     "data": {
      "text/plain": "     tourist_id  guide_id  rating\n0             0        36     4.0\n1             0        41     3.0\n2             1        45     5.0\n3             2        48     4.0\n4             2        47     4.0\n..          ...       ...     ...\n737         496        48     4.0\n738         497         7     5.0\n739         498        48     4.0\n740         498        23     5.0\n741         499        44     4.0\n\n[742 rows x 3 columns]",
      "text/html": "<div>\n<style scoped>\n    .dataframe tbody tr th:only-of-type {\n        vertical-align: middle;\n    }\n\n    .dataframe tbody tr th {\n        vertical-align: top;\n    }\n\n    .dataframe thead th {\n        text-align: right;\n    }\n</style>\n<table border=\"1\" class=\"dataframe\">\n  <thead>\n    <tr style=\"text-align: right;\">\n      <th></th>\n      <th>tourist_id</th>\n      <th>guide_id</th>\n      <th>rating</th>\n    </tr>\n  </thead>\n  <tbody>\n    <tr>\n      <th>0</th>\n      <td>0</td>\n      <td>36</td>\n      <td>4.0</td>\n    </tr>\n    <tr>\n      <th>1</th>\n      <td>0</td>\n      <td>41</td>\n      <td>3.0</td>\n    </tr>\n    <tr>\n      <th>2</th>\n      <td>1</td>\n      <td>45</td>\n      <td>5.0</td>\n    </tr>\n    <tr>\n      <th>3</th>\n      <td>2</td>\n      <td>48</td>\n      <td>4.0</td>\n    </tr>\n    <tr>\n      <th>4</th>\n      <td>2</td>\n      <td>47</td>\n      <td>4.0</td>\n    </tr>\n    <tr>\n      <th>...</th>\n      <td>...</td>\n      <td>...</td>\n      <td>...</td>\n    </tr>\n    <tr>\n      <th>737</th>\n      <td>496</td>\n      <td>48</td>\n      <td>4.0</td>\n    </tr>\n    <tr>\n      <th>738</th>\n      <td>497</td>\n      <td>7</td>\n      <td>5.0</td>\n    </tr>\n    <tr>\n      <th>739</th>\n      <td>498</td>\n      <td>48</td>\n      <td>4.0</td>\n    </tr>\n    <tr>\n      <th>740</th>\n      <td>498</td>\n      <td>23</td>\n      <td>5.0</td>\n    </tr>\n    <tr>\n      <th>741</th>\n      <td>499</td>\n      <td>44</td>\n      <td>4.0</td>\n    </tr>\n  </tbody>\n</table>\n<p>742 rows × 3 columns</p>\n</div>"
     },
     "execution_count": 5,
     "metadata": {},
     "output_type": "execute_result"
    }
   ],
   "source": [
    "# Rename the columns of the rating dataframe\n",
    "rating_df.rename(columns={rating_df.columns[0]: 'tourist_id',\n",
    "                          rating_df.columns[1]: 'guide_id',\n",
    "                          rating_df.columns[2]: 'rating',\n",
    "                         }, inplace=True)\n",
    "\n",
    "# Remove the duplicated interactions, if any\n",
    "rating_df.drop_duplicates(subset=['tourist_id','guide_id'],inplace=True)\n",
    "\n",
    "rating_df"
   ]
  },
  {
   "cell_type": "markdown",
   "id": "7e222fd7",
   "metadata": {
    "pycharm": {
     "name": "#%% md\n"
    }
   },
   "source": [
    "## Print statistics\n",
    "\n",
    "Some statistics about the acquired data are shown."
   ]
  },
  {
   "cell_type": "code",
   "execution_count": 6,
   "id": "765f5477",
   "metadata": {
    "pycharm": {
     "name": "#%%\n"
    }
   },
   "outputs": [
    {
     "name": "stdout",
     "output_type": "stream",
     "text": [
      "Number of tourists: 500\n",
      "Number of guides: 50\n",
      "Number of interactions: 742\n",
      "Average interaction per tourist: 1.48\n",
      "Average interaction per guide: 14.84\n",
      "Sparsity: 97.03 %\n"
     ]
    }
   ],
   "source": [
    "# Statistics about data\n",
    "arr_tourists = tourist_df[\"id\"].unique()\n",
    "arr_guides = guide_df[\"id\"].unique()\n",
    "\n",
    "n_tourists = len(arr_tourists)\n",
    "n_guides = len(arr_guides)\n",
    "n_interactions = len(rating_df)\n",
    "\n",
    "print(\"Number of tourists: {:d}\".format(n_tourists))\n",
    "print(\"Number of guides: {:d}\".format(n_guides))\n",
    "print(\"Number of interactions: {:d}\".format(n_interactions))\n",
    "\n",
    "print(\"Average interaction per tourist: {:.2f}\".format(n_interactions/n_tourists))\n",
    "print(\"Average interaction per guide: {:.2f}\".format(n_interactions/n_guides))\n",
    "print(\"Sparsity: {:.2f} %\".format((1-float(n_interactions)/(n_guides*n_tourists))*100))"
   ]
  },
  {
   "cell_type": "code",
   "execution_count": 7,
   "id": "6d4af3c8",
   "metadata": {
    "pycharm": {
     "name": "#%%\n"
    }
   },
   "outputs": [
    {
     "name": "stdout",
     "output_type": "stream",
     "text": [
      "Average rating: 4.005391\n",
      "Maximum rating: 6.000000\n",
      "Minimum rating: 2.000000\n"
     ]
    }
   ],
   "source": [
    "# Statistics about the distribution of ratings\n",
    "print(\"Average rating: {:.6f}\".format(rating_df.loc[:, 'rating'].mean()))\n",
    "print(\"Maximum rating: {:.6f}\".format(rating_df.loc[:, 'rating'].max()))\n",
    "print(\"Minimum rating: {:.6f}\".format(rating_df.loc[:, 'rating'].min()))"
   ]
  },
  {
   "cell_type": "markdown",
   "id": "e270df0f",
   "metadata": {
    "pycharm": {
     "name": "#%% md\n"
    }
   },
   "source": [
    "## Create the URM\n",
    "\n",
    "The **User Rating Matrix** describes the past interactions between tourists and guides, where rows represent tourists and columns represent guides. The values in the cells can be defined by an implicit or explicit approach:\n",
    "- Explicit ratings are given directly by the tourists to the guides, according to a rating scale.\n",
    "- Implicit ratings are obtained according to specific criteria based on tourists' behaviour, without asking for an opinion explicitly. The corresponding value of the interaction is set to 1 if we think that the guide could be interested in the guide, otherwise 0.\n",
    "\n",
    "In our problem, we decide to use **explicit ratings** with a rating scale from 1 to 5."
   ]
  },
  {
   "cell_type": "code",
   "execution_count": 8,
   "id": "4e990e1d",
   "metadata": {
    "pycharm": {
     "name": "#%%\n"
    }
   },
   "outputs": [
    {
     "data": {
      "text/plain": "<500x50 sparse matrix of type '<class 'numpy.float64'>'\n\twith 742 stored elements in Compressed Sparse Row format>"
     },
     "execution_count": 8,
     "metadata": {},
     "output_type": "execute_result"
    }
   ],
   "source": [
    "# Create the User Rating Matrix in CSR format to facilitate the computation\n",
    "# Row: tourist_id, Column: guide_id, Value: rating\n",
    "URM_all = sps.csr_matrix(\n",
    "    (rating_df[\"rating\"].values,\n",
    "    (rating_df[\"tourist_id\"].values, rating_df[\"guide_id\"].values))\n",
    ")\n",
    "\n",
    "URM_all"
   ]
  },
  {
   "cell_type": "code",
   "execution_count": 9,
   "id": "3c70ebfd",
   "metadata": {
    "pycharm": {
     "name": "#%%\n"
    }
   },
   "outputs": [],
   "source": [
    "# Define the portion of data used for training the model\n",
    "# Since we are using fake data, we train the model on all the available data\n",
    "URM_train = URM_all"
   ]
  },
  {
   "cell_type": "markdown",
   "id": "8eda1767",
   "metadata": {
    "pycharm": {
     "name": "#%% md\n"
    }
   },
   "source": [
    "## Create the ICM\n",
    "\n",
    "The **Item Content Matrix** describes the guides with their own attributes. The rows indicates the guides, and the columns represent attributes. Each number in the ICM indicates how much important an attribute is in characterizing a guide.\n",
    "\n",
    "In this case we started from the simplest form: the cell value is equal to 1 if the guide has that specific attribute, and 0 otherwise."
   ]
  },
  {
   "cell_type": "code",
   "execution_count": 10,
   "id": "b4fa6ac5",
   "metadata": {
    "pycharm": {
     "name": "#%%\n"
    }
   },
   "outputs": [],
   "source": [
    "# Make a copy of the guide dataframe to build the ICM\n",
    "icm_df = guide_df.copy(deep=True)"
   ]
  },
  {
   "cell_type": "code",
   "execution_count": 11,
   "id": "f2fa3c9a",
   "metadata": {
    "pycharm": {
     "name": "#%%\n"
    }
   },
   "outputs": [],
   "source": [
    "# Convert birthday information into categorical labels\n",
    "# Classification criterion: if the guide is more than 40 years old or not.\n",
    "def replace_birth_year(x):\n",
    "    if x > 1984:\n",
    "        return '20-40'\n",
    "    else:\n",
    "        return '40+'\n",
    "\n",
    "# Apply the conversion to the dataframe\n",
    "icm_df['birth_date'] = icm_df['birth_date'].apply(\n",
    "    lambda x: replace_birth_year(pd.to_datetime(x, format=\"%Y-%m-%d\").year)\n",
    ")"
   ]
  },
  {
   "cell_type": "code",
   "execution_count": 12,
   "id": "d6e9b479",
   "metadata": {
    "pycharm": {
     "name": "#%%\n"
    }
   },
   "outputs": [],
   "source": [
    "# Convert number of years of experience into categorical labels\n",
    "# Classification criteria:\n",
    "# - a junior guide has less than 5 years of experience;\n",
    "# - an experience guide has between 5 and 10 years of experience;\n",
    "# - a senior guide has at least 10 years of experience.\n",
    "def replace_experience(x):\n",
    "    if x < 5:\n",
    "        return 'junior'\n",
    "    elif x < 10:\n",
    "        return 'experienced'\n",
    "    else:\n",
    "        return 'senior'\n",
    "\n",
    "# Apply conversion to the dataframe\n",
    "icm_df['experience'] = icm_df['experience'].apply(replace_experience)"
   ]
  },
  {
   "cell_type": "code",
   "execution_count": 13,
   "id": "40813887",
   "metadata": {
    "pycharm": {
     "name": "#%%\n"
    }
   },
   "outputs": [
    {
     "data": {
      "text/plain": "price    29.02\ndtype: float64"
     },
     "execution_count": 13,
     "metadata": {},
     "output_type": "execute_result"
    }
   ],
   "source": [
    "# Compute the mean value of prices as a reference for proper ranges\n",
    "icm_df[['price']].mean(axis=0)"
   ]
  },
  {
   "cell_type": "code",
   "execution_count": 14,
   "id": "4fe86e06",
   "metadata": {
    "pycharm": {
     "name": "#%%\n"
    }
   },
   "outputs": [],
   "source": [
    "# Split the price information into three ranges\n",
    "# - cost < 25: low cost\n",
    "# - 25 <= cost < 35: medium\n",
    "# - cost >= 35: high\n",
    "\n",
    "def replace_price(x):\n",
    "    if x < 25:\n",
    "        return 'low_cost'\n",
    "    elif x < 35:\n",
    "        return 'medium_cost'\n",
    "    else:\n",
    "        return 'high_cost'\n",
    "\n",
    "# Apply conversion to the dataframe\n",
    "icm_df['price'] = icm_df['price'].apply(replace_price)"
   ]
  },
  {
   "cell_type": "code",
   "execution_count": 15,
   "id": "5ee85f65",
   "metadata": {
    "pycharm": {
     "name": "#%%\n"
    }
   },
   "outputs": [
    {
     "data": {
      "text/plain": "    id  gender               name birth_date  now_available  \\\n0    0    male       Henry Robles      20-40           True   \n1    1  female        Raven Burke      20-40           True   \n2    2  female        Nancy Keith        40+           True   \n3    3    male   Michael Mitchell        40+           True   \n4    4    male        John Bailey        40+           True   \n5    5    male       Justin Allen      20-40           True   \n6    6    male       Jose Russell      20-40           True   \n7    7    male         Jack Smith        40+           True   \n8    8    male    Victor Gonzalez      20-40           True   \n9    9    male         John Brown      20-40           True   \n10  10  female    Victoria Pierce        40+           True   \n11  11  female     Desiree Chavez        40+           True   \n12  12  female      Lindsey Munoz        40+           True   \n13  13  female       Megan Turner        40+           True   \n14  14    male        Jose Sexton      20-40           True   \n15  15    male     Richard Conway        40+           True   \n16  16    male    Benjamin Taylor        40+           True   \n17  17    male      Stephen Myers        40+           True   \n18  18    male       Craig Conrad      20-40           True   \n19  19  female     Cynthia Peters        40+           True   \n20  20  female   Stephanie Garcia      20-40           True   \n21  21    male       Donald Olson        40+           True   \n22  22  female    Meghan Sandoval        40+           True   \n23  23  female     Brenda Hartman      20-40           True   \n24  24  female  Cynthia Armstrong      20-40           True   \n25  25  female     Rebecca Miller      20-40           True   \n26  26    male     Michael Watson      20-40           True   \n27  27  female           Amy Ford      20-40           True   \n28  28  female    Jackie Peterson        40+           True   \n29  29  female      Melanie Huber        40+           True   \n30  30  female  Samantha Richards      20-40           True   \n31  31    male       James Jordan        40+           True   \n32  32  female       Sarah Cortez        40+           True   \n33  33    male        Kevin Ramos        40+           True   \n34  34  female    Veronica Brewer        40+           True   \n35  35    male        Michael Cox      20-40           True   \n36  36    male         Ryan Garza        40+           True   \n37  37    male     Vincent Guzman        40+           True   \n38  38  female          Dana Ford        40+           True   \n39  39  female  Caitlyn Hernandez      20-40           True   \n40  40    male      Scott Estrada      20-40           True   \n41  41  female      Allison Smith        40+           True   \n42  42  female      Melinda Mccoy      20-40           True   \n43  43    male   Michael Anderson        40+           True   \n44  44  female   Cassandra Austin      20-40           True   \n45  45  female       Lisa Walters      20-40           True   \n46  46    male       Michael Webb        40+           True   \n47  47  female   Gabriella Garcia        40+           True   \n48  48  female   Jessica Mitchell        40+           True   \n49  49    male         Paul Olsen      20-40           True   \n\n                          languages_spoken        price      education  \\\n0                                [english]  medium_cost    high-school   \n1                         [italian, dutch]    high_cost  middle-school   \n2               [chinese, french, english]  medium_cost            phd   \n3                              [bulgarian]    high_cost       bachelor   \n4                       [deutsche, french]  medium_cost         master   \n5             [deutsche, dutch, bulgarian]  medium_cost  middle-school   \n6               [english, chinese, french]  medium_cost  middle-school   \n7        [spanish, dutch, french, italian]  medium_cost       bachelor   \n8            [bulgarian, english, chinese]  medium_cost  middle-school   \n9     [chinese, bulgarian, dutch, english]    high_cost            phd   \n10                   [bulgarian, deutsche]     low_cost    high-school   \n11                             [bulgarian]     low_cost            phd   \n12                [dutch, french, italian]     low_cost       bachelor   \n13                      [chinese, english]  medium_cost         master   \n14                       [chinese, french]    high_cost  middle-school   \n15                     [deutsche, chinese]  medium_cost  middle-school   \n16            [spanish, bulgarian, french]  medium_cost  middle-school   \n17                                 [dutch]  medium_cost         master   \n18                        [italian, dutch]     low_cost       bachelor   \n19          [bulgarian, deutsche, english]    high_cost  middle-school   \n20                      [deutsche, french]    high_cost         master   \n21                               [chinese]  medium_cost    high-school   \n22                      [chinese, spanish]  medium_cost    high-school   \n23           [english, italian, bulgarian]     low_cost  middle-school   \n24             [dutch, italian, bulgarian]  medium_cost    high-school   \n25                             [bulgarian]  medium_cost            phd   \n26                                 [dutch]  medium_cost            phd   \n27                               [italian]  medium_cost            phd   \n28                               [spanish]  medium_cost  middle-school   \n29                    [bulgarian, chinese]  medium_cost         master   \n30             [french, deutsche, english]  medium_cost       bachelor   \n31             [deutsche, french, english]     low_cost         master   \n32                     [french, bulgarian]  medium_cost            phd   \n33                                [french]  medium_cost  middle-school   \n34  [chinese, spanish, bulgarian, italian]  medium_cost  middle-school   \n35                       [italian, french]  medium_cost         master   \n36                               [spanish]  medium_cost            phd   \n37                                 [dutch]  medium_cost         master   \n38                               [italian]  medium_cost         master   \n39                        [spanish, dutch]  medium_cost  middle-school   \n40                               [italian]     low_cost       bachelor   \n41                               [spanish]     low_cost       bachelor   \n42                             [bulgarian]  medium_cost       bachelor   \n43                              [deutsche]  medium_cost         master   \n44           [chinese, italian, bulgarian]  medium_cost         master   \n45                [chinese, french, dutch]     low_cost         master   \n46                               [chinese]    high_cost            phd   \n47              [italian, dutch, deutsche]  medium_cost  middle-school   \n48                    [italian, bulgarian]  medium_cost    high-school   \n49                     [french, bulgarian]  medium_cost  middle-school   \n\n                                       biography  \\\n0                   Community development worker   \n1                              Quantity surveyor   \n2                        Secretary/administrator   \n3   Lighting technician, broadcasting/film/video   \n4                      Estate manager/land agent   \n5                                 Microbiologist   \n6                          Pharmacist, community   \n7                                Theatre manager   \n8                                     Geochemist   \n9          Development worker, international aid   \n10                            Analytical chemist   \n11                    Lecturer, higher education   \n12                                       Surgeon   \n13                 Clinical molecular geneticist   \n14                       Physiological scientist   \n15          Accountant, chartered public finance   \n16                    Designer, interior/spatial   \n17                               Producer, radio   \n18                              Paediatric nurse   \n19                      Chief Technology Officer   \n20                            Field seismologist   \n21                                Data scientist   \n22                           Magazine journalist   \n23                         Child psychotherapist   \n24                          Maintenance engineer   \n25                            Theme park manager   \n26                              Paediatric nurse   \n27                       Teacher, primary school   \n28                      Educational psychologist   \n29                     Health and safety adviser   \n30                             Food technologist   \n31                               Arboriculturist   \n32           Chartered public finance accountant   \n33                             Recycling officer   \n34                         Community arts worker   \n35                                  Tour manager   \n36                           Retail merchandiser   \n37                                          Copy   \n38          Accountant, chartered public finance   \n39                             Financial adviser   \n40                               Mining engineer   \n41                             Nurse, children's   \n42                           Animal technologist   \n43              Armed forces operational officer   \n44                    Lecturer, higher education   \n45                             Financial manager   \n46             Sales promotion account executive   \n47                    Building services engineer   \n48               Geophysicist/field seismologist   \n49                        Conservator, furniture   \n\n                                             keywords  \\\n0                                           [museums]   \n1                    [cinema, rafting, history, wine]   \n2                             [food, archeology, art]   \n3                         [countryside, rafting, art]   \n4                       [countryside, tracking, beer]   \n5                                                  []   \n6                               [rafting, art, sport]   \n7                   [museums, art, countryside, wine]   \n8                         [literature, cinema, music]   \n9                                           [museums]   \n10     [cinema, rafting, sport, museums, countryside]   \n11                            [cinema, beer, rafting]   \n12                               [sport, music, beer]   \n13                          [sport, archeology, beer]   \n14                                          [museums]   \n15                [music, food, tracking, archeology]   \n16                         [countryside, music, beer]   \n17                                 [wine, sport, art]   \n18                                             [food]   \n19                                                 []   \n20                           [rafting, museums, food]   \n21                                           [cinema]   \n22  [history, countryside, cinema, literature, music]   \n23                                         [tracking]   \n24                                                 []   \n25                                       [literature]   \n26                          [tracking, beer, museums]   \n27                                [countryside, beer]   \n28     [food, rafting, museums, music, art, tracking]   \n29                 [archeology, literature, tracking]   \n30                                            [music]   \n31                         [music, countryside, food]   \n32                                [archeology, music]   \n33             [beer, music, countryside, archeology]   \n34                                                 []   \n35                                            [music]   \n36                                                 []   \n37                                                 []   \n38                                                 []   \n39                                          [history]   \n40                                      [beer, sport]   \n41                                             [food]   \n42                                  [tracking, sport]   \n43                               [wine, sport, music]   \n44                                   [tracking, food]   \n45                                [tracking, history]   \n46                       [history, rafting, tracking]   \n47                             [countryside, history]   \n48                                                 []   \n49                            [countryside, tracking]   \n\n                                     current_location   experience  \n0   {'lat': 40.342693584880706, 'lon': 18.16438078...  experienced  \n1   {'lat': 40.3367551413547, 'lon': 18.1569120995...       junior  \n2   {'lat': 40.362447049660204, 'lon': 18.14225129...       senior  \n3   {'lat': 40.36584086550253, 'lon': 18.183002910...       senior  \n4   {'lat': 40.354724889812935, 'lon': 18.20308322...       senior  \n5   {'lat': 40.35854623058413, 'lon': 18.183459879...       junior  \n6   {'lat': 40.35774331848761, 'lon': 18.163273185...       junior  \n7   {'lat': 40.365193043282794, 'lon': 18.18548169...  experienced  \n8   {'lat': 40.35265552781134, 'lon': 18.151723396...       junior  \n9   {'lat': 40.33774657696426, 'lon': 18.182064664...       senior  \n10  {'lat': 40.36612881009787, 'lon': 18.182042843...       senior  \n11  {'lat': 40.367394960036485, 'lon': 18.17553586...       senior  \n12  {'lat': 40.34268462008425, 'lon': 18.187542175...       junior  \n13  {'lat': 40.35377358678542, 'lon': 18.174728239...  experienced  \n14  {'lat': 40.353069674191346, 'lon': 18.17755576...  experienced  \n15  {'lat': 40.35272705494921, 'lon': 18.165705019...       junior  \n16  {'lat': 40.32347428820915, 'lon': 18.164571467...       senior  \n17  {'lat': 40.36624424923941, 'lon': 18.174443383...       senior  \n18  {'lat': 40.362871505646005, 'lon': 18.18292777...  experienced  \n19  {'lat': 40.339915788807765, 'lon': 18.18379781...       senior  \n20  {'lat': 40.357612936236265, 'lon': 18.16907898...  experienced  \n21  {'lat': 40.342846292499104, 'lon': 18.16089760...       senior  \n22  {'lat': 40.36846436096489, 'lon': 18.171263566...       senior  \n23  {'lat': 40.364408581391295, 'lon': 18.16428124...  experienced  \n24  {'lat': 40.32998981194129, 'lon': 18.175342312...  experienced  \n25  {'lat': 40.36710284805045, 'lon': 18.179956956...       senior  \n26  {'lat': 40.37981446263931, 'lon': 18.178854600...       junior  \n27  {'lat': 40.3457074414046, 'lon': 18.1747654675...       senior  \n28  {'lat': 40.35079556972286, 'lon': 18.181927024...       senior  \n29  {'lat': 40.35465462623879, 'lon': 18.172666005...       senior  \n30  {'lat': 40.361047668976795, 'lon': 18.18633484...       junior  \n31  {'lat': 40.339171732936364, 'lon': 18.16792590...  experienced  \n32  {'lat': 40.343414579847, 'lon': 18.18565562805...       senior  \n33  {'lat': 40.34424559835338, 'lon': 18.174907197...       junior  \n34  {'lat': 40.38198340911851, 'lon': 18.173378831...       senior  \n35  {'lat': 40.36699713437984, 'lon': 18.165786470...       junior  \n36  {'lat': 40.358649720289904, 'lon': 18.16378056...       junior  \n37  {'lat': 40.3604075695112, 'lon': 18.1615738690...       junior  \n38  {'lat': 40.36497247240833, 'lon': 18.173581152...  experienced  \n39  {'lat': 40.35901486939172, 'lon': 18.166553513...       junior  \n40  {'lat': 40.34034377570991, 'lon': 18.188590844...  experienced  \n41  {'lat': 40.356194515663795, 'lon': 18.16539593...  experienced  \n42  {'lat': 40.349356335154205, 'lon': 18.18610449...       junior  \n43  {'lat': 40.356561258599, 'lon': 18.17741263290...       senior  \n44  {'lat': 40.34725861741012, 'lon': 18.185162322...       junior  \n45  {'lat': 40.35881498111186, 'lon': 18.158864927...  experienced  \n46  {'lat': 40.34171672836494, 'lon': 18.178777448...       senior  \n47  {'lat': 40.36082148859915, 'lon': 18.183171947...       junior  \n48  {'lat': 40.34687214441545, 'lon': 18.186650378...       senior  \n49  {'lat': 40.356077323370634, 'lon': 18.15442986...  experienced  ",
      "text/html": "<div>\n<style scoped>\n    .dataframe tbody tr th:only-of-type {\n        vertical-align: middle;\n    }\n\n    .dataframe tbody tr th {\n        vertical-align: top;\n    }\n\n    .dataframe thead th {\n        text-align: right;\n    }\n</style>\n<table border=\"1\" class=\"dataframe\">\n  <thead>\n    <tr style=\"text-align: right;\">\n      <th></th>\n      <th>id</th>\n      <th>gender</th>\n      <th>name</th>\n      <th>birth_date</th>\n      <th>now_available</th>\n      <th>languages_spoken</th>\n      <th>price</th>\n      <th>education</th>\n      <th>biography</th>\n      <th>keywords</th>\n      <th>current_location</th>\n      <th>experience</th>\n    </tr>\n  </thead>\n  <tbody>\n    <tr>\n      <th>0</th>\n      <td>0</td>\n      <td>male</td>\n      <td>Henry Robles</td>\n      <td>20-40</td>\n      <td>True</td>\n      <td>[english]</td>\n      <td>medium_cost</td>\n      <td>high-school</td>\n      <td>Community development worker</td>\n      <td>[museums]</td>\n      <td>{'lat': 40.342693584880706, 'lon': 18.16438078...</td>\n      <td>experienced</td>\n    </tr>\n    <tr>\n      <th>1</th>\n      <td>1</td>\n      <td>female</td>\n      <td>Raven Burke</td>\n      <td>20-40</td>\n      <td>True</td>\n      <td>[italian, dutch]</td>\n      <td>high_cost</td>\n      <td>middle-school</td>\n      <td>Quantity surveyor</td>\n      <td>[cinema, rafting, history, wine]</td>\n      <td>{'lat': 40.3367551413547, 'lon': 18.1569120995...</td>\n      <td>junior</td>\n    </tr>\n    <tr>\n      <th>2</th>\n      <td>2</td>\n      <td>female</td>\n      <td>Nancy Keith</td>\n      <td>40+</td>\n      <td>True</td>\n      <td>[chinese, french, english]</td>\n      <td>medium_cost</td>\n      <td>phd</td>\n      <td>Secretary/administrator</td>\n      <td>[food, archeology, art]</td>\n      <td>{'lat': 40.362447049660204, 'lon': 18.14225129...</td>\n      <td>senior</td>\n    </tr>\n    <tr>\n      <th>3</th>\n      <td>3</td>\n      <td>male</td>\n      <td>Michael Mitchell</td>\n      <td>40+</td>\n      <td>True</td>\n      <td>[bulgarian]</td>\n      <td>high_cost</td>\n      <td>bachelor</td>\n      <td>Lighting technician, broadcasting/film/video</td>\n      <td>[countryside, rafting, art]</td>\n      <td>{'lat': 40.36584086550253, 'lon': 18.183002910...</td>\n      <td>senior</td>\n    </tr>\n    <tr>\n      <th>4</th>\n      <td>4</td>\n      <td>male</td>\n      <td>John Bailey</td>\n      <td>40+</td>\n      <td>True</td>\n      <td>[deutsche, french]</td>\n      <td>medium_cost</td>\n      <td>master</td>\n      <td>Estate manager/land agent</td>\n      <td>[countryside, tracking, beer]</td>\n      <td>{'lat': 40.354724889812935, 'lon': 18.20308322...</td>\n      <td>senior</td>\n    </tr>\n    <tr>\n      <th>5</th>\n      <td>5</td>\n      <td>male</td>\n      <td>Justin Allen</td>\n      <td>20-40</td>\n      <td>True</td>\n      <td>[deutsche, dutch, bulgarian]</td>\n      <td>medium_cost</td>\n      <td>middle-school</td>\n      <td>Microbiologist</td>\n      <td>[]</td>\n      <td>{'lat': 40.35854623058413, 'lon': 18.183459879...</td>\n      <td>junior</td>\n    </tr>\n    <tr>\n      <th>6</th>\n      <td>6</td>\n      <td>male</td>\n      <td>Jose Russell</td>\n      <td>20-40</td>\n      <td>True</td>\n      <td>[english, chinese, french]</td>\n      <td>medium_cost</td>\n      <td>middle-school</td>\n      <td>Pharmacist, community</td>\n      <td>[rafting, art, sport]</td>\n      <td>{'lat': 40.35774331848761, 'lon': 18.163273185...</td>\n      <td>junior</td>\n    </tr>\n    <tr>\n      <th>7</th>\n      <td>7</td>\n      <td>male</td>\n      <td>Jack Smith</td>\n      <td>40+</td>\n      <td>True</td>\n      <td>[spanish, dutch, french, italian]</td>\n      <td>medium_cost</td>\n      <td>bachelor</td>\n      <td>Theatre manager</td>\n      <td>[museums, art, countryside, wine]</td>\n      <td>{'lat': 40.365193043282794, 'lon': 18.18548169...</td>\n      <td>experienced</td>\n    </tr>\n    <tr>\n      <th>8</th>\n      <td>8</td>\n      <td>male</td>\n      <td>Victor Gonzalez</td>\n      <td>20-40</td>\n      <td>True</td>\n      <td>[bulgarian, english, chinese]</td>\n      <td>medium_cost</td>\n      <td>middle-school</td>\n      <td>Geochemist</td>\n      <td>[literature, cinema, music]</td>\n      <td>{'lat': 40.35265552781134, 'lon': 18.151723396...</td>\n      <td>junior</td>\n    </tr>\n    <tr>\n      <th>9</th>\n      <td>9</td>\n      <td>male</td>\n      <td>John Brown</td>\n      <td>20-40</td>\n      <td>True</td>\n      <td>[chinese, bulgarian, dutch, english]</td>\n      <td>high_cost</td>\n      <td>phd</td>\n      <td>Development worker, international aid</td>\n      <td>[museums]</td>\n      <td>{'lat': 40.33774657696426, 'lon': 18.182064664...</td>\n      <td>senior</td>\n    </tr>\n    <tr>\n      <th>10</th>\n      <td>10</td>\n      <td>female</td>\n      <td>Victoria Pierce</td>\n      <td>40+</td>\n      <td>True</td>\n      <td>[bulgarian, deutsche]</td>\n      <td>low_cost</td>\n      <td>high-school</td>\n      <td>Analytical chemist</td>\n      <td>[cinema, rafting, sport, museums, countryside]</td>\n      <td>{'lat': 40.36612881009787, 'lon': 18.182042843...</td>\n      <td>senior</td>\n    </tr>\n    <tr>\n      <th>11</th>\n      <td>11</td>\n      <td>female</td>\n      <td>Desiree Chavez</td>\n      <td>40+</td>\n      <td>True</td>\n      <td>[bulgarian]</td>\n      <td>low_cost</td>\n      <td>phd</td>\n      <td>Lecturer, higher education</td>\n      <td>[cinema, beer, rafting]</td>\n      <td>{'lat': 40.367394960036485, 'lon': 18.17553586...</td>\n      <td>senior</td>\n    </tr>\n    <tr>\n      <th>12</th>\n      <td>12</td>\n      <td>female</td>\n      <td>Lindsey Munoz</td>\n      <td>40+</td>\n      <td>True</td>\n      <td>[dutch, french, italian]</td>\n      <td>low_cost</td>\n      <td>bachelor</td>\n      <td>Surgeon</td>\n      <td>[sport, music, beer]</td>\n      <td>{'lat': 40.34268462008425, 'lon': 18.187542175...</td>\n      <td>junior</td>\n    </tr>\n    <tr>\n      <th>13</th>\n      <td>13</td>\n      <td>female</td>\n      <td>Megan Turner</td>\n      <td>40+</td>\n      <td>True</td>\n      <td>[chinese, english]</td>\n      <td>medium_cost</td>\n      <td>master</td>\n      <td>Clinical molecular geneticist</td>\n      <td>[sport, archeology, beer]</td>\n      <td>{'lat': 40.35377358678542, 'lon': 18.174728239...</td>\n      <td>experienced</td>\n    </tr>\n    <tr>\n      <th>14</th>\n      <td>14</td>\n      <td>male</td>\n      <td>Jose Sexton</td>\n      <td>20-40</td>\n      <td>True</td>\n      <td>[chinese, french]</td>\n      <td>high_cost</td>\n      <td>middle-school</td>\n      <td>Physiological scientist</td>\n      <td>[museums]</td>\n      <td>{'lat': 40.353069674191346, 'lon': 18.17755576...</td>\n      <td>experienced</td>\n    </tr>\n    <tr>\n      <th>15</th>\n      <td>15</td>\n      <td>male</td>\n      <td>Richard Conway</td>\n      <td>40+</td>\n      <td>True</td>\n      <td>[deutsche, chinese]</td>\n      <td>medium_cost</td>\n      <td>middle-school</td>\n      <td>Accountant, chartered public finance</td>\n      <td>[music, food, tracking, archeology]</td>\n      <td>{'lat': 40.35272705494921, 'lon': 18.165705019...</td>\n      <td>junior</td>\n    </tr>\n    <tr>\n      <th>16</th>\n      <td>16</td>\n      <td>male</td>\n      <td>Benjamin Taylor</td>\n      <td>40+</td>\n      <td>True</td>\n      <td>[spanish, bulgarian, french]</td>\n      <td>medium_cost</td>\n      <td>middle-school</td>\n      <td>Designer, interior/spatial</td>\n      <td>[countryside, music, beer]</td>\n      <td>{'lat': 40.32347428820915, 'lon': 18.164571467...</td>\n      <td>senior</td>\n    </tr>\n    <tr>\n      <th>17</th>\n      <td>17</td>\n      <td>male</td>\n      <td>Stephen Myers</td>\n      <td>40+</td>\n      <td>True</td>\n      <td>[dutch]</td>\n      <td>medium_cost</td>\n      <td>master</td>\n      <td>Producer, radio</td>\n      <td>[wine, sport, art]</td>\n      <td>{'lat': 40.36624424923941, 'lon': 18.174443383...</td>\n      <td>senior</td>\n    </tr>\n    <tr>\n      <th>18</th>\n      <td>18</td>\n      <td>male</td>\n      <td>Craig Conrad</td>\n      <td>20-40</td>\n      <td>True</td>\n      <td>[italian, dutch]</td>\n      <td>low_cost</td>\n      <td>bachelor</td>\n      <td>Paediatric nurse</td>\n      <td>[food]</td>\n      <td>{'lat': 40.362871505646005, 'lon': 18.18292777...</td>\n      <td>experienced</td>\n    </tr>\n    <tr>\n      <th>19</th>\n      <td>19</td>\n      <td>female</td>\n      <td>Cynthia Peters</td>\n      <td>40+</td>\n      <td>True</td>\n      <td>[bulgarian, deutsche, english]</td>\n      <td>high_cost</td>\n      <td>middle-school</td>\n      <td>Chief Technology Officer</td>\n      <td>[]</td>\n      <td>{'lat': 40.339915788807765, 'lon': 18.18379781...</td>\n      <td>senior</td>\n    </tr>\n    <tr>\n      <th>20</th>\n      <td>20</td>\n      <td>female</td>\n      <td>Stephanie Garcia</td>\n      <td>20-40</td>\n      <td>True</td>\n      <td>[deutsche, french]</td>\n      <td>high_cost</td>\n      <td>master</td>\n      <td>Field seismologist</td>\n      <td>[rafting, museums, food]</td>\n      <td>{'lat': 40.357612936236265, 'lon': 18.16907898...</td>\n      <td>experienced</td>\n    </tr>\n    <tr>\n      <th>21</th>\n      <td>21</td>\n      <td>male</td>\n      <td>Donald Olson</td>\n      <td>40+</td>\n      <td>True</td>\n      <td>[chinese]</td>\n      <td>medium_cost</td>\n      <td>high-school</td>\n      <td>Data scientist</td>\n      <td>[cinema]</td>\n      <td>{'lat': 40.342846292499104, 'lon': 18.16089760...</td>\n      <td>senior</td>\n    </tr>\n    <tr>\n      <th>22</th>\n      <td>22</td>\n      <td>female</td>\n      <td>Meghan Sandoval</td>\n      <td>40+</td>\n      <td>True</td>\n      <td>[chinese, spanish]</td>\n      <td>medium_cost</td>\n      <td>high-school</td>\n      <td>Magazine journalist</td>\n      <td>[history, countryside, cinema, literature, music]</td>\n      <td>{'lat': 40.36846436096489, 'lon': 18.171263566...</td>\n      <td>senior</td>\n    </tr>\n    <tr>\n      <th>23</th>\n      <td>23</td>\n      <td>female</td>\n      <td>Brenda Hartman</td>\n      <td>20-40</td>\n      <td>True</td>\n      <td>[english, italian, bulgarian]</td>\n      <td>low_cost</td>\n      <td>middle-school</td>\n      <td>Child psychotherapist</td>\n      <td>[tracking]</td>\n      <td>{'lat': 40.364408581391295, 'lon': 18.16428124...</td>\n      <td>experienced</td>\n    </tr>\n    <tr>\n      <th>24</th>\n      <td>24</td>\n      <td>female</td>\n      <td>Cynthia Armstrong</td>\n      <td>20-40</td>\n      <td>True</td>\n      <td>[dutch, italian, bulgarian]</td>\n      <td>medium_cost</td>\n      <td>high-school</td>\n      <td>Maintenance engineer</td>\n      <td>[]</td>\n      <td>{'lat': 40.32998981194129, 'lon': 18.175342312...</td>\n      <td>experienced</td>\n    </tr>\n    <tr>\n      <th>25</th>\n      <td>25</td>\n      <td>female</td>\n      <td>Rebecca Miller</td>\n      <td>20-40</td>\n      <td>True</td>\n      <td>[bulgarian]</td>\n      <td>medium_cost</td>\n      <td>phd</td>\n      <td>Theme park manager</td>\n      <td>[literature]</td>\n      <td>{'lat': 40.36710284805045, 'lon': 18.179956956...</td>\n      <td>senior</td>\n    </tr>\n    <tr>\n      <th>26</th>\n      <td>26</td>\n      <td>male</td>\n      <td>Michael Watson</td>\n      <td>20-40</td>\n      <td>True</td>\n      <td>[dutch]</td>\n      <td>medium_cost</td>\n      <td>phd</td>\n      <td>Paediatric nurse</td>\n      <td>[tracking, beer, museums]</td>\n      <td>{'lat': 40.37981446263931, 'lon': 18.178854600...</td>\n      <td>junior</td>\n    </tr>\n    <tr>\n      <th>27</th>\n      <td>27</td>\n      <td>female</td>\n      <td>Amy Ford</td>\n      <td>20-40</td>\n      <td>True</td>\n      <td>[italian]</td>\n      <td>medium_cost</td>\n      <td>phd</td>\n      <td>Teacher, primary school</td>\n      <td>[countryside, beer]</td>\n      <td>{'lat': 40.3457074414046, 'lon': 18.1747654675...</td>\n      <td>senior</td>\n    </tr>\n    <tr>\n      <th>28</th>\n      <td>28</td>\n      <td>female</td>\n      <td>Jackie Peterson</td>\n      <td>40+</td>\n      <td>True</td>\n      <td>[spanish]</td>\n      <td>medium_cost</td>\n      <td>middle-school</td>\n      <td>Educational psychologist</td>\n      <td>[food, rafting, museums, music, art, tracking]</td>\n      <td>{'lat': 40.35079556972286, 'lon': 18.181927024...</td>\n      <td>senior</td>\n    </tr>\n    <tr>\n      <th>29</th>\n      <td>29</td>\n      <td>female</td>\n      <td>Melanie Huber</td>\n      <td>40+</td>\n      <td>True</td>\n      <td>[bulgarian, chinese]</td>\n      <td>medium_cost</td>\n      <td>master</td>\n      <td>Health and safety adviser</td>\n      <td>[archeology, literature, tracking]</td>\n      <td>{'lat': 40.35465462623879, 'lon': 18.172666005...</td>\n      <td>senior</td>\n    </tr>\n    <tr>\n      <th>30</th>\n      <td>30</td>\n      <td>female</td>\n      <td>Samantha Richards</td>\n      <td>20-40</td>\n      <td>True</td>\n      <td>[french, deutsche, english]</td>\n      <td>medium_cost</td>\n      <td>bachelor</td>\n      <td>Food technologist</td>\n      <td>[music]</td>\n      <td>{'lat': 40.361047668976795, 'lon': 18.18633484...</td>\n      <td>junior</td>\n    </tr>\n    <tr>\n      <th>31</th>\n      <td>31</td>\n      <td>male</td>\n      <td>James Jordan</td>\n      <td>40+</td>\n      <td>True</td>\n      <td>[deutsche, french, english]</td>\n      <td>low_cost</td>\n      <td>master</td>\n      <td>Arboriculturist</td>\n      <td>[music, countryside, food]</td>\n      <td>{'lat': 40.339171732936364, 'lon': 18.16792590...</td>\n      <td>experienced</td>\n    </tr>\n    <tr>\n      <th>32</th>\n      <td>32</td>\n      <td>female</td>\n      <td>Sarah Cortez</td>\n      <td>40+</td>\n      <td>True</td>\n      <td>[french, bulgarian]</td>\n      <td>medium_cost</td>\n      <td>phd</td>\n      <td>Chartered public finance accountant</td>\n      <td>[archeology, music]</td>\n      <td>{'lat': 40.343414579847, 'lon': 18.18565562805...</td>\n      <td>senior</td>\n    </tr>\n    <tr>\n      <th>33</th>\n      <td>33</td>\n      <td>male</td>\n      <td>Kevin Ramos</td>\n      <td>40+</td>\n      <td>True</td>\n      <td>[french]</td>\n      <td>medium_cost</td>\n      <td>middle-school</td>\n      <td>Recycling officer</td>\n      <td>[beer, music, countryside, archeology]</td>\n      <td>{'lat': 40.34424559835338, 'lon': 18.174907197...</td>\n      <td>junior</td>\n    </tr>\n    <tr>\n      <th>34</th>\n      <td>34</td>\n      <td>female</td>\n      <td>Veronica Brewer</td>\n      <td>40+</td>\n      <td>True</td>\n      <td>[chinese, spanish, bulgarian, italian]</td>\n      <td>medium_cost</td>\n      <td>middle-school</td>\n      <td>Community arts worker</td>\n      <td>[]</td>\n      <td>{'lat': 40.38198340911851, 'lon': 18.173378831...</td>\n      <td>senior</td>\n    </tr>\n    <tr>\n      <th>35</th>\n      <td>35</td>\n      <td>male</td>\n      <td>Michael Cox</td>\n      <td>20-40</td>\n      <td>True</td>\n      <td>[italian, french]</td>\n      <td>medium_cost</td>\n      <td>master</td>\n      <td>Tour manager</td>\n      <td>[music]</td>\n      <td>{'lat': 40.36699713437984, 'lon': 18.165786470...</td>\n      <td>junior</td>\n    </tr>\n    <tr>\n      <th>36</th>\n      <td>36</td>\n      <td>male</td>\n      <td>Ryan Garza</td>\n      <td>40+</td>\n      <td>True</td>\n      <td>[spanish]</td>\n      <td>medium_cost</td>\n      <td>phd</td>\n      <td>Retail merchandiser</td>\n      <td>[]</td>\n      <td>{'lat': 40.358649720289904, 'lon': 18.16378056...</td>\n      <td>junior</td>\n    </tr>\n    <tr>\n      <th>37</th>\n      <td>37</td>\n      <td>male</td>\n      <td>Vincent Guzman</td>\n      <td>40+</td>\n      <td>True</td>\n      <td>[dutch]</td>\n      <td>medium_cost</td>\n      <td>master</td>\n      <td>Copy</td>\n      <td>[]</td>\n      <td>{'lat': 40.3604075695112, 'lon': 18.1615738690...</td>\n      <td>junior</td>\n    </tr>\n    <tr>\n      <th>38</th>\n      <td>38</td>\n      <td>female</td>\n      <td>Dana Ford</td>\n      <td>40+</td>\n      <td>True</td>\n      <td>[italian]</td>\n      <td>medium_cost</td>\n      <td>master</td>\n      <td>Accountant, chartered public finance</td>\n      <td>[]</td>\n      <td>{'lat': 40.36497247240833, 'lon': 18.173581152...</td>\n      <td>experienced</td>\n    </tr>\n    <tr>\n      <th>39</th>\n      <td>39</td>\n      <td>female</td>\n      <td>Caitlyn Hernandez</td>\n      <td>20-40</td>\n      <td>True</td>\n      <td>[spanish, dutch]</td>\n      <td>medium_cost</td>\n      <td>middle-school</td>\n      <td>Financial adviser</td>\n      <td>[history]</td>\n      <td>{'lat': 40.35901486939172, 'lon': 18.166553513...</td>\n      <td>junior</td>\n    </tr>\n    <tr>\n      <th>40</th>\n      <td>40</td>\n      <td>male</td>\n      <td>Scott Estrada</td>\n      <td>20-40</td>\n      <td>True</td>\n      <td>[italian]</td>\n      <td>low_cost</td>\n      <td>bachelor</td>\n      <td>Mining engineer</td>\n      <td>[beer, sport]</td>\n      <td>{'lat': 40.34034377570991, 'lon': 18.188590844...</td>\n      <td>experienced</td>\n    </tr>\n    <tr>\n      <th>41</th>\n      <td>41</td>\n      <td>female</td>\n      <td>Allison Smith</td>\n      <td>40+</td>\n      <td>True</td>\n      <td>[spanish]</td>\n      <td>low_cost</td>\n      <td>bachelor</td>\n      <td>Nurse, children's</td>\n      <td>[food]</td>\n      <td>{'lat': 40.356194515663795, 'lon': 18.16539593...</td>\n      <td>experienced</td>\n    </tr>\n    <tr>\n      <th>42</th>\n      <td>42</td>\n      <td>female</td>\n      <td>Melinda Mccoy</td>\n      <td>20-40</td>\n      <td>True</td>\n      <td>[bulgarian]</td>\n      <td>medium_cost</td>\n      <td>bachelor</td>\n      <td>Animal technologist</td>\n      <td>[tracking, sport]</td>\n      <td>{'lat': 40.349356335154205, 'lon': 18.18610449...</td>\n      <td>junior</td>\n    </tr>\n    <tr>\n      <th>43</th>\n      <td>43</td>\n      <td>male</td>\n      <td>Michael Anderson</td>\n      <td>40+</td>\n      <td>True</td>\n      <td>[deutsche]</td>\n      <td>medium_cost</td>\n      <td>master</td>\n      <td>Armed forces operational officer</td>\n      <td>[wine, sport, music]</td>\n      <td>{'lat': 40.356561258599, 'lon': 18.17741263290...</td>\n      <td>senior</td>\n    </tr>\n    <tr>\n      <th>44</th>\n      <td>44</td>\n      <td>female</td>\n      <td>Cassandra Austin</td>\n      <td>20-40</td>\n      <td>True</td>\n      <td>[chinese, italian, bulgarian]</td>\n      <td>medium_cost</td>\n      <td>master</td>\n      <td>Lecturer, higher education</td>\n      <td>[tracking, food]</td>\n      <td>{'lat': 40.34725861741012, 'lon': 18.185162322...</td>\n      <td>junior</td>\n    </tr>\n    <tr>\n      <th>45</th>\n      <td>45</td>\n      <td>female</td>\n      <td>Lisa Walters</td>\n      <td>20-40</td>\n      <td>True</td>\n      <td>[chinese, french, dutch]</td>\n      <td>low_cost</td>\n      <td>master</td>\n      <td>Financial manager</td>\n      <td>[tracking, history]</td>\n      <td>{'lat': 40.35881498111186, 'lon': 18.158864927...</td>\n      <td>experienced</td>\n    </tr>\n    <tr>\n      <th>46</th>\n      <td>46</td>\n      <td>male</td>\n      <td>Michael Webb</td>\n      <td>40+</td>\n      <td>True</td>\n      <td>[chinese]</td>\n      <td>high_cost</td>\n      <td>phd</td>\n      <td>Sales promotion account executive</td>\n      <td>[history, rafting, tracking]</td>\n      <td>{'lat': 40.34171672836494, 'lon': 18.178777448...</td>\n      <td>senior</td>\n    </tr>\n    <tr>\n      <th>47</th>\n      <td>47</td>\n      <td>female</td>\n      <td>Gabriella Garcia</td>\n      <td>40+</td>\n      <td>True</td>\n      <td>[italian, dutch, deutsche]</td>\n      <td>medium_cost</td>\n      <td>middle-school</td>\n      <td>Building services engineer</td>\n      <td>[countryside, history]</td>\n      <td>{'lat': 40.36082148859915, 'lon': 18.183171947...</td>\n      <td>junior</td>\n    </tr>\n    <tr>\n      <th>48</th>\n      <td>48</td>\n      <td>female</td>\n      <td>Jessica Mitchell</td>\n      <td>40+</td>\n      <td>True</td>\n      <td>[italian, bulgarian]</td>\n      <td>medium_cost</td>\n      <td>high-school</td>\n      <td>Geophysicist/field seismologist</td>\n      <td>[]</td>\n      <td>{'lat': 40.34687214441545, 'lon': 18.186650378...</td>\n      <td>senior</td>\n    </tr>\n    <tr>\n      <th>49</th>\n      <td>49</td>\n      <td>male</td>\n      <td>Paul Olsen</td>\n      <td>20-40</td>\n      <td>True</td>\n      <td>[french, bulgarian]</td>\n      <td>medium_cost</td>\n      <td>middle-school</td>\n      <td>Conservator, furniture</td>\n      <td>[countryside, tracking]</td>\n      <td>{'lat': 40.356077323370634, 'lon': 18.15442986...</td>\n      <td>experienced</td>\n    </tr>\n  </tbody>\n</table>\n</div>"
     },
     "execution_count": 15,
     "metadata": {},
     "output_type": "execute_result"
    }
   ],
   "source": [
    "# Show the dataframe\n",
    "icm_df"
   ]
  },
  {
   "cell_type": "code",
   "execution_count": 16,
   "id": "a4b74f27",
   "metadata": {
    "pycharm": {
     "name": "#%%\n"
    }
   },
   "outputs": [],
   "source": [
    "# Remove the columns that we would not consider as relevant static attributes for guides\n",
    "icm_df.drop(labels=['name', 'now_available', 'current_location'], axis=1, inplace=True)"
   ]
  },
  {
   "cell_type": "code",
   "execution_count": 17,
   "id": "e6f6e291",
   "metadata": {
    "pycharm": {
     "name": "#%%\n"
    }
   },
   "outputs": [],
   "source": [
    "# Split the categorical attributes into separate columns\n",
    "multiclass_attributes = ['gender', 'price', 'experience', 'birth_date', 'education', 'biography', 'languages_spoken', 'keywords']\n",
    "\n",
    "# The result would have value 1 for each cell corresponding to an attribute owned by a guide\n",
    "# and 0 otherwise\n",
    "for n in multiclass_attributes:\n",
    "\n",
    "    # Explode lists of attributes to a subset of columns\n",
    "    s = icm_df[n].explode()\n",
    "\n",
    "    # Augment the dataframe with columns corresponding to each category, which belongs to the set of attributes. The cell values are determined by the counts of occurrences for each element.\n",
    "    # (if the intersection is not null, the cell has value 1, otherwise it is filled with 0)\n",
    "    icm_df = icm_df.join(pd.crosstab(s.index, s).astype(object)).fillna(0)\n",
    "\n",
    "    # Drop the original column\n",
    "    icm_df.drop(labels=n,axis=1,inplace=True)"
   ]
  },
  {
   "cell_type": "code",
   "execution_count": 18,
   "id": "0158f4b0",
   "metadata": {
    "pycharm": {
     "name": "#%%\n"
    }
   },
   "outputs": [
    {
     "data": {
      "text/plain": "    id  female  male  high_cost  low_cost  medium_cost  experienced  junior  \\\n0    0       0     1          0         0            1            1       0   \n1    1       1     0          1         0            0            0       1   \n2    2       1     0          0         0            1            0       0   \n3    3       0     1          1         0            0            0       0   \n4    4       0     1          0         0            1            0       0   \n5    5       0     1          0         0            1            0       1   \n6    6       0     1          0         0            1            0       1   \n7    7       0     1          0         0            1            1       0   \n8    8       0     1          0         0            1            0       1   \n9    9       0     1          1         0            0            0       0   \n10  10       1     0          0         1            0            0       0   \n11  11       1     0          0         1            0            0       0   \n12  12       1     0          0         1            0            0       1   \n13  13       1     0          0         0            1            1       0   \n14  14       0     1          1         0            0            1       0   \n15  15       0     1          0         0            1            0       1   \n16  16       0     1          0         0            1            0       0   \n17  17       0     1          0         0            1            0       0   \n18  18       0     1          0         1            0            1       0   \n19  19       1     0          1         0            0            0       0   \n20  20       1     0          1         0            0            1       0   \n21  21       0     1          0         0            1            0       0   \n22  22       1     0          0         0            1            0       0   \n23  23       1     0          0         1            0            1       0   \n24  24       1     0          0         0            1            1       0   \n25  25       1     0          0         0            1            0       0   \n26  26       0     1          0         0            1            0       1   \n27  27       1     0          0         0            1            0       0   \n28  28       1     0          0         0            1            0       0   \n29  29       1     0          0         0            1            0       0   \n30  30       1     0          0         0            1            0       1   \n31  31       0     1          0         1            0            1       0   \n32  32       1     0          0         0            1            0       0   \n33  33       0     1          0         0            1            0       1   \n34  34       1     0          0         0            1            0       0   \n35  35       0     1          0         0            1            0       1   \n36  36       0     1          0         0            1            0       1   \n37  37       0     1          0         0            1            0       1   \n38  38       1     0          0         0            1            1       0   \n39  39       1     0          0         0            1            0       1   \n40  40       0     1          0         1            0            1       0   \n41  41       1     0          0         1            0            1       0   \n42  42       1     0          0         0            1            0       1   \n43  43       0     1          0         0            1            0       0   \n44  44       1     0          0         0            1            0       1   \n45  45       1     0          0         1            0            1       0   \n46  46       0     1          1         0            0            0       0   \n47  47       1     0          0         0            1            0       1   \n48  48       1     0          0         0            1            0       0   \n49  49       0     1          0         0            1            1       0   \n\n    senior  20-40  ...  countryside  food  history  literature  museums  \\\n0        0      1  ...            0     0        0           0        1   \n1        0      1  ...            0     0        1           0        0   \n2        1      0  ...            0     1        0           0        0   \n3        1      0  ...            1     0        0           0        0   \n4        1      0  ...            1     0        0           0        0   \n5        0      1  ...            0     0        0           0        0   \n6        0      1  ...            0     0        0           0        0   \n7        0      0  ...            1     0        0           0        1   \n8        0      1  ...            0     0        0           1        0   \n9        1      1  ...            0     0        0           0        1   \n10       1      0  ...            1     0        0           0        1   \n11       1      0  ...            0     0        0           0        0   \n12       0      0  ...            0     0        0           0        0   \n13       0      0  ...            0     0        0           0        0   \n14       0      1  ...            0     0        0           0        1   \n15       0      0  ...            0     1        0           0        0   \n16       1      0  ...            1     0        0           0        0   \n17       1      0  ...            0     0        0           0        0   \n18       0      1  ...            0     1        0           0        0   \n19       1      0  ...            0     0        0           0        0   \n20       0      1  ...            0     1        0           0        1   \n21       1      0  ...            0     0        0           0        0   \n22       1      0  ...            1     0        1           1        0   \n23       0      1  ...            0     0        0           0        0   \n24       0      1  ...            0     0        0           0        0   \n25       1      1  ...            0     0        0           1        0   \n26       0      1  ...            0     0        0           0        1   \n27       1      1  ...            1     0        0           0        0   \n28       1      0  ...            0     1        0           0        1   \n29       1      0  ...            0     0        0           1        0   \n30       0      1  ...            0     0        0           0        0   \n31       0      0  ...            1     1        0           0        0   \n32       1      0  ...            0     0        0           0        0   \n33       0      0  ...            1     0        0           0        0   \n34       1      0  ...            0     0        0           0        0   \n35       0      1  ...            0     0        0           0        0   \n36       0      0  ...            0     0        0           0        0   \n37       0      0  ...            0     0        0           0        0   \n38       0      0  ...            0     0        0           0        0   \n39       0      1  ...            0     0        1           0        0   \n40       0      1  ...            0     0        0           0        0   \n41       0      0  ...            0     1        0           0        0   \n42       0      1  ...            0     0        0           0        0   \n43       1      0  ...            0     0        0           0        0   \n44       0      1  ...            0     1        0           0        0   \n45       0      1  ...            0     0        1           0        0   \n46       1      0  ...            0     0        1           0        0   \n47       0      0  ...            1     0        1           0        0   \n48       1      0  ...            0     0        0           0        0   \n49       0      1  ...            1     0        0           0        0   \n\n    music  rafting  sport  tracking  wine  \n0       0        0      0         0     0  \n1       0        1      0         0     1  \n2       0        0      0         0     0  \n3       0        1      0         0     0  \n4       0        0      0         1     0  \n5       0        0      0         0     0  \n6       0        1      1         0     0  \n7       0        0      0         0     1  \n8       1        0      0         0     0  \n9       0        0      0         0     0  \n10      0        1      1         0     0  \n11      0        1      0         0     0  \n12      1        0      1         0     0  \n13      0        0      1         0     0  \n14      0        0      0         0     0  \n15      1        0      0         1     0  \n16      1        0      0         0     0  \n17      0        0      1         0     1  \n18      0        0      0         0     0  \n19      0        0      0         0     0  \n20      0        1      0         0     0  \n21      0        0      0         0     0  \n22      1        0      0         0     0  \n23      0        0      0         1     0  \n24      0        0      0         0     0  \n25      0        0      0         0     0  \n26      0        0      0         1     0  \n27      0        0      0         0     0  \n28      1        1      0         1     0  \n29      0        0      0         1     0  \n30      1        0      0         0     0  \n31      1        0      0         0     0  \n32      1        0      0         0     0  \n33      1        0      0         0     0  \n34      0        0      0         0     0  \n35      1        0      0         0     0  \n36      0        0      0         0     0  \n37      0        0      0         0     0  \n38      0        0      0         0     0  \n39      0        0      0         0     0  \n40      0        0      1         0     0  \n41      0        0      0         0     0  \n42      0        0      1         1     0  \n43      1        0      1         0     1  \n44      0        0      0         1     0  \n45      0        0      0         1     0  \n46      0        1      0         1     0  \n47      0        0      0         0     0  \n48      0        0      0         0     0  \n49      0        0      0         1     0  \n\n[50 rows x 85 columns]",
      "text/html": "<div>\n<style scoped>\n    .dataframe tbody tr th:only-of-type {\n        vertical-align: middle;\n    }\n\n    .dataframe tbody tr th {\n        vertical-align: top;\n    }\n\n    .dataframe thead th {\n        text-align: right;\n    }\n</style>\n<table border=\"1\" class=\"dataframe\">\n  <thead>\n    <tr style=\"text-align: right;\">\n      <th></th>\n      <th>id</th>\n      <th>female</th>\n      <th>male</th>\n      <th>high_cost</th>\n      <th>low_cost</th>\n      <th>medium_cost</th>\n      <th>experienced</th>\n      <th>junior</th>\n      <th>senior</th>\n      <th>20-40</th>\n      <th>...</th>\n      <th>countryside</th>\n      <th>food</th>\n      <th>history</th>\n      <th>literature</th>\n      <th>museums</th>\n      <th>music</th>\n      <th>rafting</th>\n      <th>sport</th>\n      <th>tracking</th>\n      <th>wine</th>\n    </tr>\n  </thead>\n  <tbody>\n    <tr>\n      <th>0</th>\n      <td>0</td>\n      <td>0</td>\n      <td>1</td>\n      <td>0</td>\n      <td>0</td>\n      <td>1</td>\n      <td>1</td>\n      <td>0</td>\n      <td>0</td>\n      <td>1</td>\n      <td>...</td>\n      <td>0</td>\n      <td>0</td>\n      <td>0</td>\n      <td>0</td>\n      <td>1</td>\n      <td>0</td>\n      <td>0</td>\n      <td>0</td>\n      <td>0</td>\n      <td>0</td>\n    </tr>\n    <tr>\n      <th>1</th>\n      <td>1</td>\n      <td>1</td>\n      <td>0</td>\n      <td>1</td>\n      <td>0</td>\n      <td>0</td>\n      <td>0</td>\n      <td>1</td>\n      <td>0</td>\n      <td>1</td>\n      <td>...</td>\n      <td>0</td>\n      <td>0</td>\n      <td>1</td>\n      <td>0</td>\n      <td>0</td>\n      <td>0</td>\n      <td>1</td>\n      <td>0</td>\n      <td>0</td>\n      <td>1</td>\n    </tr>\n    <tr>\n      <th>2</th>\n      <td>2</td>\n      <td>1</td>\n      <td>0</td>\n      <td>0</td>\n      <td>0</td>\n      <td>1</td>\n      <td>0</td>\n      <td>0</td>\n      <td>1</td>\n      <td>0</td>\n      <td>...</td>\n      <td>0</td>\n      <td>1</td>\n      <td>0</td>\n      <td>0</td>\n      <td>0</td>\n      <td>0</td>\n      <td>0</td>\n      <td>0</td>\n      <td>0</td>\n      <td>0</td>\n    </tr>\n    <tr>\n      <th>3</th>\n      <td>3</td>\n      <td>0</td>\n      <td>1</td>\n      <td>1</td>\n      <td>0</td>\n      <td>0</td>\n      <td>0</td>\n      <td>0</td>\n      <td>1</td>\n      <td>0</td>\n      <td>...</td>\n      <td>1</td>\n      <td>0</td>\n      <td>0</td>\n      <td>0</td>\n      <td>0</td>\n      <td>0</td>\n      <td>1</td>\n      <td>0</td>\n      <td>0</td>\n      <td>0</td>\n    </tr>\n    <tr>\n      <th>4</th>\n      <td>4</td>\n      <td>0</td>\n      <td>1</td>\n      <td>0</td>\n      <td>0</td>\n      <td>1</td>\n      <td>0</td>\n      <td>0</td>\n      <td>1</td>\n      <td>0</td>\n      <td>...</td>\n      <td>1</td>\n      <td>0</td>\n      <td>0</td>\n      <td>0</td>\n      <td>0</td>\n      <td>0</td>\n      <td>0</td>\n      <td>0</td>\n      <td>1</td>\n      <td>0</td>\n    </tr>\n    <tr>\n      <th>5</th>\n      <td>5</td>\n      <td>0</td>\n      <td>1</td>\n      <td>0</td>\n      <td>0</td>\n      <td>1</td>\n      <td>0</td>\n      <td>1</td>\n      <td>0</td>\n      <td>1</td>\n      <td>...</td>\n      <td>0</td>\n      <td>0</td>\n      <td>0</td>\n      <td>0</td>\n      <td>0</td>\n      <td>0</td>\n      <td>0</td>\n      <td>0</td>\n      <td>0</td>\n      <td>0</td>\n    </tr>\n    <tr>\n      <th>6</th>\n      <td>6</td>\n      <td>0</td>\n      <td>1</td>\n      <td>0</td>\n      <td>0</td>\n      <td>1</td>\n      <td>0</td>\n      <td>1</td>\n      <td>0</td>\n      <td>1</td>\n      <td>...</td>\n      <td>0</td>\n      <td>0</td>\n      <td>0</td>\n      <td>0</td>\n      <td>0</td>\n      <td>0</td>\n      <td>1</td>\n      <td>1</td>\n      <td>0</td>\n      <td>0</td>\n    </tr>\n    <tr>\n      <th>7</th>\n      <td>7</td>\n      <td>0</td>\n      <td>1</td>\n      <td>0</td>\n      <td>0</td>\n      <td>1</td>\n      <td>1</td>\n      <td>0</td>\n      <td>0</td>\n      <td>0</td>\n      <td>...</td>\n      <td>1</td>\n      <td>0</td>\n      <td>0</td>\n      <td>0</td>\n      <td>1</td>\n      <td>0</td>\n      <td>0</td>\n      <td>0</td>\n      <td>0</td>\n      <td>1</td>\n    </tr>\n    <tr>\n      <th>8</th>\n      <td>8</td>\n      <td>0</td>\n      <td>1</td>\n      <td>0</td>\n      <td>0</td>\n      <td>1</td>\n      <td>0</td>\n      <td>1</td>\n      <td>0</td>\n      <td>1</td>\n      <td>...</td>\n      <td>0</td>\n      <td>0</td>\n      <td>0</td>\n      <td>1</td>\n      <td>0</td>\n      <td>1</td>\n      <td>0</td>\n      <td>0</td>\n      <td>0</td>\n      <td>0</td>\n    </tr>\n    <tr>\n      <th>9</th>\n      <td>9</td>\n      <td>0</td>\n      <td>1</td>\n      <td>1</td>\n      <td>0</td>\n      <td>0</td>\n      <td>0</td>\n      <td>0</td>\n      <td>1</td>\n      <td>1</td>\n      <td>...</td>\n      <td>0</td>\n      <td>0</td>\n      <td>0</td>\n      <td>0</td>\n      <td>1</td>\n      <td>0</td>\n      <td>0</td>\n      <td>0</td>\n      <td>0</td>\n      <td>0</td>\n    </tr>\n    <tr>\n      <th>10</th>\n      <td>10</td>\n      <td>1</td>\n      <td>0</td>\n      <td>0</td>\n      <td>1</td>\n      <td>0</td>\n      <td>0</td>\n      <td>0</td>\n      <td>1</td>\n      <td>0</td>\n      <td>...</td>\n      <td>1</td>\n      <td>0</td>\n      <td>0</td>\n      <td>0</td>\n      <td>1</td>\n      <td>0</td>\n      <td>1</td>\n      <td>1</td>\n      <td>0</td>\n      <td>0</td>\n    </tr>\n    <tr>\n      <th>11</th>\n      <td>11</td>\n      <td>1</td>\n      <td>0</td>\n      <td>0</td>\n      <td>1</td>\n      <td>0</td>\n      <td>0</td>\n      <td>0</td>\n      <td>1</td>\n      <td>0</td>\n      <td>...</td>\n      <td>0</td>\n      <td>0</td>\n      <td>0</td>\n      <td>0</td>\n      <td>0</td>\n      <td>0</td>\n      <td>1</td>\n      <td>0</td>\n      <td>0</td>\n      <td>0</td>\n    </tr>\n    <tr>\n      <th>12</th>\n      <td>12</td>\n      <td>1</td>\n      <td>0</td>\n      <td>0</td>\n      <td>1</td>\n      <td>0</td>\n      <td>0</td>\n      <td>1</td>\n      <td>0</td>\n      <td>0</td>\n      <td>...</td>\n      <td>0</td>\n      <td>0</td>\n      <td>0</td>\n      <td>0</td>\n      <td>0</td>\n      <td>1</td>\n      <td>0</td>\n      <td>1</td>\n      <td>0</td>\n      <td>0</td>\n    </tr>\n    <tr>\n      <th>13</th>\n      <td>13</td>\n      <td>1</td>\n      <td>0</td>\n      <td>0</td>\n      <td>0</td>\n      <td>1</td>\n      <td>1</td>\n      <td>0</td>\n      <td>0</td>\n      <td>0</td>\n      <td>...</td>\n      <td>0</td>\n      <td>0</td>\n      <td>0</td>\n      <td>0</td>\n      <td>0</td>\n      <td>0</td>\n      <td>0</td>\n      <td>1</td>\n      <td>0</td>\n      <td>0</td>\n    </tr>\n    <tr>\n      <th>14</th>\n      <td>14</td>\n      <td>0</td>\n      <td>1</td>\n      <td>1</td>\n      <td>0</td>\n      <td>0</td>\n      <td>1</td>\n      <td>0</td>\n      <td>0</td>\n      <td>1</td>\n      <td>...</td>\n      <td>0</td>\n      <td>0</td>\n      <td>0</td>\n      <td>0</td>\n      <td>1</td>\n      <td>0</td>\n      <td>0</td>\n      <td>0</td>\n      <td>0</td>\n      <td>0</td>\n    </tr>\n    <tr>\n      <th>15</th>\n      <td>15</td>\n      <td>0</td>\n      <td>1</td>\n      <td>0</td>\n      <td>0</td>\n      <td>1</td>\n      <td>0</td>\n      <td>1</td>\n      <td>0</td>\n      <td>0</td>\n      <td>...</td>\n      <td>0</td>\n      <td>1</td>\n      <td>0</td>\n      <td>0</td>\n      <td>0</td>\n      <td>1</td>\n      <td>0</td>\n      <td>0</td>\n      <td>1</td>\n      <td>0</td>\n    </tr>\n    <tr>\n      <th>16</th>\n      <td>16</td>\n      <td>0</td>\n      <td>1</td>\n      <td>0</td>\n      <td>0</td>\n      <td>1</td>\n      <td>0</td>\n      <td>0</td>\n      <td>1</td>\n      <td>0</td>\n      <td>...</td>\n      <td>1</td>\n      <td>0</td>\n      <td>0</td>\n      <td>0</td>\n      <td>0</td>\n      <td>1</td>\n      <td>0</td>\n      <td>0</td>\n      <td>0</td>\n      <td>0</td>\n    </tr>\n    <tr>\n      <th>17</th>\n      <td>17</td>\n      <td>0</td>\n      <td>1</td>\n      <td>0</td>\n      <td>0</td>\n      <td>1</td>\n      <td>0</td>\n      <td>0</td>\n      <td>1</td>\n      <td>0</td>\n      <td>...</td>\n      <td>0</td>\n      <td>0</td>\n      <td>0</td>\n      <td>0</td>\n      <td>0</td>\n      <td>0</td>\n      <td>0</td>\n      <td>1</td>\n      <td>0</td>\n      <td>1</td>\n    </tr>\n    <tr>\n      <th>18</th>\n      <td>18</td>\n      <td>0</td>\n      <td>1</td>\n      <td>0</td>\n      <td>1</td>\n      <td>0</td>\n      <td>1</td>\n      <td>0</td>\n      <td>0</td>\n      <td>1</td>\n      <td>...</td>\n      <td>0</td>\n      <td>1</td>\n      <td>0</td>\n      <td>0</td>\n      <td>0</td>\n      <td>0</td>\n      <td>0</td>\n      <td>0</td>\n      <td>0</td>\n      <td>0</td>\n    </tr>\n    <tr>\n      <th>19</th>\n      <td>19</td>\n      <td>1</td>\n      <td>0</td>\n      <td>1</td>\n      <td>0</td>\n      <td>0</td>\n      <td>0</td>\n      <td>0</td>\n      <td>1</td>\n      <td>0</td>\n      <td>...</td>\n      <td>0</td>\n      <td>0</td>\n      <td>0</td>\n      <td>0</td>\n      <td>0</td>\n      <td>0</td>\n      <td>0</td>\n      <td>0</td>\n      <td>0</td>\n      <td>0</td>\n    </tr>\n    <tr>\n      <th>20</th>\n      <td>20</td>\n      <td>1</td>\n      <td>0</td>\n      <td>1</td>\n      <td>0</td>\n      <td>0</td>\n      <td>1</td>\n      <td>0</td>\n      <td>0</td>\n      <td>1</td>\n      <td>...</td>\n      <td>0</td>\n      <td>1</td>\n      <td>0</td>\n      <td>0</td>\n      <td>1</td>\n      <td>0</td>\n      <td>1</td>\n      <td>0</td>\n      <td>0</td>\n      <td>0</td>\n    </tr>\n    <tr>\n      <th>21</th>\n      <td>21</td>\n      <td>0</td>\n      <td>1</td>\n      <td>0</td>\n      <td>0</td>\n      <td>1</td>\n      <td>0</td>\n      <td>0</td>\n      <td>1</td>\n      <td>0</td>\n      <td>...</td>\n      <td>0</td>\n      <td>0</td>\n      <td>0</td>\n      <td>0</td>\n      <td>0</td>\n      <td>0</td>\n      <td>0</td>\n      <td>0</td>\n      <td>0</td>\n      <td>0</td>\n    </tr>\n    <tr>\n      <th>22</th>\n      <td>22</td>\n      <td>1</td>\n      <td>0</td>\n      <td>0</td>\n      <td>0</td>\n      <td>1</td>\n      <td>0</td>\n      <td>0</td>\n      <td>1</td>\n      <td>0</td>\n      <td>...</td>\n      <td>1</td>\n      <td>0</td>\n      <td>1</td>\n      <td>1</td>\n      <td>0</td>\n      <td>1</td>\n      <td>0</td>\n      <td>0</td>\n      <td>0</td>\n      <td>0</td>\n    </tr>\n    <tr>\n      <th>23</th>\n      <td>23</td>\n      <td>1</td>\n      <td>0</td>\n      <td>0</td>\n      <td>1</td>\n      <td>0</td>\n      <td>1</td>\n      <td>0</td>\n      <td>0</td>\n      <td>1</td>\n      <td>...</td>\n      <td>0</td>\n      <td>0</td>\n      <td>0</td>\n      <td>0</td>\n      <td>0</td>\n      <td>0</td>\n      <td>0</td>\n      <td>0</td>\n      <td>1</td>\n      <td>0</td>\n    </tr>\n    <tr>\n      <th>24</th>\n      <td>24</td>\n      <td>1</td>\n      <td>0</td>\n      <td>0</td>\n      <td>0</td>\n      <td>1</td>\n      <td>1</td>\n      <td>0</td>\n      <td>0</td>\n      <td>1</td>\n      <td>...</td>\n      <td>0</td>\n      <td>0</td>\n      <td>0</td>\n      <td>0</td>\n      <td>0</td>\n      <td>0</td>\n      <td>0</td>\n      <td>0</td>\n      <td>0</td>\n      <td>0</td>\n    </tr>\n    <tr>\n      <th>25</th>\n      <td>25</td>\n      <td>1</td>\n      <td>0</td>\n      <td>0</td>\n      <td>0</td>\n      <td>1</td>\n      <td>0</td>\n      <td>0</td>\n      <td>1</td>\n      <td>1</td>\n      <td>...</td>\n      <td>0</td>\n      <td>0</td>\n      <td>0</td>\n      <td>1</td>\n      <td>0</td>\n      <td>0</td>\n      <td>0</td>\n      <td>0</td>\n      <td>0</td>\n      <td>0</td>\n    </tr>\n    <tr>\n      <th>26</th>\n      <td>26</td>\n      <td>0</td>\n      <td>1</td>\n      <td>0</td>\n      <td>0</td>\n      <td>1</td>\n      <td>0</td>\n      <td>1</td>\n      <td>0</td>\n      <td>1</td>\n      <td>...</td>\n      <td>0</td>\n      <td>0</td>\n      <td>0</td>\n      <td>0</td>\n      <td>1</td>\n      <td>0</td>\n      <td>0</td>\n      <td>0</td>\n      <td>1</td>\n      <td>0</td>\n    </tr>\n    <tr>\n      <th>27</th>\n      <td>27</td>\n      <td>1</td>\n      <td>0</td>\n      <td>0</td>\n      <td>0</td>\n      <td>1</td>\n      <td>0</td>\n      <td>0</td>\n      <td>1</td>\n      <td>1</td>\n      <td>...</td>\n      <td>1</td>\n      <td>0</td>\n      <td>0</td>\n      <td>0</td>\n      <td>0</td>\n      <td>0</td>\n      <td>0</td>\n      <td>0</td>\n      <td>0</td>\n      <td>0</td>\n    </tr>\n    <tr>\n      <th>28</th>\n      <td>28</td>\n      <td>1</td>\n      <td>0</td>\n      <td>0</td>\n      <td>0</td>\n      <td>1</td>\n      <td>0</td>\n      <td>0</td>\n      <td>1</td>\n      <td>0</td>\n      <td>...</td>\n      <td>0</td>\n      <td>1</td>\n      <td>0</td>\n      <td>0</td>\n      <td>1</td>\n      <td>1</td>\n      <td>1</td>\n      <td>0</td>\n      <td>1</td>\n      <td>0</td>\n    </tr>\n    <tr>\n      <th>29</th>\n      <td>29</td>\n      <td>1</td>\n      <td>0</td>\n      <td>0</td>\n      <td>0</td>\n      <td>1</td>\n      <td>0</td>\n      <td>0</td>\n      <td>1</td>\n      <td>0</td>\n      <td>...</td>\n      <td>0</td>\n      <td>0</td>\n      <td>0</td>\n      <td>1</td>\n      <td>0</td>\n      <td>0</td>\n      <td>0</td>\n      <td>0</td>\n      <td>1</td>\n      <td>0</td>\n    </tr>\n    <tr>\n      <th>30</th>\n      <td>30</td>\n      <td>1</td>\n      <td>0</td>\n      <td>0</td>\n      <td>0</td>\n      <td>1</td>\n      <td>0</td>\n      <td>1</td>\n      <td>0</td>\n      <td>1</td>\n      <td>...</td>\n      <td>0</td>\n      <td>0</td>\n      <td>0</td>\n      <td>0</td>\n      <td>0</td>\n      <td>1</td>\n      <td>0</td>\n      <td>0</td>\n      <td>0</td>\n      <td>0</td>\n    </tr>\n    <tr>\n      <th>31</th>\n      <td>31</td>\n      <td>0</td>\n      <td>1</td>\n      <td>0</td>\n      <td>1</td>\n      <td>0</td>\n      <td>1</td>\n      <td>0</td>\n      <td>0</td>\n      <td>0</td>\n      <td>...</td>\n      <td>1</td>\n      <td>1</td>\n      <td>0</td>\n      <td>0</td>\n      <td>0</td>\n      <td>1</td>\n      <td>0</td>\n      <td>0</td>\n      <td>0</td>\n      <td>0</td>\n    </tr>\n    <tr>\n      <th>32</th>\n      <td>32</td>\n      <td>1</td>\n      <td>0</td>\n      <td>0</td>\n      <td>0</td>\n      <td>1</td>\n      <td>0</td>\n      <td>0</td>\n      <td>1</td>\n      <td>0</td>\n      <td>...</td>\n      <td>0</td>\n      <td>0</td>\n      <td>0</td>\n      <td>0</td>\n      <td>0</td>\n      <td>1</td>\n      <td>0</td>\n      <td>0</td>\n      <td>0</td>\n      <td>0</td>\n    </tr>\n    <tr>\n      <th>33</th>\n      <td>33</td>\n      <td>0</td>\n      <td>1</td>\n      <td>0</td>\n      <td>0</td>\n      <td>1</td>\n      <td>0</td>\n      <td>1</td>\n      <td>0</td>\n      <td>0</td>\n      <td>...</td>\n      <td>1</td>\n      <td>0</td>\n      <td>0</td>\n      <td>0</td>\n      <td>0</td>\n      <td>1</td>\n      <td>0</td>\n      <td>0</td>\n      <td>0</td>\n      <td>0</td>\n    </tr>\n    <tr>\n      <th>34</th>\n      <td>34</td>\n      <td>1</td>\n      <td>0</td>\n      <td>0</td>\n      <td>0</td>\n      <td>1</td>\n      <td>0</td>\n      <td>0</td>\n      <td>1</td>\n      <td>0</td>\n      <td>...</td>\n      <td>0</td>\n      <td>0</td>\n      <td>0</td>\n      <td>0</td>\n      <td>0</td>\n      <td>0</td>\n      <td>0</td>\n      <td>0</td>\n      <td>0</td>\n      <td>0</td>\n    </tr>\n    <tr>\n      <th>35</th>\n      <td>35</td>\n      <td>0</td>\n      <td>1</td>\n      <td>0</td>\n      <td>0</td>\n      <td>1</td>\n      <td>0</td>\n      <td>1</td>\n      <td>0</td>\n      <td>1</td>\n      <td>...</td>\n      <td>0</td>\n      <td>0</td>\n      <td>0</td>\n      <td>0</td>\n      <td>0</td>\n      <td>1</td>\n      <td>0</td>\n      <td>0</td>\n      <td>0</td>\n      <td>0</td>\n    </tr>\n    <tr>\n      <th>36</th>\n      <td>36</td>\n      <td>0</td>\n      <td>1</td>\n      <td>0</td>\n      <td>0</td>\n      <td>1</td>\n      <td>0</td>\n      <td>1</td>\n      <td>0</td>\n      <td>0</td>\n      <td>...</td>\n      <td>0</td>\n      <td>0</td>\n      <td>0</td>\n      <td>0</td>\n      <td>0</td>\n      <td>0</td>\n      <td>0</td>\n      <td>0</td>\n      <td>0</td>\n      <td>0</td>\n    </tr>\n    <tr>\n      <th>37</th>\n      <td>37</td>\n      <td>0</td>\n      <td>1</td>\n      <td>0</td>\n      <td>0</td>\n      <td>1</td>\n      <td>0</td>\n      <td>1</td>\n      <td>0</td>\n      <td>0</td>\n      <td>...</td>\n      <td>0</td>\n      <td>0</td>\n      <td>0</td>\n      <td>0</td>\n      <td>0</td>\n      <td>0</td>\n      <td>0</td>\n      <td>0</td>\n      <td>0</td>\n      <td>0</td>\n    </tr>\n    <tr>\n      <th>38</th>\n      <td>38</td>\n      <td>1</td>\n      <td>0</td>\n      <td>0</td>\n      <td>0</td>\n      <td>1</td>\n      <td>1</td>\n      <td>0</td>\n      <td>0</td>\n      <td>0</td>\n      <td>...</td>\n      <td>0</td>\n      <td>0</td>\n      <td>0</td>\n      <td>0</td>\n      <td>0</td>\n      <td>0</td>\n      <td>0</td>\n      <td>0</td>\n      <td>0</td>\n      <td>0</td>\n    </tr>\n    <tr>\n      <th>39</th>\n      <td>39</td>\n      <td>1</td>\n      <td>0</td>\n      <td>0</td>\n      <td>0</td>\n      <td>1</td>\n      <td>0</td>\n      <td>1</td>\n      <td>0</td>\n      <td>1</td>\n      <td>...</td>\n      <td>0</td>\n      <td>0</td>\n      <td>1</td>\n      <td>0</td>\n      <td>0</td>\n      <td>0</td>\n      <td>0</td>\n      <td>0</td>\n      <td>0</td>\n      <td>0</td>\n    </tr>\n    <tr>\n      <th>40</th>\n      <td>40</td>\n      <td>0</td>\n      <td>1</td>\n      <td>0</td>\n      <td>1</td>\n      <td>0</td>\n      <td>1</td>\n      <td>0</td>\n      <td>0</td>\n      <td>1</td>\n      <td>...</td>\n      <td>0</td>\n      <td>0</td>\n      <td>0</td>\n      <td>0</td>\n      <td>0</td>\n      <td>0</td>\n      <td>0</td>\n      <td>1</td>\n      <td>0</td>\n      <td>0</td>\n    </tr>\n    <tr>\n      <th>41</th>\n      <td>41</td>\n      <td>1</td>\n      <td>0</td>\n      <td>0</td>\n      <td>1</td>\n      <td>0</td>\n      <td>1</td>\n      <td>0</td>\n      <td>0</td>\n      <td>0</td>\n      <td>...</td>\n      <td>0</td>\n      <td>1</td>\n      <td>0</td>\n      <td>0</td>\n      <td>0</td>\n      <td>0</td>\n      <td>0</td>\n      <td>0</td>\n      <td>0</td>\n      <td>0</td>\n    </tr>\n    <tr>\n      <th>42</th>\n      <td>42</td>\n      <td>1</td>\n      <td>0</td>\n      <td>0</td>\n      <td>0</td>\n      <td>1</td>\n      <td>0</td>\n      <td>1</td>\n      <td>0</td>\n      <td>1</td>\n      <td>...</td>\n      <td>0</td>\n      <td>0</td>\n      <td>0</td>\n      <td>0</td>\n      <td>0</td>\n      <td>0</td>\n      <td>0</td>\n      <td>1</td>\n      <td>1</td>\n      <td>0</td>\n    </tr>\n    <tr>\n      <th>43</th>\n      <td>43</td>\n      <td>0</td>\n      <td>1</td>\n      <td>0</td>\n      <td>0</td>\n      <td>1</td>\n      <td>0</td>\n      <td>0</td>\n      <td>1</td>\n      <td>0</td>\n      <td>...</td>\n      <td>0</td>\n      <td>0</td>\n      <td>0</td>\n      <td>0</td>\n      <td>0</td>\n      <td>1</td>\n      <td>0</td>\n      <td>1</td>\n      <td>0</td>\n      <td>1</td>\n    </tr>\n    <tr>\n      <th>44</th>\n      <td>44</td>\n      <td>1</td>\n      <td>0</td>\n      <td>0</td>\n      <td>0</td>\n      <td>1</td>\n      <td>0</td>\n      <td>1</td>\n      <td>0</td>\n      <td>1</td>\n      <td>...</td>\n      <td>0</td>\n      <td>1</td>\n      <td>0</td>\n      <td>0</td>\n      <td>0</td>\n      <td>0</td>\n      <td>0</td>\n      <td>0</td>\n      <td>1</td>\n      <td>0</td>\n    </tr>\n    <tr>\n      <th>45</th>\n      <td>45</td>\n      <td>1</td>\n      <td>0</td>\n      <td>0</td>\n      <td>1</td>\n      <td>0</td>\n      <td>1</td>\n      <td>0</td>\n      <td>0</td>\n      <td>1</td>\n      <td>...</td>\n      <td>0</td>\n      <td>0</td>\n      <td>1</td>\n      <td>0</td>\n      <td>0</td>\n      <td>0</td>\n      <td>0</td>\n      <td>0</td>\n      <td>1</td>\n      <td>0</td>\n    </tr>\n    <tr>\n      <th>46</th>\n      <td>46</td>\n      <td>0</td>\n      <td>1</td>\n      <td>1</td>\n      <td>0</td>\n      <td>0</td>\n      <td>0</td>\n      <td>0</td>\n      <td>1</td>\n      <td>0</td>\n      <td>...</td>\n      <td>0</td>\n      <td>0</td>\n      <td>1</td>\n      <td>0</td>\n      <td>0</td>\n      <td>0</td>\n      <td>1</td>\n      <td>0</td>\n      <td>1</td>\n      <td>0</td>\n    </tr>\n    <tr>\n      <th>47</th>\n      <td>47</td>\n      <td>1</td>\n      <td>0</td>\n      <td>0</td>\n      <td>0</td>\n      <td>1</td>\n      <td>0</td>\n      <td>1</td>\n      <td>0</td>\n      <td>0</td>\n      <td>...</td>\n      <td>1</td>\n      <td>0</td>\n      <td>1</td>\n      <td>0</td>\n      <td>0</td>\n      <td>0</td>\n      <td>0</td>\n      <td>0</td>\n      <td>0</td>\n      <td>0</td>\n    </tr>\n    <tr>\n      <th>48</th>\n      <td>48</td>\n      <td>1</td>\n      <td>0</td>\n      <td>0</td>\n      <td>0</td>\n      <td>1</td>\n      <td>0</td>\n      <td>0</td>\n      <td>1</td>\n      <td>0</td>\n      <td>...</td>\n      <td>0</td>\n      <td>0</td>\n      <td>0</td>\n      <td>0</td>\n      <td>0</td>\n      <td>0</td>\n      <td>0</td>\n      <td>0</td>\n      <td>0</td>\n      <td>0</td>\n    </tr>\n    <tr>\n      <th>49</th>\n      <td>49</td>\n      <td>0</td>\n      <td>1</td>\n      <td>0</td>\n      <td>0</td>\n      <td>1</td>\n      <td>1</td>\n      <td>0</td>\n      <td>0</td>\n      <td>1</td>\n      <td>...</td>\n      <td>1</td>\n      <td>0</td>\n      <td>0</td>\n      <td>0</td>\n      <td>0</td>\n      <td>0</td>\n      <td>0</td>\n      <td>0</td>\n      <td>1</td>\n      <td>0</td>\n    </tr>\n  </tbody>\n</table>\n<p>50 rows × 85 columns</p>\n</div>"
     },
     "execution_count": 18,
     "metadata": {},
     "output_type": "execute_result"
    }
   ],
   "source": [
    "# Show the dataframe\n",
    "icm_df"
   ]
  },
  {
   "cell_type": "code",
   "execution_count": 19,
   "id": "a6e5a881",
   "metadata": {
    "pycharm": {
     "name": "#%%\n"
    }
   },
   "outputs": [
    {
     "data": {
      "text/plain": "['id',\n 'female',\n 'male',\n 'high_cost',\n 'low_cost',\n 'medium_cost',\n 'experienced',\n 'junior',\n 'senior',\n '20-40',\n '40+',\n 'bachelor',\n 'high-school',\n 'master',\n 'middle-school',\n 'phd',\n 'Accountant, chartered public finance',\n 'Analytical chemist',\n 'Animal technologist',\n 'Arboriculturist',\n 'Armed forces operational officer',\n 'Building services engineer',\n 'Chartered public finance accountant',\n 'Chief Technology Officer',\n 'Child psychotherapist',\n 'Clinical molecular geneticist',\n 'Community arts worker',\n 'Community development worker',\n 'Conservator, furniture',\n 'Copy',\n 'Data scientist',\n 'Designer, interior/spatial',\n 'Development worker, international aid',\n 'Educational psychologist',\n 'Estate manager/land agent',\n 'Field seismologist',\n 'Financial adviser',\n 'Financial manager',\n 'Food technologist',\n 'Geochemist',\n 'Geophysicist/field seismologist',\n 'Health and safety adviser',\n 'Lecturer, higher education',\n 'Lighting technician, broadcasting/film/video',\n 'Magazine journalist',\n 'Maintenance engineer',\n 'Microbiologist',\n 'Mining engineer',\n \"Nurse, children's\",\n 'Paediatric nurse',\n 'Pharmacist, community',\n 'Physiological scientist',\n 'Producer, radio',\n 'Quantity surveyor',\n 'Recycling officer',\n 'Retail merchandiser',\n 'Sales promotion account executive',\n 'Secretary/administrator',\n 'Surgeon',\n 'Teacher, primary school',\n 'Theatre manager',\n 'Theme park manager',\n 'Tour manager',\n 'bulgarian',\n 'chinese',\n 'deutsche',\n 'dutch',\n 'english',\n 'french',\n 'italian',\n 'spanish',\n 'archeology',\n 'art',\n 'beer',\n 'cinema',\n 'countryside',\n 'food',\n 'history',\n 'literature',\n 'museums',\n 'music',\n 'rafting',\n 'sport',\n 'tracking',\n 'wine']"
     },
     "execution_count": 19,
     "metadata": {},
     "output_type": "execute_result"
    }
   ],
   "source": [
    "# Print the list of attributes\n",
    "attribute_list = icm_df.columns.tolist()\n",
    "attribute_list"
   ]
  },
  {
   "cell_type": "code",
   "execution_count": 20,
   "id": "5b0ea53f",
   "metadata": {
    "pycharm": {
     "name": "#%%\n"
    }
   },
   "outputs": [
    {
     "data": {
      "text/plain": "    id  1  2  3  4  5  6  7  8  9  ...  75  76  77  78  79  80  81  82  83  84\n0    0  0  1  0  0  1  1  0  0  1  ...   0   0   0   0   1   0   0   0   0   0\n1    1  1  0  1  0  0  0  1  0  1  ...   0   0   1   0   0   0   1   0   0   1\n2    2  1  0  0  0  1  0  0  1  0  ...   0   1   0   0   0   0   0   0   0   0\n3    3  0  1  1  0  0  0  0  1  0  ...   1   0   0   0   0   0   1   0   0   0\n4    4  0  1  0  0  1  0  0  1  0  ...   1   0   0   0   0   0   0   0   1   0\n5    5  0  1  0  0  1  0  1  0  1  ...   0   0   0   0   0   0   0   0   0   0\n6    6  0  1  0  0  1  0  1  0  1  ...   0   0   0   0   0   0   1   1   0   0\n7    7  0  1  0  0  1  1  0  0  0  ...   1   0   0   0   1   0   0   0   0   1\n8    8  0  1  0  0  1  0  1  0  1  ...   0   0   0   1   0   1   0   0   0   0\n9    9  0  1  1  0  0  0  0  1  1  ...   0   0   0   0   1   0   0   0   0   0\n10  10  1  0  0  1  0  0  0  1  0  ...   1   0   0   0   1   0   1   1   0   0\n11  11  1  0  0  1  0  0  0  1  0  ...   0   0   0   0   0   0   1   0   0   0\n12  12  1  0  0  1  0  0  1  0  0  ...   0   0   0   0   0   1   0   1   0   0\n13  13  1  0  0  0  1  1  0  0  0  ...   0   0   0   0   0   0   0   1   0   0\n14  14  0  1  1  0  0  1  0  0  1  ...   0   0   0   0   1   0   0   0   0   0\n15  15  0  1  0  0  1  0  1  0  0  ...   0   1   0   0   0   1   0   0   1   0\n16  16  0  1  0  0  1  0  0  1  0  ...   1   0   0   0   0   1   0   0   0   0\n17  17  0  1  0  0  1  0  0  1  0  ...   0   0   0   0   0   0   0   1   0   1\n18  18  0  1  0  1  0  1  0  0  1  ...   0   1   0   0   0   0   0   0   0   0\n19  19  1  0  1  0  0  0  0  1  0  ...   0   0   0   0   0   0   0   0   0   0\n20  20  1  0  1  0  0  1  0  0  1  ...   0   1   0   0   1   0   1   0   0   0\n21  21  0  1  0  0  1  0  0  1  0  ...   0   0   0   0   0   0   0   0   0   0\n22  22  1  0  0  0  1  0  0  1  0  ...   1   0   1   1   0   1   0   0   0   0\n23  23  1  0  0  1  0  1  0  0  1  ...   0   0   0   0   0   0   0   0   1   0\n24  24  1  0  0  0  1  1  0  0  1  ...   0   0   0   0   0   0   0   0   0   0\n25  25  1  0  0  0  1  0  0  1  1  ...   0   0   0   1   0   0   0   0   0   0\n26  26  0  1  0  0  1  0  1  0  1  ...   0   0   0   0   1   0   0   0   1   0\n27  27  1  0  0  0  1  0  0  1  1  ...   1   0   0   0   0   0   0   0   0   0\n28  28  1  0  0  0  1  0  0  1  0  ...   0   1   0   0   1   1   1   0   1   0\n29  29  1  0  0  0  1  0  0  1  0  ...   0   0   0   1   0   0   0   0   1   0\n30  30  1  0  0  0  1  0  1  0  1  ...   0   0   0   0   0   1   0   0   0   0\n31  31  0  1  0  1  0  1  0  0  0  ...   1   1   0   0   0   1   0   0   0   0\n32  32  1  0  0  0  1  0  0  1  0  ...   0   0   0   0   0   1   0   0   0   0\n33  33  0  1  0  0  1  0  1  0  0  ...   1   0   0   0   0   1   0   0   0   0\n34  34  1  0  0  0  1  0  0  1  0  ...   0   0   0   0   0   0   0   0   0   0\n35  35  0  1  0  0  1  0  1  0  1  ...   0   0   0   0   0   1   0   0   0   0\n36  36  0  1  0  0  1  0  1  0  0  ...   0   0   0   0   0   0   0   0   0   0\n37  37  0  1  0  0  1  0  1  0  0  ...   0   0   0   0   0   0   0   0   0   0\n38  38  1  0  0  0  1  1  0  0  0  ...   0   0   0   0   0   0   0   0   0   0\n39  39  1  0  0  0  1  0  1  0  1  ...   0   0   1   0   0   0   0   0   0   0\n40  40  0  1  0  1  0  1  0  0  1  ...   0   0   0   0   0   0   0   1   0   0\n41  41  1  0  0  1  0  1  0  0  0  ...   0   1   0   0   0   0   0   0   0   0\n42  42  1  0  0  0  1  0  1  0  1  ...   0   0   0   0   0   0   0   1   1   0\n43  43  0  1  0  0  1  0  0  1  0  ...   0   0   0   0   0   1   0   1   0   1\n44  44  1  0  0  0  1  0  1  0  1  ...   0   1   0   0   0   0   0   0   1   0\n45  45  1  0  0  1  0  1  0  0  1  ...   0   0   1   0   0   0   0   0   1   0\n46  46  0  1  1  0  0  0  0  1  0  ...   0   0   1   0   0   0   1   0   1   0\n47  47  1  0  0  0  1  0  1  0  0  ...   1   0   1   0   0   0   0   0   0   0\n48  48  1  0  0  0  1  0  0  1  0  ...   0   0   0   0   0   0   0   0   0   0\n49  49  0  1  0  0  1  1  0  0  1  ...   1   0   0   0   0   0   0   0   1   0\n\n[50 rows x 85 columns]",
      "text/html": "<div>\n<style scoped>\n    .dataframe tbody tr th:only-of-type {\n        vertical-align: middle;\n    }\n\n    .dataframe tbody tr th {\n        vertical-align: top;\n    }\n\n    .dataframe thead th {\n        text-align: right;\n    }\n</style>\n<table border=\"1\" class=\"dataframe\">\n  <thead>\n    <tr style=\"text-align: right;\">\n      <th></th>\n      <th>id</th>\n      <th>1</th>\n      <th>2</th>\n      <th>3</th>\n      <th>4</th>\n      <th>5</th>\n      <th>6</th>\n      <th>7</th>\n      <th>8</th>\n      <th>9</th>\n      <th>...</th>\n      <th>75</th>\n      <th>76</th>\n      <th>77</th>\n      <th>78</th>\n      <th>79</th>\n      <th>80</th>\n      <th>81</th>\n      <th>82</th>\n      <th>83</th>\n      <th>84</th>\n    </tr>\n  </thead>\n  <tbody>\n    <tr>\n      <th>0</th>\n      <td>0</td>\n      <td>0</td>\n      <td>1</td>\n      <td>0</td>\n      <td>0</td>\n      <td>1</td>\n      <td>1</td>\n      <td>0</td>\n      <td>0</td>\n      <td>1</td>\n      <td>...</td>\n      <td>0</td>\n      <td>0</td>\n      <td>0</td>\n      <td>0</td>\n      <td>1</td>\n      <td>0</td>\n      <td>0</td>\n      <td>0</td>\n      <td>0</td>\n      <td>0</td>\n    </tr>\n    <tr>\n      <th>1</th>\n      <td>1</td>\n      <td>1</td>\n      <td>0</td>\n      <td>1</td>\n      <td>0</td>\n      <td>0</td>\n      <td>0</td>\n      <td>1</td>\n      <td>0</td>\n      <td>1</td>\n      <td>...</td>\n      <td>0</td>\n      <td>0</td>\n      <td>1</td>\n      <td>0</td>\n      <td>0</td>\n      <td>0</td>\n      <td>1</td>\n      <td>0</td>\n      <td>0</td>\n      <td>1</td>\n    </tr>\n    <tr>\n      <th>2</th>\n      <td>2</td>\n      <td>1</td>\n      <td>0</td>\n      <td>0</td>\n      <td>0</td>\n      <td>1</td>\n      <td>0</td>\n      <td>0</td>\n      <td>1</td>\n      <td>0</td>\n      <td>...</td>\n      <td>0</td>\n      <td>1</td>\n      <td>0</td>\n      <td>0</td>\n      <td>0</td>\n      <td>0</td>\n      <td>0</td>\n      <td>0</td>\n      <td>0</td>\n      <td>0</td>\n    </tr>\n    <tr>\n      <th>3</th>\n      <td>3</td>\n      <td>0</td>\n      <td>1</td>\n      <td>1</td>\n      <td>0</td>\n      <td>0</td>\n      <td>0</td>\n      <td>0</td>\n      <td>1</td>\n      <td>0</td>\n      <td>...</td>\n      <td>1</td>\n      <td>0</td>\n      <td>0</td>\n      <td>0</td>\n      <td>0</td>\n      <td>0</td>\n      <td>1</td>\n      <td>0</td>\n      <td>0</td>\n      <td>0</td>\n    </tr>\n    <tr>\n      <th>4</th>\n      <td>4</td>\n      <td>0</td>\n      <td>1</td>\n      <td>0</td>\n      <td>0</td>\n      <td>1</td>\n      <td>0</td>\n      <td>0</td>\n      <td>1</td>\n      <td>0</td>\n      <td>...</td>\n      <td>1</td>\n      <td>0</td>\n      <td>0</td>\n      <td>0</td>\n      <td>0</td>\n      <td>0</td>\n      <td>0</td>\n      <td>0</td>\n      <td>1</td>\n      <td>0</td>\n    </tr>\n    <tr>\n      <th>5</th>\n      <td>5</td>\n      <td>0</td>\n      <td>1</td>\n      <td>0</td>\n      <td>0</td>\n      <td>1</td>\n      <td>0</td>\n      <td>1</td>\n      <td>0</td>\n      <td>1</td>\n      <td>...</td>\n      <td>0</td>\n      <td>0</td>\n      <td>0</td>\n      <td>0</td>\n      <td>0</td>\n      <td>0</td>\n      <td>0</td>\n      <td>0</td>\n      <td>0</td>\n      <td>0</td>\n    </tr>\n    <tr>\n      <th>6</th>\n      <td>6</td>\n      <td>0</td>\n      <td>1</td>\n      <td>0</td>\n      <td>0</td>\n      <td>1</td>\n      <td>0</td>\n      <td>1</td>\n      <td>0</td>\n      <td>1</td>\n      <td>...</td>\n      <td>0</td>\n      <td>0</td>\n      <td>0</td>\n      <td>0</td>\n      <td>0</td>\n      <td>0</td>\n      <td>1</td>\n      <td>1</td>\n      <td>0</td>\n      <td>0</td>\n    </tr>\n    <tr>\n      <th>7</th>\n      <td>7</td>\n      <td>0</td>\n      <td>1</td>\n      <td>0</td>\n      <td>0</td>\n      <td>1</td>\n      <td>1</td>\n      <td>0</td>\n      <td>0</td>\n      <td>0</td>\n      <td>...</td>\n      <td>1</td>\n      <td>0</td>\n      <td>0</td>\n      <td>0</td>\n      <td>1</td>\n      <td>0</td>\n      <td>0</td>\n      <td>0</td>\n      <td>0</td>\n      <td>1</td>\n    </tr>\n    <tr>\n      <th>8</th>\n      <td>8</td>\n      <td>0</td>\n      <td>1</td>\n      <td>0</td>\n      <td>0</td>\n      <td>1</td>\n      <td>0</td>\n      <td>1</td>\n      <td>0</td>\n      <td>1</td>\n      <td>...</td>\n      <td>0</td>\n      <td>0</td>\n      <td>0</td>\n      <td>1</td>\n      <td>0</td>\n      <td>1</td>\n      <td>0</td>\n      <td>0</td>\n      <td>0</td>\n      <td>0</td>\n    </tr>\n    <tr>\n      <th>9</th>\n      <td>9</td>\n      <td>0</td>\n      <td>1</td>\n      <td>1</td>\n      <td>0</td>\n      <td>0</td>\n      <td>0</td>\n      <td>0</td>\n      <td>1</td>\n      <td>1</td>\n      <td>...</td>\n      <td>0</td>\n      <td>0</td>\n      <td>0</td>\n      <td>0</td>\n      <td>1</td>\n      <td>0</td>\n      <td>0</td>\n      <td>0</td>\n      <td>0</td>\n      <td>0</td>\n    </tr>\n    <tr>\n      <th>10</th>\n      <td>10</td>\n      <td>1</td>\n      <td>0</td>\n      <td>0</td>\n      <td>1</td>\n      <td>0</td>\n      <td>0</td>\n      <td>0</td>\n      <td>1</td>\n      <td>0</td>\n      <td>...</td>\n      <td>1</td>\n      <td>0</td>\n      <td>0</td>\n      <td>0</td>\n      <td>1</td>\n      <td>0</td>\n      <td>1</td>\n      <td>1</td>\n      <td>0</td>\n      <td>0</td>\n    </tr>\n    <tr>\n      <th>11</th>\n      <td>11</td>\n      <td>1</td>\n      <td>0</td>\n      <td>0</td>\n      <td>1</td>\n      <td>0</td>\n      <td>0</td>\n      <td>0</td>\n      <td>1</td>\n      <td>0</td>\n      <td>...</td>\n      <td>0</td>\n      <td>0</td>\n      <td>0</td>\n      <td>0</td>\n      <td>0</td>\n      <td>0</td>\n      <td>1</td>\n      <td>0</td>\n      <td>0</td>\n      <td>0</td>\n    </tr>\n    <tr>\n      <th>12</th>\n      <td>12</td>\n      <td>1</td>\n      <td>0</td>\n      <td>0</td>\n      <td>1</td>\n      <td>0</td>\n      <td>0</td>\n      <td>1</td>\n      <td>0</td>\n      <td>0</td>\n      <td>...</td>\n      <td>0</td>\n      <td>0</td>\n      <td>0</td>\n      <td>0</td>\n      <td>0</td>\n      <td>1</td>\n      <td>0</td>\n      <td>1</td>\n      <td>0</td>\n      <td>0</td>\n    </tr>\n    <tr>\n      <th>13</th>\n      <td>13</td>\n      <td>1</td>\n      <td>0</td>\n      <td>0</td>\n      <td>0</td>\n      <td>1</td>\n      <td>1</td>\n      <td>0</td>\n      <td>0</td>\n      <td>0</td>\n      <td>...</td>\n      <td>0</td>\n      <td>0</td>\n      <td>0</td>\n      <td>0</td>\n      <td>0</td>\n      <td>0</td>\n      <td>0</td>\n      <td>1</td>\n      <td>0</td>\n      <td>0</td>\n    </tr>\n    <tr>\n      <th>14</th>\n      <td>14</td>\n      <td>0</td>\n      <td>1</td>\n      <td>1</td>\n      <td>0</td>\n      <td>0</td>\n      <td>1</td>\n      <td>0</td>\n      <td>0</td>\n      <td>1</td>\n      <td>...</td>\n      <td>0</td>\n      <td>0</td>\n      <td>0</td>\n      <td>0</td>\n      <td>1</td>\n      <td>0</td>\n      <td>0</td>\n      <td>0</td>\n      <td>0</td>\n      <td>0</td>\n    </tr>\n    <tr>\n      <th>15</th>\n      <td>15</td>\n      <td>0</td>\n      <td>1</td>\n      <td>0</td>\n      <td>0</td>\n      <td>1</td>\n      <td>0</td>\n      <td>1</td>\n      <td>0</td>\n      <td>0</td>\n      <td>...</td>\n      <td>0</td>\n      <td>1</td>\n      <td>0</td>\n      <td>0</td>\n      <td>0</td>\n      <td>1</td>\n      <td>0</td>\n      <td>0</td>\n      <td>1</td>\n      <td>0</td>\n    </tr>\n    <tr>\n      <th>16</th>\n      <td>16</td>\n      <td>0</td>\n      <td>1</td>\n      <td>0</td>\n      <td>0</td>\n      <td>1</td>\n      <td>0</td>\n      <td>0</td>\n      <td>1</td>\n      <td>0</td>\n      <td>...</td>\n      <td>1</td>\n      <td>0</td>\n      <td>0</td>\n      <td>0</td>\n      <td>0</td>\n      <td>1</td>\n      <td>0</td>\n      <td>0</td>\n      <td>0</td>\n      <td>0</td>\n    </tr>\n    <tr>\n      <th>17</th>\n      <td>17</td>\n      <td>0</td>\n      <td>1</td>\n      <td>0</td>\n      <td>0</td>\n      <td>1</td>\n      <td>0</td>\n      <td>0</td>\n      <td>1</td>\n      <td>0</td>\n      <td>...</td>\n      <td>0</td>\n      <td>0</td>\n      <td>0</td>\n      <td>0</td>\n      <td>0</td>\n      <td>0</td>\n      <td>0</td>\n      <td>1</td>\n      <td>0</td>\n      <td>1</td>\n    </tr>\n    <tr>\n      <th>18</th>\n      <td>18</td>\n      <td>0</td>\n      <td>1</td>\n      <td>0</td>\n      <td>1</td>\n      <td>0</td>\n      <td>1</td>\n      <td>0</td>\n      <td>0</td>\n      <td>1</td>\n      <td>...</td>\n      <td>0</td>\n      <td>1</td>\n      <td>0</td>\n      <td>0</td>\n      <td>0</td>\n      <td>0</td>\n      <td>0</td>\n      <td>0</td>\n      <td>0</td>\n      <td>0</td>\n    </tr>\n    <tr>\n      <th>19</th>\n      <td>19</td>\n      <td>1</td>\n      <td>0</td>\n      <td>1</td>\n      <td>0</td>\n      <td>0</td>\n      <td>0</td>\n      <td>0</td>\n      <td>1</td>\n      <td>0</td>\n      <td>...</td>\n      <td>0</td>\n      <td>0</td>\n      <td>0</td>\n      <td>0</td>\n      <td>0</td>\n      <td>0</td>\n      <td>0</td>\n      <td>0</td>\n      <td>0</td>\n      <td>0</td>\n    </tr>\n    <tr>\n      <th>20</th>\n      <td>20</td>\n      <td>1</td>\n      <td>0</td>\n      <td>1</td>\n      <td>0</td>\n      <td>0</td>\n      <td>1</td>\n      <td>0</td>\n      <td>0</td>\n      <td>1</td>\n      <td>...</td>\n      <td>0</td>\n      <td>1</td>\n      <td>0</td>\n      <td>0</td>\n      <td>1</td>\n      <td>0</td>\n      <td>1</td>\n      <td>0</td>\n      <td>0</td>\n      <td>0</td>\n    </tr>\n    <tr>\n      <th>21</th>\n      <td>21</td>\n      <td>0</td>\n      <td>1</td>\n      <td>0</td>\n      <td>0</td>\n      <td>1</td>\n      <td>0</td>\n      <td>0</td>\n      <td>1</td>\n      <td>0</td>\n      <td>...</td>\n      <td>0</td>\n      <td>0</td>\n      <td>0</td>\n      <td>0</td>\n      <td>0</td>\n      <td>0</td>\n      <td>0</td>\n      <td>0</td>\n      <td>0</td>\n      <td>0</td>\n    </tr>\n    <tr>\n      <th>22</th>\n      <td>22</td>\n      <td>1</td>\n      <td>0</td>\n      <td>0</td>\n      <td>0</td>\n      <td>1</td>\n      <td>0</td>\n      <td>0</td>\n      <td>1</td>\n      <td>0</td>\n      <td>...</td>\n      <td>1</td>\n      <td>0</td>\n      <td>1</td>\n      <td>1</td>\n      <td>0</td>\n      <td>1</td>\n      <td>0</td>\n      <td>0</td>\n      <td>0</td>\n      <td>0</td>\n    </tr>\n    <tr>\n      <th>23</th>\n      <td>23</td>\n      <td>1</td>\n      <td>0</td>\n      <td>0</td>\n      <td>1</td>\n      <td>0</td>\n      <td>1</td>\n      <td>0</td>\n      <td>0</td>\n      <td>1</td>\n      <td>...</td>\n      <td>0</td>\n      <td>0</td>\n      <td>0</td>\n      <td>0</td>\n      <td>0</td>\n      <td>0</td>\n      <td>0</td>\n      <td>0</td>\n      <td>1</td>\n      <td>0</td>\n    </tr>\n    <tr>\n      <th>24</th>\n      <td>24</td>\n      <td>1</td>\n      <td>0</td>\n      <td>0</td>\n      <td>0</td>\n      <td>1</td>\n      <td>1</td>\n      <td>0</td>\n      <td>0</td>\n      <td>1</td>\n      <td>...</td>\n      <td>0</td>\n      <td>0</td>\n      <td>0</td>\n      <td>0</td>\n      <td>0</td>\n      <td>0</td>\n      <td>0</td>\n      <td>0</td>\n      <td>0</td>\n      <td>0</td>\n    </tr>\n    <tr>\n      <th>25</th>\n      <td>25</td>\n      <td>1</td>\n      <td>0</td>\n      <td>0</td>\n      <td>0</td>\n      <td>1</td>\n      <td>0</td>\n      <td>0</td>\n      <td>1</td>\n      <td>1</td>\n      <td>...</td>\n      <td>0</td>\n      <td>0</td>\n      <td>0</td>\n      <td>1</td>\n      <td>0</td>\n      <td>0</td>\n      <td>0</td>\n      <td>0</td>\n      <td>0</td>\n      <td>0</td>\n    </tr>\n    <tr>\n      <th>26</th>\n      <td>26</td>\n      <td>0</td>\n      <td>1</td>\n      <td>0</td>\n      <td>0</td>\n      <td>1</td>\n      <td>0</td>\n      <td>1</td>\n      <td>0</td>\n      <td>1</td>\n      <td>...</td>\n      <td>0</td>\n      <td>0</td>\n      <td>0</td>\n      <td>0</td>\n      <td>1</td>\n      <td>0</td>\n      <td>0</td>\n      <td>0</td>\n      <td>1</td>\n      <td>0</td>\n    </tr>\n    <tr>\n      <th>27</th>\n      <td>27</td>\n      <td>1</td>\n      <td>0</td>\n      <td>0</td>\n      <td>0</td>\n      <td>1</td>\n      <td>0</td>\n      <td>0</td>\n      <td>1</td>\n      <td>1</td>\n      <td>...</td>\n      <td>1</td>\n      <td>0</td>\n      <td>0</td>\n      <td>0</td>\n      <td>0</td>\n      <td>0</td>\n      <td>0</td>\n      <td>0</td>\n      <td>0</td>\n      <td>0</td>\n    </tr>\n    <tr>\n      <th>28</th>\n      <td>28</td>\n      <td>1</td>\n      <td>0</td>\n      <td>0</td>\n      <td>0</td>\n      <td>1</td>\n      <td>0</td>\n      <td>0</td>\n      <td>1</td>\n      <td>0</td>\n      <td>...</td>\n      <td>0</td>\n      <td>1</td>\n      <td>0</td>\n      <td>0</td>\n      <td>1</td>\n      <td>1</td>\n      <td>1</td>\n      <td>0</td>\n      <td>1</td>\n      <td>0</td>\n    </tr>\n    <tr>\n      <th>29</th>\n      <td>29</td>\n      <td>1</td>\n      <td>0</td>\n      <td>0</td>\n      <td>0</td>\n      <td>1</td>\n      <td>0</td>\n      <td>0</td>\n      <td>1</td>\n      <td>0</td>\n      <td>...</td>\n      <td>0</td>\n      <td>0</td>\n      <td>0</td>\n      <td>1</td>\n      <td>0</td>\n      <td>0</td>\n      <td>0</td>\n      <td>0</td>\n      <td>1</td>\n      <td>0</td>\n    </tr>\n    <tr>\n      <th>30</th>\n      <td>30</td>\n      <td>1</td>\n      <td>0</td>\n      <td>0</td>\n      <td>0</td>\n      <td>1</td>\n      <td>0</td>\n      <td>1</td>\n      <td>0</td>\n      <td>1</td>\n      <td>...</td>\n      <td>0</td>\n      <td>0</td>\n      <td>0</td>\n      <td>0</td>\n      <td>0</td>\n      <td>1</td>\n      <td>0</td>\n      <td>0</td>\n      <td>0</td>\n      <td>0</td>\n    </tr>\n    <tr>\n      <th>31</th>\n      <td>31</td>\n      <td>0</td>\n      <td>1</td>\n      <td>0</td>\n      <td>1</td>\n      <td>0</td>\n      <td>1</td>\n      <td>0</td>\n      <td>0</td>\n      <td>0</td>\n      <td>...</td>\n      <td>1</td>\n      <td>1</td>\n      <td>0</td>\n      <td>0</td>\n      <td>0</td>\n      <td>1</td>\n      <td>0</td>\n      <td>0</td>\n      <td>0</td>\n      <td>0</td>\n    </tr>\n    <tr>\n      <th>32</th>\n      <td>32</td>\n      <td>1</td>\n      <td>0</td>\n      <td>0</td>\n      <td>0</td>\n      <td>1</td>\n      <td>0</td>\n      <td>0</td>\n      <td>1</td>\n      <td>0</td>\n      <td>...</td>\n      <td>0</td>\n      <td>0</td>\n      <td>0</td>\n      <td>0</td>\n      <td>0</td>\n      <td>1</td>\n      <td>0</td>\n      <td>0</td>\n      <td>0</td>\n      <td>0</td>\n    </tr>\n    <tr>\n      <th>33</th>\n      <td>33</td>\n      <td>0</td>\n      <td>1</td>\n      <td>0</td>\n      <td>0</td>\n      <td>1</td>\n      <td>0</td>\n      <td>1</td>\n      <td>0</td>\n      <td>0</td>\n      <td>...</td>\n      <td>1</td>\n      <td>0</td>\n      <td>0</td>\n      <td>0</td>\n      <td>0</td>\n      <td>1</td>\n      <td>0</td>\n      <td>0</td>\n      <td>0</td>\n      <td>0</td>\n    </tr>\n    <tr>\n      <th>34</th>\n      <td>34</td>\n      <td>1</td>\n      <td>0</td>\n      <td>0</td>\n      <td>0</td>\n      <td>1</td>\n      <td>0</td>\n      <td>0</td>\n      <td>1</td>\n      <td>0</td>\n      <td>...</td>\n      <td>0</td>\n      <td>0</td>\n      <td>0</td>\n      <td>0</td>\n      <td>0</td>\n      <td>0</td>\n      <td>0</td>\n      <td>0</td>\n      <td>0</td>\n      <td>0</td>\n    </tr>\n    <tr>\n      <th>35</th>\n      <td>35</td>\n      <td>0</td>\n      <td>1</td>\n      <td>0</td>\n      <td>0</td>\n      <td>1</td>\n      <td>0</td>\n      <td>1</td>\n      <td>0</td>\n      <td>1</td>\n      <td>...</td>\n      <td>0</td>\n      <td>0</td>\n      <td>0</td>\n      <td>0</td>\n      <td>0</td>\n      <td>1</td>\n      <td>0</td>\n      <td>0</td>\n      <td>0</td>\n      <td>0</td>\n    </tr>\n    <tr>\n      <th>36</th>\n      <td>36</td>\n      <td>0</td>\n      <td>1</td>\n      <td>0</td>\n      <td>0</td>\n      <td>1</td>\n      <td>0</td>\n      <td>1</td>\n      <td>0</td>\n      <td>0</td>\n      <td>...</td>\n      <td>0</td>\n      <td>0</td>\n      <td>0</td>\n      <td>0</td>\n      <td>0</td>\n      <td>0</td>\n      <td>0</td>\n      <td>0</td>\n      <td>0</td>\n      <td>0</td>\n    </tr>\n    <tr>\n      <th>37</th>\n      <td>37</td>\n      <td>0</td>\n      <td>1</td>\n      <td>0</td>\n      <td>0</td>\n      <td>1</td>\n      <td>0</td>\n      <td>1</td>\n      <td>0</td>\n      <td>0</td>\n      <td>...</td>\n      <td>0</td>\n      <td>0</td>\n      <td>0</td>\n      <td>0</td>\n      <td>0</td>\n      <td>0</td>\n      <td>0</td>\n      <td>0</td>\n      <td>0</td>\n      <td>0</td>\n    </tr>\n    <tr>\n      <th>38</th>\n      <td>38</td>\n      <td>1</td>\n      <td>0</td>\n      <td>0</td>\n      <td>0</td>\n      <td>1</td>\n      <td>1</td>\n      <td>0</td>\n      <td>0</td>\n      <td>0</td>\n      <td>...</td>\n      <td>0</td>\n      <td>0</td>\n      <td>0</td>\n      <td>0</td>\n      <td>0</td>\n      <td>0</td>\n      <td>0</td>\n      <td>0</td>\n      <td>0</td>\n      <td>0</td>\n    </tr>\n    <tr>\n      <th>39</th>\n      <td>39</td>\n      <td>1</td>\n      <td>0</td>\n      <td>0</td>\n      <td>0</td>\n      <td>1</td>\n      <td>0</td>\n      <td>1</td>\n      <td>0</td>\n      <td>1</td>\n      <td>...</td>\n      <td>0</td>\n      <td>0</td>\n      <td>1</td>\n      <td>0</td>\n      <td>0</td>\n      <td>0</td>\n      <td>0</td>\n      <td>0</td>\n      <td>0</td>\n      <td>0</td>\n    </tr>\n    <tr>\n      <th>40</th>\n      <td>40</td>\n      <td>0</td>\n      <td>1</td>\n      <td>0</td>\n      <td>1</td>\n      <td>0</td>\n      <td>1</td>\n      <td>0</td>\n      <td>0</td>\n      <td>1</td>\n      <td>...</td>\n      <td>0</td>\n      <td>0</td>\n      <td>0</td>\n      <td>0</td>\n      <td>0</td>\n      <td>0</td>\n      <td>0</td>\n      <td>1</td>\n      <td>0</td>\n      <td>0</td>\n    </tr>\n    <tr>\n      <th>41</th>\n      <td>41</td>\n      <td>1</td>\n      <td>0</td>\n      <td>0</td>\n      <td>1</td>\n      <td>0</td>\n      <td>1</td>\n      <td>0</td>\n      <td>0</td>\n      <td>0</td>\n      <td>...</td>\n      <td>0</td>\n      <td>1</td>\n      <td>0</td>\n      <td>0</td>\n      <td>0</td>\n      <td>0</td>\n      <td>0</td>\n      <td>0</td>\n      <td>0</td>\n      <td>0</td>\n    </tr>\n    <tr>\n      <th>42</th>\n      <td>42</td>\n      <td>1</td>\n      <td>0</td>\n      <td>0</td>\n      <td>0</td>\n      <td>1</td>\n      <td>0</td>\n      <td>1</td>\n      <td>0</td>\n      <td>1</td>\n      <td>...</td>\n      <td>0</td>\n      <td>0</td>\n      <td>0</td>\n      <td>0</td>\n      <td>0</td>\n      <td>0</td>\n      <td>0</td>\n      <td>1</td>\n      <td>1</td>\n      <td>0</td>\n    </tr>\n    <tr>\n      <th>43</th>\n      <td>43</td>\n      <td>0</td>\n      <td>1</td>\n      <td>0</td>\n      <td>0</td>\n      <td>1</td>\n      <td>0</td>\n      <td>0</td>\n      <td>1</td>\n      <td>0</td>\n      <td>...</td>\n      <td>0</td>\n      <td>0</td>\n      <td>0</td>\n      <td>0</td>\n      <td>0</td>\n      <td>1</td>\n      <td>0</td>\n      <td>1</td>\n      <td>0</td>\n      <td>1</td>\n    </tr>\n    <tr>\n      <th>44</th>\n      <td>44</td>\n      <td>1</td>\n      <td>0</td>\n      <td>0</td>\n      <td>0</td>\n      <td>1</td>\n      <td>0</td>\n      <td>1</td>\n      <td>0</td>\n      <td>1</td>\n      <td>...</td>\n      <td>0</td>\n      <td>1</td>\n      <td>0</td>\n      <td>0</td>\n      <td>0</td>\n      <td>0</td>\n      <td>0</td>\n      <td>0</td>\n      <td>1</td>\n      <td>0</td>\n    </tr>\n    <tr>\n      <th>45</th>\n      <td>45</td>\n      <td>1</td>\n      <td>0</td>\n      <td>0</td>\n      <td>1</td>\n      <td>0</td>\n      <td>1</td>\n      <td>0</td>\n      <td>0</td>\n      <td>1</td>\n      <td>...</td>\n      <td>0</td>\n      <td>0</td>\n      <td>1</td>\n      <td>0</td>\n      <td>0</td>\n      <td>0</td>\n      <td>0</td>\n      <td>0</td>\n      <td>1</td>\n      <td>0</td>\n    </tr>\n    <tr>\n      <th>46</th>\n      <td>46</td>\n      <td>0</td>\n      <td>1</td>\n      <td>1</td>\n      <td>0</td>\n      <td>0</td>\n      <td>0</td>\n      <td>0</td>\n      <td>1</td>\n      <td>0</td>\n      <td>...</td>\n      <td>0</td>\n      <td>0</td>\n      <td>1</td>\n      <td>0</td>\n      <td>0</td>\n      <td>0</td>\n      <td>1</td>\n      <td>0</td>\n      <td>1</td>\n      <td>0</td>\n    </tr>\n    <tr>\n      <th>47</th>\n      <td>47</td>\n      <td>1</td>\n      <td>0</td>\n      <td>0</td>\n      <td>0</td>\n      <td>1</td>\n      <td>0</td>\n      <td>1</td>\n      <td>0</td>\n      <td>0</td>\n      <td>...</td>\n      <td>1</td>\n      <td>0</td>\n      <td>1</td>\n      <td>0</td>\n      <td>0</td>\n      <td>0</td>\n      <td>0</td>\n      <td>0</td>\n      <td>0</td>\n      <td>0</td>\n    </tr>\n    <tr>\n      <th>48</th>\n      <td>48</td>\n      <td>1</td>\n      <td>0</td>\n      <td>0</td>\n      <td>0</td>\n      <td>1</td>\n      <td>0</td>\n      <td>0</td>\n      <td>1</td>\n      <td>0</td>\n      <td>...</td>\n      <td>0</td>\n      <td>0</td>\n      <td>0</td>\n      <td>0</td>\n      <td>0</td>\n      <td>0</td>\n      <td>0</td>\n      <td>0</td>\n      <td>0</td>\n      <td>0</td>\n    </tr>\n    <tr>\n      <th>49</th>\n      <td>49</td>\n      <td>0</td>\n      <td>1</td>\n      <td>0</td>\n      <td>0</td>\n      <td>1</td>\n      <td>1</td>\n      <td>0</td>\n      <td>0</td>\n      <td>1</td>\n      <td>...</td>\n      <td>1</td>\n      <td>0</td>\n      <td>0</td>\n      <td>0</td>\n      <td>0</td>\n      <td>0</td>\n      <td>0</td>\n      <td>0</td>\n      <td>1</td>\n      <td>0</td>\n    </tr>\n  </tbody>\n</table>\n<p>50 rows × 85 columns</p>\n</div>"
     },
     "execution_count": 20,
     "metadata": {},
     "output_type": "execute_result"
    }
   ],
   "source": [
    "# Convert the names of columns (attributes) into sequential numbers\n",
    "def convert_index(x):\n",
    "    # The first column contains the ids of the guide, keep its name\n",
    "    if x == 'id':\n",
    "        return x\n",
    "    else:\n",
    "        return attribute_list.index(x)\n",
    "\n",
    "# Apply the transformation to the dataframe\n",
    "icm_df.rename(mapper=convert_index, axis=1, inplace=True)\n",
    "icm_df"
   ]
  },
  {
   "cell_type": "code",
   "execution_count": 21,
   "id": "394a5b7a",
   "metadata": {
    "pycharm": {
     "name": "#%%\n"
    }
   },
   "outputs": [
    {
     "data": {
      "text/plain": "      id label  value\n1      1     1      1\n2      2     1      1\n10    10     1      1\n11    11     1      1\n12    12     1      1\n...   ..   ...    ...\n4149  49    83      1\n4151   1    84      1\n4157   7    84      1\n4167  17    84      1\n4193  43    84      1\n\n[509 rows x 3 columns]",
      "text/html": "<div>\n<style scoped>\n    .dataframe tbody tr th:only-of-type {\n        vertical-align: middle;\n    }\n\n    .dataframe tbody tr th {\n        vertical-align: top;\n    }\n\n    .dataframe thead th {\n        text-align: right;\n    }\n</style>\n<table border=\"1\" class=\"dataframe\">\n  <thead>\n    <tr style=\"text-align: right;\">\n      <th></th>\n      <th>id</th>\n      <th>label</th>\n      <th>value</th>\n    </tr>\n  </thead>\n  <tbody>\n    <tr>\n      <th>1</th>\n      <td>1</td>\n      <td>1</td>\n      <td>1</td>\n    </tr>\n    <tr>\n      <th>2</th>\n      <td>2</td>\n      <td>1</td>\n      <td>1</td>\n    </tr>\n    <tr>\n      <th>10</th>\n      <td>10</td>\n      <td>1</td>\n      <td>1</td>\n    </tr>\n    <tr>\n      <th>11</th>\n      <td>11</td>\n      <td>1</td>\n      <td>1</td>\n    </tr>\n    <tr>\n      <th>12</th>\n      <td>12</td>\n      <td>1</td>\n      <td>1</td>\n    </tr>\n    <tr>\n      <th>...</th>\n      <td>...</td>\n      <td>...</td>\n      <td>...</td>\n    </tr>\n    <tr>\n      <th>4149</th>\n      <td>49</td>\n      <td>83</td>\n      <td>1</td>\n    </tr>\n    <tr>\n      <th>4151</th>\n      <td>1</td>\n      <td>84</td>\n      <td>1</td>\n    </tr>\n    <tr>\n      <th>4157</th>\n      <td>7</td>\n      <td>84</td>\n      <td>1</td>\n    </tr>\n    <tr>\n      <th>4167</th>\n      <td>17</td>\n      <td>84</td>\n      <td>1</td>\n    </tr>\n    <tr>\n      <th>4193</th>\n      <td>43</td>\n      <td>84</td>\n      <td>1</td>\n    </tr>\n  </tbody>\n</table>\n<p>509 rows × 3 columns</p>\n</div>"
     },
     "execution_count": 21,
     "metadata": {},
     "output_type": "execute_result"
    }
   ],
   "source": [
    "# Re-organize data structure for building the ICM\n",
    "\n",
    "# The dataframe is modeled such that the column 'id' is identifier variable,\n",
    "# and all other columns are \"unpivoted\" to the row axis.\n",
    "# The result has only two non-identifier columns: 'label' (attribute) and 'value'.\n",
    "icm_df = pd.melt(icm_df, id_vars='id', var_name='label')\n",
    "\n",
    "# Filter the values: only the cells with value 1 are kept in the new dataframe\n",
    "icm_df = icm_df[icm_df[\"value\"]==1]\n",
    "icm_df"
   ]
  },
  {
   "cell_type": "code",
   "execution_count": 22,
   "id": "947540a6",
   "metadata": {
    "pycharm": {
     "name": "#%%\n"
    }
   },
   "outputs": [
    {
     "data": {
      "text/plain": "<50x85 sparse matrix of type '<class 'numpy.int64'>'\n\twith 509 stored elements in Compressed Sparse Row format>"
     },
     "execution_count": 22,
     "metadata": {},
     "output_type": "execute_result"
    }
   ],
   "source": [
    "# Create the Item Content Matrix in CSR format to facilitate the computation\n",
    "# Row: guide_id, Column: attribute_id, Value: 1 if the attribute is present for the guide\n",
    "ICM_all = sps.csr_matrix(\n",
    "    (icm_df[\"value\"].values,\n",
    "    (icm_df[\"id\"].values, icm_df[\"label\"].values))\n",
    ")\n",
    "\n",
    "ICM_all"
   ]
  },
  {
   "cell_type": "code",
   "execution_count": 23,
   "id": "82540dd5",
   "metadata": {
    "pycharm": {
     "name": "#%%\n"
    }
   },
   "outputs": [
    {
     "name": "stdout",
     "output_type": "stream",
     "text": [
      "[[0 0 1 ... 0 0 0]\n",
      " [0 1 0 ... 0 0 1]\n",
      " [0 1 0 ... 0 0 0]\n",
      " ...\n",
      " [0 1 0 ... 0 0 0]\n",
      " [0 1 0 ... 0 0 0]\n",
      " [0 0 1 ... 0 1 0]]\n"
     ]
    }
   ],
   "source": [
    "# Print the matrix in dense format\n",
    "print(ICM_all.todense())"
   ]
  },
  {
   "cell_type": "markdown",
   "id": "02c77874",
   "metadata": {
    "pycharm": {
     "name": "#%% md\n"
    }
   },
   "source": [
    "### Feature Engineering\n",
    "It is possible to model the importance of the features by weighting them differently in the ICM: so we can attribute a higher value to the features that we consider more relevant for the recommendation problem, such as the languages spoken by the guides.\n",
    "\n",
    "In the considered scenario, we assume that the **language** is a hard constraint with high priority in the matching process: for communication purpose, it is reasonable that the recommended guides and the tourist speak the same language. So we aim to first guarantee this constraint.\n",
    "\n",
    "Other attributes, such as the experience or the educational background of the guides, can be further highlighted whenever necessary."
   ]
  },
  {
   "cell_type": "code",
   "execution_count": 24,
   "id": "b8288f95",
   "metadata": {
    "pycharm": {
     "name": "#%%\n"
    }
   },
   "outputs": [
    {
     "name": "stdout",
     "output_type": "stream",
     "text": [
      "0 id\n",
      "1 female\n",
      "2 male\n",
      "3 high_cost\n",
      "4 low_cost\n",
      "5 medium_cost\n",
      "6 experienced\n",
      "7 junior\n",
      "8 senior\n",
      "9 20-40\n",
      "10 40+\n",
      "11 bachelor\n",
      "12 high-school\n",
      "13 master\n",
      "14 middle-school\n",
      "15 phd\n",
      "16 Accountant, chartered public finance\n",
      "17 Analytical chemist\n",
      "18 Animal technologist\n",
      "19 Arboriculturist\n",
      "20 Armed forces operational officer\n",
      "21 Building services engineer\n",
      "22 Chartered public finance accountant\n",
      "23 Chief Technology Officer\n",
      "24 Child psychotherapist\n",
      "25 Clinical molecular geneticist\n",
      "26 Community arts worker\n",
      "27 Community development worker\n",
      "28 Conservator, furniture\n",
      "29 Copy\n",
      "30 Data scientist\n",
      "31 Designer, interior/spatial\n",
      "32 Development worker, international aid\n",
      "33 Educational psychologist\n",
      "34 Estate manager/land agent\n",
      "35 Field seismologist\n",
      "36 Financial adviser\n",
      "37 Financial manager\n",
      "38 Food technologist\n",
      "39 Geochemist\n",
      "40 Geophysicist/field seismologist\n",
      "41 Health and safety adviser\n",
      "42 Lecturer, higher education\n",
      "43 Lighting technician, broadcasting/film/video\n",
      "44 Magazine journalist\n",
      "45 Maintenance engineer\n",
      "46 Microbiologist\n",
      "47 Mining engineer\n",
      "48 Nurse, children's\n",
      "49 Paediatric nurse\n",
      "50 Pharmacist, community\n",
      "51 Physiological scientist\n",
      "52 Producer, radio\n",
      "53 Quantity surveyor\n",
      "54 Recycling officer\n",
      "55 Retail merchandiser\n",
      "56 Sales promotion account executive\n",
      "57 Secretary/administrator\n",
      "58 Surgeon\n",
      "59 Teacher, primary school\n",
      "60 Theatre manager\n",
      "61 Theme park manager\n",
      "62 Tour manager\n",
      "63 bulgarian\n",
      "64 chinese\n",
      "65 deutsche\n",
      "66 dutch\n",
      "67 english\n",
      "68 french\n",
      "69 italian\n",
      "70 spanish\n",
      "71 archeology\n",
      "72 art\n",
      "73 beer\n",
      "74 cinema\n",
      "75 countryside\n",
      "76 food\n",
      "77 history\n",
      "78 literature\n",
      "79 museums\n",
      "80 music\n",
      "81 rafting\n",
      "82 sport\n",
      "83 tracking\n",
      "84 wine\n"
     ]
    }
   ],
   "source": [
    "# Print the full list of attributes with their indices\n",
    "for l in attribute_list:\n",
    "    print(attribute_list.index(l), l)"
   ]
  },
  {
   "cell_type": "code",
   "execution_count": 25,
   "outputs": [],
   "source": [
    "# Define which features we would like to model\n",
    "# Some examples could be 'low_cost' to consider the cost of the guide,\n",
    "# 'experienced' for the experience, '20-40' for the age, etc.\n",
    "features_to_model = ['low_cost', 'experienced', '20-40']\n",
    "\n",
    "# Define the importance of those features that we want to attribute in a positional way\n",
    "# Default weight: 1\n",
    "importance_weights = [1, 1, 1]\n",
    "\n",
    "# Extract the columns representing languages, and attribute a higher weight\n",
    "languages_columns = [61, 68]\n",
    "languages_weight = 10"
   ],
   "metadata": {
    "collapsed": false,
    "pycharm": {
     "name": "#%%\n"
    }
   }
  },
  {
   "cell_type": "code",
   "execution_count": 26,
   "outputs": [],
   "source": [
    "# Initialize the dictionaries for the chosen attributes and weights\n",
    "feature_columns_dict = dict()\n",
    "importance_weights_dict = dict()\n",
    "\n",
    "# Add the language feature to the two dictionaries\n",
    "feature_columns_dict.update({'language': languages_columns})\n",
    "importance_weights_dict.update({'language': languages_weight})"
   ],
   "metadata": {
    "collapsed": false,
    "pycharm": {
     "name": "#%%\n"
    }
   }
  },
  {
   "cell_type": "code",
   "execution_count": 27,
   "outputs": [
    {
     "name": "stdout",
     "output_type": "stream",
     "text": [
      "{'language': [61, 68], 'low_cost': 4, 'experienced': 6, '20-40': 9}\n",
      "{'language': 10, 'low_cost': 1, 'experienced': 1, '20-40': 1}\n"
     ]
    }
   ],
   "source": [
    "# Build function to extract other features' indices and the corresponding weights to attribute\n",
    "def extract_feature(name, i):\n",
    "    # Update the dictionaries with indices and weights\n",
    "    feature_columns_dict.update({name: attribute_list.index(name)})\n",
    "    importance_weights_dict.update({name: importance_weights[i]})\n",
    "\n",
    "# Execute the operation\n",
    "for i in range(len(features_to_model)):\n",
    "    extract_feature(features_to_model[i], i)\n",
    "\n",
    "print(feature_columns_dict)\n",
    "print(importance_weights_dict)"
   ],
   "metadata": {
    "collapsed": false,
    "pycharm": {
     "name": "#%%\n"
    }
   }
  },
  {
   "cell_type": "code",
   "execution_count": 28,
   "id": "6d223a92",
   "metadata": {
    "pycharm": {
     "name": "#%%\n"
    }
   },
   "outputs": [],
   "source": [
    "# Create a copy of the original ICM to modify\n",
    "new_icm_df = icm_df.copy(deep=True)"
   ]
  },
  {
   "cell_type": "code",
   "execution_count": 29,
   "id": "72c8b80d",
   "metadata": {
    "pycharm": {
     "name": "#%%\n"
    }
   },
   "outputs": [],
   "source": [
    "# Modify the cell values with respect to the weights we want to give\n",
    "for feature in importance_weights_dict:\n",
    "\n",
    "    # If the weight is not default, modify the values\n",
    "    if importance_weights_dict[feature] > 1:\n",
    "\n",
    "        # Trace all columns assigned to the languages\n",
    "        if feature=='language':\n",
    "            condition = (new_icm_df.label >= feature_columns_dict[feature][0]) & (new_icm_df.label <= feature_columns_dict[feature][1])\n",
    "\n",
    "        # Trace the specific feature\n",
    "        else:\n",
    "            condition = (new_icm_df.label == feature_columns_dict[feature])\n",
    "\n",
    "        # Find the rows with labels corresponding to the selected features, and update the values\n",
    "        new_icm_df.loc[condition, 'value'] = importance_weights_dict[feature]"
   ]
  },
  {
   "cell_type": "code",
   "execution_count": 30,
   "outputs": [
    {
     "data": {
      "text/plain": "      id label  value\n1      1     1      1\n2      2     1      1\n10    10     1      1\n11    11     1      1\n12    12     1      1\n...   ..   ...    ...\n4149  49    83      1\n4151   1    84      1\n4157   7    84      1\n4167  17    84      1\n4193  43    84      1\n\n[509 rows x 3 columns]",
      "text/html": "<div>\n<style scoped>\n    .dataframe tbody tr th:only-of-type {\n        vertical-align: middle;\n    }\n\n    .dataframe tbody tr th {\n        vertical-align: top;\n    }\n\n    .dataframe thead th {\n        text-align: right;\n    }\n</style>\n<table border=\"1\" class=\"dataframe\">\n  <thead>\n    <tr style=\"text-align: right;\">\n      <th></th>\n      <th>id</th>\n      <th>label</th>\n      <th>value</th>\n    </tr>\n  </thead>\n  <tbody>\n    <tr>\n      <th>1</th>\n      <td>1</td>\n      <td>1</td>\n      <td>1</td>\n    </tr>\n    <tr>\n      <th>2</th>\n      <td>2</td>\n      <td>1</td>\n      <td>1</td>\n    </tr>\n    <tr>\n      <th>10</th>\n      <td>10</td>\n      <td>1</td>\n      <td>1</td>\n    </tr>\n    <tr>\n      <th>11</th>\n      <td>11</td>\n      <td>1</td>\n      <td>1</td>\n    </tr>\n    <tr>\n      <th>12</th>\n      <td>12</td>\n      <td>1</td>\n      <td>1</td>\n    </tr>\n    <tr>\n      <th>...</th>\n      <td>...</td>\n      <td>...</td>\n      <td>...</td>\n    </tr>\n    <tr>\n      <th>4149</th>\n      <td>49</td>\n      <td>83</td>\n      <td>1</td>\n    </tr>\n    <tr>\n      <th>4151</th>\n      <td>1</td>\n      <td>84</td>\n      <td>1</td>\n    </tr>\n    <tr>\n      <th>4157</th>\n      <td>7</td>\n      <td>84</td>\n      <td>1</td>\n    </tr>\n    <tr>\n      <th>4167</th>\n      <td>17</td>\n      <td>84</td>\n      <td>1</td>\n    </tr>\n    <tr>\n      <th>4193</th>\n      <td>43</td>\n      <td>84</td>\n      <td>1</td>\n    </tr>\n  </tbody>\n</table>\n<p>509 rows × 3 columns</p>\n</div>"
     },
     "execution_count": 30,
     "metadata": {},
     "output_type": "execute_result"
    }
   ],
   "source": [
    "# Print the modified dataframe\n",
    "new_icm_df"
   ],
   "metadata": {
    "collapsed": false,
    "pycharm": {
     "name": "#%%\n"
    }
   }
  },
  {
   "cell_type": "code",
   "execution_count": 31,
   "id": "8b862764",
   "metadata": {
    "pycharm": {
     "name": "#%%\n"
    }
   },
   "outputs": [
    {
     "data": {
      "text/plain": "<50x85 sparse matrix of type '<class 'numpy.int64'>'\n\twith 509 stored elements in Compressed Sparse Row format>"
     },
     "execution_count": 31,
     "metadata": {},
     "output_type": "execute_result"
    }
   ],
   "source": [
    "# Build the modified ICM from the dataframe\n",
    "# Like the URM, also the ICM is built in CSR format for computational purpose\n",
    "# Row: guide_id, Column: attribute_id, Value: 1 if the attribute is present for the guide\n",
    "\n",
    "ICM_modified = sps.csr_matrix(\n",
    "    (new_icm_df[\"value\"].values,\n",
    "    (new_icm_df[\"id\"].values, new_icm_df[\"label\"].values))\n",
    ")\n",
    "\n",
    "ICM_modified"
   ]
  },
  {
   "cell_type": "code",
   "execution_count": 32,
   "id": "c617d3be",
   "metadata": {
    "pycharm": {
     "name": "#%%\n"
    }
   },
   "outputs": [],
   "source": [
    "# Define the portion of ICM used for training the model: here we use the entire ICM\n",
    "ICM_train = ICM_modified"
   ]
  },
  {
   "cell_type": "markdown",
   "id": "3ceda1a3",
   "metadata": {
    "pycharm": {
     "name": "#%% md\n"
    }
   },
   "source": [
    "## Build the model\n",
    "\n",
    "At this point all the necessary input data are prepared, and we proceed to build the recommendation algorithm.\n"
   ]
  },
  {
   "cell_type": "markdown",
   "source": [
    "### Similarity Function\n",
    "A recommendation system learns from the past ratings and/or the attributes of the users. By evaluating the similarity between the guides, it is able to suggest guides that are similar to the ones that the tourist liked in the past, and also to recommend a guide liked by a tourist to similar tourists.\n",
    "\n",
    "To determine the degree of similarity between the users, we choose to implement the **Cosine Similarity** function for the models. In our case, it consists in determining the number of common elements between two vectors $\\vec{i}$ and $\\vec{j}$ representing guides, and this can be computed with the **normalized dot product**:\n",
    "$$    s_{ij}=\\frac{\\vec{i}\\cdot \\vec{j}}{|\\vec{i}|_2\\cdot |\\vec{j}|_2}=cos(\\theta)   .$$\n",
    "\n",
    "For faster computation, we adopt a version of the cosine similarity based on vector products, with $M$ the reference matrix (URM or ICM):\n",
    "$$ W_{i,I}\n",
    "= cos(v_i, M_{I})\n",
    "= \\frac{v_i \\cdot M_{I}}{|| v_i || IW_{I} + shrink}  ,$$\n",
    "where\n",
    "$$ IW_{i} = \\sqrt{{\\Sigma_{u \\in U}{M_{u,i}^2}}}  .$$\n",
    "The shrink term is introduced to take into account the support of the vectors: vectors with larger number of non-zero elements in them are statistically more significant.\n",
    "\n",
    "Finally, the similarity values are stored in a **similarity matrix**, which establishes the pairwise correspondence between guides. This is fed to the models as weights."
   ],
   "metadata": {
    "collapsed": false,
    "pycharm": {
     "name": "#%% md\n"
    }
   }
  },
  {
   "cell_type": "code",
   "execution_count": 33,
   "outputs": [],
   "source": [
    "# Define the cosine similarity function based on vector products\n",
    "def vector_similarity(m: sps.csc_matrix, shrink: int):\n",
    "\n",
    "    # Compute the Euclidean norm of each column of the matrix m\n",
    "    item_weights = np.sqrt(\n",
    "        np.sum(m.power(2), axis=0)\n",
    "    ).A.flatten()\n",
    "\n",
    "    # Find the number of items\n",
    "    num_items = m.shape[1]\n",
    "\n",
    "    # Get the transposed matrix\n",
    "    matrix_t = m.T\n",
    "\n",
    "    # Initialize the empty weight matrix\n",
    "    weights = np.empty(shape=(num_items, num_items))\n",
    "\n",
    "    # Compute the similarity values as mentioned in the previous formula\n",
    "    # The results will be weights to give to the model\n",
    "    for item_id in range(num_items):\n",
    "        numerator = matrix_t.dot(m[:, item_id]).A.flatten()\n",
    "        denominator = item_weights[item_id] * item_weights + shrink + 1e-6\n",
    "\n",
    "        weights[item_id] = numerator / denominator\n",
    "\n",
    "    # The elements on the diagonal of the similarity matrix are set to 0,\n",
    "    # to force the fact that each element is not considered similar to itself!\n",
    "    np.fill_diagonal(weights, 0.0)\n",
    "\n",
    "    return weights"
   ],
   "metadata": {
    "collapsed": false,
    "pycharm": {
     "name": "#%%\n"
    }
   }
  },
  {
   "cell_type": "markdown",
   "source": [
    "To solve our problem, we worked on two different approaches: **Collaborative Filtering** (CF) and **Content-Based Filtering** (CBF)."
   ],
   "metadata": {
    "collapsed": false,
    "pycharm": {
     "name": "#%% md\n"
    }
   }
  },
  {
   "cell_type": "markdown",
   "id": "2dd1e1bc",
   "metadata": {
    "pycharm": {
     "name": "#%% md\n"
    }
   },
   "source": [
    "### Collaborative Filtering Model\n",
    "\n",
    "**Collaborative Filtering** models rely on the opinions of a community of tourists, without the need of guides' attributes. It essentially focuses on identifying patterns and similarities in interactions between tourists and guides based on the tourists' feedback.\n",
    "\n",
    "In this case, **item-based** collaborative filtering technique has been used. It calculates the similarity between each pair of guides, according to the number of tourists that have the same opinion on them."
   ]
  },
  {
   "cell_type": "code",
   "execution_count": 34,
   "id": "447baf10",
   "metadata": {
    "pycharm": {
     "name": "#%%\n"
    }
   },
   "outputs": [],
   "source": [
    "# Define the item-based collaborative filtering recommender\n",
    "class ItemCFRecommender(object):\n",
    "\n",
    "    # Initialize the input matrix\n",
    "    def __init__(self, URM):\n",
    "        self.URM = URM\n",
    "        \n",
    "    # Fit the recommender with a chosen shrink value\n",
    "    def fit(self, shrink=1):\n",
    "        # Compute the pairwise similarity between guides using the URM\n",
    "        self.W_matrix = vector_similarity(self.URM.tocsc(), shrink=shrink)\n",
    "        # Print the weight matrix\n",
    "        # with np.printoptions(threshold=np.inf):\n",
    "        #     print(self.W_matrix)\n",
    "\n",
    "    # Generate recommendations for each tourist\n",
    "    # at: number of guides that we want to recommend to each tourist\n",
    "    # exclude_seen: if we want to avoid recommending the guides that the tourist has rated before\n",
    "    def recommend(self, user_id, at=None, exclude_seen=True):\n",
    "        user_profile = self.URM[user_id]\n",
    "        # Compute the scores using the dot product\n",
    "        scores = user_profile.dot(self.W_matrix).ravel()\n",
    "\n",
    "        # Filter the guides\n",
    "        if exclude_seen:\n",
    "            scores = self.filter_seen(user_id, scores)\n",
    "\n",
    "        # Rank the guides\n",
    "        ranking = scores.argsort()[::-1]\n",
    "            \n",
    "        return ranking[:at]\n",
    "    \n",
    "    # Guides that have been already rated by the tourist will be excluded in the recommendation\n",
    "    def filter_seen(self, user_id, scores):\n",
    "        # Retrieve the cells regarding the interactions of that specific tourist\n",
    "        start_pos = self.URM.indptr[user_id]\n",
    "        end_pos = self.URM.indptr[user_id+1]\n",
    "\n",
    "        # Extract the user profile\n",
    "        user_profile = self.URM.indices[start_pos:end_pos]\n",
    "\n",
    "        # Set the score of already rated guides to the minimum value\n",
    "        scores[user_profile] = -np.inf\n",
    "\n",
    "        return scores"
   ]
  },
  {
   "cell_type": "markdown",
   "id": "41d3f545",
   "metadata": {
    "pycharm": {
     "name": "#%% md\n"
    }
   },
   "source": [
    "### Content-Based Filtering Model\n",
    "\n",
    "A **Content-Based Filtering** model recommends guides to tourists based on the attributes of the guides themselves. It stands upon the assumption of recommending items similar to the ones a user liked in the past, and it requires a list of good quality attributes for the guides to work properly.\n",
    "\n",
    "In this case **item-based** CBF technique has been used. It suggests guides to tourists according to the similarity weights computed on the guides: two guides are similar if they have a great part of attributes in common."
   ]
  },
  {
   "cell_type": "code",
   "execution_count": 35,
   "id": "c0a31a9d",
   "metadata": {
    "pycharm": {
     "name": "#%%\n"
    }
   },
   "outputs": [],
   "source": [
    "# Define the item-based content-based filtering recommender\n",
    "class ItemCBFRecommender(object):\n",
    "\n",
    "    # Initialize the input matrices\n",
    "    def __init__(self, URM, ICM):\n",
    "        self.URM = URM\n",
    "        self.ICM = ICM\n",
    "\n",
    "    # Fit the recommender with a chosen shrink value\n",
    "    def fit(self, shrink=1):\n",
    "        # Compute the pairwise similarity between guides using the transposed ICM\n",
    "        self.W_matrix = vector_similarity(self.ICM.T.tocsc(), shrink=shrink)\n",
    "        # with np.printoptions(threshold=np.inf):\n",
    "        #     print(self.W_matrix)\n",
    "\n",
    "    # Generate recommendations for each tourist\n",
    "    # at: number of guides that we want to recommend to each tourist\n",
    "    # exclude_seen: if we want to avoid recommending the guides that the tourist has rated before\n",
    "    def recommend(self, user_id, at=None, exclude_seen=True):\n",
    "        user_profile = self.URM[user_id]\n",
    "        # Compute the scores using the dot product\n",
    "        scores = user_profile.dot(self.W_matrix).ravel()\n",
    "\n",
    "        # Filter the guides\n",
    "        if exclude_seen:\n",
    "            scores = self.filter_seen(user_id, scores)\n",
    "\n",
    "        # Rank the guides\n",
    "        ranking = scores.argsort()[::-1]\n",
    "\n",
    "        return ranking[:at]\n",
    "\n",
    "    # Guides that have been already rated by the tourist will be excluded in the recommendation\n",
    "    def filter_seen(self, user_id, scores):\n",
    "\n",
    "        # Retrieve the cells regarding the interactions of that specific tourist\n",
    "        start_pos = self.URM.indptr[user_id]\n",
    "        end_pos = self.URM.indptr[user_id+1]\n",
    "\n",
    "        # Extract the user profile\n",
    "        user_profile = self.URM.indices[start_pos:end_pos]\n",
    "\n",
    "        # Set the score of already rated guides to the minimum value\n",
    "        scores[user_profile] = -np.inf\n",
    "\n",
    "        return scores"
   ]
  },
  {
   "cell_type": "markdown",
   "id": "2b4149d9",
   "metadata": {
    "pycharm": {
     "name": "#%% md\n"
    }
   },
   "source": [
    "## Fit the model\n",
    "The recommenders are built and fit on the available input data."
   ]
  },
  {
   "cell_type": "code",
   "execution_count": 36,
   "id": "88242895",
   "metadata": {
    "pycharm": {
     "name": "#%%\n"
    }
   },
   "outputs": [],
   "source": [
    "# Select if building a collaborative filtering model or a content-based filtering model\n",
    "# Available options: 'cf', 'cbf'\n",
    "model_type = 'cbf'"
   ]
  },
  {
   "cell_type": "code",
   "execution_count": 37,
   "id": "c56de8e2",
   "metadata": {
    "pycharm": {
     "name": "#%%\n"
    }
   },
   "outputs": [],
   "source": [
    "# Collaborative filtering model\n",
    "# Input data: URM\n",
    "# The shrink value is a non-negative number that can be tuned\n",
    "if model_type == 'cf':\n",
    "    recommender = ItemCFRecommender(URM_train)\n",
    "    recommender.fit(shrink=0.5)"
   ]
  },
  {
   "cell_type": "code",
   "execution_count": 38,
   "outputs": [],
   "source": [
    "# Content-based filtering model\n",
    "# Input data: URM and ICM\n",
    "# The shrink value is a non-negative number that can be tuned\n",
    "if model_type == 'cbf':\n",
    "    recommender = ItemCBFRecommender(URM_train, ICM_train)\n",
    "    recommender.fit(shrink=0.5)"
   ],
   "metadata": {
    "collapsed": false,
    "pycharm": {
     "name": "#%%\n"
    }
   }
  },
  {
   "cell_type": "markdown",
   "source": [
    "## Generate outputs\n",
    "\n",
    "Here the generation of recommendations of guides to each tourist is reported."
   ],
   "metadata": {
    "collapsed": false,
    "pycharm": {
     "name": "#%% md\n"
    }
   }
  },
  {
   "cell_type": "code",
   "execution_count": 39,
   "outputs": [],
   "source": [
    "# Set the number of guides to recommend to each tourist\n",
    "n_recommendations_per_tourist = 5"
   ],
   "metadata": {
    "collapsed": false,
    "pycharm": {
     "name": "#%%\n"
    }
   }
  },
  {
   "cell_type": "code",
   "execution_count": 40,
   "outputs": [
    {
     "name": "stderr",
     "output_type": "stream",
     "text": [
      "500it [00:00, 17857.07it/s]\n"
     ]
    }
   ],
   "source": [
    "# Generate recommendations for each tourist\n",
    "recommendations = []\n",
    "\n",
    "for i,id in tqdm(enumerate(arr_tourists)):\n",
    "    # at: number of guides to recommend to each tourist\n",
    "    # exclude_seen: if we want to exclude the guides already rated by this tourist\n",
    "    rec = recommender.recommend(id, at=n_recommendations_per_tourist, exclude_seen=True)\n",
    "    rec_list = rec\n",
    "\n",
    "    # Produce a string with the ids of the recommended guides\n",
    "    rec_row = ' '.join(str(s) for s in rec_list)\n",
    "    recommendations.append(rec_row)"
   ],
   "metadata": {
    "collapsed": false,
    "pycharm": {
     "name": "#%%\n"
    }
   }
  },
  {
   "cell_type": "code",
   "execution_count": 41,
   "outputs": [
    {
     "name": "stdout",
     "output_type": "stream",
     "text": [
      "User 0 - recommended guides: 28 38 40 27 22\n",
      "User 1 - recommended guides: 14 12 7 2 6\n",
      "User 2 - recommended guides: 5 24 10 19 42\n",
      "User 3 - recommended guides: 34 29 21 44 14\n",
      "User 4 - recommended guides: 4 31 30 43 33\n",
      "User 5 - recommended guides: 23 10 5 30 8\n",
      "User 6 - recommended guides: 29 44 8 48 9\n",
      "User 7 - recommended guides: 29 44 8 48 9\n",
      "User 8 - recommended guides: 20 4 6 2 19\n",
      "User 9 - recommended guides: 48 3 42 10 23\n"
     ]
    }
   ],
   "source": [
    "# Print recommendations for the first 10 users\n",
    "for i in range(10):\n",
    "    print(\"User \" + str(arr_tourists[i]) + \" - recommended guides: \" + recommendations[i])"
   ],
   "metadata": {
    "collapsed": false,
    "pycharm": {
     "name": "#%%\n"
    }
   }
  },
  {
   "cell_type": "code",
   "execution_count": 42,
   "outputs": [
    {
     "data": {
      "text/plain": "     tourist_id          guides\n0             0  28 38 40 27 22\n1             1     14 12 7 2 6\n2             2   5 24 10 19 42\n3             3  34 29 21 44 14\n4             4   4 31 30 43 33\n..          ...             ...\n495         495    30 4 20 33 6\n496         496     42 11 3 5 9\n497         497  12 45 17 18 37\n498         498    42 11 3 19 8\n499         499    29 34 8 42 9\n\n[500 rows x 2 columns]",
      "text/html": "<div>\n<style scoped>\n    .dataframe tbody tr th:only-of-type {\n        vertical-align: middle;\n    }\n\n    .dataframe tbody tr th {\n        vertical-align: top;\n    }\n\n    .dataframe thead th {\n        text-align: right;\n    }\n</style>\n<table border=\"1\" class=\"dataframe\">\n  <thead>\n    <tr style=\"text-align: right;\">\n      <th></th>\n      <th>tourist_id</th>\n      <th>guides</th>\n    </tr>\n  </thead>\n  <tbody>\n    <tr>\n      <th>0</th>\n      <td>0</td>\n      <td>28 38 40 27 22</td>\n    </tr>\n    <tr>\n      <th>1</th>\n      <td>1</td>\n      <td>14 12 7 2 6</td>\n    </tr>\n    <tr>\n      <th>2</th>\n      <td>2</td>\n      <td>5 24 10 19 42</td>\n    </tr>\n    <tr>\n      <th>3</th>\n      <td>3</td>\n      <td>34 29 21 44 14</td>\n    </tr>\n    <tr>\n      <th>4</th>\n      <td>4</td>\n      <td>4 31 30 43 33</td>\n    </tr>\n    <tr>\n      <th>...</th>\n      <td>...</td>\n      <td>...</td>\n    </tr>\n    <tr>\n      <th>495</th>\n      <td>495</td>\n      <td>30 4 20 33 6</td>\n    </tr>\n    <tr>\n      <th>496</th>\n      <td>496</td>\n      <td>42 11 3 5 9</td>\n    </tr>\n    <tr>\n      <th>497</th>\n      <td>497</td>\n      <td>12 45 17 18 37</td>\n    </tr>\n    <tr>\n      <th>498</th>\n      <td>498</td>\n      <td>42 11 3 19 8</td>\n    </tr>\n    <tr>\n      <th>499</th>\n      <td>499</td>\n      <td>29 34 8 42 9</td>\n    </tr>\n  </tbody>\n</table>\n<p>500 rows × 2 columns</p>\n</div>"
     },
     "execution_count": 42,
     "metadata": {},
     "output_type": "execute_result"
    }
   ],
   "source": [
    "# Show the output dataframe\n",
    "result_df = pd.DataFrame(\n",
    "    data = {'tourist_id': arr_tourists,\n",
    "            'guides': recommendations}\n",
    ")\n",
    "\n",
    "result_df"
   ],
   "metadata": {
    "collapsed": false,
    "pycharm": {
     "name": "#%%\n"
    }
   }
  },
  {
   "cell_type": "markdown",
   "source": [
    "Let's randomly choose a tourist and check for information of recommended guides."
   ],
   "metadata": {
    "collapsed": false,
    "pycharm": {
     "name": "#%% md\n"
    }
   }
  },
  {
   "cell_type": "code",
   "execution_count": 43,
   "outputs": [
    {
     "data": {
      "text/plain": "                                                          20\nid                                                        20\nlanguages                                      ['bulgarian']\nkeywords   ['food', 'countryside', 'archeology', 'literat...",
      "text/html": "<div>\n<style scoped>\n    .dataframe tbody tr th:only-of-type {\n        vertical-align: middle;\n    }\n\n    .dataframe tbody tr th {\n        vertical-align: top;\n    }\n\n    .dataframe thead th {\n        text-align: right;\n    }\n</style>\n<table border=\"1\" class=\"dataframe\">\n  <thead>\n    <tr style=\"text-align: right;\">\n      <th></th>\n      <th>20</th>\n    </tr>\n  </thead>\n  <tbody>\n    <tr>\n      <th>id</th>\n      <td>20</td>\n    </tr>\n    <tr>\n      <th>languages</th>\n      <td>['bulgarian']</td>\n    </tr>\n    <tr>\n      <th>keywords</th>\n      <td>['food', 'countryside', 'archeology', 'literat...</td>\n    </tr>\n  </tbody>\n</table>\n</div>"
     },
     "execution_count": 43,
     "metadata": {},
     "output_type": "execute_result"
    }
   ],
   "source": [
    "# Show some examples: select a tourist by id to visualize the received recommendations\n",
    "sample_tourist = 20\n",
    "\n",
    "# Show the selected tourist\n",
    "pd.DataFrame(tourist_df.loc[sample_tourist,:])"
   ],
   "metadata": {
    "collapsed": false,
    "pycharm": {
     "name": "#%%\n"
    }
   }
  },
  {
   "cell_type": "code",
   "execution_count": 44,
   "outputs": [
    {
     "data": {
      "text/plain": "    id  gender              name  birth_date  now_available  \\\n16  16    male   Benjamin Taylor  1959-06-11           True   \n32  32  female      Sarah Cortez  1960-11-16           True   \n48  48  female  Jessica Mitchell  1971-11-24           True   \n42  42  female     Melinda Mccoy  2003-03-17           True   \n3    3    male  Michael Mitchell  1981-08-22           True   \n\n                languages_spoken  price      education  \\\n16  [spanish, bulgarian, french]     32  middle-school   \n32           [french, bulgarian]     28            phd   \n48          [italian, bulgarian]     30    high-school   \n42                   [bulgarian]     34       bachelor   \n3                    [bulgarian]     46       bachelor   \n\n                                       biography                     keywords  \\\n16                    Designer, interior/spatial   [countryside, music, beer]   \n32           Chartered public finance accountant          [archeology, music]   \n48               Geophysicist/field seismologist                           []   \n42                           Animal technologist            [tracking, sport]   \n3   Lighting technician, broadcasting/film/video  [countryside, rafting, art]   \n\n                                     current_location  experience  \n16  {'lat': 40.32347428820915, 'lon': 18.164571467...          20  \n32  {'lat': 40.343414579847, 'lon': 18.18565562805...          41  \n48  {'lat': 40.34687214441545, 'lon': 18.186650378...          28  \n42  {'lat': 40.349356335154205, 'lon': 18.18610449...           2  \n3   {'lat': 40.36584086550253, 'lon': 18.183002910...          18  ",
      "text/html": "<div>\n<style scoped>\n    .dataframe tbody tr th:only-of-type {\n        vertical-align: middle;\n    }\n\n    .dataframe tbody tr th {\n        vertical-align: top;\n    }\n\n    .dataframe thead th {\n        text-align: right;\n    }\n</style>\n<table border=\"1\" class=\"dataframe\">\n  <thead>\n    <tr style=\"text-align: right;\">\n      <th></th>\n      <th>id</th>\n      <th>gender</th>\n      <th>name</th>\n      <th>birth_date</th>\n      <th>now_available</th>\n      <th>languages_spoken</th>\n      <th>price</th>\n      <th>education</th>\n      <th>biography</th>\n      <th>keywords</th>\n      <th>current_location</th>\n      <th>experience</th>\n    </tr>\n  </thead>\n  <tbody>\n    <tr>\n      <th>16</th>\n      <td>16</td>\n      <td>male</td>\n      <td>Benjamin Taylor</td>\n      <td>1959-06-11</td>\n      <td>True</td>\n      <td>[spanish, bulgarian, french]</td>\n      <td>32</td>\n      <td>middle-school</td>\n      <td>Designer, interior/spatial</td>\n      <td>[countryside, music, beer]</td>\n      <td>{'lat': 40.32347428820915, 'lon': 18.164571467...</td>\n      <td>20</td>\n    </tr>\n    <tr>\n      <th>32</th>\n      <td>32</td>\n      <td>female</td>\n      <td>Sarah Cortez</td>\n      <td>1960-11-16</td>\n      <td>True</td>\n      <td>[french, bulgarian]</td>\n      <td>28</td>\n      <td>phd</td>\n      <td>Chartered public finance accountant</td>\n      <td>[archeology, music]</td>\n      <td>{'lat': 40.343414579847, 'lon': 18.18565562805...</td>\n      <td>41</td>\n    </tr>\n    <tr>\n      <th>48</th>\n      <td>48</td>\n      <td>female</td>\n      <td>Jessica Mitchell</td>\n      <td>1971-11-24</td>\n      <td>True</td>\n      <td>[italian, bulgarian]</td>\n      <td>30</td>\n      <td>high-school</td>\n      <td>Geophysicist/field seismologist</td>\n      <td>[]</td>\n      <td>{'lat': 40.34687214441545, 'lon': 18.186650378...</td>\n      <td>28</td>\n    </tr>\n    <tr>\n      <th>42</th>\n      <td>42</td>\n      <td>female</td>\n      <td>Melinda Mccoy</td>\n      <td>2003-03-17</td>\n      <td>True</td>\n      <td>[bulgarian]</td>\n      <td>34</td>\n      <td>bachelor</td>\n      <td>Animal technologist</td>\n      <td>[tracking, sport]</td>\n      <td>{'lat': 40.349356335154205, 'lon': 18.18610449...</td>\n      <td>2</td>\n    </tr>\n    <tr>\n      <th>3</th>\n      <td>3</td>\n      <td>male</td>\n      <td>Michael Mitchell</td>\n      <td>1981-08-22</td>\n      <td>True</td>\n      <td>[bulgarian]</td>\n      <td>46</td>\n      <td>bachelor</td>\n      <td>Lighting technician, broadcasting/film/video</td>\n      <td>[countryside, rafting, art]</td>\n      <td>{'lat': 40.36584086550253, 'lon': 18.183002910...</td>\n      <td>18</td>\n    </tr>\n  </tbody>\n</table>\n</div>"
     },
     "execution_count": 44,
     "metadata": {},
     "output_type": "execute_result"
    }
   ],
   "source": [
    "# Extract the indices of the recommended guides\n",
    "sample_guide_list = list(map(int, recommendations[sample_tourist].split(\" \")))\n",
    "\n",
    "# Show the list of recommended guides\n",
    "guide_df.loc[sample_guide_list,:]"
   ],
   "metadata": {
    "collapsed": false,
    "pycharm": {
     "name": "#%%\n"
    }
   }
  }
 ],
 "metadata": {
  "kernelspec": {
   "display_name": "Python 3 (ipykernel)",
   "language": "python",
   "name": "python3"
  },
  "language_info": {
   "codemirror_mode": {
    "name": "ipython",
    "version": 3
   },
   "file_extension": ".py",
   "mimetype": "text/x-python",
   "name": "python",
   "nbconvert_exporter": "python",
   "pygments_lexer": "ipython3",
   "version": "3.9.12"
  }
 },
 "nbformat": 4,
 "nbformat_minor": 5
}
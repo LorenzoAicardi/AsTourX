{
 "cells": [
  {
   "cell_type": "markdown",
   "id": "25a69c6c",
   "metadata": {
    "pycharm": {
     "name": "#%% md\n"
    }
   },
   "source": [
    "# Guide Recommendation Pipeline\n",
    "The guide recommendation system aims to provide the tourists with suggestions about some potentially interesting guides for them, according to the users' preferences and requests.\n",
    "\n",
    "Recommendation systems are decision-support systems which can identify and learn patterns among sources of information. They are able to achieve great performance when a good amount of high-quality data is available.\n",
    "\n",
    "The designed system relies upon datasets of:\n",
    "- Ratings given by tourists to specific guides;\n",
    "- Set of attributes about the guides;\n",
    "- Set of attributes about the tourists."
   ]
  },
  {
   "cell_type": "markdown",
   "id": "a04247e2",
   "metadata": {
    "pycharm": {
     "name": "#%% md\n"
    }
   },
   "source": [
    "## Define working environment"
   ]
  },
  {
   "cell_type": "code",
   "execution_count": 30,
   "id": "8738f9e9",
   "metadata": {
    "pycharm": {
     "name": "#%%\n"
    }
   },
   "outputs": [],
   "source": [
    "# Import libraries\n",
    "\n",
    "import numpy as np\n",
    "import pandas as pd\n",
    "import scipy.sparse as sps\n",
    "import ast\n",
    "\n",
    "from tqdm import tqdm"
   ]
  },
  {
   "cell_type": "markdown",
   "id": "cba01366",
   "metadata": {
    "pycharm": {
     "name": "#%% md\n"
    }
   },
   "source": [
    "## Load and preprocess data\n",
    "\n",
    "In this part we are loading the previously generated dataframes:\n",
    "- tourists.csv with the id, languages spoken, and keywords of the tourists.\n",
    "- guides.csv with various attributes of the guides.\n",
    "- guides_ratings.csv which contains the tourist-guide interactions.\n"
   ]
  },
  {
   "cell_type": "code",
   "execution_count": 31,
   "id": "f7455c74",
   "metadata": {
    "pycharm": {
     "name": "#%%\n"
    }
   },
   "outputs": [
    {
     "data": {
      "text/plain": "      id      languages                                           keywords\n0      0  ['bulgarian']  ['beer', 'sport', 'cinema', 'tracking', 'rafti...\n1      1  ['bulgarian']                    ['history', 'food', 'tracking']\n2      2    ['spanish']  ['tracking', 'cinema', 'wine', 'literature', '...\n3      3   ['deutsche']                              ['sport', 'tracking']\n4      4    ['spanish']  ['beer', 'tracking', 'food', 'literature', 'sp...\n..   ...            ...                                                ...\n195  195    ['italian']  ['museums', 'cinema', 'literature', 'history',...\n196  196      ['dutch']  ['wine', 'countryside', 'museums', 'art', 'raf...\n197  197    ['italian']  ['rafting', 'archeology', 'art', 'museums', 'b...\n198  198    ['italian']  ['music', 'art', 'museums', 'history', 'food',...\n199  199    ['spanish']  ['beer', 'cinema', 'tracking', 'archeology', '...\n\n[200 rows x 3 columns]",
      "text/html": "<div>\n<style scoped>\n    .dataframe tbody tr th:only-of-type {\n        vertical-align: middle;\n    }\n\n    .dataframe tbody tr th {\n        vertical-align: top;\n    }\n\n    .dataframe thead th {\n        text-align: right;\n    }\n</style>\n<table border=\"1\" class=\"dataframe\">\n  <thead>\n    <tr style=\"text-align: right;\">\n      <th></th>\n      <th>id</th>\n      <th>languages</th>\n      <th>keywords</th>\n    </tr>\n  </thead>\n  <tbody>\n    <tr>\n      <th>0</th>\n      <td>0</td>\n      <td>['bulgarian']</td>\n      <td>['beer', 'sport', 'cinema', 'tracking', 'rafti...</td>\n    </tr>\n    <tr>\n      <th>1</th>\n      <td>1</td>\n      <td>['bulgarian']</td>\n      <td>['history', 'food', 'tracking']</td>\n    </tr>\n    <tr>\n      <th>2</th>\n      <td>2</td>\n      <td>['spanish']</td>\n      <td>['tracking', 'cinema', 'wine', 'literature', '...</td>\n    </tr>\n    <tr>\n      <th>3</th>\n      <td>3</td>\n      <td>['deutsche']</td>\n      <td>['sport', 'tracking']</td>\n    </tr>\n    <tr>\n      <th>4</th>\n      <td>4</td>\n      <td>['spanish']</td>\n      <td>['beer', 'tracking', 'food', 'literature', 'sp...</td>\n    </tr>\n    <tr>\n      <th>...</th>\n      <td>...</td>\n      <td>...</td>\n      <td>...</td>\n    </tr>\n    <tr>\n      <th>195</th>\n      <td>195</td>\n      <td>['italian']</td>\n      <td>['museums', 'cinema', 'literature', 'history',...</td>\n    </tr>\n    <tr>\n      <th>196</th>\n      <td>196</td>\n      <td>['dutch']</td>\n      <td>['wine', 'countryside', 'museums', 'art', 'raf...</td>\n    </tr>\n    <tr>\n      <th>197</th>\n      <td>197</td>\n      <td>['italian']</td>\n      <td>['rafting', 'archeology', 'art', 'museums', 'b...</td>\n    </tr>\n    <tr>\n      <th>198</th>\n      <td>198</td>\n      <td>['italian']</td>\n      <td>['music', 'art', 'museums', 'history', 'food',...</td>\n    </tr>\n    <tr>\n      <th>199</th>\n      <td>199</td>\n      <td>['spanish']</td>\n      <td>['beer', 'cinema', 'tracking', 'archeology', '...</td>\n    </tr>\n  </tbody>\n</table>\n<p>200 rows × 3 columns</p>\n</div>"
     },
     "execution_count": 31,
     "metadata": {},
     "output_type": "execute_result"
    }
   ],
   "source": [
    "# Load dataframe for tourist attributes\n",
    "\n",
    "tourist_file = open('Data/tourists_200.csv')\n",
    "\n",
    "tourist_df = pd.read_csv(\n",
    "    filepath_or_buffer = tourist_file,\n",
    "    sep = ';',\n",
    "    header = 0\n",
    ")\n",
    "\n",
    "tourist_df.rename(columns={tourist_df.columns[0]: 'id'}, inplace=True)\n",
    "\n",
    "tourist_df"
   ]
  },
  {
   "cell_type": "code",
   "execution_count": 32,
   "id": "af9da72b",
   "metadata": {
    "pycharm": {
     "name": "#%%\n"
    },
    "scrolled": true
   },
   "outputs": [
    {
     "data": {
      "text/plain": "    id  gender                name  birth_date  now_available  \\\n0    0    male          Gary Baker  1984-07-08           True   \n1    1  female        Lisa Swanson  1982-09-27           True   \n2    2  female        Carla Dillon  1995-01-04           True   \n3    3    male      Jesse Schaefer  1990-11-12           True   \n4    4    male         David Davis  1998-03-06           True   \n5    5    male        Joseph James  1974-05-30           True   \n6    6    male    Steven Schneider  1980-08-19           True   \n7    7    male       Reginald Berg  1971-01-06           True   \n8    8    male         Gregory Lee  1973-12-11           True   \n9    9    male        Alex Perkins  1963-07-30           True   \n10  10  female    Barbara Martinez  1969-09-30           True   \n11  11  female      Misty Thompson  1973-02-04           True   \n12  12  female       Ashley Garner  1996-02-27           True   \n13  13  female      Virginia Reese  1998-02-14           True   \n14  14    male         Cody Carter  1994-11-19           True   \n15  15    male    Benjamin Ramirez  1959-02-07           True   \n16  16    male      James Delacruz  1961-12-10           True   \n17  17    male        Joseph Sharp  2003-06-03           True   \n18  18    male       Robert Fields  1963-07-03           True   \n19  19  female       Deborah Scott  1963-03-02           True   \n20  20  female        Lydia Jordan  1962-05-06           True   \n21  21    male      Michael Rivera  1973-07-30           True   \n22  22  female        Susan Foster  1982-02-10           True   \n23  23  female        Erika Parker  1991-12-10           True   \n24  24  female          Megan Hall  1962-09-13           True   \n25  25  female     Evelyn Campbell  1990-08-21           True   \n26  26    male      Billy Mcintyre  1992-07-31           True   \n27  27  female        Terri Decker  2000-10-25           True   \n28  28  female       Jennifer West  1986-03-01           True   \n29  29  female        Courtney Cox  1980-10-07           True   \n30  30  female       Alyssa Rogers  1993-03-23           True   \n31  31    male       Douglas Baker  1975-02-17           True   \n32  32  female     Alison Mccarthy  1994-11-12           True   \n33  33    male      Patrick Holmes  1963-07-28           True   \n34  34  female   Christine Nichols  2003-12-15           True   \n35  35    male        Daniel Perez  1980-10-13           True   \n36  36    male       Willie Rogers  1982-04-24           True   \n37  37    male         Oscar Payne  1969-11-27           True   \n38  38  female       Hannah Rivera  2003-09-02           True   \n39  39  female  Stephanie Erickson  2004-02-12           True   \n\n                          languages_spoken  price      education  \\\n0                                [english]     25    high-school   \n1                         [italian, dutch]     36  middle-school   \n2               [chinese, french, english]     34            phd   \n3                              [bulgarian]     46       bachelor   \n4                       [deutsche, french]     30         master   \n5             [deutsche, dutch, bulgarian]     27  middle-school   \n6               [english, chinese, french]     34  middle-school   \n7        [spanish, dutch, french, italian]     33       bachelor   \n8            [bulgarian, english, chinese]     31  middle-school   \n9     [chinese, bulgarian, dutch, english]     37            phd   \n10                   [bulgarian, deutsche]     23    high-school   \n11                             [bulgarian]     23            phd   \n12                [dutch, french, italian]     19       bachelor   \n13                      [chinese, english]     27         master   \n14                       [chinese, french]     40  middle-school   \n15                     [deutsche, chinese]     31  middle-school   \n16            [spanish, bulgarian, french]     32  middle-school   \n17                                 [dutch]     26         master   \n18                        [italian, dutch]     24       bachelor   \n19          [bulgarian, deutsche, english]     35  middle-school   \n20                      [deutsche, french]     43         master   \n21                               [chinese]     26    high-school   \n22                      [chinese, spanish]     25    high-school   \n23           [english, italian, bulgarian]     20  middle-school   \n24             [dutch, italian, bulgarian]     28    high-school   \n25                             [bulgarian]     31            phd   \n26                                 [dutch]     30            phd   \n27                               [italian]     30            phd   \n28                               [spanish]     25  middle-school   \n29                    [bulgarian, chinese]     28         master   \n30             [french, deutsche, english]     27       bachelor   \n31             [deutsche, french, english]     23         master   \n32                     [french, bulgarian]     28            phd   \n33                                [french]     26  middle-school   \n34  [chinese, spanish, bulgarian, italian]     28  middle-school   \n35                       [italian, french]     30         master   \n36                               [spanish]     26            phd   \n37                                 [dutch]     26         master   \n38                               [italian]     28         master   \n39                        [spanish, dutch]     26  middle-school   \n\n                                biography  \\\n0                              Astronomer   \n1                     Designer, jewellery   \n2                   Travel agency manager   \n3                       Financial planner   \n4                          Pilot, airline   \n5            Designer, exhibition/display   \n6                          Engineer, land   \n7                  Financial risk analyst   \n8                  Audiological scientist   \n9                     Engineer, materials   \n10                   Newspaper journalist   \n11  Emergency planning/management officer   \n12                       Therapist, drama   \n13                               Best boy   \n14                           Tree surgeon   \n15                 Engineer, aeronautical   \n16                  Multimedia programmer   \n17                        Legal secretary   \n18                         Office manager   \n19                  Multimedia programmer   \n20              Editor, magazine features   \n21                      Warehouse manager   \n22    Exhibitions officer, museum/gallery   \n23                   Broadcast journalist   \n24                 Holiday representative   \n25                             Air broker   \n26                  Administrator, sports   \n27                             Counsellor   \n28               Television floor manager   \n29           Designer, industrial/product   \n30                   Broadcast journalist   \n31             Building services engineer   \n32                             Geochemist   \n33                      Designer, graphic   \n34               Environmental consultant   \n35                    Animal technologist   \n36                      Systems developer   \n37               Television floor manager   \n38               Local government officer   \n39                Secretary/administrator   \n\n                                             keywords  \\\n0                                           [museums]   \n1                    [cinema, rafting, history, wine]   \n2                             [food, archeology, art]   \n3                         [countryside, rafting, art]   \n4                       [countryside, tracking, beer]   \n5                                                  []   \n6                               [rafting, art, sport]   \n7                   [museums, art, countryside, wine]   \n8                         [literature, cinema, music]   \n9                                           [museums]   \n10     [cinema, rafting, sport, museums, countryside]   \n11                            [cinema, beer, rafting]   \n12                               [sport, music, beer]   \n13                          [sport, archeology, beer]   \n14                                          [museums]   \n15                [music, food, tracking, archeology]   \n16                         [countryside, music, beer]   \n17                                 [wine, sport, art]   \n18                                             [food]   \n19                                                 []   \n20                           [rafting, museums, food]   \n21                                           [cinema]   \n22  [history, countryside, cinema, literature, music]   \n23                                         [tracking]   \n24                                                 []   \n25                                       [literature]   \n26                          [tracking, beer, museums]   \n27                                [countryside, beer]   \n28     [food, rafting, museums, music, art, tracking]   \n29                 [archeology, literature, tracking]   \n30                                            [music]   \n31                         [music, countryside, food]   \n32                                [archeology, music]   \n33             [beer, music, countryside, archeology]   \n34                                                 []   \n35                                            [music]   \n36                                                 []   \n37                                                 []   \n38                                                 []   \n39                                          [history]   \n\n                                     current_location  experience  \n0   {'lat': 40.342693584880706, 'lon': 18.16438078...          13  \n1   {'lat': 40.3367551413547, 'lon': 18.1569120995...          14  \n2   {'lat': 40.362447049660204, 'lon': 18.14225129...           5  \n3   {'lat': 40.36584086550253, 'lon': 18.183002910...           1  \n4   {'lat': 40.354724889812935, 'lon': 18.20308322...           6  \n5   {'lat': 40.35854623058413, 'lon': 18.183459879...           8  \n6   {'lat': 40.35774331848761, 'lon': 18.163273185...           2  \n7   {'lat': 40.365193043282794, 'lon': 18.18548169...          10  \n8   {'lat': 40.35265552781134, 'lon': 18.151723396...          25  \n9   {'lat': 40.33774657696426, 'lon': 18.182064664...          41  \n10  {'lat': 40.36612881009787, 'lon': 18.182042843...          30  \n11  {'lat': 40.367394960036485, 'lon': 18.17553586...          16  \n12  {'lat': 40.34268462008425, 'lon': 18.187542175...           1  \n13  {'lat': 40.35377358678542, 'lon': 18.174728239...           2  \n14  {'lat': 40.353069674191346, 'lon': 18.17755576...           5  \n15  {'lat': 40.35272705494921, 'lon': 18.165705019...           7  \n16  {'lat': 40.32347428820915, 'lon': 18.164571467...          20  \n17  {'lat': 40.36624424923941, 'lon': 18.174443383...           3  \n18  {'lat': 40.362871505646005, 'lon': 18.18292777...          10  \n19  {'lat': 40.339915788807765, 'lon': 18.18379781...          11  \n20  {'lat': 40.357612936236265, 'lon': 18.16907898...          18  \n21  {'lat': 40.342846292499104, 'lon': 18.16089760...          27  \n22  {'lat': 40.36846436096489, 'lon': 18.171263566...          12  \n23  {'lat': 40.364408581391295, 'lon': 18.16428124...          12  \n24  {'lat': 40.32998981194129, 'lon': 18.175342312...          19  \n25  {'lat': 40.36710284805045, 'lon': 18.179956956...           3  \n26  {'lat': 40.37981446263931, 'lon': 18.178854600...          14  \n27  {'lat': 40.3457074414046, 'lon': 18.1747654675...           3  \n28  {'lat': 40.35079556972286, 'lon': 18.181927024...           7  \n29  {'lat': 40.35465462623879, 'lon': 18.172666005...          20  \n30  {'lat': 40.361047668976795, 'lon': 18.18633484...           1  \n31  {'lat': 40.339171732936364, 'lon': 18.16792590...           5  \n32  {'lat': 40.343414579847, 'lon': 18.18565562805...          11  \n33  {'lat': 40.34424559835338, 'lon': 18.174907197...           2  \n34  {'lat': 40.38198340911851, 'lon': 18.173378831...           3  \n35  {'lat': 40.36699713437984, 'lon': 18.165786470...           1  \n36  {'lat': 40.358649720289904, 'lon': 18.16378056...           2  \n37  {'lat': 40.3604075695112, 'lon': 18.1615738690...           1  \n38  {'lat': 40.36497247240833, 'lon': 18.173581152...           1  \n39  {'lat': 40.35901486939172, 'lon': 18.166553513...           1  ",
      "text/html": "<div>\n<style scoped>\n    .dataframe tbody tr th:only-of-type {\n        vertical-align: middle;\n    }\n\n    .dataframe tbody tr th {\n        vertical-align: top;\n    }\n\n    .dataframe thead th {\n        text-align: right;\n    }\n</style>\n<table border=\"1\" class=\"dataframe\">\n  <thead>\n    <tr style=\"text-align: right;\">\n      <th></th>\n      <th>id</th>\n      <th>gender</th>\n      <th>name</th>\n      <th>birth_date</th>\n      <th>now_available</th>\n      <th>languages_spoken</th>\n      <th>price</th>\n      <th>education</th>\n      <th>biography</th>\n      <th>keywords</th>\n      <th>current_location</th>\n      <th>experience</th>\n    </tr>\n  </thead>\n  <tbody>\n    <tr>\n      <th>0</th>\n      <td>0</td>\n      <td>male</td>\n      <td>Gary Baker</td>\n      <td>1984-07-08</td>\n      <td>True</td>\n      <td>[english]</td>\n      <td>25</td>\n      <td>high-school</td>\n      <td>Astronomer</td>\n      <td>[museums]</td>\n      <td>{'lat': 40.342693584880706, 'lon': 18.16438078...</td>\n      <td>13</td>\n    </tr>\n    <tr>\n      <th>1</th>\n      <td>1</td>\n      <td>female</td>\n      <td>Lisa Swanson</td>\n      <td>1982-09-27</td>\n      <td>True</td>\n      <td>[italian, dutch]</td>\n      <td>36</td>\n      <td>middle-school</td>\n      <td>Designer, jewellery</td>\n      <td>[cinema, rafting, history, wine]</td>\n      <td>{'lat': 40.3367551413547, 'lon': 18.1569120995...</td>\n      <td>14</td>\n    </tr>\n    <tr>\n      <th>2</th>\n      <td>2</td>\n      <td>female</td>\n      <td>Carla Dillon</td>\n      <td>1995-01-04</td>\n      <td>True</td>\n      <td>[chinese, french, english]</td>\n      <td>34</td>\n      <td>phd</td>\n      <td>Travel agency manager</td>\n      <td>[food, archeology, art]</td>\n      <td>{'lat': 40.362447049660204, 'lon': 18.14225129...</td>\n      <td>5</td>\n    </tr>\n    <tr>\n      <th>3</th>\n      <td>3</td>\n      <td>male</td>\n      <td>Jesse Schaefer</td>\n      <td>1990-11-12</td>\n      <td>True</td>\n      <td>[bulgarian]</td>\n      <td>46</td>\n      <td>bachelor</td>\n      <td>Financial planner</td>\n      <td>[countryside, rafting, art]</td>\n      <td>{'lat': 40.36584086550253, 'lon': 18.183002910...</td>\n      <td>1</td>\n    </tr>\n    <tr>\n      <th>4</th>\n      <td>4</td>\n      <td>male</td>\n      <td>David Davis</td>\n      <td>1998-03-06</td>\n      <td>True</td>\n      <td>[deutsche, french]</td>\n      <td>30</td>\n      <td>master</td>\n      <td>Pilot, airline</td>\n      <td>[countryside, tracking, beer]</td>\n      <td>{'lat': 40.354724889812935, 'lon': 18.20308322...</td>\n      <td>6</td>\n    </tr>\n    <tr>\n      <th>5</th>\n      <td>5</td>\n      <td>male</td>\n      <td>Joseph James</td>\n      <td>1974-05-30</td>\n      <td>True</td>\n      <td>[deutsche, dutch, bulgarian]</td>\n      <td>27</td>\n      <td>middle-school</td>\n      <td>Designer, exhibition/display</td>\n      <td>[]</td>\n      <td>{'lat': 40.35854623058413, 'lon': 18.183459879...</td>\n      <td>8</td>\n    </tr>\n    <tr>\n      <th>6</th>\n      <td>6</td>\n      <td>male</td>\n      <td>Steven Schneider</td>\n      <td>1980-08-19</td>\n      <td>True</td>\n      <td>[english, chinese, french]</td>\n      <td>34</td>\n      <td>middle-school</td>\n      <td>Engineer, land</td>\n      <td>[rafting, art, sport]</td>\n      <td>{'lat': 40.35774331848761, 'lon': 18.163273185...</td>\n      <td>2</td>\n    </tr>\n    <tr>\n      <th>7</th>\n      <td>7</td>\n      <td>male</td>\n      <td>Reginald Berg</td>\n      <td>1971-01-06</td>\n      <td>True</td>\n      <td>[spanish, dutch, french, italian]</td>\n      <td>33</td>\n      <td>bachelor</td>\n      <td>Financial risk analyst</td>\n      <td>[museums, art, countryside, wine]</td>\n      <td>{'lat': 40.365193043282794, 'lon': 18.18548169...</td>\n      <td>10</td>\n    </tr>\n    <tr>\n      <th>8</th>\n      <td>8</td>\n      <td>male</td>\n      <td>Gregory Lee</td>\n      <td>1973-12-11</td>\n      <td>True</td>\n      <td>[bulgarian, english, chinese]</td>\n      <td>31</td>\n      <td>middle-school</td>\n      <td>Audiological scientist</td>\n      <td>[literature, cinema, music]</td>\n      <td>{'lat': 40.35265552781134, 'lon': 18.151723396...</td>\n      <td>25</td>\n    </tr>\n    <tr>\n      <th>9</th>\n      <td>9</td>\n      <td>male</td>\n      <td>Alex Perkins</td>\n      <td>1963-07-30</td>\n      <td>True</td>\n      <td>[chinese, bulgarian, dutch, english]</td>\n      <td>37</td>\n      <td>phd</td>\n      <td>Engineer, materials</td>\n      <td>[museums]</td>\n      <td>{'lat': 40.33774657696426, 'lon': 18.182064664...</td>\n      <td>41</td>\n    </tr>\n    <tr>\n      <th>10</th>\n      <td>10</td>\n      <td>female</td>\n      <td>Barbara Martinez</td>\n      <td>1969-09-30</td>\n      <td>True</td>\n      <td>[bulgarian, deutsche]</td>\n      <td>23</td>\n      <td>high-school</td>\n      <td>Newspaper journalist</td>\n      <td>[cinema, rafting, sport, museums, countryside]</td>\n      <td>{'lat': 40.36612881009787, 'lon': 18.182042843...</td>\n      <td>30</td>\n    </tr>\n    <tr>\n      <th>11</th>\n      <td>11</td>\n      <td>female</td>\n      <td>Misty Thompson</td>\n      <td>1973-02-04</td>\n      <td>True</td>\n      <td>[bulgarian]</td>\n      <td>23</td>\n      <td>phd</td>\n      <td>Emergency planning/management officer</td>\n      <td>[cinema, beer, rafting]</td>\n      <td>{'lat': 40.367394960036485, 'lon': 18.17553586...</td>\n      <td>16</td>\n    </tr>\n    <tr>\n      <th>12</th>\n      <td>12</td>\n      <td>female</td>\n      <td>Ashley Garner</td>\n      <td>1996-02-27</td>\n      <td>True</td>\n      <td>[dutch, french, italian]</td>\n      <td>19</td>\n      <td>bachelor</td>\n      <td>Therapist, drama</td>\n      <td>[sport, music, beer]</td>\n      <td>{'lat': 40.34268462008425, 'lon': 18.187542175...</td>\n      <td>1</td>\n    </tr>\n    <tr>\n      <th>13</th>\n      <td>13</td>\n      <td>female</td>\n      <td>Virginia Reese</td>\n      <td>1998-02-14</td>\n      <td>True</td>\n      <td>[chinese, english]</td>\n      <td>27</td>\n      <td>master</td>\n      <td>Best boy</td>\n      <td>[sport, archeology, beer]</td>\n      <td>{'lat': 40.35377358678542, 'lon': 18.174728239...</td>\n      <td>2</td>\n    </tr>\n    <tr>\n      <th>14</th>\n      <td>14</td>\n      <td>male</td>\n      <td>Cody Carter</td>\n      <td>1994-11-19</td>\n      <td>True</td>\n      <td>[chinese, french]</td>\n      <td>40</td>\n      <td>middle-school</td>\n      <td>Tree surgeon</td>\n      <td>[museums]</td>\n      <td>{'lat': 40.353069674191346, 'lon': 18.17755576...</td>\n      <td>5</td>\n    </tr>\n    <tr>\n      <th>15</th>\n      <td>15</td>\n      <td>male</td>\n      <td>Benjamin Ramirez</td>\n      <td>1959-02-07</td>\n      <td>True</td>\n      <td>[deutsche, chinese]</td>\n      <td>31</td>\n      <td>middle-school</td>\n      <td>Engineer, aeronautical</td>\n      <td>[music, food, tracking, archeology]</td>\n      <td>{'lat': 40.35272705494921, 'lon': 18.165705019...</td>\n      <td>7</td>\n    </tr>\n    <tr>\n      <th>16</th>\n      <td>16</td>\n      <td>male</td>\n      <td>James Delacruz</td>\n      <td>1961-12-10</td>\n      <td>True</td>\n      <td>[spanish, bulgarian, french]</td>\n      <td>32</td>\n      <td>middle-school</td>\n      <td>Multimedia programmer</td>\n      <td>[countryside, music, beer]</td>\n      <td>{'lat': 40.32347428820915, 'lon': 18.164571467...</td>\n      <td>20</td>\n    </tr>\n    <tr>\n      <th>17</th>\n      <td>17</td>\n      <td>male</td>\n      <td>Joseph Sharp</td>\n      <td>2003-06-03</td>\n      <td>True</td>\n      <td>[dutch]</td>\n      <td>26</td>\n      <td>master</td>\n      <td>Legal secretary</td>\n      <td>[wine, sport, art]</td>\n      <td>{'lat': 40.36624424923941, 'lon': 18.174443383...</td>\n      <td>3</td>\n    </tr>\n    <tr>\n      <th>18</th>\n      <td>18</td>\n      <td>male</td>\n      <td>Robert Fields</td>\n      <td>1963-07-03</td>\n      <td>True</td>\n      <td>[italian, dutch]</td>\n      <td>24</td>\n      <td>bachelor</td>\n      <td>Office manager</td>\n      <td>[food]</td>\n      <td>{'lat': 40.362871505646005, 'lon': 18.18292777...</td>\n      <td>10</td>\n    </tr>\n    <tr>\n      <th>19</th>\n      <td>19</td>\n      <td>female</td>\n      <td>Deborah Scott</td>\n      <td>1963-03-02</td>\n      <td>True</td>\n      <td>[bulgarian, deutsche, english]</td>\n      <td>35</td>\n      <td>middle-school</td>\n      <td>Multimedia programmer</td>\n      <td>[]</td>\n      <td>{'lat': 40.339915788807765, 'lon': 18.18379781...</td>\n      <td>11</td>\n    </tr>\n    <tr>\n      <th>20</th>\n      <td>20</td>\n      <td>female</td>\n      <td>Lydia Jordan</td>\n      <td>1962-05-06</td>\n      <td>True</td>\n      <td>[deutsche, french]</td>\n      <td>43</td>\n      <td>master</td>\n      <td>Editor, magazine features</td>\n      <td>[rafting, museums, food]</td>\n      <td>{'lat': 40.357612936236265, 'lon': 18.16907898...</td>\n      <td>18</td>\n    </tr>\n    <tr>\n      <th>21</th>\n      <td>21</td>\n      <td>male</td>\n      <td>Michael Rivera</td>\n      <td>1973-07-30</td>\n      <td>True</td>\n      <td>[chinese]</td>\n      <td>26</td>\n      <td>high-school</td>\n      <td>Warehouse manager</td>\n      <td>[cinema]</td>\n      <td>{'lat': 40.342846292499104, 'lon': 18.16089760...</td>\n      <td>27</td>\n    </tr>\n    <tr>\n      <th>22</th>\n      <td>22</td>\n      <td>female</td>\n      <td>Susan Foster</td>\n      <td>1982-02-10</td>\n      <td>True</td>\n      <td>[chinese, spanish]</td>\n      <td>25</td>\n      <td>high-school</td>\n      <td>Exhibitions officer, museum/gallery</td>\n      <td>[history, countryside, cinema, literature, music]</td>\n      <td>{'lat': 40.36846436096489, 'lon': 18.171263566...</td>\n      <td>12</td>\n    </tr>\n    <tr>\n      <th>23</th>\n      <td>23</td>\n      <td>female</td>\n      <td>Erika Parker</td>\n      <td>1991-12-10</td>\n      <td>True</td>\n      <td>[english, italian, bulgarian]</td>\n      <td>20</td>\n      <td>middle-school</td>\n      <td>Broadcast journalist</td>\n      <td>[tracking]</td>\n      <td>{'lat': 40.364408581391295, 'lon': 18.16428124...</td>\n      <td>12</td>\n    </tr>\n    <tr>\n      <th>24</th>\n      <td>24</td>\n      <td>female</td>\n      <td>Megan Hall</td>\n      <td>1962-09-13</td>\n      <td>True</td>\n      <td>[dutch, italian, bulgarian]</td>\n      <td>28</td>\n      <td>high-school</td>\n      <td>Holiday representative</td>\n      <td>[]</td>\n      <td>{'lat': 40.32998981194129, 'lon': 18.175342312...</td>\n      <td>19</td>\n    </tr>\n    <tr>\n      <th>25</th>\n      <td>25</td>\n      <td>female</td>\n      <td>Evelyn Campbell</td>\n      <td>1990-08-21</td>\n      <td>True</td>\n      <td>[bulgarian]</td>\n      <td>31</td>\n      <td>phd</td>\n      <td>Air broker</td>\n      <td>[literature]</td>\n      <td>{'lat': 40.36710284805045, 'lon': 18.179956956...</td>\n      <td>3</td>\n    </tr>\n    <tr>\n      <th>26</th>\n      <td>26</td>\n      <td>male</td>\n      <td>Billy Mcintyre</td>\n      <td>1992-07-31</td>\n      <td>True</td>\n      <td>[dutch]</td>\n      <td>30</td>\n      <td>phd</td>\n      <td>Administrator, sports</td>\n      <td>[tracking, beer, museums]</td>\n      <td>{'lat': 40.37981446263931, 'lon': 18.178854600...</td>\n      <td>14</td>\n    </tr>\n    <tr>\n      <th>27</th>\n      <td>27</td>\n      <td>female</td>\n      <td>Terri Decker</td>\n      <td>2000-10-25</td>\n      <td>True</td>\n      <td>[italian]</td>\n      <td>30</td>\n      <td>phd</td>\n      <td>Counsellor</td>\n      <td>[countryside, beer]</td>\n      <td>{'lat': 40.3457074414046, 'lon': 18.1747654675...</td>\n      <td>3</td>\n    </tr>\n    <tr>\n      <th>28</th>\n      <td>28</td>\n      <td>female</td>\n      <td>Jennifer West</td>\n      <td>1986-03-01</td>\n      <td>True</td>\n      <td>[spanish]</td>\n      <td>25</td>\n      <td>middle-school</td>\n      <td>Television floor manager</td>\n      <td>[food, rafting, museums, music, art, tracking]</td>\n      <td>{'lat': 40.35079556972286, 'lon': 18.181927024...</td>\n      <td>7</td>\n    </tr>\n    <tr>\n      <th>29</th>\n      <td>29</td>\n      <td>female</td>\n      <td>Courtney Cox</td>\n      <td>1980-10-07</td>\n      <td>True</td>\n      <td>[bulgarian, chinese]</td>\n      <td>28</td>\n      <td>master</td>\n      <td>Designer, industrial/product</td>\n      <td>[archeology, literature, tracking]</td>\n      <td>{'lat': 40.35465462623879, 'lon': 18.172666005...</td>\n      <td>20</td>\n    </tr>\n    <tr>\n      <th>30</th>\n      <td>30</td>\n      <td>female</td>\n      <td>Alyssa Rogers</td>\n      <td>1993-03-23</td>\n      <td>True</td>\n      <td>[french, deutsche, english]</td>\n      <td>27</td>\n      <td>bachelor</td>\n      <td>Broadcast journalist</td>\n      <td>[music]</td>\n      <td>{'lat': 40.361047668976795, 'lon': 18.18633484...</td>\n      <td>1</td>\n    </tr>\n    <tr>\n      <th>31</th>\n      <td>31</td>\n      <td>male</td>\n      <td>Douglas Baker</td>\n      <td>1975-02-17</td>\n      <td>True</td>\n      <td>[deutsche, french, english]</td>\n      <td>23</td>\n      <td>master</td>\n      <td>Building services engineer</td>\n      <td>[music, countryside, food]</td>\n      <td>{'lat': 40.339171732936364, 'lon': 18.16792590...</td>\n      <td>5</td>\n    </tr>\n    <tr>\n      <th>32</th>\n      <td>32</td>\n      <td>female</td>\n      <td>Alison Mccarthy</td>\n      <td>1994-11-12</td>\n      <td>True</td>\n      <td>[french, bulgarian]</td>\n      <td>28</td>\n      <td>phd</td>\n      <td>Geochemist</td>\n      <td>[archeology, music]</td>\n      <td>{'lat': 40.343414579847, 'lon': 18.18565562805...</td>\n      <td>11</td>\n    </tr>\n    <tr>\n      <th>33</th>\n      <td>33</td>\n      <td>male</td>\n      <td>Patrick Holmes</td>\n      <td>1963-07-28</td>\n      <td>True</td>\n      <td>[french]</td>\n      <td>26</td>\n      <td>middle-school</td>\n      <td>Designer, graphic</td>\n      <td>[beer, music, countryside, archeology]</td>\n      <td>{'lat': 40.34424559835338, 'lon': 18.174907197...</td>\n      <td>2</td>\n    </tr>\n    <tr>\n      <th>34</th>\n      <td>34</td>\n      <td>female</td>\n      <td>Christine Nichols</td>\n      <td>2003-12-15</td>\n      <td>True</td>\n      <td>[chinese, spanish, bulgarian, italian]</td>\n      <td>28</td>\n      <td>middle-school</td>\n      <td>Environmental consultant</td>\n      <td>[]</td>\n      <td>{'lat': 40.38198340911851, 'lon': 18.173378831...</td>\n      <td>3</td>\n    </tr>\n    <tr>\n      <th>35</th>\n      <td>35</td>\n      <td>male</td>\n      <td>Daniel Perez</td>\n      <td>1980-10-13</td>\n      <td>True</td>\n      <td>[italian, french]</td>\n      <td>30</td>\n      <td>master</td>\n      <td>Animal technologist</td>\n      <td>[music]</td>\n      <td>{'lat': 40.36699713437984, 'lon': 18.165786470...</td>\n      <td>1</td>\n    </tr>\n    <tr>\n      <th>36</th>\n      <td>36</td>\n      <td>male</td>\n      <td>Willie Rogers</td>\n      <td>1982-04-24</td>\n      <td>True</td>\n      <td>[spanish]</td>\n      <td>26</td>\n      <td>phd</td>\n      <td>Systems developer</td>\n      <td>[]</td>\n      <td>{'lat': 40.358649720289904, 'lon': 18.16378056...</td>\n      <td>2</td>\n    </tr>\n    <tr>\n      <th>37</th>\n      <td>37</td>\n      <td>male</td>\n      <td>Oscar Payne</td>\n      <td>1969-11-27</td>\n      <td>True</td>\n      <td>[dutch]</td>\n      <td>26</td>\n      <td>master</td>\n      <td>Television floor manager</td>\n      <td>[]</td>\n      <td>{'lat': 40.3604075695112, 'lon': 18.1615738690...</td>\n      <td>1</td>\n    </tr>\n    <tr>\n      <th>38</th>\n      <td>38</td>\n      <td>female</td>\n      <td>Hannah Rivera</td>\n      <td>2003-09-02</td>\n      <td>True</td>\n      <td>[italian]</td>\n      <td>28</td>\n      <td>master</td>\n      <td>Local government officer</td>\n      <td>[]</td>\n      <td>{'lat': 40.36497247240833, 'lon': 18.173581152...</td>\n      <td>1</td>\n    </tr>\n    <tr>\n      <th>39</th>\n      <td>39</td>\n      <td>female</td>\n      <td>Stephanie Erickson</td>\n      <td>2004-02-12</td>\n      <td>True</td>\n      <td>[spanish, dutch]</td>\n      <td>26</td>\n      <td>middle-school</td>\n      <td>Secretary/administrator</td>\n      <td>[history]</td>\n      <td>{'lat': 40.35901486939172, 'lon': 18.166553513...</td>\n      <td>1</td>\n    </tr>\n  </tbody>\n</table>\n</div>"
     },
     "execution_count": 32,
     "metadata": {},
     "output_type": "execute_result"
    }
   ],
   "source": [
    "# Load dataframe for guide attributes\n",
    "\n",
    "guide_file = open('Data/guides_40.csv')\n",
    "\n",
    "guide_df = pd.read_csv(\n",
    "    filepath_or_buffer = guide_file,\n",
    "    sep = ';',\n",
    "    header = 0,\n",
    "\n",
    "    # Process the columns containing lists: load the content of those columns as list\n",
    "    converters = {'languages_spoken':ast.literal_eval, 'keywords':ast.literal_eval}\n",
    ")\n",
    "\n",
    "guide_df.rename(columns={guide_df.columns[0]: 'id'}, inplace=True)\n",
    "\n",
    "guide_df"
   ]
  },
  {
   "cell_type": "code",
   "execution_count": 33,
   "id": "eb93bf83",
   "metadata": {
    "pycharm": {
     "name": "#%%\n"
    }
   },
   "outputs": [
    {
     "data": {
      "text/plain": "       0   1    2\n0      0  10  4.0\n1      0   5  4.0\n2      1   9  3.0\n3      1   5  4.0\n4      2  28  4.0\n..   ...  ..  ...\n293  197  27  5.0\n294  198  34  5.0\n295  198  27  3.0\n296  199   7  5.0\n297  199  39  4.0\n\n[298 rows x 3 columns]",
      "text/html": "<div>\n<style scoped>\n    .dataframe tbody tr th:only-of-type {\n        vertical-align: middle;\n    }\n\n    .dataframe tbody tr th {\n        vertical-align: top;\n    }\n\n    .dataframe thead th {\n        text-align: right;\n    }\n</style>\n<table border=\"1\" class=\"dataframe\">\n  <thead>\n    <tr style=\"text-align: right;\">\n      <th></th>\n      <th>0</th>\n      <th>1</th>\n      <th>2</th>\n    </tr>\n  </thead>\n  <tbody>\n    <tr>\n      <th>0</th>\n      <td>0</td>\n      <td>10</td>\n      <td>4.0</td>\n    </tr>\n    <tr>\n      <th>1</th>\n      <td>0</td>\n      <td>5</td>\n      <td>4.0</td>\n    </tr>\n    <tr>\n      <th>2</th>\n      <td>1</td>\n      <td>9</td>\n      <td>3.0</td>\n    </tr>\n    <tr>\n      <th>3</th>\n      <td>1</td>\n      <td>5</td>\n      <td>4.0</td>\n    </tr>\n    <tr>\n      <th>4</th>\n      <td>2</td>\n      <td>28</td>\n      <td>4.0</td>\n    </tr>\n    <tr>\n      <th>...</th>\n      <td>...</td>\n      <td>...</td>\n      <td>...</td>\n    </tr>\n    <tr>\n      <th>293</th>\n      <td>197</td>\n      <td>27</td>\n      <td>5.0</td>\n    </tr>\n    <tr>\n      <th>294</th>\n      <td>198</td>\n      <td>34</td>\n      <td>5.0</td>\n    </tr>\n    <tr>\n      <th>295</th>\n      <td>198</td>\n      <td>27</td>\n      <td>3.0</td>\n    </tr>\n    <tr>\n      <th>296</th>\n      <td>199</td>\n      <td>7</td>\n      <td>5.0</td>\n    </tr>\n    <tr>\n      <th>297</th>\n      <td>199</td>\n      <td>39</td>\n      <td>4.0</td>\n    </tr>\n  </tbody>\n</table>\n<p>298 rows × 3 columns</p>\n</div>"
     },
     "execution_count": 33,
     "metadata": {},
     "output_type": "execute_result"
    }
   ],
   "source": [
    "# Load dataframe for ratings\n",
    "\n",
    "rating_file = open('Data/guides_ratings_200_40.csv')\n",
    "\n",
    "rating_df = pd.read_csv(\n",
    "    filepath_or_buffer = rating_file,\n",
    "    sep = ';',\n",
    "    header = 0\n",
    ")\n",
    "\n",
    "rating_df"
   ]
  },
  {
   "cell_type": "code",
   "execution_count": 34,
   "id": "1570a729",
   "metadata": {
    "pycharm": {
     "name": "#%%\n"
    }
   },
   "outputs": [
    {
     "data": {
      "text/plain": "     tourist_id  guide_id  rating\n0             0        10     4.0\n1             0         5     4.0\n2             1         9     3.0\n3             1         5     4.0\n4             2        28     4.0\n..          ...       ...     ...\n293         197        27     5.0\n294         198        34     5.0\n295         198        27     3.0\n296         199         7     5.0\n297         199        39     4.0\n\n[298 rows x 3 columns]",
      "text/html": "<div>\n<style scoped>\n    .dataframe tbody tr th:only-of-type {\n        vertical-align: middle;\n    }\n\n    .dataframe tbody tr th {\n        vertical-align: top;\n    }\n\n    .dataframe thead th {\n        text-align: right;\n    }\n</style>\n<table border=\"1\" class=\"dataframe\">\n  <thead>\n    <tr style=\"text-align: right;\">\n      <th></th>\n      <th>tourist_id</th>\n      <th>guide_id</th>\n      <th>rating</th>\n    </tr>\n  </thead>\n  <tbody>\n    <tr>\n      <th>0</th>\n      <td>0</td>\n      <td>10</td>\n      <td>4.0</td>\n    </tr>\n    <tr>\n      <th>1</th>\n      <td>0</td>\n      <td>5</td>\n      <td>4.0</td>\n    </tr>\n    <tr>\n      <th>2</th>\n      <td>1</td>\n      <td>9</td>\n      <td>3.0</td>\n    </tr>\n    <tr>\n      <th>3</th>\n      <td>1</td>\n      <td>5</td>\n      <td>4.0</td>\n    </tr>\n    <tr>\n      <th>4</th>\n      <td>2</td>\n      <td>28</td>\n      <td>4.0</td>\n    </tr>\n    <tr>\n      <th>...</th>\n      <td>...</td>\n      <td>...</td>\n      <td>...</td>\n    </tr>\n    <tr>\n      <th>293</th>\n      <td>197</td>\n      <td>27</td>\n      <td>5.0</td>\n    </tr>\n    <tr>\n      <th>294</th>\n      <td>198</td>\n      <td>34</td>\n      <td>5.0</td>\n    </tr>\n    <tr>\n      <th>295</th>\n      <td>198</td>\n      <td>27</td>\n      <td>3.0</td>\n    </tr>\n    <tr>\n      <th>296</th>\n      <td>199</td>\n      <td>7</td>\n      <td>5.0</td>\n    </tr>\n    <tr>\n      <th>297</th>\n      <td>199</td>\n      <td>39</td>\n      <td>4.0</td>\n    </tr>\n  </tbody>\n</table>\n<p>298 rows × 3 columns</p>\n</div>"
     },
     "execution_count": 34,
     "metadata": {},
     "output_type": "execute_result"
    }
   ],
   "source": [
    "# Rename the columns of the rating dataframe\n",
    "rating_df.rename(columns={rating_df.columns[0]: 'tourist_id',\n",
    "                          rating_df.columns[1]: 'guide_id',\n",
    "                          rating_df.columns[2]: 'rating',\n",
    "                         }, inplace=True)\n",
    "\n",
    "# Remove the duplicated interactions, if any\n",
    "rating_df.drop_duplicates(subset=['tourist_id','guide_id'],inplace=True)\n",
    "\n",
    "rating_df"
   ]
  },
  {
   "cell_type": "markdown",
   "id": "7e222fd7",
   "metadata": {
    "pycharm": {
     "name": "#%% md\n"
    }
   },
   "source": [
    "## Print statistics\n",
    "\n",
    "Some statistics about the acquired data are shown."
   ]
  },
  {
   "cell_type": "code",
   "execution_count": 35,
   "id": "765f5477",
   "metadata": {
    "pycharm": {
     "name": "#%%\n"
    }
   },
   "outputs": [
    {
     "name": "stdout",
     "output_type": "stream",
     "text": [
      "Number of tourists: 200\n",
      "Number of guides: 40\n",
      "Number of interactions: 298\n",
      "Average interaction per tourist: 1.49\n",
      "Average interaction per guide: 7.45\n",
      "Sparsity: 96.28 %\n"
     ]
    }
   ],
   "source": [
    "# Statistics about data\n",
    "arr_tourists = tourist_df[\"id\"].unique()\n",
    "arr_guides = guide_df[\"id\"].unique()\n",
    "\n",
    "n_tourists = len(arr_tourists)\n",
    "n_guides = len(arr_guides)\n",
    "n_interactions = len(rating_df)\n",
    "\n",
    "print(\"Number of tourists: {:d}\".format(n_tourists))\n",
    "print(\"Number of guides: {:d}\".format(n_guides))\n",
    "print(\"Number of interactions: {:d}\".format(n_interactions))\n",
    "\n",
    "print(\"Average interaction per tourist: {:.2f}\".format(n_interactions/n_tourists))\n",
    "print(\"Average interaction per guide: {:.2f}\".format(n_interactions/n_guides))\n",
    "print(\"Sparsity: {:.2f} %\".format((1-float(n_interactions)/(n_guides*n_tourists))*100))"
   ]
  },
  {
   "cell_type": "code",
   "execution_count": 36,
   "id": "6d4af3c8",
   "metadata": {
    "pycharm": {
     "name": "#%%\n"
    }
   },
   "outputs": [
    {
     "name": "stdout",
     "output_type": "stream",
     "text": [
      "Average rating: 3.929530\n",
      "Maximum rating: 5.000000\n",
      "Minimum rating: 2.000000\n"
     ]
    }
   ],
   "source": [
    "# Statistics about the distribution of ratings\n",
    "print(\"Average rating: {:.6f}\".format(rating_df.loc[:, 'rating'].mean()))\n",
    "print(\"Maximum rating: {:.6f}\".format(rating_df.loc[:, 'rating'].max()))\n",
    "print(\"Minimum rating: {:.6f}\".format(rating_df.loc[:, 'rating'].min()))"
   ]
  },
  {
   "cell_type": "markdown",
   "id": "e270df0f",
   "metadata": {
    "pycharm": {
     "name": "#%% md\n"
    }
   },
   "source": [
    "## Create the URM\n",
    "\n",
    "The **User Rating Matrix** describes the past interactions between tourists and guides, where rows represent tourists and columns represent guides. The values in the cells can be defined by an implicit or explicit approach:\n",
    "- Explicit ratings are given directly by the tourists to the guides, according to a rating scale.\n",
    "- Implicit ratings are obtained according to specific criteria based on tourists' behaviour, without asking for an opinion explicitly. The corresponding value of the interaction is set to 1 if we think that the guide could be interested in the guide, otherwise 0.\n",
    "\n",
    "In our problem, we decide to use **explicit ratings** with a rating scale from 1 to 5."
   ]
  },
  {
   "cell_type": "code",
   "execution_count": 37,
   "id": "4e990e1d",
   "metadata": {
    "pycharm": {
     "name": "#%%\n"
    }
   },
   "outputs": [
    {
     "data": {
      "text/plain": "<200x40 sparse matrix of type '<class 'numpy.float64'>'\n\twith 298 stored elements in Compressed Sparse Row format>"
     },
     "execution_count": 37,
     "metadata": {},
     "output_type": "execute_result"
    }
   ],
   "source": [
    "# Create the User Rating Matrix in CSR format to facilitate the computation\n",
    "# Row: tourist_id, Column: guide_id, Value: rating\n",
    "URM_all = sps.csr_matrix(\n",
    "    (rating_df[\"rating\"].values,\n",
    "    (rating_df[\"tourist_id\"].values, rating_df[\"guide_id\"].values))\n",
    ")\n",
    "\n",
    "URM_all"
   ]
  },
  {
   "cell_type": "code",
   "execution_count": 38,
   "id": "3c70ebfd",
   "metadata": {
    "pycharm": {
     "name": "#%%\n"
    }
   },
   "outputs": [],
   "source": [
    "# Define the portion of data used for training the model\n",
    "# Since we are using fake data, we train the model on all the available data\n",
    "URM_train = URM_all"
   ]
  },
  {
   "cell_type": "markdown",
   "id": "8eda1767",
   "metadata": {
    "pycharm": {
     "name": "#%% md\n"
    }
   },
   "source": [
    "## Create the ICM\n",
    "\n",
    "The **Item Content Matrix** describes the guides with their own attributes. The rows indicates the guides, and the columns represent attributes. Each number in the ICM indicates how much important an attribute is in characterizing a guide.\n",
    "\n",
    "In this case we started from the simplest form: the cell value is equal to 1 if the guide has that specific attribute, and 0 otherwise."
   ]
  },
  {
   "cell_type": "code",
   "execution_count": 39,
   "id": "b4fa6ac5",
   "metadata": {
    "pycharm": {
     "name": "#%%\n"
    }
   },
   "outputs": [],
   "source": [
    "# Make a copy of the guide dataframe to build the ICM\n",
    "icm_df = guide_df.copy(deep=True)"
   ]
  },
  {
   "cell_type": "code",
   "execution_count": 40,
   "id": "f2fa3c9a",
   "metadata": {
    "pycharm": {
     "name": "#%%\n"
    }
   },
   "outputs": [],
   "source": [
    "# Convert birthday information into categorical labels\n",
    "# Classification criterion: if the guide is more than 40 years old or not.\n",
    "def replace_birth_year(x):\n",
    "    if x > 1984:\n",
    "        return '20-40'\n",
    "    else:\n",
    "        return '40+'\n",
    "\n",
    "# Apply the conversion to the dataframe\n",
    "icm_df['birth_date'] = icm_df['birth_date'].apply(\n",
    "    lambda x: replace_birth_year(pd.to_datetime(x, format=\"%Y-%m-%d\").year)\n",
    ")"
   ]
  },
  {
   "cell_type": "code",
   "execution_count": 41,
   "id": "d6e9b479",
   "metadata": {
    "pycharm": {
     "name": "#%%\n"
    }
   },
   "outputs": [],
   "source": [
    "# Convert number of years of experience into categorical labels\n",
    "# Classification criteria:\n",
    "# - a junior guide has less than 5 years of experience;\n",
    "# - an experience guide has between 5 and 10 years of experience;\n",
    "# - a senior guide has at least 10 years of experience.\n",
    "def replace_experience(x):\n",
    "    if x < 5:\n",
    "        return 'junior'\n",
    "    elif x < 10:\n",
    "        return 'experienced'\n",
    "    else:\n",
    "        return 'senior'\n",
    "\n",
    "# Apply conversion to the dataframe\n",
    "icm_df['experience'] = icm_df['experience'].apply(replace_experience)"
   ]
  },
  {
   "cell_type": "code",
   "execution_count": 42,
   "id": "40813887",
   "metadata": {
    "pycharm": {
     "name": "#%%\n"
    }
   },
   "outputs": [
    {
     "data": {
      "text/plain": "price    29.175\ndtype: float64"
     },
     "execution_count": 42,
     "metadata": {},
     "output_type": "execute_result"
    }
   ],
   "source": [
    "# Compute the mean value of prices as a reference for proper ranges\n",
    "icm_df[['price']].mean(axis=0)"
   ]
  },
  {
   "cell_type": "code",
   "execution_count": 43,
   "id": "4fe86e06",
   "metadata": {
    "pycharm": {
     "name": "#%%\n"
    }
   },
   "outputs": [],
   "source": [
    "# Split the price information into three ranges\n",
    "# - cost < 25: low cost\n",
    "# - 25 <= cost < 35: medium\n",
    "# - cost >= 35: high\n",
    "\n",
    "def replace_price(x):\n",
    "    if x < 25:\n",
    "        return 'low_cost'\n",
    "    elif x < 35:\n",
    "        return 'medium_cost'\n",
    "    else:\n",
    "        return 'high_cost'\n",
    "\n",
    "# Apply conversion to the dataframe\n",
    "icm_df['price'] = icm_df['price'].apply(replace_price)"
   ]
  },
  {
   "cell_type": "code",
   "execution_count": 44,
   "id": "5ee85f65",
   "metadata": {
    "pycharm": {
     "name": "#%%\n"
    }
   },
   "outputs": [
    {
     "data": {
      "text/plain": "    id  gender                name birth_date  now_available  \\\n0    0    male          Gary Baker        40+           True   \n1    1  female        Lisa Swanson        40+           True   \n2    2  female        Carla Dillon      20-40           True   \n3    3    male      Jesse Schaefer      20-40           True   \n4    4    male         David Davis      20-40           True   \n5    5    male        Joseph James        40+           True   \n6    6    male    Steven Schneider        40+           True   \n7    7    male       Reginald Berg        40+           True   \n8    8    male         Gregory Lee        40+           True   \n9    9    male        Alex Perkins        40+           True   \n10  10  female    Barbara Martinez        40+           True   \n11  11  female      Misty Thompson        40+           True   \n12  12  female       Ashley Garner      20-40           True   \n13  13  female      Virginia Reese      20-40           True   \n14  14    male         Cody Carter      20-40           True   \n15  15    male    Benjamin Ramirez        40+           True   \n16  16    male      James Delacruz        40+           True   \n17  17    male        Joseph Sharp      20-40           True   \n18  18    male       Robert Fields        40+           True   \n19  19  female       Deborah Scott        40+           True   \n20  20  female        Lydia Jordan        40+           True   \n21  21    male      Michael Rivera        40+           True   \n22  22  female        Susan Foster        40+           True   \n23  23  female        Erika Parker      20-40           True   \n24  24  female          Megan Hall        40+           True   \n25  25  female     Evelyn Campbell      20-40           True   \n26  26    male      Billy Mcintyre      20-40           True   \n27  27  female        Terri Decker      20-40           True   \n28  28  female       Jennifer West      20-40           True   \n29  29  female        Courtney Cox        40+           True   \n30  30  female       Alyssa Rogers      20-40           True   \n31  31    male       Douglas Baker        40+           True   \n32  32  female     Alison Mccarthy      20-40           True   \n33  33    male      Patrick Holmes        40+           True   \n34  34  female   Christine Nichols      20-40           True   \n35  35    male        Daniel Perez        40+           True   \n36  36    male       Willie Rogers        40+           True   \n37  37    male         Oscar Payne        40+           True   \n38  38  female       Hannah Rivera      20-40           True   \n39  39  female  Stephanie Erickson      20-40           True   \n\n                          languages_spoken        price      education  \\\n0                                [english]  medium_cost    high-school   \n1                         [italian, dutch]    high_cost  middle-school   \n2               [chinese, french, english]  medium_cost            phd   \n3                              [bulgarian]    high_cost       bachelor   \n4                       [deutsche, french]  medium_cost         master   \n5             [deutsche, dutch, bulgarian]  medium_cost  middle-school   \n6               [english, chinese, french]  medium_cost  middle-school   \n7        [spanish, dutch, french, italian]  medium_cost       bachelor   \n8            [bulgarian, english, chinese]  medium_cost  middle-school   \n9     [chinese, bulgarian, dutch, english]    high_cost            phd   \n10                   [bulgarian, deutsche]     low_cost    high-school   \n11                             [bulgarian]     low_cost            phd   \n12                [dutch, french, italian]     low_cost       bachelor   \n13                      [chinese, english]  medium_cost         master   \n14                       [chinese, french]    high_cost  middle-school   \n15                     [deutsche, chinese]  medium_cost  middle-school   \n16            [spanish, bulgarian, french]  medium_cost  middle-school   \n17                                 [dutch]  medium_cost         master   \n18                        [italian, dutch]     low_cost       bachelor   \n19          [bulgarian, deutsche, english]    high_cost  middle-school   \n20                      [deutsche, french]    high_cost         master   \n21                               [chinese]  medium_cost    high-school   \n22                      [chinese, spanish]  medium_cost    high-school   \n23           [english, italian, bulgarian]     low_cost  middle-school   \n24             [dutch, italian, bulgarian]  medium_cost    high-school   \n25                             [bulgarian]  medium_cost            phd   \n26                                 [dutch]  medium_cost            phd   \n27                               [italian]  medium_cost            phd   \n28                               [spanish]  medium_cost  middle-school   \n29                    [bulgarian, chinese]  medium_cost         master   \n30             [french, deutsche, english]  medium_cost       bachelor   \n31             [deutsche, french, english]     low_cost         master   \n32                     [french, bulgarian]  medium_cost            phd   \n33                                [french]  medium_cost  middle-school   \n34  [chinese, spanish, bulgarian, italian]  medium_cost  middle-school   \n35                       [italian, french]  medium_cost         master   \n36                               [spanish]  medium_cost            phd   \n37                                 [dutch]  medium_cost         master   \n38                               [italian]  medium_cost         master   \n39                        [spanish, dutch]  medium_cost  middle-school   \n\n                                biography  \\\n0                              Astronomer   \n1                     Designer, jewellery   \n2                   Travel agency manager   \n3                       Financial planner   \n4                          Pilot, airline   \n5            Designer, exhibition/display   \n6                          Engineer, land   \n7                  Financial risk analyst   \n8                  Audiological scientist   \n9                     Engineer, materials   \n10                   Newspaper journalist   \n11  Emergency planning/management officer   \n12                       Therapist, drama   \n13                               Best boy   \n14                           Tree surgeon   \n15                 Engineer, aeronautical   \n16                  Multimedia programmer   \n17                        Legal secretary   \n18                         Office manager   \n19                  Multimedia programmer   \n20              Editor, magazine features   \n21                      Warehouse manager   \n22    Exhibitions officer, museum/gallery   \n23                   Broadcast journalist   \n24                 Holiday representative   \n25                             Air broker   \n26                  Administrator, sports   \n27                             Counsellor   \n28               Television floor manager   \n29           Designer, industrial/product   \n30                   Broadcast journalist   \n31             Building services engineer   \n32                             Geochemist   \n33                      Designer, graphic   \n34               Environmental consultant   \n35                    Animal technologist   \n36                      Systems developer   \n37               Television floor manager   \n38               Local government officer   \n39                Secretary/administrator   \n\n                                             keywords  \\\n0                                           [museums]   \n1                    [cinema, rafting, history, wine]   \n2                             [food, archeology, art]   \n3                         [countryside, rafting, art]   \n4                       [countryside, tracking, beer]   \n5                                                  []   \n6                               [rafting, art, sport]   \n7                   [museums, art, countryside, wine]   \n8                         [literature, cinema, music]   \n9                                           [museums]   \n10     [cinema, rafting, sport, museums, countryside]   \n11                            [cinema, beer, rafting]   \n12                               [sport, music, beer]   \n13                          [sport, archeology, beer]   \n14                                          [museums]   \n15                [music, food, tracking, archeology]   \n16                         [countryside, music, beer]   \n17                                 [wine, sport, art]   \n18                                             [food]   \n19                                                 []   \n20                           [rafting, museums, food]   \n21                                           [cinema]   \n22  [history, countryside, cinema, literature, music]   \n23                                         [tracking]   \n24                                                 []   \n25                                       [literature]   \n26                          [tracking, beer, museums]   \n27                                [countryside, beer]   \n28     [food, rafting, museums, music, art, tracking]   \n29                 [archeology, literature, tracking]   \n30                                            [music]   \n31                         [music, countryside, food]   \n32                                [archeology, music]   \n33             [beer, music, countryside, archeology]   \n34                                                 []   \n35                                            [music]   \n36                                                 []   \n37                                                 []   \n38                                                 []   \n39                                          [history]   \n\n                                     current_location   experience  \n0   {'lat': 40.342693584880706, 'lon': 18.16438078...       senior  \n1   {'lat': 40.3367551413547, 'lon': 18.1569120995...       senior  \n2   {'lat': 40.362447049660204, 'lon': 18.14225129...  experienced  \n3   {'lat': 40.36584086550253, 'lon': 18.183002910...       junior  \n4   {'lat': 40.354724889812935, 'lon': 18.20308322...  experienced  \n5   {'lat': 40.35854623058413, 'lon': 18.183459879...  experienced  \n6   {'lat': 40.35774331848761, 'lon': 18.163273185...       junior  \n7   {'lat': 40.365193043282794, 'lon': 18.18548169...       senior  \n8   {'lat': 40.35265552781134, 'lon': 18.151723396...       senior  \n9   {'lat': 40.33774657696426, 'lon': 18.182064664...       senior  \n10  {'lat': 40.36612881009787, 'lon': 18.182042843...       senior  \n11  {'lat': 40.367394960036485, 'lon': 18.17553586...       senior  \n12  {'lat': 40.34268462008425, 'lon': 18.187542175...       junior  \n13  {'lat': 40.35377358678542, 'lon': 18.174728239...       junior  \n14  {'lat': 40.353069674191346, 'lon': 18.17755576...  experienced  \n15  {'lat': 40.35272705494921, 'lon': 18.165705019...  experienced  \n16  {'lat': 40.32347428820915, 'lon': 18.164571467...       senior  \n17  {'lat': 40.36624424923941, 'lon': 18.174443383...       junior  \n18  {'lat': 40.362871505646005, 'lon': 18.18292777...       senior  \n19  {'lat': 40.339915788807765, 'lon': 18.18379781...       senior  \n20  {'lat': 40.357612936236265, 'lon': 18.16907898...       senior  \n21  {'lat': 40.342846292499104, 'lon': 18.16089760...       senior  \n22  {'lat': 40.36846436096489, 'lon': 18.171263566...       senior  \n23  {'lat': 40.364408581391295, 'lon': 18.16428124...       senior  \n24  {'lat': 40.32998981194129, 'lon': 18.175342312...       senior  \n25  {'lat': 40.36710284805045, 'lon': 18.179956956...       junior  \n26  {'lat': 40.37981446263931, 'lon': 18.178854600...       senior  \n27  {'lat': 40.3457074414046, 'lon': 18.1747654675...       junior  \n28  {'lat': 40.35079556972286, 'lon': 18.181927024...  experienced  \n29  {'lat': 40.35465462623879, 'lon': 18.172666005...       senior  \n30  {'lat': 40.361047668976795, 'lon': 18.18633484...       junior  \n31  {'lat': 40.339171732936364, 'lon': 18.16792590...  experienced  \n32  {'lat': 40.343414579847, 'lon': 18.18565562805...       senior  \n33  {'lat': 40.34424559835338, 'lon': 18.174907197...       junior  \n34  {'lat': 40.38198340911851, 'lon': 18.173378831...       junior  \n35  {'lat': 40.36699713437984, 'lon': 18.165786470...       junior  \n36  {'lat': 40.358649720289904, 'lon': 18.16378056...       junior  \n37  {'lat': 40.3604075695112, 'lon': 18.1615738690...       junior  \n38  {'lat': 40.36497247240833, 'lon': 18.173581152...       junior  \n39  {'lat': 40.35901486939172, 'lon': 18.166553513...       junior  ",
      "text/html": "<div>\n<style scoped>\n    .dataframe tbody tr th:only-of-type {\n        vertical-align: middle;\n    }\n\n    .dataframe tbody tr th {\n        vertical-align: top;\n    }\n\n    .dataframe thead th {\n        text-align: right;\n    }\n</style>\n<table border=\"1\" class=\"dataframe\">\n  <thead>\n    <tr style=\"text-align: right;\">\n      <th></th>\n      <th>id</th>\n      <th>gender</th>\n      <th>name</th>\n      <th>birth_date</th>\n      <th>now_available</th>\n      <th>languages_spoken</th>\n      <th>price</th>\n      <th>education</th>\n      <th>biography</th>\n      <th>keywords</th>\n      <th>current_location</th>\n      <th>experience</th>\n    </tr>\n  </thead>\n  <tbody>\n    <tr>\n      <th>0</th>\n      <td>0</td>\n      <td>male</td>\n      <td>Gary Baker</td>\n      <td>40+</td>\n      <td>True</td>\n      <td>[english]</td>\n      <td>medium_cost</td>\n      <td>high-school</td>\n      <td>Astronomer</td>\n      <td>[museums]</td>\n      <td>{'lat': 40.342693584880706, 'lon': 18.16438078...</td>\n      <td>senior</td>\n    </tr>\n    <tr>\n      <th>1</th>\n      <td>1</td>\n      <td>female</td>\n      <td>Lisa Swanson</td>\n      <td>40+</td>\n      <td>True</td>\n      <td>[italian, dutch]</td>\n      <td>high_cost</td>\n      <td>middle-school</td>\n      <td>Designer, jewellery</td>\n      <td>[cinema, rafting, history, wine]</td>\n      <td>{'lat': 40.3367551413547, 'lon': 18.1569120995...</td>\n      <td>senior</td>\n    </tr>\n    <tr>\n      <th>2</th>\n      <td>2</td>\n      <td>female</td>\n      <td>Carla Dillon</td>\n      <td>20-40</td>\n      <td>True</td>\n      <td>[chinese, french, english]</td>\n      <td>medium_cost</td>\n      <td>phd</td>\n      <td>Travel agency manager</td>\n      <td>[food, archeology, art]</td>\n      <td>{'lat': 40.362447049660204, 'lon': 18.14225129...</td>\n      <td>experienced</td>\n    </tr>\n    <tr>\n      <th>3</th>\n      <td>3</td>\n      <td>male</td>\n      <td>Jesse Schaefer</td>\n      <td>20-40</td>\n      <td>True</td>\n      <td>[bulgarian]</td>\n      <td>high_cost</td>\n      <td>bachelor</td>\n      <td>Financial planner</td>\n      <td>[countryside, rafting, art]</td>\n      <td>{'lat': 40.36584086550253, 'lon': 18.183002910...</td>\n      <td>junior</td>\n    </tr>\n    <tr>\n      <th>4</th>\n      <td>4</td>\n      <td>male</td>\n      <td>David Davis</td>\n      <td>20-40</td>\n      <td>True</td>\n      <td>[deutsche, french]</td>\n      <td>medium_cost</td>\n      <td>master</td>\n      <td>Pilot, airline</td>\n      <td>[countryside, tracking, beer]</td>\n      <td>{'lat': 40.354724889812935, 'lon': 18.20308322...</td>\n      <td>experienced</td>\n    </tr>\n    <tr>\n      <th>5</th>\n      <td>5</td>\n      <td>male</td>\n      <td>Joseph James</td>\n      <td>40+</td>\n      <td>True</td>\n      <td>[deutsche, dutch, bulgarian]</td>\n      <td>medium_cost</td>\n      <td>middle-school</td>\n      <td>Designer, exhibition/display</td>\n      <td>[]</td>\n      <td>{'lat': 40.35854623058413, 'lon': 18.183459879...</td>\n      <td>experienced</td>\n    </tr>\n    <tr>\n      <th>6</th>\n      <td>6</td>\n      <td>male</td>\n      <td>Steven Schneider</td>\n      <td>40+</td>\n      <td>True</td>\n      <td>[english, chinese, french]</td>\n      <td>medium_cost</td>\n      <td>middle-school</td>\n      <td>Engineer, land</td>\n      <td>[rafting, art, sport]</td>\n      <td>{'lat': 40.35774331848761, 'lon': 18.163273185...</td>\n      <td>junior</td>\n    </tr>\n    <tr>\n      <th>7</th>\n      <td>7</td>\n      <td>male</td>\n      <td>Reginald Berg</td>\n      <td>40+</td>\n      <td>True</td>\n      <td>[spanish, dutch, french, italian]</td>\n      <td>medium_cost</td>\n      <td>bachelor</td>\n      <td>Financial risk analyst</td>\n      <td>[museums, art, countryside, wine]</td>\n      <td>{'lat': 40.365193043282794, 'lon': 18.18548169...</td>\n      <td>senior</td>\n    </tr>\n    <tr>\n      <th>8</th>\n      <td>8</td>\n      <td>male</td>\n      <td>Gregory Lee</td>\n      <td>40+</td>\n      <td>True</td>\n      <td>[bulgarian, english, chinese]</td>\n      <td>medium_cost</td>\n      <td>middle-school</td>\n      <td>Audiological scientist</td>\n      <td>[literature, cinema, music]</td>\n      <td>{'lat': 40.35265552781134, 'lon': 18.151723396...</td>\n      <td>senior</td>\n    </tr>\n    <tr>\n      <th>9</th>\n      <td>9</td>\n      <td>male</td>\n      <td>Alex Perkins</td>\n      <td>40+</td>\n      <td>True</td>\n      <td>[chinese, bulgarian, dutch, english]</td>\n      <td>high_cost</td>\n      <td>phd</td>\n      <td>Engineer, materials</td>\n      <td>[museums]</td>\n      <td>{'lat': 40.33774657696426, 'lon': 18.182064664...</td>\n      <td>senior</td>\n    </tr>\n    <tr>\n      <th>10</th>\n      <td>10</td>\n      <td>female</td>\n      <td>Barbara Martinez</td>\n      <td>40+</td>\n      <td>True</td>\n      <td>[bulgarian, deutsche]</td>\n      <td>low_cost</td>\n      <td>high-school</td>\n      <td>Newspaper journalist</td>\n      <td>[cinema, rafting, sport, museums, countryside]</td>\n      <td>{'lat': 40.36612881009787, 'lon': 18.182042843...</td>\n      <td>senior</td>\n    </tr>\n    <tr>\n      <th>11</th>\n      <td>11</td>\n      <td>female</td>\n      <td>Misty Thompson</td>\n      <td>40+</td>\n      <td>True</td>\n      <td>[bulgarian]</td>\n      <td>low_cost</td>\n      <td>phd</td>\n      <td>Emergency planning/management officer</td>\n      <td>[cinema, beer, rafting]</td>\n      <td>{'lat': 40.367394960036485, 'lon': 18.17553586...</td>\n      <td>senior</td>\n    </tr>\n    <tr>\n      <th>12</th>\n      <td>12</td>\n      <td>female</td>\n      <td>Ashley Garner</td>\n      <td>20-40</td>\n      <td>True</td>\n      <td>[dutch, french, italian]</td>\n      <td>low_cost</td>\n      <td>bachelor</td>\n      <td>Therapist, drama</td>\n      <td>[sport, music, beer]</td>\n      <td>{'lat': 40.34268462008425, 'lon': 18.187542175...</td>\n      <td>junior</td>\n    </tr>\n    <tr>\n      <th>13</th>\n      <td>13</td>\n      <td>female</td>\n      <td>Virginia Reese</td>\n      <td>20-40</td>\n      <td>True</td>\n      <td>[chinese, english]</td>\n      <td>medium_cost</td>\n      <td>master</td>\n      <td>Best boy</td>\n      <td>[sport, archeology, beer]</td>\n      <td>{'lat': 40.35377358678542, 'lon': 18.174728239...</td>\n      <td>junior</td>\n    </tr>\n    <tr>\n      <th>14</th>\n      <td>14</td>\n      <td>male</td>\n      <td>Cody Carter</td>\n      <td>20-40</td>\n      <td>True</td>\n      <td>[chinese, french]</td>\n      <td>high_cost</td>\n      <td>middle-school</td>\n      <td>Tree surgeon</td>\n      <td>[museums]</td>\n      <td>{'lat': 40.353069674191346, 'lon': 18.17755576...</td>\n      <td>experienced</td>\n    </tr>\n    <tr>\n      <th>15</th>\n      <td>15</td>\n      <td>male</td>\n      <td>Benjamin Ramirez</td>\n      <td>40+</td>\n      <td>True</td>\n      <td>[deutsche, chinese]</td>\n      <td>medium_cost</td>\n      <td>middle-school</td>\n      <td>Engineer, aeronautical</td>\n      <td>[music, food, tracking, archeology]</td>\n      <td>{'lat': 40.35272705494921, 'lon': 18.165705019...</td>\n      <td>experienced</td>\n    </tr>\n    <tr>\n      <th>16</th>\n      <td>16</td>\n      <td>male</td>\n      <td>James Delacruz</td>\n      <td>40+</td>\n      <td>True</td>\n      <td>[spanish, bulgarian, french]</td>\n      <td>medium_cost</td>\n      <td>middle-school</td>\n      <td>Multimedia programmer</td>\n      <td>[countryside, music, beer]</td>\n      <td>{'lat': 40.32347428820915, 'lon': 18.164571467...</td>\n      <td>senior</td>\n    </tr>\n    <tr>\n      <th>17</th>\n      <td>17</td>\n      <td>male</td>\n      <td>Joseph Sharp</td>\n      <td>20-40</td>\n      <td>True</td>\n      <td>[dutch]</td>\n      <td>medium_cost</td>\n      <td>master</td>\n      <td>Legal secretary</td>\n      <td>[wine, sport, art]</td>\n      <td>{'lat': 40.36624424923941, 'lon': 18.174443383...</td>\n      <td>junior</td>\n    </tr>\n    <tr>\n      <th>18</th>\n      <td>18</td>\n      <td>male</td>\n      <td>Robert Fields</td>\n      <td>40+</td>\n      <td>True</td>\n      <td>[italian, dutch]</td>\n      <td>low_cost</td>\n      <td>bachelor</td>\n      <td>Office manager</td>\n      <td>[food]</td>\n      <td>{'lat': 40.362871505646005, 'lon': 18.18292777...</td>\n      <td>senior</td>\n    </tr>\n    <tr>\n      <th>19</th>\n      <td>19</td>\n      <td>female</td>\n      <td>Deborah Scott</td>\n      <td>40+</td>\n      <td>True</td>\n      <td>[bulgarian, deutsche, english]</td>\n      <td>high_cost</td>\n      <td>middle-school</td>\n      <td>Multimedia programmer</td>\n      <td>[]</td>\n      <td>{'lat': 40.339915788807765, 'lon': 18.18379781...</td>\n      <td>senior</td>\n    </tr>\n    <tr>\n      <th>20</th>\n      <td>20</td>\n      <td>female</td>\n      <td>Lydia Jordan</td>\n      <td>40+</td>\n      <td>True</td>\n      <td>[deutsche, french]</td>\n      <td>high_cost</td>\n      <td>master</td>\n      <td>Editor, magazine features</td>\n      <td>[rafting, museums, food]</td>\n      <td>{'lat': 40.357612936236265, 'lon': 18.16907898...</td>\n      <td>senior</td>\n    </tr>\n    <tr>\n      <th>21</th>\n      <td>21</td>\n      <td>male</td>\n      <td>Michael Rivera</td>\n      <td>40+</td>\n      <td>True</td>\n      <td>[chinese]</td>\n      <td>medium_cost</td>\n      <td>high-school</td>\n      <td>Warehouse manager</td>\n      <td>[cinema]</td>\n      <td>{'lat': 40.342846292499104, 'lon': 18.16089760...</td>\n      <td>senior</td>\n    </tr>\n    <tr>\n      <th>22</th>\n      <td>22</td>\n      <td>female</td>\n      <td>Susan Foster</td>\n      <td>40+</td>\n      <td>True</td>\n      <td>[chinese, spanish]</td>\n      <td>medium_cost</td>\n      <td>high-school</td>\n      <td>Exhibitions officer, museum/gallery</td>\n      <td>[history, countryside, cinema, literature, music]</td>\n      <td>{'lat': 40.36846436096489, 'lon': 18.171263566...</td>\n      <td>senior</td>\n    </tr>\n    <tr>\n      <th>23</th>\n      <td>23</td>\n      <td>female</td>\n      <td>Erika Parker</td>\n      <td>20-40</td>\n      <td>True</td>\n      <td>[english, italian, bulgarian]</td>\n      <td>low_cost</td>\n      <td>middle-school</td>\n      <td>Broadcast journalist</td>\n      <td>[tracking]</td>\n      <td>{'lat': 40.364408581391295, 'lon': 18.16428124...</td>\n      <td>senior</td>\n    </tr>\n    <tr>\n      <th>24</th>\n      <td>24</td>\n      <td>female</td>\n      <td>Megan Hall</td>\n      <td>40+</td>\n      <td>True</td>\n      <td>[dutch, italian, bulgarian]</td>\n      <td>medium_cost</td>\n      <td>high-school</td>\n      <td>Holiday representative</td>\n      <td>[]</td>\n      <td>{'lat': 40.32998981194129, 'lon': 18.175342312...</td>\n      <td>senior</td>\n    </tr>\n    <tr>\n      <th>25</th>\n      <td>25</td>\n      <td>female</td>\n      <td>Evelyn Campbell</td>\n      <td>20-40</td>\n      <td>True</td>\n      <td>[bulgarian]</td>\n      <td>medium_cost</td>\n      <td>phd</td>\n      <td>Air broker</td>\n      <td>[literature]</td>\n      <td>{'lat': 40.36710284805045, 'lon': 18.179956956...</td>\n      <td>junior</td>\n    </tr>\n    <tr>\n      <th>26</th>\n      <td>26</td>\n      <td>male</td>\n      <td>Billy Mcintyre</td>\n      <td>20-40</td>\n      <td>True</td>\n      <td>[dutch]</td>\n      <td>medium_cost</td>\n      <td>phd</td>\n      <td>Administrator, sports</td>\n      <td>[tracking, beer, museums]</td>\n      <td>{'lat': 40.37981446263931, 'lon': 18.178854600...</td>\n      <td>senior</td>\n    </tr>\n    <tr>\n      <th>27</th>\n      <td>27</td>\n      <td>female</td>\n      <td>Terri Decker</td>\n      <td>20-40</td>\n      <td>True</td>\n      <td>[italian]</td>\n      <td>medium_cost</td>\n      <td>phd</td>\n      <td>Counsellor</td>\n      <td>[countryside, beer]</td>\n      <td>{'lat': 40.3457074414046, 'lon': 18.1747654675...</td>\n      <td>junior</td>\n    </tr>\n    <tr>\n      <th>28</th>\n      <td>28</td>\n      <td>female</td>\n      <td>Jennifer West</td>\n      <td>20-40</td>\n      <td>True</td>\n      <td>[spanish]</td>\n      <td>medium_cost</td>\n      <td>middle-school</td>\n      <td>Television floor manager</td>\n      <td>[food, rafting, museums, music, art, tracking]</td>\n      <td>{'lat': 40.35079556972286, 'lon': 18.181927024...</td>\n      <td>experienced</td>\n    </tr>\n    <tr>\n      <th>29</th>\n      <td>29</td>\n      <td>female</td>\n      <td>Courtney Cox</td>\n      <td>40+</td>\n      <td>True</td>\n      <td>[bulgarian, chinese]</td>\n      <td>medium_cost</td>\n      <td>master</td>\n      <td>Designer, industrial/product</td>\n      <td>[archeology, literature, tracking]</td>\n      <td>{'lat': 40.35465462623879, 'lon': 18.172666005...</td>\n      <td>senior</td>\n    </tr>\n    <tr>\n      <th>30</th>\n      <td>30</td>\n      <td>female</td>\n      <td>Alyssa Rogers</td>\n      <td>20-40</td>\n      <td>True</td>\n      <td>[french, deutsche, english]</td>\n      <td>medium_cost</td>\n      <td>bachelor</td>\n      <td>Broadcast journalist</td>\n      <td>[music]</td>\n      <td>{'lat': 40.361047668976795, 'lon': 18.18633484...</td>\n      <td>junior</td>\n    </tr>\n    <tr>\n      <th>31</th>\n      <td>31</td>\n      <td>male</td>\n      <td>Douglas Baker</td>\n      <td>40+</td>\n      <td>True</td>\n      <td>[deutsche, french, english]</td>\n      <td>low_cost</td>\n      <td>master</td>\n      <td>Building services engineer</td>\n      <td>[music, countryside, food]</td>\n      <td>{'lat': 40.339171732936364, 'lon': 18.16792590...</td>\n      <td>experienced</td>\n    </tr>\n    <tr>\n      <th>32</th>\n      <td>32</td>\n      <td>female</td>\n      <td>Alison Mccarthy</td>\n      <td>20-40</td>\n      <td>True</td>\n      <td>[french, bulgarian]</td>\n      <td>medium_cost</td>\n      <td>phd</td>\n      <td>Geochemist</td>\n      <td>[archeology, music]</td>\n      <td>{'lat': 40.343414579847, 'lon': 18.18565562805...</td>\n      <td>senior</td>\n    </tr>\n    <tr>\n      <th>33</th>\n      <td>33</td>\n      <td>male</td>\n      <td>Patrick Holmes</td>\n      <td>40+</td>\n      <td>True</td>\n      <td>[french]</td>\n      <td>medium_cost</td>\n      <td>middle-school</td>\n      <td>Designer, graphic</td>\n      <td>[beer, music, countryside, archeology]</td>\n      <td>{'lat': 40.34424559835338, 'lon': 18.174907197...</td>\n      <td>junior</td>\n    </tr>\n    <tr>\n      <th>34</th>\n      <td>34</td>\n      <td>female</td>\n      <td>Christine Nichols</td>\n      <td>20-40</td>\n      <td>True</td>\n      <td>[chinese, spanish, bulgarian, italian]</td>\n      <td>medium_cost</td>\n      <td>middle-school</td>\n      <td>Environmental consultant</td>\n      <td>[]</td>\n      <td>{'lat': 40.38198340911851, 'lon': 18.173378831...</td>\n      <td>junior</td>\n    </tr>\n    <tr>\n      <th>35</th>\n      <td>35</td>\n      <td>male</td>\n      <td>Daniel Perez</td>\n      <td>40+</td>\n      <td>True</td>\n      <td>[italian, french]</td>\n      <td>medium_cost</td>\n      <td>master</td>\n      <td>Animal technologist</td>\n      <td>[music]</td>\n      <td>{'lat': 40.36699713437984, 'lon': 18.165786470...</td>\n      <td>junior</td>\n    </tr>\n    <tr>\n      <th>36</th>\n      <td>36</td>\n      <td>male</td>\n      <td>Willie Rogers</td>\n      <td>40+</td>\n      <td>True</td>\n      <td>[spanish]</td>\n      <td>medium_cost</td>\n      <td>phd</td>\n      <td>Systems developer</td>\n      <td>[]</td>\n      <td>{'lat': 40.358649720289904, 'lon': 18.16378056...</td>\n      <td>junior</td>\n    </tr>\n    <tr>\n      <th>37</th>\n      <td>37</td>\n      <td>male</td>\n      <td>Oscar Payne</td>\n      <td>40+</td>\n      <td>True</td>\n      <td>[dutch]</td>\n      <td>medium_cost</td>\n      <td>master</td>\n      <td>Television floor manager</td>\n      <td>[]</td>\n      <td>{'lat': 40.3604075695112, 'lon': 18.1615738690...</td>\n      <td>junior</td>\n    </tr>\n    <tr>\n      <th>38</th>\n      <td>38</td>\n      <td>female</td>\n      <td>Hannah Rivera</td>\n      <td>20-40</td>\n      <td>True</td>\n      <td>[italian]</td>\n      <td>medium_cost</td>\n      <td>master</td>\n      <td>Local government officer</td>\n      <td>[]</td>\n      <td>{'lat': 40.36497247240833, 'lon': 18.173581152...</td>\n      <td>junior</td>\n    </tr>\n    <tr>\n      <th>39</th>\n      <td>39</td>\n      <td>female</td>\n      <td>Stephanie Erickson</td>\n      <td>20-40</td>\n      <td>True</td>\n      <td>[spanish, dutch]</td>\n      <td>medium_cost</td>\n      <td>middle-school</td>\n      <td>Secretary/administrator</td>\n      <td>[history]</td>\n      <td>{'lat': 40.35901486939172, 'lon': 18.166553513...</td>\n      <td>junior</td>\n    </tr>\n  </tbody>\n</table>\n</div>"
     },
     "execution_count": 44,
     "metadata": {},
     "output_type": "execute_result"
    }
   ],
   "source": [
    "# Show the dataframe\n",
    "icm_df"
   ]
  },
  {
   "cell_type": "code",
   "execution_count": 45,
   "id": "a4b74f27",
   "metadata": {
    "pycharm": {
     "name": "#%%\n"
    }
   },
   "outputs": [],
   "source": [
    "# Remove the columns that we would not consider as relevant static attributes for guides\n",
    "icm_df.drop(labels=['name', 'now_available', 'current_location'], axis=1, inplace=True)"
   ]
  },
  {
   "cell_type": "code",
   "execution_count": 46,
   "id": "e6f6e291",
   "metadata": {
    "pycharm": {
     "name": "#%%\n"
    }
   },
   "outputs": [],
   "source": [
    "# Split the categorical attributes into separate columns\n",
    "multiclass_attributes = ['gender', 'price', 'experience', 'birth_date', 'education', 'biography', 'languages_spoken', 'keywords']\n",
    "\n",
    "# The result would have value 1 for each cell corresponding to an attribute owned by a guide\n",
    "# and 0 otherwise\n",
    "for n in multiclass_attributes:\n",
    "\n",
    "    # Explode lists of attributes to a subset of columns\n",
    "    s = icm_df[n].explode()\n",
    "\n",
    "    # Augment the dataframe with columns corresponding to each category, which belongs to the set of attributes. The cell values are determined by the counts of occurrences for each element.\n",
    "    # (if the intersection is not null, the cell has value 1, otherwise it is filled with 0)\n",
    "    icm_df = icm_df.join(pd.crosstab(s.index, s).astype(object)).fillna(0)\n",
    "\n",
    "    # Drop the original column\n",
    "    icm_df.drop(labels=n,axis=1,inplace=True)"
   ]
  },
  {
   "cell_type": "code",
   "execution_count": 47,
   "id": "0158f4b0",
   "metadata": {
    "pycharm": {
     "name": "#%%\n"
    }
   },
   "outputs": [
    {
     "data": {
      "text/plain": "    id  female  male  high_cost  low_cost  medium_cost  experienced  junior  \\\n0    0       0     1          0         0            1            0       0   \n1    1       1     0          1         0            0            0       0   \n2    2       1     0          0         0            1            1       0   \n3    3       0     1          1         0            0            0       1   \n4    4       0     1          0         0            1            1       0   \n5    5       0     1          0         0            1            1       0   \n6    6       0     1          0         0            1            0       1   \n7    7       0     1          0         0            1            0       0   \n8    8       0     1          0         0            1            0       0   \n9    9       0     1          1         0            0            0       0   \n10  10       1     0          0         1            0            0       0   \n11  11       1     0          0         1            0            0       0   \n12  12       1     0          0         1            0            0       1   \n13  13       1     0          0         0            1            0       1   \n14  14       0     1          1         0            0            1       0   \n15  15       0     1          0         0            1            1       0   \n16  16       0     1          0         0            1            0       0   \n17  17       0     1          0         0            1            0       1   \n18  18       0     1          0         1            0            0       0   \n19  19       1     0          1         0            0            0       0   \n20  20       1     0          1         0            0            0       0   \n21  21       0     1          0         0            1            0       0   \n22  22       1     0          0         0            1            0       0   \n23  23       1     0          0         1            0            0       0   \n24  24       1     0          0         0            1            0       0   \n25  25       1     0          0         0            1            0       1   \n26  26       0     1          0         0            1            0       0   \n27  27       1     0          0         0            1            0       1   \n28  28       1     0          0         0            1            1       0   \n29  29       1     0          0         0            1            0       0   \n30  30       1     0          0         0            1            0       1   \n31  31       0     1          0         1            0            1       0   \n32  32       1     0          0         0            1            0       0   \n33  33       0     1          0         0            1            0       1   \n34  34       1     0          0         0            1            0       1   \n35  35       0     1          0         0            1            0       1   \n36  36       0     1          0         0            1            0       1   \n37  37       0     1          0         0            1            0       1   \n38  38       1     0          0         0            1            0       1   \n39  39       1     0          0         0            1            0       1   \n\n    senior  20-40  ...  countryside  food  history  literature  museums  \\\n0        1      0  ...            0     0        0           0        1   \n1        1      0  ...            0     0        1           0        0   \n2        0      1  ...            0     1        0           0        0   \n3        0      1  ...            1     0        0           0        0   \n4        0      1  ...            1     0        0           0        0   \n5        0      0  ...            0     0        0           0        0   \n6        0      0  ...            0     0        0           0        0   \n7        1      0  ...            1     0        0           0        1   \n8        1      0  ...            0     0        0           1        0   \n9        1      0  ...            0     0        0           0        1   \n10       1      0  ...            1     0        0           0        1   \n11       1      0  ...            0     0        0           0        0   \n12       0      1  ...            0     0        0           0        0   \n13       0      1  ...            0     0        0           0        0   \n14       0      1  ...            0     0        0           0        1   \n15       0      0  ...            0     1        0           0        0   \n16       1      0  ...            1     0        0           0        0   \n17       0      1  ...            0     0        0           0        0   \n18       1      0  ...            0     1        0           0        0   \n19       1      0  ...            0     0        0           0        0   \n20       1      0  ...            0     1        0           0        1   \n21       1      0  ...            0     0        0           0        0   \n22       1      0  ...            1     0        1           1        0   \n23       1      1  ...            0     0        0           0        0   \n24       1      0  ...            0     0        0           0        0   \n25       0      1  ...            0     0        0           1        0   \n26       1      1  ...            0     0        0           0        1   \n27       0      1  ...            1     0        0           0        0   \n28       0      1  ...            0     1        0           0        1   \n29       1      0  ...            0     0        0           1        0   \n30       0      1  ...            0     0        0           0        0   \n31       0      0  ...            1     1        0           0        0   \n32       1      1  ...            0     0        0           0        0   \n33       0      0  ...            1     0        0           0        0   \n34       0      1  ...            0     0        0           0        0   \n35       0      0  ...            0     0        0           0        0   \n36       0      0  ...            0     0        0           0        0   \n37       0      0  ...            0     0        0           0        0   \n38       0      1  ...            0     0        0           0        0   \n39       0      1  ...            0     0        1           0        0   \n\n    music  rafting  sport  tracking  wine  \n0       0        0      0         0     0  \n1       0        1      0         0     1  \n2       0        0      0         0     0  \n3       0        1      0         0     0  \n4       0        0      0         1     0  \n5       0        0      0         0     0  \n6       0        1      1         0     0  \n7       0        0      0         0     1  \n8       1        0      0         0     0  \n9       0        0      0         0     0  \n10      0        1      1         0     0  \n11      0        1      0         0     0  \n12      1        0      1         0     0  \n13      0        0      1         0     0  \n14      0        0      0         0     0  \n15      1        0      0         1     0  \n16      1        0      0         0     0  \n17      0        0      1         0     1  \n18      0        0      0         0     0  \n19      0        0      0         0     0  \n20      0        1      0         0     0  \n21      0        0      0         0     0  \n22      1        0      0         0     0  \n23      0        0      0         1     0  \n24      0        0      0         0     0  \n25      0        0      0         0     0  \n26      0        0      0         1     0  \n27      0        0      0         0     0  \n28      1        1      0         1     0  \n29      0        0      0         1     0  \n30      1        0      0         0     0  \n31      1        0      0         0     0  \n32      1        0      0         0     0  \n33      1        0      0         0     0  \n34      0        0      0         0     0  \n35      1        0      0         0     0  \n36      0        0      0         0     0  \n37      0        0      0         0     0  \n38      0        0      0         0     0  \n39      0        0      0         0     0  \n\n[40 rows x 75 columns]",
      "text/html": "<div>\n<style scoped>\n    .dataframe tbody tr th:only-of-type {\n        vertical-align: middle;\n    }\n\n    .dataframe tbody tr th {\n        vertical-align: top;\n    }\n\n    .dataframe thead th {\n        text-align: right;\n    }\n</style>\n<table border=\"1\" class=\"dataframe\">\n  <thead>\n    <tr style=\"text-align: right;\">\n      <th></th>\n      <th>id</th>\n      <th>female</th>\n      <th>male</th>\n      <th>high_cost</th>\n      <th>low_cost</th>\n      <th>medium_cost</th>\n      <th>experienced</th>\n      <th>junior</th>\n      <th>senior</th>\n      <th>20-40</th>\n      <th>...</th>\n      <th>countryside</th>\n      <th>food</th>\n      <th>history</th>\n      <th>literature</th>\n      <th>museums</th>\n      <th>music</th>\n      <th>rafting</th>\n      <th>sport</th>\n      <th>tracking</th>\n      <th>wine</th>\n    </tr>\n  </thead>\n  <tbody>\n    <tr>\n      <th>0</th>\n      <td>0</td>\n      <td>0</td>\n      <td>1</td>\n      <td>0</td>\n      <td>0</td>\n      <td>1</td>\n      <td>0</td>\n      <td>0</td>\n      <td>1</td>\n      <td>0</td>\n      <td>...</td>\n      <td>0</td>\n      <td>0</td>\n      <td>0</td>\n      <td>0</td>\n      <td>1</td>\n      <td>0</td>\n      <td>0</td>\n      <td>0</td>\n      <td>0</td>\n      <td>0</td>\n    </tr>\n    <tr>\n      <th>1</th>\n      <td>1</td>\n      <td>1</td>\n      <td>0</td>\n      <td>1</td>\n      <td>0</td>\n      <td>0</td>\n      <td>0</td>\n      <td>0</td>\n      <td>1</td>\n      <td>0</td>\n      <td>...</td>\n      <td>0</td>\n      <td>0</td>\n      <td>1</td>\n      <td>0</td>\n      <td>0</td>\n      <td>0</td>\n      <td>1</td>\n      <td>0</td>\n      <td>0</td>\n      <td>1</td>\n    </tr>\n    <tr>\n      <th>2</th>\n      <td>2</td>\n      <td>1</td>\n      <td>0</td>\n      <td>0</td>\n      <td>0</td>\n      <td>1</td>\n      <td>1</td>\n      <td>0</td>\n      <td>0</td>\n      <td>1</td>\n      <td>...</td>\n      <td>0</td>\n      <td>1</td>\n      <td>0</td>\n      <td>0</td>\n      <td>0</td>\n      <td>0</td>\n      <td>0</td>\n      <td>0</td>\n      <td>0</td>\n      <td>0</td>\n    </tr>\n    <tr>\n      <th>3</th>\n      <td>3</td>\n      <td>0</td>\n      <td>1</td>\n      <td>1</td>\n      <td>0</td>\n      <td>0</td>\n      <td>0</td>\n      <td>1</td>\n      <td>0</td>\n      <td>1</td>\n      <td>...</td>\n      <td>1</td>\n      <td>0</td>\n      <td>0</td>\n      <td>0</td>\n      <td>0</td>\n      <td>0</td>\n      <td>1</td>\n      <td>0</td>\n      <td>0</td>\n      <td>0</td>\n    </tr>\n    <tr>\n      <th>4</th>\n      <td>4</td>\n      <td>0</td>\n      <td>1</td>\n      <td>0</td>\n      <td>0</td>\n      <td>1</td>\n      <td>1</td>\n      <td>0</td>\n      <td>0</td>\n      <td>1</td>\n      <td>...</td>\n      <td>1</td>\n      <td>0</td>\n      <td>0</td>\n      <td>0</td>\n      <td>0</td>\n      <td>0</td>\n      <td>0</td>\n      <td>0</td>\n      <td>1</td>\n      <td>0</td>\n    </tr>\n    <tr>\n      <th>5</th>\n      <td>5</td>\n      <td>0</td>\n      <td>1</td>\n      <td>0</td>\n      <td>0</td>\n      <td>1</td>\n      <td>1</td>\n      <td>0</td>\n      <td>0</td>\n      <td>0</td>\n      <td>...</td>\n      <td>0</td>\n      <td>0</td>\n      <td>0</td>\n      <td>0</td>\n      <td>0</td>\n      <td>0</td>\n      <td>0</td>\n      <td>0</td>\n      <td>0</td>\n      <td>0</td>\n    </tr>\n    <tr>\n      <th>6</th>\n      <td>6</td>\n      <td>0</td>\n      <td>1</td>\n      <td>0</td>\n      <td>0</td>\n      <td>1</td>\n      <td>0</td>\n      <td>1</td>\n      <td>0</td>\n      <td>0</td>\n      <td>...</td>\n      <td>0</td>\n      <td>0</td>\n      <td>0</td>\n      <td>0</td>\n      <td>0</td>\n      <td>0</td>\n      <td>1</td>\n      <td>1</td>\n      <td>0</td>\n      <td>0</td>\n    </tr>\n    <tr>\n      <th>7</th>\n      <td>7</td>\n      <td>0</td>\n      <td>1</td>\n      <td>0</td>\n      <td>0</td>\n      <td>1</td>\n      <td>0</td>\n      <td>0</td>\n      <td>1</td>\n      <td>0</td>\n      <td>...</td>\n      <td>1</td>\n      <td>0</td>\n      <td>0</td>\n      <td>0</td>\n      <td>1</td>\n      <td>0</td>\n      <td>0</td>\n      <td>0</td>\n      <td>0</td>\n      <td>1</td>\n    </tr>\n    <tr>\n      <th>8</th>\n      <td>8</td>\n      <td>0</td>\n      <td>1</td>\n      <td>0</td>\n      <td>0</td>\n      <td>1</td>\n      <td>0</td>\n      <td>0</td>\n      <td>1</td>\n      <td>0</td>\n      <td>...</td>\n      <td>0</td>\n      <td>0</td>\n      <td>0</td>\n      <td>1</td>\n      <td>0</td>\n      <td>1</td>\n      <td>0</td>\n      <td>0</td>\n      <td>0</td>\n      <td>0</td>\n    </tr>\n    <tr>\n      <th>9</th>\n      <td>9</td>\n      <td>0</td>\n      <td>1</td>\n      <td>1</td>\n      <td>0</td>\n      <td>0</td>\n      <td>0</td>\n      <td>0</td>\n      <td>1</td>\n      <td>0</td>\n      <td>...</td>\n      <td>0</td>\n      <td>0</td>\n      <td>0</td>\n      <td>0</td>\n      <td>1</td>\n      <td>0</td>\n      <td>0</td>\n      <td>0</td>\n      <td>0</td>\n      <td>0</td>\n    </tr>\n    <tr>\n      <th>10</th>\n      <td>10</td>\n      <td>1</td>\n      <td>0</td>\n      <td>0</td>\n      <td>1</td>\n      <td>0</td>\n      <td>0</td>\n      <td>0</td>\n      <td>1</td>\n      <td>0</td>\n      <td>...</td>\n      <td>1</td>\n      <td>0</td>\n      <td>0</td>\n      <td>0</td>\n      <td>1</td>\n      <td>0</td>\n      <td>1</td>\n      <td>1</td>\n      <td>0</td>\n      <td>0</td>\n    </tr>\n    <tr>\n      <th>11</th>\n      <td>11</td>\n      <td>1</td>\n      <td>0</td>\n      <td>0</td>\n      <td>1</td>\n      <td>0</td>\n      <td>0</td>\n      <td>0</td>\n      <td>1</td>\n      <td>0</td>\n      <td>...</td>\n      <td>0</td>\n      <td>0</td>\n      <td>0</td>\n      <td>0</td>\n      <td>0</td>\n      <td>0</td>\n      <td>1</td>\n      <td>0</td>\n      <td>0</td>\n      <td>0</td>\n    </tr>\n    <tr>\n      <th>12</th>\n      <td>12</td>\n      <td>1</td>\n      <td>0</td>\n      <td>0</td>\n      <td>1</td>\n      <td>0</td>\n      <td>0</td>\n      <td>1</td>\n      <td>0</td>\n      <td>1</td>\n      <td>...</td>\n      <td>0</td>\n      <td>0</td>\n      <td>0</td>\n      <td>0</td>\n      <td>0</td>\n      <td>1</td>\n      <td>0</td>\n      <td>1</td>\n      <td>0</td>\n      <td>0</td>\n    </tr>\n    <tr>\n      <th>13</th>\n      <td>13</td>\n      <td>1</td>\n      <td>0</td>\n      <td>0</td>\n      <td>0</td>\n      <td>1</td>\n      <td>0</td>\n      <td>1</td>\n      <td>0</td>\n      <td>1</td>\n      <td>...</td>\n      <td>0</td>\n      <td>0</td>\n      <td>0</td>\n      <td>0</td>\n      <td>0</td>\n      <td>0</td>\n      <td>0</td>\n      <td>1</td>\n      <td>0</td>\n      <td>0</td>\n    </tr>\n    <tr>\n      <th>14</th>\n      <td>14</td>\n      <td>0</td>\n      <td>1</td>\n      <td>1</td>\n      <td>0</td>\n      <td>0</td>\n      <td>1</td>\n      <td>0</td>\n      <td>0</td>\n      <td>1</td>\n      <td>...</td>\n      <td>0</td>\n      <td>0</td>\n      <td>0</td>\n      <td>0</td>\n      <td>1</td>\n      <td>0</td>\n      <td>0</td>\n      <td>0</td>\n      <td>0</td>\n      <td>0</td>\n    </tr>\n    <tr>\n      <th>15</th>\n      <td>15</td>\n      <td>0</td>\n      <td>1</td>\n      <td>0</td>\n      <td>0</td>\n      <td>1</td>\n      <td>1</td>\n      <td>0</td>\n      <td>0</td>\n      <td>0</td>\n      <td>...</td>\n      <td>0</td>\n      <td>1</td>\n      <td>0</td>\n      <td>0</td>\n      <td>0</td>\n      <td>1</td>\n      <td>0</td>\n      <td>0</td>\n      <td>1</td>\n      <td>0</td>\n    </tr>\n    <tr>\n      <th>16</th>\n      <td>16</td>\n      <td>0</td>\n      <td>1</td>\n      <td>0</td>\n      <td>0</td>\n      <td>1</td>\n      <td>0</td>\n      <td>0</td>\n      <td>1</td>\n      <td>0</td>\n      <td>...</td>\n      <td>1</td>\n      <td>0</td>\n      <td>0</td>\n      <td>0</td>\n      <td>0</td>\n      <td>1</td>\n      <td>0</td>\n      <td>0</td>\n      <td>0</td>\n      <td>0</td>\n    </tr>\n    <tr>\n      <th>17</th>\n      <td>17</td>\n      <td>0</td>\n      <td>1</td>\n      <td>0</td>\n      <td>0</td>\n      <td>1</td>\n      <td>0</td>\n      <td>1</td>\n      <td>0</td>\n      <td>1</td>\n      <td>...</td>\n      <td>0</td>\n      <td>0</td>\n      <td>0</td>\n      <td>0</td>\n      <td>0</td>\n      <td>0</td>\n      <td>0</td>\n      <td>1</td>\n      <td>0</td>\n      <td>1</td>\n    </tr>\n    <tr>\n      <th>18</th>\n      <td>18</td>\n      <td>0</td>\n      <td>1</td>\n      <td>0</td>\n      <td>1</td>\n      <td>0</td>\n      <td>0</td>\n      <td>0</td>\n      <td>1</td>\n      <td>0</td>\n      <td>...</td>\n      <td>0</td>\n      <td>1</td>\n      <td>0</td>\n      <td>0</td>\n      <td>0</td>\n      <td>0</td>\n      <td>0</td>\n      <td>0</td>\n      <td>0</td>\n      <td>0</td>\n    </tr>\n    <tr>\n      <th>19</th>\n      <td>19</td>\n      <td>1</td>\n      <td>0</td>\n      <td>1</td>\n      <td>0</td>\n      <td>0</td>\n      <td>0</td>\n      <td>0</td>\n      <td>1</td>\n      <td>0</td>\n      <td>...</td>\n      <td>0</td>\n      <td>0</td>\n      <td>0</td>\n      <td>0</td>\n      <td>0</td>\n      <td>0</td>\n      <td>0</td>\n      <td>0</td>\n      <td>0</td>\n      <td>0</td>\n    </tr>\n    <tr>\n      <th>20</th>\n      <td>20</td>\n      <td>1</td>\n      <td>0</td>\n      <td>1</td>\n      <td>0</td>\n      <td>0</td>\n      <td>0</td>\n      <td>0</td>\n      <td>1</td>\n      <td>0</td>\n      <td>...</td>\n      <td>0</td>\n      <td>1</td>\n      <td>0</td>\n      <td>0</td>\n      <td>1</td>\n      <td>0</td>\n      <td>1</td>\n      <td>0</td>\n      <td>0</td>\n      <td>0</td>\n    </tr>\n    <tr>\n      <th>21</th>\n      <td>21</td>\n      <td>0</td>\n      <td>1</td>\n      <td>0</td>\n      <td>0</td>\n      <td>1</td>\n      <td>0</td>\n      <td>0</td>\n      <td>1</td>\n      <td>0</td>\n      <td>...</td>\n      <td>0</td>\n      <td>0</td>\n      <td>0</td>\n      <td>0</td>\n      <td>0</td>\n      <td>0</td>\n      <td>0</td>\n      <td>0</td>\n      <td>0</td>\n      <td>0</td>\n    </tr>\n    <tr>\n      <th>22</th>\n      <td>22</td>\n      <td>1</td>\n      <td>0</td>\n      <td>0</td>\n      <td>0</td>\n      <td>1</td>\n      <td>0</td>\n      <td>0</td>\n      <td>1</td>\n      <td>0</td>\n      <td>...</td>\n      <td>1</td>\n      <td>0</td>\n      <td>1</td>\n      <td>1</td>\n      <td>0</td>\n      <td>1</td>\n      <td>0</td>\n      <td>0</td>\n      <td>0</td>\n      <td>0</td>\n    </tr>\n    <tr>\n      <th>23</th>\n      <td>23</td>\n      <td>1</td>\n      <td>0</td>\n      <td>0</td>\n      <td>1</td>\n      <td>0</td>\n      <td>0</td>\n      <td>0</td>\n      <td>1</td>\n      <td>1</td>\n      <td>...</td>\n      <td>0</td>\n      <td>0</td>\n      <td>0</td>\n      <td>0</td>\n      <td>0</td>\n      <td>0</td>\n      <td>0</td>\n      <td>0</td>\n      <td>1</td>\n      <td>0</td>\n    </tr>\n    <tr>\n      <th>24</th>\n      <td>24</td>\n      <td>1</td>\n      <td>0</td>\n      <td>0</td>\n      <td>0</td>\n      <td>1</td>\n      <td>0</td>\n      <td>0</td>\n      <td>1</td>\n      <td>0</td>\n      <td>...</td>\n      <td>0</td>\n      <td>0</td>\n      <td>0</td>\n      <td>0</td>\n      <td>0</td>\n      <td>0</td>\n      <td>0</td>\n      <td>0</td>\n      <td>0</td>\n      <td>0</td>\n    </tr>\n    <tr>\n      <th>25</th>\n      <td>25</td>\n      <td>1</td>\n      <td>0</td>\n      <td>0</td>\n      <td>0</td>\n      <td>1</td>\n      <td>0</td>\n      <td>1</td>\n      <td>0</td>\n      <td>1</td>\n      <td>...</td>\n      <td>0</td>\n      <td>0</td>\n      <td>0</td>\n      <td>1</td>\n      <td>0</td>\n      <td>0</td>\n      <td>0</td>\n      <td>0</td>\n      <td>0</td>\n      <td>0</td>\n    </tr>\n    <tr>\n      <th>26</th>\n      <td>26</td>\n      <td>0</td>\n      <td>1</td>\n      <td>0</td>\n      <td>0</td>\n      <td>1</td>\n      <td>0</td>\n      <td>0</td>\n      <td>1</td>\n      <td>1</td>\n      <td>...</td>\n      <td>0</td>\n      <td>0</td>\n      <td>0</td>\n      <td>0</td>\n      <td>1</td>\n      <td>0</td>\n      <td>0</td>\n      <td>0</td>\n      <td>1</td>\n      <td>0</td>\n    </tr>\n    <tr>\n      <th>27</th>\n      <td>27</td>\n      <td>1</td>\n      <td>0</td>\n      <td>0</td>\n      <td>0</td>\n      <td>1</td>\n      <td>0</td>\n      <td>1</td>\n      <td>0</td>\n      <td>1</td>\n      <td>...</td>\n      <td>1</td>\n      <td>0</td>\n      <td>0</td>\n      <td>0</td>\n      <td>0</td>\n      <td>0</td>\n      <td>0</td>\n      <td>0</td>\n      <td>0</td>\n      <td>0</td>\n    </tr>\n    <tr>\n      <th>28</th>\n      <td>28</td>\n      <td>1</td>\n      <td>0</td>\n      <td>0</td>\n      <td>0</td>\n      <td>1</td>\n      <td>1</td>\n      <td>0</td>\n      <td>0</td>\n      <td>1</td>\n      <td>...</td>\n      <td>0</td>\n      <td>1</td>\n      <td>0</td>\n      <td>0</td>\n      <td>1</td>\n      <td>1</td>\n      <td>1</td>\n      <td>0</td>\n      <td>1</td>\n      <td>0</td>\n    </tr>\n    <tr>\n      <th>29</th>\n      <td>29</td>\n      <td>1</td>\n      <td>0</td>\n      <td>0</td>\n      <td>0</td>\n      <td>1</td>\n      <td>0</td>\n      <td>0</td>\n      <td>1</td>\n      <td>0</td>\n      <td>...</td>\n      <td>0</td>\n      <td>0</td>\n      <td>0</td>\n      <td>1</td>\n      <td>0</td>\n      <td>0</td>\n      <td>0</td>\n      <td>0</td>\n      <td>1</td>\n      <td>0</td>\n    </tr>\n    <tr>\n      <th>30</th>\n      <td>30</td>\n      <td>1</td>\n      <td>0</td>\n      <td>0</td>\n      <td>0</td>\n      <td>1</td>\n      <td>0</td>\n      <td>1</td>\n      <td>0</td>\n      <td>1</td>\n      <td>...</td>\n      <td>0</td>\n      <td>0</td>\n      <td>0</td>\n      <td>0</td>\n      <td>0</td>\n      <td>1</td>\n      <td>0</td>\n      <td>0</td>\n      <td>0</td>\n      <td>0</td>\n    </tr>\n    <tr>\n      <th>31</th>\n      <td>31</td>\n      <td>0</td>\n      <td>1</td>\n      <td>0</td>\n      <td>1</td>\n      <td>0</td>\n      <td>1</td>\n      <td>0</td>\n      <td>0</td>\n      <td>0</td>\n      <td>...</td>\n      <td>1</td>\n      <td>1</td>\n      <td>0</td>\n      <td>0</td>\n      <td>0</td>\n      <td>1</td>\n      <td>0</td>\n      <td>0</td>\n      <td>0</td>\n      <td>0</td>\n    </tr>\n    <tr>\n      <th>32</th>\n      <td>32</td>\n      <td>1</td>\n      <td>0</td>\n      <td>0</td>\n      <td>0</td>\n      <td>1</td>\n      <td>0</td>\n      <td>0</td>\n      <td>1</td>\n      <td>1</td>\n      <td>...</td>\n      <td>0</td>\n      <td>0</td>\n      <td>0</td>\n      <td>0</td>\n      <td>0</td>\n      <td>1</td>\n      <td>0</td>\n      <td>0</td>\n      <td>0</td>\n      <td>0</td>\n    </tr>\n    <tr>\n      <th>33</th>\n      <td>33</td>\n      <td>0</td>\n      <td>1</td>\n      <td>0</td>\n      <td>0</td>\n      <td>1</td>\n      <td>0</td>\n      <td>1</td>\n      <td>0</td>\n      <td>0</td>\n      <td>...</td>\n      <td>1</td>\n      <td>0</td>\n      <td>0</td>\n      <td>0</td>\n      <td>0</td>\n      <td>1</td>\n      <td>0</td>\n      <td>0</td>\n      <td>0</td>\n      <td>0</td>\n    </tr>\n    <tr>\n      <th>34</th>\n      <td>34</td>\n      <td>1</td>\n      <td>0</td>\n      <td>0</td>\n      <td>0</td>\n      <td>1</td>\n      <td>0</td>\n      <td>1</td>\n      <td>0</td>\n      <td>1</td>\n      <td>...</td>\n      <td>0</td>\n      <td>0</td>\n      <td>0</td>\n      <td>0</td>\n      <td>0</td>\n      <td>0</td>\n      <td>0</td>\n      <td>0</td>\n      <td>0</td>\n      <td>0</td>\n    </tr>\n    <tr>\n      <th>35</th>\n      <td>35</td>\n      <td>0</td>\n      <td>1</td>\n      <td>0</td>\n      <td>0</td>\n      <td>1</td>\n      <td>0</td>\n      <td>1</td>\n      <td>0</td>\n      <td>0</td>\n      <td>...</td>\n      <td>0</td>\n      <td>0</td>\n      <td>0</td>\n      <td>0</td>\n      <td>0</td>\n      <td>1</td>\n      <td>0</td>\n      <td>0</td>\n      <td>0</td>\n      <td>0</td>\n    </tr>\n    <tr>\n      <th>36</th>\n      <td>36</td>\n      <td>0</td>\n      <td>1</td>\n      <td>0</td>\n      <td>0</td>\n      <td>1</td>\n      <td>0</td>\n      <td>1</td>\n      <td>0</td>\n      <td>0</td>\n      <td>...</td>\n      <td>0</td>\n      <td>0</td>\n      <td>0</td>\n      <td>0</td>\n      <td>0</td>\n      <td>0</td>\n      <td>0</td>\n      <td>0</td>\n      <td>0</td>\n      <td>0</td>\n    </tr>\n    <tr>\n      <th>37</th>\n      <td>37</td>\n      <td>0</td>\n      <td>1</td>\n      <td>0</td>\n      <td>0</td>\n      <td>1</td>\n      <td>0</td>\n      <td>1</td>\n      <td>0</td>\n      <td>0</td>\n      <td>...</td>\n      <td>0</td>\n      <td>0</td>\n      <td>0</td>\n      <td>0</td>\n      <td>0</td>\n      <td>0</td>\n      <td>0</td>\n      <td>0</td>\n      <td>0</td>\n      <td>0</td>\n    </tr>\n    <tr>\n      <th>38</th>\n      <td>38</td>\n      <td>1</td>\n      <td>0</td>\n      <td>0</td>\n      <td>0</td>\n      <td>1</td>\n      <td>0</td>\n      <td>1</td>\n      <td>0</td>\n      <td>1</td>\n      <td>...</td>\n      <td>0</td>\n      <td>0</td>\n      <td>0</td>\n      <td>0</td>\n      <td>0</td>\n      <td>0</td>\n      <td>0</td>\n      <td>0</td>\n      <td>0</td>\n      <td>0</td>\n    </tr>\n    <tr>\n      <th>39</th>\n      <td>39</td>\n      <td>1</td>\n      <td>0</td>\n      <td>0</td>\n      <td>0</td>\n      <td>1</td>\n      <td>0</td>\n      <td>1</td>\n      <td>0</td>\n      <td>1</td>\n      <td>...</td>\n      <td>0</td>\n      <td>0</td>\n      <td>1</td>\n      <td>0</td>\n      <td>0</td>\n      <td>0</td>\n      <td>0</td>\n      <td>0</td>\n      <td>0</td>\n      <td>0</td>\n    </tr>\n  </tbody>\n</table>\n<p>40 rows × 75 columns</p>\n</div>"
     },
     "execution_count": 47,
     "metadata": {},
     "output_type": "execute_result"
    }
   ],
   "source": [
    "# Show the dataframe\n",
    "icm_df"
   ]
  },
  {
   "cell_type": "code",
   "execution_count": 48,
   "id": "a6e5a881",
   "metadata": {
    "pycharm": {
     "name": "#%%\n"
    }
   },
   "outputs": [
    {
     "data": {
      "text/plain": "['id',\n 'female',\n 'male',\n 'high_cost',\n 'low_cost',\n 'medium_cost',\n 'experienced',\n 'junior',\n 'senior',\n '20-40',\n '40+',\n 'bachelor',\n 'high-school',\n 'master',\n 'middle-school',\n 'phd',\n 'Administrator, sports',\n 'Air broker',\n 'Animal technologist',\n 'Astronomer',\n 'Audiological scientist',\n 'Best boy',\n 'Broadcast journalist',\n 'Building services engineer',\n 'Counsellor',\n 'Designer, exhibition/display',\n 'Designer, graphic',\n 'Designer, industrial/product',\n 'Designer, jewellery',\n 'Editor, magazine features',\n 'Emergency planning/management officer',\n 'Engineer, aeronautical',\n 'Engineer, land',\n 'Engineer, materials',\n 'Environmental consultant',\n 'Exhibitions officer, museum/gallery',\n 'Financial planner',\n 'Financial risk analyst',\n 'Geochemist',\n 'Holiday representative',\n 'Legal secretary',\n 'Local government officer',\n 'Multimedia programmer',\n 'Newspaper journalist',\n 'Office manager',\n 'Pilot, airline',\n 'Secretary/administrator',\n 'Systems developer',\n 'Television floor manager',\n 'Therapist, drama',\n 'Travel agency manager',\n 'Tree surgeon',\n 'Warehouse manager',\n 'bulgarian',\n 'chinese',\n 'deutsche',\n 'dutch',\n 'english',\n 'french',\n 'italian',\n 'spanish',\n 'archeology',\n 'art',\n 'beer',\n 'cinema',\n 'countryside',\n 'food',\n 'history',\n 'literature',\n 'museums',\n 'music',\n 'rafting',\n 'sport',\n 'tracking',\n 'wine']"
     },
     "execution_count": 48,
     "metadata": {},
     "output_type": "execute_result"
    }
   ],
   "source": [
    "# Print the list of attributes\n",
    "attribute_list = icm_df.columns.tolist()\n",
    "attribute_list"
   ]
  },
  {
   "cell_type": "code",
   "execution_count": 49,
   "id": "5b0ea53f",
   "metadata": {
    "pycharm": {
     "name": "#%%\n"
    }
   },
   "outputs": [
    {
     "data": {
      "text/plain": "    id  1  2  3  4  5  6  7  8  9  ...  65  66  67  68  69  70  71  72  73  74\n0    0  0  1  0  0  1  0  0  1  0  ...   0   0   0   0   1   0   0   0   0   0\n1    1  1  0  1  0  0  0  0  1  0  ...   0   0   1   0   0   0   1   0   0   1\n2    2  1  0  0  0  1  1  0  0  1  ...   0   1   0   0   0   0   0   0   0   0\n3    3  0  1  1  0  0  0  1  0  1  ...   1   0   0   0   0   0   1   0   0   0\n4    4  0  1  0  0  1  1  0  0  1  ...   1   0   0   0   0   0   0   0   1   0\n5    5  0  1  0  0  1  1  0  0  0  ...   0   0   0   0   0   0   0   0   0   0\n6    6  0  1  0  0  1  0  1  0  0  ...   0   0   0   0   0   0   1   1   0   0\n7    7  0  1  0  0  1  0  0  1  0  ...   1   0   0   0   1   0   0   0   0   1\n8    8  0  1  0  0  1  0  0  1  0  ...   0   0   0   1   0   1   0   0   0   0\n9    9  0  1  1  0  0  0  0  1  0  ...   0   0   0   0   1   0   0   0   0   0\n10  10  1  0  0  1  0  0  0  1  0  ...   1   0   0   0   1   0   1   1   0   0\n11  11  1  0  0  1  0  0  0  1  0  ...   0   0   0   0   0   0   1   0   0   0\n12  12  1  0  0  1  0  0  1  0  1  ...   0   0   0   0   0   1   0   1   0   0\n13  13  1  0  0  0  1  0  1  0  1  ...   0   0   0   0   0   0   0   1   0   0\n14  14  0  1  1  0  0  1  0  0  1  ...   0   0   0   0   1   0   0   0   0   0\n15  15  0  1  0  0  1  1  0  0  0  ...   0   1   0   0   0   1   0   0   1   0\n16  16  0  1  0  0  1  0  0  1  0  ...   1   0   0   0   0   1   0   0   0   0\n17  17  0  1  0  0  1  0  1  0  1  ...   0   0   0   0   0   0   0   1   0   1\n18  18  0  1  0  1  0  0  0  1  0  ...   0   1   0   0   0   0   0   0   0   0\n19  19  1  0  1  0  0  0  0  1  0  ...   0   0   0   0   0   0   0   0   0   0\n20  20  1  0  1  0  0  0  0  1  0  ...   0   1   0   0   1   0   1   0   0   0\n21  21  0  1  0  0  1  0  0  1  0  ...   0   0   0   0   0   0   0   0   0   0\n22  22  1  0  0  0  1  0  0  1  0  ...   1   0   1   1   0   1   0   0   0   0\n23  23  1  0  0  1  0  0  0  1  1  ...   0   0   0   0   0   0   0   0   1   0\n24  24  1  0  0  0  1  0  0  1  0  ...   0   0   0   0   0   0   0   0   0   0\n25  25  1  0  0  0  1  0  1  0  1  ...   0   0   0   1   0   0   0   0   0   0\n26  26  0  1  0  0  1  0  0  1  1  ...   0   0   0   0   1   0   0   0   1   0\n27  27  1  0  0  0  1  0  1  0  1  ...   1   0   0   0   0   0   0   0   0   0\n28  28  1  0  0  0  1  1  0  0  1  ...   0   1   0   0   1   1   1   0   1   0\n29  29  1  0  0  0  1  0  0  1  0  ...   0   0   0   1   0   0   0   0   1   0\n30  30  1  0  0  0  1  0  1  0  1  ...   0   0   0   0   0   1   0   0   0   0\n31  31  0  1  0  1  0  1  0  0  0  ...   1   1   0   0   0   1   0   0   0   0\n32  32  1  0  0  0  1  0  0  1  1  ...   0   0   0   0   0   1   0   0   0   0\n33  33  0  1  0  0  1  0  1  0  0  ...   1   0   0   0   0   1   0   0   0   0\n34  34  1  0  0  0  1  0  1  0  1  ...   0   0   0   0   0   0   0   0   0   0\n35  35  0  1  0  0  1  0  1  0  0  ...   0   0   0   0   0   1   0   0   0   0\n36  36  0  1  0  0  1  0  1  0  0  ...   0   0   0   0   0   0   0   0   0   0\n37  37  0  1  0  0  1  0  1  0  0  ...   0   0   0   0   0   0   0   0   0   0\n38  38  1  0  0  0  1  0  1  0  1  ...   0   0   0   0   0   0   0   0   0   0\n39  39  1  0  0  0  1  0  1  0  1  ...   0   0   1   0   0   0   0   0   0   0\n\n[40 rows x 75 columns]",
      "text/html": "<div>\n<style scoped>\n    .dataframe tbody tr th:only-of-type {\n        vertical-align: middle;\n    }\n\n    .dataframe tbody tr th {\n        vertical-align: top;\n    }\n\n    .dataframe thead th {\n        text-align: right;\n    }\n</style>\n<table border=\"1\" class=\"dataframe\">\n  <thead>\n    <tr style=\"text-align: right;\">\n      <th></th>\n      <th>id</th>\n      <th>1</th>\n      <th>2</th>\n      <th>3</th>\n      <th>4</th>\n      <th>5</th>\n      <th>6</th>\n      <th>7</th>\n      <th>8</th>\n      <th>9</th>\n      <th>...</th>\n      <th>65</th>\n      <th>66</th>\n      <th>67</th>\n      <th>68</th>\n      <th>69</th>\n      <th>70</th>\n      <th>71</th>\n      <th>72</th>\n      <th>73</th>\n      <th>74</th>\n    </tr>\n  </thead>\n  <tbody>\n    <tr>\n      <th>0</th>\n      <td>0</td>\n      <td>0</td>\n      <td>1</td>\n      <td>0</td>\n      <td>0</td>\n      <td>1</td>\n      <td>0</td>\n      <td>0</td>\n      <td>1</td>\n      <td>0</td>\n      <td>...</td>\n      <td>0</td>\n      <td>0</td>\n      <td>0</td>\n      <td>0</td>\n      <td>1</td>\n      <td>0</td>\n      <td>0</td>\n      <td>0</td>\n      <td>0</td>\n      <td>0</td>\n    </tr>\n    <tr>\n      <th>1</th>\n      <td>1</td>\n      <td>1</td>\n      <td>0</td>\n      <td>1</td>\n      <td>0</td>\n      <td>0</td>\n      <td>0</td>\n      <td>0</td>\n      <td>1</td>\n      <td>0</td>\n      <td>...</td>\n      <td>0</td>\n      <td>0</td>\n      <td>1</td>\n      <td>0</td>\n      <td>0</td>\n      <td>0</td>\n      <td>1</td>\n      <td>0</td>\n      <td>0</td>\n      <td>1</td>\n    </tr>\n    <tr>\n      <th>2</th>\n      <td>2</td>\n      <td>1</td>\n      <td>0</td>\n      <td>0</td>\n      <td>0</td>\n      <td>1</td>\n      <td>1</td>\n      <td>0</td>\n      <td>0</td>\n      <td>1</td>\n      <td>...</td>\n      <td>0</td>\n      <td>1</td>\n      <td>0</td>\n      <td>0</td>\n      <td>0</td>\n      <td>0</td>\n      <td>0</td>\n      <td>0</td>\n      <td>0</td>\n      <td>0</td>\n    </tr>\n    <tr>\n      <th>3</th>\n      <td>3</td>\n      <td>0</td>\n      <td>1</td>\n      <td>1</td>\n      <td>0</td>\n      <td>0</td>\n      <td>0</td>\n      <td>1</td>\n      <td>0</td>\n      <td>1</td>\n      <td>...</td>\n      <td>1</td>\n      <td>0</td>\n      <td>0</td>\n      <td>0</td>\n      <td>0</td>\n      <td>0</td>\n      <td>1</td>\n      <td>0</td>\n      <td>0</td>\n      <td>0</td>\n    </tr>\n    <tr>\n      <th>4</th>\n      <td>4</td>\n      <td>0</td>\n      <td>1</td>\n      <td>0</td>\n      <td>0</td>\n      <td>1</td>\n      <td>1</td>\n      <td>0</td>\n      <td>0</td>\n      <td>1</td>\n      <td>...</td>\n      <td>1</td>\n      <td>0</td>\n      <td>0</td>\n      <td>0</td>\n      <td>0</td>\n      <td>0</td>\n      <td>0</td>\n      <td>0</td>\n      <td>1</td>\n      <td>0</td>\n    </tr>\n    <tr>\n      <th>5</th>\n      <td>5</td>\n      <td>0</td>\n      <td>1</td>\n      <td>0</td>\n      <td>0</td>\n      <td>1</td>\n      <td>1</td>\n      <td>0</td>\n      <td>0</td>\n      <td>0</td>\n      <td>...</td>\n      <td>0</td>\n      <td>0</td>\n      <td>0</td>\n      <td>0</td>\n      <td>0</td>\n      <td>0</td>\n      <td>0</td>\n      <td>0</td>\n      <td>0</td>\n      <td>0</td>\n    </tr>\n    <tr>\n      <th>6</th>\n      <td>6</td>\n      <td>0</td>\n      <td>1</td>\n      <td>0</td>\n      <td>0</td>\n      <td>1</td>\n      <td>0</td>\n      <td>1</td>\n      <td>0</td>\n      <td>0</td>\n      <td>...</td>\n      <td>0</td>\n      <td>0</td>\n      <td>0</td>\n      <td>0</td>\n      <td>0</td>\n      <td>0</td>\n      <td>1</td>\n      <td>1</td>\n      <td>0</td>\n      <td>0</td>\n    </tr>\n    <tr>\n      <th>7</th>\n      <td>7</td>\n      <td>0</td>\n      <td>1</td>\n      <td>0</td>\n      <td>0</td>\n      <td>1</td>\n      <td>0</td>\n      <td>0</td>\n      <td>1</td>\n      <td>0</td>\n      <td>...</td>\n      <td>1</td>\n      <td>0</td>\n      <td>0</td>\n      <td>0</td>\n      <td>1</td>\n      <td>0</td>\n      <td>0</td>\n      <td>0</td>\n      <td>0</td>\n      <td>1</td>\n    </tr>\n    <tr>\n      <th>8</th>\n      <td>8</td>\n      <td>0</td>\n      <td>1</td>\n      <td>0</td>\n      <td>0</td>\n      <td>1</td>\n      <td>0</td>\n      <td>0</td>\n      <td>1</td>\n      <td>0</td>\n      <td>...</td>\n      <td>0</td>\n      <td>0</td>\n      <td>0</td>\n      <td>1</td>\n      <td>0</td>\n      <td>1</td>\n      <td>0</td>\n      <td>0</td>\n      <td>0</td>\n      <td>0</td>\n    </tr>\n    <tr>\n      <th>9</th>\n      <td>9</td>\n      <td>0</td>\n      <td>1</td>\n      <td>1</td>\n      <td>0</td>\n      <td>0</td>\n      <td>0</td>\n      <td>0</td>\n      <td>1</td>\n      <td>0</td>\n      <td>...</td>\n      <td>0</td>\n      <td>0</td>\n      <td>0</td>\n      <td>0</td>\n      <td>1</td>\n      <td>0</td>\n      <td>0</td>\n      <td>0</td>\n      <td>0</td>\n      <td>0</td>\n    </tr>\n    <tr>\n      <th>10</th>\n      <td>10</td>\n      <td>1</td>\n      <td>0</td>\n      <td>0</td>\n      <td>1</td>\n      <td>0</td>\n      <td>0</td>\n      <td>0</td>\n      <td>1</td>\n      <td>0</td>\n      <td>...</td>\n      <td>1</td>\n      <td>0</td>\n      <td>0</td>\n      <td>0</td>\n      <td>1</td>\n      <td>0</td>\n      <td>1</td>\n      <td>1</td>\n      <td>0</td>\n      <td>0</td>\n    </tr>\n    <tr>\n      <th>11</th>\n      <td>11</td>\n      <td>1</td>\n      <td>0</td>\n      <td>0</td>\n      <td>1</td>\n      <td>0</td>\n      <td>0</td>\n      <td>0</td>\n      <td>1</td>\n      <td>0</td>\n      <td>...</td>\n      <td>0</td>\n      <td>0</td>\n      <td>0</td>\n      <td>0</td>\n      <td>0</td>\n      <td>0</td>\n      <td>1</td>\n      <td>0</td>\n      <td>0</td>\n      <td>0</td>\n    </tr>\n    <tr>\n      <th>12</th>\n      <td>12</td>\n      <td>1</td>\n      <td>0</td>\n      <td>0</td>\n      <td>1</td>\n      <td>0</td>\n      <td>0</td>\n      <td>1</td>\n      <td>0</td>\n      <td>1</td>\n      <td>...</td>\n      <td>0</td>\n      <td>0</td>\n      <td>0</td>\n      <td>0</td>\n      <td>0</td>\n      <td>1</td>\n      <td>0</td>\n      <td>1</td>\n      <td>0</td>\n      <td>0</td>\n    </tr>\n    <tr>\n      <th>13</th>\n      <td>13</td>\n      <td>1</td>\n      <td>0</td>\n      <td>0</td>\n      <td>0</td>\n      <td>1</td>\n      <td>0</td>\n      <td>1</td>\n      <td>0</td>\n      <td>1</td>\n      <td>...</td>\n      <td>0</td>\n      <td>0</td>\n      <td>0</td>\n      <td>0</td>\n      <td>0</td>\n      <td>0</td>\n      <td>0</td>\n      <td>1</td>\n      <td>0</td>\n      <td>0</td>\n    </tr>\n    <tr>\n      <th>14</th>\n      <td>14</td>\n      <td>0</td>\n      <td>1</td>\n      <td>1</td>\n      <td>0</td>\n      <td>0</td>\n      <td>1</td>\n      <td>0</td>\n      <td>0</td>\n      <td>1</td>\n      <td>...</td>\n      <td>0</td>\n      <td>0</td>\n      <td>0</td>\n      <td>0</td>\n      <td>1</td>\n      <td>0</td>\n      <td>0</td>\n      <td>0</td>\n      <td>0</td>\n      <td>0</td>\n    </tr>\n    <tr>\n      <th>15</th>\n      <td>15</td>\n      <td>0</td>\n      <td>1</td>\n      <td>0</td>\n      <td>0</td>\n      <td>1</td>\n      <td>1</td>\n      <td>0</td>\n      <td>0</td>\n      <td>0</td>\n      <td>...</td>\n      <td>0</td>\n      <td>1</td>\n      <td>0</td>\n      <td>0</td>\n      <td>0</td>\n      <td>1</td>\n      <td>0</td>\n      <td>0</td>\n      <td>1</td>\n      <td>0</td>\n    </tr>\n    <tr>\n      <th>16</th>\n      <td>16</td>\n      <td>0</td>\n      <td>1</td>\n      <td>0</td>\n      <td>0</td>\n      <td>1</td>\n      <td>0</td>\n      <td>0</td>\n      <td>1</td>\n      <td>0</td>\n      <td>...</td>\n      <td>1</td>\n      <td>0</td>\n      <td>0</td>\n      <td>0</td>\n      <td>0</td>\n      <td>1</td>\n      <td>0</td>\n      <td>0</td>\n      <td>0</td>\n      <td>0</td>\n    </tr>\n    <tr>\n      <th>17</th>\n      <td>17</td>\n      <td>0</td>\n      <td>1</td>\n      <td>0</td>\n      <td>0</td>\n      <td>1</td>\n      <td>0</td>\n      <td>1</td>\n      <td>0</td>\n      <td>1</td>\n      <td>...</td>\n      <td>0</td>\n      <td>0</td>\n      <td>0</td>\n      <td>0</td>\n      <td>0</td>\n      <td>0</td>\n      <td>0</td>\n      <td>1</td>\n      <td>0</td>\n      <td>1</td>\n    </tr>\n    <tr>\n      <th>18</th>\n      <td>18</td>\n      <td>0</td>\n      <td>1</td>\n      <td>0</td>\n      <td>1</td>\n      <td>0</td>\n      <td>0</td>\n      <td>0</td>\n      <td>1</td>\n      <td>0</td>\n      <td>...</td>\n      <td>0</td>\n      <td>1</td>\n      <td>0</td>\n      <td>0</td>\n      <td>0</td>\n      <td>0</td>\n      <td>0</td>\n      <td>0</td>\n      <td>0</td>\n      <td>0</td>\n    </tr>\n    <tr>\n      <th>19</th>\n      <td>19</td>\n      <td>1</td>\n      <td>0</td>\n      <td>1</td>\n      <td>0</td>\n      <td>0</td>\n      <td>0</td>\n      <td>0</td>\n      <td>1</td>\n      <td>0</td>\n      <td>...</td>\n      <td>0</td>\n      <td>0</td>\n      <td>0</td>\n      <td>0</td>\n      <td>0</td>\n      <td>0</td>\n      <td>0</td>\n      <td>0</td>\n      <td>0</td>\n      <td>0</td>\n    </tr>\n    <tr>\n      <th>20</th>\n      <td>20</td>\n      <td>1</td>\n      <td>0</td>\n      <td>1</td>\n      <td>0</td>\n      <td>0</td>\n      <td>0</td>\n      <td>0</td>\n      <td>1</td>\n      <td>0</td>\n      <td>...</td>\n      <td>0</td>\n      <td>1</td>\n      <td>0</td>\n      <td>0</td>\n      <td>1</td>\n      <td>0</td>\n      <td>1</td>\n      <td>0</td>\n      <td>0</td>\n      <td>0</td>\n    </tr>\n    <tr>\n      <th>21</th>\n      <td>21</td>\n      <td>0</td>\n      <td>1</td>\n      <td>0</td>\n      <td>0</td>\n      <td>1</td>\n      <td>0</td>\n      <td>0</td>\n      <td>1</td>\n      <td>0</td>\n      <td>...</td>\n      <td>0</td>\n      <td>0</td>\n      <td>0</td>\n      <td>0</td>\n      <td>0</td>\n      <td>0</td>\n      <td>0</td>\n      <td>0</td>\n      <td>0</td>\n      <td>0</td>\n    </tr>\n    <tr>\n      <th>22</th>\n      <td>22</td>\n      <td>1</td>\n      <td>0</td>\n      <td>0</td>\n      <td>0</td>\n      <td>1</td>\n      <td>0</td>\n      <td>0</td>\n      <td>1</td>\n      <td>0</td>\n      <td>...</td>\n      <td>1</td>\n      <td>0</td>\n      <td>1</td>\n      <td>1</td>\n      <td>0</td>\n      <td>1</td>\n      <td>0</td>\n      <td>0</td>\n      <td>0</td>\n      <td>0</td>\n    </tr>\n    <tr>\n      <th>23</th>\n      <td>23</td>\n      <td>1</td>\n      <td>0</td>\n      <td>0</td>\n      <td>1</td>\n      <td>0</td>\n      <td>0</td>\n      <td>0</td>\n      <td>1</td>\n      <td>1</td>\n      <td>...</td>\n      <td>0</td>\n      <td>0</td>\n      <td>0</td>\n      <td>0</td>\n      <td>0</td>\n      <td>0</td>\n      <td>0</td>\n      <td>0</td>\n      <td>1</td>\n      <td>0</td>\n    </tr>\n    <tr>\n      <th>24</th>\n      <td>24</td>\n      <td>1</td>\n      <td>0</td>\n      <td>0</td>\n      <td>0</td>\n      <td>1</td>\n      <td>0</td>\n      <td>0</td>\n      <td>1</td>\n      <td>0</td>\n      <td>...</td>\n      <td>0</td>\n      <td>0</td>\n      <td>0</td>\n      <td>0</td>\n      <td>0</td>\n      <td>0</td>\n      <td>0</td>\n      <td>0</td>\n      <td>0</td>\n      <td>0</td>\n    </tr>\n    <tr>\n      <th>25</th>\n      <td>25</td>\n      <td>1</td>\n      <td>0</td>\n      <td>0</td>\n      <td>0</td>\n      <td>1</td>\n      <td>0</td>\n      <td>1</td>\n      <td>0</td>\n      <td>1</td>\n      <td>...</td>\n      <td>0</td>\n      <td>0</td>\n      <td>0</td>\n      <td>1</td>\n      <td>0</td>\n      <td>0</td>\n      <td>0</td>\n      <td>0</td>\n      <td>0</td>\n      <td>0</td>\n    </tr>\n    <tr>\n      <th>26</th>\n      <td>26</td>\n      <td>0</td>\n      <td>1</td>\n      <td>0</td>\n      <td>0</td>\n      <td>1</td>\n      <td>0</td>\n      <td>0</td>\n      <td>1</td>\n      <td>1</td>\n      <td>...</td>\n      <td>0</td>\n      <td>0</td>\n      <td>0</td>\n      <td>0</td>\n      <td>1</td>\n      <td>0</td>\n      <td>0</td>\n      <td>0</td>\n      <td>1</td>\n      <td>0</td>\n    </tr>\n    <tr>\n      <th>27</th>\n      <td>27</td>\n      <td>1</td>\n      <td>0</td>\n      <td>0</td>\n      <td>0</td>\n      <td>1</td>\n      <td>0</td>\n      <td>1</td>\n      <td>0</td>\n      <td>1</td>\n      <td>...</td>\n      <td>1</td>\n      <td>0</td>\n      <td>0</td>\n      <td>0</td>\n      <td>0</td>\n      <td>0</td>\n      <td>0</td>\n      <td>0</td>\n      <td>0</td>\n      <td>0</td>\n    </tr>\n    <tr>\n      <th>28</th>\n      <td>28</td>\n      <td>1</td>\n      <td>0</td>\n      <td>0</td>\n      <td>0</td>\n      <td>1</td>\n      <td>1</td>\n      <td>0</td>\n      <td>0</td>\n      <td>1</td>\n      <td>...</td>\n      <td>0</td>\n      <td>1</td>\n      <td>0</td>\n      <td>0</td>\n      <td>1</td>\n      <td>1</td>\n      <td>1</td>\n      <td>0</td>\n      <td>1</td>\n      <td>0</td>\n    </tr>\n    <tr>\n      <th>29</th>\n      <td>29</td>\n      <td>1</td>\n      <td>0</td>\n      <td>0</td>\n      <td>0</td>\n      <td>1</td>\n      <td>0</td>\n      <td>0</td>\n      <td>1</td>\n      <td>0</td>\n      <td>...</td>\n      <td>0</td>\n      <td>0</td>\n      <td>0</td>\n      <td>1</td>\n      <td>0</td>\n      <td>0</td>\n      <td>0</td>\n      <td>0</td>\n      <td>1</td>\n      <td>0</td>\n    </tr>\n    <tr>\n      <th>30</th>\n      <td>30</td>\n      <td>1</td>\n      <td>0</td>\n      <td>0</td>\n      <td>0</td>\n      <td>1</td>\n      <td>0</td>\n      <td>1</td>\n      <td>0</td>\n      <td>1</td>\n      <td>...</td>\n      <td>0</td>\n      <td>0</td>\n      <td>0</td>\n      <td>0</td>\n      <td>0</td>\n      <td>1</td>\n      <td>0</td>\n      <td>0</td>\n      <td>0</td>\n      <td>0</td>\n    </tr>\n    <tr>\n      <th>31</th>\n      <td>31</td>\n      <td>0</td>\n      <td>1</td>\n      <td>0</td>\n      <td>1</td>\n      <td>0</td>\n      <td>1</td>\n      <td>0</td>\n      <td>0</td>\n      <td>0</td>\n      <td>...</td>\n      <td>1</td>\n      <td>1</td>\n      <td>0</td>\n      <td>0</td>\n      <td>0</td>\n      <td>1</td>\n      <td>0</td>\n      <td>0</td>\n      <td>0</td>\n      <td>0</td>\n    </tr>\n    <tr>\n      <th>32</th>\n      <td>32</td>\n      <td>1</td>\n      <td>0</td>\n      <td>0</td>\n      <td>0</td>\n      <td>1</td>\n      <td>0</td>\n      <td>0</td>\n      <td>1</td>\n      <td>1</td>\n      <td>...</td>\n      <td>0</td>\n      <td>0</td>\n      <td>0</td>\n      <td>0</td>\n      <td>0</td>\n      <td>1</td>\n      <td>0</td>\n      <td>0</td>\n      <td>0</td>\n      <td>0</td>\n    </tr>\n    <tr>\n      <th>33</th>\n      <td>33</td>\n      <td>0</td>\n      <td>1</td>\n      <td>0</td>\n      <td>0</td>\n      <td>1</td>\n      <td>0</td>\n      <td>1</td>\n      <td>0</td>\n      <td>0</td>\n      <td>...</td>\n      <td>1</td>\n      <td>0</td>\n      <td>0</td>\n      <td>0</td>\n      <td>0</td>\n      <td>1</td>\n      <td>0</td>\n      <td>0</td>\n      <td>0</td>\n      <td>0</td>\n    </tr>\n    <tr>\n      <th>34</th>\n      <td>34</td>\n      <td>1</td>\n      <td>0</td>\n      <td>0</td>\n      <td>0</td>\n      <td>1</td>\n      <td>0</td>\n      <td>1</td>\n      <td>0</td>\n      <td>1</td>\n      <td>...</td>\n      <td>0</td>\n      <td>0</td>\n      <td>0</td>\n      <td>0</td>\n      <td>0</td>\n      <td>0</td>\n      <td>0</td>\n      <td>0</td>\n      <td>0</td>\n      <td>0</td>\n    </tr>\n    <tr>\n      <th>35</th>\n      <td>35</td>\n      <td>0</td>\n      <td>1</td>\n      <td>0</td>\n      <td>0</td>\n      <td>1</td>\n      <td>0</td>\n      <td>1</td>\n      <td>0</td>\n      <td>0</td>\n      <td>...</td>\n      <td>0</td>\n      <td>0</td>\n      <td>0</td>\n      <td>0</td>\n      <td>0</td>\n      <td>1</td>\n      <td>0</td>\n      <td>0</td>\n      <td>0</td>\n      <td>0</td>\n    </tr>\n    <tr>\n      <th>36</th>\n      <td>36</td>\n      <td>0</td>\n      <td>1</td>\n      <td>0</td>\n      <td>0</td>\n      <td>1</td>\n      <td>0</td>\n      <td>1</td>\n      <td>0</td>\n      <td>0</td>\n      <td>...</td>\n      <td>0</td>\n      <td>0</td>\n      <td>0</td>\n      <td>0</td>\n      <td>0</td>\n      <td>0</td>\n      <td>0</td>\n      <td>0</td>\n      <td>0</td>\n      <td>0</td>\n    </tr>\n    <tr>\n      <th>37</th>\n      <td>37</td>\n      <td>0</td>\n      <td>1</td>\n      <td>0</td>\n      <td>0</td>\n      <td>1</td>\n      <td>0</td>\n      <td>1</td>\n      <td>0</td>\n      <td>0</td>\n      <td>...</td>\n      <td>0</td>\n      <td>0</td>\n      <td>0</td>\n      <td>0</td>\n      <td>0</td>\n      <td>0</td>\n      <td>0</td>\n      <td>0</td>\n      <td>0</td>\n      <td>0</td>\n    </tr>\n    <tr>\n      <th>38</th>\n      <td>38</td>\n      <td>1</td>\n      <td>0</td>\n      <td>0</td>\n      <td>0</td>\n      <td>1</td>\n      <td>0</td>\n      <td>1</td>\n      <td>0</td>\n      <td>1</td>\n      <td>...</td>\n      <td>0</td>\n      <td>0</td>\n      <td>0</td>\n      <td>0</td>\n      <td>0</td>\n      <td>0</td>\n      <td>0</td>\n      <td>0</td>\n      <td>0</td>\n      <td>0</td>\n    </tr>\n    <tr>\n      <th>39</th>\n      <td>39</td>\n      <td>1</td>\n      <td>0</td>\n      <td>0</td>\n      <td>0</td>\n      <td>1</td>\n      <td>0</td>\n      <td>1</td>\n      <td>0</td>\n      <td>1</td>\n      <td>...</td>\n      <td>0</td>\n      <td>0</td>\n      <td>1</td>\n      <td>0</td>\n      <td>0</td>\n      <td>0</td>\n      <td>0</td>\n      <td>0</td>\n      <td>0</td>\n      <td>0</td>\n    </tr>\n  </tbody>\n</table>\n<p>40 rows × 75 columns</p>\n</div>"
     },
     "execution_count": 49,
     "metadata": {},
     "output_type": "execute_result"
    }
   ],
   "source": [
    "# Convert the names of columns (attributes) into sequential numbers\n",
    "def convert_index(x):\n",
    "    # The first column contains the ids of the guide, keep its name\n",
    "    if x == 'id':\n",
    "        return x\n",
    "    else:\n",
    "        return attribute_list.index(x)\n",
    "\n",
    "# Apply the transformation to the dataframe\n",
    "icm_df.rename(mapper=convert_index, axis=1, inplace=True)\n",
    "icm_df"
   ]
  },
  {
   "cell_type": "code",
   "execution_count": 50,
   "id": "394a5b7a",
   "metadata": {
    "pycharm": {
     "name": "#%%\n"
    }
   },
   "outputs": [
    {
     "data": {
      "text/plain": "      id label  value\n1      1     1      1\n2      2     1      1\n10    10     1      1\n11    11     1      1\n12    12     1      1\n...   ..   ...    ...\n2908  28    73      1\n2909  29    73      1\n2921   1    74      1\n2927   7    74      1\n2937  17    74      1\n\n[412 rows x 3 columns]",
      "text/html": "<div>\n<style scoped>\n    .dataframe tbody tr th:only-of-type {\n        vertical-align: middle;\n    }\n\n    .dataframe tbody tr th {\n        vertical-align: top;\n    }\n\n    .dataframe thead th {\n        text-align: right;\n    }\n</style>\n<table border=\"1\" class=\"dataframe\">\n  <thead>\n    <tr style=\"text-align: right;\">\n      <th></th>\n      <th>id</th>\n      <th>label</th>\n      <th>value</th>\n    </tr>\n  </thead>\n  <tbody>\n    <tr>\n      <th>1</th>\n      <td>1</td>\n      <td>1</td>\n      <td>1</td>\n    </tr>\n    <tr>\n      <th>2</th>\n      <td>2</td>\n      <td>1</td>\n      <td>1</td>\n    </tr>\n    <tr>\n      <th>10</th>\n      <td>10</td>\n      <td>1</td>\n      <td>1</td>\n    </tr>\n    <tr>\n      <th>11</th>\n      <td>11</td>\n      <td>1</td>\n      <td>1</td>\n    </tr>\n    <tr>\n      <th>12</th>\n      <td>12</td>\n      <td>1</td>\n      <td>1</td>\n    </tr>\n    <tr>\n      <th>...</th>\n      <td>...</td>\n      <td>...</td>\n      <td>...</td>\n    </tr>\n    <tr>\n      <th>2908</th>\n      <td>28</td>\n      <td>73</td>\n      <td>1</td>\n    </tr>\n    <tr>\n      <th>2909</th>\n      <td>29</td>\n      <td>73</td>\n      <td>1</td>\n    </tr>\n    <tr>\n      <th>2921</th>\n      <td>1</td>\n      <td>74</td>\n      <td>1</td>\n    </tr>\n    <tr>\n      <th>2927</th>\n      <td>7</td>\n      <td>74</td>\n      <td>1</td>\n    </tr>\n    <tr>\n      <th>2937</th>\n      <td>17</td>\n      <td>74</td>\n      <td>1</td>\n    </tr>\n  </tbody>\n</table>\n<p>412 rows × 3 columns</p>\n</div>"
     },
     "execution_count": 50,
     "metadata": {},
     "output_type": "execute_result"
    }
   ],
   "source": [
    "# Re-organize data structure for building the ICM\n",
    "\n",
    "# The dataframe is modeled such that the column 'id' is identifier variable,\n",
    "# and all other columns are \"unpivoted\" to the row axis.\n",
    "# The result has only two non-identifier columns: 'label' (attribute) and 'value'.\n",
    "icm_df = pd.melt(icm_df, id_vars='id', var_name='label')\n",
    "\n",
    "# Filter the values: only the cells with value 1 are kept in the new dataframe\n",
    "icm_df = icm_df[icm_df[\"value\"]==1]\n",
    "icm_df"
   ]
  },
  {
   "cell_type": "code",
   "execution_count": 51,
   "id": "947540a6",
   "metadata": {
    "pycharm": {
     "name": "#%%\n"
    }
   },
   "outputs": [
    {
     "data": {
      "text/plain": "<40x75 sparse matrix of type '<class 'numpy.int64'>'\n\twith 412 stored elements in Compressed Sparse Row format>"
     },
     "execution_count": 51,
     "metadata": {},
     "output_type": "execute_result"
    }
   ],
   "source": [
    "# Create the Item Content Matrix in CSR format to facilitate the computation\n",
    "# Row: guide_id, Column: attribute_id, Value: 1 if the attribute is present for the guide\n",
    "ICM_all = sps.csr_matrix(\n",
    "    (icm_df[\"value\"].values,\n",
    "    (icm_df[\"id\"].values, icm_df[\"label\"].values))\n",
    ")\n",
    "\n",
    "ICM_all"
   ]
  },
  {
   "cell_type": "code",
   "execution_count": 52,
   "id": "82540dd5",
   "metadata": {
    "pycharm": {
     "name": "#%%\n"
    }
   },
   "outputs": [
    {
     "name": "stdout",
     "output_type": "stream",
     "text": [
      "[[0 0 1 ... 0 0 0]\n",
      " [0 1 0 ... 0 0 1]\n",
      " [0 1 0 ... 0 0 0]\n",
      " ...\n",
      " [0 0 1 ... 0 0 0]\n",
      " [0 1 0 ... 0 0 0]\n",
      " [0 1 0 ... 0 0 0]]\n"
     ]
    }
   ],
   "source": [
    "# Print the matrix in dense format\n",
    "print(ICM_all.todense())"
   ]
  },
  {
   "cell_type": "markdown",
   "id": "02c77874",
   "metadata": {
    "pycharm": {
     "name": "#%% md\n"
    }
   },
   "source": [
    "### Feature Engineering\n",
    "It is possible to model the importance of the features by weighting them differently in the ICM: so we can attribute a higher value to the features that we consider more relevant for the recommendation problem, such as the languages spoken by the guides.\n",
    "\n",
    "In the considered scenario, we assume that the **language** is a hard constraint with high priority in the matching process: for communication purpose, it is reasonable that the recommended guides and the tourist speak the same language. So we aim to first guarantee this constraint.\n",
    "\n",
    "Other attributes, such as the experience or the educational background of the guides, can be further highlighted whenever necessary."
   ]
  },
  {
   "cell_type": "code",
   "execution_count": 53,
   "id": "b8288f95",
   "metadata": {
    "pycharm": {
     "name": "#%%\n"
    }
   },
   "outputs": [
    {
     "name": "stdout",
     "output_type": "stream",
     "text": [
      "0 id\n",
      "1 female\n",
      "2 male\n",
      "3 high_cost\n",
      "4 low_cost\n",
      "5 medium_cost\n",
      "6 experienced\n",
      "7 junior\n",
      "8 senior\n",
      "9 20-40\n",
      "10 40+\n",
      "11 bachelor\n",
      "12 high-school\n",
      "13 master\n",
      "14 middle-school\n",
      "15 phd\n",
      "16 Administrator, sports\n",
      "17 Air broker\n",
      "18 Animal technologist\n",
      "19 Astronomer\n",
      "20 Audiological scientist\n",
      "21 Best boy\n",
      "22 Broadcast journalist\n",
      "23 Building services engineer\n",
      "24 Counsellor\n",
      "25 Designer, exhibition/display\n",
      "26 Designer, graphic\n",
      "27 Designer, industrial/product\n",
      "28 Designer, jewellery\n",
      "29 Editor, magazine features\n",
      "30 Emergency planning/management officer\n",
      "31 Engineer, aeronautical\n",
      "32 Engineer, land\n",
      "33 Engineer, materials\n",
      "34 Environmental consultant\n",
      "35 Exhibitions officer, museum/gallery\n",
      "36 Financial planner\n",
      "37 Financial risk analyst\n",
      "38 Geochemist\n",
      "39 Holiday representative\n",
      "40 Legal secretary\n",
      "41 Local government officer\n",
      "42 Multimedia programmer\n",
      "43 Newspaper journalist\n",
      "44 Office manager\n",
      "45 Pilot, airline\n",
      "46 Secretary/administrator\n",
      "47 Systems developer\n",
      "48 Television floor manager\n",
      "49 Therapist, drama\n",
      "50 Travel agency manager\n",
      "51 Tree surgeon\n",
      "52 Warehouse manager\n",
      "53 bulgarian\n",
      "54 chinese\n",
      "55 deutsche\n",
      "56 dutch\n",
      "57 english\n",
      "58 french\n",
      "59 italian\n",
      "60 spanish\n",
      "61 archeology\n",
      "62 art\n",
      "63 beer\n",
      "64 cinema\n",
      "65 countryside\n",
      "66 food\n",
      "67 history\n",
      "68 literature\n",
      "69 museums\n",
      "70 music\n",
      "71 rafting\n",
      "72 sport\n",
      "73 tracking\n",
      "74 wine\n"
     ]
    }
   ],
   "source": [
    "# Print the full list of attributes with their indices\n",
    "for l in attribute_list:\n",
    "    print(attribute_list.index(l), l)"
   ]
  },
  {
   "cell_type": "code",
   "execution_count": 54,
   "outputs": [],
   "source": [
    "# Define which features we would like to model\n",
    "# Some examples could be 'low_cost' to consider the cost of the guide,\n",
    "# 'experienced' for the experience, '20-40' for the age, etc.\n",
    "features_to_model = ['low_cost', 'experienced', '20-40']\n",
    "\n",
    "# Define the importance of those features that we want to attribute in a positional way\n",
    "# Default weight: 1\n",
    "importance_weights = [1, 1, 1]\n",
    "\n",
    "# Extract the columns representing languages, and attribute a higher weight\n",
    "languages_columns = [54, 61]\n",
    "languages_weight = 10"
   ],
   "metadata": {
    "collapsed": false,
    "pycharm": {
     "name": "#%%\n"
    }
   }
  },
  {
   "cell_type": "code",
   "execution_count": 55,
   "outputs": [],
   "source": [
    "# Initialize the dictionaries for the chosen attributes and weights\n",
    "feature_columns_dict = dict()\n",
    "importance_weights_dict = dict()\n",
    "\n",
    "# Add the language feature to the two dictionaries\n",
    "feature_columns_dict.update({'language': languages_columns})\n",
    "importance_weights_dict.update({'language': languages_weight})"
   ],
   "metadata": {
    "collapsed": false,
    "pycharm": {
     "name": "#%%\n"
    }
   }
  },
  {
   "cell_type": "code",
   "execution_count": 56,
   "outputs": [
    {
     "name": "stdout",
     "output_type": "stream",
     "text": [
      "{'language': [54, 61], 'low_cost': 4, 'experienced': 6, '20-40': 9}\n",
      "{'language': 10, 'low_cost': 1, 'experienced': 1, '20-40': 1}\n"
     ]
    }
   ],
   "source": [
    "# Build function to extract other features' indices and the corresponding weights to attribute\n",
    "def extract_feature(name, i):\n",
    "    # Update the dictionaries with indices and weights\n",
    "    feature_columns_dict.update({name: attribute_list.index(name)})\n",
    "    importance_weights_dict.update({name: importance_weights[i]})\n",
    "\n",
    "# Execute the operation\n",
    "for i in range(len(features_to_model)):\n",
    "    extract_feature(features_to_model[i], i)\n",
    "\n",
    "print(feature_columns_dict)\n",
    "print(importance_weights_dict)"
   ],
   "metadata": {
    "collapsed": false,
    "pycharm": {
     "name": "#%%\n"
    }
   }
  },
  {
   "cell_type": "code",
   "execution_count": 57,
   "id": "6d223a92",
   "metadata": {
    "pycharm": {
     "name": "#%%\n"
    }
   },
   "outputs": [],
   "source": [
    "# Create a copy of the original ICM to modify\n",
    "new_icm_df = icm_df.copy(deep=True)"
   ]
  },
  {
   "cell_type": "code",
   "execution_count": 60,
   "id": "72c8b80d",
   "metadata": {
    "pycharm": {
     "name": "#%%\n"
    }
   },
   "outputs": [],
   "source": [
    "# Modify the cell values with respect to the weights we want to give\n",
    "for feature in importance_weights_dict:\n",
    "\n",
    "    # If the weight is not default, modify the values\n",
    "    if importance_weights_dict[feature] > 1:\n",
    "\n",
    "        # Trace all columns assigned to the languages\n",
    "        if feature=='language':\n",
    "            condition = (new_icm_df.label >= feature_columns_dict[feature][0]) & (new_icm_df.label <= feature_columns_dict[feature][1])\n",
    "\n",
    "        # Trace the specific feature\n",
    "        else:\n",
    "            condition = (new_icm_df.label == feature_columns_dict[feature])\n",
    "\n",
    "        # Find the rows with labels corresponding to the selected features, and update the values\n",
    "        new_icm_df.loc[condition, 'value'] = importance_weights_dict[feature]"
   ]
  },
  {
   "cell_type": "code",
   "execution_count": 61,
   "outputs": [
    {
     "data": {
      "text/plain": "      id label  value\n1      1     1      1\n2      2     1      1\n10    10     1      1\n11    11     1      1\n12    12     1      1\n...   ..   ...    ...\n2908  28    73      1\n2909  29    73      1\n2921   1    74      1\n2927   7    74      1\n2937  17    74      1\n\n[412 rows x 3 columns]",
      "text/html": "<div>\n<style scoped>\n    .dataframe tbody tr th:only-of-type {\n        vertical-align: middle;\n    }\n\n    .dataframe tbody tr th {\n        vertical-align: top;\n    }\n\n    .dataframe thead th {\n        text-align: right;\n    }\n</style>\n<table border=\"1\" class=\"dataframe\">\n  <thead>\n    <tr style=\"text-align: right;\">\n      <th></th>\n      <th>id</th>\n      <th>label</th>\n      <th>value</th>\n    </tr>\n  </thead>\n  <tbody>\n    <tr>\n      <th>1</th>\n      <td>1</td>\n      <td>1</td>\n      <td>1</td>\n    </tr>\n    <tr>\n      <th>2</th>\n      <td>2</td>\n      <td>1</td>\n      <td>1</td>\n    </tr>\n    <tr>\n      <th>10</th>\n      <td>10</td>\n      <td>1</td>\n      <td>1</td>\n    </tr>\n    <tr>\n      <th>11</th>\n      <td>11</td>\n      <td>1</td>\n      <td>1</td>\n    </tr>\n    <tr>\n      <th>12</th>\n      <td>12</td>\n      <td>1</td>\n      <td>1</td>\n    </tr>\n    <tr>\n      <th>...</th>\n      <td>...</td>\n      <td>...</td>\n      <td>...</td>\n    </tr>\n    <tr>\n      <th>2908</th>\n      <td>28</td>\n      <td>73</td>\n      <td>1</td>\n    </tr>\n    <tr>\n      <th>2909</th>\n      <td>29</td>\n      <td>73</td>\n      <td>1</td>\n    </tr>\n    <tr>\n      <th>2921</th>\n      <td>1</td>\n      <td>74</td>\n      <td>1</td>\n    </tr>\n    <tr>\n      <th>2927</th>\n      <td>7</td>\n      <td>74</td>\n      <td>1</td>\n    </tr>\n    <tr>\n      <th>2937</th>\n      <td>17</td>\n      <td>74</td>\n      <td>1</td>\n    </tr>\n  </tbody>\n</table>\n<p>412 rows × 3 columns</p>\n</div>"
     },
     "execution_count": 61,
     "metadata": {},
     "output_type": "execute_result"
    }
   ],
   "source": [
    "# Print the modified dataframe\n",
    "new_icm_df"
   ],
   "metadata": {
    "collapsed": false,
    "pycharm": {
     "name": "#%%\n"
    }
   }
  },
  {
   "cell_type": "code",
   "execution_count": 107,
   "id": "8b862764",
   "metadata": {
    "pycharm": {
     "name": "#%%\n"
    }
   },
   "outputs": [
    {
     "data": {
      "text/plain": "<40x78 sparse matrix of type '<class 'numpy.int64'>'\n\twith 412 stored elements in Compressed Sparse Row format>"
     },
     "execution_count": 107,
     "metadata": {},
     "output_type": "execute_result"
    }
   ],
   "source": [
    "# Build the modified ICM from the dataframe\n",
    "# Like the URM, also the ICM is built in CSR format for computational purpose\n",
    "# Row: guide_id, Column: attribute_id, Value: 1 if the attribute is present for the guide\n",
    "\n",
    "ICM_modified = sps.csr_matrix(\n",
    "    (new_icm_df[\"value\"].values,\n",
    "    (new_icm_df[\"id\"].values, new_icm_df[\"label\"].values))\n",
    ")\n",
    "\n",
    "ICM_modified"
   ]
  },
  {
   "cell_type": "code",
   "execution_count": 109,
   "id": "c617d3be",
   "metadata": {
    "pycharm": {
     "name": "#%%\n"
    }
   },
   "outputs": [],
   "source": [
    "# Define the portion of ICM used for training the model: here we use the entire ICM\n",
    "ICM_train = ICM_modified"
   ]
  },
  {
   "cell_type": "markdown",
   "id": "3ceda1a3",
   "metadata": {
    "pycharm": {
     "name": "#%% md\n"
    }
   },
   "source": [
    "## Build the model\n",
    "\n",
    "At this point all the necessary input data are prepared, and we proceed to build the recommendation algorithm.\n"
   ]
  },
  {
   "cell_type": "markdown",
   "source": [
    "### Similarity Function\n",
    "A recommendation system learns from the past ratings and/or the attributes of the users. By evaluating the similarity between the guides, it is able to suggest guides that are similar to the ones that the tourist liked in the past, and also to recommend a guide liked by a tourist to similar tourists.\n",
    "\n",
    "To determine the degree of similarity between the users, we choose to implement the **Cosine Similarity** function for the models. In our case, it consists in determining the number of common elements between two vectors $\\vec{i}$ and $\\vec{j}$ representing guides, and this can be computed with the **normalized dot product**:\n",
    "$$    s_{ij}=\\frac{\\vec{i}\\cdot \\vec{j}}{|\\vec{i}|_2\\cdot |\\vec{j}|_2}=cos(\\theta)   .$$\n",
    "\n",
    "For faster computation, we adopt a version of the cosine similarity based on vector products, with $M$ the reference matrix (URM or ICM):\n",
    "$$ W_{i,I}\n",
    "= cos(v_i, M_{I})\n",
    "= \\frac{v_i \\cdot M_{I}}{|| v_i || IW_{I} + shrink}  ,$$\n",
    "where\n",
    "$$ IW_{i} = \\sqrt{{\\Sigma_{u \\in U}{M_{u,i}^2}}}  .$$\n",
    "The shrink term is introduced to take into account the support of the vectors: vectors with larger number of non-zero elements in them are statistically more significant.\n",
    "\n",
    "Finally, the similarity values are stored in a **similarity matrix**, which establishes the pairwise correspondence between guides. This is fed to the models as weights."
   ],
   "metadata": {
    "collapsed": false,
    "pycharm": {
     "name": "#%% md\n"
    }
   }
  },
  {
   "cell_type": "code",
   "execution_count": 110,
   "outputs": [],
   "source": [
    "# Define the cosine similarity function based on vector products\n",
    "def vector_similarity(m: sps.csc_matrix, shrink: int):\n",
    "\n",
    "    # Compute the Euclidean norm of each column of the matrix m\n",
    "    item_weights = np.sqrt(\n",
    "        np.sum(m.power(2), axis=0)\n",
    "    ).A.flatten()\n",
    "\n",
    "    # Find the number of items\n",
    "    num_items = m.shape[1]\n",
    "\n",
    "    # Get the transposed matrix\n",
    "    matrix_t = m.T\n",
    "\n",
    "    # Initialize the empty weight matrix\n",
    "    weights = np.empty(shape=(num_items, num_items))\n",
    "\n",
    "    # Compute the similarity values as mentioned in the previous formula\n",
    "    # The results will be weights to give to the model\n",
    "    for item_id in range(num_items):\n",
    "        numerator = matrix_t.dot(m[:, item_id]).A.flatten()\n",
    "        denominator = item_weights[item_id] * item_weights + shrink + 1e-6\n",
    "\n",
    "        weights[item_id] = numerator / denominator\n",
    "\n",
    "    # The elements on the diagonal of the similarity matrix are set to 0,\n",
    "    # to force the fact that each element is not considered similar to itself!\n",
    "    np.fill_diagonal(weights, 0.0)\n",
    "\n",
    "    return weights"
   ],
   "metadata": {
    "collapsed": false,
    "pycharm": {
     "name": "#%%\n"
    }
   }
  },
  {
   "cell_type": "markdown",
   "source": [
    "To solve our problem, we worked on two different approaches: **Collaborative Filtering** (CF) and **Content-Based Filtering** (CBF)."
   ],
   "metadata": {
    "collapsed": false,
    "pycharm": {
     "name": "#%% md\n"
    }
   }
  },
  {
   "cell_type": "markdown",
   "id": "2dd1e1bc",
   "metadata": {
    "pycharm": {
     "name": "#%% md\n"
    }
   },
   "source": [
    "### Collaborative Filtering Model\n",
    "\n",
    "**Collaborative Filtering** models rely on the opinions of a community of tourists, without the need of guides' attributes. It essentially focuses on identifying patterns and similarities in interactions between tourists and guides based on the tourists' feedback.\n",
    "\n",
    "In this case, **item-based** collaborative filtering technique has been used. It calculates the similarity between each pair of guides, according to the number of tourists that have the same opinion on them."
   ]
  },
  {
   "cell_type": "code",
   "execution_count": 111,
   "id": "447baf10",
   "metadata": {
    "pycharm": {
     "name": "#%%\n"
    }
   },
   "outputs": [],
   "source": [
    "# Define the item-based collaborative filtering recommender\n",
    "class ItemCFRecommender(object):\n",
    "\n",
    "    # Initialize the input matrix\n",
    "    def __init__(self, URM):\n",
    "        self.URM = URM\n",
    "        \n",
    "    # Fit the recommender with a chosen shrink value\n",
    "    def fit(self, shrink=1):\n",
    "        # Compute the pairwise similarity between guides using the URM\n",
    "        self.W_matrix = vector_similarity(self.URM.tocsc(), shrink=shrink)\n",
    "        # Print the weight matrix\n",
    "        # with np.printoptions(threshold=np.inf):\n",
    "        #     print(self.W_matrix)\n",
    "\n",
    "    # Generate recommendations for each tourist\n",
    "    # at: number of guides that we want to recommend to each tourist\n",
    "    # exclude_seen: if we want to avoid recommending the guides that the tourist has rated before\n",
    "    def recommend(self, user_id, at=None, exclude_seen=True):\n",
    "        user_profile = self.URM[user_id]\n",
    "        # Compute the scores using the dot product\n",
    "        scores = user_profile.dot(self.W_matrix).ravel()\n",
    "\n",
    "        # Filter the guides\n",
    "        if exclude_seen:\n",
    "            scores = self.filter_seen(user_id, scores)\n",
    "\n",
    "        # Rank the guides\n",
    "        ranking = scores.argsort()[::-1]\n",
    "            \n",
    "        return ranking[:at]\n",
    "    \n",
    "    # Guides that have been already rated by the tourist will be excluded in the recommendation\n",
    "    def filter_seen(self, user_id, scores):\n",
    "        # Retrieve the cells regarding the interactions of that specific tourist\n",
    "        start_pos = self.URM.indptr[user_id]\n",
    "        end_pos = self.URM.indptr[user_id+1]\n",
    "\n",
    "        # Extract the user profile\n",
    "        user_profile = self.URM.indices[start_pos:end_pos]\n",
    "\n",
    "        # Set the score of already rated guides to the minimum value\n",
    "        scores[user_profile] = -np.inf\n",
    "\n",
    "        return scores"
   ]
  },
  {
   "cell_type": "markdown",
   "id": "41d3f545",
   "metadata": {
    "pycharm": {
     "name": "#%% md\n"
    }
   },
   "source": [
    "### Content-Based Filtering Model\n",
    "\n",
    "A **Content-Based Filtering** model recommends guides to tourists based on the attributes of the guides themselves. It stands upon the assumption of recommending items similar to the ones a user liked in the past, and it requires a list of good quality attributes for the guides to work properly.\n",
    "\n",
    "In this case **item-based** CBF technique has been used. It suggests guides to tourists according to the similarity weights computed on the guides: two guides are similar if they have a great part of attributes in common."
   ]
  },
  {
   "cell_type": "code",
   "execution_count": 112,
   "id": "c0a31a9d",
   "metadata": {
    "pycharm": {
     "name": "#%%\n"
    }
   },
   "outputs": [],
   "source": [
    "# Define the item-based content-based filtering recommender\n",
    "class ItemCBFRecommender(object):\n",
    "\n",
    "    # Initialize the input matrices\n",
    "    def __init__(self, URM, ICM):\n",
    "        self.URM = URM\n",
    "        self.ICM = ICM\n",
    "\n",
    "    # Fit the recommender with a chosen shrink value\n",
    "    def fit(self, shrink=1):\n",
    "        # Compute the pairwise similarity between guides using the transposed ICM\n",
    "        self.W_matrix = vector_similarity(self.ICM.T.tocsc(), shrink=shrink)\n",
    "        # with np.printoptions(threshold=np.inf):\n",
    "        #     print(self.W_matrix)\n",
    "\n",
    "    # Generate recommendations for each tourist\n",
    "    # at: number of guides that we want to recommend to each tourist\n",
    "    # exclude_seen: if we want to avoid recommending the guides that the tourist has rated before\n",
    "    def recommend(self, user_id, at=None, exclude_seen=True):\n",
    "        user_profile = self.URM[user_id]\n",
    "        # Compute the scores using the dot product\n",
    "        scores = user_profile.dot(self.W_matrix).ravel()\n",
    "\n",
    "        # Filter the guides\n",
    "        if exclude_seen:\n",
    "            scores = self.filter_seen(user_id, scores)\n",
    "\n",
    "        # Rank the guides\n",
    "        ranking = scores.argsort()[::-1]\n",
    "\n",
    "        return ranking[:at]\n",
    "\n",
    "    # Guides that have been already rated by the tourist will be excluded in the recommendation\n",
    "    def filter_seen(self, user_id, scores):\n",
    "\n",
    "        # Retrieve the cells regarding the interactions of that specific tourist\n",
    "        start_pos = self.URM.indptr[user_id]\n",
    "        end_pos = self.URM.indptr[user_id+1]\n",
    "\n",
    "        # Extract the user profile\n",
    "        user_profile = self.URM.indices[start_pos:end_pos]\n",
    "\n",
    "        # Set the score of already rated guides to the minimum value\n",
    "        scores[user_profile] = -np.inf\n",
    "\n",
    "        return scores"
   ]
  },
  {
   "cell_type": "markdown",
   "id": "2b4149d9",
   "metadata": {
    "pycharm": {
     "name": "#%% md\n"
    }
   },
   "source": [
    "## Fit the model\n",
    "The recommenders are built and fit on the available input data."
   ]
  },
  {
   "cell_type": "code",
   "execution_count": 114,
   "id": "88242895",
   "metadata": {
    "pycharm": {
     "name": "#%%\n"
    }
   },
   "outputs": [],
   "source": [
    "# Select if building a collaborative filtering model or a content-based filtering model\n",
    "# Available options: 'cf', 'cbf'\n",
    "model_type = 'cbf'"
   ]
  },
  {
   "cell_type": "code",
   "execution_count": 115,
   "id": "c56de8e2",
   "metadata": {
    "pycharm": {
     "name": "#%%\n"
    }
   },
   "outputs": [
    {
     "name": "stdout",
     "output_type": "stream",
     "text": [
      "[[0.         0.         0.23278381 0.         0.         0.\n",
      "  0.1480595  0.         0.200763   0.         0.         0.\n",
      "  0.         0.         0.         0.         0.         0.\n",
      "  0.         0.         0.         0.         0.         0.\n",
      "  0.         0.         0.         0.         0.         0.\n",
      "  0.16996397 0.         0.         0.         0.         0.\n",
      "  0.         0.         0.         0.        ]\n",
      " [0.         0.         0.         0.         0.         0.\n",
      "  0.         0.         0.         0.         0.         0.\n",
      "  0.15917231 0.         0.         0.         0.         0.\n",
      "  0.         0.         0.         0.         0.         0.15410449\n",
      "  0.         0.         0.         0.         0.         0.\n",
      "  0.         0.         0.         0.         0.         0.14959189\n",
      "  0.         0.         0.         0.        ]\n",
      " [0.23278381 0.         0.         0.         0.         0.\n",
      "  0.17766303 0.         0.         0.         0.         0.\n",
      "  0.         0.         0.16463436 0.         0.         0.\n",
      "  0.         0.11730461 0.         0.         0.         0.\n",
      "  0.         0.         0.         0.         0.         0.\n",
      "  0.         0.10722819 0.         0.         0.         0.\n",
      "  0.         0.         0.         0.        ]\n",
      " [0.         0.         0.         0.         0.         0.\n",
      "  0.         0.         0.         0.         0.         0.\n",
      "  0.         0.         0.         0.         0.         0.\n",
      "  0.         0.         0.         0.         0.         0.\n",
      "  0.         0.         0.         0.         0.         0.\n",
      "  0.         0.         0.         0.         0.         0.\n",
      "  0.         0.         0.         0.        ]\n",
      " [0.         0.         0.         0.         0.         0.12001591\n",
      "  0.16762926 0.         0.         0.         0.         0.\n",
      "  0.         0.         0.         0.         0.         0.\n",
      "  0.         0.         0.         0.         0.         0.\n",
      "  0.         0.         0.         0.         0.         0.\n",
      "  0.         0.11562029 0.14828751 0.         0.         0.\n",
      "  0.         0.         0.         0.        ]\n",
      " [0.         0.         0.         0.         0.12001591 0.\n",
      "  0.         0.         0.         0.11080332 0.36870069 0.\n",
      "  0.         0.         0.         0.         0.         0.1571838\n",
      "  0.         0.         0.06098642 0.         0.         0.\n",
      "  0.         0.         0.23146292 0.         0.         0.\n",
      "  0.10156471 0.         0.         0.         0.         0.\n",
      "  0.         0.         0.         0.        ]\n",
      " [0.1480595  0.         0.17766303 0.         0.16762926 0.\n",
      "  0.         0.         0.09578815 0.0707342  0.         0.\n",
      "  0.06077239 0.         0.07851597 0.07852056 0.         0.\n",
      "  0.         0.         0.14598926 0.         0.         0.04416781\n",
      "  0.         0.         0.         0.         0.         0.05849213\n",
      "  0.         0.         0.         0.         0.         0.\n",
      "  0.         0.         0.         0.        ]\n",
      " [0.         0.         0.         0.         0.         0.\n",
      "  0.         0.         0.         0.         0.         0.\n",
      "  0.17042868 0.         0.         0.         0.         0.\n",
      "  0.         0.         0.         0.         0.04168021 0.09785382\n",
      "  0.         0.         0.         0.         0.         0.\n",
      "  0.         0.         0.         0.         0.         0.\n",
      "  0.17045472 0.12784104 0.         0.11872372]\n",
      " [0.200763   0.         0.         0.         0.         0.\n",
      "  0.09578815 0.         0.         0.         0.         0.\n",
      "  0.         0.16853608 0.         0.         0.14112881 0.\n",
      "  0.         0.         0.         0.         0.10089401 0.\n",
      "  0.         0.         0.         0.         0.         0.\n",
      "  0.         0.         0.         0.         0.06789039 0.\n",
      "  0.         0.         0.         0.        ]\n",
      " [0.         0.         0.         0.         0.         0.11080332\n",
      "  0.0707342  0.         0.         0.         0.         0.\n",
      "  0.         0.         0.         0.         0.         0.\n",
      "  0.         0.         0.         0.         0.05588079 0.\n",
      "  0.09285382 0.         0.         0.         0.         0.22599885\n",
      "  0.10156471 0.         0.         0.         0.         0.\n",
      "  0.         0.         0.         0.11937951]\n",
      " [0.         0.         0.         0.         0.         0.36870069\n",
      "  0.         0.         0.         0.         0.         0.\n",
      "  0.         0.         0.         0.         0.         0.\n",
      "  0.         0.         0.         0.         0.         0.\n",
      "  0.         0.         0.         0.         0.         0.12270667\n",
      "  0.         0.         0.22925002 0.         0.         0.\n",
      "  0.         0.         0.         0.        ]\n",
      " [0.         0.         0.         0.         0.         0.\n",
      "  0.         0.         0.         0.         0.         0.\n",
      "  0.         0.         0.         0.         0.1480605  0.\n",
      "  0.         0.         0.         0.         0.         0.\n",
      "  0.         0.         0.         0.         0.         0.\n",
      "  0.         0.         0.         0.         0.11871743 0.\n",
      "  0.         0.         0.         0.        ]\n",
      " [0.         0.15917231 0.         0.         0.         0.\n",
      "  0.06077239 0.17042868 0.         0.         0.         0.\n",
      "  0.         0.         0.         0.         0.         0.13509841\n",
      "  0.10830542 0.         0.         0.         0.         0.\n",
      "  0.         0.         0.         0.16887301 0.         0.\n",
      "  0.         0.         0.         0.11197238 0.         0.08206237\n",
      "  0.         0.         0.         0.        ]\n",
      " [0.         0.         0.         0.         0.         0.\n",
      "  0.         0.         0.16853608 0.         0.         0.\n",
      "  0.         0.         0.         0.         0.         0.\n",
      "  0.         0.         0.         0.         0.         0.13821113\n",
      "  0.         0.         0.         0.         0.         0.\n",
      "  0.         0.08997637 0.         0.         0.07044567 0.\n",
      "  0.         0.         0.         0.        ]\n",
      " [0.         0.         0.16463436 0.         0.         0.\n",
      "  0.07851597 0.         0.         0.         0.         0.\n",
      "  0.         0.         0.         0.         0.         0.\n",
      "  0.         0.         0.         0.         0.11026657 0.\n",
      "  0.         0.         0.         0.         0.         0.\n",
      "  0.         0.         0.         0.         0.         0.\n",
      "  0.         0.         0.         0.        ]\n",
      " [0.         0.         0.         0.         0.         0.\n",
      "  0.07852056 0.         0.         0.         0.         0.\n",
      "  0.         0.         0.         0.         0.         0.\n",
      "  0.         0.         0.18052606 0.         0.         0.\n",
      "  0.         0.         0.         0.         0.         0.\n",
      "  0.1409161  0.11848527 0.         0.         0.         0.\n",
      "  0.         0.         0.         0.        ]\n",
      " [0.         0.         0.         0.         0.         0.\n",
      "  0.         0.         0.14112881 0.         0.         0.1480605\n",
      "  0.         0.         0.         0.         0.         0.\n",
      "  0.         0.         0.         0.         0.         0.\n",
      "  0.         0.         0.         0.         0.16340431 0.\n",
      "  0.         0.         0.         0.20425539 0.09827891 0.\n",
      "  0.         0.         0.         0.        ]\n",
      " [0.         0.         0.         0.         0.         0.1571838\n",
      "  0.         0.         0.         0.         0.         0.\n",
      "  0.13509841 0.         0.         0.         0.         0.\n",
      "  0.         0.         0.         0.         0.         0.\n",
      "  0.         0.         0.         0.         0.         0.\n",
      "  0.         0.         0.         0.         0.         0.\n",
      "  0.         0.         0.         0.        ]\n",
      " [0.         0.         0.         0.         0.         0.\n",
      "  0.         0.         0.         0.         0.         0.\n",
      "  0.10830542 0.         0.         0.         0.         0.\n",
      "  0.         0.         0.         0.         0.         0.\n",
      "  0.1056221  0.         0.         0.13406138 0.         0.\n",
      "  0.         0.         0.         0.         0.         0.10863502\n",
      "  0.         0.19492628 0.         0.        ]\n",
      " [0.         0.         0.11730461 0.         0.         0.\n",
      "  0.         0.         0.         0.         0.         0.\n",
      "  0.         0.         0.         0.         0.         0.\n",
      "  0.         0.         0.06427649 0.         0.         0.\n",
      "  0.         0.         0.         0.         0.         0.\n",
      "  0.         0.08999916 0.         0.         0.         0.\n",
      "  0.         0.         0.         0.        ]\n",
      " [0.         0.         0.         0.         0.         0.06098642\n",
      "  0.14598926 0.         0.         0.         0.         0.\n",
      "  0.         0.         0.         0.18052606 0.         0.\n",
      "  0.         0.06427649 0.         0.         0.         0.\n",
      "  0.         0.         0.         0.         0.         0.\n",
      "  0.16305139 0.         0.12568663 0.09562667 0.         0.\n",
      "  0.         0.         0.         0.        ]\n",
      " [0.         0.         0.         0.         0.         0.\n",
      "  0.         0.         0.         0.         0.         0.\n",
      "  0.         0.         0.         0.         0.         0.\n",
      "  0.         0.         0.         0.         0.         0.\n",
      "  0.         0.         0.         0.         0.         0.\n",
      "  0.         0.         0.         0.         0.         0.\n",
      "  0.         0.         0.         0.        ]\n",
      " [0.         0.         0.         0.         0.         0.\n",
      "  0.         0.04168021 0.10089401 0.05588079 0.         0.\n",
      "  0.         0.         0.11026657 0.         0.         0.\n",
      "  0.         0.         0.         0.         0.         0.\n",
      "  0.         0.         0.         0.         0.41625042 0.08214908\n",
      "  0.         0.         0.         0.         0.15448626 0.\n",
      "  0.         0.         0.         0.10034672]\n",
      " [0.         0.15410449 0.         0.         0.         0.\n",
      "  0.04416781 0.09785382 0.         0.         0.         0.\n",
      "  0.         0.13821113 0.         0.         0.         0.\n",
      "  0.         0.         0.         0.         0.         0.\n",
      "  0.16104254 0.         0.         0.         0.         0.\n",
      "  0.         0.         0.         0.         0.         0.1060075\n",
      "  0.         0.         0.26266009 0.        ]\n",
      " [0.         0.         0.         0.         0.         0.\n",
      "  0.         0.         0.         0.09285382 0.         0.\n",
      "  0.         0.         0.         0.         0.         0.\n",
      "  0.1056221  0.         0.         0.         0.         0.16104254\n",
      "  0.         0.         0.         0.         0.         0.\n",
      "  0.         0.         0.         0.         0.06564299 0.07502977\n",
      "  0.         0.         0.18595644 0.        ]\n",
      " [0.         0.         0.         0.         0.         0.\n",
      "  0.         0.         0.         0.         0.         0.\n",
      "  0.         0.         0.         0.         0.         0.\n",
      "  0.         0.         0.         0.         0.         0.\n",
      "  0.         0.         0.         0.         0.         0.\n",
      "  0.         0.         0.         0.         0.         0.\n",
      "  0.         0.         0.         0.        ]\n",
      " [0.         0.         0.         0.         0.         0.23146292\n",
      "  0.         0.         0.         0.         0.         0.\n",
      "  0.         0.         0.         0.         0.         0.\n",
      "  0.         0.         0.         0.         0.         0.\n",
      "  0.         0.         0.         0.         0.         0.\n",
      "  0.         0.         0.         0.         0.         0.\n",
      "  0.         0.35744488 0.         0.        ]\n",
      " [0.         0.         0.         0.         0.         0.\n",
      "  0.         0.         0.         0.         0.         0.\n",
      "  0.16887301 0.         0.         0.         0.         0.\n",
      "  0.13406138 0.         0.         0.         0.         0.\n",
      "  0.         0.         0.         0.         0.         0.\n",
      "  0.         0.         0.         0.         0.         0.\n",
      "  0.         0.         0.         0.        ]\n",
      " [0.         0.         0.         0.         0.         0.\n",
      "  0.         0.         0.         0.         0.         0.\n",
      "  0.         0.         0.         0.         0.16340431 0.\n",
      "  0.         0.         0.         0.         0.41625042 0.\n",
      "  0.         0.         0.         0.         0.         0.\n",
      "  0.         0.         0.         0.         0.         0.\n",
      "  0.         0.         0.         0.        ]\n",
      " [0.         0.         0.         0.         0.         0.\n",
      "  0.05849213 0.         0.         0.22599885 0.12270667 0.\n",
      "  0.         0.         0.         0.         0.         0.\n",
      "  0.         0.         0.         0.         0.08214908 0.\n",
      "  0.         0.         0.         0.         0.         0.\n",
      "  0.         0.         0.16107405 0.         0.12436607 0.\n",
      "  0.         0.         0.         0.        ]\n",
      " [0.16996397 0.         0.         0.         0.         0.10156471\n",
      "  0.         0.         0.         0.10156471 0.         0.\n",
      "  0.         0.         0.         0.1409161  0.         0.\n",
      "  0.         0.         0.16305139 0.         0.         0.\n",
      "  0.         0.         0.         0.         0.         0.\n",
      "  0.         0.09784281 0.         0.         0.         0.\n",
      "  0.         0.         0.         0.        ]\n",
      " [0.         0.         0.10722819 0.         0.11562029 0.\n",
      "  0.         0.         0.         0.         0.         0.\n",
      "  0.         0.08997637 0.         0.11848527 0.         0.\n",
      "  0.         0.08999916 0.         0.         0.         0.\n",
      "  0.         0.         0.         0.         0.         0.\n",
      "  0.09784281 0.         0.         0.16735813 0.         0.\n",
      "  0.         0.         0.         0.        ]\n",
      " [0.         0.         0.         0.         0.14828751 0.\n",
      "  0.         0.         0.         0.         0.22925002 0.\n",
      "  0.         0.         0.         0.         0.         0.\n",
      "  0.         0.         0.12568663 0.         0.         0.\n",
      "  0.         0.         0.         0.         0.         0.16107405\n",
      "  0.         0.         0.         0.         0.         0.\n",
      "  0.         0.         0.         0.        ]\n",
      " [0.         0.         0.         0.         0.         0.\n",
      "  0.         0.         0.         0.         0.         0.\n",
      "  0.11197238 0.         0.         0.         0.20425539 0.\n",
      "  0.         0.         0.09562667 0.         0.         0.\n",
      "  0.         0.         0.         0.         0.         0.\n",
      "  0.         0.16735813 0.         0.         0.         0.\n",
      "  0.         0.         0.         0.        ]\n",
      " [0.         0.         0.         0.         0.         0.\n",
      "  0.         0.         0.06789039 0.         0.         0.11871743\n",
      "  0.         0.07044567 0.         0.         0.09827891 0.\n",
      "  0.         0.         0.         0.         0.15448626 0.\n",
      "  0.06564299 0.         0.         0.         0.         0.12436607\n",
      "  0.         0.         0.         0.         0.         0.05401411\n",
      "  0.         0.         0.         0.09002352]\n",
      " [0.         0.14959189 0.         0.         0.         0.\n",
      "  0.         0.         0.         0.         0.         0.\n",
      "  0.08206237 0.         0.         0.         0.         0.\n",
      "  0.10863502 0.         0.         0.         0.         0.1060075\n",
      "  0.07502977 0.         0.         0.         0.         0.\n",
      "  0.         0.         0.         0.         0.05401411 0.\n",
      "  0.         0.         0.         0.        ]\n",
      " [0.         0.         0.         0.         0.         0.\n",
      "  0.         0.17045472 0.         0.         0.         0.\n",
      "  0.         0.         0.         0.         0.         0.\n",
      "  0.         0.         0.         0.         0.         0.\n",
      "  0.         0.         0.         0.         0.         0.\n",
      "  0.         0.         0.         0.         0.         0.\n",
      "  0.         0.         0.         0.18463931]\n",
      " [0.         0.         0.         0.         0.         0.\n",
      "  0.         0.12784104 0.         0.         0.         0.\n",
      "  0.         0.         0.         0.         0.         0.\n",
      "  0.19492628 0.         0.         0.         0.         0.\n",
      "  0.         0.         0.35744488 0.         0.         0.\n",
      "  0.         0.         0.         0.         0.         0.\n",
      "  0.         0.         0.         0.        ]\n",
      " [0.         0.         0.         0.         0.         0.\n",
      "  0.         0.         0.         0.         0.         0.\n",
      "  0.         0.         0.         0.         0.         0.\n",
      "  0.         0.         0.         0.         0.         0.26266009\n",
      "  0.18595644 0.         0.         0.         0.         0.\n",
      "  0.         0.         0.         0.         0.         0.\n",
      "  0.         0.         0.         0.        ]\n",
      " [0.         0.         0.         0.         0.         0.\n",
      "  0.         0.11872372 0.         0.11937951 0.         0.\n",
      "  0.         0.         0.         0.         0.         0.\n",
      "  0.         0.         0.         0.         0.10034672 0.\n",
      "  0.         0.         0.         0.         0.         0.\n",
      "  0.         0.         0.         0.         0.09002352 0.\n",
      "  0.18463931 0.         0.         0.        ]]\n"
     ]
    }
   ],
   "source": [
    "# Collaborative filtering model\n",
    "# Input data: URM\n",
    "# The shrink value is a non-negative number that can be tuned\n",
    "if model_type == 'cf':\n",
    "    recommender = ItemCFRecommender(URM_train)\n",
    "    recommender.fit(shrink=0.5)"
   ]
  },
  {
   "cell_type": "code",
   "execution_count": 116,
   "outputs": [],
   "source": [
    "# Content-based filtering model\n",
    "# Input data: URM and ICM\n",
    "# The shrink value is a non-negative number that can be tuned\n",
    "if model_type == 'cbf':\n",
    "    recommender = ItemCBFRecommender(URM_train, ICM_train)\n",
    "    recommender.fit(shrink=0.5)"
   ],
   "metadata": {
    "collapsed": false,
    "pycharm": {
     "name": "#%%\n"
    }
   }
  },
  {
   "cell_type": "markdown",
   "source": [
    "## Generate outputs\n",
    "\n",
    "Here the generation of recommendations of guides to each tourist is reported."
   ],
   "metadata": {
    "collapsed": false,
    "pycharm": {
     "name": "#%% md\n"
    }
   }
  },
  {
   "cell_type": "code",
   "execution_count": 117,
   "outputs": [],
   "source": [
    "# Set the number of guides to recommend to each tourist\n",
    "n_recommendations_per_tourist = 5"
   ],
   "metadata": {
    "collapsed": false,
    "pycharm": {
     "name": "#%%\n"
    }
   }
  },
  {
   "cell_type": "code",
   "execution_count": 118,
   "outputs": [
    {
     "name": "stderr",
     "output_type": "stream",
     "text": [
      "200it [00:00, 16667.87it/s]\n"
     ]
    }
   ],
   "source": [
    "# Generate recommendations for each tourist\n",
    "recommendations = []\n",
    "\n",
    "for i,id in tqdm(enumerate(arr_tourists)):\n",
    "    # at: number of guides to recommend to each tourist\n",
    "    # exclude_seen: if we want to exclude the guides already rated by this tourist\n",
    "    rec = recommender.recommend(id, at=n_recommendations_per_tourist, exclude_seen=True)\n",
    "    rec_list = rec\n",
    "\n",
    "    # Produce a string with the ids of the recommended guides\n",
    "    rec_row = ' '.join(str(s) for s in rec_list)\n",
    "    recommendations.append(rec_row)"
   ],
   "metadata": {
    "collapsed": false,
    "pycharm": {
     "name": "#%%\n"
    }
   }
  },
  {
   "cell_type": "code",
   "execution_count": 119,
   "outputs": [
    {
     "name": "stdout",
     "output_type": "stream",
     "text": [
      "For user 0 recommended guides: 5 29 4 20 3\n",
      "For user 1 recommended guides: 30 6 32 33 31\n",
      "For user 2 recommended guides: 28 29 39 8 11\n",
      "For user 3 recommended guides: 33 15 4 2 30\n",
      "For user 4 recommended guides: 28 2 34 8 39\n",
      "For user 5 recommended guides: 27 7 35 1 37\n",
      "For user 6 recommended guides: 39 38 17 16 15\n",
      "For user 7 recommended guides: 32 22 6 34 10\n",
      "For user 8 recommended guides: 8 23 31 34 39\n",
      "For user 9 recommended guides: 39 12 37 23 22\n"
     ]
    }
   ],
   "source": [
    "# Print recommendations for the first 10 users\n",
    "for i in range(10):\n",
    "    print(\"User \" + str(arr_tourists[i]) + \" - recommended guides: \" + recommendations[i])"
   ],
   "metadata": {
    "collapsed": false,
    "pycharm": {
     "name": "#%%\n"
    }
   }
  },
  {
   "cell_type": "code",
   "execution_count": 120,
   "outputs": [
    {
     "data": {
      "text/plain": "     tourist_id          guides\n0             0     5 29 4 20 3\n1             1   30 6 32 33 31\n2             2   28 29 39 8 11\n3             3    33 15 4 2 30\n4             4    28 2 34 8 39\n..          ...             ...\n195         195    2 22 6 39 10\n196         196  37 27 35 12 24\n197         197    10 26 17 4 9\n198         198  37 27 35 12 24\n199         199  22 29 11 16 39\n\n[200 rows x 2 columns]",
      "text/html": "<div>\n<style scoped>\n    .dataframe tbody tr th:only-of-type {\n        vertical-align: middle;\n    }\n\n    .dataframe tbody tr th {\n        vertical-align: top;\n    }\n\n    .dataframe thead th {\n        text-align: right;\n    }\n</style>\n<table border=\"1\" class=\"dataframe\">\n  <thead>\n    <tr style=\"text-align: right;\">\n      <th></th>\n      <th>tourist_id</th>\n      <th>guides</th>\n    </tr>\n  </thead>\n  <tbody>\n    <tr>\n      <th>0</th>\n      <td>0</td>\n      <td>5 29 4 20 3</td>\n    </tr>\n    <tr>\n      <th>1</th>\n      <td>1</td>\n      <td>30 6 32 33 31</td>\n    </tr>\n    <tr>\n      <th>2</th>\n      <td>2</td>\n      <td>28 29 39 8 11</td>\n    </tr>\n    <tr>\n      <th>3</th>\n      <td>3</td>\n      <td>33 15 4 2 30</td>\n    </tr>\n    <tr>\n      <th>4</th>\n      <td>4</td>\n      <td>28 2 34 8 39</td>\n    </tr>\n    <tr>\n      <th>...</th>\n      <td>...</td>\n      <td>...</td>\n    </tr>\n    <tr>\n      <th>195</th>\n      <td>195</td>\n      <td>2 22 6 39 10</td>\n    </tr>\n    <tr>\n      <th>196</th>\n      <td>196</td>\n      <td>37 27 35 12 24</td>\n    </tr>\n    <tr>\n      <th>197</th>\n      <td>197</td>\n      <td>10 26 17 4 9</td>\n    </tr>\n    <tr>\n      <th>198</th>\n      <td>198</td>\n      <td>37 27 35 12 24</td>\n    </tr>\n    <tr>\n      <th>199</th>\n      <td>199</td>\n      <td>22 29 11 16 39</td>\n    </tr>\n  </tbody>\n</table>\n<p>200 rows × 2 columns</p>\n</div>"
     },
     "execution_count": 120,
     "metadata": {},
     "output_type": "execute_result"
    }
   ],
   "source": [
    "# Show the output dataframe\n",
    "result_df = pd.DataFrame(\n",
    "    data = {'tourist_id': arr_tourists,\n",
    "            'guides': recommendations}\n",
    ")\n",
    "\n",
    "result_df"
   ],
   "metadata": {
    "collapsed": false,
    "pycharm": {
     "name": "#%%\n"
    }
   }
  },
  {
   "cell_type": "markdown",
   "source": [
    "Let's randomly choose a tourist and check for information of recommended guides."
   ],
   "metadata": {
    "collapsed": false,
    "pycharm": {
     "name": "#%% md\n"
    }
   }
  },
  {
   "cell_type": "code",
   "execution_count": 121,
   "outputs": [
    {
     "data": {
      "text/plain": "                    50\nid                  50\nlanguages  ['chinese']\nkeywords    ['cinema']",
      "text/html": "<div>\n<style scoped>\n    .dataframe tbody tr th:only-of-type {\n        vertical-align: middle;\n    }\n\n    .dataframe tbody tr th {\n        vertical-align: top;\n    }\n\n    .dataframe thead th {\n        text-align: right;\n    }\n</style>\n<table border=\"1\" class=\"dataframe\">\n  <thead>\n    <tr style=\"text-align: right;\">\n      <th></th>\n      <th>50</th>\n    </tr>\n  </thead>\n  <tbody>\n    <tr>\n      <th>id</th>\n      <td>50</td>\n    </tr>\n    <tr>\n      <th>languages</th>\n      <td>['chinese']</td>\n    </tr>\n    <tr>\n      <th>keywords</th>\n      <td>['cinema']</td>\n    </tr>\n  </tbody>\n</table>\n</div>"
     },
     "execution_count": 121,
     "metadata": {},
     "output_type": "execute_result"
    }
   ],
   "source": [
    "# Show some examples: select a tourist by id to visualize the received recommendations\n",
    "sample_tourist = 50\n",
    "\n",
    "# Show the selected tourist\n",
    "pd.DataFrame(tourist_df.loc[sample_tourist,:])"
   ],
   "metadata": {
    "collapsed": false,
    "pycharm": {
     "name": "#%%\n"
    }
   }
  },
  {
   "cell_type": "code",
   "execution_count": 122,
   "outputs": [
    {
     "data": {
      "text/plain": "    id  gender           name  birth_date  now_available  \\\n22  22  female  Shannon Oneal  1976-06-09           True   \n29  29  female       Dana Cox  1988-11-28           True   \n11  11  female    Rhonda Hull  1960-12-06           True   \n16  16    male    Steven Sims  1962-12-17           True   \n39  39  female   Alice Lester  1973-03-02           True   \n\n                languages_spoken  price      education  \\\n22            [chinese, spanish]     25    high-school   \n29          [bulgarian, chinese]     28         master   \n11                   [bulgarian]     23            phd   \n16  [spanish, bulgarian, french]     32  middle-school   \n39              [spanish, dutch]     26  middle-school   \n\n                       biography  \\\n22           Information officer   \n29             Market researcher   \n11  Garment/textile technologist   \n16     Psychologist, counselling   \n39             Minerals surveyor   \n\n                                             keywords  \\\n22  [history, countryside, cinema, literature, music]   \n29                 [archeology, literature, tracking]   \n11                            [cinema, beer, rafting]   \n16                         [countryside, music, beer]   \n39                                          [history]   \n\n                                     current_location  experience  \n22  {'lat': 40.36846436096489, 'lon': 18.171263566...           6  \n29  {'lat': 40.35465462623879, 'lon': 18.172666005...          10  \n11  {'lat': 40.367394960036485, 'lon': 18.17553586...          25  \n16  {'lat': 40.32347428820915, 'lon': 18.164571467...           2  \n39  {'lat': 40.35901486939172, 'lon': 18.166553513...           1  ",
      "text/html": "<div>\n<style scoped>\n    .dataframe tbody tr th:only-of-type {\n        vertical-align: middle;\n    }\n\n    .dataframe tbody tr th {\n        vertical-align: top;\n    }\n\n    .dataframe thead th {\n        text-align: right;\n    }\n</style>\n<table border=\"1\" class=\"dataframe\">\n  <thead>\n    <tr style=\"text-align: right;\">\n      <th></th>\n      <th>id</th>\n      <th>gender</th>\n      <th>name</th>\n      <th>birth_date</th>\n      <th>now_available</th>\n      <th>languages_spoken</th>\n      <th>price</th>\n      <th>education</th>\n      <th>biography</th>\n      <th>keywords</th>\n      <th>current_location</th>\n      <th>experience</th>\n    </tr>\n  </thead>\n  <tbody>\n    <tr>\n      <th>22</th>\n      <td>22</td>\n      <td>female</td>\n      <td>Shannon Oneal</td>\n      <td>1976-06-09</td>\n      <td>True</td>\n      <td>[chinese, spanish]</td>\n      <td>25</td>\n      <td>high-school</td>\n      <td>Information officer</td>\n      <td>[history, countryside, cinema, literature, music]</td>\n      <td>{'lat': 40.36846436096489, 'lon': 18.171263566...</td>\n      <td>6</td>\n    </tr>\n    <tr>\n      <th>29</th>\n      <td>29</td>\n      <td>female</td>\n      <td>Dana Cox</td>\n      <td>1988-11-28</td>\n      <td>True</td>\n      <td>[bulgarian, chinese]</td>\n      <td>28</td>\n      <td>master</td>\n      <td>Market researcher</td>\n      <td>[archeology, literature, tracking]</td>\n      <td>{'lat': 40.35465462623879, 'lon': 18.172666005...</td>\n      <td>10</td>\n    </tr>\n    <tr>\n      <th>11</th>\n      <td>11</td>\n      <td>female</td>\n      <td>Rhonda Hull</td>\n      <td>1960-12-06</td>\n      <td>True</td>\n      <td>[bulgarian]</td>\n      <td>23</td>\n      <td>phd</td>\n      <td>Garment/textile technologist</td>\n      <td>[cinema, beer, rafting]</td>\n      <td>{'lat': 40.367394960036485, 'lon': 18.17553586...</td>\n      <td>25</td>\n    </tr>\n    <tr>\n      <th>16</th>\n      <td>16</td>\n      <td>male</td>\n      <td>Steven Sims</td>\n      <td>1962-12-17</td>\n      <td>True</td>\n      <td>[spanish, bulgarian, french]</td>\n      <td>32</td>\n      <td>middle-school</td>\n      <td>Psychologist, counselling</td>\n      <td>[countryside, music, beer]</td>\n      <td>{'lat': 40.32347428820915, 'lon': 18.164571467...</td>\n      <td>2</td>\n    </tr>\n    <tr>\n      <th>39</th>\n      <td>39</td>\n      <td>female</td>\n      <td>Alice Lester</td>\n      <td>1973-03-02</td>\n      <td>True</td>\n      <td>[spanish, dutch]</td>\n      <td>26</td>\n      <td>middle-school</td>\n      <td>Minerals surveyor</td>\n      <td>[history]</td>\n      <td>{'lat': 40.35901486939172, 'lon': 18.166553513...</td>\n      <td>1</td>\n    </tr>\n  </tbody>\n</table>\n</div>"
     },
     "execution_count": 122,
     "metadata": {},
     "output_type": "execute_result"
    }
   ],
   "source": [
    "# Extract the indices of the recommended guides\n",
    "sample_guide_list = list(map(int, recommendations[sample_tourist].split(\" \")))\n",
    "\n",
    "# Show the list of recommended guides\n",
    "guide_df.loc[sample_guide_list,:]"
   ],
   "metadata": {
    "collapsed": false,
    "pycharm": {
     "name": "#%%\n"
    }
   }
  }
 ],
 "metadata": {
  "kernelspec": {
   "display_name": "Python 3 (ipykernel)",
   "language": "python",
   "name": "python3"
  },
  "language_info": {
   "codemirror_mode": {
    "name": "ipython",
    "version": 3
   },
   "file_extension": ".py",
   "mimetype": "text/x-python",
   "name": "python",
   "nbconvert_exporter": "python",
   "pygments_lexer": "ipython3",
   "version": "3.9.12"
  }
 },
 "nbformat": 4,
 "nbformat_minor": 5
}
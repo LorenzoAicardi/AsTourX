{
 "cells": [
  {
   "cell_type": "markdown",
   "id": "89749ce3",
   "metadata": {
    "pycharm": {
     "name": "#%% md\n"
    }
   },
   "source": [
    "# Fake data generation"
   ]
  },
  {
   "cell_type": "code",
   "execution_count": 105,
   "id": "5c93a1fc",
   "metadata": {
    "pycharm": {
     "name": "#%%\n"
    }
   },
   "outputs": [],
   "source": [
    "import numpy as np\n",
    "import pandas as pd\n",
    "import random\n",
    "\n",
    "from faker import Faker"
   ]
  },
  {
   "cell_type": "code",
   "execution_count": 106,
   "id": "cc09c43b",
   "metadata": {
    "pycharm": {
     "name": "#%%\n"
    }
   },
   "outputs": [],
   "source": [
    "# Set random seed\n",
    "seed = 666\n",
    "\n",
    "random.seed(seed)\n",
    "faker = Faker(seed=seed)\n",
    "np.random.seed(seed)"
   ]
  },
  {
   "cell_type": "markdown",
   "id": "3bfef33e-2126-4c93-8a5a-62463c6e1fe5",
   "metadata": {
    "jp-MarkdownHeadingCollapsed": true
   },
   "source": [
    "## Attributes definition"
   ]
  },
  {
   "cell_type": "code",
   "execution_count": 107,
   "id": "e1dfa18e",
   "metadata": {
    "collapsed": false,
    "jupyter": {
     "outputs_hidden": false
    },
    "pycharm": {
     "name": "#%%\n"
    }
   },
   "outputs": [],
   "source": [
    "languages = ['english', 'italian', 'french', 'spanish', 'deutsche', 'dutch', 'bulgarian', 'chinese']"
   ]
  },
  {
   "cell_type": "code",
   "execution_count": 108,
   "id": "e7c9b79e",
   "metadata": {
    "pycharm": {
     "name": "#%%\n"
    }
   },
   "outputs": [],
   "source": [
    "keywords = [\n",
    "    'archeology',\n",
    "    'museums',\n",
    "    'music',\n",
    "    'art',\n",
    "    'cinema',\n",
    "    'countryside',\n",
    "    'tracking',\n",
    "    'rafting',\n",
    "    'history',\n",
    "    'literature',\n",
    "    'sport',\n",
    "    'food',\n",
    "    'wine',\n",
    "    'beer'\n",
    "]"
   ]
  },
  {
   "cell_type": "code",
   "execution_count": 109,
   "id": "3695b5d5",
   "metadata": {
    "collapsed": false,
    "jupyter": {
     "outputs_hidden": false
    },
    "pycharm": {
     "name": "#%%\n"
    }
   },
   "outputs": [],
   "source": [
    "education = ['middle-school', 'high-school', 'bachelor', 'master', 'phd']"
   ]
  },
  {
   "cell_type": "code",
   "execution_count": 110,
   "id": "3168bf80-0fa6-46fe-83ce-e36238be0940",
   "metadata": {},
   "outputs": [],
   "source": [
    "lecce_attractions = [\n",
    "    (\"Basilica di Santa Croce\", \"Historical Tour\"),\n",
    "    (\"Piazza del Duomo\", \"City Tour\"),\n",
    "    (\"Roman Amphitheatre\", \"Archaeological Tour\"),\n",
    "    (\"Porta Napoli\", \"City Tour\"),\n",
    "    (\"Castello di Carlo V\", \"Historical Tour\"),\n",
    "    (\"Church of San Matteo\", \"Religious Tour\"),\n",
    "    (\"Piazza Sant'Oronzo\", \"City Tour\"),\n",
    "    (\"Church of Santa Chiara\", \"Religious Tour\"),\n",
    "    (\"Roman Theatre\", \"Archaeological Tour\"),\n",
    "    (\"Church of San Niccolò e Cataldo\", \"Religious Tour\"),\n",
    "    (\"Palazzo dei Celestini\", \"Historical Tour\"),\n",
    "    (\"Colonna di Sant'Oronzo\", \"City Tour\"),\n",
    "    (\"Palazzo Carafa\", \"Historical Tour\"),\n",
    "    (\"Museo Faggiano\", \"Museum Tour\"),\n",
    "    (\"Torre del Parco\", \"Historical Tour\"),\n",
    "    (\"Lecce Cathedral\", \"Religious Tour\"),\n",
    "    (\"Celestine Convent\", \"Religious Tour\"),\n",
    "    (\"Villa Comunale di Lecce\", \"Park Tour\"),\n",
    "    (\"San Giovanni Battista Church\", \"Religious Tour\"),\n",
    "    (\"Church of San Francesco della Scarpa\", \"Religious Tour\")\n",
    "]"
   ]
  },
  {
   "cell_type": "code",
   "execution_count": 111,
   "id": "2d6158e3-be4b-4528-bc2e-3428f7428977",
   "metadata": {},
   "outputs": [],
   "source": [
    "keywords_mapping = {\n",
    "    \"Historical Tour\": \"history\",\n",
    "    \"City Tour\": \"art\",\n",
    "    \"Archaeological Tour\": \"archeology\",\n",
    "    \"Religious Tour\": \"literature\",\n",
    "    \"Museum Tour\": \"museums\",\n",
    "    \"Park Tour\": \"countryside\"\n",
    "}\n",
    "\n",
    "#lecce_attractions_with_keywords = [(attraction, keywords_mapping[tour_type]) for attraction, tour_type in lecce_attractions]\n",
    "#lecce_attractions_with_keywords"
   ]
  },
  {
   "cell_type": "code",
   "execution_count": 112,
   "id": "127c2991-efc2-400c-bb03-f264f512243b",
   "metadata": {},
   "outputs": [
    {
     "data": {
      "text/plain": "[{'name': 'Basilica di Santa Croce', 'keywords': 'history'},\n {'name': 'Piazza del Duomo', 'keywords': 'art'},\n {'name': 'Roman Amphitheatre', 'keywords': 'archeology'},\n {'name': 'Porta Napoli', 'keywords': 'art'},\n {'name': 'Castello di Carlo V', 'keywords': 'history'},\n {'name': 'Church of San Matteo', 'keywords': 'literature'},\n {'name': \"Piazza Sant'Oronzo\", 'keywords': 'art'},\n {'name': 'Church of Santa Chiara', 'keywords': 'literature'},\n {'name': 'Roman Theatre', 'keywords': 'archeology'},\n {'name': 'Church of San Niccolò e Cataldo', 'keywords': 'literature'},\n {'name': 'Palazzo dei Celestini', 'keywords': 'history'},\n {'name': \"Colonna di Sant'Oronzo\", 'keywords': 'art'},\n {'name': 'Palazzo Carafa', 'keywords': 'history'},\n {'name': 'Museo Faggiano', 'keywords': 'museums'},\n {'name': 'Torre del Parco', 'keywords': 'history'},\n {'name': 'Lecce Cathedral', 'keywords': 'literature'},\n {'name': 'Celestine Convent', 'keywords': 'literature'},\n {'name': 'Villa Comunale di Lecce', 'keywords': 'countryside'},\n {'name': 'San Giovanni Battista Church', 'keywords': 'literature'},\n {'name': 'Church of San Francesco della Scarpa', 'keywords': 'literature'}]"
     },
     "execution_count": 112,
     "metadata": {},
     "output_type": "execute_result"
    }
   ],
   "source": [
    "lecce_attractions_dict = [{'name' : name, 'keywords' : keywords_mapping[tour_type]} for name, tour_type in lecce_attractions]\n",
    "lecce_attractions_dict"
   ]
  },
  {
   "cell_type": "markdown",
   "id": "3694639f-b29f-45ec-9444-c897cfa39366",
   "metadata": {
    "jp-MarkdownHeadingCollapsed": true
   },
   "source": [
    "## Data generation functions"
   ]
  },
  {
   "cell_type": "code",
   "execution_count": 113,
   "id": "481c55e4-9e80-4900-89ef-f7f8f6727d41",
   "metadata": {},
   "outputs": [
    {
     "name": "stdout",
     "output_type": "stream",
     "text": [
      "Random date between 2024-06-01 and 2024-07-01 : 2024-06-15\n"
     ]
    }
   ],
   "source": [
    "import random\n",
    "from datetime import datetime, timedelta\n",
    "\n",
    "def generate_random_date(start_date, end_date):\n",
    "    # Convert start and end dates to datetime objects\n",
    "    start_dt = datetime.strptime(start_date, '%Y-%m-%d')\n",
    "    end_dt = datetime.strptime(end_date, '%Y-%m-%d')\n",
    "\n",
    "    # Calculate the range of days between start and end dates\n",
    "    delta = end_dt - start_dt\n",
    "\n",
    "    # Generate a random number of days within the range\n",
    "    random_days = random.randint(0, delta.days)\n",
    "\n",
    "    # Add the random number of days to the start date\n",
    "    random_date = start_dt + timedelta(days=random_days)\n",
    "\n",
    "    return random_date.strftime('%Y-%m-%d')\n",
    "\n",
    "# Example usage\n",
    "start_date = '2024-06-01'\n",
    "end_date = '2024-07-01'\n",
    "random_date = generate_random_date(start_date, end_date)\n",
    "print(\"Random date between\", start_date, \"and\", end_date, \":\", random_date)"
   ]
  },
  {
   "cell_type": "code",
   "execution_count": 114,
   "id": "c7159655",
   "metadata": {
    "pycharm": {
     "name": "#%%\n"
    }
   },
   "outputs": [],
   "source": [
    "# guide profile generation\n",
    "def generate_guide():\n",
    "    \n",
    "    guide = {}\n",
    "    \n",
    "    guide['gender'] = np.random.choice(['male', 'female'], size=1).item()\n",
    "    guide['name'] = (faker.first_name_male() if guide['gender'] == 'male' else faker.first_name_female()) + ' ' + faker.last_name()\n",
    "    guide['birth_date'] = faker.date_of_birth(maximum_age=65, minimum_age=20)\n",
    "    guide['now_available'] = True\n",
    "    guide['languages_spoken'] = list(np.random.choice(languages, size=1+np.random.poisson(lam=1, size=1).item(), replace=False))\n",
    "    guide['price'] = int(max(10, np.abs(np.random.normal(30, 5))))\n",
    "    guide['education'] = np.random.choice(education, size=1).item()\n",
    "    guide['biography'] = faker.profile()['job']\n",
    "    guide['keywords'] = list(np.random.choice(keywords, size=np.random.poisson(2, size=1).item(), replace=False))\n",
    "    guide['current_location'] = {\n",
    "        \"lat\": np.random.normal(40.3524, 0.01),\n",
    "        \"lon\": np.random.normal(18.1732, 0.01)\n",
    "    }\n",
    "    guide['experience'] = random.randint(1,2024-guide['birth_date'].year-18)\n",
    "    \n",
    "    return guide"
   ]
  },
  {
   "cell_type": "code",
   "execution_count": 115,
   "id": "64ea26af",
   "metadata": {
    "pycharm": {
     "name": "#%%\n"
    }
   },
   "outputs": [],
   "source": [
    "# user profile generation\n",
    "def generate_tourist():\n",
    "\n",
    "    tourist = {}\n",
    "\n",
    "    tourist['languages'] = list(np.random.choice(languages, size=1, replace=False))\n",
    "    tourist['keywords'] = list(np.random.choice(keywords, size=np.random.poisson(5, size=1).item(), replace=False))\n",
    "    \n",
    "    return tourist"
   ]
  },
  {
   "cell_type": "code",
   "execution_count": 82,
   "id": "ba2d43f8-33c7-4092-a0a5-8c79cb70bb39",
   "metadata": {
    "scrolled": true
   },
   "outputs": [
    {
     "data": {
      "text/plain": "[{'name': 'Museo Faggiano', 'keywords': 'museums'},\n {'name': 'Church of San Niccolò e Cataldo', 'keywords': 'literature'}]"
     },
     "execution_count": 82,
     "metadata": {},
     "output_type": "execute_result"
    }
   ],
   "source": [
    "random.sample(lecce_attractions_dict, random.randint(1,3))"
   ]
  },
  {
   "cell_type": "code",
   "execution_count": 116,
   "id": "0c51ef58-a14e-405f-a1ae-c63831282053",
   "metadata": {
    "pycharm": {
     "name": "#%%\n"
    }
   },
   "outputs": [],
   "source": [
    "def generate_tours(guide, index):\n",
    "    \n",
    "    tours = {}\n",
    "\n",
    "    tours['guide'] = index\n",
    "    tours['languages'] = guide['languages_spoken']\n",
    "    tours['city'] = 'Lecce'\n",
    "    # randomly choose 1-3 Lecce's attractions\n",
    "    attractions = random.sample(lecce_attractions_dict, random.randint(1,3))\n",
    "    tours['attractions'] = list(attraction['name'] for attraction in attractions)\n",
    "    tours['keywords'] = list(np.unique([attraction['keywords'] for attraction in attractions]))\n",
    "    tours['price'] = int(max(10, np.abs(np.random.normal(30, 5))))\n",
    "    tours['date'] = generate_random_date(start_date, end_date)\n",
    "    tours['duration'] = random.randint(5,12)\n",
    "\n",
    "    return tours\n",
    "    "
   ]
  },
  {
   "cell_type": "code",
   "execution_count": 117,
   "id": "7c5ba6e1",
   "metadata": {
    "pycharm": {
     "name": "#%%\n"
    }
   },
   "outputs": [],
   "source": [
    "import random \n",
    "\n",
    "# rating generation\n",
    "def generate_rating_guides (tourists, guides):\n",
    "    ratings = []\n",
    "    for i in range(len(tourists)):\n",
    "        \n",
    "        # random choose guides from intersection of languages\n",
    "        intersect_guides = [index for index in range(len(guides)) if np.all(np.in1d(tourists[i]['languages'], guides[index]['languages_spoken']))]\n",
    "        other_guides = [index for index in range(len(guides)) if index not in intersect_guides]\n",
    "        \n",
    "        # random choose 3 guides without duplicates\n",
    "        random_guides = np.random.choice(intersect_guides,2, replace=False)\n",
    "        random_guide = np.random.choice(other_guides,1)\n",
    "        \n",
    "        # random choose 1 or 2 guides to rate\n",
    "        for j in range(np.random.randint(1,3)):\n",
    "\n",
    "            rating = round(np.random.normal(loc=4, scale=0.5, size=1).item(),0)\n",
    "            ratings.append((i,random_guides[j],rating))\n",
    "\n",
    "#         # random choose if rate badly\n",
    "# #        if(np.random.binomial(1, 0.2)):\n",
    "#             bad_rating = round(np.random.normal(loc=1.5, scale=0.3, size=1).item(),0)\n",
    "#             # rate the last guide with bad rating\n",
    "#             ratings.append((i,random_guide[0],bad_rating))\n",
    "#\n",
    "    return ratings"
   ]
  },
  {
   "cell_type": "code",
   "execution_count": 118,
   "id": "ff3a8d92-7154-425f-a0e8-3d5ce53b6ea4",
   "metadata": {
    "pycharm": {
     "name": "#%%\n"
    }
   },
   "outputs": [],
   "source": [
    "import random \n",
    "\n",
    "# rating generation\n",
    "def generate_rating_tours (tourists, tours):\n",
    "    ratings = []\n",
    "    for i in range(len(tourists)):\n",
    "        # random choose guides from intersection of languages\n",
    "        intersect_tours = [index for index in range(len(tours)) if np.any(np.in1d(tourists[i]['keywords'], tours[index]['keywords']))]\n",
    "        other_tours = [index for index in range(len(tours)) if index not in intersect_tours]\n",
    "\n",
    "        # if not empty\n",
    "        if(len(intersect_tours)!=0):\n",
    "            # random choose 2 guides without duplicates\n",
    "            random_tours = np.random.choice(intersect_tours, 2, replace=False)\n",
    "            \n",
    "            # random choose 1 or 2 guides to rate\n",
    "            for j in range(np.random.randint(1,3)):\n",
    "    \n",
    "                rating = round(np.random.normal(loc=4, scale=0.5, size=1).item(),0)\n",
    "                ratings.append((i,random_tours[j],rating))\n",
    "        \n",
    "    return ratings"
   ]
  },
  {
   "cell_type": "markdown",
   "id": "a28cd32b",
   "metadata": {
    "jp-MarkdownHeadingCollapsed": true,
    "pycharm": {
     "name": "#%% md\n"
    }
   },
   "source": [
    "## Dataset generation"
   ]
  },
  {
   "cell_type": "code",
   "execution_count": 119,
   "id": "5a79c4f2",
   "metadata": {
    "pycharm": {
     "name": "#%%\n"
    }
   },
   "outputs": [],
   "source": [
    "# number of users (tourists and guides) \n",
    "n_tourists = 200\n",
    "n_guides = 40"
   ]
  },
  {
   "cell_type": "code",
   "execution_count": 120,
   "id": "fec71d08",
   "metadata": {
    "pycharm": {
     "name": "#%%\n"
    }
   },
   "outputs": [],
   "source": [
    "# generating user profiles\n",
    "guides = [generate_guide() for _ in range(n_guides)]\n",
    "tourists = [generate_tourist() for _ in range(n_tourists)]"
   ]
  },
  {
   "cell_type": "code",
   "execution_count": 121,
   "id": "513e427d",
   "metadata": {
    "pycharm": {
     "name": "#%%\n"
    }
   },
   "outputs": [
    {
     "data": {
      "text/plain": "[(0, 10, 4.0),\n (0, 5, 4.0),\n (1, 9, 3.0),\n (1, 5, 4.0),\n (2, 28, 4.0),\n (3, 15, 5.0),\n (3, 19, 5.0),\n (4, 34, 5.0),\n (4, 16, 5.0),\n (5, 37, 4.0),\n (6, 5, 3.0),\n (6, 9, 4.0),\n (7, 34, 3.0),\n (7, 8, 4.0),\n (8, 24, 4.0),\n (9, 1, 4.0),\n (9, 5, 3.0),\n (10, 18, 4.0),\n (11, 35, 4.0),\n (12, 34, 4.0),\n (12, 39, 4.0),\n (13, 2, 4.0),\n (13, 29, 4.0),\n (14, 27, 4.0),\n (15, 28, 4.0),\n (15, 16, 3.0),\n (16, 16, 4.0),\n (17, 8, 3.0),\n (18, 34, 3.0),\n (18, 12, 3.0),\n (19, 39, 5.0),\n (20, 6, 2.0),\n (20, 2, 4.0),\n (21, 9, 5.0),\n (21, 16, 4.0),\n (22, 34, 4.0),\n (23, 29, 5.0),\n (23, 23, 4.0),\n (24, 33, 3.0),\n (25, 4, 4.0),\n (26, 10, 5.0),\n (27, 16, 4.0),\n (27, 4, 4.0),\n (28, 5, 4.0),\n (29, 30, 4.0),\n (29, 35, 4.0),\n (30, 20, 5.0),\n (30, 35, 3.0),\n (31, 32, 4.0),\n (31, 3, 4.0),\n (32, 8, 4.0),\n (32, 10, 4.0),\n (33, 22, 3.0),\n (34, 22, 4.0),\n (35, 30, 4.0),\n (35, 31, 4.0),\n (36, 36, 3.0),\n (36, 16, 4.0),\n (37, 13, 4.0),\n (37, 6, 4.0),\n (38, 18, 4.0),\n (39, 10, 4.0),\n (39, 4, 4.0),\n (40, 22, 3.0),\n (41, 32, 4.0),\n (42, 35, 5.0),\n (42, 7, 3.0),\n (43, 30, 5.0),\n (43, 4, 3.0),\n (44, 22, 4.0),\n (44, 39, 4.0),\n (45, 32, 4.0),\n (45, 9, 5.0),\n (46, 17, 4.0),\n (46, 39, 4.0),\n (47, 24, 3.0),\n (48, 24, 4.0),\n (49, 39, 5.0),\n (50, 2, 4.0),\n (51, 4, 4.0),\n (52, 15, 4.0),\n (52, 30, 4.0),\n (53, 0, 4.0),\n (53, 2, 4.0),\n (54, 16, 4.0),\n (54, 12, 3.0),\n (55, 24, 3.0),\n (56, 8, 4.0),\n (57, 14, 4.0),\n (58, 17, 4.0),\n (59, 7, 3.0),\n (60, 1, 4.0),\n (60, 39, 3.0),\n (61, 9, 3.0),\n (61, 17, 4.0),\n (62, 31, 5.0),\n (63, 39, 4.0),\n (63, 12, 4.0),\n (64, 30, 4.0),\n (64, 35, 4.0),\n (65, 13, 4.0),\n (66, 12, 4.0),\n (67, 22, 4.0),\n (68, 36, 4.0),\n (69, 24, 5.0),\n (70, 5, 4.0),\n (70, 31, 4.0),\n (71, 24, 4.0),\n (72, 37, 4.0),\n (73, 6, 5.0),\n (73, 2, 4.0),\n (74, 1, 4.0),\n (74, 17, 4.0),\n (75, 12, 5.0),\n (76, 10, 5.0),\n (77, 2, 4.0),\n (78, 23, 4.0),\n (78, 18, 5.0),\n (79, 23, 4.0),\n (79, 24, 4.0),\n (80, 14, 3.0),\n (81, 8, 4.0),\n (81, 30, 4.0),\n (82, 10, 3.0),\n (83, 35, 3.0),\n (83, 30, 4.0),\n (84, 22, 4.0),\n (84, 29, 4.0),\n (85, 2, 4.0),\n (86, 18, 3.0),\n (87, 35, 4.0),\n (88, 19, 3.0),\n (89, 20, 3.0),\n (89, 33, 3.0),\n (90, 25, 3.0),\n (91, 4, 3.0),\n (92, 13, 4.0),\n (93, 7, 3.0),\n (93, 24, 4.0),\n (94, 21, 4.0),\n (95, 22, 4.0),\n (95, 28, 3.0),\n (96, 19, 4.0),\n (97, 34, 4.0),\n (98, 25, 3.0),\n (98, 8, 4.0),\n (99, 0, 4.0),\n (100, 4, 4.0),\n (101, 30, 5.0),\n (102, 23, 4.0),\n (102, 31, 4.0),\n (103, 30, 3.0),\n (104, 36, 3.0),\n (104, 22, 4.0),\n (105, 12, 4.0),\n (105, 20, 3.0),\n (106, 16, 4.0),\n (107, 30, 4.0),\n (108, 17, 4.0),\n (108, 12, 3.0),\n (109, 35, 5.0),\n (110, 20, 4.0),\n (111, 25, 3.0),\n (111, 16, 4.0),\n (112, 7, 5.0),\n (113, 15, 4.0),\n (114, 31, 3.0),\n (115, 33, 4.0),\n (115, 20, 5.0),\n (116, 1, 4.0),\n (116, 7, 5.0),\n (117, 30, 4.0),\n (118, 12, 4.0),\n (119, 34, 4.0),\n (119, 28, 4.0),\n (120, 10, 3.0),\n (120, 8, 4.0),\n (121, 24, 5.0),\n (121, 23, 5.0),\n (122, 13, 4.0),\n (123, 22, 4.0),\n (124, 15, 5.0),\n (124, 2, 4.0),\n (125, 29, 4.0),\n (125, 22, 4.0),\n (126, 36, 3.0),\n (126, 39, 4.0),\n (127, 13, 4.0),\n (128, 15, 4.0),\n (129, 31, 4.0),\n (130, 30, 5.0),\n (131, 13, 4.0),\n (132, 32, 4.0),\n (133, 37, 4.0),\n (133, 24, 4.0),\n (134, 16, 3.0),\n (135, 37, 5.0),\n (135, 5, 4.0),\n (136, 28, 3.0),\n (137, 7, 4.0),\n (138, 34, 5.0),\n (139, 24, 4.0),\n (139, 1, 4.0),\n (140, 12, 3.0),\n (140, 18, 3.0),\n (141, 25, 4.0),\n (141, 8, 4.0),\n (142, 14, 4.0),\n (142, 21, 3.0),\n (143, 19, 3.0),\n (143, 13, 4.0),\n (144, 37, 4.0),\n (145, 4, 4.0),\n (145, 31, 5.0),\n (146, 12, 4.0),\n (146, 1, 4.0),\n (147, 12, 5.0),\n (147, 27, 3.0),\n (148, 39, 4.0),\n (148, 34, 4.0),\n (149, 34, 4.0),\n (150, 31, 3.0),\n (150, 7, 4.0),\n (151, 29, 4.0),\n (151, 21, 3.0),\n (152, 7, 3.0),\n (152, 14, 5.0),\n (153, 24, 4.0),\n (153, 39, 4.0),\n (154, 10, 4.0),\n (154, 30, 4.0),\n (155, 32, 4.0),\n (156, 28, 4.0),\n (157, 4, 5.0),\n (157, 30, 4.0),\n (158, 12, 3.0),\n (158, 17, 4.0),\n (159, 4, 4.0),\n (160, 14, 3.0),\n (161, 6, 5.0),\n (162, 31, 4.0),\n (162, 14, 4.0),\n (163, 7, 4.0),\n (164, 18, 4.0),\n (164, 12, 4.0),\n (165, 6, 4.0),\n (165, 33, 4.0),\n (166, 10, 4.0),\n (167, 5, 4.0),\n (168, 19, 4.0),\n (169, 31, 4.0),\n (170, 20, 4.0),\n (170, 19, 4.0),\n (171, 2, 3.0),\n (171, 15, 5.0),\n (172, 24, 4.0),\n (172, 12, 4.0),\n (173, 7, 4.0),\n (174, 9, 3.0),\n (174, 24, 5.0),\n (175, 0, 4.0),\n (176, 23, 3.0),\n (176, 34, 4.0),\n (177, 23, 4.0),\n (177, 6, 4.0),\n (178, 20, 4.0),\n (179, 18, 4.0),\n (179, 27, 4.0),\n (180, 31, 4.0),\n (180, 20, 4.0),\n (181, 20, 4.0),\n (182, 10, 3.0),\n (182, 5, 4.0),\n (183, 0, 4.0),\n (184, 34, 3.0),\n (184, 16, 4.0),\n (185, 19, 4.0),\n (185, 10, 4.0),\n (186, 22, 4.0),\n (186, 14, 5.0),\n (187, 25, 4.0),\n (187, 16, 4.0),\n (188, 38, 5.0),\n (189, 22, 4.0),\n (189, 16, 4.0),\n (190, 23, 4.0),\n (191, 35, 3.0),\n (192, 30, 4.0),\n (193, 22, 4.0),\n (194, 34, 4.0),\n (195, 12, 4.0),\n (196, 1, 3.0),\n (197, 7, 4.0),\n (197, 27, 5.0),\n (198, 34, 5.0),\n (198, 27, 3.0),\n (199, 7, 5.0),\n (199, 39, 4.0)]"
     },
     "execution_count": 121,
     "metadata": {},
     "output_type": "execute_result"
    }
   ],
   "source": [
    "# randomly generate ratings given by tourists to guides\n",
    "guides_ratings = generate_rating_guides(tourists,guides)\n",
    "guides_ratings"
   ]
  },
  {
   "cell_type": "code",
   "execution_count": 122,
   "id": "9041b2dc-0320-4af2-bed0-0fabeba2098d",
   "metadata": {
    "scrolled": true,
    "pycharm": {
     "name": "#%%\n"
    }
   },
   "outputs": [
    {
     "data": {
      "text/plain": "[{'guide': 0,\n  'languages': ['english'],\n  'city': 'Lecce',\n  'attractions': ['Church of San Matteo', 'Roman Theatre'],\n  'keywords': ['archeology', 'literature'],\n  'price': 38,\n  'date': '2024-06-27',\n  'duration': 12},\n {'guide': 1,\n  'languages': ['italian', 'dutch'],\n  'city': 'Lecce',\n  'attractions': [\"Piazza Sant'Oronzo\", 'Torre del Parco'],\n  'keywords': ['art', 'history'],\n  'price': 27,\n  'date': '2024-06-02',\n  'duration': 11},\n {'guide': 2,\n  'languages': ['chinese', 'french', 'english'],\n  'city': 'Lecce',\n  'attractions': [\"Colonna di Sant'Oronzo\", 'Celestine Convent'],\n  'keywords': ['art', 'literature'],\n  'price': 29,\n  'date': '2024-06-09',\n  'duration': 12},\n {'guide': 3,\n  'languages': ['bulgarian'],\n  'city': 'Lecce',\n  'attractions': ['Museo Faggiano'],\n  'keywords': ['museums'],\n  'price': 30,\n  'date': '2024-06-26',\n  'duration': 9},\n {'guide': 4,\n  'languages': ['deutsche', 'french'],\n  'city': 'Lecce',\n  'attractions': ['Palazzo Carafa', 'Church of Santa Chiara'],\n  'keywords': ['history', 'literature'],\n  'price': 30,\n  'date': '2024-06-03',\n  'duration': 11},\n {'guide': 5,\n  'languages': ['deutsche', 'dutch', 'bulgarian'],\n  'city': 'Lecce',\n  'attractions': ['Villa Comunale di Lecce',\n   'Church of San Matteo',\n   'Museo Faggiano'],\n  'keywords': ['countryside', 'literature', 'museums'],\n  'price': 35,\n  'date': '2024-06-29',\n  'duration': 11},\n {'guide': 6,\n  'languages': ['english', 'chinese', 'french'],\n  'city': 'Lecce',\n  'attractions': ['Torre del Parco', 'Palazzo dei Celestini'],\n  'keywords': ['history'],\n  'price': 37,\n  'date': '2024-06-17',\n  'duration': 12},\n {'guide': 7,\n  'languages': ['spanish', 'dutch', 'french', 'italian'],\n  'city': 'Lecce',\n  'attractions': ['Museo Faggiano', 'Palazzo dei Celestini'],\n  'keywords': ['history', 'museums'],\n  'price': 28,\n  'date': '2024-06-29',\n  'duration': 7},\n {'guide': 8,\n  'languages': ['bulgarian', 'english', 'chinese'],\n  'city': 'Lecce',\n  'attractions': [\"Piazza Sant'Oronzo\", 'Villa Comunale di Lecce'],\n  'keywords': ['art', 'countryside'],\n  'price': 38,\n  'date': '2024-06-28',\n  'duration': 10},\n {'guide': 9,\n  'languages': ['chinese', 'bulgarian', 'dutch', 'english'],\n  'city': 'Lecce',\n  'attractions': ['Celestine Convent'],\n  'keywords': ['literature'],\n  'price': 34,\n  'date': '2024-07-01',\n  'duration': 7},\n {'guide': 10,\n  'languages': ['bulgarian', 'deutsche'],\n  'city': 'Lecce',\n  'attractions': ['San Giovanni Battista Church',\n   'Roman Theatre',\n   'Torre del Parco'],\n  'keywords': ['archeology', 'history', 'literature'],\n  'price': 19,\n  'date': '2024-06-10',\n  'duration': 11},\n {'guide': 11,\n  'languages': ['bulgarian'],\n  'city': 'Lecce',\n  'attractions': ['Palazzo dei Celestini'],\n  'keywords': ['history'],\n  'price': 28,\n  'date': '2024-06-16',\n  'duration': 8},\n {'guide': 12,\n  'languages': ['dutch', 'french', 'italian'],\n  'city': 'Lecce',\n  'attractions': ['Celestine Convent',\n   'San Giovanni Battista Church',\n   'Church of San Niccolò e Cataldo'],\n  'keywords': ['literature'],\n  'price': 27,\n  'date': '2024-06-26',\n  'duration': 8},\n {'guide': 13,\n  'languages': ['chinese', 'english'],\n  'city': 'Lecce',\n  'attractions': [\"Piazza Sant'Oronzo\"],\n  'keywords': ['art'],\n  'price': 36,\n  'date': '2024-06-16',\n  'duration': 6},\n {'guide': 14,\n  'languages': ['chinese', 'french'],\n  'city': 'Lecce',\n  'attractions': ['Museo Faggiano'],\n  'keywords': ['museums'],\n  'price': 23,\n  'date': '2024-06-14',\n  'duration': 10},\n {'guide': 15,\n  'languages': ['deutsche', 'chinese'],\n  'city': 'Lecce',\n  'attractions': ['Porta Napoli', 'Roman Theatre'],\n  'keywords': ['archeology', 'art'],\n  'price': 31,\n  'date': '2024-06-22',\n  'duration': 5},\n {'guide': 16,\n  'languages': ['spanish', 'bulgarian', 'french'],\n  'city': 'Lecce',\n  'attractions': ['Roman Theatre'],\n  'keywords': ['archeology'],\n  'price': 37,\n  'date': '2024-06-29',\n  'duration': 9},\n {'guide': 17,\n  'languages': ['dutch'],\n  'city': 'Lecce',\n  'attractions': ['Museo Faggiano', 'San Giovanni Battista Church'],\n  'keywords': ['literature', 'museums'],\n  'price': 17,\n  'date': '2024-06-09',\n  'duration': 9},\n {'guide': 18,\n  'languages': ['italian', 'dutch'],\n  'city': 'Lecce',\n  'attractions': ['Torre del Parco', 'Basilica di Santa Croce'],\n  'keywords': ['history'],\n  'price': 19,\n  'date': '2024-06-16',\n  'duration': 6},\n {'guide': 19,\n  'languages': ['bulgarian', 'deutsche', 'english'],\n  'city': 'Lecce',\n  'attractions': [\"Piazza Sant'Oronzo\",\n   'Porta Napoli',\n   'Church of San Matteo'],\n  'keywords': ['art', 'literature'],\n  'price': 29,\n  'date': '2024-06-26',\n  'duration': 12},\n {'guide': 20,\n  'languages': ['deutsche', 'french'],\n  'city': 'Lecce',\n  'attractions': ['Palazzo Carafa', 'Palazzo dei Celestini'],\n  'keywords': ['history'],\n  'price': 35,\n  'date': '2024-06-22',\n  'duration': 9},\n {'guide': 21,\n  'languages': ['chinese'],\n  'city': 'Lecce',\n  'attractions': ['Church of San Francesco della Scarpa',\n   'Museo Faggiano',\n   'San Giovanni Battista Church'],\n  'keywords': ['literature', 'museums'],\n  'price': 24,\n  'date': '2024-06-14',\n  'duration': 6},\n {'guide': 22,\n  'languages': ['chinese', 'spanish'],\n  'city': 'Lecce',\n  'attractions': ['Church of San Matteo',\n   'Villa Comunale di Lecce',\n   'Castello di Carlo V'],\n  'keywords': ['countryside', 'history', 'literature'],\n  'price': 27,\n  'date': '2024-06-13',\n  'duration': 9},\n {'guide': 23,\n  'languages': ['english', 'italian', 'bulgarian'],\n  'city': 'Lecce',\n  'attractions': ['Porta Napoli'],\n  'keywords': ['art'],\n  'price': 29,\n  'date': '2024-06-05',\n  'duration': 9},\n {'guide': 24,\n  'languages': ['dutch', 'italian', 'bulgarian'],\n  'city': 'Lecce',\n  'attractions': ['Basilica di Santa Croce', 'Roman Theatre'],\n  'keywords': ['archeology', 'history'],\n  'price': 37,\n  'date': '2024-06-29',\n  'duration': 12},\n {'guide': 25,\n  'languages': ['bulgarian'],\n  'city': 'Lecce',\n  'attractions': ['Lecce Cathedral',\n   'Church of Santa Chiara',\n   'Palazzo dei Celestini'],\n  'keywords': ['history', 'literature'],\n  'price': 23,\n  'date': '2024-06-01',\n  'duration': 9},\n {'guide': 26,\n  'languages': ['dutch'],\n  'city': 'Lecce',\n  'attractions': ['Church of San Francesco della Scarpa',\n   \"Colonna di Sant'Oronzo\"],\n  'keywords': ['art', 'literature'],\n  'price': 27,\n  'date': '2024-06-29',\n  'duration': 8},\n {'guide': 27,\n  'languages': ['italian'],\n  'city': 'Lecce',\n  'attractions': ['Basilica di Santa Croce', 'Porta Napoli'],\n  'keywords': ['art', 'history'],\n  'price': 36,\n  'date': '2024-06-12',\n  'duration': 7},\n {'guide': 28,\n  'languages': ['spanish'],\n  'city': 'Lecce',\n  'attractions': ['Church of San Francesco della Scarpa', 'Museo Faggiano'],\n  'keywords': ['literature', 'museums'],\n  'price': 28,\n  'date': '2024-06-14',\n  'duration': 5},\n {'guide': 29,\n  'languages': ['bulgarian', 'chinese'],\n  'city': 'Lecce',\n  'attractions': ['Roman Amphitheatre', 'Castello di Carlo V'],\n  'keywords': ['archeology', 'history'],\n  'price': 32,\n  'date': '2024-06-10',\n  'duration': 6},\n {'guide': 30,\n  'languages': ['french', 'deutsche', 'english'],\n  'city': 'Lecce',\n  'attractions': ['Lecce Cathedral', 'Torre del Parco', \"Piazza Sant'Oronzo\"],\n  'keywords': ['art', 'history', 'literature'],\n  'price': 26,\n  'date': '2024-06-06',\n  'duration': 5},\n {'guide': 31,\n  'languages': ['deutsche', 'french', 'english'],\n  'city': 'Lecce',\n  'attractions': ['Palazzo dei Celestini'],\n  'keywords': ['history'],\n  'price': 17,\n  'date': '2024-06-05',\n  'duration': 8},\n {'guide': 32,\n  'languages': ['french', 'bulgarian'],\n  'city': 'Lecce',\n  'attractions': ['Palazzo dei Celestini'],\n  'keywords': ['history'],\n  'price': 27,\n  'date': '2024-06-12',\n  'duration': 6},\n {'guide': 33,\n  'languages': ['french'],\n  'city': 'Lecce',\n  'attractions': ['Lecce Cathedral'],\n  'keywords': ['literature'],\n  'price': 33,\n  'date': '2024-06-23',\n  'duration': 10},\n {'guide': 34,\n  'languages': ['chinese', 'spanish', 'bulgarian', 'italian'],\n  'city': 'Lecce',\n  'attractions': ['Church of San Francesco della Scarpa'],\n  'keywords': ['literature'],\n  'price': 26,\n  'date': '2024-06-16',\n  'duration': 12},\n {'guide': 35,\n  'languages': ['italian', 'french'],\n  'city': 'Lecce',\n  'attractions': ['Porta Napoli',\n   'Museo Faggiano',\n   'San Giovanni Battista Church'],\n  'keywords': ['art', 'literature', 'museums'],\n  'price': 36,\n  'date': '2024-06-06',\n  'duration': 12},\n {'guide': 36,\n  'languages': ['spanish'],\n  'city': 'Lecce',\n  'attractions': ['Lecce Cathedral', 'Church of San Matteo', 'Roman Theatre'],\n  'keywords': ['archeology', 'literature'],\n  'price': 24,\n  'date': '2024-06-25',\n  'duration': 10},\n {'guide': 37,\n  'languages': ['dutch'],\n  'city': 'Lecce',\n  'attractions': ['Church of Santa Chiara',\n   'Church of San Francesco della Scarpa'],\n  'keywords': ['literature'],\n  'price': 36,\n  'date': '2024-06-05',\n  'duration': 6},\n {'guide': 38,\n  'languages': ['italian'],\n  'city': 'Lecce',\n  'attractions': ['San Giovanni Battista Church',\n   \"Piazza Sant'Oronzo\",\n   \"Colonna di Sant'Oronzo\"],\n  'keywords': ['art', 'literature'],\n  'price': 27,\n  'date': '2024-06-09',\n  'duration': 11},\n {'guide': 39,\n  'languages': ['spanish', 'dutch'],\n  'city': 'Lecce',\n  'attractions': ['Porta Napoli', 'Villa Comunale di Lecce'],\n  'keywords': ['art', 'countryside'],\n  'price': 19,\n  'date': '2024-06-11',\n  'duration': 5}]"
     },
     "execution_count": 122,
     "metadata": {},
     "output_type": "execute_result"
    }
   ],
   "source": [
    "tours = []\n",
    "for i in range(len(guides)):\n",
    "    tours.append(generate_tours(guides[i], i))\n",
    "\n",
    "tours"
   ]
  },
  {
   "cell_type": "code",
   "execution_count": 123,
   "id": "600c6f3c-ed33-4a48-b709-1189c7cae7ba",
   "metadata": {},
   "outputs": [],
   "source": [
    "n_tours = len(tours)"
   ]
  },
  {
   "cell_type": "code",
   "execution_count": 124,
   "id": "318f23d3-78ca-426d-a044-10652921c882",
   "metadata": {
    "scrolled": true
   },
   "outputs": [
    {
     "data": {
      "text/plain": "{'languages': ['bulgarian'],\n 'keywords': ['beer',\n  'sport',\n  'cinema',\n  'tracking',\n  'rafting',\n  'music',\n  'art']}"
     },
     "execution_count": 124,
     "metadata": {},
     "output_type": "execute_result"
    }
   ],
   "source": [
    "tourists[0]"
   ]
  },
  {
   "cell_type": "code",
   "execution_count": 125,
   "id": "e39268fc-a42e-4098-8c1d-1b998cd85237",
   "metadata": {
    "scrolled": true
   },
   "outputs": [
    {
     "data": {
      "text/plain": "{'guide': 0,\n 'languages': ['english'],\n 'city': 'Lecce',\n 'attractions': ['Church of San Matteo', 'Roman Theatre'],\n 'keywords': ['archeology', 'literature'],\n 'price': 38,\n 'date': '2024-06-27',\n 'duration': 12}"
     },
     "execution_count": 125,
     "metadata": {},
     "output_type": "execute_result"
    }
   ],
   "source": [
    "tours[0]"
   ]
  },
  {
   "cell_type": "code",
   "execution_count": 126,
   "id": "2bd58862-4593-4734-8800-7fa0e2b1195a",
   "metadata": {},
   "outputs": [
    {
     "data": {
      "text/plain": "False"
     },
     "execution_count": 126,
     "metadata": {},
     "output_type": "execute_result"
    }
   ],
   "source": [
    "np.any(np.in1d(tourists[0]['keywords'], tours[0]['keywords']))"
   ]
  },
  {
   "cell_type": "code",
   "execution_count": 127,
   "id": "d17714fd-15d6-4280-aa1b-dbacef2c7ecb",
   "metadata": {},
   "outputs": [
    {
     "data": {
      "text/plain": "[(0, 1, 4.0),\n (1, 24, 5.0),\n (2, 20, 5.0),\n (2, 24, 3.0),\n (4, 30, 4.0),\n (5, 13, 4.0),\n (5, 8, 4.0),\n (6, 15, 5.0),\n (7, 24, 4.0),\n (7, 29, 4.0),\n (8, 0, 4.0),\n (9, 5, 5.0),\n (9, 17, 4.0),\n (10, 5, 4.0),\n (11, 2, 4.0),\n (11, 38, 4.0),\n (12, 7, 4.0),\n (13, 34, 5.0),\n (13, 30, 4.0),\n (14, 19, 4.0),\n (16, 20, 4.0),\n (16, 18, 4.0),\n (17, 39, 3.0),\n (18, 33, 5.0),\n (20, 36, 4.0),\n (20, 21, 4.0),\n (21, 12, 4.0),\n (22, 22, 5.0),\n (23, 2, 4.0),\n (24, 37, 4.0),\n (25, 18, 4.0),\n (25, 16, 3.0),\n (27, 5, 4.0),\n (28, 38, 5.0),\n (29, 1, 4.0),\n (29, 8, 4.0),\n (30, 27, 4.0),\n (30, 10, 4.0),\n (32, 34, 5.0),\n (33, 6, 4.0),\n (34, 15, 3.0),\n (34, 19, 5.0),\n (35, 22, 4.0),\n (37, 26, 5.0),\n (38, 6, 5.0),\n (38, 11, 4.0),\n (39, 30, 5.0),\n (40, 7, 3.0),\n (40, 9, 4.0),\n (42, 16, 3.0),\n (42, 36, 4.0),\n (44, 2, 5.0),\n (45, 11, 5.0),\n (46, 0, 4.0),\n (46, 16, 4.0),\n (47, 13, 4.0),\n (48, 22, 4.0),\n (48, 0, 4.0),\n (49, 25, 4.0),\n (49, 32, 4.0),\n (50, 32, 4.0),\n (50, 10, 5.0),\n (51, 30, 5.0),\n (52, 1, 3.0),\n (53, 2, 5.0),\n (53, 30, 4.0),\n (54, 33, 4.0),\n (55, 21, 4.0),\n (55, 25, 4.0),\n (57, 5, 5.0),\n (58, 33, 3.0),\n (59, 3, 4.0),\n (60, 22, 3.0),\n (61, 36, 5.0),\n (61, 20, 4.0),\n (62, 39, 3.0),\n (63, 29, 4.0),\n (64, 10, 5.0),\n (64, 29, 3.0),\n (65, 23, 4.0),\n (65, 8, 4.0),\n (66, 14, 4.0),\n (67, 15, 4.0),\n (68, 10, 5.0),\n (68, 25, 5.0),\n (69, 35, 4.0),\n (70, 31, 4.0),\n (71, 20, 4.0),\n (73, 8, 5.0),\n (73, 22, 4.0),\n (74, 29, 4.0),\n (75, 36, 5.0),\n (77, 36, 4.0),\n (77, 4, 5.0),\n (79, 21, 4.0),\n (80, 8, 4.0),\n (81, 4, 4.0),\n (81, 18, 4.0),\n (82, 5, 3.0),\n (83, 15, 4.0),\n (84, 15, 4.0),\n (84, 35, 4.0),\n (85, 0, 4.0),\n (86, 22, 4.0),\n (86, 29, 5.0),\n (87, 30, 4.0),\n (88, 19, 4.0),\n (89, 36, 3.0),\n (89, 25, 4.0),\n (90, 33, 4.0),\n (91, 5, 4.0),\n (91, 34, 4.0),\n (92, 18, 4.0),\n (92, 6, 4.0),\n (93, 27, 5.0),\n (94, 35, 5.0),\n (94, 7, 4.0),\n (95, 27, 4.0),\n (95, 32, 4.0),\n (97, 0, 3.0),\n (97, 15, 3.0),\n (98, 15, 5.0),\n (99, 5, 4.0),\n (99, 1, 4.0),\n (100, 30, 4.0),\n (101, 39, 4.0),\n (101, 30, 4.0),\n (102, 26, 4.0),\n (104, 17, 4.0),\n (105, 38, 4.0),\n (106, 2, 3.0),\n (107, 5, 4.0),\n (107, 8, 3.0),\n (108, 23, 4.0),\n (109, 34, 5.0),\n (109, 0, 4.0),\n (110, 10, 5.0),\n (110, 27, 4.0),\n (111, 25, 4.0),\n (111, 31, 4.0),\n (112, 7, 3.0),\n (112, 33, 3.0),\n (113, 11, 4.0),\n (113, 29, 4.0),\n (114, 9, 4.0),\n (115, 31, 3.0),\n (116, 31, 4.0),\n (117, 15, 3.0),\n (118, 35, 5.0),\n (118, 29, 5.0),\n (119, 24, 5.0),\n (119, 0, 4.0),\n (120, 27, 5.0),\n (120, 30, 4.0),\n (121, 5, 4.0),\n (123, 11, 4.0),\n (123, 29, 4.0),\n (124, 4, 3.0),\n (124, 18, 5.0),\n (125, 29, 4.0),\n (126, 21, 4.0),\n (128, 5, 4.0),\n (128, 39, 4.0),\n (129, 32, 4.0),\n (129, 1, 3.0),\n (130, 2, 4.0),\n (131, 34, 4.0),\n (131, 32, 4.0),\n (132, 22, 4.0),\n (133, 16, 4.0),\n (133, 36, 5.0),\n (134, 35, 5.0),\n (135, 37, 3.0),\n (136, 1, 4.0),\n (137, 22, 4.0),\n (138, 12, 5.0),\n (139, 39, 4.0),\n (140, 11, 5.0),\n (140, 24, 5.0),\n (141, 17, 3.0),\n (141, 5, 4.0),\n (142, 38, 4.0),\n (142, 1, 5.0),\n (143, 13, 4.0),\n (143, 35, 4.0),\n (144, 19, 4.0),\n (145, 5, 3.0),\n (146, 1, 5.0),\n (146, 32, 4.0),\n (147, 26, 4.0),\n (148, 5, 4.0),\n (148, 22, 4.0),\n (149, 36, 4.0),\n (150, 15, 4.0),\n (150, 22, 5.0),\n (151, 19, 4.0),\n (151, 30, 4.0),\n (152, 8, 4.0),\n (153, 17, 4.0),\n (153, 22, 4.0),\n (154, 5, 5.0),\n (155, 25, 4.0),\n (155, 8, 4.0),\n (156, 2, 4.0),\n (157, 10, 4.0),\n (158, 36, 4.0),\n (159, 25, 4.0),\n (160, 8, 5.0),\n (161, 10, 4.0),\n (161, 29, 4.0),\n (162, 20, 4.0),\n (163, 25, 4.0),\n (163, 35, 3.0),\n (164, 35, 5.0),\n (166, 29, 5.0),\n (167, 22, 3.0),\n (167, 17, 5.0),\n (168, 14, 4.0),\n (168, 28, 4.0),\n (169, 30, 4.0),\n (170, 33, 4.0),\n (170, 17, 4.0),\n (171, 7, 3.0),\n (171, 4, 4.0),\n (172, 7, 5.0),\n (172, 11, 5.0),\n (173, 28, 4.0),\n (173, 7, 4.0),\n (174, 37, 4.0),\n (175, 15, 5.0),\n (175, 38, 4.0),\n (176, 38, 3.0),\n (177, 39, 4.0),\n (177, 16, 4.0),\n (178, 31, 4.0),\n (179, 25, 5.0),\n (179, 22, 4.0),\n (180, 34, 4.0),\n (181, 31, 4.0),\n (182, 29, 4.0),\n (182, 22, 4.0),\n (183, 26, 4.0),\n (184, 10, 4.0),\n (184, 22, 5.0),\n (185, 33, 3.0),\n (185, 31, 4.0),\n (188, 3, 4.0),\n (188, 14, 3.0),\n (190, 15, 4.0),\n (191, 6, 4.0),\n (192, 15, 4.0),\n (193, 15, 3.0),\n (194, 22, 4.0),\n (194, 5, 4.0),\n (195, 32, 4.0),\n (195, 22, 4.0),\n (196, 26, 4.0),\n (197, 35, 4.0),\n (197, 1, 4.0),\n (198, 1, 5.0),\n (199, 29, 5.0),\n (199, 24, 4.0)]"
     },
     "execution_count": 127,
     "metadata": {},
     "output_type": "execute_result"
    }
   ],
   "source": [
    "tours_ratings= generate_rating_tours(tourists, tours)\n",
    "tours_ratings"
   ]
  },
  {
   "cell_type": "markdown",
   "id": "a3cdcf8a",
   "metadata": {
    "pycharm": {
     "name": "#%% md\n"
    }
   },
   "source": [
    "### Dataframes creation"
   ]
  },
  {
   "cell_type": "code",
   "execution_count": 128,
   "id": "d0484a7d",
   "metadata": {
    "pycharm": {
     "name": "#%%\n"
    },
    "scrolled": true
   },
   "outputs": [
    {
     "data": {
      "text/plain": "   gender              name  birth_date  now_available  \\\n0    male        Gary Baker  1984-07-08           True   \n1  female      Lisa Swanson  1982-09-27           True   \n2  female      Carla Dillon  1995-01-04           True   \n3    male    Jesse Schaefer  1990-11-12           True   \n4    male       David Davis  1998-03-06           True   \n5    male      Joseph James  1974-05-30           True   \n6    male  Steven Schneider  1980-08-19           True   \n7    male     Reginald Berg  1971-01-06           True   \n8    male       Gregory Lee  1973-12-11           True   \n9    male      Alex Perkins  1963-07-30           True   \n\n                       languages_spoken  price      education  \\\n0                             [english]     25    high-school   \n1                      [italian, dutch]     36  middle-school   \n2            [chinese, french, english]     34            phd   \n3                           [bulgarian]     46       bachelor   \n4                    [deutsche, french]     30         master   \n5          [deutsche, dutch, bulgarian]     27  middle-school   \n6            [english, chinese, french]     34  middle-school   \n7     [spanish, dutch, french, italian]     33       bachelor   \n8         [bulgarian, english, chinese]     31  middle-school   \n9  [chinese, bulgarian, dutch, english]     37            phd   \n\n                      biography                           keywords  \\\n0                    Astronomer                          [museums]   \n1           Designer, jewellery   [cinema, rafting, history, wine]   \n2         Travel agency manager            [food, archeology, art]   \n3             Financial planner        [countryside, rafting, art]   \n4                Pilot, airline      [countryside, tracking, beer]   \n5  Designer, exhibition/display                                 []   \n6                Engineer, land              [rafting, art, sport]   \n7        Financial risk analyst  [museums, art, countryside, wine]   \n8        Audiological scientist        [literature, cinema, music]   \n9           Engineer, materials                          [museums]   \n\n                                    current_location  experience  \n0  {'lat': 40.342693584880706, 'lon': 18.16438078...          13  \n1  {'lat': 40.3367551413547, 'lon': 18.1569120995...          14  \n2  {'lat': 40.362447049660204, 'lon': 18.14225129...           5  \n3  {'lat': 40.36584086550253, 'lon': 18.183002910...           1  \n4  {'lat': 40.354724889812935, 'lon': 18.20308322...           6  \n5  {'lat': 40.35854623058413, 'lon': 18.183459879...           8  \n6  {'lat': 40.35774331848761, 'lon': 18.163273185...           2  \n7  {'lat': 40.365193043282794, 'lon': 18.18548169...          10  \n8  {'lat': 40.35265552781134, 'lon': 18.151723396...          25  \n9  {'lat': 40.33774657696426, 'lon': 18.182064664...          41  ",
      "text/html": "<div>\n<style scoped>\n    .dataframe tbody tr th:only-of-type {\n        vertical-align: middle;\n    }\n\n    .dataframe tbody tr th {\n        vertical-align: top;\n    }\n\n    .dataframe thead th {\n        text-align: right;\n    }\n</style>\n<table border=\"1\" class=\"dataframe\">\n  <thead>\n    <tr style=\"text-align: right;\">\n      <th></th>\n      <th>gender</th>\n      <th>name</th>\n      <th>birth_date</th>\n      <th>now_available</th>\n      <th>languages_spoken</th>\n      <th>price</th>\n      <th>education</th>\n      <th>biography</th>\n      <th>keywords</th>\n      <th>current_location</th>\n      <th>experience</th>\n    </tr>\n  </thead>\n  <tbody>\n    <tr>\n      <th>0</th>\n      <td>male</td>\n      <td>Gary Baker</td>\n      <td>1984-07-08</td>\n      <td>True</td>\n      <td>[english]</td>\n      <td>25</td>\n      <td>high-school</td>\n      <td>Astronomer</td>\n      <td>[museums]</td>\n      <td>{'lat': 40.342693584880706, 'lon': 18.16438078...</td>\n      <td>13</td>\n    </tr>\n    <tr>\n      <th>1</th>\n      <td>female</td>\n      <td>Lisa Swanson</td>\n      <td>1982-09-27</td>\n      <td>True</td>\n      <td>[italian, dutch]</td>\n      <td>36</td>\n      <td>middle-school</td>\n      <td>Designer, jewellery</td>\n      <td>[cinema, rafting, history, wine]</td>\n      <td>{'lat': 40.3367551413547, 'lon': 18.1569120995...</td>\n      <td>14</td>\n    </tr>\n    <tr>\n      <th>2</th>\n      <td>female</td>\n      <td>Carla Dillon</td>\n      <td>1995-01-04</td>\n      <td>True</td>\n      <td>[chinese, french, english]</td>\n      <td>34</td>\n      <td>phd</td>\n      <td>Travel agency manager</td>\n      <td>[food, archeology, art]</td>\n      <td>{'lat': 40.362447049660204, 'lon': 18.14225129...</td>\n      <td>5</td>\n    </tr>\n    <tr>\n      <th>3</th>\n      <td>male</td>\n      <td>Jesse Schaefer</td>\n      <td>1990-11-12</td>\n      <td>True</td>\n      <td>[bulgarian]</td>\n      <td>46</td>\n      <td>bachelor</td>\n      <td>Financial planner</td>\n      <td>[countryside, rafting, art]</td>\n      <td>{'lat': 40.36584086550253, 'lon': 18.183002910...</td>\n      <td>1</td>\n    </tr>\n    <tr>\n      <th>4</th>\n      <td>male</td>\n      <td>David Davis</td>\n      <td>1998-03-06</td>\n      <td>True</td>\n      <td>[deutsche, french]</td>\n      <td>30</td>\n      <td>master</td>\n      <td>Pilot, airline</td>\n      <td>[countryside, tracking, beer]</td>\n      <td>{'lat': 40.354724889812935, 'lon': 18.20308322...</td>\n      <td>6</td>\n    </tr>\n    <tr>\n      <th>5</th>\n      <td>male</td>\n      <td>Joseph James</td>\n      <td>1974-05-30</td>\n      <td>True</td>\n      <td>[deutsche, dutch, bulgarian]</td>\n      <td>27</td>\n      <td>middle-school</td>\n      <td>Designer, exhibition/display</td>\n      <td>[]</td>\n      <td>{'lat': 40.35854623058413, 'lon': 18.183459879...</td>\n      <td>8</td>\n    </tr>\n    <tr>\n      <th>6</th>\n      <td>male</td>\n      <td>Steven Schneider</td>\n      <td>1980-08-19</td>\n      <td>True</td>\n      <td>[english, chinese, french]</td>\n      <td>34</td>\n      <td>middle-school</td>\n      <td>Engineer, land</td>\n      <td>[rafting, art, sport]</td>\n      <td>{'lat': 40.35774331848761, 'lon': 18.163273185...</td>\n      <td>2</td>\n    </tr>\n    <tr>\n      <th>7</th>\n      <td>male</td>\n      <td>Reginald Berg</td>\n      <td>1971-01-06</td>\n      <td>True</td>\n      <td>[spanish, dutch, french, italian]</td>\n      <td>33</td>\n      <td>bachelor</td>\n      <td>Financial risk analyst</td>\n      <td>[museums, art, countryside, wine]</td>\n      <td>{'lat': 40.365193043282794, 'lon': 18.18548169...</td>\n      <td>10</td>\n    </tr>\n    <tr>\n      <th>8</th>\n      <td>male</td>\n      <td>Gregory Lee</td>\n      <td>1973-12-11</td>\n      <td>True</td>\n      <td>[bulgarian, english, chinese]</td>\n      <td>31</td>\n      <td>middle-school</td>\n      <td>Audiological scientist</td>\n      <td>[literature, cinema, music]</td>\n      <td>{'lat': 40.35265552781134, 'lon': 18.151723396...</td>\n      <td>25</td>\n    </tr>\n    <tr>\n      <th>9</th>\n      <td>male</td>\n      <td>Alex Perkins</td>\n      <td>1963-07-30</td>\n      <td>True</td>\n      <td>[chinese, bulgarian, dutch, english]</td>\n      <td>37</td>\n      <td>phd</td>\n      <td>Engineer, materials</td>\n      <td>[museums]</td>\n      <td>{'lat': 40.33774657696426, 'lon': 18.182064664...</td>\n      <td>41</td>\n    </tr>\n  </tbody>\n</table>\n</div>"
     },
     "execution_count": 128,
     "metadata": {},
     "output_type": "execute_result"
    }
   ],
   "source": [
    "guide_df = pd.DataFrame(guides)\n",
    "# viewing first 10 guides\n",
    "guide_df[:10]"
   ]
  },
  {
   "cell_type": "code",
   "execution_count": 129,
   "id": "0e687b6b",
   "metadata": {
    "pycharm": {
     "name": "#%%\n"
    },
    "scrolled": true
   },
   "outputs": [
    {
     "data": {
      "text/plain": "     languages                                           keywords\n0  [bulgarian]  [beer, sport, cinema, tracking, rafting, music...\n1  [bulgarian]                          [history, food, tracking]\n2    [spanish]      [tracking, cinema, wine, literature, history]\n3   [deutsche]                                  [sport, tracking]\n4    [spanish]  [beer, tracking, food, literature, sport, muse...\n5      [dutch]          [tracking, food, wine, art, sport, music]\n6      [dutch]  [tracking, countryside, art, literature, food,...\n7  [bulgarian]  [rafting, literature, tracking, food, museums,...\n8  [bulgarian]                              [rafting, literature]\n9      [dutch]                  [museums, tracking, cinema, beer]",
      "text/html": "<div>\n<style scoped>\n    .dataframe tbody tr th:only-of-type {\n        vertical-align: middle;\n    }\n\n    .dataframe tbody tr th {\n        vertical-align: top;\n    }\n\n    .dataframe thead th {\n        text-align: right;\n    }\n</style>\n<table border=\"1\" class=\"dataframe\">\n  <thead>\n    <tr style=\"text-align: right;\">\n      <th></th>\n      <th>languages</th>\n      <th>keywords</th>\n    </tr>\n  </thead>\n  <tbody>\n    <tr>\n      <th>0</th>\n      <td>[bulgarian]</td>\n      <td>[beer, sport, cinema, tracking, rafting, music...</td>\n    </tr>\n    <tr>\n      <th>1</th>\n      <td>[bulgarian]</td>\n      <td>[history, food, tracking]</td>\n    </tr>\n    <tr>\n      <th>2</th>\n      <td>[spanish]</td>\n      <td>[tracking, cinema, wine, literature, history]</td>\n    </tr>\n    <tr>\n      <th>3</th>\n      <td>[deutsche]</td>\n      <td>[sport, tracking]</td>\n    </tr>\n    <tr>\n      <th>4</th>\n      <td>[spanish]</td>\n      <td>[beer, tracking, food, literature, sport, muse...</td>\n    </tr>\n    <tr>\n      <th>5</th>\n      <td>[dutch]</td>\n      <td>[tracking, food, wine, art, sport, music]</td>\n    </tr>\n    <tr>\n      <th>6</th>\n      <td>[dutch]</td>\n      <td>[tracking, countryside, art, literature, food,...</td>\n    </tr>\n    <tr>\n      <th>7</th>\n      <td>[bulgarian]</td>\n      <td>[rafting, literature, tracking, food, museums,...</td>\n    </tr>\n    <tr>\n      <th>8</th>\n      <td>[bulgarian]</td>\n      <td>[rafting, literature]</td>\n    </tr>\n    <tr>\n      <th>9</th>\n      <td>[dutch]</td>\n      <td>[museums, tracking, cinema, beer]</td>\n    </tr>\n  </tbody>\n</table>\n</div>"
     },
     "execution_count": 129,
     "metadata": {},
     "output_type": "execute_result"
    }
   ],
   "source": [
    "tourist_df = pd.DataFrame(tourists)\n",
    "# viewing first 10 tourists\n",
    "tourist_df[:10]"
   ]
  },
  {
   "cell_type": "code",
   "execution_count": 130,
   "id": "c81d7628",
   "metadata": {
    "pycharm": {
     "name": "#%%\n"
    },
    "scrolled": true
   },
   "outputs": [
    {
     "data": {
      "text/plain": "     tourist_id  guide_id  rating\n0             0        10     4.0\n1             0         5     4.0\n2             1         9     3.0\n3             1         5     4.0\n4             2        28     4.0\n..          ...       ...     ...\n293         197        27     5.0\n294         198        34     5.0\n295         198        27     3.0\n296         199         7     5.0\n297         199        39     4.0\n\n[298 rows x 3 columns]",
      "text/html": "<div>\n<style scoped>\n    .dataframe tbody tr th:only-of-type {\n        vertical-align: middle;\n    }\n\n    .dataframe tbody tr th {\n        vertical-align: top;\n    }\n\n    .dataframe thead th {\n        text-align: right;\n    }\n</style>\n<table border=\"1\" class=\"dataframe\">\n  <thead>\n    <tr style=\"text-align: right;\">\n      <th></th>\n      <th>tourist_id</th>\n      <th>guide_id</th>\n      <th>rating</th>\n    </tr>\n  </thead>\n  <tbody>\n    <tr>\n      <th>0</th>\n      <td>0</td>\n      <td>10</td>\n      <td>4.0</td>\n    </tr>\n    <tr>\n      <th>1</th>\n      <td>0</td>\n      <td>5</td>\n      <td>4.0</td>\n    </tr>\n    <tr>\n      <th>2</th>\n      <td>1</td>\n      <td>9</td>\n      <td>3.0</td>\n    </tr>\n    <tr>\n      <th>3</th>\n      <td>1</td>\n      <td>5</td>\n      <td>4.0</td>\n    </tr>\n    <tr>\n      <th>4</th>\n      <td>2</td>\n      <td>28</td>\n      <td>4.0</td>\n    </tr>\n    <tr>\n      <th>...</th>\n      <td>...</td>\n      <td>...</td>\n      <td>...</td>\n    </tr>\n    <tr>\n      <th>293</th>\n      <td>197</td>\n      <td>27</td>\n      <td>5.0</td>\n    </tr>\n    <tr>\n      <th>294</th>\n      <td>198</td>\n      <td>34</td>\n      <td>5.0</td>\n    </tr>\n    <tr>\n      <th>295</th>\n      <td>198</td>\n      <td>27</td>\n      <td>3.0</td>\n    </tr>\n    <tr>\n      <th>296</th>\n      <td>199</td>\n      <td>7</td>\n      <td>5.0</td>\n    </tr>\n    <tr>\n      <th>297</th>\n      <td>199</td>\n      <td>39</td>\n      <td>4.0</td>\n    </tr>\n  </tbody>\n</table>\n<p>298 rows × 3 columns</p>\n</div>"
     },
     "execution_count": 130,
     "metadata": {},
     "output_type": "execute_result"
    }
   ],
   "source": [
    "guides_rating_df = pd.DataFrame(guides_ratings)\n",
    "guides_rating_df.rename(columns={guides_rating_df.columns[0]: 'tourist_id',guides_rating_df.columns[1]: 'guide_id',guides_rating_df.columns[2]: 'rating'}, inplace=False)"
   ]
  },
  {
   "cell_type": "code",
   "execution_count": 131,
   "outputs": [
    {
     "data": {
      "text/plain": "    guide                               languages   city  \\\n0       0                               [english]  Lecce   \n1       1                        [italian, dutch]  Lecce   \n2       2              [chinese, french, english]  Lecce   \n3       3                             [bulgarian]  Lecce   \n4       4                      [deutsche, french]  Lecce   \n5       5            [deutsche, dutch, bulgarian]  Lecce   \n6       6              [english, chinese, french]  Lecce   \n7       7       [spanish, dutch, french, italian]  Lecce   \n8       8           [bulgarian, english, chinese]  Lecce   \n9       9    [chinese, bulgarian, dutch, english]  Lecce   \n10     10                   [bulgarian, deutsche]  Lecce   \n11     11                             [bulgarian]  Lecce   \n12     12                [dutch, french, italian]  Lecce   \n13     13                      [chinese, english]  Lecce   \n14     14                       [chinese, french]  Lecce   \n15     15                     [deutsche, chinese]  Lecce   \n16     16            [spanish, bulgarian, french]  Lecce   \n17     17                                 [dutch]  Lecce   \n18     18                        [italian, dutch]  Lecce   \n19     19          [bulgarian, deutsche, english]  Lecce   \n20     20                      [deutsche, french]  Lecce   \n21     21                               [chinese]  Lecce   \n22     22                      [chinese, spanish]  Lecce   \n23     23           [english, italian, bulgarian]  Lecce   \n24     24             [dutch, italian, bulgarian]  Lecce   \n25     25                             [bulgarian]  Lecce   \n26     26                                 [dutch]  Lecce   \n27     27                               [italian]  Lecce   \n28     28                               [spanish]  Lecce   \n29     29                    [bulgarian, chinese]  Lecce   \n30     30             [french, deutsche, english]  Lecce   \n31     31             [deutsche, french, english]  Lecce   \n32     32                     [french, bulgarian]  Lecce   \n33     33                                [french]  Lecce   \n34     34  [chinese, spanish, bulgarian, italian]  Lecce   \n35     35                       [italian, french]  Lecce   \n36     36                               [spanish]  Lecce   \n37     37                                 [dutch]  Lecce   \n38     38                               [italian]  Lecce   \n39     39                        [spanish, dutch]  Lecce   \n\n                                          attractions  \\\n0               [Church of San Matteo, Roman Theatre]   \n1               [Piazza Sant'Oronzo, Torre del Parco]   \n2         [Colonna di Sant'Oronzo, Celestine Convent]   \n3                                    [Museo Faggiano]   \n4            [Palazzo Carafa, Church of Santa Chiara]   \n5   [Villa Comunale di Lecce, Church of San Matteo...   \n6            [Torre del Parco, Palazzo dei Celestini]   \n7             [Museo Faggiano, Palazzo dei Celestini]   \n8       [Piazza Sant'Oronzo, Villa Comunale di Lecce]   \n9                                 [Celestine Convent]   \n10  [San Giovanni Battista Church, Roman Theatre, ...   \n11                            [Palazzo dei Celestini]   \n12  [Celestine Convent, San Giovanni Battista Chur...   \n13                               [Piazza Sant'Oronzo]   \n14                                   [Museo Faggiano]   \n15                      [Porta Napoli, Roman Theatre]   \n16                                    [Roman Theatre]   \n17     [Museo Faggiano, San Giovanni Battista Church]   \n18         [Torre del Parco, Basilica di Santa Croce]   \n19  [Piazza Sant'Oronzo, Porta Napoli, Church of S...   \n20            [Palazzo Carafa, Palazzo dei Celestini]   \n21  [Church of San Francesco della Scarpa, Museo F...   \n22  [Church of San Matteo, Villa Comunale di Lecce...   \n23                                     [Porta Napoli]   \n24           [Basilica di Santa Croce, Roman Theatre]   \n25  [Lecce Cathedral, Church of Santa Chiara, Pala...   \n26  [Church of San Francesco della Scarpa, Colonna...   \n27            [Basilica di Santa Croce, Porta Napoli]   \n28  [Church of San Francesco della Scarpa, Museo F...   \n29          [Roman Amphitheatre, Castello di Carlo V]   \n30  [Lecce Cathedral, Torre del Parco, Piazza Sant...   \n31                            [Palazzo dei Celestini]   \n32                            [Palazzo dei Celestini]   \n33                                  [Lecce Cathedral]   \n34             [Church of San Francesco della Scarpa]   \n35  [Porta Napoli, Museo Faggiano, San Giovanni Ba...   \n36  [Lecce Cathedral, Church of San Matteo, Roman ...   \n37  [Church of Santa Chiara, Church of San Frances...   \n38  [San Giovanni Battista Church, Piazza Sant'Oro...   \n39            [Porta Napoli, Villa Comunale di Lecce]   \n\n                              keywords  price        date  duration  \n0             [archeology, literature]     38  2024-06-27        12  \n1                       [art, history]     27  2024-06-02        11  \n2                    [art, literature]     29  2024-06-09        12  \n3                            [museums]     30  2024-06-26         9  \n4                [history, literature]     30  2024-06-03        11  \n5   [countryside, literature, museums]     35  2024-06-29        11  \n6                            [history]     37  2024-06-17        12  \n7                   [history, museums]     28  2024-06-29         7  \n8                   [art, countryside]     38  2024-06-28        10  \n9                         [literature]     34  2024-07-01         7  \n10   [archeology, history, literature]     19  2024-06-10        11  \n11                           [history]     28  2024-06-16         8  \n12                        [literature]     27  2024-06-26         8  \n13                               [art]     36  2024-06-16         6  \n14                           [museums]     23  2024-06-14        10  \n15                   [archeology, art]     31  2024-06-22         5  \n16                        [archeology]     37  2024-06-29         9  \n17               [literature, museums]     17  2024-06-09         9  \n18                           [history]     19  2024-06-16         6  \n19                   [art, literature]     29  2024-06-26        12  \n20                           [history]     35  2024-06-22         9  \n21               [literature, museums]     24  2024-06-14         6  \n22  [countryside, history, literature]     27  2024-06-13         9  \n23                               [art]     29  2024-06-05         9  \n24               [archeology, history]     37  2024-06-29        12  \n25               [history, literature]     23  2024-06-01         9  \n26                   [art, literature]     27  2024-06-29         8  \n27                      [art, history]     36  2024-06-12         7  \n28               [literature, museums]     28  2024-06-14         5  \n29               [archeology, history]     32  2024-06-10         6  \n30          [art, history, literature]     26  2024-06-06         5  \n31                           [history]     17  2024-06-05         8  \n32                           [history]     27  2024-06-12         6  \n33                        [literature]     33  2024-06-23        10  \n34                        [literature]     26  2024-06-16        12  \n35          [art, literature, museums]     36  2024-06-06        12  \n36            [archeology, literature]     24  2024-06-25        10  \n37                        [literature]     36  2024-06-05         6  \n38                   [art, literature]     27  2024-06-09        11  \n39                  [art, countryside]     19  2024-06-11         5  ",
      "text/html": "<div>\n<style scoped>\n    .dataframe tbody tr th:only-of-type {\n        vertical-align: middle;\n    }\n\n    .dataframe tbody tr th {\n        vertical-align: top;\n    }\n\n    .dataframe thead th {\n        text-align: right;\n    }\n</style>\n<table border=\"1\" class=\"dataframe\">\n  <thead>\n    <tr style=\"text-align: right;\">\n      <th></th>\n      <th>guide</th>\n      <th>languages</th>\n      <th>city</th>\n      <th>attractions</th>\n      <th>keywords</th>\n      <th>price</th>\n      <th>date</th>\n      <th>duration</th>\n    </tr>\n  </thead>\n  <tbody>\n    <tr>\n      <th>0</th>\n      <td>0</td>\n      <td>[english]</td>\n      <td>Lecce</td>\n      <td>[Church of San Matteo, Roman Theatre]</td>\n      <td>[archeology, literature]</td>\n      <td>38</td>\n      <td>2024-06-27</td>\n      <td>12</td>\n    </tr>\n    <tr>\n      <th>1</th>\n      <td>1</td>\n      <td>[italian, dutch]</td>\n      <td>Lecce</td>\n      <td>[Piazza Sant'Oronzo, Torre del Parco]</td>\n      <td>[art, history]</td>\n      <td>27</td>\n      <td>2024-06-02</td>\n      <td>11</td>\n    </tr>\n    <tr>\n      <th>2</th>\n      <td>2</td>\n      <td>[chinese, french, english]</td>\n      <td>Lecce</td>\n      <td>[Colonna di Sant'Oronzo, Celestine Convent]</td>\n      <td>[art, literature]</td>\n      <td>29</td>\n      <td>2024-06-09</td>\n      <td>12</td>\n    </tr>\n    <tr>\n      <th>3</th>\n      <td>3</td>\n      <td>[bulgarian]</td>\n      <td>Lecce</td>\n      <td>[Museo Faggiano]</td>\n      <td>[museums]</td>\n      <td>30</td>\n      <td>2024-06-26</td>\n      <td>9</td>\n    </tr>\n    <tr>\n      <th>4</th>\n      <td>4</td>\n      <td>[deutsche, french]</td>\n      <td>Lecce</td>\n      <td>[Palazzo Carafa, Church of Santa Chiara]</td>\n      <td>[history, literature]</td>\n      <td>30</td>\n      <td>2024-06-03</td>\n      <td>11</td>\n    </tr>\n    <tr>\n      <th>5</th>\n      <td>5</td>\n      <td>[deutsche, dutch, bulgarian]</td>\n      <td>Lecce</td>\n      <td>[Villa Comunale di Lecce, Church of San Matteo...</td>\n      <td>[countryside, literature, museums]</td>\n      <td>35</td>\n      <td>2024-06-29</td>\n      <td>11</td>\n    </tr>\n    <tr>\n      <th>6</th>\n      <td>6</td>\n      <td>[english, chinese, french]</td>\n      <td>Lecce</td>\n      <td>[Torre del Parco, Palazzo dei Celestini]</td>\n      <td>[history]</td>\n      <td>37</td>\n      <td>2024-06-17</td>\n      <td>12</td>\n    </tr>\n    <tr>\n      <th>7</th>\n      <td>7</td>\n      <td>[spanish, dutch, french, italian]</td>\n      <td>Lecce</td>\n      <td>[Museo Faggiano, Palazzo dei Celestini]</td>\n      <td>[history, museums]</td>\n      <td>28</td>\n      <td>2024-06-29</td>\n      <td>7</td>\n    </tr>\n    <tr>\n      <th>8</th>\n      <td>8</td>\n      <td>[bulgarian, english, chinese]</td>\n      <td>Lecce</td>\n      <td>[Piazza Sant'Oronzo, Villa Comunale di Lecce]</td>\n      <td>[art, countryside]</td>\n      <td>38</td>\n      <td>2024-06-28</td>\n      <td>10</td>\n    </tr>\n    <tr>\n      <th>9</th>\n      <td>9</td>\n      <td>[chinese, bulgarian, dutch, english]</td>\n      <td>Lecce</td>\n      <td>[Celestine Convent]</td>\n      <td>[literature]</td>\n      <td>34</td>\n      <td>2024-07-01</td>\n      <td>7</td>\n    </tr>\n    <tr>\n      <th>10</th>\n      <td>10</td>\n      <td>[bulgarian, deutsche]</td>\n      <td>Lecce</td>\n      <td>[San Giovanni Battista Church, Roman Theatre, ...</td>\n      <td>[archeology, history, literature]</td>\n      <td>19</td>\n      <td>2024-06-10</td>\n      <td>11</td>\n    </tr>\n    <tr>\n      <th>11</th>\n      <td>11</td>\n      <td>[bulgarian]</td>\n      <td>Lecce</td>\n      <td>[Palazzo dei Celestini]</td>\n      <td>[history]</td>\n      <td>28</td>\n      <td>2024-06-16</td>\n      <td>8</td>\n    </tr>\n    <tr>\n      <th>12</th>\n      <td>12</td>\n      <td>[dutch, french, italian]</td>\n      <td>Lecce</td>\n      <td>[Celestine Convent, San Giovanni Battista Chur...</td>\n      <td>[literature]</td>\n      <td>27</td>\n      <td>2024-06-26</td>\n      <td>8</td>\n    </tr>\n    <tr>\n      <th>13</th>\n      <td>13</td>\n      <td>[chinese, english]</td>\n      <td>Lecce</td>\n      <td>[Piazza Sant'Oronzo]</td>\n      <td>[art]</td>\n      <td>36</td>\n      <td>2024-06-16</td>\n      <td>6</td>\n    </tr>\n    <tr>\n      <th>14</th>\n      <td>14</td>\n      <td>[chinese, french]</td>\n      <td>Lecce</td>\n      <td>[Museo Faggiano]</td>\n      <td>[museums]</td>\n      <td>23</td>\n      <td>2024-06-14</td>\n      <td>10</td>\n    </tr>\n    <tr>\n      <th>15</th>\n      <td>15</td>\n      <td>[deutsche, chinese]</td>\n      <td>Lecce</td>\n      <td>[Porta Napoli, Roman Theatre]</td>\n      <td>[archeology, art]</td>\n      <td>31</td>\n      <td>2024-06-22</td>\n      <td>5</td>\n    </tr>\n    <tr>\n      <th>16</th>\n      <td>16</td>\n      <td>[spanish, bulgarian, french]</td>\n      <td>Lecce</td>\n      <td>[Roman Theatre]</td>\n      <td>[archeology]</td>\n      <td>37</td>\n      <td>2024-06-29</td>\n      <td>9</td>\n    </tr>\n    <tr>\n      <th>17</th>\n      <td>17</td>\n      <td>[dutch]</td>\n      <td>Lecce</td>\n      <td>[Museo Faggiano, San Giovanni Battista Church]</td>\n      <td>[literature, museums]</td>\n      <td>17</td>\n      <td>2024-06-09</td>\n      <td>9</td>\n    </tr>\n    <tr>\n      <th>18</th>\n      <td>18</td>\n      <td>[italian, dutch]</td>\n      <td>Lecce</td>\n      <td>[Torre del Parco, Basilica di Santa Croce]</td>\n      <td>[history]</td>\n      <td>19</td>\n      <td>2024-06-16</td>\n      <td>6</td>\n    </tr>\n    <tr>\n      <th>19</th>\n      <td>19</td>\n      <td>[bulgarian, deutsche, english]</td>\n      <td>Lecce</td>\n      <td>[Piazza Sant'Oronzo, Porta Napoli, Church of S...</td>\n      <td>[art, literature]</td>\n      <td>29</td>\n      <td>2024-06-26</td>\n      <td>12</td>\n    </tr>\n    <tr>\n      <th>20</th>\n      <td>20</td>\n      <td>[deutsche, french]</td>\n      <td>Lecce</td>\n      <td>[Palazzo Carafa, Palazzo dei Celestini]</td>\n      <td>[history]</td>\n      <td>35</td>\n      <td>2024-06-22</td>\n      <td>9</td>\n    </tr>\n    <tr>\n      <th>21</th>\n      <td>21</td>\n      <td>[chinese]</td>\n      <td>Lecce</td>\n      <td>[Church of San Francesco della Scarpa, Museo F...</td>\n      <td>[literature, museums]</td>\n      <td>24</td>\n      <td>2024-06-14</td>\n      <td>6</td>\n    </tr>\n    <tr>\n      <th>22</th>\n      <td>22</td>\n      <td>[chinese, spanish]</td>\n      <td>Lecce</td>\n      <td>[Church of San Matteo, Villa Comunale di Lecce...</td>\n      <td>[countryside, history, literature]</td>\n      <td>27</td>\n      <td>2024-06-13</td>\n      <td>9</td>\n    </tr>\n    <tr>\n      <th>23</th>\n      <td>23</td>\n      <td>[english, italian, bulgarian]</td>\n      <td>Lecce</td>\n      <td>[Porta Napoli]</td>\n      <td>[art]</td>\n      <td>29</td>\n      <td>2024-06-05</td>\n      <td>9</td>\n    </tr>\n    <tr>\n      <th>24</th>\n      <td>24</td>\n      <td>[dutch, italian, bulgarian]</td>\n      <td>Lecce</td>\n      <td>[Basilica di Santa Croce, Roman Theatre]</td>\n      <td>[archeology, history]</td>\n      <td>37</td>\n      <td>2024-06-29</td>\n      <td>12</td>\n    </tr>\n    <tr>\n      <th>25</th>\n      <td>25</td>\n      <td>[bulgarian]</td>\n      <td>Lecce</td>\n      <td>[Lecce Cathedral, Church of Santa Chiara, Pala...</td>\n      <td>[history, literature]</td>\n      <td>23</td>\n      <td>2024-06-01</td>\n      <td>9</td>\n    </tr>\n    <tr>\n      <th>26</th>\n      <td>26</td>\n      <td>[dutch]</td>\n      <td>Lecce</td>\n      <td>[Church of San Francesco della Scarpa, Colonna...</td>\n      <td>[art, literature]</td>\n      <td>27</td>\n      <td>2024-06-29</td>\n      <td>8</td>\n    </tr>\n    <tr>\n      <th>27</th>\n      <td>27</td>\n      <td>[italian]</td>\n      <td>Lecce</td>\n      <td>[Basilica di Santa Croce, Porta Napoli]</td>\n      <td>[art, history]</td>\n      <td>36</td>\n      <td>2024-06-12</td>\n      <td>7</td>\n    </tr>\n    <tr>\n      <th>28</th>\n      <td>28</td>\n      <td>[spanish]</td>\n      <td>Lecce</td>\n      <td>[Church of San Francesco della Scarpa, Museo F...</td>\n      <td>[literature, museums]</td>\n      <td>28</td>\n      <td>2024-06-14</td>\n      <td>5</td>\n    </tr>\n    <tr>\n      <th>29</th>\n      <td>29</td>\n      <td>[bulgarian, chinese]</td>\n      <td>Lecce</td>\n      <td>[Roman Amphitheatre, Castello di Carlo V]</td>\n      <td>[archeology, history]</td>\n      <td>32</td>\n      <td>2024-06-10</td>\n      <td>6</td>\n    </tr>\n    <tr>\n      <th>30</th>\n      <td>30</td>\n      <td>[french, deutsche, english]</td>\n      <td>Lecce</td>\n      <td>[Lecce Cathedral, Torre del Parco, Piazza Sant...</td>\n      <td>[art, history, literature]</td>\n      <td>26</td>\n      <td>2024-06-06</td>\n      <td>5</td>\n    </tr>\n    <tr>\n      <th>31</th>\n      <td>31</td>\n      <td>[deutsche, french, english]</td>\n      <td>Lecce</td>\n      <td>[Palazzo dei Celestini]</td>\n      <td>[history]</td>\n      <td>17</td>\n      <td>2024-06-05</td>\n      <td>8</td>\n    </tr>\n    <tr>\n      <th>32</th>\n      <td>32</td>\n      <td>[french, bulgarian]</td>\n      <td>Lecce</td>\n      <td>[Palazzo dei Celestini]</td>\n      <td>[history]</td>\n      <td>27</td>\n      <td>2024-06-12</td>\n      <td>6</td>\n    </tr>\n    <tr>\n      <th>33</th>\n      <td>33</td>\n      <td>[french]</td>\n      <td>Lecce</td>\n      <td>[Lecce Cathedral]</td>\n      <td>[literature]</td>\n      <td>33</td>\n      <td>2024-06-23</td>\n      <td>10</td>\n    </tr>\n    <tr>\n      <th>34</th>\n      <td>34</td>\n      <td>[chinese, spanish, bulgarian, italian]</td>\n      <td>Lecce</td>\n      <td>[Church of San Francesco della Scarpa]</td>\n      <td>[literature]</td>\n      <td>26</td>\n      <td>2024-06-16</td>\n      <td>12</td>\n    </tr>\n    <tr>\n      <th>35</th>\n      <td>35</td>\n      <td>[italian, french]</td>\n      <td>Lecce</td>\n      <td>[Porta Napoli, Museo Faggiano, San Giovanni Ba...</td>\n      <td>[art, literature, museums]</td>\n      <td>36</td>\n      <td>2024-06-06</td>\n      <td>12</td>\n    </tr>\n    <tr>\n      <th>36</th>\n      <td>36</td>\n      <td>[spanish]</td>\n      <td>Lecce</td>\n      <td>[Lecce Cathedral, Church of San Matteo, Roman ...</td>\n      <td>[archeology, literature]</td>\n      <td>24</td>\n      <td>2024-06-25</td>\n      <td>10</td>\n    </tr>\n    <tr>\n      <th>37</th>\n      <td>37</td>\n      <td>[dutch]</td>\n      <td>Lecce</td>\n      <td>[Church of Santa Chiara, Church of San Frances...</td>\n      <td>[literature]</td>\n      <td>36</td>\n      <td>2024-06-05</td>\n      <td>6</td>\n    </tr>\n    <tr>\n      <th>38</th>\n      <td>38</td>\n      <td>[italian]</td>\n      <td>Lecce</td>\n      <td>[San Giovanni Battista Church, Piazza Sant'Oro...</td>\n      <td>[art, literature]</td>\n      <td>27</td>\n      <td>2024-06-09</td>\n      <td>11</td>\n    </tr>\n    <tr>\n      <th>39</th>\n      <td>39</td>\n      <td>[spanish, dutch]</td>\n      <td>Lecce</td>\n      <td>[Porta Napoli, Villa Comunale di Lecce]</td>\n      <td>[art, countryside]</td>\n      <td>19</td>\n      <td>2024-06-11</td>\n      <td>5</td>\n    </tr>\n  </tbody>\n</table>\n</div>"
     },
     "execution_count": 131,
     "metadata": {},
     "output_type": "execute_result"
    }
   ],
   "source": [
    "tours_df = pd.DataFrame(tours)\n",
    "tours_df"
   ],
   "metadata": {
    "collapsed": false,
    "pycharm": {
     "name": "#%%\n"
    }
   }
  },
  {
   "cell_type": "code",
   "execution_count": 132,
   "id": "e48089c5-ffba-48d1-a30d-1e2254e28be5",
   "metadata": {
    "scrolled": true
   },
   "outputs": [
    {
     "data": {
      "text/plain": "     tourist_id  tour_id  rating\n0             0        1     4.0\n1             1       24     5.0\n2             2       20     5.0\n3             2       24     3.0\n4             4       30     4.0\n..          ...      ...     ...\n257         197       35     4.0\n258         197        1     4.0\n259         198        1     5.0\n260         199       29     5.0\n261         199       24     4.0\n\n[262 rows x 3 columns]",
      "text/html": "<div>\n<style scoped>\n    .dataframe tbody tr th:only-of-type {\n        vertical-align: middle;\n    }\n\n    .dataframe tbody tr th {\n        vertical-align: top;\n    }\n\n    .dataframe thead th {\n        text-align: right;\n    }\n</style>\n<table border=\"1\" class=\"dataframe\">\n  <thead>\n    <tr style=\"text-align: right;\">\n      <th></th>\n      <th>tourist_id</th>\n      <th>tour_id</th>\n      <th>rating</th>\n    </tr>\n  </thead>\n  <tbody>\n    <tr>\n      <th>0</th>\n      <td>0</td>\n      <td>1</td>\n      <td>4.0</td>\n    </tr>\n    <tr>\n      <th>1</th>\n      <td>1</td>\n      <td>24</td>\n      <td>5.0</td>\n    </tr>\n    <tr>\n      <th>2</th>\n      <td>2</td>\n      <td>20</td>\n      <td>5.0</td>\n    </tr>\n    <tr>\n      <th>3</th>\n      <td>2</td>\n      <td>24</td>\n      <td>3.0</td>\n    </tr>\n    <tr>\n      <th>4</th>\n      <td>4</td>\n      <td>30</td>\n      <td>4.0</td>\n    </tr>\n    <tr>\n      <th>...</th>\n      <td>...</td>\n      <td>...</td>\n      <td>...</td>\n    </tr>\n    <tr>\n      <th>257</th>\n      <td>197</td>\n      <td>35</td>\n      <td>4.0</td>\n    </tr>\n    <tr>\n      <th>258</th>\n      <td>197</td>\n      <td>1</td>\n      <td>4.0</td>\n    </tr>\n    <tr>\n      <th>259</th>\n      <td>198</td>\n      <td>1</td>\n      <td>5.0</td>\n    </tr>\n    <tr>\n      <th>260</th>\n      <td>199</td>\n      <td>29</td>\n      <td>5.0</td>\n    </tr>\n    <tr>\n      <th>261</th>\n      <td>199</td>\n      <td>24</td>\n      <td>4.0</td>\n    </tr>\n  </tbody>\n</table>\n<p>262 rows × 3 columns</p>\n</div>"
     },
     "execution_count": 132,
     "metadata": {},
     "output_type": "execute_result"
    }
   ],
   "source": [
    "tours_rating_df = pd.DataFrame(tours_ratings)\n",
    "tours_rating_df.rename(columns={tours_rating_df.columns[0]: 'tourist_id',tours_rating_df.columns[1]: 'tour_id',guides_rating_df.columns[2]: 'rating'}, inplace=False)"
   ]
  },
  {
   "cell_type": "markdown",
   "id": "4416ab04-092c-4eb3-8bd4-73513252e04c",
   "metadata": {},
   "source": [
    "Generate files in format .csv"
   ]
  },
  {
   "cell_type": "code",
   "execution_count": 133,
   "id": "3f2aa1b2",
   "metadata": {
    "pycharm": {
     "name": "#%%\n"
    }
   },
   "outputs": [],
   "source": [
    "# saving dataframes to files for later use\n",
    "tourist_df.to_csv(\"Data/tourists_{:d}.csv\".format(n_tourists), index=True, sep=';')\n",
    "guide_df.to_csv(\"Data/guides_{:d}.csv\".format(n_guides), index=True, sep=';')\n",
    "guides_rating_df.to_csv('Data/guides_ratings_{:d}_{:d}.csv'.format(n_tourists,n_guides), index=False, sep=';')"
   ]
  },
  {
   "cell_type": "code",
   "execution_count": 134,
   "id": "8cd7727a-3af9-45d8-b666-68e66c5ea21c",
   "metadata": {
    "pycharm": {
     "name": "#%%\n"
    }
   },
   "outputs": [],
   "source": [
    "tours_df.to_csv('Data/tours_{:d}.csv'.format(n_tours), index=True, sep=';')\n",
    "tours_rating_df.to_csv('Data/tours_ratings_{:d}_{:d}.csv'.format(n_tourists,n_tours), index=False, sep=';')"
   ]
  },
  {
   "cell_type": "code",
   "execution_count": 134,
   "outputs": [],
   "source": [],
   "metadata": {
    "collapsed": false,
    "pycharm": {
     "name": "#%%\n"
    }
   }
  },
  {
   "cell_type": "code",
   "execution_count": null,
   "outputs": [],
   "source": [],
   "metadata": {
    "collapsed": false,
    "pycharm": {
     "name": "#%%\n"
    }
   }
  }
 ],
 "metadata": {
  "kernelspec": {
   "display_name": "Python 3 (ipykernel)",
   "language": "python",
   "name": "python3"
  },
  "language_info": {
   "codemirror_mode": {
    "name": "ipython",
    "version": 3
   },
   "file_extension": ".py",
   "mimetype": "text/x-python",
   "name": "python",
   "nbconvert_exporter": "python",
   "pygments_lexer": "ipython3",
   "version": "3.11.5"
  }
 },
 "nbformat": 4,
 "nbformat_minor": 5
}
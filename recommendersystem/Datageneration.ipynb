{
 "cells": [
  {
   "cell_type": "markdown",
   "id": "89749ce3",
   "metadata": {
    "pycharm": {
     "name": "#%% md\n"
    }
   },
   "source": [
    "# Fake data generation"
   ]
  },
  {
   "cell_type": "code",
   "execution_count": 1,
   "id": "5c93a1fc",
   "metadata": {
    "pycharm": {
     "name": "#%%\n"
    }
   },
   "outputs": [],
   "source": [
    "from faker import Faker\n",
    "import numpy as np\n",
    "import pandas as pd\n",
    "import random"
   ]
  },
  {
   "cell_type": "code",
   "execution_count": 2,
   "id": "cc09c43b",
   "metadata": {
    "pycharm": {
     "name": "#%%\n"
    }
   },
   "outputs": [],
   "source": [
    "# Set random seed\n",
    "seed = 666\n",
    "\n",
    "random.seed(seed)\n",
    "faker = Faker(seed=seed)\n",
    "np.random.seed(seed)"
   ]
  },
  {
   "cell_type": "code",
   "execution_count": 3,
   "outputs": [],
   "source": [
    "languages = ['english', 'italian', 'french', 'spanish', 'deutsche', 'dutch', 'bulgarian', 'chinese']"
   ],
   "metadata": {
    "collapsed": false,
    "pycharm": {
     "name": "#%%\n"
    }
   }
  },
  {
   "cell_type": "code",
   "execution_count": 4,
   "id": "e7c9b79e",
   "metadata": {
    "pycharm": {
     "name": "#%%\n"
    }
   },
   "outputs": [],
   "source": [
    "keywords = [\n",
    "    'archeology',\n",
    "    'museums',\n",
    "    'music',\n",
    "    'art',\n",
    "    'cinema',\n",
    "    'countryside',\n",
    "    'tracking',\n",
    "    'rafting',\n",
    "    'history',\n",
    "    'literature',\n",
    "    'sport',\n",
    "    'food',\n",
    "    'wine',\n",
    "    'beer'\n",
    "]"
   ]
  },
  {
   "cell_type": "code",
   "execution_count": 5,
   "outputs": [],
   "source": [
    "education = ['middle-school', 'high-school', 'bachelor', 'master', 'phd']"
   ],
   "metadata": {
    "collapsed": false,
    "pycharm": {
     "name": "#%%\n"
    }
   }
  },
  {
   "cell_type": "code",
   "execution_count": 6,
   "id": "c7159655",
   "metadata": {
    "pycharm": {
     "name": "#%%\n"
    }
   },
   "outputs": [],
   "source": [
    "# guide profile generation\n",
    "def generate_guide():\n",
    "    guide = {}\n",
    "    guide['gender'] = np.random.choice(['male', 'female'], size=1).item()\n",
    "    guide['name'] = (faker.first_name_male() if guide['gender'] == 'male' else faker.first_name_female()) + ' ' + faker.last_name()\n",
    "    guide['birth_date'] = faker.date_of_birth(maximum_age=65, minimum_age=20)\n",
    "    guide['now_available'] = True\n",
    "    guide['languages_spoken'] = list(np.random.choice(languages, size=1+np.random.poisson(lam=1, size=1).item(), replace=False))\n",
    "    guide['price'] = int(max(10, np.abs(np.random.normal(30, 5))))\n",
    "    guide['education'] = np.random.choice(education, size=1).item()\n",
    "    guide['biography'] = faker.profile()['job']\n",
    "    guide['keywords'] = list(np.random.choice(keywords, size=np.random.poisson(2, size=1).item(), replace=False))\n",
    "    guide['current_location'] = {\n",
    "        \"lat\": np.random.normal(40.3524, 0.01),\n",
    "        \"lon\": np.random.normal(18.1732, 0.01)\n",
    "    }\n",
    "    guide['experience'] = random.randint(1,2024-guide['birth_date'].year-18)\n",
    "    \n",
    "    return guide"
   ]
  },
  {
   "cell_type": "code",
   "execution_count": 7,
   "id": "64ea26af",
   "metadata": {
    "pycharm": {
     "name": "#%%\n"
    }
   },
   "outputs": [],
   "source": [
    "# user profile generation\n",
    "def generate_tourist():\n",
    "\n",
    "    tourist = {}\n",
    "\n",
    "    tourist['languages'] = list(np.random.choice(languages, size=1, replace=False))\n",
    "    tourist['keywords'] = list(np.random.choice(keywords, size=np.random.poisson(2, size=1).item(), replace=False))\n",
    "    \n",
    "    return tourist"
   ]
  },
  {
   "cell_type": "code",
   "execution_count": 8,
   "id": "7c5ba6e1",
   "metadata": {
    "pycharm": {
     "name": "#%%\n"
    }
   },
   "outputs": [],
   "source": [
    "import random \n",
    "\n",
    "# rating generation\n",
    "def generate_rating (tourists, guides):\n",
    "    ratings = []\n",
    "    for i in range(len(tourists)):\n",
    "        \n",
    "        # random choose guides from intersection of languages\n",
    "        intersect_guides = [index for index in range(len(guides)) if np.all(np.in1d(tourists[i]['languages'], guides[index]['languages_spoken']))]\n",
    "        other_guides = [index for index in range(len(guides)) if index not in intersect_guides]\n",
    "        \n",
    "        # random choose 3 guides without duplicates\n",
    "        random_guides = np.random.choice(intersect_guides,2, replace=False)\n",
    "        random_guide = np.random.choice(other_guides,1)\n",
    "        \n",
    "        # random choose 1 or 2 guides to rate\n",
    "        for j in range(np.random.randint(1,3)):\n",
    "\n",
    "            rating = round(np.random.normal(loc=4, scale=0.5, size=1).item(),0)\n",
    "            ratings.append((i,random_guides[j],rating))\n",
    "\n",
    "#         # random choose if rate badly\n",
    "# #        if(np.random.binomial(1, 0.2)):\n",
    "#             bad_rating = round(np.random.normal(loc=1.5, scale=0.3, size=1).item(),0)\n",
    "#             # rate the last guide with bad rating\n",
    "#             ratings.append((i,random_guide[0],bad_rating))\n",
    "#\n",
    "    return ratings"
   ]
  },
  {
   "cell_type": "markdown",
   "id": "a28cd32b",
   "metadata": {
    "pycharm": {
     "name": "#%% md\n"
    }
   },
   "source": [
    "#### Data generation"
   ]
  },
  {
   "cell_type": "code",
   "execution_count": 9,
   "id": "5a79c4f2",
   "metadata": {
    "pycharm": {
     "name": "#%%\n"
    }
   },
   "outputs": [],
   "source": [
    "n_tourists = 200\n",
    "n_guides = 40"
   ]
  },
  {
   "cell_type": "code",
   "execution_count": 10,
   "id": "fec71d08",
   "metadata": {
    "pycharm": {
     "name": "#%%\n"
    }
   },
   "outputs": [],
   "source": [
    "guides = [generate_guide() for _ in range(n_guides)]\n",
    "tourists = [generate_tourist() for _ in range(n_tourists)]"
   ]
  },
  {
   "cell_type": "code",
   "execution_count": 11,
   "id": "513e427d",
   "metadata": {
    "pycharm": {
     "name": "#%%\n"
    }
   },
   "outputs": [],
   "source": [
    "ratings = generate_rating(tourists,guides)"
   ]
  },
  {
   "cell_type": "markdown",
   "id": "a3cdcf8a",
   "metadata": {
    "pycharm": {
     "name": "#%% md\n"
    }
   },
   "source": [
    "Dataframes"
   ]
  },
  {
   "cell_type": "code",
   "execution_count": 12,
   "id": "d0484a7d",
   "metadata": {
    "pycharm": {
     "name": "#%%\n"
    },
    "scrolled": true
   },
   "outputs": [
    {
     "data": {
      "text/plain": "    gender               name  birth_date  now_available  \\\n0     male    Jeffrey Carroll  1960-10-18           True   \n1   female      Regina Thomas  1989-11-21           True   \n2   female  Brianna Nicholson  1962-05-03           True   \n3     male         Jordan Ali  1992-10-15           True   \n4     male      Steven Taylor  1985-01-25           True   \n5     male    Ronald Mitchell  1959-06-15           True   \n6     male         John Lloyd  1983-04-08           True   \n7     male      Jason Hartman  1971-12-09           True   \n8     male       Cody Stevens  1992-11-27           True   \n9     male       Daniel Carey  1988-09-18           True   \n10  female     Ellen Benjamin  1973-02-24           True   \n11  female        Monica Webb  1988-07-30           True   \n12  female        Monica Cruz  2003-10-13           True   \n13  female    Vanessa Wallace  1995-02-13           True   \n14    male     Bobby Galloway  1968-03-16           True   \n15    male  Russell Patterson  1971-04-08           True   \n16    male     Kenneth Santos  2000-10-26           True   \n17    male    Jonathan Taylor  2002-04-20           True   \n18    male         Frank Bond  1977-09-12           True   \n19  female      Angel Whitney  1997-09-17           True   \n20  female      Theresa Brown  2002-02-03           True   \n21    male    Anthony Hensley  1970-03-21           True   \n22  female     Denise Carroll  1968-04-20           True   \n23  female        Karen Adams  1984-08-10           True   \n24  female      Rebecca Cohen  1987-10-18           True   \n25  female       Anna Shannon  1985-07-12           True   \n26    male  Michael Schneider  1990-04-16           True   \n27  female      Kelly Garrett  1980-05-02           True   \n28  female       Lisa Woodard  1962-01-03           True   \n29  female       Melissa Hart  1992-06-23           True   \n30  female     Ashley Johnson  1999-01-23           True   \n31    male         Eric Smith  1975-09-04           True   \n32  female      Angela Morgan  1960-04-05           True   \n33    male     Matthew Barker  1987-04-29           True   \n34  female    Brittany Martin  1983-10-24           True   \n35    male       Mark Hammond  1969-02-02           True   \n36    male  Robert Harrington  1962-12-11           True   \n37    male   Gabriel Jacobson  1969-04-22           True   \n38  female      Joann Sweeney  1998-11-24           True   \n39  female        Nancy Clark  1968-12-21           True   \n\n                          languages_spoken  price      education  \\\n0                                [english]     25    high-school   \n1                         [italian, dutch]     36  middle-school   \n2               [chinese, french, english]     34            phd   \n3                              [bulgarian]     46       bachelor   \n4                       [deutsche, french]     30         master   \n5             [deutsche, dutch, bulgarian]     27  middle-school   \n6               [english, chinese, french]     34  middle-school   \n7        [spanish, dutch, french, italian]     33       bachelor   \n8            [bulgarian, english, chinese]     31  middle-school   \n9     [chinese, bulgarian, dutch, english]     37            phd   \n10                   [bulgarian, deutsche]     23    high-school   \n11                             [bulgarian]     23            phd   \n12                [dutch, french, italian]     19       bachelor   \n13                      [chinese, english]     27         master   \n14                       [chinese, french]     40  middle-school   \n15                     [deutsche, chinese]     31  middle-school   \n16            [spanish, bulgarian, french]     32  middle-school   \n17                                 [dutch]     26         master   \n18                        [italian, dutch]     24       bachelor   \n19          [bulgarian, deutsche, english]     35  middle-school   \n20                      [deutsche, french]     43         master   \n21                               [chinese]     26    high-school   \n22                      [chinese, spanish]     25    high-school   \n23           [english, italian, bulgarian]     20  middle-school   \n24             [dutch, italian, bulgarian]     28    high-school   \n25                             [bulgarian]     31            phd   \n26                                 [dutch]     30            phd   \n27                               [italian]     30            phd   \n28                               [spanish]     25  middle-school   \n29                    [bulgarian, chinese]     28         master   \n30             [french, deutsche, english]     27       bachelor   \n31             [deutsche, french, english]     23         master   \n32                     [french, bulgarian]     28            phd   \n33                                [french]     26  middle-school   \n34  [chinese, spanish, bulgarian, italian]     28  middle-school   \n35                       [italian, french]     30         master   \n36                               [spanish]     26            phd   \n37                                 [dutch]     26         master   \n38                               [italian]     28         master   \n39                        [spanish, dutch]     26  middle-school   \n\n                                            biography  \\\n0                                        Sports coach   \n1                                       Stage manager   \n2                     Psychotherapist, dance movement   \n3   Scientist, clinical (histocompatibility and im...   \n4                           Trading standards officer   \n5                           Teacher, secondary school   \n6                                Engineer, electrical   \n7                                   Fish farm manager   \n8                                      Therapist, art   \n9                                   Fish farm manager   \n10                                Corporate treasurer   \n11                Designer, blown glass/stained glass   \n12                        Advertising account planner   \n13                                      Warden/ranger   \n14               Accountant, chartered public finance   \n15                            Chief Operating Officer   \n16                                            Actuary   \n17                                Magazine journalist   \n18                                               Land   \n19                                  Probation officer   \n20                    Accountant, chartered certified   \n21                                 Surveyor, quantity   \n22                                  Fisheries officer   \n23                         Television camera operator   \n24                               Financial controller   \n25              Development worker, international aid   \n26                                  Probation officer   \n27                     Chartered certified accountant   \n28                   Accountant, chartered management   \n29                              Geneticist, molecular   \n30                           Secondary school teacher   \n31                                Broadcast presenter   \n32                            Water quality scientist   \n33                               Public house manager   \n34                               Community pharmacist   \n35                                  Transport planner   \n36                                  Software engineer   \n37                                   Product designer   \n38                              Child psychotherapist   \n39                    Producer, television/film/video   \n\n                                             keywords  \\\n0                                           [museums]   \n1                    [cinema, rafting, history, wine]   \n2                             [food, archeology, art]   \n3                         [countryside, rafting, art]   \n4                       [countryside, tracking, beer]   \n5                                                  []   \n6                               [rafting, art, sport]   \n7                   [museums, art, countryside, wine]   \n8                         [literature, cinema, music]   \n9                                           [museums]   \n10     [cinema, rafting, sport, museums, countryside]   \n11                            [cinema, beer, rafting]   \n12                               [sport, music, beer]   \n13                          [sport, archeology, beer]   \n14                                          [museums]   \n15                [music, food, tracking, archeology]   \n16                         [countryside, music, beer]   \n17                                 [wine, sport, art]   \n18                                             [food]   \n19                                                 []   \n20                           [rafting, museums, food]   \n21                                           [cinema]   \n22  [history, countryside, cinema, literature, music]   \n23                                         [tracking]   \n24                                                 []   \n25                                       [literature]   \n26                          [tracking, beer, museums]   \n27                                [countryside, beer]   \n28     [food, rafting, museums, music, art, tracking]   \n29                 [archeology, literature, tracking]   \n30                                            [music]   \n31                         [music, countryside, food]   \n32                                [archeology, music]   \n33             [beer, music, countryside, archeology]   \n34                                                 []   \n35                                            [music]   \n36                                                 []   \n37                                                 []   \n38                                                 []   \n39                                          [history]   \n\n                                     current_location  experience  \n0   {'lat': 40.342693584880706, 'lon': 18.16438078...          30  \n1   {'lat': 40.3367551413547, 'lon': 18.1569120995...          13  \n2   {'lat': 40.362447049660204, 'lon': 18.14225129...          28  \n3   {'lat': 40.36584086550253, 'lon': 18.183002910...           5  \n4   {'lat': 40.354724889812935, 'lon': 18.20308322...          17  \n5   {'lat': 40.35854623058413, 'lon': 18.183459879...           1  \n6   {'lat': 40.35774331848761, 'lon': 18.163273185...          18  \n7   {'lat': 40.365193043282794, 'lon': 18.18548169...          22  \n8   {'lat': 40.35265552781134, 'lon': 18.151723396...           2  \n9   {'lat': 40.33774657696426, 'lon': 18.182064664...           2  \n10  {'lat': 40.36612881009787, 'lon': 18.182042843...          10  \n11  {'lat': 40.367394960036485, 'lon': 18.17553586...          13  \n12  {'lat': 40.34268462008425, 'lon': 18.187542175...           3  \n13  {'lat': 40.35377358678542, 'lon': 18.174728239...           8  \n14  {'lat': 40.353069674191346, 'lon': 18.17755576...          38  \n15  {'lat': 40.35272705494921, 'lon': 18.165705019...          16  \n16  {'lat': 40.32347428820915, 'lon': 18.164571467...           1  \n17  {'lat': 40.36624424923941, 'lon': 18.174443383...           1  \n18  {'lat': 40.362871505646005, 'lon': 18.18292777...           9  \n19  {'lat': 40.339915788807765, 'lon': 18.18379781...           2  \n20  {'lat': 40.357612936236265, 'lon': 18.16907898...           3  \n21  {'lat': 40.342846292499104, 'lon': 18.16089760...          10  \n22  {'lat': 40.36846436096489, 'lon': 18.171263566...          11  \n23  {'lat': 40.364408581391295, 'lon': 18.16428124...           9  \n24  {'lat': 40.32998981194129, 'lon': 18.175342312...          18  \n25  {'lat': 40.36710284805045, 'lon': 18.179956956...          14  \n26  {'lat': 40.37981446263931, 'lon': 18.178854600...          12  \n27  {'lat': 40.3457074414046, 'lon': 18.1747654675...          23  \n28  {'lat': 40.35079556972286, 'lon': 18.181927024...          19  \n29  {'lat': 40.35465462623879, 'lon': 18.172666005...           9  \n30  {'lat': 40.361047668976795, 'lon': 18.18633484...           7  \n31  {'lat': 40.339171732936364, 'lon': 18.16792590...           3  \n32  {'lat': 40.343414579847, 'lon': 18.18565562805...          20  \n33  {'lat': 40.34424559835338, 'lon': 18.174907197...           7  \n34  {'lat': 40.38198340911851, 'lon': 18.173378831...          20  \n35  {'lat': 40.36699713437984, 'lon': 18.165786470...           3  \n36  {'lat': 40.358649720289904, 'lon': 18.16378056...           9  \n37  {'lat': 40.3604075695112, 'lon': 18.1615738690...           2  \n38  {'lat': 40.36497247240833, 'lon': 18.173581152...           1  \n39  {'lat': 40.35901486939172, 'lon': 18.166553513...           4  ",
      "text/html": "<div>\n<style scoped>\n    .dataframe tbody tr th:only-of-type {\n        vertical-align: middle;\n    }\n\n    .dataframe tbody tr th {\n        vertical-align: top;\n    }\n\n    .dataframe thead th {\n        text-align: right;\n    }\n</style>\n<table border=\"1\" class=\"dataframe\">\n  <thead>\n    <tr style=\"text-align: right;\">\n      <th></th>\n      <th>gender</th>\n      <th>name</th>\n      <th>birth_date</th>\n      <th>now_available</th>\n      <th>languages_spoken</th>\n      <th>price</th>\n      <th>education</th>\n      <th>biography</th>\n      <th>keywords</th>\n      <th>current_location</th>\n      <th>experience</th>\n    </tr>\n  </thead>\n  <tbody>\n    <tr>\n      <th>0</th>\n      <td>male</td>\n      <td>Jeffrey Carroll</td>\n      <td>1960-10-18</td>\n      <td>True</td>\n      <td>[english]</td>\n      <td>25</td>\n      <td>high-school</td>\n      <td>Sports coach</td>\n      <td>[museums]</td>\n      <td>{'lat': 40.342693584880706, 'lon': 18.16438078...</td>\n      <td>30</td>\n    </tr>\n    <tr>\n      <th>1</th>\n      <td>female</td>\n      <td>Regina Thomas</td>\n      <td>1989-11-21</td>\n      <td>True</td>\n      <td>[italian, dutch]</td>\n      <td>36</td>\n      <td>middle-school</td>\n      <td>Stage manager</td>\n      <td>[cinema, rafting, history, wine]</td>\n      <td>{'lat': 40.3367551413547, 'lon': 18.1569120995...</td>\n      <td>13</td>\n    </tr>\n    <tr>\n      <th>2</th>\n      <td>female</td>\n      <td>Brianna Nicholson</td>\n      <td>1962-05-03</td>\n      <td>True</td>\n      <td>[chinese, french, english]</td>\n      <td>34</td>\n      <td>phd</td>\n      <td>Psychotherapist, dance movement</td>\n      <td>[food, archeology, art]</td>\n      <td>{'lat': 40.362447049660204, 'lon': 18.14225129...</td>\n      <td>28</td>\n    </tr>\n    <tr>\n      <th>3</th>\n      <td>male</td>\n      <td>Jordan Ali</td>\n      <td>1992-10-15</td>\n      <td>True</td>\n      <td>[bulgarian]</td>\n      <td>46</td>\n      <td>bachelor</td>\n      <td>Scientist, clinical (histocompatibility and im...</td>\n      <td>[countryside, rafting, art]</td>\n      <td>{'lat': 40.36584086550253, 'lon': 18.183002910...</td>\n      <td>5</td>\n    </tr>\n    <tr>\n      <th>4</th>\n      <td>male</td>\n      <td>Steven Taylor</td>\n      <td>1985-01-25</td>\n      <td>True</td>\n      <td>[deutsche, french]</td>\n      <td>30</td>\n      <td>master</td>\n      <td>Trading standards officer</td>\n      <td>[countryside, tracking, beer]</td>\n      <td>{'lat': 40.354724889812935, 'lon': 18.20308322...</td>\n      <td>17</td>\n    </tr>\n    <tr>\n      <th>5</th>\n      <td>male</td>\n      <td>Ronald Mitchell</td>\n      <td>1959-06-15</td>\n      <td>True</td>\n      <td>[deutsche, dutch, bulgarian]</td>\n      <td>27</td>\n      <td>middle-school</td>\n      <td>Teacher, secondary school</td>\n      <td>[]</td>\n      <td>{'lat': 40.35854623058413, 'lon': 18.183459879...</td>\n      <td>1</td>\n    </tr>\n    <tr>\n      <th>6</th>\n      <td>male</td>\n      <td>John Lloyd</td>\n      <td>1983-04-08</td>\n      <td>True</td>\n      <td>[english, chinese, french]</td>\n      <td>34</td>\n      <td>middle-school</td>\n      <td>Engineer, electrical</td>\n      <td>[rafting, art, sport]</td>\n      <td>{'lat': 40.35774331848761, 'lon': 18.163273185...</td>\n      <td>18</td>\n    </tr>\n    <tr>\n      <th>7</th>\n      <td>male</td>\n      <td>Jason Hartman</td>\n      <td>1971-12-09</td>\n      <td>True</td>\n      <td>[spanish, dutch, french, italian]</td>\n      <td>33</td>\n      <td>bachelor</td>\n      <td>Fish farm manager</td>\n      <td>[museums, art, countryside, wine]</td>\n      <td>{'lat': 40.365193043282794, 'lon': 18.18548169...</td>\n      <td>22</td>\n    </tr>\n    <tr>\n      <th>8</th>\n      <td>male</td>\n      <td>Cody Stevens</td>\n      <td>1992-11-27</td>\n      <td>True</td>\n      <td>[bulgarian, english, chinese]</td>\n      <td>31</td>\n      <td>middle-school</td>\n      <td>Therapist, art</td>\n      <td>[literature, cinema, music]</td>\n      <td>{'lat': 40.35265552781134, 'lon': 18.151723396...</td>\n      <td>2</td>\n    </tr>\n    <tr>\n      <th>9</th>\n      <td>male</td>\n      <td>Daniel Carey</td>\n      <td>1988-09-18</td>\n      <td>True</td>\n      <td>[chinese, bulgarian, dutch, english]</td>\n      <td>37</td>\n      <td>phd</td>\n      <td>Fish farm manager</td>\n      <td>[museums]</td>\n      <td>{'lat': 40.33774657696426, 'lon': 18.182064664...</td>\n      <td>2</td>\n    </tr>\n    <tr>\n      <th>10</th>\n      <td>female</td>\n      <td>Ellen Benjamin</td>\n      <td>1973-02-24</td>\n      <td>True</td>\n      <td>[bulgarian, deutsche]</td>\n      <td>23</td>\n      <td>high-school</td>\n      <td>Corporate treasurer</td>\n      <td>[cinema, rafting, sport, museums, countryside]</td>\n      <td>{'lat': 40.36612881009787, 'lon': 18.182042843...</td>\n      <td>10</td>\n    </tr>\n    <tr>\n      <th>11</th>\n      <td>female</td>\n      <td>Monica Webb</td>\n      <td>1988-07-30</td>\n      <td>True</td>\n      <td>[bulgarian]</td>\n      <td>23</td>\n      <td>phd</td>\n      <td>Designer, blown glass/stained glass</td>\n      <td>[cinema, beer, rafting]</td>\n      <td>{'lat': 40.367394960036485, 'lon': 18.17553586...</td>\n      <td>13</td>\n    </tr>\n    <tr>\n      <th>12</th>\n      <td>female</td>\n      <td>Monica Cruz</td>\n      <td>2003-10-13</td>\n      <td>True</td>\n      <td>[dutch, french, italian]</td>\n      <td>19</td>\n      <td>bachelor</td>\n      <td>Advertising account planner</td>\n      <td>[sport, music, beer]</td>\n      <td>{'lat': 40.34268462008425, 'lon': 18.187542175...</td>\n      <td>3</td>\n    </tr>\n    <tr>\n      <th>13</th>\n      <td>female</td>\n      <td>Vanessa Wallace</td>\n      <td>1995-02-13</td>\n      <td>True</td>\n      <td>[chinese, english]</td>\n      <td>27</td>\n      <td>master</td>\n      <td>Warden/ranger</td>\n      <td>[sport, archeology, beer]</td>\n      <td>{'lat': 40.35377358678542, 'lon': 18.174728239...</td>\n      <td>8</td>\n    </tr>\n    <tr>\n      <th>14</th>\n      <td>male</td>\n      <td>Bobby Galloway</td>\n      <td>1968-03-16</td>\n      <td>True</td>\n      <td>[chinese, french]</td>\n      <td>40</td>\n      <td>middle-school</td>\n      <td>Accountant, chartered public finance</td>\n      <td>[museums]</td>\n      <td>{'lat': 40.353069674191346, 'lon': 18.17755576...</td>\n      <td>38</td>\n    </tr>\n    <tr>\n      <th>15</th>\n      <td>male</td>\n      <td>Russell Patterson</td>\n      <td>1971-04-08</td>\n      <td>True</td>\n      <td>[deutsche, chinese]</td>\n      <td>31</td>\n      <td>middle-school</td>\n      <td>Chief Operating Officer</td>\n      <td>[music, food, tracking, archeology]</td>\n      <td>{'lat': 40.35272705494921, 'lon': 18.165705019...</td>\n      <td>16</td>\n    </tr>\n    <tr>\n      <th>16</th>\n      <td>male</td>\n      <td>Kenneth Santos</td>\n      <td>2000-10-26</td>\n      <td>True</td>\n      <td>[spanish, bulgarian, french]</td>\n      <td>32</td>\n      <td>middle-school</td>\n      <td>Actuary</td>\n      <td>[countryside, music, beer]</td>\n      <td>{'lat': 40.32347428820915, 'lon': 18.164571467...</td>\n      <td>1</td>\n    </tr>\n    <tr>\n      <th>17</th>\n      <td>male</td>\n      <td>Jonathan Taylor</td>\n      <td>2002-04-20</td>\n      <td>True</td>\n      <td>[dutch]</td>\n      <td>26</td>\n      <td>master</td>\n      <td>Magazine journalist</td>\n      <td>[wine, sport, art]</td>\n      <td>{'lat': 40.36624424923941, 'lon': 18.174443383...</td>\n      <td>1</td>\n    </tr>\n    <tr>\n      <th>18</th>\n      <td>male</td>\n      <td>Frank Bond</td>\n      <td>1977-09-12</td>\n      <td>True</td>\n      <td>[italian, dutch]</td>\n      <td>24</td>\n      <td>bachelor</td>\n      <td>Land</td>\n      <td>[food]</td>\n      <td>{'lat': 40.362871505646005, 'lon': 18.18292777...</td>\n      <td>9</td>\n    </tr>\n    <tr>\n      <th>19</th>\n      <td>female</td>\n      <td>Angel Whitney</td>\n      <td>1997-09-17</td>\n      <td>True</td>\n      <td>[bulgarian, deutsche, english]</td>\n      <td>35</td>\n      <td>middle-school</td>\n      <td>Probation officer</td>\n      <td>[]</td>\n      <td>{'lat': 40.339915788807765, 'lon': 18.18379781...</td>\n      <td>2</td>\n    </tr>\n    <tr>\n      <th>20</th>\n      <td>female</td>\n      <td>Theresa Brown</td>\n      <td>2002-02-03</td>\n      <td>True</td>\n      <td>[deutsche, french]</td>\n      <td>43</td>\n      <td>master</td>\n      <td>Accountant, chartered certified</td>\n      <td>[rafting, museums, food]</td>\n      <td>{'lat': 40.357612936236265, 'lon': 18.16907898...</td>\n      <td>3</td>\n    </tr>\n    <tr>\n      <th>21</th>\n      <td>male</td>\n      <td>Anthony Hensley</td>\n      <td>1970-03-21</td>\n      <td>True</td>\n      <td>[chinese]</td>\n      <td>26</td>\n      <td>high-school</td>\n      <td>Surveyor, quantity</td>\n      <td>[cinema]</td>\n      <td>{'lat': 40.342846292499104, 'lon': 18.16089760...</td>\n      <td>10</td>\n    </tr>\n    <tr>\n      <th>22</th>\n      <td>female</td>\n      <td>Denise Carroll</td>\n      <td>1968-04-20</td>\n      <td>True</td>\n      <td>[chinese, spanish]</td>\n      <td>25</td>\n      <td>high-school</td>\n      <td>Fisheries officer</td>\n      <td>[history, countryside, cinema, literature, music]</td>\n      <td>{'lat': 40.36846436096489, 'lon': 18.171263566...</td>\n      <td>11</td>\n    </tr>\n    <tr>\n      <th>23</th>\n      <td>female</td>\n      <td>Karen Adams</td>\n      <td>1984-08-10</td>\n      <td>True</td>\n      <td>[english, italian, bulgarian]</td>\n      <td>20</td>\n      <td>middle-school</td>\n      <td>Television camera operator</td>\n      <td>[tracking]</td>\n      <td>{'lat': 40.364408581391295, 'lon': 18.16428124...</td>\n      <td>9</td>\n    </tr>\n    <tr>\n      <th>24</th>\n      <td>female</td>\n      <td>Rebecca Cohen</td>\n      <td>1987-10-18</td>\n      <td>True</td>\n      <td>[dutch, italian, bulgarian]</td>\n      <td>28</td>\n      <td>high-school</td>\n      <td>Financial controller</td>\n      <td>[]</td>\n      <td>{'lat': 40.32998981194129, 'lon': 18.175342312...</td>\n      <td>18</td>\n    </tr>\n    <tr>\n      <th>25</th>\n      <td>female</td>\n      <td>Anna Shannon</td>\n      <td>1985-07-12</td>\n      <td>True</td>\n      <td>[bulgarian]</td>\n      <td>31</td>\n      <td>phd</td>\n      <td>Development worker, international aid</td>\n      <td>[literature]</td>\n      <td>{'lat': 40.36710284805045, 'lon': 18.179956956...</td>\n      <td>14</td>\n    </tr>\n    <tr>\n      <th>26</th>\n      <td>male</td>\n      <td>Michael Schneider</td>\n      <td>1990-04-16</td>\n      <td>True</td>\n      <td>[dutch]</td>\n      <td>30</td>\n      <td>phd</td>\n      <td>Probation officer</td>\n      <td>[tracking, beer, museums]</td>\n      <td>{'lat': 40.37981446263931, 'lon': 18.178854600...</td>\n      <td>12</td>\n    </tr>\n    <tr>\n      <th>27</th>\n      <td>female</td>\n      <td>Kelly Garrett</td>\n      <td>1980-05-02</td>\n      <td>True</td>\n      <td>[italian]</td>\n      <td>30</td>\n      <td>phd</td>\n      <td>Chartered certified accountant</td>\n      <td>[countryside, beer]</td>\n      <td>{'lat': 40.3457074414046, 'lon': 18.1747654675...</td>\n      <td>23</td>\n    </tr>\n    <tr>\n      <th>28</th>\n      <td>female</td>\n      <td>Lisa Woodard</td>\n      <td>1962-01-03</td>\n      <td>True</td>\n      <td>[spanish]</td>\n      <td>25</td>\n      <td>middle-school</td>\n      <td>Accountant, chartered management</td>\n      <td>[food, rafting, museums, music, art, tracking]</td>\n      <td>{'lat': 40.35079556972286, 'lon': 18.181927024...</td>\n      <td>19</td>\n    </tr>\n    <tr>\n      <th>29</th>\n      <td>female</td>\n      <td>Melissa Hart</td>\n      <td>1992-06-23</td>\n      <td>True</td>\n      <td>[bulgarian, chinese]</td>\n      <td>28</td>\n      <td>master</td>\n      <td>Geneticist, molecular</td>\n      <td>[archeology, literature, tracking]</td>\n      <td>{'lat': 40.35465462623879, 'lon': 18.172666005...</td>\n      <td>9</td>\n    </tr>\n    <tr>\n      <th>30</th>\n      <td>female</td>\n      <td>Ashley Johnson</td>\n      <td>1999-01-23</td>\n      <td>True</td>\n      <td>[french, deutsche, english]</td>\n      <td>27</td>\n      <td>bachelor</td>\n      <td>Secondary school teacher</td>\n      <td>[music]</td>\n      <td>{'lat': 40.361047668976795, 'lon': 18.18633484...</td>\n      <td>7</td>\n    </tr>\n    <tr>\n      <th>31</th>\n      <td>male</td>\n      <td>Eric Smith</td>\n      <td>1975-09-04</td>\n      <td>True</td>\n      <td>[deutsche, french, english]</td>\n      <td>23</td>\n      <td>master</td>\n      <td>Broadcast presenter</td>\n      <td>[music, countryside, food]</td>\n      <td>{'lat': 40.339171732936364, 'lon': 18.16792590...</td>\n      <td>3</td>\n    </tr>\n    <tr>\n      <th>32</th>\n      <td>female</td>\n      <td>Angela Morgan</td>\n      <td>1960-04-05</td>\n      <td>True</td>\n      <td>[french, bulgarian]</td>\n      <td>28</td>\n      <td>phd</td>\n      <td>Water quality scientist</td>\n      <td>[archeology, music]</td>\n      <td>{'lat': 40.343414579847, 'lon': 18.18565562805...</td>\n      <td>20</td>\n    </tr>\n    <tr>\n      <th>33</th>\n      <td>male</td>\n      <td>Matthew Barker</td>\n      <td>1987-04-29</td>\n      <td>True</td>\n      <td>[french]</td>\n      <td>26</td>\n      <td>middle-school</td>\n      <td>Public house manager</td>\n      <td>[beer, music, countryside, archeology]</td>\n      <td>{'lat': 40.34424559835338, 'lon': 18.174907197...</td>\n      <td>7</td>\n    </tr>\n    <tr>\n      <th>34</th>\n      <td>female</td>\n      <td>Brittany Martin</td>\n      <td>1983-10-24</td>\n      <td>True</td>\n      <td>[chinese, spanish, bulgarian, italian]</td>\n      <td>28</td>\n      <td>middle-school</td>\n      <td>Community pharmacist</td>\n      <td>[]</td>\n      <td>{'lat': 40.38198340911851, 'lon': 18.173378831...</td>\n      <td>20</td>\n    </tr>\n    <tr>\n      <th>35</th>\n      <td>male</td>\n      <td>Mark Hammond</td>\n      <td>1969-02-02</td>\n      <td>True</td>\n      <td>[italian, french]</td>\n      <td>30</td>\n      <td>master</td>\n      <td>Transport planner</td>\n      <td>[music]</td>\n      <td>{'lat': 40.36699713437984, 'lon': 18.165786470...</td>\n      <td>3</td>\n    </tr>\n    <tr>\n      <th>36</th>\n      <td>male</td>\n      <td>Robert Harrington</td>\n      <td>1962-12-11</td>\n      <td>True</td>\n      <td>[spanish]</td>\n      <td>26</td>\n      <td>phd</td>\n      <td>Software engineer</td>\n      <td>[]</td>\n      <td>{'lat': 40.358649720289904, 'lon': 18.16378056...</td>\n      <td>9</td>\n    </tr>\n    <tr>\n      <th>37</th>\n      <td>male</td>\n      <td>Gabriel Jacobson</td>\n      <td>1969-04-22</td>\n      <td>True</td>\n      <td>[dutch]</td>\n      <td>26</td>\n      <td>master</td>\n      <td>Product designer</td>\n      <td>[]</td>\n      <td>{'lat': 40.3604075695112, 'lon': 18.1615738690...</td>\n      <td>2</td>\n    </tr>\n    <tr>\n      <th>38</th>\n      <td>female</td>\n      <td>Joann Sweeney</td>\n      <td>1998-11-24</td>\n      <td>True</td>\n      <td>[italian]</td>\n      <td>28</td>\n      <td>master</td>\n      <td>Child psychotherapist</td>\n      <td>[]</td>\n      <td>{'lat': 40.36497247240833, 'lon': 18.173581152...</td>\n      <td>1</td>\n    </tr>\n    <tr>\n      <th>39</th>\n      <td>female</td>\n      <td>Nancy Clark</td>\n      <td>1968-12-21</td>\n      <td>True</td>\n      <td>[spanish, dutch]</td>\n      <td>26</td>\n      <td>middle-school</td>\n      <td>Producer, television/film/video</td>\n      <td>[history]</td>\n      <td>{'lat': 40.35901486939172, 'lon': 18.166553513...</td>\n      <td>4</td>\n    </tr>\n  </tbody>\n</table>\n</div>"
     },
     "execution_count": 12,
     "metadata": {},
     "output_type": "execute_result"
    }
   ],
   "source": [
    "guide_df = pd.DataFrame(guides)\n",
    "guide_df"
   ]
  },
  {
   "cell_type": "code",
   "execution_count": 13,
   "id": "01df0e70",
   "metadata": {
    "pycharm": {
     "name": "#%%\n"
    }
   },
   "outputs": [
    {
     "data": {
      "text/plain": "gender              object\nname                object\nbirth_date          object\nnow_available         bool\nlanguages_spoken    object\nprice                int64\neducation           object\nbiography           object\nkeywords            object\ncurrent_location    object\nexperience           int64\ndtype: object"
     },
     "execution_count": 13,
     "metadata": {},
     "output_type": "execute_result"
    }
   ],
   "source": [
    "guide_df.dtypes"
   ]
  },
  {
   "cell_type": "code",
   "execution_count": 14,
   "id": "0e687b6b",
   "metadata": {
    "pycharm": {
     "name": "#%%\n"
    }
   },
   "outputs": [
    {
     "data": {
      "text/plain": "       languages                   keywords\n0    [bulgarian]                   [cinema]\n1     [deutsche]                         []\n2      [spanish]         [rafting, museums]\n3     [deutsche]    [cinema, history, food]\n4      [chinese]            [wine, rafting]\n..           ...                        ...\n195     [french]                   [cinema]\n196      [dutch]  [food, tracking, history]\n197      [dutch]    [museums, art, history]\n198    [italian]      [rafting, literature]\n199    [spanish]  [countryside, archeology]\n\n[200 rows x 2 columns]",
      "text/html": "<div>\n<style scoped>\n    .dataframe tbody tr th:only-of-type {\n        vertical-align: middle;\n    }\n\n    .dataframe tbody tr th {\n        vertical-align: top;\n    }\n\n    .dataframe thead th {\n        text-align: right;\n    }\n</style>\n<table border=\"1\" class=\"dataframe\">\n  <thead>\n    <tr style=\"text-align: right;\">\n      <th></th>\n      <th>languages</th>\n      <th>keywords</th>\n    </tr>\n  </thead>\n  <tbody>\n    <tr>\n      <th>0</th>\n      <td>[bulgarian]</td>\n      <td>[cinema]</td>\n    </tr>\n    <tr>\n      <th>1</th>\n      <td>[deutsche]</td>\n      <td>[]</td>\n    </tr>\n    <tr>\n      <th>2</th>\n      <td>[spanish]</td>\n      <td>[rafting, museums]</td>\n    </tr>\n    <tr>\n      <th>3</th>\n      <td>[deutsche]</td>\n      <td>[cinema, history, food]</td>\n    </tr>\n    <tr>\n      <th>4</th>\n      <td>[chinese]</td>\n      <td>[wine, rafting]</td>\n    </tr>\n    <tr>\n      <th>...</th>\n      <td>...</td>\n      <td>...</td>\n    </tr>\n    <tr>\n      <th>195</th>\n      <td>[french]</td>\n      <td>[cinema]</td>\n    </tr>\n    <tr>\n      <th>196</th>\n      <td>[dutch]</td>\n      <td>[food, tracking, history]</td>\n    </tr>\n    <tr>\n      <th>197</th>\n      <td>[dutch]</td>\n      <td>[museums, art, history]</td>\n    </tr>\n    <tr>\n      <th>198</th>\n      <td>[italian]</td>\n      <td>[rafting, literature]</td>\n    </tr>\n    <tr>\n      <th>199</th>\n      <td>[spanish]</td>\n      <td>[countryside, archeology]</td>\n    </tr>\n  </tbody>\n</table>\n<p>200 rows × 2 columns</p>\n</div>"
     },
     "execution_count": 14,
     "metadata": {},
     "output_type": "execute_result"
    }
   ],
   "source": [
    "tourist_df = pd.DataFrame(tourists)\n",
    "tourist_df"
   ]
  },
  {
   "cell_type": "code",
   "execution_count": 15,
   "id": "c81d7628",
   "metadata": {
    "pycharm": {
     "name": "#%%\n"
    }
   },
   "outputs": [],
   "source": [
    "rating_df = pd.DataFrame(ratings)"
   ]
  },
  {
   "cell_type": "code",
   "execution_count": 16,
   "id": "7b384e4c",
   "metadata": {
    "pycharm": {
     "name": "#%%\n"
    },
    "scrolled": true
   },
   "outputs": [
    {
     "data": {
      "text/plain": "       0   1    2\n0      0  32  5.0\n1      0  10  4.0\n2      1  20  5.0\n3      1  15  4.0\n4      2  34  4.0\n..   ...  ..  ...\n300  195  14  4.0\n301  196  18  3.0\n302  197   5  4.0\n303  198  18  4.0\n304  199  34  4.0\n\n[305 rows x 3 columns]",
      "text/html": "<div>\n<style scoped>\n    .dataframe tbody tr th:only-of-type {\n        vertical-align: middle;\n    }\n\n    .dataframe tbody tr th {\n        vertical-align: top;\n    }\n\n    .dataframe thead th {\n        text-align: right;\n    }\n</style>\n<table border=\"1\" class=\"dataframe\">\n  <thead>\n    <tr style=\"text-align: right;\">\n      <th></th>\n      <th>0</th>\n      <th>1</th>\n      <th>2</th>\n    </tr>\n  </thead>\n  <tbody>\n    <tr>\n      <th>0</th>\n      <td>0</td>\n      <td>32</td>\n      <td>5.0</td>\n    </tr>\n    <tr>\n      <th>1</th>\n      <td>0</td>\n      <td>10</td>\n      <td>4.0</td>\n    </tr>\n    <tr>\n      <th>2</th>\n      <td>1</td>\n      <td>20</td>\n      <td>5.0</td>\n    </tr>\n    <tr>\n      <th>3</th>\n      <td>1</td>\n      <td>15</td>\n      <td>4.0</td>\n    </tr>\n    <tr>\n      <th>4</th>\n      <td>2</td>\n      <td>34</td>\n      <td>4.0</td>\n    </tr>\n    <tr>\n      <th>...</th>\n      <td>...</td>\n      <td>...</td>\n      <td>...</td>\n    </tr>\n    <tr>\n      <th>300</th>\n      <td>195</td>\n      <td>14</td>\n      <td>4.0</td>\n    </tr>\n    <tr>\n      <th>301</th>\n      <td>196</td>\n      <td>18</td>\n      <td>3.0</td>\n    </tr>\n    <tr>\n      <th>302</th>\n      <td>197</td>\n      <td>5</td>\n      <td>4.0</td>\n    </tr>\n    <tr>\n      <th>303</th>\n      <td>198</td>\n      <td>18</td>\n      <td>4.0</td>\n    </tr>\n    <tr>\n      <th>304</th>\n      <td>199</td>\n      <td>34</td>\n      <td>4.0</td>\n    </tr>\n  </tbody>\n</table>\n<p>305 rows × 3 columns</p>\n</div>"
     },
     "execution_count": 16,
     "metadata": {},
     "output_type": "execute_result"
    }
   ],
   "source": [
    "rating_df"
   ]
  },
  {
   "cell_type": "code",
   "execution_count": 17,
   "id": "3f2aa1b2",
   "metadata": {
    "pycharm": {
     "name": "#%%\n"
    }
   },
   "outputs": [],
   "source": [
    "tourist_df.to_csv(\"Data/tourists_{:d}.csv\".format(n_tourists), index=True, sep=';')\n",
    "guide_df.to_csv(\"Data/guides_{:d}.csv\".format(n_guides), index=True, sep=';')\n",
    "rating_df.to_csv('Data/ratings_{:d}_{:d}.csv'.format(n_tourists,n_guides), index=False, sep=';')"
   ]
  },
  {
   "cell_type": "code",
   "execution_count": null,
   "id": "7a2d7881",
   "metadata": {
    "pycharm": {
     "name": "#%%\n"
    }
   },
   "outputs": [],
   "source": []
  }
 ],
 "metadata": {
  "kernelspec": {
   "display_name": "Python 3 (ipykernel)",
   "language": "python",
   "name": "python3"
  },
  "language_info": {
   "codemirror_mode": {
    "name": "ipython",
    "version": 3
   },
   "file_extension": ".py",
   "mimetype": "text/x-python",
   "name": "python",
   "nbconvert_exporter": "python",
   "pygments_lexer": "ipython3",
   "version": "3.9.12"
  }
 },
 "nbformat": 4,
 "nbformat_minor": 5
}
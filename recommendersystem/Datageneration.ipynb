{
 "cells": [
  {
   "cell_type": "markdown",
   "id": "89749ce3",
   "metadata": {
    "pycharm": {
     "name": "#%% md\n"
    }
   },
   "source": [
    "# Fake data generation"
   ]
  },
  {
   "cell_type": "code",
   "execution_count": 3,
   "id": "5c93a1fc",
   "metadata": {
    "pycharm": {
     "name": "#%%\n"
    }
   },
   "outputs": [],
   "source": [
    "from faker import Faker\n",
    "import numpy as np\n",
    "import pandas as pd\n",
    "import random"
   ]
  },
  {
   "cell_type": "code",
   "execution_count": 4,
   "id": "cc09c43b",
   "metadata": {
    "pycharm": {
     "name": "#%%\n"
    }
   },
   "outputs": [],
   "source": [
    "# Set random seed\n",
    "seed = 666\n",
    "\n",
    "random.seed(seed)\n",
    "faker = Faker(seed=seed)\n",
    "np.random.seed(seed)"
   ]
  },
  {
   "cell_type": "markdown",
   "id": "3bfef33e-2126-4c93-8a5a-62463c6e1fe5",
   "metadata": {},
   "source": [
    "## Attributes definition"
   ]
  },
  {
   "cell_type": "code",
   "execution_count": 5,
   "id": "e1dfa18e",
   "metadata": {
    "collapsed": false,
    "jupyter": {
     "outputs_hidden": false
    },
    "pycharm": {
     "name": "#%%\n"
    }
   },
   "outputs": [],
   "source": [
    "languages = ['english', 'italian', 'french', 'spanish', 'deutsche', 'dutch', 'bulgarian', 'chinese']"
   ]
  },
  {
   "cell_type": "code",
   "execution_count": 6,
   "id": "e7c9b79e",
   "metadata": {
    "pycharm": {
     "name": "#%%\n"
    }
   },
   "outputs": [],
   "source": [
    "keywords = [\n",
    "    'archeology',\n",
    "    'museums',\n",
    "    'music',\n",
    "    'art',\n",
    "    'cinema',\n",
    "    'countryside',\n",
    "    'tracking',\n",
    "    'rafting',\n",
    "    'history',\n",
    "    'literature',\n",
    "    'sport',\n",
    "    'food',\n",
    "    'wine',\n",
    "    'beer'\n",
    "]"
   ]
  },
  {
   "cell_type": "code",
   "execution_count": 7,
   "id": "3695b5d5",
   "metadata": {
    "collapsed": false,
    "jupyter": {
     "outputs_hidden": false
    },
    "pycharm": {
     "name": "#%%\n"
    }
   },
   "outputs": [],
   "source": [
    "education = ['middle-school', 'high-school', 'bachelor', 'master', 'phd']"
   ]
  },
  {
   "cell_type": "markdown",
   "id": "3694639f-b29f-45ec-9444-c897cfa39366",
   "metadata": {},
   "source": [
    "## Data generation functions"
   ]
  },
  {
   "cell_type": "code",
   "execution_count": 8,
   "id": "c7159655",
   "metadata": {
    "pycharm": {
     "name": "#%%\n"
    }
   },
   "outputs": [],
   "source": [
    "# guide profile generation\n",
    "def generate_guide():\n",
    "    \n",
    "    guide = {}\n",
    "    \n",
    "    guide['gender'] = np.random.choice(['male', 'female'], size=1).item()\n",
    "    guide['name'] = (faker.first_name_male() if guide['gender'] == 'male' else faker.first_name_female()) + ' ' + faker.last_name()\n",
    "    guide['birth_date'] = faker.date_of_birth(maximum_age=65, minimum_age=20)\n",
    "    guide['now_available'] = True\n",
    "    guide['languages_spoken'] = list(np.random.choice(languages, size=1+np.random.poisson(lam=1, size=1).item(), replace=False))\n",
    "    guide['price'] = int(max(10, np.abs(np.random.normal(30, 5))))\n",
    "    guide['education'] = np.random.choice(education, size=1).item()\n",
    "    guide['biography'] = faker.profile()['job']\n",
    "    guide['keywords'] = list(np.random.choice(keywords, size=np.random.poisson(2, size=1).item(), replace=False))\n",
    "    guide['current_location'] = {\n",
    "        \"lat\": np.random.normal(40.3524, 0.01),\n",
    "        \"lon\": np.random.normal(18.1732, 0.01)\n",
    "    }\n",
    "    guide['experience'] = random.randint(1,2024-guide['birth_date'].year-18)\n",
    "    \n",
    "    return guide"
   ]
  },
  {
   "cell_type": "code",
   "execution_count": 9,
   "id": "64ea26af",
   "metadata": {
    "pycharm": {
     "name": "#%%\n"
    }
   },
   "outputs": [],
   "source": [
    "# user profile generation\n",
    "def generate_tourist():\n",
    "\n",
    "    tourist = {}\n",
    "\n",
    "    tourist['languages'] = list(np.random.choice(languages, size=1, replace=False))\n",
    "    tourist['keywords'] = list(np.random.choice(keywords, size=np.random.poisson(2, size=1).item(), replace=False))\n",
    "    \n",
    "    return tourist"
   ]
  },
  {
   "cell_type": "code",
   "execution_count": 10,
   "id": "7c5ba6e1",
   "metadata": {
    "pycharm": {
     "name": "#%%\n"
    }
   },
   "outputs": [],
   "source": [
    "import random \n",
    "\n",
    "# rating generation\n",
    "def generate_rating (tourists, guides):\n",
    "    ratings = []\n",
    "    for i in range(len(tourists)):\n",
    "        \n",
    "        # random choose guides from intersection of languages\n",
    "        intersect_guides = [index for index in range(len(guides)) if np.all(np.in1d(tourists[i]['languages'], guides[index]['languages_spoken']))]\n",
    "        other_guides = [index for index in range(len(guides)) if index not in intersect_guides]\n",
    "        \n",
    "        # random choose 3 guides without duplicates\n",
    "        random_guides = np.random.choice(intersect_guides,2, replace=False)\n",
    "        random_guide = np.random.choice(other_guides,1)\n",
    "        \n",
    "        # random choose 1 or 2 guides to rate\n",
    "        for j in range(np.random.randint(1,3)):\n",
    "\n",
    "            rating = round(np.random.normal(loc=4, scale=0.5, size=1).item(),0)\n",
    "            ratings.append((i,random_guides[j],rating))\n",
    "\n",
    "#         # random choose if rate badly\n",
    "# #        if(np.random.binomial(1, 0.2)):\n",
    "#             bad_rating = round(np.random.normal(loc=1.5, scale=0.3, size=1).item(),0)\n",
    "#             # rate the last guide with bad rating\n",
    "#             ratings.append((i,random_guide[0],bad_rating))\n",
    "#\n",
    "    return ratings"
   ]
  },
  {
   "cell_type": "markdown",
   "id": "a28cd32b",
   "metadata": {
    "pycharm": {
     "name": "#%% md\n"
    }
   },
   "source": [
    "## Dataset generation"
   ]
  },
  {
   "cell_type": "code",
   "execution_count": 11,
   "id": "5a79c4f2",
   "metadata": {
    "pycharm": {
     "name": "#%%\n"
    }
   },
   "outputs": [],
   "source": [
    "# number of users (tourists and guides) \n",
    "n_tourists = 200\n",
    "n_guides = 40"
   ]
  },
  {
   "cell_type": "code",
   "execution_count": 12,
   "id": "fec71d08",
   "metadata": {
    "pycharm": {
     "name": "#%%\n"
    }
   },
   "outputs": [],
   "source": [
    "# generating user profiles\n",
    "guides = [generate_guide() for _ in range(n_guides)]\n",
    "tourists = [generate_tourist() for _ in range(n_tourists)]"
   ]
  },
  {
   "cell_type": "code",
   "execution_count": 13,
   "id": "513e427d",
   "metadata": {
    "pycharm": {
     "name": "#%%\n"
    }
   },
   "outputs": [],
   "source": [
    "# randomly generate ratings given by tourists to guides\n",
    "ratings = generate_rating(tourists,guides)"
   ]
  },
  {
   "cell_type": "markdown",
   "id": "a3cdcf8a",
   "metadata": {
    "pycharm": {
     "name": "#%% md\n"
    }
   },
   "source": [
    "### Dataframes creation"
   ]
  },
  {
   "cell_type": "code",
   "execution_count": 14,
   "id": "d0484a7d",
   "metadata": {
    "pycharm": {
     "name": "#%%\n"
    }
   },
   "outputs": [
    {
     "data": {
      "text/html": [
       "<div>\n",
       "<style scoped>\n",
       "    .dataframe tbody tr th:only-of-type {\n",
       "        vertical-align: middle;\n",
       "    }\n",
       "\n",
       "    .dataframe tbody tr th {\n",
       "        vertical-align: top;\n",
       "    }\n",
       "\n",
       "    .dataframe thead th {\n",
       "        text-align: right;\n",
       "    }\n",
       "</style>\n",
       "<table border=\"1\" class=\"dataframe\">\n",
       "  <thead>\n",
       "    <tr style=\"text-align: right;\">\n",
       "      <th></th>\n",
       "      <th>gender</th>\n",
       "      <th>name</th>\n",
       "      <th>birth_date</th>\n",
       "      <th>now_available</th>\n",
       "      <th>languages_spoken</th>\n",
       "      <th>price</th>\n",
       "      <th>education</th>\n",
       "      <th>biography</th>\n",
       "      <th>keywords</th>\n",
       "      <th>current_location</th>\n",
       "      <th>experience</th>\n",
       "    </tr>\n",
       "  </thead>\n",
       "  <tbody>\n",
       "    <tr>\n",
       "      <th>0</th>\n",
       "      <td>male</td>\n",
       "      <td>Kevin Rodriguez</td>\n",
       "      <td>1967-11-01</td>\n",
       "      <td>True</td>\n",
       "      <td>[english]</td>\n",
       "      <td>25</td>\n",
       "      <td>high-school</td>\n",
       "      <td>Engineer, manufacturing</td>\n",
       "      <td>[museums]</td>\n",
       "      <td>{'lat': 40.342693584880706, 'lon': 18.16438078...</td>\n",
       "      <td>30</td>\n",
       "    </tr>\n",
       "    <tr>\n",
       "      <th>1</th>\n",
       "      <td>female</td>\n",
       "      <td>Diana Barnes</td>\n",
       "      <td>1965-09-19</td>\n",
       "      <td>True</td>\n",
       "      <td>[italian, dutch]</td>\n",
       "      <td>36</td>\n",
       "      <td>middle-school</td>\n",
       "      <td>Animal technologist</td>\n",
       "      <td>[cinema, rafting, history, wine]</td>\n",
       "      <td>{'lat': 40.3367551413547, 'lon': 18.1569120995...</td>\n",
       "      <td>25</td>\n",
       "    </tr>\n",
       "    <tr>\n",
       "      <th>2</th>\n",
       "      <td>female</td>\n",
       "      <td>Kristin Rogers</td>\n",
       "      <td>1978-10-12</td>\n",
       "      <td>True</td>\n",
       "      <td>[chinese, french, english]</td>\n",
       "      <td>34</td>\n",
       "      <td>phd</td>\n",
       "      <td>Editor, commissioning</td>\n",
       "      <td>[food, archeology, art]</td>\n",
       "      <td>{'lat': 40.362447049660204, 'lon': 18.14225129...</td>\n",
       "      <td>14</td>\n",
       "    </tr>\n",
       "    <tr>\n",
       "      <th>3</th>\n",
       "      <td>male</td>\n",
       "      <td>Jeremy Bowman</td>\n",
       "      <td>1992-05-30</td>\n",
       "      <td>True</td>\n",
       "      <td>[bulgarian]</td>\n",
       "      <td>46</td>\n",
       "      <td>bachelor</td>\n",
       "      <td>Retail banker</td>\n",
       "      <td>[countryside, rafting, art]</td>\n",
       "      <td>{'lat': 40.36584086550253, 'lon': 18.183002910...</td>\n",
       "      <td>5</td>\n",
       "    </tr>\n",
       "    <tr>\n",
       "      <th>4</th>\n",
       "      <td>male</td>\n",
       "      <td>Justin Lynch</td>\n",
       "      <td>1976-12-24</td>\n",
       "      <td>True</td>\n",
       "      <td>[deutsche, french]</td>\n",
       "      <td>30</td>\n",
       "      <td>master</td>\n",
       "      <td>Secondary school teacher</td>\n",
       "      <td>[countryside, tracking, beer]</td>\n",
       "      <td>{'lat': 40.354724889812935, 'lon': 18.20308322...</td>\n",
       "      <td>17</td>\n",
       "    </tr>\n",
       "    <tr>\n",
       "      <th>5</th>\n",
       "      <td>male</td>\n",
       "      <td>Charles Dunn</td>\n",
       "      <td>1988-06-19</td>\n",
       "      <td>True</td>\n",
       "      <td>[deutsche, dutch, bulgarian]</td>\n",
       "      <td>27</td>\n",
       "      <td>middle-school</td>\n",
       "      <td>Oncologist</td>\n",
       "      <td>[]</td>\n",
       "      <td>{'lat': 40.35854623058413, 'lon': 18.183459879...</td>\n",
       "      <td>1</td>\n",
       "    </tr>\n",
       "    <tr>\n",
       "      <th>6</th>\n",
       "      <td>male</td>\n",
       "      <td>Mitchell Duncan</td>\n",
       "      <td>1987-12-29</td>\n",
       "      <td>True</td>\n",
       "      <td>[english, chinese, french]</td>\n",
       "      <td>34</td>\n",
       "      <td>middle-school</td>\n",
       "      <td>Analytical chemist</td>\n",
       "      <td>[rafting, art, sport]</td>\n",
       "      <td>{'lat': 40.35774331848761, 'lon': 18.163273185...</td>\n",
       "      <td>18</td>\n",
       "    </tr>\n",
       "    <tr>\n",
       "      <th>7</th>\n",
       "      <td>male</td>\n",
       "      <td>Charles Clarke</td>\n",
       "      <td>1990-07-17</td>\n",
       "      <td>True</td>\n",
       "      <td>[spanish, dutch, french, italian]</td>\n",
       "      <td>33</td>\n",
       "      <td>bachelor</td>\n",
       "      <td>Associate Professor</td>\n",
       "      <td>[museums, art, countryside, wine]</td>\n",
       "      <td>{'lat': 40.365193043282794, 'lon': 18.18548169...</td>\n",
       "      <td>11</td>\n",
       "    </tr>\n",
       "    <tr>\n",
       "      <th>8</th>\n",
       "      <td>male</td>\n",
       "      <td>Scott Sawyer</td>\n",
       "      <td>1992-06-10</td>\n",
       "      <td>True</td>\n",
       "      <td>[bulgarian, english, chinese]</td>\n",
       "      <td>31</td>\n",
       "      <td>middle-school</td>\n",
       "      <td>Theatre manager</td>\n",
       "      <td>[literature, cinema, music]</td>\n",
       "      <td>{'lat': 40.35265552781134, 'lon': 18.151723396...</td>\n",
       "      <td>2</td>\n",
       "    </tr>\n",
       "    <tr>\n",
       "      <th>9</th>\n",
       "      <td>male</td>\n",
       "      <td>Joseph Bradford</td>\n",
       "      <td>2004-04-17</td>\n",
       "      <td>True</td>\n",
       "      <td>[chinese, bulgarian, dutch, english]</td>\n",
       "      <td>37</td>\n",
       "      <td>phd</td>\n",
       "      <td>Therapist, occupational</td>\n",
       "      <td>[museums]</td>\n",
       "      <td>{'lat': 40.33774657696426, 'lon': 18.182064664...</td>\n",
       "      <td>1</td>\n",
       "    </tr>\n",
       "  </tbody>\n",
       "</table>\n",
       "</div>"
      ],
      "text/plain": [
       "   gender             name  birth_date  now_available  \\\n",
       "0    male  Kevin Rodriguez  1967-11-01           True   \n",
       "1  female     Diana Barnes  1965-09-19           True   \n",
       "2  female   Kristin Rogers  1978-10-12           True   \n",
       "3    male    Jeremy Bowman  1992-05-30           True   \n",
       "4    male     Justin Lynch  1976-12-24           True   \n",
       "5    male     Charles Dunn  1988-06-19           True   \n",
       "6    male  Mitchell Duncan  1987-12-29           True   \n",
       "7    male   Charles Clarke  1990-07-17           True   \n",
       "8    male     Scott Sawyer  1992-06-10           True   \n",
       "9    male  Joseph Bradford  2004-04-17           True   \n",
       "\n",
       "                       languages_spoken  price      education  \\\n",
       "0                             [english]     25    high-school   \n",
       "1                      [italian, dutch]     36  middle-school   \n",
       "2            [chinese, french, english]     34            phd   \n",
       "3                           [bulgarian]     46       bachelor   \n",
       "4                    [deutsche, french]     30         master   \n",
       "5          [deutsche, dutch, bulgarian]     27  middle-school   \n",
       "6            [english, chinese, french]     34  middle-school   \n",
       "7     [spanish, dutch, french, italian]     33       bachelor   \n",
       "8         [bulgarian, english, chinese]     31  middle-school   \n",
       "9  [chinese, bulgarian, dutch, english]     37            phd   \n",
       "\n",
       "                  biography                           keywords  \\\n",
       "0   Engineer, manufacturing                          [museums]   \n",
       "1       Animal technologist   [cinema, rafting, history, wine]   \n",
       "2     Editor, commissioning            [food, archeology, art]   \n",
       "3             Retail banker        [countryside, rafting, art]   \n",
       "4  Secondary school teacher      [countryside, tracking, beer]   \n",
       "5                Oncologist                                 []   \n",
       "6        Analytical chemist              [rafting, art, sport]   \n",
       "7       Associate Professor  [museums, art, countryside, wine]   \n",
       "8           Theatre manager        [literature, cinema, music]   \n",
       "9   Therapist, occupational                          [museums]   \n",
       "\n",
       "                                    current_location  experience  \n",
       "0  {'lat': 40.342693584880706, 'lon': 18.16438078...          30  \n",
       "1  {'lat': 40.3367551413547, 'lon': 18.1569120995...          25  \n",
       "2  {'lat': 40.362447049660204, 'lon': 18.14225129...          14  \n",
       "3  {'lat': 40.36584086550253, 'lon': 18.183002910...           5  \n",
       "4  {'lat': 40.354724889812935, 'lon': 18.20308322...          17  \n",
       "5  {'lat': 40.35854623058413, 'lon': 18.183459879...           1  \n",
       "6  {'lat': 40.35774331848761, 'lon': 18.163273185...          18  \n",
       "7  {'lat': 40.365193043282794, 'lon': 18.18548169...          11  \n",
       "8  {'lat': 40.35265552781134, 'lon': 18.151723396...           2  \n",
       "9  {'lat': 40.33774657696426, 'lon': 18.182064664...           1  "
      ]
     },
     "execution_count": 14,
     "metadata": {},
     "output_type": "execute_result"
    }
   ],
   "source": [
    "guide_df = pd.DataFrame(guides)\n",
    "# viewing first 10 guides\n",
    "guide_df[:10]"
   ]
  },
  {
   "cell_type": "code",
   "execution_count": 28,
   "id": "c81d7628",
   "metadata": {
    "pycharm": {
     "name": "#%%\n"
    }
   },
   "outputs": [
    {
     "data": {
      "text/html": [
       "<div>\n",
       "<style scoped>\n",
       "    .dataframe tbody tr th:only-of-type {\n",
       "        vertical-align: middle;\n",
       "    }\n",
       "\n",
       "    .dataframe tbody tr th {\n",
       "        vertical-align: top;\n",
       "    }\n",
       "\n",
       "    .dataframe thead th {\n",
       "        text-align: right;\n",
       "    }\n",
       "</style>\n",
       "<table border=\"1\" class=\"dataframe\">\n",
       "  <thead>\n",
       "    <tr style=\"text-align: right;\">\n",
       "      <th></th>\n",
       "      <th>tourist_id</th>\n",
       "      <th>guide_id</th>\n",
       "      <th>rating</th>\n",
       "    </tr>\n",
       "  </thead>\n",
       "  <tbody>\n",
       "    <tr>\n",
       "      <th>0</th>\n",
       "      <td>0</td>\n",
       "      <td>32</td>\n",
       "      <td>5.0</td>\n",
       "    </tr>\n",
       "    <tr>\n",
       "      <th>1</th>\n",
       "      <td>0</td>\n",
       "      <td>10</td>\n",
       "      <td>4.0</td>\n",
       "    </tr>\n",
       "    <tr>\n",
       "      <th>2</th>\n",
       "      <td>1</td>\n",
       "      <td>20</td>\n",
       "      <td>5.0</td>\n",
       "    </tr>\n",
       "    <tr>\n",
       "      <th>3</th>\n",
       "      <td>1</td>\n",
       "      <td>15</td>\n",
       "      <td>4.0</td>\n",
       "    </tr>\n",
       "    <tr>\n",
       "      <th>4</th>\n",
       "      <td>2</td>\n",
       "      <td>34</td>\n",
       "      <td>4.0</td>\n",
       "    </tr>\n",
       "    <tr>\n",
       "      <th>...</th>\n",
       "      <td>...</td>\n",
       "      <td>...</td>\n",
       "      <td>...</td>\n",
       "    </tr>\n",
       "    <tr>\n",
       "      <th>300</th>\n",
       "      <td>195</td>\n",
       "      <td>14</td>\n",
       "      <td>4.0</td>\n",
       "    </tr>\n",
       "    <tr>\n",
       "      <th>301</th>\n",
       "      <td>196</td>\n",
       "      <td>18</td>\n",
       "      <td>3.0</td>\n",
       "    </tr>\n",
       "    <tr>\n",
       "      <th>302</th>\n",
       "      <td>197</td>\n",
       "      <td>5</td>\n",
       "      <td>4.0</td>\n",
       "    </tr>\n",
       "    <tr>\n",
       "      <th>303</th>\n",
       "      <td>198</td>\n",
       "      <td>18</td>\n",
       "      <td>4.0</td>\n",
       "    </tr>\n",
       "    <tr>\n",
       "      <th>304</th>\n",
       "      <td>199</td>\n",
       "      <td>34</td>\n",
       "      <td>4.0</td>\n",
       "    </tr>\n",
       "  </tbody>\n",
       "</table>\n",
       "<p>305 rows × 3 columns</p>\n",
       "</div>"
      ],
      "text/plain": [
       "     tourist_id  guide_id  rating\n",
       "0             0        32     5.0\n",
       "1             0        10     4.0\n",
       "2             1        20     5.0\n",
       "3             1        15     4.0\n",
       "4             2        34     4.0\n",
       "..          ...       ...     ...\n",
       "300         195        14     4.0\n",
       "301         196        18     3.0\n",
       "302         197         5     4.0\n",
       "303         198        18     4.0\n",
       "304         199        34     4.0\n",
       "\n",
       "[305 rows x 3 columns]"
      ]
     },
     "execution_count": 28,
     "metadata": {},
     "output_type": "execute_result"
    }
   ],
   "source": [
    "rating_df = pd.DataFrame(ratings)\n",
    "rating_df.rename(columns={rating_df.columns[0]: 'tourist_id',rating_df.columns[1]: 'guide_id',rating_df.columns[2]: 'rating'}, inplace=False)"
   ]
  },
  {
   "cell_type": "code",
   "execution_count": 15,
   "id": "0e687b6b",
   "metadata": {
    "pycharm": {
     "name": "#%%\n"
    }
   },
   "outputs": [
    {
     "data": {
      "text/html": [
       "<div>\n",
       "<style scoped>\n",
       "    .dataframe tbody tr th:only-of-type {\n",
       "        vertical-align: middle;\n",
       "    }\n",
       "\n",
       "    .dataframe tbody tr th {\n",
       "        vertical-align: top;\n",
       "    }\n",
       "\n",
       "    .dataframe thead th {\n",
       "        text-align: right;\n",
       "    }\n",
       "</style>\n",
       "<table border=\"1\" class=\"dataframe\">\n",
       "  <thead>\n",
       "    <tr style=\"text-align: right;\">\n",
       "      <th></th>\n",
       "      <th>languages</th>\n",
       "      <th>keywords</th>\n",
       "    </tr>\n",
       "  </thead>\n",
       "  <tbody>\n",
       "    <tr>\n",
       "      <th>0</th>\n",
       "      <td>[bulgarian]</td>\n",
       "      <td>[cinema]</td>\n",
       "    </tr>\n",
       "    <tr>\n",
       "      <th>1</th>\n",
       "      <td>[deutsche]</td>\n",
       "      <td>[]</td>\n",
       "    </tr>\n",
       "    <tr>\n",
       "      <th>2</th>\n",
       "      <td>[spanish]</td>\n",
       "      <td>[rafting, museums]</td>\n",
       "    </tr>\n",
       "    <tr>\n",
       "      <th>3</th>\n",
       "      <td>[deutsche]</td>\n",
       "      <td>[cinema, history, food]</td>\n",
       "    </tr>\n",
       "    <tr>\n",
       "      <th>4</th>\n",
       "      <td>[chinese]</td>\n",
       "      <td>[wine, rafting]</td>\n",
       "    </tr>\n",
       "    <tr>\n",
       "      <th>5</th>\n",
       "      <td>[italian]</td>\n",
       "      <td>[literature, museums, countryside]</td>\n",
       "    </tr>\n",
       "    <tr>\n",
       "      <th>6</th>\n",
       "      <td>[bulgarian]</td>\n",
       "      <td>[music]</td>\n",
       "    </tr>\n",
       "    <tr>\n",
       "      <th>7</th>\n",
       "      <td>[chinese]</td>\n",
       "      <td>[wine, museums, literature]</td>\n",
       "    </tr>\n",
       "    <tr>\n",
       "      <th>8</th>\n",
       "      <td>[chinese]</td>\n",
       "      <td>[food, countryside, archeology]</td>\n",
       "    </tr>\n",
       "    <tr>\n",
       "      <th>9</th>\n",
       "      <td>[spanish]</td>\n",
       "      <td>[history]</td>\n",
       "    </tr>\n",
       "  </tbody>\n",
       "</table>\n",
       "</div>"
      ],
      "text/plain": [
       "     languages                            keywords\n",
       "0  [bulgarian]                            [cinema]\n",
       "1   [deutsche]                                  []\n",
       "2    [spanish]                  [rafting, museums]\n",
       "3   [deutsche]             [cinema, history, food]\n",
       "4    [chinese]                     [wine, rafting]\n",
       "5    [italian]  [literature, museums, countryside]\n",
       "6  [bulgarian]                             [music]\n",
       "7    [chinese]         [wine, museums, literature]\n",
       "8    [chinese]     [food, countryside, archeology]\n",
       "9    [spanish]                           [history]"
      ]
     },
     "execution_count": 15,
     "metadata": {},
     "output_type": "execute_result"
    }
   ],
   "source": [
    "tourist_df = pd.DataFrame(tourists)\n",
    "# viewing first 10 tourists\n",
    "tourist_df[:10]"
   ]
  },
  {
   "cell_type": "markdown",
   "id": "4416ab04-092c-4eb3-8bd4-73513252e04c",
   "metadata": {},
   "source": [
    "Generate files in format .csv"
   ]
  },
  {
   "cell_type": "code",
   "execution_count": 17,
   "id": "3f2aa1b2",
   "metadata": {
    "pycharm": {
     "name": "#%%\n"
    }
   },
   "outputs": [],
   "source": [
    "# saving dataframes to files for later use\n",
    "tourist_df.to_csv(\"Data/tourists_{:d}.csv\".format(n_tourists), index=True, sep=';')\n",
    "guide_df.to_csv(\"Data/guides_{:d}.csv\".format(n_guides), index=True, sep=';')\n",
    "rating_df.to_csv('Data/ratings_{:d}_{:d}.csv'.format(n_tourists,n_guides), index=False, sep=';')"
   ]
  }
 ],
 "metadata": {
  "kernelspec": {
   "display_name": "Python 3 (ipykernel)",
   "language": "python",
   "name": "python3"
  },
  "language_info": {
   "codemirror_mode": {
    "name": "ipython",
    "version": 3
   },
   "file_extension": ".py",
   "mimetype": "text/x-python",
   "name": "python",
   "nbconvert_exporter": "python",
   "pygments_lexer": "ipython3",
   "version": "3.11.5"
  }
 },
 "nbformat": 4,
 "nbformat_minor": 5
}
